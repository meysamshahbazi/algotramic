{
 "cells": [
  {
   "cell_type": "code",
   "execution_count": 1,
   "id": "ec6d40cf",
   "metadata": {},
   "outputs": [],
   "source": [
    "import pandas as pd\n",
    "import datetime as dt\n",
    "import plotly.graph_objects as go\n",
    "from technicals.indicators import *\n",
    "from technicals.patterns import apply_patterns\n",
    "from technicals.patternsInRange import apply_patterns_in_range\n",
    "from guruTester import GuruTester,GuruTester2\n",
    "from plotting import CandlePlot\n",
    "import MetaTrader5 as mt5\n",
    "from datetime import datetime\n",
    "from getCandle import Rates\n",
    "from sklearn.neural_network import MLPClassifier\n",
    "import numpy as np\n",
    "from sklearn.metrics import confusion_matrix\n",
    "from sklearn.preprocessing import StandardScaler  \n",
    "import pickle\n",
    "import torch\n",
    "import torch.nn as nn\n",
    "import torch.nn.functional as F\n",
    "import torch.optim as optim\n",
    "from torch.utils.data import Dataset, DataLoader"
   ]
  },
  {
   "cell_type": "code",
   "execution_count": 2,
   "id": "8be830d9",
   "metadata": {},
   "outputs": [],
   "source": [
    "def featureExtraction(df):\n",
    "    candle_patterns = ['HANGING_MAN', 'SHOOTING_STAR',\n",
    "           'SPINNING_TOP', 'MARUBOZU', 'ENGULFING', 'TWEEZER_TOP',\n",
    "           'TWEEZER_BOTTOM', 'MORNING_STAR', 'EVENING_STAR']\n",
    "    df = apply_patterns_in_range(df)\n",
    "    for cp in candle_patterns:\n",
    "        df[cp] = df[cp].astype(float)\n",
    "\n",
    "    df = BollingerBandsNonLinear(df)\n",
    "#     df = ATRFeature(df)\n",
    "    df = KeltnerChannelsNonLinear(df)\n",
    "    df = RSINonLinear(df)\n",
    "    df = MACDNonLinear(df)\n",
    "    df = BREAKOUT(df)\n",
    "    df = ichimokuNonLinear(df)\n",
    "\n",
    "    df.dropna(inplace=True)\n",
    "    df.reset_index(drop=True, inplace=True)\n",
    "\n",
    "    return df"
   ]
  },
  {
   "cell_type": "code",
   "execution_count": 3,
   "id": "652f688f",
   "metadata": {},
   "outputs": [],
   "source": [
    "BUY = 2\n",
    "SELL = 0\n",
    "NONE = 1"
   ]
  },
  {
   "cell_type": "code",
   "execution_count": 4,
   "id": "573d9887",
   "metadata": {},
   "outputs": [],
   "source": [
    "def labeling(df):\n",
    "    df['SIGNAL_LABEL'] = NONE\n",
    "    df['TP'] = 0\n",
    "    df['SL'] = 0\n",
    "    \n",
    "    for i in range(1,len(df)):\n",
    "        for j in range(i,len(df)):\n",
    "            if( df.low[j] <= df.low[i-1] ):\n",
    "                break\n",
    "            else:\n",
    "                if(df.high[j] > 2*(df.close[i] - df.low[i-1] ) + df.close[i]):\n",
    "                    df.SIGNAL_LABEL[i] = BUY\n",
    "                    break\n",
    "\n",
    "\n",
    "        for j in range(i,len(df)):\n",
    "            if( df.high[j] >= df.high[i-1] ):\n",
    "                break\n",
    "            else:\n",
    "                if(df.low[j] < 2*(df.close[i] - df.high[i-1] ) + df.close[i]):\n",
    "                    df.SIGNAL_LABEL[i] = SELL\n",
    "                    break\n",
    "\n",
    "        \n",
    "    return df"
   ]
  },
  {
   "cell_type": "code",
   "execution_count": 5,
   "id": "dbe8df91",
   "metadata": {},
   "outputs": [],
   "source": [
    "pair = \"GBPUSD\"\n",
    "NB_H1_CANDLES = 20000"
   ]
  },
  {
   "cell_type": "code",
   "execution_count": 6,
   "id": "d39ffb5d",
   "metadata": {},
   "outputs": [
    {
     "data": {
      "text/plain": [
       "0.0006099999999999994"
      ]
     },
     "execution_count": 6,
     "metadata": {},
     "output_type": "execute_result"
    }
   ],
   "source": [
    "rates = Rates(pair, NB_H1_CANDLES, mt5.TIMEFRAME_H1)\n",
    "SPREAD = rates.get_spread()\n",
    "df_an = rates.get_rates_from_now()\n",
    "df_an.drop(NB_H1_CANDLES-1,inplace=True) \n",
    "df_an.drop(['tick_volume', 'spread', 'real_volume'], axis=1, inplace=True)\n",
    "SPREAD"
   ]
  },
  {
   "cell_type": "code",
   "execution_count": 7,
   "id": "17728150",
   "metadata": {},
   "outputs": [
    {
     "data": {
      "text/plain": [
       "0.0006000000000000001"
      ]
     },
     "execution_count": 7,
     "metadata": {},
     "output_type": "execute_result"
    }
   ],
   "source": [
    "SPREAD = (SPREAD//1e-5)*1e-5 # todo: do it right!!!\n",
    "SPREAD # 0"
   ]
  },
  {
   "cell_type": "code",
   "execution_count": 8,
   "id": "a331cf06",
   "metadata": {},
   "outputs": [],
   "source": [
    "SLIT_INDEX = int(0.8*len(df_an))\n",
    "df_train = df_an.iloc[:SLIT_INDEX]\n",
    "df_train.reset_index(drop=True, inplace=True)\n",
    "df_test = df_an.iloc[SLIT_INDEX:]\n",
    "df_test.reset_index(drop=True, inplace=True)"
   ]
  },
  {
   "cell_type": "code",
   "execution_count": 9,
   "id": "f0a11d33",
   "metadata": {},
   "outputs": [],
   "source": [
    "rates = Rates(pair, 13*len(df_test), mt5.TIMEFRAME_M5)\n",
    "df_m5 = rates.get_rates_from_now()\n",
    "df_m5.reset_index(drop=True, inplace=True)\n",
    "df_m5.drop(['tick_volume', 'spread', 'real_volume'], axis=1, inplace=True)"
   ]
  },
  {
   "cell_type": "code",
   "execution_count": 10,
   "id": "7fe0b1da",
   "metadata": {},
   "outputs": [
    {
     "name": "stderr",
     "output_type": "stream",
     "text": [
      "C:\\Users\\meysam\\Desktop\\algotramic\\technicals\\indicators.py:215: SettingWithCopyWarning: \n",
      "A value is trying to be set on a copy of a slice from a DataFrame\n",
      "\n",
      "See the caveats in the documentation: https://pandas.pydata.org/pandas-docs/stable/user_guide/indexing.html#returning-a-view-versus-a-copy\n",
      "  df['last_pivot_h'].iloc[i] = last_pivot_h\n",
      "C:\\Users\\meysam\\Desktop\\algotramic\\technicals\\indicators.py:216: SettingWithCopyWarning: \n",
      "A value is trying to be set on a copy of a slice from a DataFrame\n",
      "\n",
      "See the caveats in the documentation: https://pandas.pydata.org/pandas-docs/stable/user_guide/indexing.html#returning-a-view-versus-a-copy\n",
      "  df['last_pivot_l'].iloc[i] = last_pivot_l\n",
      "C:\\Users\\meysam\\AppData\\Local\\Temp\\ipykernel_11896\\1852923117.py:12: SettingWithCopyWarning: \n",
      "A value is trying to be set on a copy of a slice from a DataFrame\n",
      "\n",
      "See the caveats in the documentation: https://pandas.pydata.org/pandas-docs/stable/user_guide/indexing.html#returning-a-view-versus-a-copy\n",
      "  df.SIGNAL_LABEL[i] = BUY\n",
      "C:\\Users\\meysam\\AppData\\Local\\Temp\\ipykernel_11896\\1852923117.py:21: SettingWithCopyWarning: \n",
      "A value is trying to be set on a copy of a slice from a DataFrame\n",
      "\n",
      "See the caveats in the documentation: https://pandas.pydata.org/pandas-docs/stable/user_guide/indexing.html#returning-a-view-versus-a-copy\n",
      "  df.SIGNAL_LABEL[i] = SELL\n",
      "C:\\Users\\meysam\\Desktop\\algotramic\\technicals\\indicators.py:215: SettingWithCopyWarning: \n",
      "A value is trying to be set on a copy of a slice from a DataFrame\n",
      "\n",
      "See the caveats in the documentation: https://pandas.pydata.org/pandas-docs/stable/user_guide/indexing.html#returning-a-view-versus-a-copy\n",
      "  df['last_pivot_h'].iloc[i] = last_pivot_h\n",
      "C:\\Users\\meysam\\Desktop\\algotramic\\technicals\\indicators.py:216: SettingWithCopyWarning: \n",
      "A value is trying to be set on a copy of a slice from a DataFrame\n",
      "\n",
      "See the caveats in the documentation: https://pandas.pydata.org/pandas-docs/stable/user_guide/indexing.html#returning-a-view-versus-a-copy\n",
      "  df['last_pivot_l'].iloc[i] = last_pivot_l\n",
      "C:\\Users\\meysam\\AppData\\Local\\Temp\\ipykernel_11896\\1852923117.py:12: SettingWithCopyWarning: \n",
      "A value is trying to be set on a copy of a slice from a DataFrame\n",
      "\n",
      "See the caveats in the documentation: https://pandas.pydata.org/pandas-docs/stable/user_guide/indexing.html#returning-a-view-versus-a-copy\n",
      "  df.SIGNAL_LABEL[i] = BUY\n",
      "C:\\Users\\meysam\\AppData\\Local\\Temp\\ipykernel_11896\\1852923117.py:21: SettingWithCopyWarning: \n",
      "A value is trying to be set on a copy of a slice from a DataFrame\n",
      "\n",
      "See the caveats in the documentation: https://pandas.pydata.org/pandas-docs/stable/user_guide/indexing.html#returning-a-view-versus-a-copy\n",
      "  df.SIGNAL_LABEL[i] = SELL\n"
     ]
    }
   ],
   "source": [
    "df_train = featureExtraction(df_train)\n",
    "df_train = labeling(df_train)\n",
    "df_test = featureExtraction(df_test)\n",
    "df_test = labeling(df_test)\n"
   ]
  },
  {
   "cell_type": "code",
   "execution_count": 11,
   "id": "2f807a92",
   "metadata": {},
   "outputs": [
    {
     "data": {
      "text/plain": [
       "Index(['time', 'open', 'high', 'low', 'close', 'full_range', 'body_lower',\n",
       "       'body_upper', 'body_bottom_perc', 'body_top_perc', 'body_perc',\n",
       "       'direction', 'body_size', 'low_change', 'high_change',\n",
       "       'body_size_change', 'mid_point', 'mid_point_prev_2', 'body_size_prev',\n",
       "       'direction_prev', 'direction_prev_2', 'body_perc_prev',\n",
       "       'body_perc_prev_2', 'HANGING_MAN', 'SHOOTING_STAR', 'SPINNING_TOP',\n",
       "       'MARUBOZU', 'ENGULFING', 'TWEEZER_TOP', 'TWEEZER_BOTTOM',\n",
       "       'MORNING_STAR', 'EVENING_STAR', 'BB_MA_cross', 'BB_UP_touch',\n",
       "       'BB_LW_touch', 'EMA_cross', 'KeUp_touch', 'KeLo_touch', 'RSI_level',\n",
       "       'MACDHIST_level', 'pivots_l', 'pivots_h', 'low_perv', 'high_perv',\n",
       "       'low_next', 'high_next', 'last_pivot_h', 'last_pivot_l', 'close_perv',\n",
       "       'BREAK_UP', 'BREAK_DOWN', 'Tenkan_sen', 'Kijun_sen', 'Senkou_Span_A',\n",
       "       'Senkou_Span_B', 'Tenkan_sen_touch', 'Kijun_sen_touch',\n",
       "       'Senkou_Span_A_touch', 'Senkou_Span_B_touch', 'Ten_kij_cross',\n",
       "       'Cloud_cross', 'SIGNAL_LABEL', 'TP', 'SL'],\n",
       "      dtype='object')"
      ]
     },
     "execution_count": 11,
     "metadata": {},
     "output_type": "execute_result"
    }
   ],
   "source": [
    "df_train.columns"
   ]
  },
  {
   "cell_type": "code",
   "execution_count": 12,
   "id": "6cb19922",
   "metadata": {},
   "outputs": [
    {
     "data": {
      "text/plain": [
       "0        1.0\n",
       "1        0.0\n",
       "2        0.0\n",
       "3        0.0\n",
       "4        0.0\n",
       "        ... \n",
       "15913    0.0\n",
       "15914    1.0\n",
       "15915    0.0\n",
       "15916    0.0\n",
       "15917    0.0\n",
       "Name: pivots_h, Length: 15918, dtype: float64"
      ]
     },
     "execution_count": 12,
     "metadata": {},
     "output_type": "execute_result"
    }
   ],
   "source": [
    "df_train.pivots_h"
   ]
  },
  {
   "cell_type": "code",
   "execution_count": 13,
   "id": "66d54344",
   "metadata": {},
   "outputs": [
    {
     "data": {
      "text/plain": [
       "3922"
      ]
     },
     "execution_count": 13,
     "metadata": {},
     "output_type": "execute_result"
    }
   ],
   "source": [
    "len(df_test)"
   ]
  },
  {
   "cell_type": "code",
   "execution_count": 14,
   "id": "a37fc455",
   "metadata": {},
   "outputs": [],
   "source": [
    "\n",
    "feature_col = [\n",
    "    'BB_MA_cross', 'BB_UP_touch','BB_LW_touch',\n",
    "    'EMA_cross', 'KeUp_touch', 'KeLo_touch', \n",
    "    'RSI_level',\n",
    "    'MACDHIST_level',\n",
    "#      'BREAK_UP', 'BREAK_DOWN',\n",
    "        'Tenkan_sen_touch', 'Kijun_sen_touch',\n",
    "       'Senkou_Span_A_touch', 'Senkou_Span_B_touch',\n",
    "        'Ten_kij_cross','Cloud_cross',\n",
    "#         'full_range',# this is added ...\n",
    "#        'body_lower', 'body_upper', \n",
    "#         'body_bottom_perc', 'body_top_perc',\n",
    "#        'body_perc', 'direction', 'body_size', 'low_change', 'high_change',\n",
    "#     'mid_point', 'mid_point_prev_2', 'body_size_prev',\n",
    "#        'direction_prev', 'direction_prev_2', 'body_perc_prev','body_perc_prev_2',\n",
    "        'direction',\n",
    "        'HANGING_MAN', 'SHOOTING_STAR', 'SPINNING_TOP',\n",
    "       'MARUBOZU', 'ENGULFING',\n",
    "    'TWEEZER_TOP', 'TWEEZER_BOTTOM',\n",
    "       'MORNING_STAR', 'EVENING_STAR'\n",
    "]"
   ]
  },
  {
   "cell_type": "code",
   "execution_count": 15,
   "id": "c37528b5",
   "metadata": {},
   "outputs": [],
   "source": [
    "class RNN(nn.Module):\n",
    "    def __init__(self, batch_size, input_size, hidden_dim,lstm_layers):\n",
    "        super(RNN, self).__init__()\n",
    "        self.input_size = input_size\n",
    "        self.batch_size = batch_size\n",
    "        self.hidden_dim = hidden_dim\n",
    "        self.LSTM_layers = lstm_layers\n",
    "    \n",
    "        self.lstm = nn.LSTM(input_size=input_size, hidden_size=self.hidden_dim, num_layers=self.LSTM_layers, batch_first=True)\n",
    "        self.fc = nn.Linear(in_features=self.hidden_dim, out_features=3)\n",
    "#         self.fc2 = nn.Linear(257, 1)\n",
    "\n",
    "    def forward(self, x):\n",
    "        h = torch.zeros((self.LSTM_layers, x.size(0), self.hidden_dim))\n",
    "        c = torch.zeros((self.LSTM_layers, x.size(0), self.hidden_dim))\n",
    "        torch.nn.init.xavier_normal_(h)\n",
    "        torch.nn.init.xavier_normal_(c)\n",
    "        out, (hidden, cell) = self.lstm(x, (h,c))\n",
    "#         out = self.dropout(out)\n",
    "        out = self.fc(out[:,-1,:]) \n",
    "#         out = torch.sigmoid(self.fc2(out))\n",
    "        return out"
   ]
  },
  {
   "cell_type": "code",
   "execution_count": 19,
   "id": "39a96dc9",
   "metadata": {},
   "outputs": [],
   "source": [
    "class dataset(Dataset):\n",
    "    def __init__(self,df,sequence_lenght,feature_col):\n",
    "        self.df = df\n",
    "        self.sequence_lenght = sequence_lenght\n",
    "        self.feature_col = feature_col\n",
    "        self.X = []\n",
    "        self.Y = [] \n",
    "        self.indeces = []\n",
    "        print(\"preparing data..\")\n",
    "        self.prepare_data()\n",
    "        \n",
    "    def prepare_data(self):\n",
    "        for i in range(self.sequence_lenght+1,len(self.df)):\n",
    "#             if self.df.pivots_h[i-1] or self.df.pivots_l[i-1]:\n",
    "            X_feat = [] \n",
    "            for j in range(self.sequence_lenght):\n",
    "                feature = []\n",
    "                feature.append(self.df.pivots_h[i-self.sequence_lenght+j])\n",
    "                feature.append(self.df.pivots_l[i-self.sequence_lenght+j])\n",
    "                for fc in self.feature_col:\n",
    "                    feature.append(self.df[fc][i-self.sequence_lenght+j+1])\n",
    "\n",
    "                X_feat.append(feature)  \n",
    "            self.X.append(np.array(X_feat))# TODO: use torch tensor \n",
    "            self.Y.append(self.df.SIGNAL_LABEL[i])\n",
    "            self.indeces.append(i)\n",
    "                \n",
    "    def get_feature_len(self):\n",
    "        return self.X[0].shape[1]\n",
    "    \n",
    "    def __len__(self):\n",
    "        return len(self.Y)\n",
    "    \n",
    "    def __getitem__(self,index):\n",
    "        return torch.from_numpy(self.X[index]).float(),self.Y[index]"
   ]
  },
  {
   "cell_type": "code",
   "execution_count": null,
   "id": "6fb561ef",
   "metadata": {},
   "outputs": [],
   "source": []
  },
  {
   "cell_type": "code",
   "execution_count": 20,
   "id": "abd456bc",
   "metadata": {},
   "outputs": [],
   "source": [
    "epoch = 1000\n",
    "batch_size = 600\n",
    "sequence_lenght = 100"
   ]
  },
  {
   "cell_type": "code",
   "execution_count": 21,
   "id": "d2495bc6",
   "metadata": {},
   "outputs": [
    {
     "name": "stdout",
     "output_type": "stream",
     "text": [
      "preparing data..\n",
      "preparing data..\n"
     ]
    }
   ],
   "source": [
    "ds_train = dataset(df_train,sequence_lenght,feature_col)\n",
    "ds_test = dataset(df_test,sequence_lenght,feature_col) \n",
    "\n",
    "loader_train = DataLoader(ds_train, batch_size=batch_size)\n",
    "loader_test = DataLoader(ds_test, batch_size=batch_size)"
   ]
  },
  {
   "cell_type": "code",
   "execution_count": 22,
   "id": "62b50d0d",
   "metadata": {},
   "outputs": [
    {
     "name": "stdout",
     "output_type": "stream",
     "text": [
      "27\n",
      "7\n",
      "15817\n",
      "3821\n"
     ]
    }
   ],
   "source": [
    "print(len(loader_train))\n",
    "print(len(loader_test))\n",
    "print(len(ds_train))\n",
    "print(len(ds_test))"
   ]
  },
  {
   "cell_type": "code",
   "execution_count": 23,
   "id": "db9a1011",
   "metadata": {},
   "outputs": [],
   "source": [
    "input_size = ds_train.get_feature_len() \n",
    "hidden_dim = 60\n",
    "lstm_layers = 2"
   ]
  },
  {
   "cell_type": "code",
   "execution_count": 24,
   "id": "1ad4e84a",
   "metadata": {},
   "outputs": [],
   "source": [
    "model = RNN(batch_size, input_size, hidden_dim,lstm_layers)"
   ]
  },
  {
   "cell_type": "code",
   "execution_count": 25,
   "id": "0b8f4d27",
   "metadata": {},
   "outputs": [],
   "source": [
    "weight = torch.Tensor([0.4,0.2,0.4])"
   ]
  },
  {
   "cell_type": "code",
   "execution_count": 26,
   "id": "d17083d2",
   "metadata": {},
   "outputs": [],
   "source": [
    "criterion = nn.CrossEntropyLoss(weight=weight)"
   ]
  },
  {
   "cell_type": "code",
   "execution_count": null,
   "id": "ef5f1e17",
   "metadata": {},
   "outputs": [],
   "source": []
  },
  {
   "cell_type": "code",
   "execution_count": 27,
   "id": "f1cb2a31",
   "metadata": {},
   "outputs": [],
   "source": [
    "optimizer = optim.Adam(model.parameters(),lr=1e-3)"
   ]
  },
  {
   "cell_type": "code",
   "execution_count": null,
   "id": "6b3e0955",
   "metadata": {},
   "outputs": [
    {
     "name": "stdout",
     "output_type": "stream",
     "text": [
      "[[ 495  233   11]\n",
      " [ 820 1168  376]\n",
      " [  97  417  204]]\n",
      "0.8833796139116641 0.4886155456686731\n",
      "[[ 483  238   18]\n",
      " [ 760 1296  308]\n",
      " [ 110  428  180]]\n",
      "0.8707122184612133 0.512693012300445\n"
     ]
    }
   ],
   "source": [
    "model.train()\n",
    "train_loss = []\n",
    "test_loss = []\n",
    "test_accuracy = []\n",
    "for i in range(epoch):\n",
    "    loss_epoch_train = 0\n",
    "    for x_batch, y_batch in loader_train:\n",
    "        pred = model(x_batch)\n",
    "        loss = criterion(pred,y_batch)\n",
    "        optimizer.zero_grad()\n",
    "        loss.backward()\n",
    "        optimizer.step()\n",
    "        loss_epoch_train += loss.detach().item()\n",
    "        \n",
    "    \n",
    "    loss_epoch_test = 0\n",
    "    model.eval()\n",
    "    pred_test = []\n",
    "    all_label = []\n",
    "    \n",
    "    for x_batch, y_batch in loader_test:\n",
    "        pred = model(x_batch)\n",
    "        loss = criterion(pred,y_batch)\n",
    "        loss_epoch_test += loss.detach().item()\n",
    "        pred_test += list(pred.softmax(dim=1).argmax(dim=1).detach().numpy())\n",
    "        all_label += list(y_batch.detach().numpy())\n",
    "        \n",
    "    train_loss.append(loss_epoch_train/len(loader_train))\n",
    "    test_loss.append(loss_epoch_test/len(loader_test))\n",
    "    pred_test = np.array(pred_test)\n",
    "    all_label = np.array(all_label)\n",
    "    conf = confusion_matrix(all_label, pred_test)\n",
    "    print(conf)\n",
    "    test_accuracy.append((pred_test==all_label).sum()/len(all_label))\n",
    "    print(train_loss[-1],test_accuracy[-1])"
   ]
  },
  {
   "cell_type": "code",
   "execution_count": null,
   "id": "da5e0b14",
   "metadata": {},
   "outputs": [],
   "source": []
  },
  {
   "cell_type": "code",
   "execution_count": null,
   "id": "6b66a454",
   "metadata": {},
   "outputs": [],
   "source": []
  },
  {
   "cell_type": "code",
   "execution_count": null,
   "id": "cb0af874",
   "metadata": {},
   "outputs": [],
   "source": []
  },
  {
   "cell_type": "code",
   "execution_count": null,
   "id": "8cfd878f",
   "metadata": {},
   "outputs": [],
   "source": []
  },
  {
   "cell_type": "code",
   "execution_count": null,
   "id": "6d688ce4",
   "metadata": {},
   "outputs": [],
   "source": []
  },
  {
   "cell_type": "code",
   "execution_count": null,
   "id": "148e3120",
   "metadata": {},
   "outputs": [],
   "source": []
  },
  {
   "cell_type": "code",
   "execution_count": null,
   "id": "3edf5a8d",
   "metadata": {},
   "outputs": [],
   "source": []
  },
  {
   "cell_type": "code",
   "execution_count": null,
   "id": "ea610119",
   "metadata": {},
   "outputs": [],
   "source": []
  },
  {
   "cell_type": "code",
   "execution_count": null,
   "id": "7d132742",
   "metadata": {},
   "outputs": [],
   "source": []
  },
  {
   "cell_type": "code",
   "execution_count": null,
   "id": "be84208c",
   "metadata": {},
   "outputs": [],
   "source": []
  },
  {
   "cell_type": "code",
   "execution_count": null,
   "id": "e57344e4",
   "metadata": {},
   "outputs": [],
   "source": []
  },
  {
   "cell_type": "code",
   "execution_count": null,
   "id": "25ed0b43",
   "metadata": {},
   "outputs": [],
   "source": []
  },
  {
   "cell_type": "code",
   "execution_count": null,
   "id": "70d2623d",
   "metadata": {},
   "outputs": [],
   "source": []
  },
  {
   "cell_type": "code",
   "execution_count": null,
   "id": "610f53c5",
   "metadata": {},
   "outputs": [],
   "source": []
  },
  {
   "cell_type": "code",
   "execution_count": null,
   "id": "664514c8",
   "metadata": {},
   "outputs": [],
   "source": [
    "df_test = df_an[['time', 'open', 'high', 'low', 'close','TP','SL','pivots_l','pivots_h']].iloc[indeces_test[0]:].copy()\n",
    "df_test['SIGNAL'] = 0\n",
    "for i,idx in enumerate(indeces_test):\n",
    "    if i > 0:\n",
    "#         df_test.SIGNAL.loc[idx] = y_perdict[i]\n",
    "        if df_test.pivots_l[idx-1]==1 and y_perdict[i] ==BUY:\n",
    "            df_test.SIGNAL.loc[idx] = y_perdict[i]-1\n",
    "        if df_test.pivots_h[idx-1]==1 and y_perdict[i] ==SELL:\n",
    "            df_test.SIGNAL.loc[idx] = y_perdict[i]-1\n",
    "\n",
    "df_test.reset_index(drop=True, inplace=True)"
   ]
  },
  {
   "cell_type": "code",
   "execution_count": null,
   "id": "b77dc800",
   "metadata": {},
   "outputs": [],
   "source": [
    "gt = GuruTester2(\n",
    "        df_test,\n",
    "        df_m5,\n",
    "        SPREAD,\n",
    "        use_spread=True\n",
    "    )\n",
    "df_res_m5 = gt.run_test()"
   ]
  },
  {
   "cell_type": "code",
   "execution_count": null,
   "id": "becfda1a",
   "metadata": {},
   "outputs": [],
   "source": [
    "df_res_m5['balance'] = 100\n",
    "loss_margin = 0.03\n",
    "perv_balance = 100\n",
    "\n",
    "# for index, row in df_res_m5.iterrows():\n",
    "for i in range(len(df_res_m5)):\n",
    "    if(df_res_m5.result[i] == -1):\n",
    "        loss_ratio =1# abs( (df_res_m5['start_price'][i]-df_res_m5['trigger_price'][i])/((df_res_m5['start_price'][i]-df_res_m5['SL'][i])) )\n",
    "#         print(loss_ratio)\n",
    "        df_res_m5['balance'][i] = perv_balance*(1-loss_ratio*loss_margin) \n",
    "    elif(df_res_m5.result[i] == 2):\n",
    "        profit_to_loss = 2#abs( (df_res_m5['start_price'][i]-df_res_m5['trigger_price'][i])/((df_res_m5['start_price'][i]-df_res_m5['SL'][i])) )\n",
    "#         print(profit_to_loss)\n",
    "        df_res_m5['balance'][i] = perv_balance*(1+profit_to_loss*loss_margin) \n",
    "    perv_balance = df_res_m5['balance'][i]"
   ]
  },
  {
   "cell_type": "code",
   "execution_count": null,
   "id": "300dbdd2",
   "metadata": {},
   "outputs": [],
   "source": [
    "df_res_m5_plot = df_res_m5#.loc[:100]\n",
    "df_res_m5_plot['time'] = df_res_m5_plot['end_time']\n",
    "cp = CandlePlot(df_res_m5_plot, candles=False)\n",
    "print(\"min balance \",min(df_res_m5['balance']))\n",
    "cp.show_plot(line_traces=['balance'])"
   ]
  },
  {
   "cell_type": "code",
   "execution_count": null,
   "id": "f1efad8a",
   "metadata": {},
   "outputs": [],
   "source": []
  },
  {
   "cell_type": "code",
   "execution_count": null,
   "id": "6718cddc",
   "metadata": {},
   "outputs": [],
   "source": []
  },
  {
   "cell_type": "code",
   "execution_count": null,
   "id": "1a644fdd",
   "metadata": {},
   "outputs": [],
   "source": []
  }
 ],
 "metadata": {
  "kernelspec": {
   "display_name": "Python 3 (ipykernel)",
   "language": "python",
   "name": "python3"
  },
  "language_info": {
   "codemirror_mode": {
    "name": "ipython",
    "version": 3
   },
   "file_extension": ".py",
   "mimetype": "text/x-python",
   "name": "python",
   "nbconvert_exporter": "python",
   "pygments_lexer": "ipython3",
   "version": "3.9.13"
  }
 },
 "nbformat": 4,
 "nbformat_minor": 5
}
