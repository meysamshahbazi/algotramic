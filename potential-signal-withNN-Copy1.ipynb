{
 "cells": [
  {
   "cell_type": "code",
   "execution_count": 1,
   "id": "ec6d40cf",
   "metadata": {},
   "outputs": [],
   "source": [
    "import pandas as pd\n",
    "import datetime as dt\n",
    "import plotly.graph_objects as go\n",
    "from technicals.indicators import *\n",
    "from technicals.patterns import apply_patterns\n",
    "from guruTester import GuruTester,GuruTester2\n",
    "from plotting import CandlePlot\n",
    "import MetaTrader5 as mt5\n",
    "from datetime import datetime\n",
    "from getCandle import Rates\n",
    "from sklearn.neural_network import MLPClassifier\n",
    "import numpy as np\n",
    "from sklearn.metrics import confusion_matrix\n",
    "from sklearn.preprocessing import StandardScaler  \n",
    "import pickle"
   ]
  },
  {
   "cell_type": "code",
   "execution_count": null,
   "id": "8c10b2c8",
   "metadata": {},
   "outputs": [],
   "source": [
    "pair = \"GBPUSD\"\n",
    "NB_H1_CANDLES = 20000"
   ]
  },
  {
   "cell_type": "code",
   "execution_count": null,
   "id": "d31dea2e",
   "metadata": {},
   "outputs": [],
   "source": [
    "rates = Rates(pair, NB_H1_CANDLES, mt5.TIMEFRAME_H1)\n",
    "SPREAD = rates.get_spread()\n",
    "df_an = rates.get_rates_from_now()\n",
    "df_an.drop(NB_H1_CANDLES-1,inplace=True) \n",
    "df_an.drop(['tick_volume', 'spread', 'real_volume'], axis=1, inplace=True)"
   ]
  },
  {
   "cell_type": "code",
   "execution_count": null,
   "id": "d0c04450",
   "metadata": {},
   "outputs": [],
   "source": [
    "candle_patterns = ['HANGING_MAN', 'SHOOTING_STAR',\n",
    "       'SPINNING_TOP', 'MARUBOZU', 'ENGULFING', 'TWEEZER_TOP',\n",
    "       'TWEEZER_BOTTOM', 'MORNING_STAR', 'EVENING_STAR']\n",
    "\n",
    "df_an = apply_patterns(df_an)\n",
    "for cp in candle_patterns:\n",
    "    df_an[cp] = df_an[cp].astype(float)\n",
    "df_an.head()"
   ]
  },
  {
   "cell_type": "code",
   "execution_count": null,
   "id": "9f7e51b1",
   "metadata": {},
   "outputs": [],
   "source": [
    "df_an = RSI(df_an)\n",
    "df_an = BollingerBands(df_an)\n",
    "df_an = ATR(df_an)\n",
    "df_an = KeltnerChannels(df_an)\n",
    "df_an = MACD(df_an)\n",
    "df_an"
   ]
  },
  {
   "cell_type": "code",
   "execution_count": null,
   "id": "f68a3518",
   "metadata": {},
   "outputs": [],
   "source": [
    "df_an.columns"
   ]
  },
  {
   "cell_type": "code",
   "execution_count": null,
   "id": "dcdc93a2",
   "metadata": {},
   "outputs": [],
   "source": [
    "SPREAD = (SPREAD//1e-5)*1e-5 # todo: do it right!!!\n",
    "SPREAD # 0"
   ]
  },
  {
   "cell_type": "code",
   "execution_count": null,
   "id": "523077ed",
   "metadata": {},
   "outputs": [],
   "source": [
    "df_an['pivots_l'] = False\n",
    "df_an['pivots_h'] = False\n",
    "\n",
    "df_an['low_perv'] = df_an.low.shift(1)\n",
    "df_an['high_perv'] = df_an.high.shift(1)\n",
    "df_an['low_next'] = df_an.low.shift(-1)\n",
    "df_an['high_next'] = df_an.high.shift(-1)\n",
    "df_an['pivots_l'] = (df_an.low_perv > df_an.low) & (df_an.low_next > df_an.low)\n",
    "df_an['pivots_h'] = (df_an.high_perv < df_an.high) & (df_an.high_next < df_an.high)\n",
    "df_an.dropna(inplace=True)\n",
    "df_an.reset_index(drop=True, inplace=True)\n",
    "df_an"
   ]
  },
  {
   "cell_type": "code",
   "execution_count": null,
   "id": "affc2b72",
   "metadata": {},
   "outputs": [],
   "source": [
    "BUY = 1\n",
    "SELL = -1\n",
    "NONE = 0\n",
    "\n",
    "df_an['SIGNAL'] = 0\n",
    "df_an['TP'] = 0\n",
    "df_an['SL'] = 0\n",
    "\n",
    "for i in range(1,len(df_an)):\n",
    "    if df_an.pivots_l[i-1]:\n",
    "        for j in range(i,len(df_an)):\n",
    "            if( df_an.low[j] <= df_an.low[i-1] ):\n",
    "                break\n",
    "            else:\n",
    "                if(df_an.high[j] > 2*(df_an.close[i] - df_an.low[i-1] ) + df_an.close[i]):\n",
    "                    df_an.SIGNAL[i] = BUY\n",
    "                    df_an['SL'][i] = df_an.low[i-1] #- SPREAD\n",
    "                    df_an['TP'][i] = 2*(df_an.close[i] - df_an.low[i-1] ) + df_an.close[i] #+ SPREAD\n",
    "                    break\n",
    "    if df_an.pivots_h[i-1]:\n",
    "        for j in range(i,len(df_an)):\n",
    "            if( df_an.high[j] >= df_an.high[i-1] ):\n",
    "                break\n",
    "            else:\n",
    "                if(df_an.low[j] < 2*(df_an.close[i] - df_an.high[i-1] ) + df_an.close[i]):\n",
    "                    df_an.SIGNAL[i] = SELL\n",
    "                    df_an['SL'][i] = df_an.high[i-1] #+ SPREAD\n",
    "                    df_an['TP'][i] = 2*(df_an.close[i] - df_an.high[i-1] ) + df_an.close[i]\n",
    "                    break"
   ]
  },
  {
   "cell_type": "code",
   "execution_count": null,
   "id": "d91a208d",
   "metadata": {},
   "outputs": [],
   "source": [
    "df_an.pivots_l = df_an.pivots_l.astype(float)\n",
    "df_an.pivots_h = df_an.pivots_h.astype(float)"
   ]
  },
  {
   "cell_type": "code",
   "execution_count": null,
   "id": "2d579fed",
   "metadata": {},
   "outputs": [],
   "source": [
    "df_an.columns"
   ]
  },
  {
   "cell_type": "code",
   "execution_count": null,
   "id": "7a47bf62",
   "metadata": {},
   "outputs": [],
   "source": [
    "X = []\n",
    "Y = [] \n",
    "feature_col = [\n",
    "    'open', 'high', 'low', 'close',\n",
    "               'RSI_14', 'ATR_14',\n",
    "    'BB_MA', 'BB_UP','BB_LW', 'EMA', 'KeUp', 'KeLo', \n",
    "    'MACD', 'SIGNAL_MACD', 'HIST',\n",
    "       'body_lower', 'body_upper', 'body_bottom_perc', 'body_top_perc',\n",
    "       'body_perc', 'direction', 'body_size', 'low_change', 'high_change', 'mid_point', 'mid_point_prev_2', 'body_size_prev',\n",
    "       'direction_prev', 'direction_prev_2', 'body_perc_prev','body_perc_prev_2',\n",
    "        'HANGING_MAN', 'SHOOTING_STAR', 'SPINNING_TOP',\n",
    "       'MARUBOZU', 'ENGULFING',\n",
    "    'TWEEZER_TOP', 'TWEEZER_BOTTOM',\n",
    "       'MORNING_STAR', 'EVENING_STAR'\n",
    "]\n",
    "indeces = []\n",
    "for i in range(4,len(df_an)):\n",
    "    if df_an.SIGNAL[i] != NONE:\n",
    "        feature = []\n",
    "        feature.append(df_an.pivots_h[i-1])\n",
    "        feature.append(df_an.pivots_l[i-1])\n",
    "        for fc in feature_col:\n",
    "            feature.append(df_an[fc][i])\n",
    "            feature.append(df_an[fc][i-1])\n",
    "            feature.append(df_an[fc][i-2])\n",
    "            feature.append(df_an[fc][i-3])\n",
    "            feature.append(df_an[fc][i-4])\n",
    "\n",
    "        X.append(feature)\n",
    "        Y.append(df_an.SIGNAL[i])\n",
    "        indeces.append(i)\n",
    "        "
   ]
  },
  {
   "cell_type": "code",
   "execution_count": null,
   "id": "222f77a8",
   "metadata": {},
   "outputs": [],
   "source": [
    "print(len(X))\n",
    "print(len(Y))\n",
    "print(len(indeces))"
   ]
  },
  {
   "cell_type": "code",
   "execution_count": null,
   "id": "a6a06756",
   "metadata": {},
   "outputs": [],
   "source": [
    "print(len(feature))"
   ]
  },
  {
   "cell_type": "code",
   "execution_count": null,
   "id": "6396070d",
   "metadata": {},
   "outputs": [],
   "source": [
    "SPLIT_INDEX = int(0.8*len(X))"
   ]
  },
  {
   "cell_type": "code",
   "execution_count": null,
   "id": "13e3f7a6",
   "metadata": {},
   "outputs": [],
   "source": [
    "\n",
    "X_train = X[:SPLIT_INDEX]\n",
    "Y_train = Y[:SPLIT_INDEX]\n",
    "indeces_train = indeces[:SPLIT_INDEX]\n",
    "X_test = X[SPLIT_INDEX:]\n",
    "Y_test = Y[SPLIT_INDEX:]\n",
    "indeces_test = indeces[SPLIT_INDEX:]\n"
   ]
  },
  {
   "cell_type": "code",
   "execution_count": null,
   "id": "48a10e6b",
   "metadata": {},
   "outputs": [],
   "source": [
    "print(len(X_train))\n",
    "print(len(Y_train))\n",
    "print(len(indeces_train))\n",
    "print(len(X_test))\n",
    "print(len(Y_test))\n",
    "print(len(indeces_test))"
   ]
  },
  {
   "cell_type": "code",
   "execution_count": null,
   "id": "63d21990",
   "metadata": {},
   "outputs": [],
   "source": [
    "# scaler = StandardScaler()  \n",
    "# scaler.fit(X_train)  \n",
    "# X_train = scaler.transform(X_train)  \n",
    "# >>> # apply same transformation to test data\n",
    "# >>> X_test = scaler.transform(X_test) \n"
   ]
  },
  {
   "cell_type": "code",
   "execution_count": null,
   "id": "e8c22e69",
   "metadata": {},
   "outputs": [],
   "source": []
  },
  {
   "cell_type": "code",
   "execution_count": null,
   "id": "2cbe2525",
   "metadata": {},
   "outputs": [],
   "source": [
    "# help(MLPClassifier)"
   ]
  },
  {
   "cell_type": "code",
   "execution_count": null,
   "id": "610f53c5",
   "metadata": {},
   "outputs": [],
   "source": [
    "clf = MLPClassifier( solver='adam', alpha=1e-5,learning_rate_init=1e-4,\n",
    "#                      tol=0.0000010,\n",
    "                    hidden_layer_sizes=(200,200), \n",
    "                    random_state=1,max_iter=100000,verbose=True,warm_start = True)\n",
    "# clf = MLPClassifier(learning_rate_init=1e-6, warm_start = True, random_state = 2,hidden_layer_sizes= (60,40),max_iter=100000,verbose=True, tol=0.00000010,n_iter_no_change=40)"
   ]
  },
  {
   "cell_type": "code",
   "execution_count": null,
   "id": "cc192076",
   "metadata": {},
   "outputs": [],
   "source": [
    "clf.fit(X_train, Y_train)"
   ]
  },
  {
   "cell_type": "code",
   "execution_count": null,
   "id": "da2f01c5",
   "metadata": {},
   "outputs": [],
   "source": [
    "y_perdict = clf.predict(X_test)"
   ]
  },
  {
   "cell_type": "code",
   "execution_count": null,
   "id": "4283cb74",
   "metadata": {},
   "outputs": [],
   "source": [
    "confusion_matrix(Y_test, y_perdict)"
   ]
  },
  {
   "cell_type": "code",
   "execution_count": null,
   "id": "a5253e7d",
   "metadata": {},
   "outputs": [],
   "source": [
    "pickle.dump(clf, open(f\"{pair}.pickle\", \"wb\"))"
   ]
  },
  {
   "cell_type": "code",
   "execution_count": null,
   "id": "f67abb08",
   "metadata": {},
   "outputs": [],
   "source": [
    "(Y_test==y_perdict).sum()/len(y_perdict)"
   ]
  },
  {
   "cell_type": "code",
   "execution_count": null,
   "id": "6dc951f2",
   "metadata": {},
   "outputs": [],
   "source": [
    "print(len(indeces_test))\n",
    "print(len(y_perdict))\n",
    "# y_perdict"
   ]
  },
  {
   "cell_type": "code",
   "execution_count": null,
   "id": "c7280cd3",
   "metadata": {},
   "outputs": [],
   "source": [
    "df_an.columns"
   ]
  },
  {
   "cell_type": "code",
   "execution_count": null,
   "id": "c80cea82",
   "metadata": {},
   "outputs": [],
   "source": [
    "indeces_test[0]"
   ]
  },
  {
   "cell_type": "code",
   "execution_count": null,
   "id": "0b1ce10a",
   "metadata": {},
   "outputs": [],
   "source": [
    "df_test = df_an[['time', 'open', 'high', 'low', 'close','TP','SL']].iloc[indeces_test[0]-5:].copy()\n",
    "df_test['SIGNAL'] = 0\n",
    "for i,idx in enumerate(indeces_test):\n",
    "    df_test.SIGNAL.loc[idx] = y_perdict[i]\n",
    "\n",
    "df_test.reset_index(drop=True, inplace=True)\n"
   ]
  },
  {
   "cell_type": "code",
   "execution_count": null,
   "id": "b68e8fd6",
   "metadata": {},
   "outputs": [],
   "source": [
    "df_test"
   ]
  },
  {
   "cell_type": "code",
   "execution_count": null,
   "id": "b77dc800",
   "metadata": {},
   "outputs": [],
   "source": [
    "rates = Rates(pair, 13*len(df_test), mt5.TIMEFRAME_M5)\n",
    "df_m5 = rates.get_rates_from_now()\n",
    "df_m5.reset_index(drop=True, inplace=True)\n",
    "df_m5.drop(['tick_volume', 'spread', 'real_volume'], axis=1, inplace=True)\n",
    "df_m5.info()"
   ]
  },
  {
   "cell_type": "code",
   "execution_count": null,
   "id": "f24fe438",
   "metadata": {},
   "outputs": [],
   "source": [
    "gt = GuruTester2(\n",
    "        df_test,\n",
    "        df_m5,\n",
    "        SPREAD,\n",
    "        use_spread=True\n",
    "    )"
   ]
  },
  {
   "cell_type": "code",
   "execution_count": null,
   "id": "4176311c",
   "metadata": {},
   "outputs": [],
   "source": [
    "df_res_m5 = gt.run_test()"
   ]
  },
  {
   "cell_type": "code",
   "execution_count": null,
   "id": "75248792",
   "metadata": {},
   "outputs": [],
   "source": [
    "# orginal \n",
    "# df_res_m5['balance'] = 100\n",
    "# loss_margin = 0.03\n",
    "# perv_balance = 100\n",
    "\n",
    "# # for index, row in df_res_m5.iterrows():\n",
    "# for i in range(len(df_res_m5)):# start from zero!!!!!!!!!!!!!!!!!!!!!\n",
    "#     if(df_res_m5.result[i] == -1):\n",
    "#         df_res_m5['balance'][i] = perv_balance*(1-loss_margin) \n",
    "#     elif(df_res_m5.result[i] == 2):\n",
    "#         profit_to_loss = abs( (df_res_m5['start_price'][i]-df_res_m5['TP'][i])/((df_res_m5['start_price'][i]-df_res_m5['SL'][i])) )\n",
    "#         df_res_m5['balance'][i] = perv_balance*(1+profit_to_loss*loss_margin) \n",
    "#     perv_balance = df_res_m5['balance'][i]"
   ]
  },
  {
   "cell_type": "code",
   "execution_count": null,
   "id": "f956c6ec",
   "metadata": {},
   "outputs": [],
   "source": [
    "df_res_m5['balance'] = 100\n",
    "loss_margin = 0.03\n",
    "perv_balance = 100\n",
    "\n",
    "# for index, row in df_res_m5.iterrows():\n",
    "for i in range(len(df_res_m5)):\n",
    "    if(df_res_m5.result[i] == -1):\n",
    "        df_res_m5['balance'][i] = perv_balance*(1-loss_margin) \n",
    "    elif(df_res_m5.result[i] == 2):\n",
    "        profit_to_loss = abs( (df_res_m5['start_price'][i]-df_res_m5['trigger_price'][i])/((df_res_m5['start_price'][i]-df_res_m5['SL'][i])) )\n",
    "        df_res_m5['balance'][i] = perv_balance*(1+profit_to_loss*loss_margin) \n",
    "    perv_balance = df_res_m5['balance'][i]"
   ]
  },
  {
   "cell_type": "code",
   "execution_count": null,
   "id": "f1f71cca",
   "metadata": {},
   "outputs": [],
   "source": [
    "df_res_m5"
   ]
  },
  {
   "cell_type": "code",
   "execution_count": null,
   "id": "b09b3d74",
   "metadata": {},
   "outputs": [],
   "source": [
    "df_res_m5.result.value_counts()"
   ]
  },
  {
   "cell_type": "code",
   "execution_count": null,
   "id": "1c73f4c3",
   "metadata": {},
   "outputs": [],
   "source": [
    "df_res_m5_plot = df_res_m5#.loc[:200]\n",
    "df_res_m5_plot['time'] = df_res_m5_plot['end_time']\n",
    "cp = CandlePlot(df_res_m5_plot, candles=False)\n",
    "cp.show_plot(line_traces=['balance'])"
   ]
  },
  {
   "cell_type": "code",
   "execution_count": 2,
   "id": "77df5888",
   "metadata": {},
   "outputs": [
    {
     "data": {
      "text/html": [
       "<div>\n",
       "<style scoped>\n",
       "    .dataframe tbody tr th:only-of-type {\n",
       "        vertical-align: middle;\n",
       "    }\n",
       "\n",
       "    .dataframe tbody tr th {\n",
       "        vertical-align: top;\n",
       "    }\n",
       "\n",
       "    .dataframe thead th {\n",
       "        text-align: right;\n",
       "    }\n",
       "</style>\n",
       "<table border=\"1\" class=\"dataframe\">\n",
       "  <thead>\n",
       "    <tr style=\"text-align: right;\">\n",
       "      <th></th>\n",
       "      <th>time</th>\n",
       "      <th>open</th>\n",
       "      <th>high</th>\n",
       "      <th>low</th>\n",
       "      <th>close</th>\n",
       "      <th>body_lower</th>\n",
       "      <th>body_upper</th>\n",
       "      <th>body_bottom_perc</th>\n",
       "      <th>body_top_perc</th>\n",
       "      <th>body_perc</th>\n",
       "      <th>...</th>\n",
       "      <th>KeLo</th>\n",
       "      <th>MACD</th>\n",
       "      <th>SIGNAL_MACD</th>\n",
       "      <th>HIST</th>\n",
       "      <th>pivots_l</th>\n",
       "      <th>pivots_h</th>\n",
       "      <th>low_perv</th>\n",
       "      <th>high_perv</th>\n",
       "      <th>low_next</th>\n",
       "      <th>high_next</th>\n",
       "    </tr>\n",
       "  </thead>\n",
       "  <tbody>\n",
       "    <tr>\n",
       "      <th>0</th>\n",
       "      <td>2022-11-25 16:00:00</td>\n",
       "      <td>1.03727</td>\n",
       "      <td>1.03886</td>\n",
       "      <td>1.03549</td>\n",
       "      <td>1.03814</td>\n",
       "      <td>1.03727</td>\n",
       "      <td>1.03814</td>\n",
       "      <td>52.818991</td>\n",
       "      <td>78.635015</td>\n",
       "      <td>25.816024</td>\n",
       "      <td>...</td>\n",
       "      <td>1.035196</td>\n",
       "      <td>-0.000679</td>\n",
       "      <td>-0.000348</td>\n",
       "      <td>-0.000331</td>\n",
       "      <td>True</td>\n",
       "      <td>False</td>\n",
       "      <td>1.03614</td>\n",
       "      <td>1.03835</td>\n",
       "      <td>1.03764</td>\n",
       "      <td>1.04070</td>\n",
       "    </tr>\n",
       "    <tr>\n",
       "      <th>1</th>\n",
       "      <td>2022-11-25 17:00:00</td>\n",
       "      <td>1.03815</td>\n",
       "      <td>1.04070</td>\n",
       "      <td>1.03764</td>\n",
       "      <td>1.04067</td>\n",
       "      <td>1.03815</td>\n",
       "      <td>1.04067</td>\n",
       "      <td>16.666667</td>\n",
       "      <td>99.019608</td>\n",
       "      <td>82.352941</td>\n",
       "      <td>...</td>\n",
       "      <td>1.034942</td>\n",
       "      <td>-0.000547</td>\n",
       "      <td>-0.000393</td>\n",
       "      <td>-0.000154</td>\n",
       "      <td>False</td>\n",
       "      <td>False</td>\n",
       "      <td>1.03549</td>\n",
       "      <td>1.03886</td>\n",
       "      <td>1.03917</td>\n",
       "      <td>1.04114</td>\n",
       "    </tr>\n",
       "    <tr>\n",
       "      <th>2</th>\n",
       "      <td>2022-11-25 18:00:00</td>\n",
       "      <td>1.04067</td>\n",
       "      <td>1.04114</td>\n",
       "      <td>1.03917</td>\n",
       "      <td>1.04014</td>\n",
       "      <td>1.04014</td>\n",
       "      <td>1.04067</td>\n",
       "      <td>49.238579</td>\n",
       "      <td>76.142132</td>\n",
       "      <td>26.903553</td>\n",
       "      <td>...</td>\n",
       "      <td>1.034869</td>\n",
       "      <td>-0.000477</td>\n",
       "      <td>-0.000411</td>\n",
       "      <td>-0.000066</td>\n",
       "      <td>False</td>\n",
       "      <td>True</td>\n",
       "      <td>1.03764</td>\n",
       "      <td>1.04070</td>\n",
       "      <td>1.03990</td>\n",
       "      <td>1.04094</td>\n",
       "    </tr>\n",
       "    <tr>\n",
       "      <th>3</th>\n",
       "      <td>2022-11-25 19:00:00</td>\n",
       "      <td>1.04013</td>\n",
       "      <td>1.04094</td>\n",
       "      <td>1.03990</td>\n",
       "      <td>1.04059</td>\n",
       "      <td>1.04013</td>\n",
       "      <td>1.04059</td>\n",
       "      <td>22.115385</td>\n",
       "      <td>66.346154</td>\n",
       "      <td>44.230769</td>\n",
       "      <td>...</td>\n",
       "      <td>1.034980</td>\n",
       "      <td>-0.000383</td>\n",
       "      <td>-0.000405</td>\n",
       "      <td>0.000022</td>\n",
       "      <td>False</td>\n",
       "      <td>False</td>\n",
       "      <td>1.03917</td>\n",
       "      <td>1.04114</td>\n",
       "      <td>1.03969</td>\n",
       "      <td>1.04061</td>\n",
       "    </tr>\n",
       "    <tr>\n",
       "      <th>4</th>\n",
       "      <td>2022-11-25 20:00:00</td>\n",
       "      <td>1.04060</td>\n",
       "      <td>1.04061</td>\n",
       "      <td>1.03969</td>\n",
       "      <td>1.04016</td>\n",
       "      <td>1.04016</td>\n",
       "      <td>1.04060</td>\n",
       "      <td>51.086957</td>\n",
       "      <td>98.913043</td>\n",
       "      <td>47.826087</td>\n",
       "      <td>...</td>\n",
       "      <td>1.035197</td>\n",
       "      <td>-0.000338</td>\n",
       "      <td>-0.000391</td>\n",
       "      <td>0.000053</td>\n",
       "      <td>True</td>\n",
       "      <td>False</td>\n",
       "      <td>1.03990</td>\n",
       "      <td>1.04094</td>\n",
       "      <td>1.03988</td>\n",
       "      <td>1.04150</td>\n",
       "    </tr>\n",
       "  </tbody>\n",
       "</table>\n",
       "<p>5 rows × 48 columns</p>\n",
       "</div>"
      ],
      "text/plain": [
       "                 time     open     high      low    close  body_lower  \\\n",
       "0 2022-11-25 16:00:00  1.03727  1.03886  1.03549  1.03814     1.03727   \n",
       "1 2022-11-25 17:00:00  1.03815  1.04070  1.03764  1.04067     1.03815   \n",
       "2 2022-11-25 18:00:00  1.04067  1.04114  1.03917  1.04014     1.04014   \n",
       "3 2022-11-25 19:00:00  1.04013  1.04094  1.03990  1.04059     1.04013   \n",
       "4 2022-11-25 20:00:00  1.04060  1.04061  1.03969  1.04016     1.04016   \n",
       "\n",
       "   body_upper  body_bottom_perc  body_top_perc  body_perc  ...      KeLo  \\\n",
       "0     1.03814         52.818991      78.635015  25.816024  ...  1.035196   \n",
       "1     1.04067         16.666667      99.019608  82.352941  ...  1.034942   \n",
       "2     1.04067         49.238579      76.142132  26.903553  ...  1.034869   \n",
       "3     1.04059         22.115385      66.346154  44.230769  ...  1.034980   \n",
       "4     1.04060         51.086957      98.913043  47.826087  ...  1.035197   \n",
       "\n",
       "       MACD  SIGNAL_MACD      HIST  pivots_l  pivots_h  low_perv  high_perv  \\\n",
       "0 -0.000679    -0.000348 -0.000331      True     False   1.03614    1.03835   \n",
       "1 -0.000547    -0.000393 -0.000154     False     False   1.03549    1.03886   \n",
       "2 -0.000477    -0.000411 -0.000066     False      True   1.03764    1.04070   \n",
       "3 -0.000383    -0.000405  0.000022     False     False   1.03917    1.04114   \n",
       "4 -0.000338    -0.000391  0.000053      True     False   1.03990    1.04094   \n",
       "\n",
       "   low_next  high_next  \n",
       "0   1.03764    1.04070  \n",
       "1   1.03917    1.04114  \n",
       "2   1.03990    1.04094  \n",
       "3   1.03969    1.04061  \n",
       "4   1.03988    1.04150  \n",
       "\n",
       "[5 rows x 48 columns]"
      ]
     },
     "execution_count": 2,
     "metadata": {},
     "output_type": "execute_result"
    }
   ],
   "source": [
    "#  cross test\n",
    "pair_cross = \"EURUSD\"\n",
    "NB_H1_CANDLES_CROSS = 2000\n",
    "rates = Rates(pair_cross, NB_H1_CANDLES_CROSS, mt5.TIMEFRAME_H1)\n",
    "SPREAD = rates.get_spread()\n",
    "df_an_cross = rates.get_rates_from_now()\n",
    "df_an_cross.drop(NB_H1_CANDLES_CROSS-1,inplace=True) \n",
    "df_an_cross.drop(['tick_volume', 'spread', 'real_volume'], axis=1, inplace=True)\n",
    "\n",
    "candle_patterns = ['HANGING_MAN', 'SHOOTING_STAR',\n",
    "       'SPINNING_TOP', 'MARUBOZU', 'ENGULFING', 'TWEEZER_TOP',\n",
    "       'TWEEZER_BOTTOM', 'MORNING_STAR', 'EVENING_STAR']\n",
    "\n",
    "df_an_cross = apply_patterns(df_an_cross)\n",
    "for cp in candle_patterns:\n",
    "    df_an_cross[cp] = df_an_cross[cp].astype(float)\n",
    "\n",
    "df_an_cross = RSI(df_an_cross)\n",
    "df_an_cross = BollingerBands(df_an_cross)\n",
    "df_an_cross = ATR(df_an_cross)\n",
    "df_an_cross = KeltnerChannels(df_an_cross)\n",
    "df_an_cross = MACD(df_an_cross)\n",
    "\n",
    "df_an_cross['pivots_l'] = False\n",
    "df_an_cross['pivots_h'] = False\n",
    "\n",
    "df_an_cross['low_perv'] = df_an_cross.low.shift(1)\n",
    "df_an_cross['high_perv'] = df_an_cross.high.shift(1)\n",
    "df_an_cross['low_next'] = df_an_cross.low.shift(-1)\n",
    "df_an_cross['high_next'] = df_an_cross.high.shift(-1)\n",
    "df_an_cross['pivots_l'] = (df_an_cross.low_perv > df_an_cross.low) & (df_an_cross.low_next > df_an_cross.low)\n",
    "df_an_cross['pivots_h'] = (df_an_cross.high_perv < df_an_cross.high) & (df_an_cross.high_next < df_an_cross.high)\n",
    "df_an_cross.dropna(inplace=True)\n",
    "df_an_cross.reset_index(drop=True, inplace=True)\n",
    "\n",
    "df_an_cross.head()"
   ]
  },
  {
   "cell_type": "code",
   "execution_count": 3,
   "id": "27de7d5d",
   "metadata": {},
   "outputs": [
    {
     "data": {
      "text/plain": [
       "4e-05"
      ]
     },
     "execution_count": 3,
     "metadata": {},
     "output_type": "execute_result"
    }
   ],
   "source": [
    "SPREAD = (SPREAD//1e-5)*1e-5 # todo: do it right!!!\n",
    "SPREAD # 0"
   ]
  },
  {
   "cell_type": "code",
   "execution_count": 24,
   "id": "3a338db1",
   "metadata": {},
   "outputs": [
    {
     "name": "stderr",
     "output_type": "stream",
     "text": [
      "C:\\Users\\meysam\\AppData\\Local\\Temp\\ipykernel_1984\\3328372866.py:27: SettingWithCopyWarning:\n",
      "\n",
      "\n",
      "A value is trying to be set on a copy of a slice from a DataFrame\n",
      "\n",
      "See the caveats in the documentation: https://pandas.pydata.org/pandas-docs/stable/user_guide/indexing.html#returning-a-view-versus-a-copy\n",
      "\n",
      "C:\\Users\\meysam\\AppData\\Local\\Temp\\ipykernel_1984\\3328372866.py:28: SettingWithCopyWarning:\n",
      "\n",
      "\n",
      "A value is trying to be set on a copy of a slice from a DataFrame\n",
      "\n",
      "See the caveats in the documentation: https://pandas.pydata.org/pandas-docs/stable/user_guide/indexing.html#returning-a-view-versus-a-copy\n",
      "\n"
     ]
    }
   ],
   "source": [
    "BUY = 1\n",
    "SELL = -1\n",
    "NONE = 0\n",
    "\n",
    "df_an_cross['SIGNAL'] = 0\n",
    "df_an_cross['TP'] = 0\n",
    "df_an_cross['SL'] = 0\n",
    "\n",
    "for i in range(1,len(df_an_cross)):\n",
    "    if df_an_cross.pivots_l[i-1]:\n",
    "        for j in range(i,len(df_an_cross)):\n",
    "            if( df_an_cross.low[j] <= df_an_cross.low[i-1] ):\n",
    "                break\n",
    "            else:\n",
    "                if(df_an_cross.high[j] > 2*(df_an_cross.close[i] - df_an_cross.low[i-1] ) + df_an_cross.close[i]):\n",
    "#                     df_an_cross.SIGNAL[i] = BUY\n",
    "                    df_an_cross['SL'][i] = df_an_cross.low[i-1] #- SPREAD\n",
    "                    df_an_cross['TP'][i] = 2*(df_an_cross.close[i] - df_an_cross.low[i-1] ) + df_an_cross.close[i] #+ SPREAD\n",
    "                    break\n",
    "    if df_an_cross.pivots_h[i-1]:\n",
    "        for j in range(i,len(df_an_cross)):\n",
    "            if( df_an_cross.high[j] >= df_an_cross.high[i-1] ):\n",
    "                break\n",
    "            else:\n",
    "                if(df_an_cross.low[j] < 2*(df_an_cross.close[i] - df_an_cross.high[i-1] ) + df_an_cross.close[i]):\n",
    "#                     df_an_cross.SIGNAL[i] = SELL\n",
    "                    df_an_cross['SL'][i] = df_an_cross.high[i-1] #+ SPREAD\n",
    "                    df_an_cross['TP'][i] = 2*(df_an_cross.close[i] - df_an_cross.high[i-1] ) + df_an_cross.close[i]\n",
    "                    break"
   ]
  },
  {
   "cell_type": "code",
   "execution_count": 25,
   "id": "b8701a18",
   "metadata": {},
   "outputs": [],
   "source": [
    "df_an_cross.pivots_l = df_an_cross.pivots_l.astype(float)\n",
    "df_an_cross.pivots_h = df_an_cross.pivots_h.astype(float)"
   ]
  },
  {
   "cell_type": "code",
   "execution_count": 36,
   "id": "4e2487e3",
   "metadata": {},
   "outputs": [
    {
     "name": "stdout",
     "output_type": "stream",
     "text": [
      "im here\n",
      "im here\n",
      "im here\n",
      "im here\n",
      "im here\n",
      "im here\n",
      "im here\n",
      "im here\n",
      "im here\n",
      "im here\n",
      "im here\n",
      "im here\n",
      "im here\n",
      "im here\n",
      "im here\n",
      "im here\n",
      "im here\n",
      "im here\n",
      "im here\n",
      "im here\n",
      "im here\n",
      "im here\n",
      "im here\n",
      "im here\n",
      "im here\n",
      "im here\n",
      "im here\n",
      "im here\n",
      "im here\n",
      "im here\n",
      "im here\n",
      "im here\n",
      "im here\n",
      "im here\n",
      "im here\n",
      "im here\n",
      "im here\n",
      "im here\n",
      "im here\n",
      "im here\n",
      "im here\n",
      "im here\n",
      "im here\n",
      "im here\n",
      "im here\n",
      "im here\n",
      "im here\n",
      "im here\n",
      "im here\n",
      "im here\n",
      "im here\n",
      "im here\n",
      "im here\n",
      "im here\n",
      "im here\n",
      "im here\n",
      "im here\n",
      "im here\n",
      "im here\n",
      "im here\n",
      "im here\n",
      "im here\n",
      "im here\n",
      "im here\n",
      "im here\n",
      "im here\n",
      "im here\n",
      "im here\n",
      "im here\n",
      "im here\n",
      "im here\n",
      "im here\n",
      "im here\n",
      "im here\n",
      "im here\n",
      "im here\n",
      "im here\n",
      "im here\n",
      "im here\n",
      "im here\n",
      "im here\n",
      "im here\n",
      "im here\n",
      "im here\n",
      "im here\n",
      "im here\n",
      "im here\n",
      "im here\n",
      "im here\n",
      "im here\n",
      "im here\n",
      "im here\n",
      "im here\n",
      "im here\n",
      "im here\n",
      "im here\n",
      "im here\n",
      "im here\n",
      "im here\n",
      "im here\n",
      "im here\n",
      "im here\n",
      "im here\n",
      "im here\n",
      "im here\n",
      "im here\n",
      "im here\n",
      "im here\n",
      "im here\n",
      "im here\n",
      "im here\n",
      "im here\n",
      "im here\n",
      "im here\n",
      "im here\n",
      "im here\n",
      "im here\n",
      "im here\n",
      "im here\n",
      "im here\n",
      "im here\n",
      "im here\n",
      "im here\n",
      "im here\n",
      "im here\n",
      "im here\n",
      "im here\n",
      "im here\n",
      "im here\n",
      "im here\n",
      "im here\n",
      "im here\n",
      "im here\n",
      "im here\n",
      "im here\n",
      "im here\n",
      "im here\n",
      "im here\n",
      "im here\n",
      "im here\n",
      "im here\n",
      "im here\n",
      "im here\n",
      "im here\n",
      "im here\n",
      "im here\n",
      "im here\n",
      "im here\n",
      "im here\n",
      "im here\n",
      "im here\n",
      "im here\n",
      "im here\n",
      "im here\n",
      "im here\n",
      "im here\n",
      "im here\n",
      "im here\n",
      "im here\n",
      "im here\n",
      "im here\n",
      "im here\n",
      "im here\n",
      "im here\n",
      "im here\n",
      "im here\n",
      "im here\n",
      "im here\n",
      "im here\n",
      "im here\n",
      "im here\n",
      "im here\n",
      "im here\n",
      "im here\n",
      "im here\n",
      "im here\n",
      "im here\n",
      "im here\n",
      "im here\n",
      "im here\n",
      "im here\n",
      "im here\n",
      "im here\n",
      "im here\n",
      "im here\n",
      "im here\n",
      "im here\n",
      "im here\n",
      "im here\n",
      "im here\n",
      "im here\n",
      "im here\n",
      "im here\n",
      "im here\n",
      "im here\n",
      "im here\n",
      "im here\n",
      "im here\n",
      "im here\n",
      "im here\n",
      "im here\n",
      "im here\n",
      "im here\n",
      "im here\n",
      "im here\n",
      "im here\n",
      "im here\n",
      "im here\n",
      "im here\n",
      "im here\n",
      "im here\n",
      "im here\n",
      "im here\n",
      "im here\n",
      "im here\n",
      "im here\n",
      "im here\n",
      "im here\n",
      "im here\n",
      "im here\n",
      "im here\n",
      "im here\n",
      "im here\n",
      "im here\n",
      "im here\n",
      "im here\n",
      "im here\n",
      "im here\n",
      "im here\n",
      "im here\n",
      "im here\n",
      "im here\n",
      "im here\n",
      "im here\n",
      "im here\n",
      "im here\n",
      "im here\n",
      "im here\n",
      "im here\n",
      "im here\n",
      "im here\n",
      "im here\n",
      "im here\n",
      "im here\n",
      "im here\n",
      "im here\n",
      "im here\n",
      "im here\n",
      "im here\n",
      "im here\n",
      "im here\n",
      "im here\n",
      "im here\n",
      "im here\n",
      "im here\n",
      "im here\n",
      "im here\n",
      "im here\n",
      "im here\n",
      "im here\n",
      "im here\n",
      "im here\n",
      "im here\n",
      "im here\n",
      "im here\n",
      "im here\n",
      "im here\n",
      "im here\n",
      "im here\n",
      "im here\n",
      "im here\n",
      "im here\n",
      "im here\n",
      "im here\n",
      "im here\n",
      "im here\n",
      "im here\n",
      "im here\n",
      "im here\n",
      "im here\n",
      "im here\n",
      "im here\n",
      "im here\n",
      "im here\n",
      "im here\n",
      "im here\n",
      "im here\n",
      "im here\n",
      "im here\n",
      "im here\n",
      "im here\n",
      "im here\n",
      "im here\n",
      "im here\n",
      "im here\n",
      "im here\n",
      "im here\n",
      "im here\n",
      "im here\n",
      "im here\n",
      "im here\n",
      "im here\n",
      "im here\n",
      "im here\n",
      "im here\n",
      "im here\n",
      "im here\n",
      "im here\n",
      "im here\n",
      "im here\n",
      "im here\n",
      "im here\n",
      "im here\n",
      "im here\n",
      "im here\n",
      "im here\n",
      "im here\n",
      "im here\n",
      "im here\n",
      "im here\n",
      "im here\n",
      "im here\n",
      "im here\n",
      "im here\n",
      "im here\n",
      "im here\n",
      "im here\n",
      "im here\n",
      "im here\n",
      "im here\n",
      "im here\n",
      "im here\n",
      "im here\n",
      "im here\n",
      "im here\n",
      "im here\n",
      "im here\n",
      "im here\n",
      "im here\n",
      "im here\n",
      "im here\n",
      "im here\n",
      "im here\n",
      "im here\n",
      "im here\n",
      "im here\n",
      "im here\n",
      "im here\n",
      "im here\n",
      "im here\n",
      "im here\n",
      "im here\n",
      "im here\n",
      "im here\n",
      "im here\n",
      "im here\n",
      "im here\n",
      "im here\n",
      "im here\n",
      "im here\n",
      "im here\n",
      "im here\n",
      "im here\n",
      "im here\n",
      "im here\n",
      "im here\n",
      "im here\n",
      "im here\n",
      "im here\n",
      "im here\n",
      "im here\n",
      "im here\n",
      "im here\n",
      "im here\n",
      "im here\n",
      "im here\n",
      "im here\n",
      "im here\n",
      "im here\n",
      "im here\n",
      "im here\n",
      "im here\n",
      "im here\n",
      "im here\n",
      "im here\n",
      "im here\n",
      "im here\n",
      "im here\n",
      "im here\n",
      "im here\n",
      "im here\n",
      "im here\n",
      "im here\n",
      "im here\n",
      "im here\n",
      "im here\n",
      "im here\n",
      "im here\n",
      "im here\n",
      "im here\n",
      "im here\n",
      "im here\n",
      "im here\n",
      "im here\n",
      "im here\n",
      "im here\n",
      "im here\n",
      "im here\n",
      "im here\n",
      "im here\n",
      "im here\n",
      "im here\n",
      "im here\n",
      "im here\n",
      "im here\n",
      "im here\n",
      "im here\n",
      "im here\n",
      "im here\n",
      "im here\n",
      "im here\n",
      "im here\n",
      "im here\n",
      "im here\n",
      "im here\n",
      "im here\n",
      "im here\n",
      "im here\n",
      "im here\n",
      "im here\n",
      "im here\n",
      "im here\n",
      "im here\n",
      "im here\n",
      "im here\n",
      "im here\n",
      "im here\n",
      "im here\n",
      "im here\n",
      "im here\n",
      "im here\n",
      "im here\n",
      "im here\n",
      "im here\n",
      "im here\n",
      "im here\n",
      "im here\n",
      "im here\n",
      "im here\n",
      "im here\n",
      "im here\n",
      "im here\n",
      "im here\n",
      "im here\n",
      "im here\n",
      "im here\n",
      "im here\n",
      "im here\n",
      "im here\n",
      "im here\n",
      "im here\n",
      "im here\n",
      "im here\n",
      "im here\n",
      "im here\n",
      "im here\n",
      "im here\n",
      "im here\n",
      "im here\n",
      "im here\n",
      "im here\n",
      "im here\n",
      "im here\n",
      "im here\n",
      "im here\n",
      "im here\n",
      "im here\n",
      "im here\n",
      "im here\n",
      "im here\n",
      "im here\n",
      "im here\n",
      "im here\n",
      "im here\n",
      "im here\n",
      "im here\n",
      "im here\n",
      "im here\n",
      "im here\n",
      "im here\n",
      "im here\n",
      "im here\n",
      "im here\n",
      "im here\n",
      "im here\n",
      "im here\n",
      "im here\n",
      "im here\n",
      "im here\n",
      "im here\n",
      "im here\n",
      "im here\n",
      "im here\n",
      "im here\n",
      "im here\n",
      "im here\n",
      "im here\n",
      "im here\n",
      "im here\n",
      "im here\n",
      "im here\n",
      "im here\n",
      "im here\n",
      "im here\n",
      "im here\n",
      "im here\n",
      "im here\n",
      "im here\n",
      "im here\n",
      "im here\n",
      "im here\n",
      "im here\n",
      "im here\n",
      "im here\n",
      "im here\n",
      "im here\n",
      "im here\n",
      "im here\n",
      "im here\n",
      "im here\n",
      "im here\n",
      "im here\n",
      "im here\n",
      "im here\n",
      "im here\n",
      "im here\n",
      "im here\n",
      "im here\n",
      "im here\n",
      "im here\n",
      "im here\n",
      "im here\n",
      "im here\n",
      "im here\n",
      "im here\n",
      "im here\n",
      "im here\n",
      "im here\n",
      "im here\n",
      "im here\n",
      "im here\n",
      "im here\n",
      "im here\n",
      "im here\n",
      "im here\n",
      "im here\n",
      "im here\n",
      "im here\n",
      "im here\n",
      "im here\n",
      "im here\n",
      "im here\n",
      "im here\n",
      "im here\n",
      "im here\n",
      "im here\n",
      "im here\n",
      "im here\n",
      "im here\n",
      "im here\n",
      "im here\n",
      "im here\n",
      "im here\n",
      "im here\n",
      "im here\n",
      "im here\n",
      "im here\n",
      "im here\n",
      "im here\n",
      "im here\n",
      "im here\n",
      "im here\n",
      "im here\n",
      "im here\n",
      "im here\n",
      "im here\n",
      "im here\n",
      "im here\n",
      "im here\n",
      "im here\n",
      "im here\n",
      "im here\n",
      "im here\n",
      "im here\n",
      "im here\n",
      "im here\n",
      "im here\n",
      "im here\n",
      "im here\n",
      "im here\n",
      "im here\n",
      "im here\n",
      "im here\n",
      "im here\n",
      "im here\n",
      "im here\n",
      "im here\n",
      "im here\n",
      "im here\n",
      "im here\n",
      "im here\n",
      "im here\n",
      "im here\n",
      "im here\n",
      "im here\n",
      "im here\n",
      "im here\n",
      "im here\n",
      "im here\n",
      "im here\n",
      "im here\n",
      "im here\n",
      "im here\n",
      "im here\n",
      "im here\n",
      "im here\n",
      "im here\n",
      "im here\n",
      "im here\n",
      "im here\n",
      "im here\n",
      "im here\n",
      "im here\n",
      "im here\n",
      "im here\n",
      "im here\n",
      "im here\n",
      "im here\n",
      "im here\n",
      "im here\n",
      "im here\n",
      "im here\n",
      "im here\n",
      "im here\n",
      "im here\n",
      "im here\n",
      "im here\n",
      "im here\n",
      "im here\n",
      "im here\n",
      "im here\n",
      "im here\n",
      "im here\n",
      "im here\n",
      "im here\n",
      "im here\n",
      "im here\n",
      "im here\n",
      "im here\n",
      "im here\n",
      "im here\n",
      "im here\n",
      "im here\n",
      "im here\n",
      "im here\n",
      "im here\n",
      "im here\n",
      "im here\n",
      "im here\n",
      "im here\n",
      "im here\n",
      "im here\n",
      "im here\n",
      "im here\n",
      "im here\n",
      "im here\n",
      "im here\n",
      "im here\n",
      "im here\n",
      "im here\n",
      "im here\n",
      "im here\n",
      "im here\n",
      "im here\n",
      "im here\n",
      "im here\n",
      "im here\n",
      "im here\n",
      "im here\n",
      "im here\n",
      "im here\n",
      "im here\n",
      "im here\n",
      "im here\n",
      "im here\n",
      "im here\n",
      "im here\n",
      "im here\n",
      "im here\n",
      "im here\n",
      "im here\n",
      "im here\n",
      "im here\n",
      "im here\n",
      "im here\n",
      "im here\n",
      "im here\n",
      "im here\n",
      "im here\n",
      "im here\n",
      "im here\n",
      "im here\n",
      "im here\n",
      "im here\n",
      "im here\n",
      "im here\n",
      "im here\n",
      "im here\n",
      "im here\n",
      "im here\n",
      "im here\n",
      "im here\n",
      "im here\n",
      "im here\n",
      "im here\n",
      "im here\n",
      "im here\n",
      "im here\n",
      "im here\n",
      "im here\n",
      "im here\n",
      "im here\n",
      "im here\n",
      "im here\n",
      "im here\n",
      "im here\n",
      "im here\n",
      "im here\n",
      "im here\n",
      "im here\n",
      "im here\n",
      "im here\n",
      "im here\n",
      "im here\n",
      "im here\n",
      "im here\n",
      "im here\n",
      "im here\n",
      "im here\n",
      "im here\n",
      "im here\n",
      "im here\n",
      "im here\n",
      "im here\n",
      "im here\n",
      "im here\n",
      "im here\n",
      "im here\n",
      "im here\n",
      "im here\n",
      "im here\n",
      "im here\n",
      "im here\n",
      "im here\n",
      "im here\n",
      "im here\n",
      "im here\n",
      "im here\n",
      "im here\n",
      "im here\n",
      "im here\n",
      "im here\n",
      "im here\n",
      "im here\n",
      "im here\n",
      "im here\n",
      "im here\n",
      "im here\n",
      "im here\n",
      "im here\n",
      "im here\n",
      "im here\n",
      "im here\n",
      "im here\n",
      "im here\n",
      "im here\n",
      "im here\n",
      "im here\n",
      "im here\n",
      "im here\n",
      "im here\n",
      "im here\n",
      "im here\n",
      "im here\n",
      "im here\n",
      "im here\n",
      "im here\n",
      "im here\n",
      "im here\n",
      "im here\n",
      "im here\n",
      "im here\n",
      "im here\n",
      "im here\n",
      "im here\n",
      "im here\n",
      "im here\n",
      "im here\n",
      "im here\n",
      "im here\n",
      "im here\n",
      "im here\n",
      "im here\n",
      "im here\n"
     ]
    }
   ],
   "source": [
    "X_cross = []\n",
    "Y_cross = [] \n",
    "feature_col = [\n",
    "    'open', 'high', 'low', 'close',\n",
    "               'RSI_14', 'ATR_14',\n",
    "    'BB_MA', 'BB_UP','BB_LW', 'EMA', 'KeUp', 'KeLo', \n",
    "    'MACD', 'SIGNAL_MACD', 'HIST',\n",
    "       'body_lower', 'body_upper', 'body_bottom_perc', 'body_top_perc',\n",
    "       'body_perc', 'direction', 'body_size', 'low_change', 'high_change', 'mid_point', 'mid_point_prev_2', 'body_size_prev',\n",
    "       'direction_prev', 'direction_prev_2', 'body_perc_prev','body_perc_prev_2',\n",
    "        'HANGING_MAN', 'SHOOTING_STAR', 'SPINNING_TOP',\n",
    "       'MARUBOZU', 'ENGULFING',\n",
    "    'TWEEZER_TOP', 'TWEEZER_BOTTOM',\n",
    "       'MORNING_STAR', 'EVENING_STAR'\n",
    "]\n",
    "indeces_cross = []\n",
    "for i in range(4,len(df_an_cross)):\n",
    "    if df_an_cross.pivots_h[i-1] or df_an_cross.pivots_l[i-1]:\n",
    "        print(\"im here\")\n",
    "        feature = []\n",
    "        feature.append(df_an_cross.pivots_h[i-1])\n",
    "        feature.append(df_an_cross.pivots_l[i-1])\n",
    "        for fc in feature_col:\n",
    "            feature.append(df_an_cross[fc][i])\n",
    "            feature.append(df_an_cross[fc][i-1])\n",
    "            feature.append(df_an_cross[fc][i-2])\n",
    "            feature.append(df_an_cross[fc][i-3])\n",
    "            feature.append(df_an_cross[fc][i-4])\n",
    "\n",
    "        X_cross.append(feature)\n",
    "        Y_cross.append(df_an_cross.SIGNAL[i])\n",
    "        indeces_cross.append(i)"
   ]
  },
  {
   "cell_type": "code",
   "execution_count": 38,
   "id": "c75e9c7f",
   "metadata": {},
   "outputs": [
    {
     "data": {
      "text/plain": [
       "202"
      ]
     },
     "execution_count": 38,
     "metadata": {},
     "output_type": "execute_result"
    }
   ],
   "source": [
    "len(feature)"
   ]
  },
  {
   "cell_type": "code",
   "execution_count": null,
   "id": "11dc1929",
   "metadata": {},
   "outputs": [],
   "source": []
  },
  {
   "cell_type": "code",
   "execution_count": 39,
   "id": "a9b267c3",
   "metadata": {},
   "outputs": [],
   "source": [
    "clf = pickle.load(open(\"GBPUSD.pickle\", \"rb\"))"
   ]
  },
  {
   "cell_type": "code",
   "execution_count": 40,
   "id": "e1644b5c",
   "metadata": {},
   "outputs": [],
   "source": [
    "y_perdict_cross = clf.predict(X_cross)"
   ]
  },
  {
   "cell_type": "code",
   "execution_count": 41,
   "id": "2d2de104",
   "metadata": {},
   "outputs": [
    {
     "data": {
      "text/plain": [
       "array([[  0,   0,   0],\n",
       "       [412,   0, 402],\n",
       "       [  0,   0,   0]], dtype=int64)"
      ]
     },
     "execution_count": 41,
     "metadata": {},
     "output_type": "execute_result"
    }
   ],
   "source": [
    "confusion_matrix(Y_cross, y_perdict_cross)"
   ]
  },
  {
   "cell_type": "code",
   "execution_count": 35,
   "id": "8b2f6219",
   "metadata": {},
   "outputs": [
    {
     "data": {
      "text/plain": [
       "0.0"
      ]
     },
     "execution_count": 35,
     "metadata": {},
     "output_type": "execute_result"
    }
   ],
   "source": [
    "(Y_cross==y_perdict_cross).sum()/len(y_perdict_cross)"
   ]
  },
  {
   "cell_type": "code",
   "execution_count": 42,
   "id": "fccc573f",
   "metadata": {},
   "outputs": [
    {
     "name": "stderr",
     "output_type": "stream",
     "text": [
      "C:\\Users\\meysam\\AppData\\Local\\Temp\\ipykernel_1984\\56276388.py:2: SettingWithCopyWarning:\n",
      "\n",
      "\n",
      "A value is trying to be set on a copy of a slice from a DataFrame.\n",
      "Try using .loc[row_indexer,col_indexer] = value instead\n",
      "\n",
      "See the caveats in the documentation: https://pandas.pydata.org/pandas-docs/stable/user_guide/indexing.html#returning-a-view-versus-a-copy\n",
      "\n",
      "C:\\Users\\meysam\\AppData\\Local\\Temp\\ipykernel_1984\\56276388.py:4: SettingWithCopyWarning:\n",
      "\n",
      "\n",
      "A value is trying to be set on a copy of a slice from a DataFrame\n",
      "\n",
      "See the caveats in the documentation: https://pandas.pydata.org/pandas-docs/stable/user_guide/indexing.html#returning-a-view-versus-a-copy\n",
      "\n"
     ]
    }
   ],
   "source": [
    "df_test = df_an_cross[['time', 'open', 'high', 'low', 'close','TP','SL']]#.iloc[indeces_cross[0]-5:].copy()\n",
    "df_test['SIGNAL'] = 0\n",
    "for i,idx in enumerate(indeces_cross):\n",
    "    df_test.SIGNAL.loc[idx] = y_perdict_cross[i]\n",
    "\n",
    "df_test.reset_index(drop=True, inplace=True)\n"
   ]
  },
  {
   "cell_type": "code",
   "execution_count": 43,
   "id": "155c6939",
   "metadata": {},
   "outputs": [
    {
     "name": "stdout",
     "output_type": "stream",
     "text": [
      "<class 'pandas.core.frame.DataFrame'>\n",
      "RangeIndex: 25545 entries, 0 to 25544\n",
      "Data columns (total 5 columns):\n",
      " #   Column  Non-Null Count  Dtype         \n",
      "---  ------  --------------  -----         \n",
      " 0   time    25545 non-null  datetime64[ns]\n",
      " 1   open    25545 non-null  float64       \n",
      " 2   high    25545 non-null  float64       \n",
      " 3   low     25545 non-null  float64       \n",
      " 4   close   25545 non-null  float64       \n",
      "dtypes: datetime64[ns](1), float64(4)\n",
      "memory usage: 998.0 KB\n"
     ]
    }
   ],
   "source": [
    "rates = Rates(pair_cross, 13*len(df_test), mt5.TIMEFRAME_M5)\n",
    "df_m5 = rates.get_rates_from_now()\n",
    "df_m5.reset_index(drop=True, inplace=True)\n",
    "df_m5.drop(['tick_volume', 'spread', 'real_volume'], axis=1, inplace=True)\n",
    "df_m5.info()"
   ]
  },
  {
   "cell_type": "code",
   "execution_count": 44,
   "id": "4345a8ce",
   "metadata": {},
   "outputs": [
    {
     "name": "stdout",
     "output_type": "stream",
     "text": [
      "prepare_data...\n"
     ]
    }
   ],
   "source": [
    "gt = GuruTester2(\n",
    "        df_test,\n",
    "        df_m5,\n",
    "        SPREAD,\n",
    "        use_spread=True\n",
    "    )"
   ]
  },
  {
   "cell_type": "code",
   "execution_count": 45,
   "id": "e35c7bad",
   "metadata": {},
   "outputs": [
    {
     "name": "stdout",
     "output_type": "stream",
     "text": [
      "run_test...\n",
      "Result:\n",
      "win rate:  0.657997399219766\n",
      " 2.0    506\n",
      "-1.0    263\n",
      "Name: result, dtype: int64\n"
     ]
    }
   ],
   "source": [
    "df_res_m5 = gt.run_test()"
   ]
  },
  {
   "cell_type": "code",
   "execution_count": 46,
   "id": "b2bb0847",
   "metadata": {},
   "outputs": [
    {
     "name": "stderr",
     "output_type": "stream",
     "text": [
      "C:\\Users\\meysam\\AppData\\Local\\Temp\\ipykernel_1984\\1186191000.py:11: SettingWithCopyWarning:\n",
      "\n",
      "\n",
      "A value is trying to be set on a copy of a slice from a DataFrame\n",
      "\n",
      "See the caveats in the documentation: https://pandas.pydata.org/pandas-docs/stable/user_guide/indexing.html#returning-a-view-versus-a-copy\n",
      "\n"
     ]
    }
   ],
   "source": [
    "df_res_m5['balance'] = 100\n",
    "loss_margin = 0.03\n",
    "perv_balance = 100\n",
    "\n",
    "# for index, row in df_res_m5.iterrows():\n",
    "for i in range(len(df_res_m5)):\n",
    "    if(df_res_m5.result[i] == -1):\n",
    "        df_res_m5['balance'][i] = perv_balance*(1-loss_margin) \n",
    "    elif(df_res_m5.result[i] == 2):\n",
    "        profit_to_loss = abs( (df_res_m5['start_price'][i]-df_res_m5['trigger_price'][i])/((df_res_m5['start_price'][i]-df_res_m5['SL'][i])) )\n",
    "        df_res_m5['balance'][i] = perv_balance*(1+profit_to_loss*loss_margin) \n",
    "    perv_balance = df_res_m5['balance'][i]"
   ]
  },
  {
   "cell_type": "code",
   "execution_count": 48,
   "id": "6bf63228",
   "metadata": {},
   "outputs": [
    {
     "name": "stderr",
     "output_type": "stream",
     "text": [
      "C:\\Users\\meysam\\AppData\\Local\\Temp\\ipykernel_1984\\597831068.py:2: SettingWithCopyWarning:\n",
      "\n",
      "\n",
      "A value is trying to be set on a copy of a slice from a DataFrame.\n",
      "Try using .loc[row_indexer,col_indexer] = value instead\n",
      "\n",
      "See the caveats in the documentation: https://pandas.pydata.org/pandas-docs/stable/user_guide/indexing.html#returning-a-view-versus-a-copy\n",
      "\n"
     ]
    },
    {
     "data": {
      "application/vnd.plotly.v1+json": {
       "config": {
        "plotlyServerURL": "https://plot.ly"
       },
       "data": [
        {
         "line": {
          "shape": "spline",
          "width": 2
         },
         "name": "balance",
         "type": "scatter",
         "x": [
          "s22-11-25 22:00",
          "s22-11-25 23:40",
          "s22-11-28 04:00",
          "s22-11-28 08:00",
          "s22-11-28 10:25",
          "s22-11-28 10:35",
          "s22-11-28 12:00",
          "s22-11-28 16:55",
          "s22-11-29 05:40",
          "s22-11-29 07:00",
          "s22-11-29 08:30",
          "s22-11-29 10:00",
          "s22-11-29 12:00",
          "s22-11-29 14:45",
          "s22-11-29 17:25",
          "s22-11-29 20:00",
          "s22-11-30 01:10",
          "s22-11-30 02:00",
          "s22-11-30 05:00",
          "s22-11-30 09:00",
          "s22-11-30 13:00",
          "s22-11-30 15:00",
          "s22-11-30 15:15",
          "s22-11-30 15:15",
          "s22-11-30 18:00",
          "s22-11-30 20:35",
          "s22-12-01 01:40",
          "s22-12-01 05:00",
          "s22-12-01 06:00",
          "s22-12-01 14:00",
          "s22-12-01 15:20",
          "s22-12-01 15:35",
          "s22-12-01 17:00",
          "s22-12-01 19:00",
          "s22-12-01 21:00",
          "s22-12-01 23:00",
          "s22-12-02 01:10",
          "s22-12-02 02:00",
          "s22-12-02 03:00",
          "s22-12-02 06:00",
          "s22-12-02 15:30",
          "s22-12-02 16:00",
          "s22-12-02 21:00",
          "s22-12-05 02:00",
          "s22-12-05 03:25",
          "s22-12-05 05:10",
          "s22-12-05 05:15",
          "s22-12-05 09:45",
          "s22-12-05 11:00",
          "s22-12-05 13:00",
          "s22-12-05 14:00",
          "s22-12-05 17:00",
          "s22-12-05 21:00",
          "s22-12-06 05:00",
          "s22-12-06 07:25",
          "s22-12-06 12:00",
          "s22-12-06 13:00",
          "s22-12-06 13:35",
          "s22-12-06 19:10",
          "s22-12-06 20:00",
          "s22-12-06 20:10",
          "s22-12-06 23:00",
          "s22-12-07 02:00",
          "s22-12-07 03:00",
          "s22-12-07 05:00",
          "s22-12-07 07:00",
          "s22-12-07 08:30",
          "s22-12-07 09:00",
          "s22-12-07 14:00",
          "s22-12-07 16:00",
          "s22-12-07 18:00",
          "s22-12-07 22:00",
          "s22-12-08 02:00",
          "s22-12-08 04:00",
          "s22-12-08 06:10",
          "s22-12-08 07:00",
          "s22-12-08 09:00",
          "s22-12-08 11:00",
          "s22-12-08 18:35",
          "s22-12-08 20:00",
          "s22-12-08 22:00",
          "s22-12-08 23:00",
          "s22-12-09 03:00",
          "s22-12-09 03:05",
          "s22-12-09 03:10",
          "s22-12-09 04:00",
          "s22-12-09 05:00",
          "s22-12-09 07:00",
          "s22-12-09 09:00",
          "s22-12-09 13:00",
          "s22-12-09 15:30",
          "s22-12-09 15:30",
          "s22-12-09 19:00",
          "s22-12-09 21:00",
          "s22-12-12 00:05",
          "s22-12-12 02:00",
          "s22-12-12 06:00",
          "s22-12-12 08:25",
          "s22-12-12 08:45",
          "s22-12-12 11:15",
          "s22-12-12 17:00",
          "s22-12-12 19:00",
          "s22-12-12 20:00",
          "s22-12-13 01:00",
          "s22-12-13 02:00",
          "s22-12-13 06:00",
          "s22-12-13 08:00",
          "s22-12-13 12:00",
          "s22-12-13 14:45",
          "s22-12-13 15:30",
          "s22-12-13 15:30",
          "s22-12-13 15:45",
          "s22-12-13 16:00",
          "s22-12-13 18:00",
          "s22-12-13 19:15",
          "s22-12-13 20:00",
          "s22-12-13 23:00",
          "s22-12-14 03:00",
          "s22-12-14 05:00",
          "s22-12-14 08:15",
          "s22-12-14 12:00",
          "s22-12-14 14:00",
          "s22-12-14 17:00",
          "s22-12-14 19:00",
          "s22-12-14 20:35",
          "s22-12-14 22:05",
          "s22-12-14 22:10",
          "s22-12-14 23:00",
          "s22-12-15 09:00",
          "s22-12-15 10:00",
          "s22-12-15 10:50",
          "s22-12-15 14:00",
          "s22-12-15 15:15",
          "s22-12-15 15:30",
          "s22-12-15 18:00",
          "s22-12-15 19:00",
          "s22-12-15 22:00",
          "s22-12-16 04:00",
          "s22-12-16 06:00",
          "s22-12-16 09:00",
          "s22-12-16 11:05",
          "s22-12-16 14:00",
          "s22-12-16 15:00",
          "s22-12-16 17:00",
          "s22-12-16 18:00",
          "s22-12-16 20:00",
          "s22-12-19 01:00",
          "s22-12-19 02:00",
          "s22-12-19 06:00",
          "s22-12-19 08:00",
          "s22-12-19 09:00",
          "s22-12-19 11:20",
          "s22-12-19 13:00",
          "s22-12-19 17:00",
          "s22-12-19 19:00",
          "s22-12-19 21:00",
          "s22-12-20 03:00",
          "s22-12-20 05:05",
          "s22-12-20 07:00",
          "s22-12-20 10:00",
          "s22-12-20 15:00",
          "s22-12-20 17:00",
          "s22-12-20 19:00",
          "s22-12-20 23:00",
          "s22-12-21 03:00",
          "s22-12-21 03:40",
          "s22-12-21 05:00",
          "s22-12-21 06:00",
          "s22-12-21 08:00",
          "s22-12-21 09:00",
          "s22-12-21 12:00",
          "s22-12-21 13:00",
          "s22-12-21 17:00",
          "s22-12-21 19:00",
          "s22-12-21 23:00",
          "s22-12-22 01:25",
          "s22-12-22 07:00",
          "s22-12-22 10:00",
          "s22-12-22 13:40",
          "s22-12-22 14:00",
          "s22-12-22 16:00",
          "s22-12-22 18:00",
          "s22-12-23 04:00",
          "s22-12-23 06:00",
          "s22-12-23 10:00",
          "s22-12-23 11:00",
          "s22-12-23 13:00",
          "s22-12-23 15:30",
          "s22-12-23 17:00",
          "s22-12-23 19:00",
          "s22-12-23 21:00",
          "s22-12-23 23:00",
          "s22-12-27 01:00",
          "s22-12-27 03:00",
          "s22-12-27 03:05",
          "s22-12-27 03:55",
          "s22-12-27 04:00",
          "s22-12-27 06:00",
          "s22-12-27 09:00",
          "s22-12-27 11:00",
          "s22-12-27 12:00"
         ],
         "xaxis": "x",
         "y": [
          100.00040337296632,
          110.33377838817073,
          107.0237650365256,
          103.81305208542983,
          111.22530400432849,
          119.12537796858798,
          119.1260620598839,
          126.61611321189903,
          134.13908357481444,
          134.13908357481444,
          143.8075499883241,
          143.80771621260334,
          139.49348472622523,
          147.97722484275562,
          157.4900464397889,
          157.4902292046994,
          166.91324794649995,
          161.90585050810495,
          157.0486749928618,
          152.33721474307595,
          147.76709830078366,
          147.76846640909292,
          156.6345743936385,
          168.38216747316204,
          163.33070244896717,
          175.16410867778018,
          185.82553952326188,
          180.25077333756403,
          180.25098067925745,
          174.84345125887972,
          169.59814772111332,
          180.55394047536058,
          180.55944804569427,
          175.14266460432344,
          175.14336462829647,
          175.1436641808143,
          185.53360352000007,
          185.5339207256823,
          179.96790310391182,
          179.9684673791831,
          212.04099358562934,
          205.67976377806045,
          199.50937086471862,
          199.58760983368484,
          212.71002885405815,
          206.3287279884364,
          218.5733018459164,
          232.01971003542505,
          232.02129276736906,
          225.060653984348,
          225.06487195435113,
          239.1199435498683,
          239.1207635614867,
          231.9471406546421,
          224.98872643500283,
          218.23906464195275,
          218.2398127548016,
          231.93723258164715,
          224.97911560419774,
          218.2297421360718,
          231.52496950313,
          231.52530120079402,
          231.52563297181516,
          224.5798639826607,
          224.5801858471349,
          224.58289005518117,
          238.56498611345714,
          231.4080365300534,
          224.4657954341518,
          238.14417984342055,
          230.99985444811793,
          224.06985881467438,
          224.07171323884032,
          217.3495618416751,
          230.0282862824332,
          230.02841770839308,
          230.03091181056243,
          244.4601235514074,
          260.3244604396169,
          260.5587524540124,
          260.5590485350924,
          252.74227707903964,
          245.16000876666845,
          272.1721842780468,
          289.25705208322273,
          289.2582004386137,
          280.5804544254553,
          272.1630407926916,
          263.9981495689109,
          264.00212484220634,
          280.79612862322745,
          309.82437705522534,
          310.46539300775294,
          310.46574615043966,
          331.2669511425147,
          321.32894260823923,
          311.689074329992,
          331.45906704463215,
          349.816799988641,
          370.66494216246133,
          359.54499389758746,
          359.54724429300484,
          359.54837058722217,
          348.7619194696055,
          338.29906188551735,
          328.1500900289518,
          328.15036993027394,
          318.3058588323657,
          336.3163295789549,
          372.95040800280594,
          422.3809054384921,
          449.11425265704077,
          449.13070419212073,
          435.6567830663571,
          422.5870795743664,
          409.90946718713536,
          397.6121831715213,
          397.615323307037,
          385.68686360782584,
          407.1751317231126,
          407.1783394803051,
          394.96298929589597,
          383.11409961701906,
          371.6206766285085,
          395.7160817905477,
          383.84459933683127,
          409.50234860048573,
          409.5025786601391,
          409.50465403688685,
          397.2195144157802,
          421.6397091936567,
          458.05404771493374,
          494.5711342966447,
          524.6950124765322,
          508.9541621022362,
          508.95602808568344,
          508.95976217246323,
          538.383998423055,
          522.2324784703634,
          522.2386532268301,
          554.4085542656037,
          554.4126201820203,
          537.7802415765597,
          537.7803931521929,
          521.6469813576272,
          521.6503751592351,
          521.6506706337319,
          506.00115051471994,
          490.82111599927833,
          476.09648251929997,
          476.09849809324703,
          505.70527109208257,
          490.53411295932005,
          490.5396642379827,
          490.54243465721635,
          475.82616161749985,
          461.5513767689748,
          492.01376763572716,
          477.2533546066553,
          506.55228571396685,
          491.35571714254786,
          491.3633397161966,
          476.62243952471067,
          476.62755783497516,
          462.3287310999259,
          491.7668054066886,
          527.1740153959768,
          511.35879493409743,
          496.0180310860745,
          481.13749015349225,
          466.7033654488875,
          466.704024677884,
          452.70290393754743,
          439.121816819421,
          425.9481623148383,
          451.01357340491137,
          477.79250432582927,
          463.4587291960544,
          490.9478461873015,
          476.21941080168244,
          461.932828477632,
          461.9372724854514,
          448.0791543108878,
          434.63677968156117,
          434.63714771631777,
          421.5980332848282,
          421.5981523791964,
          477.54922921190564,
          463.2227523355485,
          449.32606976548203,
          435.8462876725176,
          422.770899042342,
          422.7720914690062,
          423.27142858491555,
          449.3253870376522,
          476.10109532885065,
          504.3425466654037,
          489.2122702654416,
          519.6726569046056,
          504.08247719746737,
          504.08304459700463
         ],
         "yaxis": "y"
        }
       ],
       "layout": {
        "font": {
         "color": "#e1e1e1",
         "size": 8
        },
        "height": 600,
        "margin": {
         "b": 10,
         "l": 10,
         "r": 10,
         "t": 10
        },
        "paper_bgcolor": "#2c303c",
        "plot_bgcolor": "#2c303c",
        "template": {
         "data": {
          "bar": [
           {
            "error_x": {
             "color": "#2a3f5f"
            },
            "error_y": {
             "color": "#2a3f5f"
            },
            "marker": {
             "line": {
              "color": "#E5ECF6",
              "width": 0.5
             },
             "pattern": {
              "fillmode": "overlay",
              "size": 10,
              "solidity": 0.2
             }
            },
            "type": "bar"
           }
          ],
          "barpolar": [
           {
            "marker": {
             "line": {
              "color": "#E5ECF6",
              "width": 0.5
             },
             "pattern": {
              "fillmode": "overlay",
              "size": 10,
              "solidity": 0.2
             }
            },
            "type": "barpolar"
           }
          ],
          "carpet": [
           {
            "aaxis": {
             "endlinecolor": "#2a3f5f",
             "gridcolor": "white",
             "linecolor": "white",
             "minorgridcolor": "white",
             "startlinecolor": "#2a3f5f"
            },
            "baxis": {
             "endlinecolor": "#2a3f5f",
             "gridcolor": "white",
             "linecolor": "white",
             "minorgridcolor": "white",
             "startlinecolor": "#2a3f5f"
            },
            "type": "carpet"
           }
          ],
          "choropleth": [
           {
            "colorbar": {
             "outlinewidth": 0,
             "ticks": ""
            },
            "type": "choropleth"
           }
          ],
          "contour": [
           {
            "colorbar": {
             "outlinewidth": 0,
             "ticks": ""
            },
            "colorscale": [
             [
              0,
              "#0d0887"
             ],
             [
              0.1111111111111111,
              "#46039f"
             ],
             [
              0.2222222222222222,
              "#7201a8"
             ],
             [
              0.3333333333333333,
              "#9c179e"
             ],
             [
              0.4444444444444444,
              "#bd3786"
             ],
             [
              0.5555555555555556,
              "#d8576b"
             ],
             [
              0.6666666666666666,
              "#ed7953"
             ],
             [
              0.7777777777777778,
              "#fb9f3a"
             ],
             [
              0.8888888888888888,
              "#fdca26"
             ],
             [
              1,
              "#f0f921"
             ]
            ],
            "type": "contour"
           }
          ],
          "contourcarpet": [
           {
            "colorbar": {
             "outlinewidth": 0,
             "ticks": ""
            },
            "type": "contourcarpet"
           }
          ],
          "heatmap": [
           {
            "colorbar": {
             "outlinewidth": 0,
             "ticks": ""
            },
            "colorscale": [
             [
              0,
              "#0d0887"
             ],
             [
              0.1111111111111111,
              "#46039f"
             ],
             [
              0.2222222222222222,
              "#7201a8"
             ],
             [
              0.3333333333333333,
              "#9c179e"
             ],
             [
              0.4444444444444444,
              "#bd3786"
             ],
             [
              0.5555555555555556,
              "#d8576b"
             ],
             [
              0.6666666666666666,
              "#ed7953"
             ],
             [
              0.7777777777777778,
              "#fb9f3a"
             ],
             [
              0.8888888888888888,
              "#fdca26"
             ],
             [
              1,
              "#f0f921"
             ]
            ],
            "type": "heatmap"
           }
          ],
          "heatmapgl": [
           {
            "colorbar": {
             "outlinewidth": 0,
             "ticks": ""
            },
            "colorscale": [
             [
              0,
              "#0d0887"
             ],
             [
              0.1111111111111111,
              "#46039f"
             ],
             [
              0.2222222222222222,
              "#7201a8"
             ],
             [
              0.3333333333333333,
              "#9c179e"
             ],
             [
              0.4444444444444444,
              "#bd3786"
             ],
             [
              0.5555555555555556,
              "#d8576b"
             ],
             [
              0.6666666666666666,
              "#ed7953"
             ],
             [
              0.7777777777777778,
              "#fb9f3a"
             ],
             [
              0.8888888888888888,
              "#fdca26"
             ],
             [
              1,
              "#f0f921"
             ]
            ],
            "type": "heatmapgl"
           }
          ],
          "histogram": [
           {
            "marker": {
             "pattern": {
              "fillmode": "overlay",
              "size": 10,
              "solidity": 0.2
             }
            },
            "type": "histogram"
           }
          ],
          "histogram2d": [
           {
            "colorbar": {
             "outlinewidth": 0,
             "ticks": ""
            },
            "colorscale": [
             [
              0,
              "#0d0887"
             ],
             [
              0.1111111111111111,
              "#46039f"
             ],
             [
              0.2222222222222222,
              "#7201a8"
             ],
             [
              0.3333333333333333,
              "#9c179e"
             ],
             [
              0.4444444444444444,
              "#bd3786"
             ],
             [
              0.5555555555555556,
              "#d8576b"
             ],
             [
              0.6666666666666666,
              "#ed7953"
             ],
             [
              0.7777777777777778,
              "#fb9f3a"
             ],
             [
              0.8888888888888888,
              "#fdca26"
             ],
             [
              1,
              "#f0f921"
             ]
            ],
            "type": "histogram2d"
           }
          ],
          "histogram2dcontour": [
           {
            "colorbar": {
             "outlinewidth": 0,
             "ticks": ""
            },
            "colorscale": [
             [
              0,
              "#0d0887"
             ],
             [
              0.1111111111111111,
              "#46039f"
             ],
             [
              0.2222222222222222,
              "#7201a8"
             ],
             [
              0.3333333333333333,
              "#9c179e"
             ],
             [
              0.4444444444444444,
              "#bd3786"
             ],
             [
              0.5555555555555556,
              "#d8576b"
             ],
             [
              0.6666666666666666,
              "#ed7953"
             ],
             [
              0.7777777777777778,
              "#fb9f3a"
             ],
             [
              0.8888888888888888,
              "#fdca26"
             ],
             [
              1,
              "#f0f921"
             ]
            ],
            "type": "histogram2dcontour"
           }
          ],
          "mesh3d": [
           {
            "colorbar": {
             "outlinewidth": 0,
             "ticks": ""
            },
            "type": "mesh3d"
           }
          ],
          "parcoords": [
           {
            "line": {
             "colorbar": {
              "outlinewidth": 0,
              "ticks": ""
             }
            },
            "type": "parcoords"
           }
          ],
          "pie": [
           {
            "automargin": true,
            "type": "pie"
           }
          ],
          "scatter": [
           {
            "fillpattern": {
             "fillmode": "overlay",
             "size": 10,
             "solidity": 0.2
            },
            "type": "scatter"
           }
          ],
          "scatter3d": [
           {
            "line": {
             "colorbar": {
              "outlinewidth": 0,
              "ticks": ""
             }
            },
            "marker": {
             "colorbar": {
              "outlinewidth": 0,
              "ticks": ""
             }
            },
            "type": "scatter3d"
           }
          ],
          "scattercarpet": [
           {
            "marker": {
             "colorbar": {
              "outlinewidth": 0,
              "ticks": ""
             }
            },
            "type": "scattercarpet"
           }
          ],
          "scattergeo": [
           {
            "marker": {
             "colorbar": {
              "outlinewidth": 0,
              "ticks": ""
             }
            },
            "type": "scattergeo"
           }
          ],
          "scattergl": [
           {
            "marker": {
             "colorbar": {
              "outlinewidth": 0,
              "ticks": ""
             }
            },
            "type": "scattergl"
           }
          ],
          "scattermapbox": [
           {
            "marker": {
             "colorbar": {
              "outlinewidth": 0,
              "ticks": ""
             }
            },
            "type": "scattermapbox"
           }
          ],
          "scatterpolar": [
           {
            "marker": {
             "colorbar": {
              "outlinewidth": 0,
              "ticks": ""
             }
            },
            "type": "scatterpolar"
           }
          ],
          "scatterpolargl": [
           {
            "marker": {
             "colorbar": {
              "outlinewidth": 0,
              "ticks": ""
             }
            },
            "type": "scatterpolargl"
           }
          ],
          "scatterternary": [
           {
            "marker": {
             "colorbar": {
              "outlinewidth": 0,
              "ticks": ""
             }
            },
            "type": "scatterternary"
           }
          ],
          "surface": [
           {
            "colorbar": {
             "outlinewidth": 0,
             "ticks": ""
            },
            "colorscale": [
             [
              0,
              "#0d0887"
             ],
             [
              0.1111111111111111,
              "#46039f"
             ],
             [
              0.2222222222222222,
              "#7201a8"
             ],
             [
              0.3333333333333333,
              "#9c179e"
             ],
             [
              0.4444444444444444,
              "#bd3786"
             ],
             [
              0.5555555555555556,
              "#d8576b"
             ],
             [
              0.6666666666666666,
              "#ed7953"
             ],
             [
              0.7777777777777778,
              "#fb9f3a"
             ],
             [
              0.8888888888888888,
              "#fdca26"
             ],
             [
              1,
              "#f0f921"
             ]
            ],
            "type": "surface"
           }
          ],
          "table": [
           {
            "cells": {
             "fill": {
              "color": "#EBF0F8"
             },
             "line": {
              "color": "white"
             }
            },
            "header": {
             "fill": {
              "color": "#C8D4E3"
             },
             "line": {
              "color": "white"
             }
            },
            "type": "table"
           }
          ]
         },
         "layout": {
          "annotationdefaults": {
           "arrowcolor": "#2a3f5f",
           "arrowhead": 0,
           "arrowwidth": 1
          },
          "autotypenumbers": "strict",
          "coloraxis": {
           "colorbar": {
            "outlinewidth": 0,
            "ticks": ""
           }
          },
          "colorscale": {
           "diverging": [
            [
             0,
             "#8e0152"
            ],
            [
             0.1,
             "#c51b7d"
            ],
            [
             0.2,
             "#de77ae"
            ],
            [
             0.3,
             "#f1b6da"
            ],
            [
             0.4,
             "#fde0ef"
            ],
            [
             0.5,
             "#f7f7f7"
            ],
            [
             0.6,
             "#e6f5d0"
            ],
            [
             0.7,
             "#b8e186"
            ],
            [
             0.8,
             "#7fbc41"
            ],
            [
             0.9,
             "#4d9221"
            ],
            [
             1,
             "#276419"
            ]
           ],
           "sequential": [
            [
             0,
             "#0d0887"
            ],
            [
             0.1111111111111111,
             "#46039f"
            ],
            [
             0.2222222222222222,
             "#7201a8"
            ],
            [
             0.3333333333333333,
             "#9c179e"
            ],
            [
             0.4444444444444444,
             "#bd3786"
            ],
            [
             0.5555555555555556,
             "#d8576b"
            ],
            [
             0.6666666666666666,
             "#ed7953"
            ],
            [
             0.7777777777777778,
             "#fb9f3a"
            ],
            [
             0.8888888888888888,
             "#fdca26"
            ],
            [
             1,
             "#f0f921"
            ]
           ],
           "sequentialminus": [
            [
             0,
             "#0d0887"
            ],
            [
             0.1111111111111111,
             "#46039f"
            ],
            [
             0.2222222222222222,
             "#7201a8"
            ],
            [
             0.3333333333333333,
             "#9c179e"
            ],
            [
             0.4444444444444444,
             "#bd3786"
            ],
            [
             0.5555555555555556,
             "#d8576b"
            ],
            [
             0.6666666666666666,
             "#ed7953"
            ],
            [
             0.7777777777777778,
             "#fb9f3a"
            ],
            [
             0.8888888888888888,
             "#fdca26"
            ],
            [
             1,
             "#f0f921"
            ]
           ]
          },
          "colorway": [
           "#636efa",
           "#EF553B",
           "#00cc96",
           "#ab63fa",
           "#FFA15A",
           "#19d3f3",
           "#FF6692",
           "#B6E880",
           "#FF97FF",
           "#FECB52"
          ],
          "font": {
           "color": "#2a3f5f"
          },
          "geo": {
           "bgcolor": "white",
           "lakecolor": "white",
           "landcolor": "#E5ECF6",
           "showlakes": true,
           "showland": true,
           "subunitcolor": "white"
          },
          "hoverlabel": {
           "align": "left"
          },
          "hovermode": "closest",
          "mapbox": {
           "style": "light"
          },
          "paper_bgcolor": "white",
          "plot_bgcolor": "#E5ECF6",
          "polar": {
           "angularaxis": {
            "gridcolor": "white",
            "linecolor": "white",
            "ticks": ""
           },
           "bgcolor": "#E5ECF6",
           "radialaxis": {
            "gridcolor": "white",
            "linecolor": "white",
            "ticks": ""
           }
          },
          "scene": {
           "xaxis": {
            "backgroundcolor": "#E5ECF6",
            "gridcolor": "white",
            "gridwidth": 2,
            "linecolor": "white",
            "showbackground": true,
            "ticks": "",
            "zerolinecolor": "white"
           },
           "yaxis": {
            "backgroundcolor": "#E5ECF6",
            "gridcolor": "white",
            "gridwidth": 2,
            "linecolor": "white",
            "showbackground": true,
            "ticks": "",
            "zerolinecolor": "white"
           },
           "zaxis": {
            "backgroundcolor": "#E5ECF6",
            "gridcolor": "white",
            "gridwidth": 2,
            "linecolor": "white",
            "showbackground": true,
            "ticks": "",
            "zerolinecolor": "white"
           }
          },
          "shapedefaults": {
           "line": {
            "color": "#2a3f5f"
           }
          },
          "ternary": {
           "aaxis": {
            "gridcolor": "white",
            "linecolor": "white",
            "ticks": ""
           },
           "baxis": {
            "gridcolor": "white",
            "linecolor": "white",
            "ticks": ""
           },
           "bgcolor": "#E5ECF6",
           "caxis": {
            "gridcolor": "white",
            "linecolor": "white",
            "ticks": ""
           }
          },
          "title": {
           "x": 0.05
          },
          "xaxis": {
           "automargin": true,
           "gridcolor": "white",
           "linecolor": "white",
           "ticks": "",
           "title": {
            "standoff": 15
           },
           "zerolinecolor": "white",
           "zerolinewidth": 2
          },
          "yaxis": {
           "automargin": true,
           "gridcolor": "white",
           "linecolor": "white",
           "ticks": "",
           "title": {
            "standoff": 15
           },
           "zerolinecolor": "white",
           "zerolinewidth": 2
          }
         }
        },
        "width": 1400,
        "xaxis": {
         "anchor": "y",
         "domain": [
          0,
          0.94
         ],
         "gridcolor": "#1f292f",
         "nticks": 5,
         "rangeslider": {
          "visible": false
         }
        },
        "yaxis": {
         "anchor": "x",
         "domain": [
          0,
          1
         ],
         "gridcolor": "#1f292f"
        },
        "yaxis2": {
         "anchor": "x",
         "gridcolor": "#1f292f",
         "overlaying": "y",
         "side": "right"
        }
       }
      },
      "text/html": [
       "<div>                            <div id=\"103431ff-91c1-41f3-858b-37a7256b774b\" class=\"plotly-graph-div\" style=\"height:600px; width:1400px;\"></div>            <script type=\"text/javascript\">                require([\"plotly\"], function(Plotly) {                    window.PLOTLYENV=window.PLOTLYENV || {};                                    if (document.getElementById(\"103431ff-91c1-41f3-858b-37a7256b774b\")) {                    Plotly.newPlot(                        \"103431ff-91c1-41f3-858b-37a7256b774b\",                        [{\"line\":{\"shape\":\"spline\",\"width\":2},\"name\":\"balance\",\"x\":[\"s22-11-25 22:00\",\"s22-11-25 23:40\",\"s22-11-28 04:00\",\"s22-11-28 08:00\",\"s22-11-28 10:25\",\"s22-11-28 10:35\",\"s22-11-28 12:00\",\"s22-11-28 16:55\",\"s22-11-29 05:40\",\"s22-11-29 07:00\",\"s22-11-29 08:30\",\"s22-11-29 10:00\",\"s22-11-29 12:00\",\"s22-11-29 14:45\",\"s22-11-29 17:25\",\"s22-11-29 20:00\",\"s22-11-30 01:10\",\"s22-11-30 02:00\",\"s22-11-30 05:00\",\"s22-11-30 09:00\",\"s22-11-30 13:00\",\"s22-11-30 15:00\",\"s22-11-30 15:15\",\"s22-11-30 15:15\",\"s22-11-30 18:00\",\"s22-11-30 20:35\",\"s22-12-01 01:40\",\"s22-12-01 05:00\",\"s22-12-01 06:00\",\"s22-12-01 14:00\",\"s22-12-01 15:20\",\"s22-12-01 15:35\",\"s22-12-01 17:00\",\"s22-12-01 19:00\",\"s22-12-01 21:00\",\"s22-12-01 23:00\",\"s22-12-02 01:10\",\"s22-12-02 02:00\",\"s22-12-02 03:00\",\"s22-12-02 06:00\",\"s22-12-02 15:30\",\"s22-12-02 16:00\",\"s22-12-02 21:00\",\"s22-12-05 02:00\",\"s22-12-05 03:25\",\"s22-12-05 05:10\",\"s22-12-05 05:15\",\"s22-12-05 09:45\",\"s22-12-05 11:00\",\"s22-12-05 13:00\",\"s22-12-05 14:00\",\"s22-12-05 17:00\",\"s22-12-05 21:00\",\"s22-12-06 05:00\",\"s22-12-06 07:25\",\"s22-12-06 12:00\",\"s22-12-06 13:00\",\"s22-12-06 13:35\",\"s22-12-06 19:10\",\"s22-12-06 20:00\",\"s22-12-06 20:10\",\"s22-12-06 23:00\",\"s22-12-07 02:00\",\"s22-12-07 03:00\",\"s22-12-07 05:00\",\"s22-12-07 07:00\",\"s22-12-07 08:30\",\"s22-12-07 09:00\",\"s22-12-07 14:00\",\"s22-12-07 16:00\",\"s22-12-07 18:00\",\"s22-12-07 22:00\",\"s22-12-08 02:00\",\"s22-12-08 04:00\",\"s22-12-08 06:10\",\"s22-12-08 07:00\",\"s22-12-08 09:00\",\"s22-12-08 11:00\",\"s22-12-08 18:35\",\"s22-12-08 20:00\",\"s22-12-08 22:00\",\"s22-12-08 23:00\",\"s22-12-09 03:00\",\"s22-12-09 03:05\",\"s22-12-09 03:10\",\"s22-12-09 04:00\",\"s22-12-09 05:00\",\"s22-12-09 07:00\",\"s22-12-09 09:00\",\"s22-12-09 13:00\",\"s22-12-09 15:30\",\"s22-12-09 15:30\",\"s22-12-09 19:00\",\"s22-12-09 21:00\",\"s22-12-12 00:05\",\"s22-12-12 02:00\",\"s22-12-12 06:00\",\"s22-12-12 08:25\",\"s22-12-12 08:45\",\"s22-12-12 11:15\",\"s22-12-12 17:00\",\"s22-12-12 19:00\",\"s22-12-12 20:00\",\"s22-12-13 01:00\",\"s22-12-13 02:00\",\"s22-12-13 06:00\",\"s22-12-13 08:00\",\"s22-12-13 12:00\",\"s22-12-13 14:45\",\"s22-12-13 15:30\",\"s22-12-13 15:30\",\"s22-12-13 15:45\",\"s22-12-13 16:00\",\"s22-12-13 18:00\",\"s22-12-13 19:15\",\"s22-12-13 20:00\",\"s22-12-13 23:00\",\"s22-12-14 03:00\",\"s22-12-14 05:00\",\"s22-12-14 08:15\",\"s22-12-14 12:00\",\"s22-12-14 14:00\",\"s22-12-14 17:00\",\"s22-12-14 19:00\",\"s22-12-14 20:35\",\"s22-12-14 22:05\",\"s22-12-14 22:10\",\"s22-12-14 23:00\",\"s22-12-15 09:00\",\"s22-12-15 10:00\",\"s22-12-15 10:50\",\"s22-12-15 14:00\",\"s22-12-15 15:15\",\"s22-12-15 15:30\",\"s22-12-15 18:00\",\"s22-12-15 19:00\",\"s22-12-15 22:00\",\"s22-12-16 04:00\",\"s22-12-16 06:00\",\"s22-12-16 09:00\",\"s22-12-16 11:05\",\"s22-12-16 14:00\",\"s22-12-16 15:00\",\"s22-12-16 17:00\",\"s22-12-16 18:00\",\"s22-12-16 20:00\",\"s22-12-19 01:00\",\"s22-12-19 02:00\",\"s22-12-19 06:00\",\"s22-12-19 08:00\",\"s22-12-19 09:00\",\"s22-12-19 11:20\",\"s22-12-19 13:00\",\"s22-12-19 17:00\",\"s22-12-19 19:00\",\"s22-12-19 21:00\",\"s22-12-20 03:00\",\"s22-12-20 05:05\",\"s22-12-20 07:00\",\"s22-12-20 10:00\",\"s22-12-20 15:00\",\"s22-12-20 17:00\",\"s22-12-20 19:00\",\"s22-12-20 23:00\",\"s22-12-21 03:00\",\"s22-12-21 03:40\",\"s22-12-21 05:00\",\"s22-12-21 06:00\",\"s22-12-21 08:00\",\"s22-12-21 09:00\",\"s22-12-21 12:00\",\"s22-12-21 13:00\",\"s22-12-21 17:00\",\"s22-12-21 19:00\",\"s22-12-21 23:00\",\"s22-12-22 01:25\",\"s22-12-22 07:00\",\"s22-12-22 10:00\",\"s22-12-22 13:40\",\"s22-12-22 14:00\",\"s22-12-22 16:00\",\"s22-12-22 18:00\",\"s22-12-23 04:00\",\"s22-12-23 06:00\",\"s22-12-23 10:00\",\"s22-12-23 11:00\",\"s22-12-23 13:00\",\"s22-12-23 15:30\",\"s22-12-23 17:00\",\"s22-12-23 19:00\",\"s22-12-23 21:00\",\"s22-12-23 23:00\",\"s22-12-27 01:00\",\"s22-12-27 03:00\",\"s22-12-27 03:05\",\"s22-12-27 03:55\",\"s22-12-27 04:00\",\"s22-12-27 06:00\",\"s22-12-27 09:00\",\"s22-12-27 11:00\",\"s22-12-27 12:00\"],\"y\":[100.00040337296632,110.33377838817073,107.0237650365256,103.81305208542983,111.22530400432849,119.12537796858798,119.1260620598839,126.61611321189903,134.13908357481444,134.13908357481444,143.8075499883241,143.80771621260334,139.49348472622523,147.97722484275562,157.4900464397889,157.4902292046994,166.91324794649995,161.90585050810495,157.0486749928618,152.33721474307595,147.76709830078366,147.76846640909292,156.6345743936385,168.38216747316204,163.33070244896717,175.16410867778018,185.82553952326188,180.25077333756403,180.25098067925745,174.84345125887972,169.59814772111332,180.55394047536058,180.55944804569427,175.14266460432344,175.14336462829647,175.1436641808143,185.53360352000007,185.5339207256823,179.96790310391182,179.9684673791831,212.04099358562934,205.67976377806045,199.50937086471862,199.58760983368484,212.71002885405815,206.3287279884364,218.5733018459164,232.01971003542505,232.02129276736906,225.060653984348,225.06487195435113,239.1199435498683,239.1207635614867,231.9471406546421,224.98872643500283,218.23906464195275,218.2398127548016,231.93723258164715,224.97911560419774,218.2297421360718,231.52496950313,231.52530120079402,231.52563297181516,224.5798639826607,224.5801858471349,224.58289005518117,238.56498611345714,231.4080365300534,224.4657954341518,238.14417984342055,230.99985444811793,224.06985881467438,224.07171323884032,217.3495618416751,230.0282862824332,230.02841770839308,230.03091181056243,244.4601235514074,260.3244604396169,260.5587524540124,260.5590485350924,252.74227707903964,245.16000876666845,272.1721842780468,289.25705208322273,289.2582004386137,280.5804544254553,272.1630407926916,263.9981495689109,264.00212484220634,280.79612862322745,309.82437705522534,310.46539300775294,310.46574615043966,331.2669511425147,321.32894260823923,311.689074329992,331.45906704463215,349.816799988641,370.66494216246133,359.54499389758746,359.54724429300484,359.54837058722217,348.7619194696055,338.29906188551735,328.1500900289518,328.15036993027394,318.3058588323657,336.3163295789549,372.95040800280594,422.3809054384921,449.11425265704077,449.13070419212073,435.6567830663571,422.5870795743664,409.90946718713536,397.6121831715213,397.615323307037,385.68686360782584,407.1751317231126,407.1783394803051,394.96298929589597,383.11409961701906,371.6206766285085,395.7160817905477,383.84459933683127,409.50234860048573,409.5025786601391,409.50465403688685,397.2195144157802,421.6397091936567,458.05404771493374,494.5711342966447,524.6950124765322,508.9541621022362,508.95602808568344,508.95976217246323,538.383998423055,522.2324784703634,522.2386532268301,554.4085542656037,554.4126201820203,537.7802415765597,537.7803931521929,521.6469813576272,521.6503751592351,521.6506706337319,506.00115051471994,490.82111599927833,476.09648251929997,476.09849809324703,505.70527109208257,490.53411295932005,490.5396642379827,490.54243465721635,475.82616161749985,461.5513767689748,492.01376763572716,477.2533546066553,506.55228571396685,491.35571714254786,491.3633397161966,476.62243952471067,476.62755783497516,462.3287310999259,491.7668054066886,527.1740153959768,511.35879493409743,496.0180310860745,481.13749015349225,466.7033654488875,466.704024677884,452.70290393754743,439.121816819421,425.9481623148383,451.01357340491137,477.79250432582927,463.4587291960544,490.9478461873015,476.21941080168244,461.932828477632,461.9372724854514,448.0791543108878,434.63677968156117,434.63714771631777,421.5980332848282,421.5981523791964,477.54922921190564,463.2227523355485,449.32606976548203,435.8462876725176,422.770899042342,422.7720914690062,423.27142858491555,449.3253870376522,476.10109532885065,504.3425466654037,489.2122702654416,519.6726569046056,504.08247719746737,504.08304459700463],\"type\":\"scatter\",\"xaxis\":\"x\",\"yaxis\":\"y\"}],                        {\"template\":{\"data\":{\"histogram2dcontour\":[{\"type\":\"histogram2dcontour\",\"colorbar\":{\"outlinewidth\":0,\"ticks\":\"\"},\"colorscale\":[[0.0,\"#0d0887\"],[0.1111111111111111,\"#46039f\"],[0.2222222222222222,\"#7201a8\"],[0.3333333333333333,\"#9c179e\"],[0.4444444444444444,\"#bd3786\"],[0.5555555555555556,\"#d8576b\"],[0.6666666666666666,\"#ed7953\"],[0.7777777777777778,\"#fb9f3a\"],[0.8888888888888888,\"#fdca26\"],[1.0,\"#f0f921\"]]}],\"choropleth\":[{\"type\":\"choropleth\",\"colorbar\":{\"outlinewidth\":0,\"ticks\":\"\"}}],\"histogram2d\":[{\"type\":\"histogram2d\",\"colorbar\":{\"outlinewidth\":0,\"ticks\":\"\"},\"colorscale\":[[0.0,\"#0d0887\"],[0.1111111111111111,\"#46039f\"],[0.2222222222222222,\"#7201a8\"],[0.3333333333333333,\"#9c179e\"],[0.4444444444444444,\"#bd3786\"],[0.5555555555555556,\"#d8576b\"],[0.6666666666666666,\"#ed7953\"],[0.7777777777777778,\"#fb9f3a\"],[0.8888888888888888,\"#fdca26\"],[1.0,\"#f0f921\"]]}],\"heatmap\":[{\"type\":\"heatmap\",\"colorbar\":{\"outlinewidth\":0,\"ticks\":\"\"},\"colorscale\":[[0.0,\"#0d0887\"],[0.1111111111111111,\"#46039f\"],[0.2222222222222222,\"#7201a8\"],[0.3333333333333333,\"#9c179e\"],[0.4444444444444444,\"#bd3786\"],[0.5555555555555556,\"#d8576b\"],[0.6666666666666666,\"#ed7953\"],[0.7777777777777778,\"#fb9f3a\"],[0.8888888888888888,\"#fdca26\"],[1.0,\"#f0f921\"]]}],\"heatmapgl\":[{\"type\":\"heatmapgl\",\"colorbar\":{\"outlinewidth\":0,\"ticks\":\"\"},\"colorscale\":[[0.0,\"#0d0887\"],[0.1111111111111111,\"#46039f\"],[0.2222222222222222,\"#7201a8\"],[0.3333333333333333,\"#9c179e\"],[0.4444444444444444,\"#bd3786\"],[0.5555555555555556,\"#d8576b\"],[0.6666666666666666,\"#ed7953\"],[0.7777777777777778,\"#fb9f3a\"],[0.8888888888888888,\"#fdca26\"],[1.0,\"#f0f921\"]]}],\"contourcarpet\":[{\"type\":\"contourcarpet\",\"colorbar\":{\"outlinewidth\":0,\"ticks\":\"\"}}],\"contour\":[{\"type\":\"contour\",\"colorbar\":{\"outlinewidth\":0,\"ticks\":\"\"},\"colorscale\":[[0.0,\"#0d0887\"],[0.1111111111111111,\"#46039f\"],[0.2222222222222222,\"#7201a8\"],[0.3333333333333333,\"#9c179e\"],[0.4444444444444444,\"#bd3786\"],[0.5555555555555556,\"#d8576b\"],[0.6666666666666666,\"#ed7953\"],[0.7777777777777778,\"#fb9f3a\"],[0.8888888888888888,\"#fdca26\"],[1.0,\"#f0f921\"]]}],\"surface\":[{\"type\":\"surface\",\"colorbar\":{\"outlinewidth\":0,\"ticks\":\"\"},\"colorscale\":[[0.0,\"#0d0887\"],[0.1111111111111111,\"#46039f\"],[0.2222222222222222,\"#7201a8\"],[0.3333333333333333,\"#9c179e\"],[0.4444444444444444,\"#bd3786\"],[0.5555555555555556,\"#d8576b\"],[0.6666666666666666,\"#ed7953\"],[0.7777777777777778,\"#fb9f3a\"],[0.8888888888888888,\"#fdca26\"],[1.0,\"#f0f921\"]]}],\"mesh3d\":[{\"type\":\"mesh3d\",\"colorbar\":{\"outlinewidth\":0,\"ticks\":\"\"}}],\"scatter\":[{\"fillpattern\":{\"fillmode\":\"overlay\",\"size\":10,\"solidity\":0.2},\"type\":\"scatter\"}],\"parcoords\":[{\"type\":\"parcoords\",\"line\":{\"colorbar\":{\"outlinewidth\":0,\"ticks\":\"\"}}}],\"scatterpolargl\":[{\"type\":\"scatterpolargl\",\"marker\":{\"colorbar\":{\"outlinewidth\":0,\"ticks\":\"\"}}}],\"bar\":[{\"error_x\":{\"color\":\"#2a3f5f\"},\"error_y\":{\"color\":\"#2a3f5f\"},\"marker\":{\"line\":{\"color\":\"#E5ECF6\",\"width\":0.5},\"pattern\":{\"fillmode\":\"overlay\",\"size\":10,\"solidity\":0.2}},\"type\":\"bar\"}],\"scattergeo\":[{\"type\":\"scattergeo\",\"marker\":{\"colorbar\":{\"outlinewidth\":0,\"ticks\":\"\"}}}],\"scatterpolar\":[{\"type\":\"scatterpolar\",\"marker\":{\"colorbar\":{\"outlinewidth\":0,\"ticks\":\"\"}}}],\"histogram\":[{\"marker\":{\"pattern\":{\"fillmode\":\"overlay\",\"size\":10,\"solidity\":0.2}},\"type\":\"histogram\"}],\"scattergl\":[{\"type\":\"scattergl\",\"marker\":{\"colorbar\":{\"outlinewidth\":0,\"ticks\":\"\"}}}],\"scatter3d\":[{\"type\":\"scatter3d\",\"line\":{\"colorbar\":{\"outlinewidth\":0,\"ticks\":\"\"}},\"marker\":{\"colorbar\":{\"outlinewidth\":0,\"ticks\":\"\"}}}],\"scattermapbox\":[{\"type\":\"scattermapbox\",\"marker\":{\"colorbar\":{\"outlinewidth\":0,\"ticks\":\"\"}}}],\"scatterternary\":[{\"type\":\"scatterternary\",\"marker\":{\"colorbar\":{\"outlinewidth\":0,\"ticks\":\"\"}}}],\"scattercarpet\":[{\"type\":\"scattercarpet\",\"marker\":{\"colorbar\":{\"outlinewidth\":0,\"ticks\":\"\"}}}],\"carpet\":[{\"aaxis\":{\"endlinecolor\":\"#2a3f5f\",\"gridcolor\":\"white\",\"linecolor\":\"white\",\"minorgridcolor\":\"white\",\"startlinecolor\":\"#2a3f5f\"},\"baxis\":{\"endlinecolor\":\"#2a3f5f\",\"gridcolor\":\"white\",\"linecolor\":\"white\",\"minorgridcolor\":\"white\",\"startlinecolor\":\"#2a3f5f\"},\"type\":\"carpet\"}],\"table\":[{\"cells\":{\"fill\":{\"color\":\"#EBF0F8\"},\"line\":{\"color\":\"white\"}},\"header\":{\"fill\":{\"color\":\"#C8D4E3\"},\"line\":{\"color\":\"white\"}},\"type\":\"table\"}],\"barpolar\":[{\"marker\":{\"line\":{\"color\":\"#E5ECF6\",\"width\":0.5},\"pattern\":{\"fillmode\":\"overlay\",\"size\":10,\"solidity\":0.2}},\"type\":\"barpolar\"}],\"pie\":[{\"automargin\":true,\"type\":\"pie\"}]},\"layout\":{\"autotypenumbers\":\"strict\",\"colorway\":[\"#636efa\",\"#EF553B\",\"#00cc96\",\"#ab63fa\",\"#FFA15A\",\"#19d3f3\",\"#FF6692\",\"#B6E880\",\"#FF97FF\",\"#FECB52\"],\"font\":{\"color\":\"#2a3f5f\"},\"hovermode\":\"closest\",\"hoverlabel\":{\"align\":\"left\"},\"paper_bgcolor\":\"white\",\"plot_bgcolor\":\"#E5ECF6\",\"polar\":{\"bgcolor\":\"#E5ECF6\",\"angularaxis\":{\"gridcolor\":\"white\",\"linecolor\":\"white\",\"ticks\":\"\"},\"radialaxis\":{\"gridcolor\":\"white\",\"linecolor\":\"white\",\"ticks\":\"\"}},\"ternary\":{\"bgcolor\":\"#E5ECF6\",\"aaxis\":{\"gridcolor\":\"white\",\"linecolor\":\"white\",\"ticks\":\"\"},\"baxis\":{\"gridcolor\":\"white\",\"linecolor\":\"white\",\"ticks\":\"\"},\"caxis\":{\"gridcolor\":\"white\",\"linecolor\":\"white\",\"ticks\":\"\"}},\"coloraxis\":{\"colorbar\":{\"outlinewidth\":0,\"ticks\":\"\"}},\"colorscale\":{\"sequential\":[[0.0,\"#0d0887\"],[0.1111111111111111,\"#46039f\"],[0.2222222222222222,\"#7201a8\"],[0.3333333333333333,\"#9c179e\"],[0.4444444444444444,\"#bd3786\"],[0.5555555555555556,\"#d8576b\"],[0.6666666666666666,\"#ed7953\"],[0.7777777777777778,\"#fb9f3a\"],[0.8888888888888888,\"#fdca26\"],[1.0,\"#f0f921\"]],\"sequentialminus\":[[0.0,\"#0d0887\"],[0.1111111111111111,\"#46039f\"],[0.2222222222222222,\"#7201a8\"],[0.3333333333333333,\"#9c179e\"],[0.4444444444444444,\"#bd3786\"],[0.5555555555555556,\"#d8576b\"],[0.6666666666666666,\"#ed7953\"],[0.7777777777777778,\"#fb9f3a\"],[0.8888888888888888,\"#fdca26\"],[1.0,\"#f0f921\"]],\"diverging\":[[0,\"#8e0152\"],[0.1,\"#c51b7d\"],[0.2,\"#de77ae\"],[0.3,\"#f1b6da\"],[0.4,\"#fde0ef\"],[0.5,\"#f7f7f7\"],[0.6,\"#e6f5d0\"],[0.7,\"#b8e186\"],[0.8,\"#7fbc41\"],[0.9,\"#4d9221\"],[1,\"#276419\"]]},\"xaxis\":{\"gridcolor\":\"white\",\"linecolor\":\"white\",\"ticks\":\"\",\"title\":{\"standoff\":15},\"zerolinecolor\":\"white\",\"automargin\":true,\"zerolinewidth\":2},\"yaxis\":{\"gridcolor\":\"white\",\"linecolor\":\"white\",\"ticks\":\"\",\"title\":{\"standoff\":15},\"zerolinecolor\":\"white\",\"automargin\":true,\"zerolinewidth\":2},\"scene\":{\"xaxis\":{\"backgroundcolor\":\"#E5ECF6\",\"gridcolor\":\"white\",\"linecolor\":\"white\",\"showbackground\":true,\"ticks\":\"\",\"zerolinecolor\":\"white\",\"gridwidth\":2},\"yaxis\":{\"backgroundcolor\":\"#E5ECF6\",\"gridcolor\":\"white\",\"linecolor\":\"white\",\"showbackground\":true,\"ticks\":\"\",\"zerolinecolor\":\"white\",\"gridwidth\":2},\"zaxis\":{\"backgroundcolor\":\"#E5ECF6\",\"gridcolor\":\"white\",\"linecolor\":\"white\",\"showbackground\":true,\"ticks\":\"\",\"zerolinecolor\":\"white\",\"gridwidth\":2}},\"shapedefaults\":{\"line\":{\"color\":\"#2a3f5f\"}},\"annotationdefaults\":{\"arrowcolor\":\"#2a3f5f\",\"arrowhead\":0,\"arrowwidth\":1},\"geo\":{\"bgcolor\":\"white\",\"landcolor\":\"#E5ECF6\",\"subunitcolor\":\"white\",\"showland\":true,\"showlakes\":true,\"lakecolor\":\"white\"},\"title\":{\"x\":0.05},\"mapbox\":{\"style\":\"light\"}}},\"xaxis\":{\"anchor\":\"y\",\"domain\":[0.0,0.94],\"rangeslider\":{\"visible\":false},\"gridcolor\":\"#1f292f\",\"nticks\":5},\"yaxis\":{\"anchor\":\"x\",\"domain\":[0.0,1.0],\"gridcolor\":\"#1f292f\"},\"yaxis2\":{\"anchor\":\"x\",\"overlaying\":\"y\",\"side\":\"right\",\"gridcolor\":\"#1f292f\"},\"margin\":{\"l\":10,\"r\":10,\"b\":10,\"t\":10},\"font\":{\"size\":8,\"color\":\"#e1e1e1\"},\"width\":1400,\"height\":600,\"paper_bgcolor\":\"#2c303c\",\"plot_bgcolor\":\"#2c303c\"},                        {\"responsive\": true}                    ).then(function(){\n",
       "                            \n",
       "var gd = document.getElementById('103431ff-91c1-41f3-858b-37a7256b774b');\n",
       "var x = new MutationObserver(function (mutations, observer) {{\n",
       "        var display = window.getComputedStyle(gd).display;\n",
       "        if (!display || display === 'none') {{\n",
       "            console.log([gd, 'removed!']);\n",
       "            Plotly.purge(gd);\n",
       "            observer.disconnect();\n",
       "        }}\n",
       "}});\n",
       "\n",
       "// Listen for the removal of the full notebook cells\n",
       "var notebookContainer = gd.closest('#notebook-container');\n",
       "if (notebookContainer) {{\n",
       "    x.observe(notebookContainer, {childList: true});\n",
       "}}\n",
       "\n",
       "// Listen for the clearing of the current output cell\n",
       "var outputEl = gd.closest('.output');\n",
       "if (outputEl) {{\n",
       "    x.observe(outputEl, {childList: true});\n",
       "}}\n",
       "\n",
       "                        })                };                });            </script>        </div>"
      ]
     },
     "metadata": {},
     "output_type": "display_data"
    }
   ],
   "source": [
    "df_res_m5_plot = df_res_m5.loc[:200]\n",
    "df_res_m5_plot['time'] = df_res_m5_plot['end_time']\n",
    "cp = CandlePlot(df_res_m5_plot, candles=False)\n",
    "cp.show_plot(line_traces=['balance'])"
   ]
  },
  {
   "cell_type": "code",
   "execution_count": null,
   "id": "1f5f7b09",
   "metadata": {},
   "outputs": [],
   "source": []
  },
  {
   "cell_type": "code",
   "execution_count": null,
   "id": "02631324",
   "metadata": {},
   "outputs": [],
   "source": []
  }
 ],
 "metadata": {
  "kernelspec": {
   "display_name": "Python 3 (ipykernel)",
   "language": "python",
   "name": "python3"
  },
  "language_info": {
   "codemirror_mode": {
    "name": "ipython",
    "version": 3
   },
   "file_extension": ".py",
   "mimetype": "text/x-python",
   "name": "python",
   "nbconvert_exporter": "python",
   "pygments_lexer": "ipython3",
   "version": "3.9.13"
  }
 },
 "nbformat": 4,
 "nbformat_minor": 5
}
