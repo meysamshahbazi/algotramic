{
 "cells": [
  {
   "cell_type": "code",
   "execution_count": 1,
   "id": "0973bcb1",
   "metadata": {},
   "outputs": [],
   "source": [
    "import pandas as pd\n",
    "import datetime as dt\n",
    "import plotly.graph_objects as go\n",
    "from technicals.indicators import RSI\n",
    "from technicals.patterns import apply_patterns\n",
    "from guruTester import GuruTester\n",
    "from plotting import CandlePlot\n",
    "import MetaTrader5 as mt5\n",
    "from datetime import datetime\n",
    "from getCandle import Rates"
   ]
  },
  {
   "cell_type": "markdown",
   "id": "2451cf31",
   "metadata": {},
   "source": [
    "# Write custom apply signal for strategy"
   ]
  },
  {
   "cell_type": "code",
   "execution_count": 2,
   "id": "fa855d4a",
   "metadata": {},
   "outputs": [],
   "source": [
    "BUY = 1\n",
    "SELL = -1\n",
    "NONE = 0\n",
    "RSI_LIMIT = 50.0\n",
    "\n",
    "def apply_signal(row):\n",
    "    if row.ENGULFING == True:\n",
    "        if row.direction == BUY and row.low > row.EMA_200:\n",
    "            if row.RSI_14 > RSI_LIMIT:\n",
    "                return BUY\n",
    "        if row.direction == SELL and row.high < row.EMA_200:\n",
    "            if row.RSI_14 < RSI_LIMIT:\n",
    "                return SELL\n",
    "    return NONE        "
   ]
  },
  {
   "cell_type": "code",
   "execution_count": 3,
   "id": "2d33b761",
   "metadata": {},
   "outputs": [],
   "source": [
    "pair = \"USDCHF\"\n",
    "NB_H1_CANDLES = 2000"
   ]
  },
  {
   "cell_type": "code",
   "execution_count": 4,
   "id": "759fdf87",
   "metadata": {},
   "outputs": [
    {
     "data": {
      "text/plain": [
       "9e-05"
      ]
     },
     "execution_count": 4,
     "metadata": {},
     "output_type": "execute_result"
    }
   ],
   "source": [
    "rates = Rates(pair, NB_H1_CANDLES, mt5.TIMEFRAME_H1)\n",
    "SPREAD = rates.get_spread()\n",
    "df_an = rates.get_rates_from_now()\n",
    "df_an.drop(NB_H1_CANDLES-1,inplace=True) \n",
    "rates = Rates(pair, 13*NB_H1_CANDLES, mt5.TIMEFRAME_M5)\n",
    "df_m5 = rates.get_rates_from_now()\n",
    "df_an.reset_index(drop=True, inplace=True)\n",
    "df_m5.reset_index(drop=True, inplace=True)\n",
    "SPREAD = (SPREAD//1e-5)*1e-5 # todo: do it right!!!\n",
    "SPREAD #= 0"
   ]
  },
  {
   "cell_type": "code",
   "execution_count": 5,
   "id": "ad2a0aa0",
   "metadata": {},
   "outputs": [],
   "source": [
    "df_an = RSI(df_an)\n",
    "df_an = apply_patterns(df_an)\n",
    "df_an['EMA_200'] = df_an.close.ewm(span=200, min_periods=200).mean()\n",
    "our_cols = ['time', 'open', 'high', 'low', 'close',\n",
    "        'ENGULFING', 'direction', 'EMA_200', 'RSI_14' ]\n",
    "df_slim = df_an[our_cols].copy()\n",
    "df_slim.dropna(inplace=True)\n",
    "df_slim.reset_index(drop=True, inplace=True)"
   ]
  },
  {
   "cell_type": "code",
   "execution_count": 6,
   "id": "7b11c459",
   "metadata": {},
   "outputs": [
    {
     "name": "stdout",
     "output_type": "stream",
     "text": [
      "prepare_data...\n"
     ]
    }
   ],
   "source": [
    "gt = GuruTester(\n",
    "        df_slim,\n",
    "        apply_signal,\n",
    "        df_m5,\n",
    "        SPREAD,\n",
    "        use_spread=True\n",
    "    )"
   ]
  },
  {
   "cell_type": "code",
   "execution_count": 7,
   "id": "90b462fc",
   "metadata": {},
   "outputs": [
    {
     "name": "stdout",
     "output_type": "stream",
     "text": [
      "run_test...\n"
     ]
    }
   ],
   "source": [
    "  df_res_m5 = gt.run_test()"
   ]
  },
  {
   "cell_type": "code",
   "execution_count": 9,
   "id": "59b10d08",
   "metadata": {},
   "outputs": [],
   "source": [
    "def calc_bernuli2(nb_tp,nb_sl,balance,profit_to_loss):\n",
    "    loss_margin = 0.03\n",
    "    return balance*( (1+profit_to_loss*loss_margin)**nb_tp )*( (1-loss_margin)**(nb_sl) )"
   ]
  },
  {
   "cell_type": "code",
   "execution_count": null,
   "id": "1b3c2a26",
   "metadata": {},
   "outputs": [],
   "source": [
    "# def calc_balance(start,tp,sl,balance,loss_margin = 0.03):\n",
    "def calc_balance()\n",
    "    if(tp>0):\n",
    "        return \n",
    "    if sl>0:\n",
    "        return balance*(1-loss_margin)\n",
    "        "
   ]
  },
  {
   "cell_type": "code",
   "execution_count": 14,
   "id": "0b156675",
   "metadata": {},
   "outputs": [
    {
     "data": {
      "text/html": [
       "<div>\n",
       "<style scoped>\n",
       "    .dataframe tbody tr th:only-of-type {\n",
       "        vertical-align: middle;\n",
       "    }\n",
       "\n",
       "    .dataframe tbody tr th {\n",
       "        vertical-align: top;\n",
       "    }\n",
       "\n",
       "    .dataframe thead th {\n",
       "        text-align: right;\n",
       "    }\n",
       "</style>\n",
       "<table border=\"1\" class=\"dataframe\">\n",
       "  <thead>\n",
       "    <tr style=\"text-align: right;\">\n",
       "      <th></th>\n",
       "      <th>running</th>\n",
       "      <th>start_index_m5</th>\n",
       "      <th>profit_factor</th>\n",
       "      <th>loss_factor</th>\n",
       "      <th>SPREAD</th>\n",
       "      <th>start_price</th>\n",
       "      <th>trigger_price</th>\n",
       "      <th>SIGNAL</th>\n",
       "      <th>TP</th>\n",
       "      <th>SL</th>\n",
       "      <th>result</th>\n",
       "      <th>end_time</th>\n",
       "      <th>start_time</th>\n",
       "      <th>balance</th>\n",
       "      <th>time</th>\n",
       "    </tr>\n",
       "  </thead>\n",
       "  <tbody>\n",
       "    <tr>\n",
       "      <th>0</th>\n",
       "      <td>False</td>\n",
       "      <td>4580</td>\n",
       "      <td>1.5</td>\n",
       "      <td>-1.0</td>\n",
       "      <td>0.00009</td>\n",
       "      <td>0.93739</td>\n",
       "      <td>0.93862</td>\n",
       "      <td>-1</td>\n",
       "      <td>0.935935</td>\n",
       "      <td>0.93836</td>\n",
       "      <td>-1.0</td>\n",
       "      <td>2022-12-05 00:05:00</td>\n",
       "      <td>2022-12-02 22:00:00</td>\n",
       "      <td>100.000000</td>\n",
       "      <td>2022-12-05 00:05:00</td>\n",
       "    </tr>\n",
       "    <tr>\n",
       "      <th>1</th>\n",
       "      <td>False</td>\n",
       "      <td>4734</td>\n",
       "      <td>1.5</td>\n",
       "      <td>-1.0</td>\n",
       "      <td>0.00009</td>\n",
       "      <td>0.93486</td>\n",
       "      <td>0.93688</td>\n",
       "      <td>-1</td>\n",
       "      <td>0.932535</td>\n",
       "      <td>0.93641</td>\n",
       "      <td>-1.0</td>\n",
       "      <td>2022-12-05 12:20:00</td>\n",
       "      <td>2022-12-05 11:00:00</td>\n",
       "      <td>97.000000</td>\n",
       "      <td>2022-12-05 12:20:00</td>\n",
       "    </tr>\n",
       "    <tr>\n",
       "      <th>2</th>\n",
       "      <td>False</td>\n",
       "      <td>4650</td>\n",
       "      <td>1.5</td>\n",
       "      <td>-1.0</td>\n",
       "      <td>0.00009</td>\n",
       "      <td>0.93555</td>\n",
       "      <td>0.93753</td>\n",
       "      <td>-1</td>\n",
       "      <td>0.932790</td>\n",
       "      <td>0.93739</td>\n",
       "      <td>-1.0</td>\n",
       "      <td>2022-12-05 16:15:00</td>\n",
       "      <td>2022-12-05 04:00:00</td>\n",
       "      <td>94.090000</td>\n",
       "      <td>2022-12-05 16:15:00</td>\n",
       "    </tr>\n",
       "    <tr>\n",
       "      <th>3</th>\n",
       "      <td>False</td>\n",
       "      <td>5428</td>\n",
       "      <td>1.5</td>\n",
       "      <td>-1.0</td>\n",
       "      <td>0.00009</td>\n",
       "      <td>0.93995</td>\n",
       "      <td>0.94052</td>\n",
       "      <td>-1</td>\n",
       "      <td>0.939275</td>\n",
       "      <td>0.94040</td>\n",
       "      <td>-1.0</td>\n",
       "      <td>2022-12-07 22:20:00</td>\n",
       "      <td>2022-12-07 21:00:00</td>\n",
       "      <td>91.267300</td>\n",
       "      <td>2022-12-07 22:20:00</td>\n",
       "    </tr>\n",
       "    <tr>\n",
       "      <th>4</th>\n",
       "      <td>False</td>\n",
       "      <td>5643</td>\n",
       "      <td>1.5</td>\n",
       "      <td>-1.0</td>\n",
       "      <td>0.00009</td>\n",
       "      <td>0.94012</td>\n",
       "      <td>0.93765</td>\n",
       "      <td>-1</td>\n",
       "      <td>0.937885</td>\n",
       "      <td>0.94161</td>\n",
       "      <td>1.5</td>\n",
       "      <td>2022-12-08 16:50:00</td>\n",
       "      <td>2022-12-08 15:00:00</td>\n",
       "      <td>95.374329</td>\n",
       "      <td>2022-12-08 16:50:00</td>\n",
       "    </tr>\n",
       "    <tr>\n",
       "      <th>...</th>\n",
       "      <td>...</td>\n",
       "      <td>...</td>\n",
       "      <td>...</td>\n",
       "      <td>...</td>\n",
       "      <td>...</td>\n",
       "      <td>...</td>\n",
       "      <td>...</td>\n",
       "      <td>...</td>\n",
       "      <td>...</td>\n",
       "      <td>...</td>\n",
       "      <td>...</td>\n",
       "      <td>...</td>\n",
       "      <td>...</td>\n",
       "      <td>...</td>\n",
       "      <td>...</td>\n",
       "    </tr>\n",
       "    <tr>\n",
       "      <th>138</th>\n",
       "      <td>False</td>\n",
       "      <td>25254</td>\n",
       "      <td>1.5</td>\n",
       "      <td>-1.0</td>\n",
       "      <td>0.00009</td>\n",
       "      <td>0.92954</td>\n",
       "      <td>0.92936</td>\n",
       "      <td>1</td>\n",
       "      <td>0.929765</td>\n",
       "      <td>0.92939</td>\n",
       "      <td>-1.0</td>\n",
       "      <td>2023-03-17 01:00:00</td>\n",
       "      <td>2023-03-17 01:00:00</td>\n",
       "      <td>66.691686</td>\n",
       "      <td>2023-03-17 01:00:00</td>\n",
       "    </tr>\n",
       "    <tr>\n",
       "      <th>139</th>\n",
       "      <td>False</td>\n",
       "      <td>25458</td>\n",
       "      <td>1.5</td>\n",
       "      <td>-1.0</td>\n",
       "      <td>0.00009</td>\n",
       "      <td>0.92854</td>\n",
       "      <td>0.92707</td>\n",
       "      <td>1</td>\n",
       "      <td>0.929920</td>\n",
       "      <td>0.92762</td>\n",
       "      <td>-1.0</td>\n",
       "      <td>2023-03-17 18:15:00</td>\n",
       "      <td>2023-03-17 18:00:00</td>\n",
       "      <td>64.690935</td>\n",
       "      <td>2023-03-17 18:15:00</td>\n",
       "    </tr>\n",
       "    <tr>\n",
       "      <th>140</th>\n",
       "      <td>False</td>\n",
       "      <td>25600</td>\n",
       "      <td>1.5</td>\n",
       "      <td>-1.0</td>\n",
       "      <td>0.00009</td>\n",
       "      <td>0.92593</td>\n",
       "      <td>0.92532</td>\n",
       "      <td>-1</td>\n",
       "      <td>0.925360</td>\n",
       "      <td>0.92631</td>\n",
       "      <td>1.5</td>\n",
       "      <td>2023-03-20 07:55:00</td>\n",
       "      <td>2023-03-20 07:00:00</td>\n",
       "      <td>67.602027</td>\n",
       "      <td>2023-03-20 07:55:00</td>\n",
       "    </tr>\n",
       "    <tr>\n",
       "      <th>141</th>\n",
       "      <td>False</td>\n",
       "      <td>25780</td>\n",
       "      <td>1.5</td>\n",
       "      <td>-1.0</td>\n",
       "      <td>0.00009</td>\n",
       "      <td>0.92871</td>\n",
       "      <td>0.92930</td>\n",
       "      <td>1</td>\n",
       "      <td>0.929190</td>\n",
       "      <td>0.92839</td>\n",
       "      <td>1.5</td>\n",
       "      <td>2023-03-20 22:25:00</td>\n",
       "      <td>2023-03-20 22:00:00</td>\n",
       "      <td>70.644118</td>\n",
       "      <td>2023-03-20 22:25:00</td>\n",
       "    </tr>\n",
       "    <tr>\n",
       "      <th>142</th>\n",
       "      <td>False</td>\n",
       "      <td>25995</td>\n",
       "      <td>1.5</td>\n",
       "      <td>-1.0</td>\n",
       "      <td>0.00009</td>\n",
       "      <td>0.92368</td>\n",
       "      <td>0.92439</td>\n",
       "      <td>-1</td>\n",
       "      <td>0.922930</td>\n",
       "      <td>0.92418</td>\n",
       "      <td>-1.0</td>\n",
       "      <td>2023-03-21 16:00:00</td>\n",
       "      <td>2023-03-21 16:00:00</td>\n",
       "      <td>68.524795</td>\n",
       "      <td>2023-03-21 16:00:00</td>\n",
       "    </tr>\n",
       "  </tbody>\n",
       "</table>\n",
       "<p>143 rows × 15 columns</p>\n",
       "</div>"
      ],
      "text/plain": [
       "     running  start_index_m5  profit_factor  loss_factor   SPREAD  \\\n",
       "0      False            4580            1.5         -1.0  0.00009   \n",
       "1      False            4734            1.5         -1.0  0.00009   \n",
       "2      False            4650            1.5         -1.0  0.00009   \n",
       "3      False            5428            1.5         -1.0  0.00009   \n",
       "4      False            5643            1.5         -1.0  0.00009   \n",
       "..       ...             ...            ...          ...      ...   \n",
       "138    False           25254            1.5         -1.0  0.00009   \n",
       "139    False           25458            1.5         -1.0  0.00009   \n",
       "140    False           25600            1.5         -1.0  0.00009   \n",
       "141    False           25780            1.5         -1.0  0.00009   \n",
       "142    False           25995            1.5         -1.0  0.00009   \n",
       "\n",
       "     start_price  trigger_price  SIGNAL        TP       SL  result  \\\n",
       "0        0.93739        0.93862      -1  0.935935  0.93836    -1.0   \n",
       "1        0.93486        0.93688      -1  0.932535  0.93641    -1.0   \n",
       "2        0.93555        0.93753      -1  0.932790  0.93739    -1.0   \n",
       "3        0.93995        0.94052      -1  0.939275  0.94040    -1.0   \n",
       "4        0.94012        0.93765      -1  0.937885  0.94161     1.5   \n",
       "..           ...            ...     ...       ...      ...     ...   \n",
       "138      0.92954        0.92936       1  0.929765  0.92939    -1.0   \n",
       "139      0.92854        0.92707       1  0.929920  0.92762    -1.0   \n",
       "140      0.92593        0.92532      -1  0.925360  0.92631     1.5   \n",
       "141      0.92871        0.92930       1  0.929190  0.92839     1.5   \n",
       "142      0.92368        0.92439      -1  0.922930  0.92418    -1.0   \n",
       "\n",
       "               end_time          start_time     balance                time  \n",
       "0   2022-12-05 00:05:00 2022-12-02 22:00:00  100.000000 2022-12-05 00:05:00  \n",
       "1   2022-12-05 12:20:00 2022-12-05 11:00:00   97.000000 2022-12-05 12:20:00  \n",
       "2   2022-12-05 16:15:00 2022-12-05 04:00:00   94.090000 2022-12-05 16:15:00  \n",
       "3   2022-12-07 22:20:00 2022-12-07 21:00:00   91.267300 2022-12-07 22:20:00  \n",
       "4   2022-12-08 16:50:00 2022-12-08 15:00:00   95.374329 2022-12-08 16:50:00  \n",
       "..                  ...                 ...         ...                 ...  \n",
       "138 2023-03-17 01:00:00 2023-03-17 01:00:00   66.691686 2023-03-17 01:00:00  \n",
       "139 2023-03-17 18:15:00 2023-03-17 18:00:00   64.690935 2023-03-17 18:15:00  \n",
       "140 2023-03-20 07:55:00 2023-03-20 07:00:00   67.602027 2023-03-20 07:55:00  \n",
       "141 2023-03-20 22:25:00 2023-03-20 22:00:00   70.644118 2023-03-20 22:25:00  \n",
       "142 2023-03-21 16:00:00 2023-03-21 16:00:00   68.524795 2023-03-21 16:00:00  \n",
       "\n",
       "[143 rows x 15 columns]"
      ]
     },
     "execution_count": 14,
     "metadata": {},
     "output_type": "execute_result"
    }
   ],
   "source": [
    "df_res_m5"
   ]
  },
  {
   "cell_type": "code",
   "execution_count": null,
   "id": "fc4cd107",
   "metadata": {},
   "outputs": [],
   "source": []
  },
  {
   "cell_type": "code",
   "execution_count": 23,
   "id": "4ce616d2",
   "metadata": {},
   "outputs": [
    {
     "name": "stderr",
     "output_type": "stream",
     "text": [
      "C:\\Users\\meysam\\AppData\\Local\\Temp\\ipykernel_10108\\924802483.py:10: SettingWithCopyWarning:\n",
      "\n",
      "\n",
      "A value is trying to be set on a copy of a slice from a DataFrame\n",
      "\n",
      "See the caveats in the documentation: https://pandas.pydata.org/pandas-docs/stable/user_guide/indexing.html#returning-a-view-versus-a-copy\n",
      "\n"
     ]
    }
   ],
   "source": [
    "# df_res_m5['balance'] = 0\n",
    "\n",
    "df_res_m5['balance'] = 100\n",
    "loss_margin = 0.03\n",
    "perv_balance = 100\n",
    "\n",
    "# for index, row in df_res_m5.iterrows():\n",
    "for i in range(len(df_res_m5)):# start from zero!!!!!!!!!!!!!!!!!!!!!\n",
    "    if(df_res_m5.result[i] == -1):\n",
    "        df_res_m5['balance'][i] = perv_balance*(1-loss_margin) \n",
    "    elif(df_res_m5.result[i] == 1.5):\n",
    "        profit_to_loss = abs( (df_res_m5['start_price'][i]-df_res_m5['TP'][i])/((df_res_m5['start_price'][i]-df_res_m5['SL'][i])) )\n",
    "        df_res_m5['balance'][i] = perv_balance*(1+profit_to_loss*loss_margin) \n",
    "    perv_balance = df_res_m5['balance'][i]\n",
    "    "
   ]
  },
  {
   "cell_type": "code",
   "execution_count": 24,
   "id": "a8729fd1",
   "metadata": {},
   "outputs": [],
   "source": [
    "from plotting import CandlePlot"
   ]
  },
  {
   "cell_type": "code",
   "execution_count": 25,
   "id": "e539cb9e",
   "metadata": {},
   "outputs": [
    {
     "data": {
      "application/vnd.plotly.v1+json": {
       "config": {
        "plotlyServerURL": "https://plot.ly"
       },
       "data": [
        {
         "line": {
          "shape": "spline",
          "width": 2
         },
         "name": "balance",
         "type": "scatter",
         "x": [
          "s22-12-05 00:05",
          "s22-12-05 12:20",
          "s22-12-05 16:15",
          "s22-12-07 22:20",
          "s22-12-08 16:50",
          "s22-12-09 01:20",
          "s22-12-09 09:20",
          "s22-12-13 10:25",
          "s22-12-13 15:30",
          "s22-12-14 08:00",
          "s22-12-14 11:40",
          "s22-12-14 16:40",
          "s22-12-14 21:00",
          "s22-12-15 03:00",
          "s22-12-15 09:05",
          "s22-12-16 07:30",
          "s22-12-16 09:20",
          "s22-12-19 02:35",
          "s22-12-19 23:25",
          "s22-12-21 03:30",
          "s22-12-22 01:00",
          "s22-12-22 07:05",
          "s22-12-22 09:05",
          "s22-12-22 09:10",
          "s22-12-23 12:00",
          "s22-12-23 23:00",
          "s22-12-27 01:00",
          "s22-12-28 10:05",
          "s22-12-29 11:00",
          "s22-12-30 01:25",
          "s22-12-30 03:05",
          "s22-12-30 17:20",
          "s23-01-03 07:25",
          "s23-01-03 09:50",
          "s23-01-04 01:00",
          "s23-01-04 06:55",
          "s23-01-04 08:20",
          "s23-01-05 09:00",
          "s23-01-06 02:45",
          "s23-01-06 07:25",
          "s23-01-06 11:20",
          "s23-01-09 02:30",
          "s23-01-09 14:45",
          "s23-01-10 04:25",
          "s23-01-11 03:00",
          "s23-01-12 09:00",
          "s23-01-12 09:15",
          "s23-01-12 10:25",
          "s23-01-12 11:20",
          "s23-01-13 16:45",
          "s23-01-16 00:05",
          "s23-01-16 04:05",
          "s23-01-17 07:55",
          "s23-01-17 12:05",
          "s23-01-17 13:15",
          "s23-01-17 17:00",
          "s23-01-18 16:15",
          "s23-01-19 21:35",
          "s23-01-20 10:05",
          "s23-01-20 10:30",
          "s23-01-23 10:00",
          "s23-01-23 10:55",
          "s23-01-24 17:55",
          "s23-01-24 23:00",
          "s23-01-25 19:00",
          "s23-01-26 03:15",
          "s23-01-26 15:30",
          "s23-01-26 16:45",
          "s23-01-27 03:20",
          "s23-01-27 10:05",
          "s23-01-27 17:05",
          "s23-01-30 19:40",
          "s23-01-31 09:15",
          "s23-01-31 10:05",
          "s23-01-31 20:45",
          "s23-02-01 09:00",
          "s23-02-01 09:10",
          "s23-02-01 16:25",
          "s23-02-01 19:45",
          "s23-02-02 10:45",
          "s23-02-02 18:45",
          "s23-02-03 10:25",
          "s23-02-03 15:30",
          "s23-02-06 00:05",
          "s23-02-06 03:10",
          "s23-02-06 11:35",
          "s23-02-06 21:00",
          "s23-02-07 07:40",
          "s23-02-07 17:55",
          "s23-02-08 21:40",
          "s23-02-09 11:25",
          "s23-02-13 02:30",
          "s23-02-14 02:00",
          "s23-02-14 08:00",
          "s23-02-14 12:20",
          "s23-02-15 09:45",
          "s23-02-15 14:00",
          "s23-02-16 03:20",
          "s23-02-16 15:30",
          "s23-02-17 09:00",
          "s23-02-17 15:45",
          "s23-02-20 22:55",
          "s23-02-21 16:45",
          "s23-02-22 00:05",
          "s23-02-22 13:00",
          "s23-02-22 21:20",
          "s23-02-23 04:45",
          "s23-02-23 08:15",
          "s23-02-23 15:30",
          "s23-02-24 09:50",
          "s23-02-24 21:15",
          "s23-02-27 08:10",
          "s23-02-27 08:40",
          "s23-02-27 15:30",
          "s23-02-28 18:15",
          "s23-03-01 02:10",
          "s23-03-02 00:05",
          "s23-03-02 03:35",
          "s23-03-02 18:05",
          "s23-03-02 19:15",
          "s23-03-03 05:10",
          "s23-03-06 17:05",
          "s23-03-06 17:05",
          "s23-03-06 23:20",
          "s23-03-07 10:10",
          "s23-03-08 00:05",
          "s23-03-08 04:50",
          "s23-03-09 00:05",
          "s23-03-09 04:50",
          "s23-03-10 05:35",
          "s23-03-10 05:35",
          "s23-03-10 05:40",
          "s23-03-10 20:55",
          "s23-03-13 16:05",
          "s23-03-14 08:10",
          "s23-03-16 08:30",
          "s23-03-16 16:25",
          "s23-03-16 20:50",
          "s23-03-17 01:00",
          "s23-03-17 18:15",
          "s23-03-20 07:55",
          "s23-03-20 22:25",
          "s23-03-21 16:00"
         ],
         "xaxis": "x",
         "y": [
          97,
          94.09,
          91.2673,
          88.529281,
          92.51309864499999,
          89.73770568564998,
          87.04557451508049,
          84.43420727962807,
          88.23374660721123,
          92.20426520453573,
          96.35345713873983,
          100.68936270998311,
          97.66868182868362,
          94.73862137382311,
          91.89646273260841,
          89.13956885063016,
          86.46538178511125,
          83.87142033155791,
          87.64563424647801,
          85.01626521908366,
          82.46577726251115,
          86.17673723932428,
          90.05469041509387,
          87.35304970264106,
          84.73245821156182,
          82.19048446521496,
          85.88905626614934,
          83.31238457816485,
          87.06144188418226,
          84.44959862765678,
          81.91611066882707,
          79.45862734876226,
          77.07486852829939,
          74.7626224724504,
          72.51974379827689,
          70.34415148432858,
          68.23382693979872,
          66.18681213160475,
          64.20120776765661,
          67.09026211720115,
          70.10932391247519,
          68.00604419510093,
          71.06631618388046,
          68.93432669836405,
          66.86629689741312,
          69.8752802577967,
          73.01966786939755,
          76.30555292352044,
          74.01638633581483,
          71.79589474574038,
          69.64201790336817,
          72.77590870901973,
          76.0508246009255,
          73.76929986289773,
          77.08891835672807,
          74.77625080602623,
          78.1411820922974,
          81.65753528645062,
          85.33212437434089,
          82.77216064311067,
          80.28899582381734,
          83.90200063588912,
          81.38494061681244,
          78.94339239830806,
          76.57509062635881,
          74.27783790756804,
          72.049502770341,
          69.88801768723076,
          67.79137715661383,
          65.75763584191542,
          63.784906766657954,
          61.87135956365822,
          60.01521877674847,
          62.71590362170207,
          65.53811928467877,
          68.48733465248841,
          71.56926471185022,
          69.42218677049472,
          67.33952116737987,
          65.31933553235848,
          63.359755466387725,
          61.458962802396094,
          59.61519391832421,
          62.2978776446489,
          60.42894131530943,
          58.616073075850146,
          56.85759088357464,
          55.151863157067396,
          53.49730726235537,
          51.89238804448471,
          50.33561640315017,
          52.600719141291925,
          54.96775150265006,
          57.44130032026944,
          55.718061310661355,
          54.04651947134151,
          52.425123887201266,
          50.852370170585225,
          53.140726828261556,
          55.53205953553332,
          53.86609774946732,
          52.2501148169833,
          54.601369983747546,
          52.96332888423512,
          51.37442901770806,
          53.686278323504965,
          52.07568997379981,
          50.513419274585814,
          52.786523141942205,
          55.1619166833296,
          53.507059182829714,
          51.901847407344825,
          54.23743054067534,
          52.61030762445508,
          51.03199839572143,
          53.328438323528935,
          51.72858517382306,
          54.0563715066451,
          52.43468036144574,
          54.79424097771096,
          53.150413748379634,
          55.54218236705671,
          58.04158057357414,
          60.65345169938466,
          58.83384814840312,
          57.068832703951024,
          59.63693017562882,
          57.847822270359956,
          56.11238760224916,
          58.637445044350365,
          61.276130071346124,
          64.03355592455661,
          62.11254924681991,
          64.90761396292683,
          67.82845659125853,
          65.79360289352077,
          68.7543150237292,
          66.69168557301732,
          64.6909350058268,
          62.750206955652,
          65.57396626865606,
          68.52479475074593,
          66.46905090822355
         ],
         "yaxis": "y"
        }
       ],
       "layout": {
        "font": {
         "color": "#e1e1e1",
         "size": 8
        },
        "height": 400,
        "margin": {
         "b": 10,
         "l": 10,
         "r": 10,
         "t": 10
        },
        "paper_bgcolor": "#2c303c",
        "plot_bgcolor": "#2c303c",
        "template": {
         "data": {
          "bar": [
           {
            "error_x": {
             "color": "#2a3f5f"
            },
            "error_y": {
             "color": "#2a3f5f"
            },
            "marker": {
             "line": {
              "color": "#E5ECF6",
              "width": 0.5
             },
             "pattern": {
              "fillmode": "overlay",
              "size": 10,
              "solidity": 0.2
             }
            },
            "type": "bar"
           }
          ],
          "barpolar": [
           {
            "marker": {
             "line": {
              "color": "#E5ECF6",
              "width": 0.5
             },
             "pattern": {
              "fillmode": "overlay",
              "size": 10,
              "solidity": 0.2
             }
            },
            "type": "barpolar"
           }
          ],
          "carpet": [
           {
            "aaxis": {
             "endlinecolor": "#2a3f5f",
             "gridcolor": "white",
             "linecolor": "white",
             "minorgridcolor": "white",
             "startlinecolor": "#2a3f5f"
            },
            "baxis": {
             "endlinecolor": "#2a3f5f",
             "gridcolor": "white",
             "linecolor": "white",
             "minorgridcolor": "white",
             "startlinecolor": "#2a3f5f"
            },
            "type": "carpet"
           }
          ],
          "choropleth": [
           {
            "colorbar": {
             "outlinewidth": 0,
             "ticks": ""
            },
            "type": "choropleth"
           }
          ],
          "contour": [
           {
            "colorbar": {
             "outlinewidth": 0,
             "ticks": ""
            },
            "colorscale": [
             [
              0,
              "#0d0887"
             ],
             [
              0.1111111111111111,
              "#46039f"
             ],
             [
              0.2222222222222222,
              "#7201a8"
             ],
             [
              0.3333333333333333,
              "#9c179e"
             ],
             [
              0.4444444444444444,
              "#bd3786"
             ],
             [
              0.5555555555555556,
              "#d8576b"
             ],
             [
              0.6666666666666666,
              "#ed7953"
             ],
             [
              0.7777777777777778,
              "#fb9f3a"
             ],
             [
              0.8888888888888888,
              "#fdca26"
             ],
             [
              1,
              "#f0f921"
             ]
            ],
            "type": "contour"
           }
          ],
          "contourcarpet": [
           {
            "colorbar": {
             "outlinewidth": 0,
             "ticks": ""
            },
            "type": "contourcarpet"
           }
          ],
          "heatmap": [
           {
            "colorbar": {
             "outlinewidth": 0,
             "ticks": ""
            },
            "colorscale": [
             [
              0,
              "#0d0887"
             ],
             [
              0.1111111111111111,
              "#46039f"
             ],
             [
              0.2222222222222222,
              "#7201a8"
             ],
             [
              0.3333333333333333,
              "#9c179e"
             ],
             [
              0.4444444444444444,
              "#bd3786"
             ],
             [
              0.5555555555555556,
              "#d8576b"
             ],
             [
              0.6666666666666666,
              "#ed7953"
             ],
             [
              0.7777777777777778,
              "#fb9f3a"
             ],
             [
              0.8888888888888888,
              "#fdca26"
             ],
             [
              1,
              "#f0f921"
             ]
            ],
            "type": "heatmap"
           }
          ],
          "heatmapgl": [
           {
            "colorbar": {
             "outlinewidth": 0,
             "ticks": ""
            },
            "colorscale": [
             [
              0,
              "#0d0887"
             ],
             [
              0.1111111111111111,
              "#46039f"
             ],
             [
              0.2222222222222222,
              "#7201a8"
             ],
             [
              0.3333333333333333,
              "#9c179e"
             ],
             [
              0.4444444444444444,
              "#bd3786"
             ],
             [
              0.5555555555555556,
              "#d8576b"
             ],
             [
              0.6666666666666666,
              "#ed7953"
             ],
             [
              0.7777777777777778,
              "#fb9f3a"
             ],
             [
              0.8888888888888888,
              "#fdca26"
             ],
             [
              1,
              "#f0f921"
             ]
            ],
            "type": "heatmapgl"
           }
          ],
          "histogram": [
           {
            "marker": {
             "pattern": {
              "fillmode": "overlay",
              "size": 10,
              "solidity": 0.2
             }
            },
            "type": "histogram"
           }
          ],
          "histogram2d": [
           {
            "colorbar": {
             "outlinewidth": 0,
             "ticks": ""
            },
            "colorscale": [
             [
              0,
              "#0d0887"
             ],
             [
              0.1111111111111111,
              "#46039f"
             ],
             [
              0.2222222222222222,
              "#7201a8"
             ],
             [
              0.3333333333333333,
              "#9c179e"
             ],
             [
              0.4444444444444444,
              "#bd3786"
             ],
             [
              0.5555555555555556,
              "#d8576b"
             ],
             [
              0.6666666666666666,
              "#ed7953"
             ],
             [
              0.7777777777777778,
              "#fb9f3a"
             ],
             [
              0.8888888888888888,
              "#fdca26"
             ],
             [
              1,
              "#f0f921"
             ]
            ],
            "type": "histogram2d"
           }
          ],
          "histogram2dcontour": [
           {
            "colorbar": {
             "outlinewidth": 0,
             "ticks": ""
            },
            "colorscale": [
             [
              0,
              "#0d0887"
             ],
             [
              0.1111111111111111,
              "#46039f"
             ],
             [
              0.2222222222222222,
              "#7201a8"
             ],
             [
              0.3333333333333333,
              "#9c179e"
             ],
             [
              0.4444444444444444,
              "#bd3786"
             ],
             [
              0.5555555555555556,
              "#d8576b"
             ],
             [
              0.6666666666666666,
              "#ed7953"
             ],
             [
              0.7777777777777778,
              "#fb9f3a"
             ],
             [
              0.8888888888888888,
              "#fdca26"
             ],
             [
              1,
              "#f0f921"
             ]
            ],
            "type": "histogram2dcontour"
           }
          ],
          "mesh3d": [
           {
            "colorbar": {
             "outlinewidth": 0,
             "ticks": ""
            },
            "type": "mesh3d"
           }
          ],
          "parcoords": [
           {
            "line": {
             "colorbar": {
              "outlinewidth": 0,
              "ticks": ""
             }
            },
            "type": "parcoords"
           }
          ],
          "pie": [
           {
            "automargin": true,
            "type": "pie"
           }
          ],
          "scatter": [
           {
            "fillpattern": {
             "fillmode": "overlay",
             "size": 10,
             "solidity": 0.2
            },
            "type": "scatter"
           }
          ],
          "scatter3d": [
           {
            "line": {
             "colorbar": {
              "outlinewidth": 0,
              "ticks": ""
             }
            },
            "marker": {
             "colorbar": {
              "outlinewidth": 0,
              "ticks": ""
             }
            },
            "type": "scatter3d"
           }
          ],
          "scattercarpet": [
           {
            "marker": {
             "colorbar": {
              "outlinewidth": 0,
              "ticks": ""
             }
            },
            "type": "scattercarpet"
           }
          ],
          "scattergeo": [
           {
            "marker": {
             "colorbar": {
              "outlinewidth": 0,
              "ticks": ""
             }
            },
            "type": "scattergeo"
           }
          ],
          "scattergl": [
           {
            "marker": {
             "colorbar": {
              "outlinewidth": 0,
              "ticks": ""
             }
            },
            "type": "scattergl"
           }
          ],
          "scattermapbox": [
           {
            "marker": {
             "colorbar": {
              "outlinewidth": 0,
              "ticks": ""
             }
            },
            "type": "scattermapbox"
           }
          ],
          "scatterpolar": [
           {
            "marker": {
             "colorbar": {
              "outlinewidth": 0,
              "ticks": ""
             }
            },
            "type": "scatterpolar"
           }
          ],
          "scatterpolargl": [
           {
            "marker": {
             "colorbar": {
              "outlinewidth": 0,
              "ticks": ""
             }
            },
            "type": "scatterpolargl"
           }
          ],
          "scatterternary": [
           {
            "marker": {
             "colorbar": {
              "outlinewidth": 0,
              "ticks": ""
             }
            },
            "type": "scatterternary"
           }
          ],
          "surface": [
           {
            "colorbar": {
             "outlinewidth": 0,
             "ticks": ""
            },
            "colorscale": [
             [
              0,
              "#0d0887"
             ],
             [
              0.1111111111111111,
              "#46039f"
             ],
             [
              0.2222222222222222,
              "#7201a8"
             ],
             [
              0.3333333333333333,
              "#9c179e"
             ],
             [
              0.4444444444444444,
              "#bd3786"
             ],
             [
              0.5555555555555556,
              "#d8576b"
             ],
             [
              0.6666666666666666,
              "#ed7953"
             ],
             [
              0.7777777777777778,
              "#fb9f3a"
             ],
             [
              0.8888888888888888,
              "#fdca26"
             ],
             [
              1,
              "#f0f921"
             ]
            ],
            "type": "surface"
           }
          ],
          "table": [
           {
            "cells": {
             "fill": {
              "color": "#EBF0F8"
             },
             "line": {
              "color": "white"
             }
            },
            "header": {
             "fill": {
              "color": "#C8D4E3"
             },
             "line": {
              "color": "white"
             }
            },
            "type": "table"
           }
          ]
         },
         "layout": {
          "annotationdefaults": {
           "arrowcolor": "#2a3f5f",
           "arrowhead": 0,
           "arrowwidth": 1
          },
          "autotypenumbers": "strict",
          "coloraxis": {
           "colorbar": {
            "outlinewidth": 0,
            "ticks": ""
           }
          },
          "colorscale": {
           "diverging": [
            [
             0,
             "#8e0152"
            ],
            [
             0.1,
             "#c51b7d"
            ],
            [
             0.2,
             "#de77ae"
            ],
            [
             0.3,
             "#f1b6da"
            ],
            [
             0.4,
             "#fde0ef"
            ],
            [
             0.5,
             "#f7f7f7"
            ],
            [
             0.6,
             "#e6f5d0"
            ],
            [
             0.7,
             "#b8e186"
            ],
            [
             0.8,
             "#7fbc41"
            ],
            [
             0.9,
             "#4d9221"
            ],
            [
             1,
             "#276419"
            ]
           ],
           "sequential": [
            [
             0,
             "#0d0887"
            ],
            [
             0.1111111111111111,
             "#46039f"
            ],
            [
             0.2222222222222222,
             "#7201a8"
            ],
            [
             0.3333333333333333,
             "#9c179e"
            ],
            [
             0.4444444444444444,
             "#bd3786"
            ],
            [
             0.5555555555555556,
             "#d8576b"
            ],
            [
             0.6666666666666666,
             "#ed7953"
            ],
            [
             0.7777777777777778,
             "#fb9f3a"
            ],
            [
             0.8888888888888888,
             "#fdca26"
            ],
            [
             1,
             "#f0f921"
            ]
           ],
           "sequentialminus": [
            [
             0,
             "#0d0887"
            ],
            [
             0.1111111111111111,
             "#46039f"
            ],
            [
             0.2222222222222222,
             "#7201a8"
            ],
            [
             0.3333333333333333,
             "#9c179e"
            ],
            [
             0.4444444444444444,
             "#bd3786"
            ],
            [
             0.5555555555555556,
             "#d8576b"
            ],
            [
             0.6666666666666666,
             "#ed7953"
            ],
            [
             0.7777777777777778,
             "#fb9f3a"
            ],
            [
             0.8888888888888888,
             "#fdca26"
            ],
            [
             1,
             "#f0f921"
            ]
           ]
          },
          "colorway": [
           "#636efa",
           "#EF553B",
           "#00cc96",
           "#ab63fa",
           "#FFA15A",
           "#19d3f3",
           "#FF6692",
           "#B6E880",
           "#FF97FF",
           "#FECB52"
          ],
          "font": {
           "color": "#2a3f5f"
          },
          "geo": {
           "bgcolor": "white",
           "lakecolor": "white",
           "landcolor": "#E5ECF6",
           "showlakes": true,
           "showland": true,
           "subunitcolor": "white"
          },
          "hoverlabel": {
           "align": "left"
          },
          "hovermode": "closest",
          "mapbox": {
           "style": "light"
          },
          "paper_bgcolor": "white",
          "plot_bgcolor": "#E5ECF6",
          "polar": {
           "angularaxis": {
            "gridcolor": "white",
            "linecolor": "white",
            "ticks": ""
           },
           "bgcolor": "#E5ECF6",
           "radialaxis": {
            "gridcolor": "white",
            "linecolor": "white",
            "ticks": ""
           }
          },
          "scene": {
           "xaxis": {
            "backgroundcolor": "#E5ECF6",
            "gridcolor": "white",
            "gridwidth": 2,
            "linecolor": "white",
            "showbackground": true,
            "ticks": "",
            "zerolinecolor": "white"
           },
           "yaxis": {
            "backgroundcolor": "#E5ECF6",
            "gridcolor": "white",
            "gridwidth": 2,
            "linecolor": "white",
            "showbackground": true,
            "ticks": "",
            "zerolinecolor": "white"
           },
           "zaxis": {
            "backgroundcolor": "#E5ECF6",
            "gridcolor": "white",
            "gridwidth": 2,
            "linecolor": "white",
            "showbackground": true,
            "ticks": "",
            "zerolinecolor": "white"
           }
          },
          "shapedefaults": {
           "line": {
            "color": "#2a3f5f"
           }
          },
          "ternary": {
           "aaxis": {
            "gridcolor": "white",
            "linecolor": "white",
            "ticks": ""
           },
           "baxis": {
            "gridcolor": "white",
            "linecolor": "white",
            "ticks": ""
           },
           "bgcolor": "#E5ECF6",
           "caxis": {
            "gridcolor": "white",
            "linecolor": "white",
            "ticks": ""
           }
          },
          "title": {
           "x": 0.05
          },
          "xaxis": {
           "automargin": true,
           "gridcolor": "white",
           "linecolor": "white",
           "ticks": "",
           "title": {
            "standoff": 15
           },
           "zerolinecolor": "white",
           "zerolinewidth": 2
          },
          "yaxis": {
           "automargin": true,
           "gridcolor": "white",
           "linecolor": "white",
           "ticks": "",
           "title": {
            "standoff": 15
           },
           "zerolinecolor": "white",
           "zerolinewidth": 2
          }
         }
        },
        "width": 900,
        "xaxis": {
         "anchor": "y",
         "domain": [
          0,
          0.94
         ],
         "gridcolor": "#1f292f",
         "nticks": 5,
         "rangeslider": {
          "visible": false
         }
        },
        "yaxis": {
         "anchor": "x",
         "domain": [
          0,
          1
         ],
         "gridcolor": "#1f292f"
        },
        "yaxis2": {
         "anchor": "x",
         "gridcolor": "#1f292f",
         "overlaying": "y",
         "side": "right"
        }
       }
      },
      "text/html": [
       "<div>                            <div id=\"91c403c5-606a-4ec2-92f6-60fd6b5f6648\" class=\"plotly-graph-div\" style=\"height:400px; width:900px;\"></div>            <script type=\"text/javascript\">                require([\"plotly\"], function(Plotly) {                    window.PLOTLYENV=window.PLOTLYENV || {};                                    if (document.getElementById(\"91c403c5-606a-4ec2-92f6-60fd6b5f6648\")) {                    Plotly.newPlot(                        \"91c403c5-606a-4ec2-92f6-60fd6b5f6648\",                        [{\"line\":{\"shape\":\"spline\",\"width\":2},\"name\":\"balance\",\"x\":[\"s22-12-05 00:05\",\"s22-12-05 12:20\",\"s22-12-05 16:15\",\"s22-12-07 22:20\",\"s22-12-08 16:50\",\"s22-12-09 01:20\",\"s22-12-09 09:20\",\"s22-12-13 10:25\",\"s22-12-13 15:30\",\"s22-12-14 08:00\",\"s22-12-14 11:40\",\"s22-12-14 16:40\",\"s22-12-14 21:00\",\"s22-12-15 03:00\",\"s22-12-15 09:05\",\"s22-12-16 07:30\",\"s22-12-16 09:20\",\"s22-12-19 02:35\",\"s22-12-19 23:25\",\"s22-12-21 03:30\",\"s22-12-22 01:00\",\"s22-12-22 07:05\",\"s22-12-22 09:05\",\"s22-12-22 09:10\",\"s22-12-23 12:00\",\"s22-12-23 23:00\",\"s22-12-27 01:00\",\"s22-12-28 10:05\",\"s22-12-29 11:00\",\"s22-12-30 01:25\",\"s22-12-30 03:05\",\"s22-12-30 17:20\",\"s23-01-03 07:25\",\"s23-01-03 09:50\",\"s23-01-04 01:00\",\"s23-01-04 06:55\",\"s23-01-04 08:20\",\"s23-01-05 09:00\",\"s23-01-06 02:45\",\"s23-01-06 07:25\",\"s23-01-06 11:20\",\"s23-01-09 02:30\",\"s23-01-09 14:45\",\"s23-01-10 04:25\",\"s23-01-11 03:00\",\"s23-01-12 09:00\",\"s23-01-12 09:15\",\"s23-01-12 10:25\",\"s23-01-12 11:20\",\"s23-01-13 16:45\",\"s23-01-16 00:05\",\"s23-01-16 04:05\",\"s23-01-17 07:55\",\"s23-01-17 12:05\",\"s23-01-17 13:15\",\"s23-01-17 17:00\",\"s23-01-18 16:15\",\"s23-01-19 21:35\",\"s23-01-20 10:05\",\"s23-01-20 10:30\",\"s23-01-23 10:00\",\"s23-01-23 10:55\",\"s23-01-24 17:55\",\"s23-01-24 23:00\",\"s23-01-25 19:00\",\"s23-01-26 03:15\",\"s23-01-26 15:30\",\"s23-01-26 16:45\",\"s23-01-27 03:20\",\"s23-01-27 10:05\",\"s23-01-27 17:05\",\"s23-01-30 19:40\",\"s23-01-31 09:15\",\"s23-01-31 10:05\",\"s23-01-31 20:45\",\"s23-02-01 09:00\",\"s23-02-01 09:10\",\"s23-02-01 16:25\",\"s23-02-01 19:45\",\"s23-02-02 10:45\",\"s23-02-02 18:45\",\"s23-02-03 10:25\",\"s23-02-03 15:30\",\"s23-02-06 00:05\",\"s23-02-06 03:10\",\"s23-02-06 11:35\",\"s23-02-06 21:00\",\"s23-02-07 07:40\",\"s23-02-07 17:55\",\"s23-02-08 21:40\",\"s23-02-09 11:25\",\"s23-02-13 02:30\",\"s23-02-14 02:00\",\"s23-02-14 08:00\",\"s23-02-14 12:20\",\"s23-02-15 09:45\",\"s23-02-15 14:00\",\"s23-02-16 03:20\",\"s23-02-16 15:30\",\"s23-02-17 09:00\",\"s23-02-17 15:45\",\"s23-02-20 22:55\",\"s23-02-21 16:45\",\"s23-02-22 00:05\",\"s23-02-22 13:00\",\"s23-02-22 21:20\",\"s23-02-23 04:45\",\"s23-02-23 08:15\",\"s23-02-23 15:30\",\"s23-02-24 09:50\",\"s23-02-24 21:15\",\"s23-02-27 08:10\",\"s23-02-27 08:40\",\"s23-02-27 15:30\",\"s23-02-28 18:15\",\"s23-03-01 02:10\",\"s23-03-02 00:05\",\"s23-03-02 03:35\",\"s23-03-02 18:05\",\"s23-03-02 19:15\",\"s23-03-03 05:10\",\"s23-03-06 17:05\",\"s23-03-06 17:05\",\"s23-03-06 23:20\",\"s23-03-07 10:10\",\"s23-03-08 00:05\",\"s23-03-08 04:50\",\"s23-03-09 00:05\",\"s23-03-09 04:50\",\"s23-03-10 05:35\",\"s23-03-10 05:35\",\"s23-03-10 05:40\",\"s23-03-10 20:55\",\"s23-03-13 16:05\",\"s23-03-14 08:10\",\"s23-03-16 08:30\",\"s23-03-16 16:25\",\"s23-03-16 20:50\",\"s23-03-17 01:00\",\"s23-03-17 18:15\",\"s23-03-20 07:55\",\"s23-03-20 22:25\",\"s23-03-21 16:00\"],\"y\":[97.0,94.09,91.2673,88.529281,92.51309864499999,89.73770568564998,87.04557451508049,84.43420727962807,88.23374660721123,92.20426520453573,96.35345713873983,100.68936270998311,97.66868182868362,94.73862137382311,91.89646273260841,89.13956885063016,86.46538178511125,83.87142033155791,87.64563424647801,85.01626521908366,82.46577726251115,86.17673723932428,90.05469041509387,87.35304970264106,84.73245821156182,82.19048446521496,85.88905626614934,83.31238457816485,87.06144188418226,84.44959862765678,81.91611066882707,79.45862734876226,77.07486852829939,74.7626224724504,72.51974379827689,70.34415148432858,68.23382693979872,66.18681213160475,64.20120776765661,67.09026211720115,70.10932391247519,68.00604419510093,71.06631618388046,68.93432669836405,66.86629689741312,69.8752802577967,73.01966786939755,76.30555292352044,74.01638633581483,71.79589474574038,69.64201790336817,72.77590870901973,76.0508246009255,73.76929986289773,77.08891835672807,74.77625080602623,78.1411820922974,81.65753528645062,85.33212437434089,82.77216064311067,80.28899582381734,83.90200063588912,81.38494061681244,78.94339239830806,76.57509062635881,74.27783790756804,72.049502770341,69.88801768723076,67.79137715661383,65.75763584191542,63.784906766657954,61.87135956365822,60.01521877674847,62.71590362170207,65.53811928467877,68.48733465248841,71.56926471185022,69.42218677049472,67.33952116737987,65.31933553235848,63.359755466387725,61.458962802396094,59.61519391832421,62.2978776446489,60.42894131530943,58.616073075850146,56.85759088357464,55.151863157067396,53.49730726235537,51.89238804448471,50.33561640315017,52.600719141291925,54.96775150265006,57.44130032026944,55.718061310661355,54.04651947134151,52.425123887201266,50.852370170585225,53.140726828261556,55.53205953553332,53.86609774946732,52.2501148169833,54.601369983747546,52.96332888423512,51.37442901770806,53.686278323504965,52.07568997379981,50.513419274585814,52.786523141942205,55.1619166833296,53.507059182829714,51.901847407344825,54.23743054067534,52.61030762445508,51.03199839572143,53.328438323528935,51.72858517382306,54.0563715066451,52.43468036144574,54.79424097771096,53.150413748379634,55.54218236705671,58.04158057357414,60.65345169938466,58.83384814840312,57.068832703951024,59.63693017562882,57.847822270359956,56.11238760224916,58.637445044350365,61.276130071346124,64.03355592455661,62.11254924681991,64.90761396292683,67.82845659125853,65.79360289352077,68.7543150237292,66.69168557301732,64.6909350058268,62.750206955652,65.57396626865606,68.52479475074593,66.46905090822355],\"type\":\"scatter\",\"xaxis\":\"x\",\"yaxis\":\"y\"}],                        {\"template\":{\"data\":{\"histogram2dcontour\":[{\"type\":\"histogram2dcontour\",\"colorbar\":{\"outlinewidth\":0,\"ticks\":\"\"},\"colorscale\":[[0.0,\"#0d0887\"],[0.1111111111111111,\"#46039f\"],[0.2222222222222222,\"#7201a8\"],[0.3333333333333333,\"#9c179e\"],[0.4444444444444444,\"#bd3786\"],[0.5555555555555556,\"#d8576b\"],[0.6666666666666666,\"#ed7953\"],[0.7777777777777778,\"#fb9f3a\"],[0.8888888888888888,\"#fdca26\"],[1.0,\"#f0f921\"]]}],\"choropleth\":[{\"type\":\"choropleth\",\"colorbar\":{\"outlinewidth\":0,\"ticks\":\"\"}}],\"histogram2d\":[{\"type\":\"histogram2d\",\"colorbar\":{\"outlinewidth\":0,\"ticks\":\"\"},\"colorscale\":[[0.0,\"#0d0887\"],[0.1111111111111111,\"#46039f\"],[0.2222222222222222,\"#7201a8\"],[0.3333333333333333,\"#9c179e\"],[0.4444444444444444,\"#bd3786\"],[0.5555555555555556,\"#d8576b\"],[0.6666666666666666,\"#ed7953\"],[0.7777777777777778,\"#fb9f3a\"],[0.8888888888888888,\"#fdca26\"],[1.0,\"#f0f921\"]]}],\"heatmap\":[{\"type\":\"heatmap\",\"colorbar\":{\"outlinewidth\":0,\"ticks\":\"\"},\"colorscale\":[[0.0,\"#0d0887\"],[0.1111111111111111,\"#46039f\"],[0.2222222222222222,\"#7201a8\"],[0.3333333333333333,\"#9c179e\"],[0.4444444444444444,\"#bd3786\"],[0.5555555555555556,\"#d8576b\"],[0.6666666666666666,\"#ed7953\"],[0.7777777777777778,\"#fb9f3a\"],[0.8888888888888888,\"#fdca26\"],[1.0,\"#f0f921\"]]}],\"heatmapgl\":[{\"type\":\"heatmapgl\",\"colorbar\":{\"outlinewidth\":0,\"ticks\":\"\"},\"colorscale\":[[0.0,\"#0d0887\"],[0.1111111111111111,\"#46039f\"],[0.2222222222222222,\"#7201a8\"],[0.3333333333333333,\"#9c179e\"],[0.4444444444444444,\"#bd3786\"],[0.5555555555555556,\"#d8576b\"],[0.6666666666666666,\"#ed7953\"],[0.7777777777777778,\"#fb9f3a\"],[0.8888888888888888,\"#fdca26\"],[1.0,\"#f0f921\"]]}],\"contourcarpet\":[{\"type\":\"contourcarpet\",\"colorbar\":{\"outlinewidth\":0,\"ticks\":\"\"}}],\"contour\":[{\"type\":\"contour\",\"colorbar\":{\"outlinewidth\":0,\"ticks\":\"\"},\"colorscale\":[[0.0,\"#0d0887\"],[0.1111111111111111,\"#46039f\"],[0.2222222222222222,\"#7201a8\"],[0.3333333333333333,\"#9c179e\"],[0.4444444444444444,\"#bd3786\"],[0.5555555555555556,\"#d8576b\"],[0.6666666666666666,\"#ed7953\"],[0.7777777777777778,\"#fb9f3a\"],[0.8888888888888888,\"#fdca26\"],[1.0,\"#f0f921\"]]}],\"surface\":[{\"type\":\"surface\",\"colorbar\":{\"outlinewidth\":0,\"ticks\":\"\"},\"colorscale\":[[0.0,\"#0d0887\"],[0.1111111111111111,\"#46039f\"],[0.2222222222222222,\"#7201a8\"],[0.3333333333333333,\"#9c179e\"],[0.4444444444444444,\"#bd3786\"],[0.5555555555555556,\"#d8576b\"],[0.6666666666666666,\"#ed7953\"],[0.7777777777777778,\"#fb9f3a\"],[0.8888888888888888,\"#fdca26\"],[1.0,\"#f0f921\"]]}],\"mesh3d\":[{\"type\":\"mesh3d\",\"colorbar\":{\"outlinewidth\":0,\"ticks\":\"\"}}],\"scatter\":[{\"fillpattern\":{\"fillmode\":\"overlay\",\"size\":10,\"solidity\":0.2},\"type\":\"scatter\"}],\"parcoords\":[{\"type\":\"parcoords\",\"line\":{\"colorbar\":{\"outlinewidth\":0,\"ticks\":\"\"}}}],\"scatterpolargl\":[{\"type\":\"scatterpolargl\",\"marker\":{\"colorbar\":{\"outlinewidth\":0,\"ticks\":\"\"}}}],\"bar\":[{\"error_x\":{\"color\":\"#2a3f5f\"},\"error_y\":{\"color\":\"#2a3f5f\"},\"marker\":{\"line\":{\"color\":\"#E5ECF6\",\"width\":0.5},\"pattern\":{\"fillmode\":\"overlay\",\"size\":10,\"solidity\":0.2}},\"type\":\"bar\"}],\"scattergeo\":[{\"type\":\"scattergeo\",\"marker\":{\"colorbar\":{\"outlinewidth\":0,\"ticks\":\"\"}}}],\"scatterpolar\":[{\"type\":\"scatterpolar\",\"marker\":{\"colorbar\":{\"outlinewidth\":0,\"ticks\":\"\"}}}],\"histogram\":[{\"marker\":{\"pattern\":{\"fillmode\":\"overlay\",\"size\":10,\"solidity\":0.2}},\"type\":\"histogram\"}],\"scattergl\":[{\"type\":\"scattergl\",\"marker\":{\"colorbar\":{\"outlinewidth\":0,\"ticks\":\"\"}}}],\"scatter3d\":[{\"type\":\"scatter3d\",\"line\":{\"colorbar\":{\"outlinewidth\":0,\"ticks\":\"\"}},\"marker\":{\"colorbar\":{\"outlinewidth\":0,\"ticks\":\"\"}}}],\"scattermapbox\":[{\"type\":\"scattermapbox\",\"marker\":{\"colorbar\":{\"outlinewidth\":0,\"ticks\":\"\"}}}],\"scatterternary\":[{\"type\":\"scatterternary\",\"marker\":{\"colorbar\":{\"outlinewidth\":0,\"ticks\":\"\"}}}],\"scattercarpet\":[{\"type\":\"scattercarpet\",\"marker\":{\"colorbar\":{\"outlinewidth\":0,\"ticks\":\"\"}}}],\"carpet\":[{\"aaxis\":{\"endlinecolor\":\"#2a3f5f\",\"gridcolor\":\"white\",\"linecolor\":\"white\",\"minorgridcolor\":\"white\",\"startlinecolor\":\"#2a3f5f\"},\"baxis\":{\"endlinecolor\":\"#2a3f5f\",\"gridcolor\":\"white\",\"linecolor\":\"white\",\"minorgridcolor\":\"white\",\"startlinecolor\":\"#2a3f5f\"},\"type\":\"carpet\"}],\"table\":[{\"cells\":{\"fill\":{\"color\":\"#EBF0F8\"},\"line\":{\"color\":\"white\"}},\"header\":{\"fill\":{\"color\":\"#C8D4E3\"},\"line\":{\"color\":\"white\"}},\"type\":\"table\"}],\"barpolar\":[{\"marker\":{\"line\":{\"color\":\"#E5ECF6\",\"width\":0.5},\"pattern\":{\"fillmode\":\"overlay\",\"size\":10,\"solidity\":0.2}},\"type\":\"barpolar\"}],\"pie\":[{\"automargin\":true,\"type\":\"pie\"}]},\"layout\":{\"autotypenumbers\":\"strict\",\"colorway\":[\"#636efa\",\"#EF553B\",\"#00cc96\",\"#ab63fa\",\"#FFA15A\",\"#19d3f3\",\"#FF6692\",\"#B6E880\",\"#FF97FF\",\"#FECB52\"],\"font\":{\"color\":\"#2a3f5f\"},\"hovermode\":\"closest\",\"hoverlabel\":{\"align\":\"left\"},\"paper_bgcolor\":\"white\",\"plot_bgcolor\":\"#E5ECF6\",\"polar\":{\"bgcolor\":\"#E5ECF6\",\"angularaxis\":{\"gridcolor\":\"white\",\"linecolor\":\"white\",\"ticks\":\"\"},\"radialaxis\":{\"gridcolor\":\"white\",\"linecolor\":\"white\",\"ticks\":\"\"}},\"ternary\":{\"bgcolor\":\"#E5ECF6\",\"aaxis\":{\"gridcolor\":\"white\",\"linecolor\":\"white\",\"ticks\":\"\"},\"baxis\":{\"gridcolor\":\"white\",\"linecolor\":\"white\",\"ticks\":\"\"},\"caxis\":{\"gridcolor\":\"white\",\"linecolor\":\"white\",\"ticks\":\"\"}},\"coloraxis\":{\"colorbar\":{\"outlinewidth\":0,\"ticks\":\"\"}},\"colorscale\":{\"sequential\":[[0.0,\"#0d0887\"],[0.1111111111111111,\"#46039f\"],[0.2222222222222222,\"#7201a8\"],[0.3333333333333333,\"#9c179e\"],[0.4444444444444444,\"#bd3786\"],[0.5555555555555556,\"#d8576b\"],[0.6666666666666666,\"#ed7953\"],[0.7777777777777778,\"#fb9f3a\"],[0.8888888888888888,\"#fdca26\"],[1.0,\"#f0f921\"]],\"sequentialminus\":[[0.0,\"#0d0887\"],[0.1111111111111111,\"#46039f\"],[0.2222222222222222,\"#7201a8\"],[0.3333333333333333,\"#9c179e\"],[0.4444444444444444,\"#bd3786\"],[0.5555555555555556,\"#d8576b\"],[0.6666666666666666,\"#ed7953\"],[0.7777777777777778,\"#fb9f3a\"],[0.8888888888888888,\"#fdca26\"],[1.0,\"#f0f921\"]],\"diverging\":[[0,\"#8e0152\"],[0.1,\"#c51b7d\"],[0.2,\"#de77ae\"],[0.3,\"#f1b6da\"],[0.4,\"#fde0ef\"],[0.5,\"#f7f7f7\"],[0.6,\"#e6f5d0\"],[0.7,\"#b8e186\"],[0.8,\"#7fbc41\"],[0.9,\"#4d9221\"],[1,\"#276419\"]]},\"xaxis\":{\"gridcolor\":\"white\",\"linecolor\":\"white\",\"ticks\":\"\",\"title\":{\"standoff\":15},\"zerolinecolor\":\"white\",\"automargin\":true,\"zerolinewidth\":2},\"yaxis\":{\"gridcolor\":\"white\",\"linecolor\":\"white\",\"ticks\":\"\",\"title\":{\"standoff\":15},\"zerolinecolor\":\"white\",\"automargin\":true,\"zerolinewidth\":2},\"scene\":{\"xaxis\":{\"backgroundcolor\":\"#E5ECF6\",\"gridcolor\":\"white\",\"linecolor\":\"white\",\"showbackground\":true,\"ticks\":\"\",\"zerolinecolor\":\"white\",\"gridwidth\":2},\"yaxis\":{\"backgroundcolor\":\"#E5ECF6\",\"gridcolor\":\"white\",\"linecolor\":\"white\",\"showbackground\":true,\"ticks\":\"\",\"zerolinecolor\":\"white\",\"gridwidth\":2},\"zaxis\":{\"backgroundcolor\":\"#E5ECF6\",\"gridcolor\":\"white\",\"linecolor\":\"white\",\"showbackground\":true,\"ticks\":\"\",\"zerolinecolor\":\"white\",\"gridwidth\":2}},\"shapedefaults\":{\"line\":{\"color\":\"#2a3f5f\"}},\"annotationdefaults\":{\"arrowcolor\":\"#2a3f5f\",\"arrowhead\":0,\"arrowwidth\":1},\"geo\":{\"bgcolor\":\"white\",\"landcolor\":\"#E5ECF6\",\"subunitcolor\":\"white\",\"showland\":true,\"showlakes\":true,\"lakecolor\":\"white\"},\"title\":{\"x\":0.05},\"mapbox\":{\"style\":\"light\"}}},\"xaxis\":{\"anchor\":\"y\",\"domain\":[0.0,0.94],\"rangeslider\":{\"visible\":false},\"gridcolor\":\"#1f292f\",\"nticks\":5},\"yaxis\":{\"anchor\":\"x\",\"domain\":[0.0,1.0],\"gridcolor\":\"#1f292f\"},\"yaxis2\":{\"anchor\":\"x\",\"overlaying\":\"y\",\"side\":\"right\",\"gridcolor\":\"#1f292f\"},\"margin\":{\"l\":10,\"r\":10,\"b\":10,\"t\":10},\"font\":{\"size\":8,\"color\":\"#e1e1e1\"},\"width\":900,\"height\":400,\"paper_bgcolor\":\"#2c303c\",\"plot_bgcolor\":\"#2c303c\"},                        {\"responsive\": true}                    ).then(function(){\n",
       "                            \n",
       "var gd = document.getElementById('91c403c5-606a-4ec2-92f6-60fd6b5f6648');\n",
       "var x = new MutationObserver(function (mutations, observer) {{\n",
       "        var display = window.getComputedStyle(gd).display;\n",
       "        if (!display || display === 'none') {{\n",
       "            console.log([gd, 'removed!']);\n",
       "            Plotly.purge(gd);\n",
       "            observer.disconnect();\n",
       "        }}\n",
       "}});\n",
       "\n",
       "// Listen for the removal of the full notebook cells\n",
       "var notebookContainer = gd.closest('#notebook-container');\n",
       "if (notebookContainer) {{\n",
       "    x.observe(notebookContainer, {childList: true});\n",
       "}}\n",
       "\n",
       "// Listen for the clearing of the current output cell\n",
       "var outputEl = gd.closest('.output');\n",
       "if (outputEl) {{\n",
       "    x.observe(outputEl, {childList: true});\n",
       "}}\n",
       "\n",
       "                        })                };                });            </script>        </div>"
      ]
     },
     "metadata": {},
     "output_type": "display_data"
    }
   ],
   "source": [
    "df_res_m5['time'] = df_res_m5['end_time']\n",
    "cp = CandlePlot(df_res_m5, candles=False)\n",
    "cp.show_plot(line_traces=['balance'])"
   ]
  },
  {
   "cell_type": "code",
   "execution_count": null,
   "id": "cb3f942c",
   "metadata": {},
   "outputs": [],
   "source": []
  },
  {
   "cell_type": "code",
   "execution_count": null,
   "id": "8b0288ad",
   "metadata": {},
   "outputs": [],
   "source": []
  }
 ],
 "metadata": {
  "kernelspec": {
   "display_name": "Python 3 (ipykernel)",
   "language": "python",
   "name": "python3"
  },
  "language_info": {
   "codemirror_mode": {
    "name": "ipython",
    "version": 3
   },
   "file_extension": ".py",
   "mimetype": "text/x-python",
   "name": "python",
   "nbconvert_exporter": "python",
   "pygments_lexer": "ipython3",
   "version": "3.9.13"
  }
 },
 "nbformat": 4,
 "nbformat_minor": 5
}
