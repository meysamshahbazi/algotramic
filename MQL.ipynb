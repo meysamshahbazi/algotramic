{
 "cells": [
  {
   "cell_type": "code",
   "execution_count": 1,
   "id": "a27ef80c",
   "metadata": {},
   "outputs": [],
   "source": [
    "import pandas as pd\n",
    "import datetime as dt\n",
    "import plotly.graph_objects as go\n",
    "from technicals.indicators import *\n",
    "from technicals.patterns import apply_patterns\n",
    "from guruTester import GuruTester,GuruTester2\n",
    "from plotting import CandlePlot\n",
    "import MetaTrader5 as mt5\n",
    "from datetime import datetime\n",
    "from getCandle import Rates\n",
    "from sklearn.neural_network import MLPClassifier\n",
    "import numpy as np\n",
    "from sklearn.metrics import confusion_matrix\n",
    "from sklearn.preprocessing import StandardScaler  \n",
    "import pickle"
   ]
  },
  {
   "cell_type": "code",
   "execution_count": 2,
   "id": "c66b375c",
   "metadata": {},
   "outputs": [],
   "source": [
    "pair = \"GBPUSD\"\n",
    "NB_H1_CANDLES = 50"
   ]
  },
  {
   "cell_type": "code",
   "execution_count": 3,
   "id": "ebba3080",
   "metadata": {},
   "outputs": [],
   "source": [
    "rates = Rates(pair, NB_H1_CANDLES, mt5.TIMEFRAME_H1)\n",
    "SPREAD = rates.get_spread()\n",
    "df_an = rates.get_rates_from_now()\n",
    "df_an.drop(['tick_volume', 'spread', 'real_volume'], axis=1, inplace=True)"
   ]
  },
  {
   "cell_type": "code",
   "execution_count": 4,
   "id": "7315cd30",
   "metadata": {},
   "outputs": [
    {
     "data": {
      "text/html": [
       "<div>\n",
       "<style scoped>\n",
       "    .dataframe tbody tr th:only-of-type {\n",
       "        vertical-align: middle;\n",
       "    }\n",
       "\n",
       "    .dataframe tbody tr th {\n",
       "        vertical-align: top;\n",
       "    }\n",
       "\n",
       "    .dataframe thead th {\n",
       "        text-align: right;\n",
       "    }\n",
       "</style>\n",
       "<table border=\"1\" class=\"dataframe\">\n",
       "  <thead>\n",
       "    <tr style=\"text-align: right;\">\n",
       "      <th></th>\n",
       "      <th>time</th>\n",
       "      <th>open</th>\n",
       "      <th>high</th>\n",
       "      <th>low</th>\n",
       "      <th>close</th>\n",
       "      <th>MACD</th>\n",
       "      <th>SIGNAL_MACD</th>\n",
       "      <th>HIST</th>\n",
       "      <th>Feat_MACD</th>\n",
       "      <th>Feat_SIGNAL_MACD</th>\n",
       "      <th>Feat_HIST</th>\n",
       "    </tr>\n",
       "  </thead>\n",
       "  <tbody>\n",
       "    <tr>\n",
       "      <th>45</th>\n",
       "      <td>2023-03-24 18:00:00</td>\n",
       "      <td>1.22233</td>\n",
       "      <td>1.22309</td>\n",
       "      <td>1.22191</td>\n",
       "      <td>1.22194</td>\n",
       "      <td>-0.001984</td>\n",
       "      <td>-0.001701</td>\n",
       "      <td>-0.000283</td>\n",
       "      <td>-0.001984</td>\n",
       "      <td>-0.001701</td>\n",
       "      <td>-0.000283</td>\n",
       "    </tr>\n",
       "    <tr>\n",
       "      <th>46</th>\n",
       "      <td>2023-03-24 19:00:00</td>\n",
       "      <td>1.22194</td>\n",
       "      <td>1.22310</td>\n",
       "      <td>1.22126</td>\n",
       "      <td>1.22287</td>\n",
       "      <td>-0.001865</td>\n",
       "      <td>-0.001734</td>\n",
       "      <td>-0.000131</td>\n",
       "      <td>-0.001865</td>\n",
       "      <td>-0.001734</td>\n",
       "      <td>-0.000131</td>\n",
       "    </tr>\n",
       "    <tr>\n",
       "      <th>47</th>\n",
       "      <td>2023-03-24 20:00:00</td>\n",
       "      <td>1.22287</td>\n",
       "      <td>1.22300</td>\n",
       "      <td>1.22193</td>\n",
       "      <td>1.22272</td>\n",
       "      <td>-0.001762</td>\n",
       "      <td>-0.001739</td>\n",
       "      <td>-0.000022</td>\n",
       "      <td>-0.001762</td>\n",
       "      <td>-0.001739</td>\n",
       "      <td>-0.000022</td>\n",
       "    </tr>\n",
       "    <tr>\n",
       "      <th>48</th>\n",
       "      <td>2023-03-24 21:00:00</td>\n",
       "      <td>1.22272</td>\n",
       "      <td>1.22342</td>\n",
       "      <td>1.22235</td>\n",
       "      <td>1.22259</td>\n",
       "      <td>-0.001671</td>\n",
       "      <td>-0.001726</td>\n",
       "      <td>0.000055</td>\n",
       "      <td>-0.001671</td>\n",
       "      <td>-0.001726</td>\n",
       "      <td>0.000055</td>\n",
       "    </tr>\n",
       "    <tr>\n",
       "      <th>49</th>\n",
       "      <td>2023-03-24 22:00:00</td>\n",
       "      <td>1.22260</td>\n",
       "      <td>1.22332</td>\n",
       "      <td>1.22252</td>\n",
       "      <td>1.22300</td>\n",
       "      <td>-0.001549</td>\n",
       "      <td>-0.001690</td>\n",
       "      <td>0.000142</td>\n",
       "      <td>-0.001549</td>\n",
       "      <td>-0.001690</td>\n",
       "      <td>0.000142</td>\n",
       "    </tr>\n",
       "  </tbody>\n",
       "</table>\n",
       "</div>"
      ],
      "text/plain": [
       "                  time     open     high      low    close      MACD  \\\n",
       "45 2023-03-24 18:00:00  1.22233  1.22309  1.22191  1.22194 -0.001984   \n",
       "46 2023-03-24 19:00:00  1.22194  1.22310  1.22126  1.22287 -0.001865   \n",
       "47 2023-03-24 20:00:00  1.22287  1.22300  1.22193  1.22272 -0.001762   \n",
       "48 2023-03-24 21:00:00  1.22272  1.22342  1.22235  1.22259 -0.001671   \n",
       "49 2023-03-24 22:00:00  1.22260  1.22332  1.22252  1.22300 -0.001549   \n",
       "\n",
       "    SIGNAL_MACD      HIST  Feat_MACD  Feat_SIGNAL_MACD  Feat_HIST  \n",
       "45    -0.001701 -0.000283  -0.001984         -0.001701  -0.000283  \n",
       "46    -0.001734 -0.000131  -0.001865         -0.001734  -0.000131  \n",
       "47    -0.001739 -0.000022  -0.001762         -0.001739  -0.000022  \n",
       "48    -0.001726  0.000055  -0.001671         -0.001726   0.000055  \n",
       "49    -0.001690  0.000142  -0.001549         -0.001690   0.000142  "
      ]
     },
     "execution_count": 4,
     "metadata": {},
     "output_type": "execute_result"
    }
   ],
   "source": [
    "df_an = MACDFeature(df_an)\n",
    "\n",
    "df_an.tail()"
   ]
  },
  {
   "cell_type": "code",
   "execution_count": null,
   "id": "ed82a48b",
   "metadata": {},
   "outputs": [],
   "source": [
    "-0.0014491958260394178 | -0.0007040903079546196 | -0.0007451055180847982 | 2023.03.24 22:00:00\n"
   ]
  },
  {
   "cell_type": "code",
   "execution_count": null,
   "id": "020dccd0",
   "metadata": {},
   "outputs": [],
   "source": [
    "df = df_an.copy()\n",
    "\n",
    "n_atr=10"
   ]
  },
  {
   "cell_type": "code",
   "execution_count": null,
   "id": "f8681073",
   "metadata": {},
   "outputs": [],
   "source": [
    "alpha = 2/3\n",
    "(1.23004 + (1-alpha)*1.22451+1.22727*((1-alpha)**2)) /(1+1-alpha + (1-alpha)**2)"
   ]
  },
  {
   "cell_type": "code",
   "execution_count": null,
   "id": "f622d6ce",
   "metadata": {},
   "outputs": [],
   "source": [
    "alpha = 2.0 / (n_ema + 1.0)\n"
   ]
  },
  {
   "cell_type": "code",
   "execution_count": null,
   "id": "2c2bfcd3",
   "metadata": {},
   "outputs": [],
   "source": [
    "EMA_ = np.zeros(50);\n",
    "EMA_"
   ]
  },
  {
   "cell_type": "code",
   "execution_count": null,
   "id": "001cf5b5",
   "metadata": {},
   "outputs": [],
   "source": [
    "n_ema = 20\n",
    "\n",
    "\n",
    "alpha = 2.0 / (n_ema + 1.0)\n",
    "EMA_[0] = df.close.iloc[0]\n",
    "for i in range(1,len(df)):\n",
    "    EMA_[i] = df.close.iloc[i] *alpha +  EMA_[i-1] * (1 - alpha)"
   ]
  },
  {
   "cell_type": "code",
   "execution_count": null,
   "id": "a9824bac",
   "metadata": {},
   "outputs": [],
   "source": [
    "ema_pd = df.close.ewm(span=n_ema, min_periods=n_ema,adjust=False).mean()\n",
    "ema_pd[1]"
   ]
  },
  {
   "cell_type": "code",
   "execution_count": null,
   "id": "86c3fe8d",
   "metadata": {},
   "outputs": [],
   "source": [
    "for i in range(19,len(df)):\n",
    "    print(ema_pd[i] -  EMA_[i])\n"
   ]
  },
  {
   "cell_type": "code",
   "execution_count": null,
   "id": "cb527042",
   "metadata": {},
   "outputs": [],
   "source": []
  },
  {
   "cell_type": "code",
   "execution_count": null,
   "id": "01b05f31",
   "metadata": {},
   "outputs": [],
   "source": [
    "rslt = (newStock - previousAverage) * mult + previousAverage\n"
   ]
  },
  {
   "cell_type": "code",
   "execution_count": null,
   "id": "b8d76079",
   "metadata": {},
   "outputs": [],
   "source": [
    "df['em'] = df.close.ewm(span=n_ema, min_periods=n_ema).mean()"
   ]
  },
  {
   "cell_type": "code",
   "execution_count": null,
   "id": "15bf69b7",
   "metadata": {},
   "outputs": [],
   "source": [
    "df"
   ]
  },
  {
   "cell_type": "code",
   "execution_count": null,
   "id": "8dd91e1f",
   "metadata": {},
   "outputs": [],
   "source": []
  },
  {
   "cell_type": "code",
   "execution_count": null,
   "id": "fddd3e2d",
   "metadata": {},
   "outputs": [],
   "source": [
    "n=14\n",
    "prev_c = df.close.shift(1)\n",
    "tr1 = df.high - df.low\n",
    "tr2 = df.high - prev_c\n",
    "tr3 = prev_c - df.low\n",
    "tr = pd.DataFrame({'tr1': tr1, 'tr2': tr2, 'tr3': tr3}).max(axis=1)\n",
    "df[f\"Feat_ATR_{n}\"] = tr.rolling(window=n).mean()"
   ]
  },
  {
   "cell_type": "code",
   "execution_count": null,
   "id": "0c15b1d5",
   "metadata": {},
   "outputs": [],
   "source": [
    "df"
   ]
  },
  {
   "cell_type": "code",
   "execution_count": null,
   "id": "39dcff95",
   "metadata": {},
   "outputs": [],
   "source": [
    "2023.03.25 00:13:18.869\tnnInrange (GBPUSD,H1)\t0.002207142857142852 | 2023.03.24 19:00:00\n"
   ]
  },
  {
   "cell_type": "code",
   "execution_count": null,
   "id": "573642d2",
   "metadata": {},
   "outputs": [],
   "source": []
  },
  {
   "cell_type": "code",
   "execution_count": null,
   "id": "d631d905",
   "metadata": {},
   "outputs": [],
   "source": [
    "n = 20\n",
    "s = 2\n",
    "typical_p = ( df.close + df.high + df.low ) / 3\n",
    "stddev = typical_p.rolling(window=n).std()\n",
    "df['BB_MA'] = typical_p.rolling(window=n).mean()\n",
    "df['BB_UP'] = df['BB_MA'] + stddev * s\n",
    "df['BB_LW'] = df['BB_MA'] - stddev * s"
   ]
  },
  {
   "cell_type": "code",
   "execution_count": null,
   "id": "7d3bc36b",
   "metadata": {},
   "outputs": [],
   "source": [
    "df['stddev'] = stddev\n",
    "df"
   ]
  },
  {
   "cell_type": "code",
   "execution_count": null,
   "id": "0f764a6e",
   "metadata": {},
   "outputs": [],
   "source": []
  },
  {
   "cell_type": "code",
   "execution_count": null,
   "id": "0a863439",
   "metadata": {},
   "outputs": [],
   "source": []
  },
  {
   "cell_type": "code",
   "execution_count": null,
   "id": "6ad95349",
   "metadata": {},
   "outputs": [],
   "source": []
  },
  {
   "cell_type": "code",
   "execution_count": null,
   "id": "36a7574a",
   "metadata": {},
   "outputs": [],
   "source": []
  }
 ],
 "metadata": {
  "kernelspec": {
   "display_name": "Python 3 (ipykernel)",
   "language": "python",
   "name": "python3"
  },
  "language_info": {
   "codemirror_mode": {
    "name": "ipython",
    "version": 3
   },
   "file_extension": ".py",
   "mimetype": "text/x-python",
   "name": "python",
   "nbconvert_exporter": "python",
   "pygments_lexer": "ipython3",
   "version": "3.9.13"
  }
 },
 "nbformat": 4,
 "nbformat_minor": 5
}
