{
 "cells": [
  {
   "cell_type": "code",
   "execution_count": 1,
   "id": "ec6d40cf",
   "metadata": {},
   "outputs": [],
   "source": [
    "import pandas as pd\n",
    "import datetime as dt\n",
    "import plotly.graph_objects as go\n",
    "from technicals.indicators import *\n",
    "from technicals.patterns import apply_patterns\n",
    "from technicals.patternsInRange import apply_patterns_in_range\n",
    "\n",
    "from guruTester import GuruTeplster,GuruTester2\n",
    "from plotting import CandlePlot\n",
    "import MetaTrader5 as mt5\n",
    "from datetime import datetime\n",
    "from getCandle import Rates\n",
    "from sklearn.neural_network import MLPClassifier\n",
    "import numpy as np\n",
    "from sklearn.metrics import confusion_matrix\n",
    "from sklearn.preprocessing import StandardScaler  \n",
    "import pickle"
   ]
  },
  {
   "cell_type": "code",
   "execution_count": 2,
   "id": "8c10b2c8",
   "metadata": {},
   "outputs": [],
   "source": [
    "pair = \"GBPUSD\"\n",
    "NB_H1_CANDLES = 20000"
   ]
  },
  {
   "cell_type": "code",
   "execution_count": 17,
   "id": "d31dea2e",
   "metadata": {},
   "outputs": [
    {
     "data": {
      "text/plain": [
       "9.999999999998899e-05"
      ]
     },
     "execution_count": 17,
     "metadata": {},
     "output_type": "execute_result"
    }
   ],
   "source": [
    "rates = Rates(pair, NB_H1_CANDLES, mt5.TIMEFRAME_H1)\n",
    "SPREAD = rates.get_spread()\n",
    "df_an = rates.get_rates_from_now()\n",
    "df_an.drop(NB_H1_CANDLES-1,inplace=True) \n",
    "df_an.drop(['tick_volume', 'spread', 'real_volume'], axis=1, inplace=True)\n",
    "SPREAD"
   ]
  },
  {
   "cell_type": "code",
   "execution_count": 18,
   "id": "a7ccceec",
   "metadata": {},
   "outputs": [],
   "source": [
    "def featureExtraction(df):\n",
    "    candle_patterns = ['HANGING_MAN', 'SHOOTING_STAR',\n",
    "           'SPINNING_TOP', 'MARUBOZU', 'ENGULFING', 'TWEEZER_TOP',\n",
    "           'TWEEZER_BOTTOM', 'MORNING_STAR', 'EVENING_STAR']\n",
    "    df = apply_patterns_in_range(df)\n",
    "    for cp in candle_patterns:\n",
    "        df[cp] = df[cp].astype(float)\n",
    "\n",
    "    df = BollingerBandsFeature(df)\n",
    "    df = ATRFeature(df)\n",
    "    df = KeltnerChannelsFeature(df)\n",
    "    df = RSIFeature(df)\n",
    "    df = MACDFeature(df)\n",
    "    df['pivots_l'] = False\n",
    "    df['pivots_h'] = False\n",
    "\n",
    "    df['low_perv'] = df.low.shift(1)\n",
    "    df['high_perv'] = df.high.shift(1)\n",
    "    df['low_next'] = df.low.shift(-1)\n",
    "    df['high_next'] = df.high.shift(-1)\n",
    "    df['pivots_l'] = (df.low_perv > df.low) & (df.low_next > df.low)\n",
    "    df['pivots_h'] = (df.high_perv < df.high) & (df.high_next < df.high)\n",
    "    df.dropna(inplace=True)\n",
    "    df.reset_index(drop=True, inplace=True)\n",
    "\n",
    "    df.pivots_l = df.pivots_l.astype(float)\n",
    "    df.pivots_h = df.pivots_h.astype(float)\n",
    "    return df"
   ]
  },
  {
   "cell_type": "code",
   "execution_count": 19,
   "id": "185db460",
   "metadata": {},
   "outputs": [],
   "source": [
    "df_an = featureExtraction(df_an)"
   ]
  },
  {
   "cell_type": "code",
   "execution_count": 20,
   "id": "d0c04450",
   "metadata": {},
   "outputs": [],
   "source": [
    "# candle_patterns = ['HANGING_MAN', 'SHOOTING_STAR',\n",
    "#        'SPINNING_TOP', 'MARUBOZU', 'ENGULFING', 'TWEEZER_TOP',\n",
    "#        'TWEEZER_BOTTOM', 'MORNING_STAR', 'EVENING_STAR']\n",
    "# df_an = apply_patterns_in_range(df_an)\n",
    "# for cp in candle_patterns:\n",
    "#     df_an[cp] = df_an[cp].astype(float)\n",
    "    \n",
    "# df_an.head()"
   ]
  },
  {
   "cell_type": "code",
   "execution_count": 21,
   "id": "9f7e51b1",
   "metadata": {},
   "outputs": [],
   "source": [
    "# df_an = BollingerBandsFeature(df_an)\n",
    "# df_an = ATRFeature(df_an)\n",
    "# df_an = KeltnerChannelsFeature(df_an)\n",
    "# df_an = RSIFeature(df_an)\n",
    "# df_an = MACDFeature(df_an)\n",
    "# df_an"
   ]
  },
  {
   "cell_type": "code",
   "execution_count": null,
   "id": "f68a3518",
   "metadata": {},
   "outputs": [],
   "source": []
  },
  {
   "cell_type": "code",
   "execution_count": 22,
   "id": "dcdc93a2",
   "metadata": {},
   "outputs": [
    {
     "data": {
      "text/plain": [
       "9e-05"
      ]
     },
     "execution_count": 22,
     "metadata": {},
     "output_type": "execute_result"
    }
   ],
   "source": [
    "SPREAD = (SPREAD//1e-5)*1e-5 # todo: do it right!!!\n",
    "SPREAD # 0"
   ]
  },
  {
   "cell_type": "code",
   "execution_count": 23,
   "id": "523077ed",
   "metadata": {},
   "outputs": [
    {
     "data": {
      "text/html": [
       "<div>\n",
       "<style scoped>\n",
       "    .dataframe tbody tr th:only-of-type {\n",
       "        vertical-align: middle;\n",
       "    }\n",
       "\n",
       "    .dataframe tbody tr th {\n",
       "        vertical-align: top;\n",
       "    }\n",
       "\n",
       "    .dataframe thead th {\n",
       "        text-align: right;\n",
       "    }\n",
       "</style>\n",
       "<table border=\"1\" class=\"dataframe\">\n",
       "  <thead>\n",
       "    <tr style=\"text-align: right;\">\n",
       "      <th></th>\n",
       "      <th>time</th>\n",
       "      <th>open</th>\n",
       "      <th>high</th>\n",
       "      <th>low</th>\n",
       "      <th>close</th>\n",
       "      <th>full_range</th>\n",
       "      <th>body_lower</th>\n",
       "      <th>body_upper</th>\n",
       "      <th>body_bottom_perc</th>\n",
       "      <th>body_top_perc</th>\n",
       "      <th>...</th>\n",
       "      <th>HIST</th>\n",
       "      <th>Feat_MACD</th>\n",
       "      <th>Feat_SIGNAL_MACD</th>\n",
       "      <th>Feat_HIST</th>\n",
       "      <th>pivots_l</th>\n",
       "      <th>pivots_h</th>\n",
       "      <th>low_perv</th>\n",
       "      <th>high_perv</th>\n",
       "      <th>low_next</th>\n",
       "      <th>high_next</th>\n",
       "    </tr>\n",
       "  </thead>\n",
       "  <tbody>\n",
       "    <tr>\n",
       "      <th>0</th>\n",
       "      <td>2020-01-07 23:00:00</td>\n",
       "      <td>1.31169</td>\n",
       "      <td>1.31206</td>\n",
       "      <td>1.31125</td>\n",
       "      <td>1.31195</td>\n",
       "      <td>0.00081</td>\n",
       "      <td>1.31169</td>\n",
       "      <td>1.31195</td>\n",
       "      <td>0.543210</td>\n",
       "      <td>0.864198</td>\n",
       "      <td>...</td>\n",
       "      <td>-0.000163</td>\n",
       "      <td>-0.000984</td>\n",
       "      <td>-0.000821</td>\n",
       "      <td>-0.000163</td>\n",
       "      <td>0.0</td>\n",
       "      <td>0.0</td>\n",
       "      <td>1.31155</td>\n",
       "      <td>1.31222</td>\n",
       "      <td>1.31043</td>\n",
       "      <td>1.31249</td>\n",
       "    </tr>\n",
       "    <tr>\n",
       "      <th>1</th>\n",
       "      <td>2020-01-08 00:00:00</td>\n",
       "      <td>1.31244</td>\n",
       "      <td>1.31249</td>\n",
       "      <td>1.31043</td>\n",
       "      <td>1.31138</td>\n",
       "      <td>0.00206</td>\n",
       "      <td>1.31138</td>\n",
       "      <td>1.31244</td>\n",
       "      <td>0.461165</td>\n",
       "      <td>0.975728</td>\n",
       "      <td>...</td>\n",
       "      <td>-0.000159</td>\n",
       "      <td>-0.001020</td>\n",
       "      <td>-0.000861</td>\n",
       "      <td>-0.000159</td>\n",
       "      <td>0.0</td>\n",
       "      <td>1.0</td>\n",
       "      <td>1.31125</td>\n",
       "      <td>1.31206</td>\n",
       "      <td>1.31039</td>\n",
       "      <td>1.31184</td>\n",
       "    </tr>\n",
       "    <tr>\n",
       "      <th>2</th>\n",
       "      <td>2020-01-08 01:00:00</td>\n",
       "      <td>1.31139</td>\n",
       "      <td>1.31184</td>\n",
       "      <td>1.31039</td>\n",
       "      <td>1.31125</td>\n",
       "      <td>0.00145</td>\n",
       "      <td>1.31125</td>\n",
       "      <td>1.31139</td>\n",
       "      <td>0.593103</td>\n",
       "      <td>0.689655</td>\n",
       "      <td>...</td>\n",
       "      <td>-0.000149</td>\n",
       "      <td>-0.001048</td>\n",
       "      <td>-0.000898</td>\n",
       "      <td>-0.000149</td>\n",
       "      <td>1.0</td>\n",
       "      <td>0.0</td>\n",
       "      <td>1.31043</td>\n",
       "      <td>1.31249</td>\n",
       "      <td>1.31057</td>\n",
       "      <td>1.31190</td>\n",
       "    </tr>\n",
       "    <tr>\n",
       "      <th>3</th>\n",
       "      <td>2020-01-08 02:00:00</td>\n",
       "      <td>1.31126</td>\n",
       "      <td>1.31190</td>\n",
       "      <td>1.31057</td>\n",
       "      <td>1.31108</td>\n",
       "      <td>0.00133</td>\n",
       "      <td>1.31108</td>\n",
       "      <td>1.31126</td>\n",
       "      <td>0.383459</td>\n",
       "      <td>0.518797</td>\n",
       "      <td>...</td>\n",
       "      <td>-0.000138</td>\n",
       "      <td>-0.001071</td>\n",
       "      <td>-0.000933</td>\n",
       "      <td>-0.000138</td>\n",
       "      <td>0.0</td>\n",
       "      <td>0.0</td>\n",
       "      <td>1.31039</td>\n",
       "      <td>1.31184</td>\n",
       "      <td>1.31100</td>\n",
       "      <td>1.31202</td>\n",
       "    </tr>\n",
       "    <tr>\n",
       "      <th>4</th>\n",
       "      <td>2020-01-08 03:00:00</td>\n",
       "      <td>1.31109</td>\n",
       "      <td>1.31202</td>\n",
       "      <td>1.31100</td>\n",
       "      <td>1.31161</td>\n",
       "      <td>0.00102</td>\n",
       "      <td>1.31109</td>\n",
       "      <td>1.31161</td>\n",
       "      <td>0.088235</td>\n",
       "      <td>0.598039</td>\n",
       "      <td>...</td>\n",
       "      <td>-0.000081</td>\n",
       "      <td>-0.001034</td>\n",
       "      <td>-0.000953</td>\n",
       "      <td>-0.000081</td>\n",
       "      <td>0.0</td>\n",
       "      <td>0.0</td>\n",
       "      <td>1.31057</td>\n",
       "      <td>1.31190</td>\n",
       "      <td>1.31158</td>\n",
       "      <td>1.31389</td>\n",
       "    </tr>\n",
       "    <tr>\n",
       "      <th>...</th>\n",
       "      <td>...</td>\n",
       "      <td>...</td>\n",
       "      <td>...</td>\n",
       "      <td>...</td>\n",
       "      <td>...</td>\n",
       "      <td>...</td>\n",
       "      <td>...</td>\n",
       "      <td>...</td>\n",
       "      <td>...</td>\n",
       "      <td>...</td>\n",
       "      <td>...</td>\n",
       "      <td>...</td>\n",
       "      <td>...</td>\n",
       "      <td>...</td>\n",
       "      <td>...</td>\n",
       "      <td>...</td>\n",
       "      <td>...</td>\n",
       "      <td>...</td>\n",
       "      <td>...</td>\n",
       "      <td>...</td>\n",
       "      <td>...</td>\n",
       "    </tr>\n",
       "    <tr>\n",
       "      <th>19957</th>\n",
       "      <td>2023-03-27 07:00:00</td>\n",
       "      <td>1.22444</td>\n",
       "      <td>1.22465</td>\n",
       "      <td>1.22340</td>\n",
       "      <td>1.22377</td>\n",
       "      <td>0.00125</td>\n",
       "      <td>1.22377</td>\n",
       "      <td>1.22444</td>\n",
       "      <td>0.296000</td>\n",
       "      <td>0.832000</td>\n",
       "      <td>...</td>\n",
       "      <td>0.000363</td>\n",
       "      <td>-0.000547</td>\n",
       "      <td>-0.000910</td>\n",
       "      <td>0.000363</td>\n",
       "      <td>0.0</td>\n",
       "      <td>0.0</td>\n",
       "      <td>1.22399</td>\n",
       "      <td>1.22511</td>\n",
       "      <td>1.22327</td>\n",
       "      <td>1.22396</td>\n",
       "    </tr>\n",
       "    <tr>\n",
       "      <th>19958</th>\n",
       "      <td>2023-03-27 08:00:00</td>\n",
       "      <td>1.22377</td>\n",
       "      <td>1.22396</td>\n",
       "      <td>1.22327</td>\n",
       "      <td>1.22363</td>\n",
       "      <td>0.00069</td>\n",
       "      <td>1.22363</td>\n",
       "      <td>1.22377</td>\n",
       "      <td>0.521739</td>\n",
       "      <td>0.724638</td>\n",
       "      <td>...</td>\n",
       "      <td>0.000319</td>\n",
       "      <td>-0.000511</td>\n",
       "      <td>-0.000830</td>\n",
       "      <td>0.000319</td>\n",
       "      <td>0.0</td>\n",
       "      <td>0.0</td>\n",
       "      <td>1.22340</td>\n",
       "      <td>1.22465</td>\n",
       "      <td>1.22188</td>\n",
       "      <td>1.22464</td>\n",
       "    </tr>\n",
       "    <tr>\n",
       "      <th>19959</th>\n",
       "      <td>2023-03-27 09:00:00</td>\n",
       "      <td>1.22365</td>\n",
       "      <td>1.22464</td>\n",
       "      <td>1.22188</td>\n",
       "      <td>1.22453</td>\n",
       "      <td>0.00276</td>\n",
       "      <td>1.22365</td>\n",
       "      <td>1.22453</td>\n",
       "      <td>0.641304</td>\n",
       "      <td>0.960145</td>\n",
       "      <td>...</td>\n",
       "      <td>0.000340</td>\n",
       "      <td>-0.000406</td>\n",
       "      <td>-0.000745</td>\n",
       "      <td>0.000340</td>\n",
       "      <td>1.0</td>\n",
       "      <td>0.0</td>\n",
       "      <td>1.22327</td>\n",
       "      <td>1.22396</td>\n",
       "      <td>1.22263</td>\n",
       "      <td>1.22593</td>\n",
       "    </tr>\n",
       "    <tr>\n",
       "      <th>19960</th>\n",
       "      <td>2023-03-27 10:00:00</td>\n",
       "      <td>1.22457</td>\n",
       "      <td>1.22593</td>\n",
       "      <td>1.22263</td>\n",
       "      <td>1.22342</td>\n",
       "      <td>0.00330</td>\n",
       "      <td>1.22342</td>\n",
       "      <td>1.22457</td>\n",
       "      <td>0.239394</td>\n",
       "      <td>0.587879</td>\n",
       "      <td>...</td>\n",
       "      <td>0.000271</td>\n",
       "      <td>-0.000407</td>\n",
       "      <td>-0.000678</td>\n",
       "      <td>0.000271</td>\n",
       "      <td>0.0</td>\n",
       "      <td>0.0</td>\n",
       "      <td>1.22188</td>\n",
       "      <td>1.22464</td>\n",
       "      <td>1.22325</td>\n",
       "      <td>1.22658</td>\n",
       "    </tr>\n",
       "    <tr>\n",
       "      <th>19961</th>\n",
       "      <td>2023-03-27 11:00:00</td>\n",
       "      <td>1.22342</td>\n",
       "      <td>1.22658</td>\n",
       "      <td>1.22325</td>\n",
       "      <td>1.22624</td>\n",
       "      <td>0.00333</td>\n",
       "      <td>1.22342</td>\n",
       "      <td>1.22624</td>\n",
       "      <td>0.051051</td>\n",
       "      <td>0.897898</td>\n",
       "      <td>...</td>\n",
       "      <td>0.000400</td>\n",
       "      <td>-0.000178</td>\n",
       "      <td>-0.000578</td>\n",
       "      <td>0.000400</td>\n",
       "      <td>0.0</td>\n",
       "      <td>1.0</td>\n",
       "      <td>1.22263</td>\n",
       "      <td>1.22593</td>\n",
       "      <td>1.22512</td>\n",
       "      <td>1.22634</td>\n",
       "    </tr>\n",
       "  </tbody>\n",
       "</table>\n",
       "<p>19962 rows × 79 columns</p>\n",
       "</div>"
      ],
      "text/plain": [
       "                     time     open     high      low    close  full_range  \\\n",
       "0     2020-01-07 23:00:00  1.31169  1.31206  1.31125  1.31195     0.00081   \n",
       "1     2020-01-08 00:00:00  1.31244  1.31249  1.31043  1.31138     0.00206   \n",
       "2     2020-01-08 01:00:00  1.31139  1.31184  1.31039  1.31125     0.00145   \n",
       "3     2020-01-08 02:00:00  1.31126  1.31190  1.31057  1.31108     0.00133   \n",
       "4     2020-01-08 03:00:00  1.31109  1.31202  1.31100  1.31161     0.00102   \n",
       "...                   ...      ...      ...      ...      ...         ...   \n",
       "19957 2023-03-27 07:00:00  1.22444  1.22465  1.22340  1.22377     0.00125   \n",
       "19958 2023-03-27 08:00:00  1.22377  1.22396  1.22327  1.22363     0.00069   \n",
       "19959 2023-03-27 09:00:00  1.22365  1.22464  1.22188  1.22453     0.00276   \n",
       "19960 2023-03-27 10:00:00  1.22457  1.22593  1.22263  1.22342     0.00330   \n",
       "19961 2023-03-27 11:00:00  1.22342  1.22658  1.22325  1.22624     0.00333   \n",
       "\n",
       "       body_lower  body_upper  body_bottom_perc  body_top_perc  ...      HIST  \\\n",
       "0         1.31169     1.31195          0.543210       0.864198  ... -0.000163   \n",
       "1         1.31138     1.31244          0.461165       0.975728  ... -0.000159   \n",
       "2         1.31125     1.31139          0.593103       0.689655  ... -0.000149   \n",
       "3         1.31108     1.31126          0.383459       0.518797  ... -0.000138   \n",
       "4         1.31109     1.31161          0.088235       0.598039  ... -0.000081   \n",
       "...           ...         ...               ...            ...  ...       ...   \n",
       "19957     1.22377     1.22444          0.296000       0.832000  ...  0.000363   \n",
       "19958     1.22363     1.22377          0.521739       0.724638  ...  0.000319   \n",
       "19959     1.22365     1.22453          0.641304       0.960145  ...  0.000340   \n",
       "19960     1.22342     1.22457          0.239394       0.587879  ...  0.000271   \n",
       "19961     1.22342     1.22624          0.051051       0.897898  ...  0.000400   \n",
       "\n",
       "       Feat_MACD  Feat_SIGNAL_MACD  Feat_HIST  pivots_l  pivots_h  low_perv  \\\n",
       "0      -0.000984         -0.000821  -0.000163       0.0       0.0   1.31155   \n",
       "1      -0.001020         -0.000861  -0.000159       0.0       1.0   1.31125   \n",
       "2      -0.001048         -0.000898  -0.000149       1.0       0.0   1.31043   \n",
       "3      -0.001071         -0.000933  -0.000138       0.0       0.0   1.31039   \n",
       "4      -0.001034         -0.000953  -0.000081       0.0       0.0   1.31057   \n",
       "...          ...               ...        ...       ...       ...       ...   \n",
       "19957  -0.000547         -0.000910   0.000363       0.0       0.0   1.22399   \n",
       "19958  -0.000511         -0.000830   0.000319       0.0       0.0   1.22340   \n",
       "19959  -0.000406         -0.000745   0.000340       1.0       0.0   1.22327   \n",
       "19960  -0.000407         -0.000678   0.000271       0.0       0.0   1.22188   \n",
       "19961  -0.000178         -0.000578   0.000400       0.0       1.0   1.22263   \n",
       "\n",
       "       high_perv  low_next  high_next  \n",
       "0        1.31222   1.31043    1.31249  \n",
       "1        1.31206   1.31039    1.31184  \n",
       "2        1.31249   1.31057    1.31190  \n",
       "3        1.31184   1.31100    1.31202  \n",
       "4        1.31190   1.31158    1.31389  \n",
       "...          ...       ...        ...  \n",
       "19957    1.22511   1.22327    1.22396  \n",
       "19958    1.22465   1.22188    1.22464  \n",
       "19959    1.22396   1.22263    1.22593  \n",
       "19960    1.22464   1.22325    1.22658  \n",
       "19961    1.22593   1.22512    1.22634  \n",
       "\n",
       "[19962 rows x 79 columns]"
      ]
     },
     "execution_count": 23,
     "metadata": {},
     "output_type": "execute_result"
    }
   ],
   "source": [
    "# df_an['pivots_l'] = False\n",
    "# df_an['pivots_h'] = False\n",
    "\n",
    "# df_an['low_perv'] = df_an.low.shift(1)\n",
    "# df_an['high_perv'] = df_an.high.shift(1)\n",
    "# df_an['low_next'] = df_an.low.shift(-1)\n",
    "# df_an['high_next'] = df_an.high.shift(-1)\n",
    "# df_an['pivots_l'] = (df_an.low_perv > df_an.low) & (df_an.low_next > df_an.low)\n",
    "# df_an['pivots_h'] = (df_an.high_perv < df_an.high) & (df_an.high_next < df_an.high)\n",
    "# df_an.dropna(inplace=True)\n",
    "# df_an.reset_index(drop=True, inplace=True)\n",
    "df_an"
   ]
  },
  {
   "cell_type": "code",
   "execution_count": 24,
   "id": "affc2b72",
   "metadata": {},
   "outputs": [
    {
     "name": "stderr",
     "output_type": "stream",
     "text": [
      "C:\\Users\\meysam\\AppData\\Local\\Temp\\ipykernel_7076\\1697842815.py:31: SettingWithCopyWarning: \n",
      "A value is trying to be set on a copy of a slice from a DataFrame\n",
      "\n",
      "See the caveats in the documentation: https://pandas.pydata.org/pandas-docs/stable/user_guide/indexing.html#returning-a-view-versus-a-copy\n",
      "  df_an['SL'][i] = df_an.high[i-1] + SPREAD_IN_POSITON\n",
      "C:\\Users\\meysam\\AppData\\Local\\Temp\\ipykernel_7076\\1697842815.py:32: SettingWithCopyWarning: \n",
      "A value is trying to be set on a copy of a slice from a DataFrame\n",
      "\n",
      "See the caveats in the documentation: https://pandas.pydata.org/pandas-docs/stable/user_guide/indexing.html#returning-a-view-versus-a-copy\n",
      "  df_an['TP'][i] = 2*(df_an.close[i] - df_an.high[i-1] - SPREAD_IN_POSITON) + df_an.close[i]\n",
      "C:\\Users\\meysam\\AppData\\Local\\Temp\\ipykernel_7076\\1697842815.py:16: SettingWithCopyWarning: \n",
      "A value is trying to be set on a copy of a slice from a DataFrame\n",
      "\n",
      "See the caveats in the documentation: https://pandas.pydata.org/pandas-docs/stable/user_guide/indexing.html#returning-a-view-versus-a-copy\n",
      "  df_an.SIGNAL[i] = BUY\n",
      "C:\\Users\\meysam\\AppData\\Local\\Temp\\ipykernel_7076\\1697842815.py:28: SettingWithCopyWarning: \n",
      "A value is trying to be set on a copy of a slice from a DataFrame\n",
      "\n",
      "See the caveats in the documentation: https://pandas.pydata.org/pandas-docs/stable/user_guide/indexing.html#returning-a-view-versus-a-copy\n",
      "  df_an.SIGNAL[i] = SELL\n"
     ]
    }
   ],
   "source": [
    "BUY = 1\n",
    "SELL = -1\n",
    "NONE = 0\n",
    "\n",
    "df_an['SIGNAL'] = 0\n",
    "df_an['TP'] = 0\n",
    "df_an['SL'] = 0\n",
    "SPREAD_IN_POSITON = 0# SPREAD # 0\n",
    "for i in range(1,len(df_an)):\n",
    "    if df_an.pivots_l[i-1]:\n",
    "        for j in range(i,len(df_an)):\n",
    "            if( df_an.low[j] <= df_an.low[i-1] ):\n",
    "                break\n",
    "            else:\n",
    "                if(df_an.high[j] > 2*(df_an.close[i] - df_an.low[i-1] ) + df_an.close[i]):\n",
    "                    df_an.SIGNAL[i] = BUY\n",
    "                    break\n",
    "        \n",
    "        df_an['SL'][i] = df_an.low[i-1] \n",
    "        df_an['TP'][i] = 2*(df_an.close[i] - df_an.low[i-1] ) + df_an.close[i]\n",
    "                    \n",
    "    if df_an.pivots_h[i-1]:\n",
    "        for j in range(i,len(df_an)):\n",
    "            if( df_an.high[j] >= df_an.high[i-1] ):\n",
    "                break\n",
    "            else:\n",
    "                if(df_an.low[j] < 2*(df_an.close[i] - df_an.high[i-1] ) + df_an.close[i]):\n",
    "                    df_an.SIGNAL[i] = SELL\n",
    "                    break\n",
    "                    \n",
    "        df_an['SL'][i] = df_an.high[i-1] + SPREAD_IN_POSITON\n",
    "        df_an['TP'][i] = 2*(df_an.close[i] - df_an.high[i-1] - SPREAD_IN_POSITON) + df_an.close[i]\n",
    "                    "
   ]
  },
  {
   "cell_type": "code",
   "execution_count": null,
   "id": "d91a208d",
   "metadata": {},
   "outputs": [],
   "source": []
  },
  {
   "cell_type": "code",
   "execution_count": null,
   "id": "2d579fed",
   "metadata": {},
   "outputs": [],
   "source": []
  },
  {
   "cell_type": "code",
   "execution_count": 25,
   "id": "bcbaa40b",
   "metadata": {},
   "outputs": [],
   "source": [
    "X = []\n",
    "Y = [] \n",
    "feature_col = [\n",
    "#     'open', 'high', 'low', 'close',\n",
    "#                'RSI_14', 'ATR_14',\n",
    "#     'BB_MA', 'BB_UP','BB_LW', 'EMA', 'KeUp', 'KeLo', \n",
    "#     'MACD', 'SIGNAL_MACD', 'HIST',\n",
    "    \n",
    "    'Feat_BB_MA_c', 'Feat_BB_UP_c', 'Feat_BB_LW_c',\n",
    "    'Feat_EMA_c', 'Feat_KeUp_c', 'Feat_KeLo_c',\n",
    "    \n",
    "    'Feat_BB_MA_o', 'Feat_BB_UP_o', 'Feat_BB_LW_o',\n",
    "    'Feat_EMA_o', 'Feat_KeUp_o', 'Feat_KeLo_o', \n",
    "    \n",
    "    'Feat_BB_MA_l', 'Feat_BB_UP_l', 'Feat_BB_LW_l',\n",
    "    'Feat_EMA_l', 'Feat_KeUp_l', 'Feat_KeLo_l',\n",
    "    \n",
    "    'Feat_BB_MA_h', 'Feat_BB_UP_h', 'Feat_BB_LW_h',\n",
    "    'Feat_EMA_h', 'Feat_KeUp_h', 'Feat_KeLo_h',\n",
    "    \n",
    "    'Feat_ATR_14',\n",
    "    'Feat_gains','Feat_wins_rma', 'Feat_losses_rma', 'Feat_RSI_14', \n",
    "#     'Feat_MACD', 'Feat_SIGNAL_MACD', 'Feat_HIST',\n",
    "    \n",
    "        'full_range',# this is added ...\n",
    "       'body_lower', 'body_upper', \n",
    "        'body_bottom_perc', 'body_top_perc',\n",
    "       'body_perc', 'direction', 'body_size', 'low_change', 'high_change',\n",
    "    'mid_point', 'mid_point_prev_2', 'body_size_prev',\n",
    "       'direction_prev', 'direction_prev_2', 'body_perc_prev','body_perc_prev_2',\n",
    "        'HANGING_MAN', 'SHOOTING_STAR', 'SPINNING_TOP',\n",
    "       'MARUBOZU', 'ENGULFING',\n",
    "    'TWEEZER_TOP', 'TWEEZER_BOTTOM',\n",
    "       'MORNING_STAR', 'EVENING_STAR'\n",
    "]"
   ]
  },
  {
   "cell_type": "code",
   "execution_count": 26,
   "id": "7a47bf62",
   "metadata": {},
   "outputs": [],
   "source": [
    "\n",
    "indeces = []\n",
    "for i in range(4,len(df_an)):\n",
    "    if df_an.pivots_h[i-1] or df_an.pivots_l[i-1] :\n",
    "        feature = []\n",
    "        feature.append(df_an.pivots_h[i-1])\n",
    "        feature.append(df_an.pivots_l[i-1])\n",
    "        feature.append(df_an.pivots_h[i-2])\n",
    "        feature.append(df_an.pivots_l[i-2])\n",
    "        feature.append(df_an.pivots_h[i-3])\n",
    "        feature.append(df_an.pivots_l[i-3])\n",
    "        feature.append(df_an.pivots_h[i-4])\n",
    "        feature.append(df_an.pivots_l[i-4])\n",
    "        for fc in feature_col:\n",
    "            feature.append(df_an[fc][i])\n",
    "            feature.append(df_an[fc][i-1])\n",
    "            feature.append(df_an[fc][i-2])\n",
    "            feature.append(df_an[fc][i-3])\n",
    "            feature.append(df_an[fc][i-4])\n",
    "\n",
    "        X.append(feature)\n",
    "        Y.append(df_an.SIGNAL[i])\n",
    "        indeces.append(i)\n",
    "        "
   ]
  },
  {
   "cell_type": "code",
   "execution_count": null,
   "id": "95189eb9",
   "metadata": {
    "scrolled": false
   },
   "outputs": [],
   "source": []
  },
  {
   "cell_type": "code",
   "execution_count": 27,
   "id": "13e3f7a6",
   "metadata": {},
   "outputs": [],
   "source": [
    "SPLIT_INDEX = int(0.8*len(X))\n",
    "X_train = X[:SPLIT_INDEX]\n",
    "Y_train = Y[:SPLIT_INDEX]\n",
    "indeces_train = indeces[:SPLIT_INDEX]\n",
    "X_test = X[SPLIT_INDEX:]\n",
    "Y_test = Y[SPLIT_INDEX:]\n",
    "indeces_test = indeces[SPLIT_INDEX:]\n"
   ]
  },
  {
   "cell_type": "code",
   "execution_count": 28,
   "id": "fa03b72d",
   "metadata": {},
   "outputs": [],
   "source": [
    "def softmax(x):\n",
    "#     return np.exp(x ) / np.exp(x.sum())\n",
    "    return(np.exp(x - np.max(x)) / np.exp(x - np.max(x)).sum())\n",
    "\n",
    "def relu(x):\n",
    "    return (abs(x) + x) / 2\n"
   ]
  },
  {
   "cell_type": "code",
   "execution_count": 29,
   "id": "664514c8",
   "metadata": {},
   "outputs": [],
   "source": [
    "coefs_0 = np.genfromtxt('coefs_0.csv', delimiter=',')\n",
    "coefs_1 = np.genfromtxt('coefs_1.csv', delimiter=',')\n",
    "coefs_2 = np.genfromtxt('coefs_2.csv', delimiter=',')\n",
    "intercepts_0 = np.genfromtxt('intercepts_0.csv', delimiter=',')\n",
    "intercepts_1 = np.genfromtxt('intercepts_1.csv', delimiter=',')\n",
    "intercepts_2 = np.genfromtxt('intercepts_2.csv', delimiter=',')"
   ]
  },
  {
   "cell_type": "code",
   "execution_count": 30,
   "id": "4283cb74",
   "metadata": {},
   "outputs": [
    {
     "data": {
      "text/plain": [
       "(1729, 3)"
      ]
     },
     "execution_count": 30,
     "metadata": {},
     "output_type": "execute_result"
    }
   ],
   "source": [
    "l1 = np.matmul(X_test,coefs_0) + intercepts_0\n",
    "l1 = relu(l1)\n",
    "l2 = np.matmul(l1, coefs_1) + intercepts_1\n",
    "l2 = relu(l2)\n",
    "l3 = np.matmul(l2, coefs_2) + intercepts_2\n",
    "l3 = softmax(l3)\n",
    "pred_test = np.argmax(l3,axis=1)-1\n",
    "l3.shape\n"
   ]
  },
  {
   "cell_type": "code",
   "execution_count": 31,
   "id": "99ec1597",
   "metadata": {},
   "outputs": [
    {
     "data": {
      "text/plain": [
       "0"
      ]
     },
     "execution_count": 31,
     "metadata": {},
     "output_type": "execute_result"
    }
   ],
   "source": [
    "(df_an[df_an.SIGNAL !=0].TP ==0).sum()"
   ]
  },
  {
   "cell_type": "code",
   "execution_count": 32,
   "id": "23e0871c",
   "metadata": {},
   "outputs": [],
   "source": [
    "df_test = df_an[['time', 'open', 'high', 'low', 'close','TP','SL','pivots_l','pivots_h']].iloc[indeces_test[0]:].copy()\n"
   ]
  },
  {
   "cell_type": "code",
   "execution_count": 33,
   "id": "c055ac27",
   "metadata": {},
   "outputs": [
    {
     "data": {
      "text/plain": [
       "0"
      ]
     },
     "execution_count": 33,
     "metadata": {},
     "output_type": "execute_result"
    }
   ],
   "source": [
    "(df_an[df_an.SIGNAL !=0].SL ==0).sum()"
   ]
  },
  {
   "cell_type": "code",
   "execution_count": null,
   "id": "f7236a38",
   "metadata": {},
   "outputs": [],
   "source": []
  },
  {
   "cell_type": "code",
   "execution_count": null,
   "id": "975eda4c",
   "metadata": {},
   "outputs": [],
   "source": []
  },
  {
   "cell_type": "code",
   "execution_count": null,
   "id": "9a5c1b3a",
   "metadata": {},
   "outputs": [],
   "source": []
  },
  {
   "cell_type": "code",
   "execution_count": null,
   "id": "28a061ef",
   "metadata": {},
   "outputs": [],
   "source": []
  },
  {
   "cell_type": "code",
   "execution_count": 34,
   "id": "67fd19fc",
   "metadata": {},
   "outputs": [
    {
     "name": "stderr",
     "output_type": "stream",
     "text": [
      "C:\\Users\\meysam\\AppData\\Local\\Temp\\ipykernel_7076\\3189138399.py:7: SettingWithCopyWarning: \n",
      "A value is trying to be set on a copy of a slice from a DataFrame\n",
      "\n",
      "See the caveats in the documentation: https://pandas.pydata.org/pandas-docs/stable/user_guide/indexing.html#returning-a-view-versus-a-copy\n",
      "  df_test.SIGNAL.loc[idx] = pred_test[i]\n"
     ]
    }
   ],
   "source": [
    "df_test = df_an[['time', 'open', 'high', 'low', 'close','TP','SL','pivots_l','pivots_h']].iloc[indeces_test[0]:].copy()\n",
    "df_test['SIGNAL'] = 0\n",
    "# y_perdict = clf.predict(X_test)\n",
    "for i,idx in enumerate(indeces_test):\n",
    "    if i > 0:\n",
    "        if df_test.pivots_h[idx-1] or df_test.pivots_l[idx-1] :\n",
    "            df_test.SIGNAL.loc[idx] = pred_test[i]\n",
    "#             if(pred_test[i] == 1):\n",
    "#                 df_test['SL'][idx] = df_an.low[idx-1] \n",
    "#                 df_test['TP'][idx] = 2*(df_an.close[idx] - df_an.low[idx-1] ) + df_an.close[idx]\n",
    "#             if(pred_test[i] == -1):\n",
    "#                 df_test['SL'][idx] = df_an.high[idx-1] \n",
    "#                 df_test['TP'][idx] = 2*(df_an.close[idx] - df_an.high[idx-1] ) + df_an.close[idx]\n",
    "# df_test.reset_index(drop=True, inplace=True)\n"
   ]
  },
  {
   "cell_type": "code",
   "execution_count": 35,
   "id": "5d45f894",
   "metadata": {},
   "outputs": [
    {
     "data": {
      "text/plain": [
       "0"
      ]
     },
     "execution_count": 35,
     "metadata": {},
     "output_type": "execute_result"
    }
   ],
   "source": [
    "(df_test[df_test.SIGNAL !=0].SL ==0).sum()"
   ]
  },
  {
   "cell_type": "code",
   "execution_count": null,
   "id": "82e6afc3",
   "metadata": {},
   "outputs": [],
   "source": []
  },
  {
   "cell_type": "code",
   "execution_count": 36,
   "id": "b68e8fd6",
   "metadata": {},
   "outputs": [
    {
     "name": "stdout",
     "output_type": "stream",
     "text": [
      "<class 'pandas.core.frame.DataFrame'>\n",
      "RangeIndex: 51532 entries, 0 to 51531\n",
      "Data columns (total 5 columns):\n",
      " #   Column  Non-Null Count  Dtype         \n",
      "---  ------  --------------  -----         \n",
      " 0   time    51532 non-null  datetime64[ns]\n",
      " 1   open    51532 non-null  float64       \n",
      " 2   high    51532 non-null  float64       \n",
      " 3   low     51532 non-null  float64       \n",
      " 4   close   51532 non-null  float64       \n",
      "dtypes: datetime64[ns](1), float64(4)\n",
      "memory usage: 2.0 MB\n"
     ]
    }
   ],
   "source": [
    "rates = Rates(pair, 13*len(df_test), mt5.TIMEFRAME_M5)\n",
    "df_m5 = rates.get_rates_from_now()\n",
    "df_m5.reset_index(drop=True, inplace=True)\n",
    "df_m5.drop(['tick_volume', 'spread', 'real_volume'], axis=1, inplace=True)\n",
    "df_m5.info()"
   ]
  },
  {
   "cell_type": "code",
   "execution_count": 37,
   "id": "b77dc800",
   "metadata": {},
   "outputs": [
    {
     "name": "stdout",
     "output_type": "stream",
     "text": [
      "prepare_data...\n",
      "run_test...\n",
      "Result:\n",
      "win rate:  0.3629842180774749\n",
      "-1.0    444\n",
      " 2.0    253\n",
      "Name: result, dtype: int64\n"
     ]
    }
   ],
   "source": [
    "gt = GuruTester2(\n",
    "        df_test,\n",
    "        df_m5,\n",
    "        SPREAD,\n",
    "        use_spread=True\n",
    "    )\n",
    "df_res_m5 = gt.run_test()"
   ]
  },
  {
   "cell_type": "code",
   "execution_count": null,
   "id": "fccd54d9",
   "metadata": {},
   "outputs": [],
   "source": [
    "mt5.initialize()"
   ]
  },
  {
   "cell_type": "code",
   "execution_count": null,
   "id": "50317bf9",
   "metadata": {},
   "outputs": [],
   "source": [
    "to_date = datetime.now()\n",
    "from_date= datetime(2022,8,3,0,0)\n",
    "rates = mt5.copy_rates_range(pair, mt5.TIMEFRAME_H1,from_date,to_date)\n",
    "df_an2 = pd.DataFrame(rates)\n",
    "df_an2[\"time\"] = pd.to_datetime(df_an2[\"time\"], unit=\"s\")\n",
    "df_an2.drop(['tick_volume', 'spread', 'real_volume'], axis=1, inplace=True)\n"
   ]
  },
  {
   "cell_type": "code",
   "execution_count": null,
   "id": "19023048",
   "metadata": {},
   "outputs": [],
   "source": []
  },
  {
   "cell_type": "code",
   "execution_count": null,
   "id": "860a4e89",
   "metadata": {},
   "outputs": [],
   "source": [
    "df_an2 = featureExtraction(df_an2)\n"
   ]
  },
  {
   "cell_type": "code",
   "execution_count": null,
   "id": "8c476215",
   "metadata": {},
   "outputs": [],
   "source": [
    "def getFeatureVec(df):\n",
    "    Xfea_vec = []\n",
    "    indeces2 = []\n",
    "    for i in range(4,len(df)):\n",
    "    #     if df_an.pivots_h[i-1] or df_an.pivots_l[i-1] :\n",
    "        feature = []\n",
    "        feature.append(df.pivots_h[i-1])\n",
    "        feature.append(df.pivots_l[i-1])\n",
    "        feature.append(df.pivots_h[i-2])\n",
    "        feature.append(df.pivots_l[i-2])\n",
    "        feature.append(df.pivots_h[i-3])\n",
    "        feature.append(df.pivots_l[i-3])\n",
    "        feature.append(df.pivots_h[i-4])\n",
    "        feature.append(df.pivots_l[i-4])\n",
    "        for fc in feature_col:\n",
    "            feature.append(df[fc][i])\n",
    "            feature.append(df[fc][i-1])\n",
    "            feature.append(df[fc][i-2])\n",
    "            feature.append(df[fc][i-3])\n",
    "            feature.append(df[fc][i-4])\n",
    "\n",
    "        Xfea_vec.append(feature)\n",
    "    #         Y.append(df_an.SIGNAL[i])\n",
    "        indeces2.append(i)\n",
    "\n",
    "    Xfea_vec = np.array(Xfea_vec)\n",
    "    return Xfea_vec"
   ]
  },
  {
   "cell_type": "code",
   "execution_count": null,
   "id": "57e00497",
   "metadata": {},
   "outputs": [],
   "source": [
    "X2 = getFeatureVec(df_an2)"
   ]
  },
  {
   "cell_type": "code",
   "execution_count": null,
   "id": "8ecfd1d2",
   "metadata": {},
   "outputs": [],
   "source": [
    "l1 = np.matmul(X2,coefs_0) + intercepts_0\n",
    "l1 = relu(l1)\n",
    "l2 = np.matmul(l1, coefs_1) + intercepts_1\n",
    "l2 = relu(l2)\n",
    "l3 = np.matmul(l2, coefs_2) + intercepts_2\n",
    "l3 = softmax(l3)\n",
    "pred_2 = np.argmax(l3,axis=1)-1"
   ]
  },
  {
   "cell_type": "code",
   "execution_count": null,
   "id": "6fb9c6eb",
   "metadata": {},
   "outputs": [],
   "source": [
    "pred_2.shape"
   ]
  },
  {
   "cell_type": "code",
   "execution_count": null,
   "id": "3a9bb528",
   "metadata": {},
   "outputs": [],
   "source": [
    "len(df_an2)"
   ]
  },
  {
   "cell_type": "code",
   "execution_count": null,
   "id": "aad7f64b",
   "metadata": {},
   "outputs": [],
   "source": []
  },
  {
   "cell_type": "code",
   "execution_count": null,
   "id": "1ab952fa",
   "metadata": {},
   "outputs": [],
   "source": [
    "df_an2.shape"
   ]
  },
  {
   "cell_type": "code",
   "execution_count": null,
   "id": "2f560378",
   "metadata": {},
   "outputs": [],
   "source": [
    "df_an2['SL'] = 0\n",
    "df_an2['TP'] = 0 \n",
    "df_an2['SIGNAL'] = 0\n",
    "df_an2[df_an2.SIGNAL !=0 ]"
   ]
  },
  {
   "cell_type": "code",
   "execution_count": null,
   "id": "d74d027b",
   "metadata": {},
   "outputs": [],
   "source": [
    "df_an2"
   ]
  },
  {
   "cell_type": "code",
   "execution_count": null,
   "id": "e41873b5",
   "metadata": {},
   "outputs": [],
   "source": []
  },
  {
   "cell_type": "code",
   "execution_count": null,
   "id": "27c03f41",
   "metadata": {},
   "outputs": [],
   "source": [
    "df_an2['SL'] = 0\n",
    "df_an2['TP'] = 0 \n",
    "df_an2['SIGNAL'] = 0\n",
    "for i in range(4,len(df_an2)):\n",
    "#     if df_test.pivots_h[i-1] or df_test.pivots_l[i-1]:\n",
    "    if df_an2.pivots_l[i-1]==1:\n",
    "        if(pred_2[i-4] == 1.0):\n",
    "            df_an2.SIGNAL[i] = pred_2[i-4]\n",
    "            df_an2['SL'][i] = df_an2.low[i-1] \n",
    "            df_an2['TP'][i] = 2*(df_an2.close[i] - df_an2.low[i-1]) + df_an2.close[i]\n",
    "    if df_test.pivots_h[i-1]==1:\n",
    "        if (pred_2[i-4]== -1.0 ):\n",
    "            df_an2.SIGNAL[i] = pred_2[i-4]\n",
    "            df_an2['SL'][i] = df_an2.high[i-1]\n",
    "            df_an2['TP'][i] = 2*(df_an2.close[i] - df_an2.high[i-1] ) + df_an2.close[i]"
   ]
  },
  {
   "cell_type": "code",
   "execution_count": null,
   "id": "79d427e4",
   "metadata": {},
   "outputs": [],
   "source": []
  },
  {
   "cell_type": "code",
   "execution_count": null,
   "id": "18adaacb",
   "metadata": {},
   "outputs": [],
   "source": [
    "gt = GuruTester2(\n",
    "        df_an2,\n",
    "        df_m5,\n",
    "        SPREAD,\n",
    "        use_spread=True\n",
    "    )\n",
    "df_res_m52 = gt.run_test()"
   ]
  },
  {
   "cell_type": "code",
   "execution_count": null,
   "id": "b18fce64",
   "metadata": {},
   "outputs": [],
   "source": [
    "(df_an2.SIGNAL !=0).sum()"
   ]
  },
  {
   "cell_type": "code",
   "execution_count": null,
   "id": "0e9b5f6f",
   "metadata": {},
   "outputs": [],
   "source": [
    "(df_test.SIGNAL !=0).sum()"
   ]
  },
  {
   "cell_type": "code",
   "execution_count": 29,
   "id": "1307af0f",
   "metadata": {},
   "outputs": [],
   "source": [
    "with open(\"res_cl.txt\",) as f:\n",
    "    lines = f.readlines()"
   ]
  },
  {
   "cell_type": "code",
   "execution_count": 31,
   "id": "aef103e1",
   "metadata": {},
   "outputs": [
    {
     "data": {
      "text/plain": [
       "['2022.08.03 13:00:00', ',', '1', '1.22121', '1.21656', '1.21811']"
      ]
     },
     "execution_count": 31,
     "metadata": {},
     "output_type": "execute_result"
    }
   ],
   "source": [
    "lines[0][:-1].split('\\t')"
   ]
  },
  {
   "cell_type": "code",
   "execution_count": 33,
   "id": "87365070",
   "metadata": {},
   "outputs": [],
   "source": [
    "pred_mql = [int(l[:-1].split('\\t')[2]) for l in lines]\n",
    "tp_mql = [float(l[:-1].split('\\t')[3]) for l in lines]\n",
    "sl_mql = [float(l[:-1].split('\\t')[4]) for l in lines]\n",
    "close_mql = [float(l[:-1].split('\\t')[5]) for l in lines]"
   ]
  },
  {
   "cell_type": "code",
   "execution_count": 34,
   "id": "320d7461",
   "metadata": {},
   "outputs": [],
   "source": [
    "time_mql = []\n",
    "for l in lines:\n",
    "    y = int(l[:-1].split('\\t')[0].split(' ')[0].split('.')[0])\n",
    "    m = int(l[:-1].split('\\t')[0].split(' ')[0].split('.')[1])\n",
    "    d = int(l[:-1].split('\\t')[0].split(' ')[0].split('.')[2])\n",
    "    h = int(l[:-1].split('\\t')[0].split(' ')[1].split(':')[0]) \n",
    "    t = datetime(y,m,d,h)\n",
    "    time_mql.append(t)\n",
    "    "
   ]
  },
  {
   "cell_type": "code",
   "execution_count": 35,
   "id": "0637970e",
   "metadata": {},
   "outputs": [
    {
     "data": {
      "text/html": [
       "<div>\n",
       "<style scoped>\n",
       "    .dataframe tbody tr th:only-of-type {\n",
       "        vertical-align: middle;\n",
       "    }\n",
       "\n",
       "    .dataframe tbody tr th {\n",
       "        vertical-align: top;\n",
       "    }\n",
       "\n",
       "    .dataframe thead th {\n",
       "        text-align: right;\n",
       "    }\n",
       "</style>\n",
       "<table border=\"1\" class=\"dataframe\">\n",
       "  <thead>\n",
       "    <tr style=\"text-align: right;\">\n",
       "      <th></th>\n",
       "      <th>time</th>\n",
       "      <th>pred_mql</th>\n",
       "      <th>tp_mql</th>\n",
       "      <th>sl_mql</th>\n",
       "      <th>clsoe_mql</th>\n",
       "    </tr>\n",
       "  </thead>\n",
       "  <tbody>\n",
       "    <tr>\n",
       "      <th>0</th>\n",
       "      <td>2022-08-03 13:00:00</td>\n",
       "      <td>1</td>\n",
       "      <td>1.22121</td>\n",
       "      <td>1.21656</td>\n",
       "      <td>1.21811</td>\n",
       "    </tr>\n",
       "    <tr>\n",
       "      <th>1</th>\n",
       "      <td>2022-08-03 15:00:00</td>\n",
       "      <td>-1</td>\n",
       "      <td>1.21116</td>\n",
       "      <td>1.22049</td>\n",
       "      <td>1.21738</td>\n",
       "    </tr>\n",
       "    <tr>\n",
       "      <th>2</th>\n",
       "      <td>2022-08-04 09:00:00</td>\n",
       "      <td>-1</td>\n",
       "      <td>1.21227</td>\n",
       "      <td>1.21596</td>\n",
       "      <td>1.21473</td>\n",
       "    </tr>\n",
       "    <tr>\n",
       "      <th>3</th>\n",
       "      <td>2022-08-04 15:00:00</td>\n",
       "      <td>1</td>\n",
       "      <td>1.22056</td>\n",
       "      <td>1.20649</td>\n",
       "      <td>1.21118</td>\n",
       "    </tr>\n",
       "    <tr>\n",
       "      <th>4</th>\n",
       "      <td>2022-08-05 05:00:00</td>\n",
       "      <td>1</td>\n",
       "      <td>1.21550</td>\n",
       "      <td>1.21295</td>\n",
       "      <td>1.21380</td>\n",
       "    </tr>\n",
       "    <tr>\n",
       "      <th>...</th>\n",
       "      <td>...</td>\n",
       "      <td>...</td>\n",
       "      <td>...</td>\n",
       "      <td>...</td>\n",
       "      <td>...</td>\n",
       "    </tr>\n",
       "    <tr>\n",
       "      <th>721</th>\n",
       "      <td>2023-03-23 10:00:00</td>\n",
       "      <td>-1</td>\n",
       "      <td>1.22750</td>\n",
       "      <td>1.23434</td>\n",
       "      <td>1.23206</td>\n",
       "    </tr>\n",
       "    <tr>\n",
       "      <th>722</th>\n",
       "      <td>2023-03-23 15:00:00</td>\n",
       "      <td>-1</td>\n",
       "      <td>1.22694</td>\n",
       "      <td>1.23375</td>\n",
       "      <td>1.23148</td>\n",
       "    </tr>\n",
       "    <tr>\n",
       "      <th>723</th>\n",
       "      <td>2023-03-24 09:00:00</td>\n",
       "      <td>1</td>\n",
       "      <td>1.22798</td>\n",
       "      <td>1.22666</td>\n",
       "      <td>1.22710</td>\n",
       "    </tr>\n",
       "    <tr>\n",
       "      <th>724</th>\n",
       "      <td>2023-03-24 17:00:00</td>\n",
       "      <td>-1</td>\n",
       "      <td>1.22064</td>\n",
       "      <td>1.22319</td>\n",
       "      <td>1.22234</td>\n",
       "    </tr>\n",
       "    <tr>\n",
       "      <th>725</th>\n",
       "      <td>2023-03-24 20:00:00</td>\n",
       "      <td>-1</td>\n",
       "      <td>1.22196</td>\n",
       "      <td>1.22310</td>\n",
       "      <td>1.22272</td>\n",
       "    </tr>\n",
       "  </tbody>\n",
       "</table>\n",
       "<p>726 rows × 5 columns</p>\n",
       "</div>"
      ],
      "text/plain": [
       "                   time  pred_mql   tp_mql   sl_mql  clsoe_mql\n",
       "0   2022-08-03 13:00:00         1  1.22121  1.21656    1.21811\n",
       "1   2022-08-03 15:00:00        -1  1.21116  1.22049    1.21738\n",
       "2   2022-08-04 09:00:00        -1  1.21227  1.21596    1.21473\n",
       "3   2022-08-04 15:00:00         1  1.22056  1.20649    1.21118\n",
       "4   2022-08-05 05:00:00         1  1.21550  1.21295    1.21380\n",
       "..                  ...       ...      ...      ...        ...\n",
       "721 2023-03-23 10:00:00        -1  1.22750  1.23434    1.23206\n",
       "722 2023-03-23 15:00:00        -1  1.22694  1.23375    1.23148\n",
       "723 2023-03-24 09:00:00         1  1.22798  1.22666    1.22710\n",
       "724 2023-03-24 17:00:00        -1  1.22064  1.22319    1.22234\n",
       "725 2023-03-24 20:00:00        -1  1.22196  1.22310    1.22272\n",
       "\n",
       "[726 rows x 5 columns]"
      ]
     },
     "execution_count": 35,
     "metadata": {},
     "output_type": "execute_result"
    }
   ],
   "source": [
    "df_mql = pd.DataFrame({'time':time_mql,'pred_mql':pred_mql,'tp_mql':tp_mql,'sl_mql':sl_mql,'clsoe_mql':close_mql,})\n",
    "df_mql\n",
    "# df_mql[\"time\"] = pd.to_datetime(df_an2[\"time\"], unit=\"s\")"
   ]
  },
  {
   "cell_type": "code",
   "execution_count": 36,
   "id": "f8e14ecf",
   "metadata": {},
   "outputs": [],
   "source": [
    "merged = pd.merge(left=df_mql, right=df_test, on='time', how='left')"
   ]
  },
  {
   "cell_type": "code",
   "execution_count": 37,
   "id": "68c08224",
   "metadata": {},
   "outputs": [],
   "source": [
    "merged.dropna(inplace=True)\n",
    "merged.reset_index(drop=True, inplace=True)"
   ]
  },
  {
   "cell_type": "code",
   "execution_count": 38,
   "id": "063eab8c",
   "metadata": {},
   "outputs": [
    {
     "data": {
      "text/html": [
       "<div>\n",
       "<style scoped>\n",
       "    .dataframe tbody tr th:only-of-type {\n",
       "        vertical-align: middle;\n",
       "    }\n",
       "\n",
       "    .dataframe tbody tr th {\n",
       "        vertical-align: top;\n",
       "    }\n",
       "\n",
       "    .dataframe thead th {\n",
       "        text-align: right;\n",
       "    }\n",
       "</style>\n",
       "<table border=\"1\" class=\"dataframe\">\n",
       "  <thead>\n",
       "    <tr style=\"text-align: right;\">\n",
       "      <th></th>\n",
       "      <th>time</th>\n",
       "      <th>pred_mql</th>\n",
       "      <th>tp_mql</th>\n",
       "      <th>sl_mql</th>\n",
       "      <th>clsoe_mql</th>\n",
       "      <th>open</th>\n",
       "      <th>high</th>\n",
       "      <th>low</th>\n",
       "      <th>close</th>\n",
       "      <th>TP</th>\n",
       "      <th>SL</th>\n",
       "      <th>pivots_l</th>\n",
       "      <th>pivots_h</th>\n",
       "      <th>SIGNAL</th>\n",
       "    </tr>\n",
       "  </thead>\n",
       "  <tbody>\n",
       "    <tr>\n",
       "      <th>2</th>\n",
       "      <td>2022-08-05 05:00:00</td>\n",
       "      <td>1</td>\n",
       "      <td>1.21550</td>\n",
       "      <td>1.21295</td>\n",
       "      <td>1.21380</td>\n",
       "      <td>1.21399</td>\n",
       "      <td>1.21457</td>\n",
       "      <td>1.21367</td>\n",
       "      <td>1.21380</td>\n",
       "      <td>1.2155</td>\n",
       "      <td>1.21295</td>\n",
       "      <td>0.0</td>\n",
       "      <td>0.0</td>\n",
       "      <td>0.0</td>\n",
       "    </tr>\n",
       "    <tr>\n",
       "      <th>66</th>\n",
       "      <td>2022-08-25 02:00:00</td>\n",
       "      <td>-1</td>\n",
       "      <td>1.17741</td>\n",
       "      <td>1.17969</td>\n",
       "      <td>1.17893</td>\n",
       "      <td>1.17919</td>\n",
       "      <td>1.17953</td>\n",
       "      <td>1.17882</td>\n",
       "      <td>1.17893</td>\n",
       "      <td>0.0000</td>\n",
       "      <td>0.00000</td>\n",
       "      <td>0.0</td>\n",
       "      <td>0.0</td>\n",
       "      <td>0.0</td>\n",
       "    </tr>\n",
       "    <tr>\n",
       "      <th>89</th>\n",
       "      <td>2022-08-31 23:00:00</td>\n",
       "      <td>1</td>\n",
       "      <td>1.16548</td>\n",
       "      <td>1.16056</td>\n",
       "      <td>1.16220</td>\n",
       "      <td>1.16140</td>\n",
       "      <td>1.16226</td>\n",
       "      <td>1.16116</td>\n",
       "      <td>1.16220</td>\n",
       "      <td>0.0000</td>\n",
       "      <td>0.00000</td>\n",
       "      <td>0.0</td>\n",
       "      <td>0.0</td>\n",
       "      <td>0.0</td>\n",
       "    </tr>\n",
       "    <tr>\n",
       "      <th>378</th>\n",
       "      <td>2022-11-24 23:00:00</td>\n",
       "      <td>-1</td>\n",
       "      <td>1.20943</td>\n",
       "      <td>1.21210</td>\n",
       "      <td>1.21121</td>\n",
       "      <td>1.21186</td>\n",
       "      <td>1.21186</td>\n",
       "      <td>1.21118</td>\n",
       "      <td>1.21121</td>\n",
       "      <td>0.0000</td>\n",
       "      <td>0.00000</td>\n",
       "      <td>0.0</td>\n",
       "      <td>0.0</td>\n",
       "      <td>0.0</td>\n",
       "    </tr>\n",
       "    <tr>\n",
       "      <th>379</th>\n",
       "      <td>2022-11-25 01:00:00</td>\n",
       "      <td>1</td>\n",
       "      <td>1.21209</td>\n",
       "      <td>1.21068</td>\n",
       "      <td>1.21115</td>\n",
       "      <td>1.21126</td>\n",
       "      <td>1.21173</td>\n",
       "      <td>1.21081</td>\n",
       "      <td>1.21115</td>\n",
       "      <td>0.0000</td>\n",
       "      <td>0.00000</td>\n",
       "      <td>0.0</td>\n",
       "      <td>1.0</td>\n",
       "      <td>0.0</td>\n",
       "    </tr>\n",
       "    <tr>\n",
       "      <th>403</th>\n",
       "      <td>2022-12-02 15:00:00</td>\n",
       "      <td>-1</td>\n",
       "      <td>1.19660</td>\n",
       "      <td>1.22936</td>\n",
       "      <td>1.21844</td>\n",
       "      <td>1.22918</td>\n",
       "      <td>1.22934</td>\n",
       "      <td>1.21339</td>\n",
       "      <td>1.21844</td>\n",
       "      <td>0.0000</td>\n",
       "      <td>0.00000</td>\n",
       "      <td>1.0</td>\n",
       "      <td>0.0</td>\n",
       "      <td>0.0</td>\n",
       "    </tr>\n",
       "    <tr>\n",
       "      <th>633</th>\n",
       "      <td>2023-02-24 06:00:00</td>\n",
       "      <td>-1</td>\n",
       "      <td>1.20013</td>\n",
       "      <td>1.20313</td>\n",
       "      <td>1.20213</td>\n",
       "      <td>1.20224</td>\n",
       "      <td>1.20239</td>\n",
       "      <td>1.20160</td>\n",
       "      <td>1.20213</td>\n",
       "      <td>0.0000</td>\n",
       "      <td>0.00000</td>\n",
       "      <td>1.0</td>\n",
       "      <td>0.0</td>\n",
       "      <td>0.0</td>\n",
       "    </tr>\n",
       "    <tr>\n",
       "      <th>642</th>\n",
       "      <td>2023-02-28 00:00:00</td>\n",
       "      <td>-1</td>\n",
       "      <td>1.20440</td>\n",
       "      <td>1.20635</td>\n",
       "      <td>1.20570</td>\n",
       "      <td>1.20459</td>\n",
       "      <td>1.20599</td>\n",
       "      <td>1.20447</td>\n",
       "      <td>1.20570</td>\n",
       "      <td>0.0000</td>\n",
       "      <td>0.00000</td>\n",
       "      <td>1.0</td>\n",
       "      <td>0.0</td>\n",
       "      <td>0.0</td>\n",
       "    </tr>\n",
       "    <tr>\n",
       "      <th>649</th>\n",
       "      <td>2023-03-02 12:00:00</td>\n",
       "      <td>-1</td>\n",
       "      <td>1.18584</td>\n",
       "      <td>1.20096</td>\n",
       "      <td>1.19592</td>\n",
       "      <td>1.19729</td>\n",
       "      <td>1.19823</td>\n",
       "      <td>1.19566</td>\n",
       "      <td>1.19592</td>\n",
       "      <td>0.0000</td>\n",
       "      <td>0.00000</td>\n",
       "      <td>1.0</td>\n",
       "      <td>0.0</td>\n",
       "      <td>0.0</td>\n",
       "    </tr>\n",
       "  </tbody>\n",
       "</table>\n",
       "</div>"
      ],
      "text/plain": [
       "                   time  pred_mql   tp_mql   sl_mql  clsoe_mql     open  \\\n",
       "2   2022-08-05 05:00:00         1  1.21550  1.21295    1.21380  1.21399   \n",
       "66  2022-08-25 02:00:00        -1  1.17741  1.17969    1.17893  1.17919   \n",
       "89  2022-08-31 23:00:00         1  1.16548  1.16056    1.16220  1.16140   \n",
       "378 2022-11-24 23:00:00        -1  1.20943  1.21210    1.21121  1.21186   \n",
       "379 2022-11-25 01:00:00         1  1.21209  1.21068    1.21115  1.21126   \n",
       "403 2022-12-02 15:00:00        -1  1.19660  1.22936    1.21844  1.22918   \n",
       "633 2023-02-24 06:00:00        -1  1.20013  1.20313    1.20213  1.20224   \n",
       "642 2023-02-28 00:00:00        -1  1.20440  1.20635    1.20570  1.20459   \n",
       "649 2023-03-02 12:00:00        -1  1.18584  1.20096    1.19592  1.19729   \n",
       "\n",
       "        high      low    close      TP       SL  pivots_l  pivots_h  SIGNAL  \n",
       "2    1.21457  1.21367  1.21380  1.2155  1.21295       0.0       0.0     0.0  \n",
       "66   1.17953  1.17882  1.17893  0.0000  0.00000       0.0       0.0     0.0  \n",
       "89   1.16226  1.16116  1.16220  0.0000  0.00000       0.0       0.0     0.0  \n",
       "378  1.21186  1.21118  1.21121  0.0000  0.00000       0.0       0.0     0.0  \n",
       "379  1.21173  1.21081  1.21115  0.0000  0.00000       0.0       1.0     0.0  \n",
       "403  1.22934  1.21339  1.21844  0.0000  0.00000       1.0       0.0     0.0  \n",
       "633  1.20239  1.20160  1.20213  0.0000  0.00000       1.0       0.0     0.0  \n",
       "642  1.20599  1.20447  1.20570  0.0000  0.00000       1.0       0.0     0.0  \n",
       "649  1.19823  1.19566  1.19592  0.0000  0.00000       1.0       0.0     0.0  "
      ]
     },
     "execution_count": 38,
     "metadata": {},
     "output_type": "execute_result"
    }
   ],
   "source": [
    "merged[merged.SIGNAL != merged.pred_mql]"
   ]
  },
  {
   "cell_type": "code",
   "execution_count": 60,
   "id": "3e59aa44",
   "metadata": {},
   "outputs": [
    {
     "data": {
      "text/plain": [
       "401"
      ]
     },
     "execution_count": 60,
     "metadata": {},
     "output_type": "execute_result"
    }
   ],
   "source": [
    "(merged[merged.SL != merged.sl_mql].SL == 0).sum()"
   ]
  },
  {
   "cell_type": "code",
   "execution_count": null,
   "id": "32178bae",
   "metadata": {},
   "outputs": [],
   "source": []
  },
  {
   "cell_type": "code",
   "execution_count": null,
   "id": "ff3c795c",
   "metadata": {},
   "outputs": [],
   "source": []
  },
  {
   "cell_type": "code",
   "execution_count": null,
   "id": "7ddaf8e2",
   "metadata": {},
   "outputs": [],
   "source": []
  },
  {
   "cell_type": "code",
   "execution_count": null,
   "id": "758d61d0",
   "metadata": {},
   "outputs": [],
   "source": []
  },
  {
   "cell_type": "code",
   "execution_count": null,
   "id": "1c967aef",
   "metadata": {},
   "outputs": [],
   "source": []
  },
  {
   "cell_type": "code",
   "execution_count": null,
   "id": "48795d06",
   "metadata": {},
   "outputs": [],
   "source": []
  },
  {
   "cell_type": "code",
   "execution_count": null,
   "id": "ef15c7a7",
   "metadata": {},
   "outputs": [],
   "source": []
  },
  {
   "cell_type": "code",
   "execution_count": null,
   "id": "f4dd9f7a",
   "metadata": {},
   "outputs": [],
   "source": []
  },
  {
   "cell_type": "code",
   "execution_count": null,
   "id": "14314c32",
   "metadata": {},
   "outputs": [],
   "source": [
    "df_1 = df_test[['time','pivots_l','pivots_h','SIGNAL']]"
   ]
  },
  {
   "cell_type": "code",
   "execution_count": null,
   "id": "4d43a638",
   "metadata": {},
   "outputs": [],
   "source": []
  },
  {
   "cell_type": "code",
   "execution_count": null,
   "id": "2c37e06e",
   "metadata": {},
   "outputs": [],
   "source": [
    "df_1[df_2.SIGNAL != df_1.SIGNAL].SIGNAL.max()"
   ]
  },
  {
   "cell_type": "code",
   "execution_count": null,
   "id": "e0119340",
   "metadata": {},
   "outputs": [],
   "source": [
    "df_2[df_2.SIGNAL != df_1.SIGNAL]"
   ]
  },
  {
   "cell_type": "code",
   "execution_count": null,
   "id": "442abb4f",
   "metadata": {},
   "outputs": [],
   "source": [
    "df_1[df_2.SIGNAL != df_1.SIGNAL]"
   ]
  },
  {
   "cell_type": "code",
   "execution_count": null,
   "id": "61f483c2",
   "metadata": {},
   "outputs": [],
   "source": [
    "df_test[df_test.SIGNAL != 0]"
   ]
  },
  {
   "cell_type": "code",
   "execution_count": null,
   "id": "e62dca3b",
   "metadata": {},
   "outputs": [],
   "source": [
    "df_test.pivots_l[4]"
   ]
  },
  {
   "cell_type": "code",
   "execution_count": null,
   "id": "cd9d28a7",
   "metadata": {},
   "outputs": [],
   "source": []
  },
  {
   "cell_type": "code",
   "execution_count": null,
   "id": "746cf722",
   "metadata": {},
   "outputs": [],
   "source": [
    "df_test = df_test.loc[17:]\n",
    "df_test.reset_index(drop=True,inplace=True)\n",
    "df_test"
   ]
  },
  {
   "cell_type": "code",
   "execution_count": null,
   "id": "9ec186f2",
   "metadata": {},
   "outputs": [],
   "source": []
  },
  {
   "cell_type": "code",
   "execution_count": null,
   "id": "7bad9e71",
   "metadata": {},
   "outputs": [],
   "source": []
  },
  {
   "cell_type": "code",
   "execution_count": null,
   "id": "fabcbe9a",
   "metadata": {},
   "outputs": [],
   "source": [
    "df_an22 = df_an2.iloc[:-2]\n",
    "df_an22"
   ]
  },
  {
   "cell_type": "code",
   "execution_count": null,
   "id": "91978822",
   "metadata": {},
   "outputs": [],
   "source": [
    "df_test = df_test.loc[15:]\n",
    "df_test"
   ]
  },
  {
   "cell_type": "code",
   "execution_count": null,
   "id": "6fd176b4",
   "metadata": {},
   "outputs": [],
   "source": [
    "df_test.reset_index(drop=True,inplace=True)"
   ]
  },
  {
   "cell_type": "code",
   "execution_count": null,
   "id": "35252a3f",
   "metadata": {},
   "outputs": [],
   "source": [
    "df_test.drop(3948,inplace=True) \n",
    "df_test"
   ]
  },
  {
   "cell_type": "code",
   "execution_count": null,
   "id": "d8573b40",
   "metadata": {},
   "outputs": [],
   "source": [
    "df_test[df_test.SIGNAL !=0]"
   ]
  },
  {
   "cell_type": "code",
   "execution_count": null,
   "id": "05891abe",
   "metadata": {},
   "outputs": [],
   "source": [
    "df_an22[]"
   ]
  },
  {
   "cell_type": "code",
   "execution_count": null,
   "id": "0b5e54b7",
   "metadata": {},
   "outputs": [],
   "source": [
    "df_test[df_an22.SIGNAL!=df_test.SIGNAL]"
   ]
  },
  {
   "cell_type": "code",
   "execution_count": null,
   "id": "9c923aad",
   "metadata": {},
   "outputs": [],
   "source": []
  },
  {
   "cell_type": "code",
   "execution_count": null,
   "id": "cd7a2ea1",
   "metadata": {},
   "outputs": [],
   "source": [
    "df_res_m5['balance'] = 100\n",
    "loss_margin = 0.03\n",
    "perv_balance = 100\n",
    "\n",
    "# for index, row in df_res_m5.iterrows():\n",
    "for i in range(len(df_res_m5)):\n",
    "    if(df_res_m5.result[i] == -1):\n",
    "        loss_ratio = 1 #abs( (df_res_m5['start_price'][i]-df_res_m5['trigger_price'][i])/((df_res_m5['start_price'][i]-df_res_m5['SL'][i])) )\n",
    "#         print(loss_ratio)\n",
    "        df_res_m5['balance'][i] = perv_balance*(1-loss_ratio*loss_margin) \n",
    "    elif(df_res_m5.result[i] == 2):\n",
    "        profit_to_loss = abs( (df_res_m5['start_price'][i]-df_res_m5['trigger_price'][i])/((df_res_m5['start_price'][i]-df_res_m5['SL'][i])) )\n",
    "#         print(profit_to_loss)\n",
    "        df_res_m5['balance'][i] = perv_balance*(1+profit_to_loss*loss_margin) \n",
    "    perv_balance = df_res_m5['balance'][i]"
   ]
  },
  {
   "cell_type": "code",
   "execution_count": null,
   "id": "f24fe438",
   "metadata": {},
   "outputs": [],
   "source": [
    "df_res_m5_plot = df_res_m5#.loc[:100]\n",
    "df_res_m5_plot['time'] = df_res_m5_plot['end_time']\n",
    "cp = CandlePlot(df_res_m5_plot, candles=False)\n",
    "print(\"min balance \",min(df_res_m5['balance']))\n",
    "cp.show_plot(line_traces=['balance'])"
   ]
  },
  {
   "cell_type": "code",
   "execution_count": null,
   "id": "300dbdd2",
   "metadata": {},
   "outputs": [],
   "source": []
  },
  {
   "cell_type": "code",
   "execution_count": null,
   "id": "f1efad8a",
   "metadata": {},
   "outputs": [],
   "source": []
  },
  {
   "cell_type": "code",
   "execution_count": null,
   "id": "4176311c",
   "metadata": {},
   "outputs": [],
   "source": [
    "rates = Rates(pair, 1000, mt5.TIMEFRAME_H1)\n",
    "SPREAD = rates.get_spread()\n",
    "df_an = rates.get_rates_from_now()\n",
    "# df_an.drop(NB_H1_CANDLES-1,inplace=True) \n",
    "df_an.drop(['tick_volume', 'spread', 'real_volume'], axis=1, inplace=True)\n",
    "\n",
    "candle_patterns = ['HANGING_MAN', 'SHOOTING_STAR',\n",
    "       'SPINNING_TOP', 'MARUBOZU', 'ENGULFING', 'TWEEZER_TOP',\n",
    "       'TWEEZER_BOTTOM', 'MORNING_STAR', 'EVENING_STAR']\n",
    "\n",
    "df_an = apply_patterns_in_range(df_an)\n",
    "for cp in candle_patterns:\n",
    "    df_an[cp] = df_an[cp].astype(float)\n",
    "\n",
    "df_an = BollingerBandsFeature(df_an)\n",
    "df_an = ATRFeature(df_an)\n",
    "df_an = KeltnerChannelsFeature(df_an)\n",
    "df_an = RSIFeature(df_an)\n",
    "df_an = MACDFeature(df_an)\n",
    "\n",
    "df_an['pivots_l'] = False\n",
    "df_an['pivots_h'] = False\n",
    "\n",
    "df_an['low_perv'] = df_an.low.shift(1)\n",
    "df_an['high_perv'] = df_an.high.shift(1)\n",
    "df_an['low_next'] = df_an.low.shift(-1)\n",
    "df_an['high_next'] = df_an.high.shift(-1)\n",
    "df_an['pivots_l'] = (df_an.low_perv > df_an.low) & (df_an.low_next > df_an.low)\n",
    "df_an['pivots_h'] = (df_an.high_perv < df_an.high) & (df_an.high_next < df_an.high)\n",
    "df_an.dropna(inplace=True)\n",
    "df_an.reset_index(drop=True, inplace=True)\n",
    "\n",
    "df_an.pivots_l = df_an.pivots_l.astype(float)\n",
    "df_an.pivots_h = df_an.pivots_h.astype(float)\n",
    "\n",
    "df_an"
   ]
  },
  {
   "cell_type": "code",
   "execution_count": null,
   "id": "75248792",
   "metadata": {},
   "outputs": [],
   "source": [
    "X_valid = []\n",
    "Y_valid = []\n",
    "\n",
    "indeces = []\n",
    "for i in range(4,len(df_an)):\n",
    "    #if df_an.pivots_h[i-1] or df_an.pivots_l[i-1] :\n",
    "    feature = []\n",
    "    feature.append(df_an.pivots_h[i-1])\n",
    "    feature.append(df_an.pivots_l[i-1])\n",
    "    feature.append(df_an.pivots_h[i-2])\n",
    "    feature.append(df_an.pivots_l[i-2])\n",
    "    feature.append(df_an.pivots_h[i-3])\n",
    "    feature.append(df_an.pivots_l[i-3])\n",
    "    feature.append(df_an.pivots_h[i-4])\n",
    "    feature.append(df_an.pivots_l[i-4])\n",
    "    for fc in feature_col:\n",
    "        feature.append(df_an[fc][i])\n",
    "        feature.append(df_an[fc][i-1])\n",
    "        feature.append(df_an[fc][i-2])\n",
    "        feature.append(df_an[fc][i-3])\n",
    "        feature.append(df_an[fc][i-4])\n",
    "\n",
    "    X_valid.append(feature)\n",
    "    indeces.append(i)"
   ]
  },
  {
   "cell_type": "code",
   "execution_count": null,
   "id": "d64c883c",
   "metadata": {},
   "outputs": [],
   "source": []
  },
  {
   "cell_type": "code",
   "execution_count": null,
   "id": "739124d4",
   "metadata": {},
   "outputs": [],
   "source": []
  },
  {
   "cell_type": "code",
   "execution_count": null,
   "id": "ff4c6cab",
   "metadata": {},
   "outputs": [],
   "source": [
    "predict_valid = clf.predict(X_valid)"
   ]
  },
  {
   "cell_type": "code",
   "execution_count": null,
   "id": "9d608684",
   "metadata": {},
   "outputs": [],
   "source": [
    "predict_valid.shape"
   ]
  },
  {
   "cell_type": "code",
   "execution_count": null,
   "id": "b09b3d74",
   "metadata": {},
   "outputs": [],
   "source": [
    "df_an.drop(0,inplace=True) \n",
    "df_an.drop(1,inplace=True) \n",
    "df_an.drop(2,inplace=True) \n",
    "df_an.drop(3,inplace=True)\n",
    "df_an.drop(feature_col, axis=1, inplace=True)\n",
    "df_an"
   ]
  },
  {
   "cell_type": "code",
   "execution_count": null,
   "id": "1c73f4c3",
   "metadata": {},
   "outputs": [],
   "source": [
    "df_an['predict'] = predict_valid"
   ]
  },
  {
   "cell_type": "code",
   "execution_count": null,
   "id": "65eace6c",
   "metadata": {},
   "outputs": [],
   "source": [
    "for i in range(len(df_an)):\n",
    "    print(df_an['time'].iloc[i],\"|\\t|\",predict_valid[i])"
   ]
  },
  {
   "cell_type": "code",
   "execution_count": null,
   "id": "7d301f49",
   "metadata": {},
   "outputs": [],
   "source": []
  },
  {
   "cell_type": "code",
   "execution_count": null,
   "id": "79d585cc",
   "metadata": {},
   "outputs": [],
   "source": []
  },
  {
   "cell_type": "code",
   "execution_count": null,
   "id": "a1ba0d95",
   "metadata": {},
   "outputs": [],
   "source": [
    "l1 = np.matmul(np.array(X_valid),clf.coefs_[0])+clf.intercepts_[0]\n",
    "l1 = relu(l1)\n",
    "\n",
    "l2 = np.matmul(l1,clf.coefs_[1])+clf.intercepts_[1]\n",
    "l2 = relu(l2)\n",
    "\n",
    "l3 = np.matmul(l2,clf.coefs_[2])+clf.intercepts_[2]\n",
    "l3 = softmax(l3)\n",
    "l3.shape"
   ]
  },
  {
   "cell_type": "code",
   "execution_count": null,
   "id": "c3536f9f",
   "metadata": {},
   "outputs": [],
   "source": [
    "2023.03.25 23:29:55.448\tnnInrange (GBPUSD,H1)\t2023.03.24 20:00:00| |[[-8.804903736402808,-12.04343885613141,-6.687055078835885]]\n"
   ]
  },
  {
   "cell_type": "code",
   "execution_count": null,
   "id": "434c9098",
   "metadata": {},
   "outputs": [],
   "source": [
    "l3[-2]"
   ]
  },
  {
   "cell_type": "code",
   "execution_count": null,
   "id": "763b5410",
   "metadata": {},
   "outputs": [],
   "source": [
    "l3"
   ]
  },
  {
   "cell_type": "code",
   "execution_count": null,
   "id": "94c39f08",
   "metadata": {},
   "outputs": [],
   "source": []
  },
  {
   "cell_type": "code",
   "execution_count": null,
   "id": "196fa8dd",
   "metadata": {},
   "outputs": [],
   "source": []
  },
  {
   "cell_type": "code",
   "execution_count": null,
   "id": "10db7b53",
   "metadata": {},
   "outputs": [],
   "source": []
  },
  {
   "cell_type": "code",
   "execution_count": null,
   "id": "93ffb625",
   "metadata": {},
   "outputs": [],
   "source": []
  },
  {
   "cell_type": "code",
   "execution_count": null,
   "id": "ab23c9bf",
   "metadata": {},
   "outputs": [],
   "source": []
  },
  {
   "cell_type": "code",
   "execution_count": null,
   "id": "4e7795ce",
   "metadata": {},
   "outputs": [],
   "source": []
  },
  {
   "cell_type": "code",
   "execution_count": null,
   "id": "9ef8df19",
   "metadata": {},
   "outputs": [],
   "source": []
  },
  {
   "cell_type": "code",
   "execution_count": null,
   "id": "dbfc8673",
   "metadata": {},
   "outputs": [],
   "source": []
  },
  {
   "cell_type": "code",
   "execution_count": null,
   "id": "5734d93d",
   "metadata": {},
   "outputs": [],
   "source": []
  },
  {
   "cell_type": "code",
   "execution_count": null,
   "id": "2de5366c",
   "metadata": {},
   "outputs": [],
   "source": []
  },
  {
   "cell_type": "code",
   "execution_count": null,
   "id": "77df5888",
   "metadata": {},
   "outputs": [],
   "source": []
  },
  {
   "cell_type": "code",
   "execution_count": null,
   "id": "109c2db3",
   "metadata": {},
   "outputs": [],
   "source": []
  },
  {
   "cell_type": "code",
   "execution_count": null,
   "id": "11e68054",
   "metadata": {},
   "outputs": [],
   "source": []
  },
  {
   "cell_type": "code",
   "execution_count": null,
   "id": "22b7f5ec",
   "metadata": {},
   "outputs": [],
   "source": []
  },
  {
   "cell_type": "code",
   "execution_count": null,
   "id": "c479b56c",
   "metadata": {},
   "outputs": [],
   "source": []
  },
  {
   "cell_type": "code",
   "execution_count": null,
   "id": "cb8799e0",
   "metadata": {},
   "outputs": [],
   "source": []
  },
  {
   "cell_type": "code",
   "execution_count": null,
   "id": "44eb2cd6",
   "metadata": {},
   "outputs": [],
   "source": []
  },
  {
   "cell_type": "code",
   "execution_count": null,
   "id": "6718cddc",
   "metadata": {},
   "outputs": [],
   "source": []
  }
 ],
 "metadata": {
  "kernelspec": {
   "display_name": "Python 3 (ipykernel)",
   "language": "python",
   "name": "python3"
  },
  "language_info": {
   "codemirror_mode": {
    "name": "ipython",
    "version": 3
   },
   "file_extension": ".py",
   "mimetype": "text/x-python",
   "name": "python",
   "nbconvert_exporter": "python",
   "pygments_lexer": "ipython3",
   "version": "3.9.13"
  }
 },
 "nbformat": 4,
 "nbformat_minor": 5
}
