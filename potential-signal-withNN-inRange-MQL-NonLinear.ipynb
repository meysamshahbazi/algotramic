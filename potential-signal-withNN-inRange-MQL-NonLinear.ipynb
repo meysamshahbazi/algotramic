{
 "cells": [
  {
   "cell_type": "code",
   "execution_count": null,
   "id": "ec6d40cf",
   "metadata": {},
   "outputs": [],
   "source": [
    "import pandas as pd\n",
    "import datetime as dt\n",
    "import plotly.graph_objects as go\n",
    "from technicals.indicators import *\n",
    "from technicals.patterns import apply_patterns\n",
    "from technicals.patternsInRange import apply_patterns_in_range\n",
    "\n",
    "from guruTester import GuruTester,GuruTester2\n",
    "from plotting import CandlePlot\n",
    "import MetaTrader5 as mt5\n",
    "from datetime import datetime\n",
    "from getCandle import Rates\n",
    "from sklearn.neural_network import MLPClassifier\n",
    "import numpy as np\n",
    "from sklearn.metrics import confusion_matrix\n",
    "from sklearn.preprocessing import StandardScaler  \n",
    "import pickle"
   ]
  },
  {
   "cell_type": "code",
   "execution_count": null,
   "id": "8c10b2c8",
   "metadata": {},
   "outputs": [],
   "source": [
    "pair = \"GBPUSD\"\n",
    "NB_H1_CANDLES = 20000"
   ]
  },
  {
   "cell_type": "code",
   "execution_count": null,
   "id": "d31dea2e",
   "metadata": {},
   "outputs": [],
   "source": [
    "rates = Rates(pair, NB_H1_CANDLES, mt5.TIMEFRAME_H1)\n",
    "SPREAD = rates.get_spread()\n",
    "df_an = rates.get_rates_from_now()\n",
    "df_an.drop(NB_H1_CANDLES-1,inplace=True) \n",
    "df_an.drop(['tick_volume', 'spread', 'real_volume'], axis=1, inplace=True)\n",
    "SPREAD"
   ]
  },
  {
   "cell_type": "code",
   "execution_count": null,
   "id": "01a08e52",
   "metadata": {},
   "outputs": [],
   "source": [
    "SPREAD = (SPREAD//1e-5)*1e-5 # todo: do it right!!!\n",
    "SPREAD # 0"
   ]
  },
  {
   "cell_type": "code",
   "execution_count": null,
   "id": "bb5a431f",
   "metadata": {},
   "outputs": [],
   "source": [
    "def featureExtraction(df):\n",
    "    candle_patterns = ['HANGING_MAN', 'SHOOTING_STAR',\n",
    "           'SPINNING_TOP', 'MARUBOZU', 'ENGULFING', 'TWEEZER_TOP',\n",
    "           'TWEEZER_BOTTOM', 'MORNING_STAR', 'EVENING_STAR']\n",
    "    df = apply_patterns_in_range(df)\n",
    "    for cp in candle_patterns:\n",
    "        df[cp] = df[cp].astype(float)\n",
    "\n",
    "    df = BollingerBandsNonLinear(df)\n",
    "#     df = ATRFeature(df)\n",
    "    df = KeltnerChannelsNonLinear(df)\n",
    "    df = RSINonLinear(df)\n",
    "    df = MACDNonLinear(df)\n",
    "    df = BREAKOUT(df)\n",
    "    df = ichimokuNonLinear(df)\n",
    "#     df['pivots_l'] = False\n",
    "#     df['pivots_h'] = False\n",
    "\n",
    "#     df['low_perv'] = df.low.shift(1)\n",
    "#     df['high_perv'] = df.high.shift(1)\n",
    "#     df['low_next'] = df.low.shift(-1)\n",
    "#     df['high_next'] = df.high.shift(-1)\n",
    "#     df['pivots_l'] = (df.low_perv > df.low) & (df.low_next > df.low)\n",
    "#     df['pivots_h'] = (df.high_perv < df.high) & (df.high_next < df.high)\n",
    "    df.dropna(inplace=True)\n",
    "    df.reset_index(drop=True, inplace=True)\n",
    "\n",
    "#     df.pivots_l = df.pivots_l.astype(float)\n",
    "#     df.pivots_h = df.pivots_h.astype(float)\n",
    "    return df"
   ]
  },
  {
   "cell_type": "code",
   "execution_count": null,
   "id": "d0c04450",
   "metadata": {},
   "outputs": [],
   "source": [
    "df_an = featureExtraction(df_an)"
   ]
  },
  {
   "cell_type": "code",
   "execution_count": null,
   "id": "448a7aac",
   "metadata": {},
   "outputs": [],
   "source": [
    "# df_an['SL'][i] = df_an.low[i-1] \n",
    "# df_an['TP'][i] = 2*(df_an.close[i] - df_an.low[i-1] ) + df_an.close[i]\n",
    "\n",
    "# df_an['SL'][i] = df_an.high[i-1] \n",
    "# df_an['TP'][i] = 2*(df_an.close[i] - df_an.high[i-1] ) + df_an.close[i]"
   ]
  },
  {
   "cell_type": "code",
   "execution_count": null,
   "id": "affc2b72",
   "metadata": {},
   "outputs": [],
   "source": [
    "BUY = 1\n",
    "SELL = -1\n",
    "NONE = 0\n",
    "\n",
    "df_an['SIGNAL'] = 0\n",
    "# TODO: check SL and TP is resonable *********************************************************************\n",
    "for i in range(1,len(df_an)): # add label for all of possible signal\n",
    "    for j in range(i,len(df_an)):\n",
    "        if( df_an.low[j] <= df_an.low[i-1] ):\n",
    "            break\n",
    "        else:\n",
    "            if(df_an.high[j] > 2*(df_an.close[i] - df_an.low[i-1] ) + df_an.close[i]):\n",
    "                df_an.SIGNAL[i] = BUY\n",
    "                break\n",
    "\n",
    "    for j in range(i,len(df_an)):\n",
    "        if( df_an.high[j] >= df_an.high[i-1] ):\n",
    "            break\n",
    "        else:\n",
    "            if(df_an.low[j] < 2*(df_an.close[i] - df_an.high[i-1] ) + df_an.close[i]):\n",
    "                df_an.SIGNAL[i] = SELL\n",
    "                break\n",
    "                    \n",
    "                    "
   ]
  },
  {
   "cell_type": "code",
   "execution_count": null,
   "id": "9e184b31",
   "metadata": {},
   "outputs": [],
   "source": [
    "df_an.columns"
   ]
  },
  {
   "cell_type": "code",
   "execution_count": null,
   "id": "bcbaa40b",
   "metadata": {},
   "outputs": [],
   "source": [
    "\n",
    "feature_col = [\n",
    "    'BB_MA_cross', 'BB_UP_touch','BB_LW_touch',\n",
    "    'EMA_cross', 'KeUp_touch', 'KeLo_touch', \n",
    "    'RSI_level',\n",
    "    'MACDHIST_level',\n",
    "#      'BREAK_UP', 'BREAK_DOWN',\n",
    "        'Tenkan_sen_touch', 'Kijun_sen_touch',\n",
    "       'Senkou_Span_A_touch', 'Senkou_Span_B_touch',\n",
    "        'Ten_kij_cross','Cloud_cross',\n",
    "#         'full_range',# this is added ...\n",
    "#        'body_lower', 'body_upper', \n",
    "#         'body_bottom_perc', 'body_top_perc',\n",
    "#        'body_perc', 'direction', 'body_size', 'low_change', 'high_change',\n",
    "#     'mid_point', 'mid_point_prev_2', 'body_size_prev',\n",
    "#        'direction_prev', 'direction_prev_2', 'body_perc_prev','body_perc_prev_2',\n",
    "        'direction',\n",
    "        'HANGING_MAN', 'SHOOTING_STAR', 'SPINNING_TOP',\n",
    "       'MARUBOZU', 'ENGULFING',\n",
    "    'TWEEZER_TOP', 'TWEEZER_BOTTOM',\n",
    "       'MORNING_STAR', 'EVENING_STAR'\n",
    "]"
   ]
  },
  {
   "cell_type": "code",
   "execution_count": null,
   "id": "7a47bf62",
   "metadata": {},
   "outputs": [],
   "source": [
    "X = []\n",
    "Y = [] \n",
    "indeces = []\n",
    "for i in range(4,len(df_an)):\n",
    "    feature = []\n",
    "    feature.append(df_an.pivots_h[i-1])\n",
    "    feature.append(df_an.pivots_l[i-1])\n",
    "    feature.append(df_an.pivots_h[i-2])\n",
    "    feature.append(df_an.pivots_l[i-2])\n",
    "    feature.append(df_an.pivots_h[i-3])\n",
    "    feature.append(df_an.pivots_l[i-3])\n",
    "    feature.append(df_an.pivots_h[i-4])\n",
    "    feature.append(df_an.pivots_l[i-4])\n",
    "    for fc in feature_col:\n",
    "        feature.append(df_an[fc][i])\n",
    "        feature.append(df_an[fc][i-1])\n",
    "        feature.append(df_an[fc][i-2])\n",
    "        feature.append(df_an[fc][i-3])\n",
    "        feature.append(df_an[fc][i-4])\n",
    "\n",
    "    X.append(feature)\n",
    "    Y.append(df_an.SIGNAL[i])\n",
    "    indeces.append(i)\n",
    "        "
   ]
  },
  {
   "cell_type": "code",
   "execution_count": null,
   "id": "3c639015",
   "metadata": {},
   "outputs": [],
   "source": [
    "# for fc in feature_col:\n",
    "#     print(f\"feat_vec[0,idx] = feat.{fc}[bar_idx]; idx++;\")\n",
    "#     print(f\"feat_vec[0,idx] = feat.{fc}[bar_idx-1]; idx++;\")\n",
    "#     print(f\"feat_vec[0,idx] = feat.{fc}[bar_idx-2]; idx++;\")\n",
    "#     print(f\"feat_vec[0,idx] = feat.{fc}[bar_idx-3]; idx++;\")\n",
    "#     print(f\"feat_vec[0,idx] = feat.{fc}[bar_idx-4]; idx++;\")"
   ]
  },
  {
   "cell_type": "code",
   "execution_count": null,
   "id": "13e3f7a6",
   "metadata": {},
   "outputs": [],
   "source": [
    "SPLIT_INDEX = int(0.8*len(X))\n",
    "X_train = X[:SPLIT_INDEX]\n",
    "Y_train = Y[:SPLIT_INDEX]\n",
    "indeces_train = indeces[:SPLIT_INDEX]\n",
    "X_test = X[SPLIT_INDEX:]\n",
    "Y_test = Y[SPLIT_INDEX:]\n",
    "indeces_test = indeces[SPLIT_INDEX:]"
   ]
  },
  {
   "cell_type": "code",
   "execution_count": null,
   "id": "25ed0b43",
   "metadata": {},
   "outputs": [],
   "source": []
  },
  {
   "cell_type": "code",
   "execution_count": null,
   "id": "70d2623d",
   "metadata": {},
   "outputs": [],
   "source": [
    "len(feature)"
   ]
  },
  {
   "cell_type": "code",
   "execution_count": null,
   "id": "610f53c5",
   "metadata": {},
   "outputs": [],
   "source": [
    "clf = MLPClassifier( solver='adam', alpha=1e-3,learning_rate_init=1e-4, # adam\n",
    "                    hidden_layer_sizes=(200,200), \n",
    "                    random_state=1,\n",
    "                    max_iter=1000,\n",
    "                    verbose=True,warm_start = True,\n",
    "                    n_iter_no_change=40,\n",
    "#                     early_stopping = True,\n",
    "#                     validation_fraction = 0.2 # default is 0.1\n",
    "                   )"
   ]
  },
  {
   "cell_type": "code",
   "execution_count": null,
   "id": "cc192076",
   "metadata": {},
   "outputs": [],
   "source": [
    "clf.fit(X_train, Y_train)"
   ]
  },
  {
   "cell_type": "code",
   "execution_count": null,
   "id": "380e691b",
   "metadata": {},
   "outputs": [],
   "source": [
    "coefs_0 = np.genfromtxt('coefs_0.csv', delimiter=',')\n",
    "coefs_1 = np.genfromtxt('coefs_1.csv', delimiter=',')\n",
    "coefs_2 = np.genfromtxt('coefs_2.csv', delimiter=',')\n",
    "intercepts_0 = np.genfromtxt('intercepts_0.csv', delimiter=',')\n",
    "intercepts_1 = np.genfromtxt('intercepts_1.csv', delimiter=',')\n",
    "intercepts_2 = np.genfromtxt('intercepts_2.csv', delimiter=',')"
   ]
  },
  {
   "cell_type": "code",
   "execution_count": null,
   "id": "f7a7e63b",
   "metadata": {},
   "outputs": [],
   "source": [
    "y_perdict = clf.predict(X_test)"
   ]
  },
  {
   "cell_type": "code",
   "execution_count": null,
   "id": "7807b198",
   "metadata": {},
   "outputs": [],
   "source": [
    "clf.score(X_train, Y_train)"
   ]
  },
  {
   "cell_type": "code",
   "execution_count": null,
   "id": "36325fc4",
   "metadata": {},
   "outputs": [],
   "source": [
    "clf.score(X_test, Y_test)"
   ]
  },
  {
   "cell_type": "code",
   "execution_count": null,
   "id": "fa03b72d",
   "metadata": {},
   "outputs": [],
   "source": [
    "conf = confusion_matrix(Y_test, y_perdict)\n",
    "conf"
   ]
  },
  {
   "cell_type": "code",
   "execution_count": null,
   "id": "1e94d46d",
   "metadata": {},
   "outputs": [],
   "source": []
  },
  {
   "cell_type": "code",
   "execution_count": null,
   "id": "664514c8",
   "metadata": {},
   "outputs": [],
   "source": [
    "df_test = df_an[['time', 'open', 'high', 'low', 'close','pivots_l','pivots_h']].iloc[indeces_test[0]:].copy()\n",
    "df_test['SIGNAL'] = 0\n",
    "df_test['SL'] = 0\n",
    "df_test['TP'] = 0\n",
    "for i,idx in enumerate(indeces_test):\n",
    "    if i >1:\n",
    "        if y_perdict[i] == BUY:\n",
    "            df_test['SL'][idx] = df_test.low[idx-1] \n",
    "            df_test['TP'][idx] = 2*(df_test.close[idx] - df_test.low[idx-1] ) + df_test.close[idx]\n",
    "            if df_test['SL'][idx] <  df_test.close[idx]:\n",
    "                df_test.SIGNAL.loc[idx] = y_perdict[i]\n",
    "        if  y_perdict[i] == SELL:\n",
    "            df_test['SL'][idx] = df_test.high[idx-1] \n",
    "            df_test['TP'][idx] = 2*(df_test.close[idx] - df_test.high[idx-1] ) + df_test.close[idx]\n",
    "            if df_test['SL'][idx] >  df_test.close[idx]:\n",
    "                df_test.SIGNAL.loc[idx] = y_perdict[i]\n",
    "            else: \n",
    "                print(\"****\")\n",
    "df_test.reset_index(drop=True, inplace=True)"
   ]
  },
  {
   "cell_type": "code",
   "execution_count": null,
   "id": "cb332702",
   "metadata": {},
   "outputs": [],
   "source": [
    "rates = Rates(pair, 13*len(df_test), mt5.TIMEFRAME_M5)\n",
    "df_m5 = rates.get_rates_from_now()\n",
    "df_m5.reset_index(drop=True, inplace=True)\n",
    "df_m5.drop(['tick_volume', 'spread', 'real_volume'], axis=1, inplace=True)"
   ]
  },
  {
   "cell_type": "code",
   "execution_count": null,
   "id": "b77dc800",
   "metadata": {},
   "outputs": [],
   "source": [
    "gt = GuruTester2(\n",
    "        df_test,\n",
    "        df_m5,\n",
    "        SPREAD,\n",
    "        use_spread=True\n",
    "    )\n",
    "df_res_m5 = gt.run_test()"
   ]
  },
  {
   "cell_type": "code",
   "execution_count": null,
   "id": "dd0afb28",
   "metadata": {},
   "outputs": [],
   "source": []
  },
  {
   "cell_type": "code",
   "execution_count": null,
   "id": "becfda1a",
   "metadata": {},
   "outputs": [],
   "source": [
    "df_res_m5['balance'] = 100\n",
    "loss_margin = 0.03\n",
    "perv_balance = 100\n",
    "\n",
    "# for index, row in df_res_m5.iterrows():\n",
    "for i in range(len(df_res_m5)):\n",
    "    if(df_res_m5.result[i] == -1):\n",
    "        loss_ratio = 1 # abs( (df_res_m5['start_price'][i]-df_res_m5['trigger_price'][i])/((df_res_m5['start_price'][i]-df_res_m5['SL'][i])) )\n",
    "#         print(loss_ratio)\n",
    "        df_res_m5['balance'][i] = perv_balance*(1-loss_ratio*loss_margin) \n",
    "    elif(df_res_m5.result[i] == 2):\n",
    "        profit_to_loss = abs( (df_res_m5['start_price'][i]-df_res_m5['trigger_price'][i])/((df_res_m5['start_price'][i]-df_res_m5['SL'][i])) )\n",
    "#         print(profit_to_loss)\n",
    "        df_res_m5['balance'][i] = perv_balance*(1+profit_to_loss*loss_margin) \n",
    "    perv_balance = df_res_m5['balance'][i]"
   ]
  },
  {
   "cell_type": "code",
   "execution_count": null,
   "id": "300dbdd2",
   "metadata": {},
   "outputs": [],
   "source": [
    "df_res_m5_plot = df_res_m5#.loc[:100]\n",
    "df_res_m5_plot['time'] = df_res_m5_plot['end_time']\n",
    "cp = CandlePlot(df_res_m5_plot, candles=False)\n",
    "print(\"min balance \",min(df_res_m5['balance']))\n",
    "cp.show_plot(line_traces=['balance'])"
   ]
  },
  {
   "cell_type": "code",
   "execution_count": null,
   "id": "f1efad8a",
   "metadata": {},
   "outputs": [],
   "source": []
  },
  {
   "cell_type": "code",
   "execution_count": null,
   "id": "6718cddc",
   "metadata": {},
   "outputs": [],
   "source": []
  },
  {
   "cell_type": "code",
   "execution_count": null,
   "id": "1a644fdd",
   "metadata": {},
   "outputs": [],
   "source": []
  }
 ],
 "metadata": {
  "kernelspec": {
   "display_name": "Python 3 (ipykernel)",
   "language": "python",
   "name": "python3"
  },
  "language_info": {
   "codemirror_mode": {
    "name": "ipython",
    "version": 3
   },
   "file_extension": ".py",
   "mimetype": "text/x-python",
   "name": "python",
   "nbconvert_exporter": "python",
   "pygments_lexer": "ipython3",
   "version": "3.9.13"
  }
 },
 "nbformat": 4,
 "nbformat_minor": 5
}
