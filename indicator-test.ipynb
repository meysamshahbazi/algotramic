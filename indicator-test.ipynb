{
 "cells": [
  {
   "cell_type": "code",
   "execution_count": 8,
   "id": "39938868",
   "metadata": {},
   "outputs": [],
   "source": [
    "import pandas as pd\n",
    "import datetime as dt\n",
    "import plotly.graph_objects as go\n",
    "from technicals.indicators import RSI\n",
    "from plotting import CandlePlot \n",
    "from getCandle import Rates\n",
    "import MetaTrader5 as mt5\n"
   ]
  },
  {
   "cell_type": "code",
   "execution_count": 9,
   "id": "9286da49",
   "metadata": {},
   "outputs": [],
   "source": [
    "pair = \"EURUSD\"\n",
    "NB_H1_CANDLES = 1000"
   ]
  },
  {
   "cell_type": "code",
   "execution_count": 10,
   "id": "174bfc8e",
   "metadata": {},
   "outputs": [],
   "source": [
    "rates = Rates(pair, NB_H1_CANDLES, mt5.TIMEFRAME_H1)\n",
    "SPREAD = rates.get_spread()\n",
    "df_an = rates.get_rates_from_now()\n",
    "df_an.drop(NB_H1_CANDLES-1,inplace=True) "
   ]
  },
  {
   "cell_type": "code",
   "execution_count": 11,
   "id": "16307d9d",
   "metadata": {},
   "outputs": [
    {
     "data": {
      "text/plain": [
       "5e-05"
      ]
     },
     "execution_count": 11,
     "metadata": {},
     "output_type": "execute_result"
    }
   ],
   "source": [
    "SPREAD = (SPREAD//1e-5)*1e-5 # todo: do it right!!!\n",
    "SPREAD # 0"
   ]
  },
  {
   "cell_type": "code",
   "execution_count": null,
   "id": "5cdbc12b",
   "metadata": {},
   "outputs": [],
   "source": []
  }
 ],
 "metadata": {
  "kernelspec": {
   "display_name": "Python 3 (ipykernel)",
   "language": "python",
   "name": "python3"
  },
  "language_info": {
   "codemirror_mode": {
    "name": "ipython",
    "version": 3
   },
   "file_extension": ".py",
   "mimetype": "text/x-python",
   "name": "python",
   "nbconvert_exporter": "python",
   "pygments_lexer": "ipython3",
   "version": "3.9.13"
  }
 },
 "nbformat": 4,
 "nbformat_minor": 5
}
