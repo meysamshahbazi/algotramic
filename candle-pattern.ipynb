{
 "cells": [
  {
   "cell_type": "code",
   "execution_count": 2,
   "id": "86627c56",
   "metadata": {},
   "outputs": [],
   "source": [
    "import pandas as pd\n",
    "import datetime as dt\n",
    "import plotly.graph_objects as go\n",
    "from technicals.indicators import *\n",
    "from technicals.patterns import apply_patterns\n",
    "from technicals.patternsInRange import apply_patterns_in_range\n",
    "from guruTester import GuruTester,GuruTester2\n",
    "from plotting import CandlePlot\n",
    "import MetaTrader5 as mt5\n",
    "from datetime import datetime\n",
    "from getCandle import Rates\n",
    "from sklearn.neural_network import MLPClassifier\n",
    "import numpy as np\n",
    "from sklearn.metrics import confusion_matrix\n",
    "from sklearn.preprocessing import StandardScaler  \n",
    "import pickle"
   ]
  },
  {
   "cell_type": "code",
   "execution_count": 3,
   "id": "f8bc9f98",
   "metadata": {},
   "outputs": [],
   "source": [
    "pair = \"GBPUSD\"\n",
    "NB_H1_CANDLES = 1000"
   ]
  },
  {
   "cell_type": "code",
   "execution_count": 4,
   "id": "82a18177",
   "metadata": {},
   "outputs": [],
   "source": [
    "rates = Rates(pair, NB_H1_CANDLES, mt5.TIMEFRAME_H1)\n",
    "SPREAD = rates.get_spread()\n",
    "df_an = rates.get_rates_from_now()\n",
    "df_an.drop(NB_H1_CANDLES-1,inplace=True) \n",
    "df_an.drop(['tick_volume', 'spread', 'real_volume'], axis=1, inplace=True)\n",
    "SPREAD = 1e-4"
   ]
  },
  {
   "cell_type": "code",
   "execution_count": 5,
   "id": "5c51575c",
   "metadata": {},
   "outputs": [],
   "source": [
    "df_an1 = apply_patterns(df_an)\n",
    "df_an2 = apply_patterns_in_range(df_an)\n"
   ]
  },
  {
   "cell_type": "code",
   "execution_count": 6,
   "id": "da18e484",
   "metadata": {},
   "outputs": [],
   "source": [
    "candle_patterns = ['HANGING_MAN', 'SHOOTING_STAR',\n",
    "       'SPINNING_TOP', 'MARUBOZU', 'ENGULFING', 'TWEEZER_TOP',\n",
    "       'TWEEZER_BOTTOM', 'MORNING_STAR', 'EVENING_STAR'#,'time','open' ,'high','low','close'\n",
    "                  ]"
   ]
  },
  {
   "cell_type": "code",
   "execution_count": 7,
   "id": "cfe341d9",
   "metadata": {},
   "outputs": [
    {
     "name": "stdout",
     "output_type": "stream",
     "text": [
      "HANGING_MAN\n",
      "999\n",
      "SHOOTING_STAR\n",
      "999\n",
      "SPINNING_TOP\n",
      "999\n",
      "MARUBOZU\n",
      "999\n",
      "ENGULFING\n",
      "999\n",
      "TWEEZER_TOP\n",
      "999\n",
      "TWEEZER_BOTTOM\n",
      "999\n",
      "MORNING_STAR\n",
      "999\n",
      "EVENING_STAR\n",
      "999\n"
     ]
    }
   ],
   "source": [
    "for cp in candle_patterns:\n",
    "    df_an[cp+'_diff'] = df_an1[cp] == df_an2[cp]\n",
    "    print(cp)\n",
    "    print(df_an[cp+'_diff'].sum() )"
   ]
  },
  {
   "cell_type": "code",
   "execution_count": null,
   "id": "f1d55b51",
   "metadata": {},
   "outputs": [],
   "source": [
    "body_size_change"
   ]
  },
  {
   "cell_type": "code",
   "execution_count": null,
   "id": "e0da595a",
   "metadata": {},
   "outputs": [],
   "source": [
    "candle_patterns = ['HANGING_MAN', 'SHOOTING_STAR',\n",
    "       'SPINNING_TOP', 'MARUBOZU', 'ENGULFING', 'TWEEZER_TOP',\n",
    "       'TWEEZER_BOTTOM', 'MORNING_STAR', 'EVENING_STAR'#,'time','open' ,'high','low','close'\n",
    "                  ]\n",
    "df_an.drop(candle_patterns, axis=1, inplace=True)\n"
   ]
  },
  {
   "cell_type": "code",
   "execution_count": null,
   "id": "b2c73a2f",
   "metadata": {},
   "outputs": [],
   "source": [
    "df_an"
   ]
  },
  {
   "cell_type": "code",
   "execution_count": null,
   "id": "d51419da",
   "metadata": {},
   "outputs": [],
   "source": [
    "candle_percentege = ['body_bottom_perc','body_top_perc','body_perc','body_perc_prev','body_perc_prev_2']"
   ]
  },
  {
   "cell_type": "code",
   "execution_count": null,
   "id": "9f66a809",
   "metadata": {},
   "outputs": [],
   "source": [
    "df_an.low_change"
   ]
  },
  {
   "cell_type": "code",
   "execution_count": null,
   "id": "bd94005a",
   "metadata": {},
   "outputs": [],
   "source": [
    "(df_an.low.iloc[1]/df_an.low.iloc[0]-1)*100"
   ]
  },
  {
   "cell_type": "code",
   "execution_count": null,
   "id": "01d94e0c",
   "metadata": {},
   "outputs": [],
   "source": [
    "(df_an.low.iloc[2]/df_an.low.iloc[1]-1)*100"
   ]
  },
  {
   "cell_type": "code",
   "execution_count": null,
   "id": "010c0fbc",
   "metadata": {},
   "outputs": [],
   "source": []
  }
 ],
 "metadata": {
  "kernelspec": {
   "display_name": "Python 3 (ipykernel)",
   "language": "python",
   "name": "python3"
  },
  "language_info": {
   "codemirror_mode": {
    "name": "ipython",
    "version": 3
   },
   "file_extension": ".py",
   "mimetype": "text/x-python",
   "name": "python",
   "nbconvert_exporter": "python",
   "pygments_lexer": "ipython3",
   "version": "3.9.13"
  }
 },
 "nbformat": 4,
 "nbformat_minor": 5
}
