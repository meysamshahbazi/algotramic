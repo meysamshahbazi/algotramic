{
 "cells": [
  {
   "cell_type": "code",
   "execution_count": 1,
   "id": "ec6d40cf",
   "metadata": {},
   "outputs": [],
   "source": [
    "import pandas as pd\n",
    "import datetime as dt\n",
    "import plotly.graph_objects as go\n",
    "from technicals.indicators import *\n",
    "from technicals.patterns import apply_patterns\n",
    "from guruTester import GuruTester,GuruTester2\n",
    "from plotting import CandlePlot\n",
    "import MetaTrader5 as mt5\n",
    "from datetime import datetime\n",
    "from getCandle import Rates\n",
    "from sklearn.neural_network import MLPClassifier\n",
    "import numpy as np\n",
    "from sklearn.metrics import confusion_matrix\n",
    "from sklearn.preprocessing import StandardScaler  \n",
    "import pickle"
   ]
  },
  {
   "cell_type": "code",
   "execution_count": 2,
   "id": "8c10b2c8",
   "metadata": {},
   "outputs": [],
   "source": [
    "pair = \"GBPUSD\"\n",
    "NB_H1_CANDLES = 20000"
   ]
  },
  {
   "cell_type": "code",
   "execution_count": 3,
   "id": "d31dea2e",
   "metadata": {},
   "outputs": [],
   "source": [
    "rates = Rates(pair, NB_H1_CANDLES, mt5.TIMEFRAME_H1)\n",
    "SPREAD = rates.get_spread()\n",
    "df_an = rates.get_rates_from_now()\n",
    "df_an.drop(NB_H1_CANDLES-1,inplace=True) \n",
    "df_an.drop(['tick_volume', 'spread', 'real_volume'], axis=1, inplace=True)"
   ]
  },
  {
   "cell_type": "code",
   "execution_count": 4,
   "id": "d0c04450",
   "metadata": {},
   "outputs": [
    {
     "data": {
      "text/html": [
       "<div>\n",
       "<style scoped>\n",
       "    .dataframe tbody tr th:only-of-type {\n",
       "        vertical-align: middle;\n",
       "    }\n",
       "\n",
       "    .dataframe tbody tr th {\n",
       "        vertical-align: top;\n",
       "    }\n",
       "\n",
       "    .dataframe thead th {\n",
       "        text-align: right;\n",
       "    }\n",
       "</style>\n",
       "<table border=\"1\" class=\"dataframe\">\n",
       "  <thead>\n",
       "    <tr style=\"text-align: right;\">\n",
       "      <th></th>\n",
       "      <th>time</th>\n",
       "      <th>open</th>\n",
       "      <th>high</th>\n",
       "      <th>low</th>\n",
       "      <th>close</th>\n",
       "      <th>body_lower</th>\n",
       "      <th>body_upper</th>\n",
       "      <th>body_bottom_perc</th>\n",
       "      <th>body_top_perc</th>\n",
       "      <th>body_perc</th>\n",
       "      <th>...</th>\n",
       "      <th>body_perc_prev_2</th>\n",
       "      <th>HANGING_MAN</th>\n",
       "      <th>SHOOTING_STAR</th>\n",
       "      <th>SPINNING_TOP</th>\n",
       "      <th>MARUBOZU</th>\n",
       "      <th>ENGULFING</th>\n",
       "      <th>TWEEZER_TOP</th>\n",
       "      <th>TWEEZER_BOTTOM</th>\n",
       "      <th>MORNING_STAR</th>\n",
       "      <th>EVENING_STAR</th>\n",
       "    </tr>\n",
       "  </thead>\n",
       "  <tbody>\n",
       "    <tr>\n",
       "      <th>0</th>\n",
       "      <td>2020-01-02 18:00:00</td>\n",
       "      <td>1.31883</td>\n",
       "      <td>1.31883</td>\n",
       "      <td>1.31225</td>\n",
       "      <td>1.31260</td>\n",
       "      <td>1.31260</td>\n",
       "      <td>1.31883</td>\n",
       "      <td>5.319149</td>\n",
       "      <td>100.000000</td>\n",
       "      <td>94.680851</td>\n",
       "      <td>...</td>\n",
       "      <td>NaN</td>\n",
       "      <td>0.0</td>\n",
       "      <td>0.0</td>\n",
       "      <td>0.0</td>\n",
       "      <td>0.0</td>\n",
       "      <td>0.0</td>\n",
       "      <td>0.0</td>\n",
       "      <td>0.0</td>\n",
       "      <td>0.0</td>\n",
       "      <td>0.0</td>\n",
       "    </tr>\n",
       "    <tr>\n",
       "      <th>1</th>\n",
       "      <td>2020-01-02 19:00:00</td>\n",
       "      <td>1.31260</td>\n",
       "      <td>1.31336</td>\n",
       "      <td>1.31144</td>\n",
       "      <td>1.31332</td>\n",
       "      <td>1.31260</td>\n",
       "      <td>1.31332</td>\n",
       "      <td>60.416667</td>\n",
       "      <td>97.916667</td>\n",
       "      <td>37.500000</td>\n",
       "      <td>...</td>\n",
       "      <td>NaN</td>\n",
       "      <td>0.0</td>\n",
       "      <td>0.0</td>\n",
       "      <td>0.0</td>\n",
       "      <td>0.0</td>\n",
       "      <td>0.0</td>\n",
       "      <td>0.0</td>\n",
       "      <td>0.0</td>\n",
       "      <td>0.0</td>\n",
       "      <td>0.0</td>\n",
       "    </tr>\n",
       "    <tr>\n",
       "      <th>2</th>\n",
       "      <td>2020-01-02 20:00:00</td>\n",
       "      <td>1.31333</td>\n",
       "      <td>1.31427</td>\n",
       "      <td>1.31240</td>\n",
       "      <td>1.31386</td>\n",
       "      <td>1.31333</td>\n",
       "      <td>1.31386</td>\n",
       "      <td>49.732620</td>\n",
       "      <td>78.074866</td>\n",
       "      <td>28.342246</td>\n",
       "      <td>...</td>\n",
       "      <td>94.680851</td>\n",
       "      <td>0.0</td>\n",
       "      <td>0.0</td>\n",
       "      <td>0.0</td>\n",
       "      <td>0.0</td>\n",
       "      <td>0.0</td>\n",
       "      <td>0.0</td>\n",
       "      <td>0.0</td>\n",
       "      <td>0.0</td>\n",
       "      <td>0.0</td>\n",
       "    </tr>\n",
       "    <tr>\n",
       "      <th>3</th>\n",
       "      <td>2020-01-02 21:00:00</td>\n",
       "      <td>1.31385</td>\n",
       "      <td>1.31395</td>\n",
       "      <td>1.31270</td>\n",
       "      <td>1.31280</td>\n",
       "      <td>1.31280</td>\n",
       "      <td>1.31385</td>\n",
       "      <td>8.000000</td>\n",
       "      <td>92.000000</td>\n",
       "      <td>84.000000</td>\n",
       "      <td>...</td>\n",
       "      <td>37.500000</td>\n",
       "      <td>0.0</td>\n",
       "      <td>0.0</td>\n",
       "      <td>0.0</td>\n",
       "      <td>0.0</td>\n",
       "      <td>1.0</td>\n",
       "      <td>0.0</td>\n",
       "      <td>0.0</td>\n",
       "      <td>0.0</td>\n",
       "      <td>0.0</td>\n",
       "    </tr>\n",
       "    <tr>\n",
       "      <th>4</th>\n",
       "      <td>2020-01-02 22:00:00</td>\n",
       "      <td>1.31279</td>\n",
       "      <td>1.31446</td>\n",
       "      <td>1.31277</td>\n",
       "      <td>1.31376</td>\n",
       "      <td>1.31279</td>\n",
       "      <td>1.31376</td>\n",
       "      <td>1.183432</td>\n",
       "      <td>58.579882</td>\n",
       "      <td>57.396450</td>\n",
       "      <td>...</td>\n",
       "      <td>28.342246</td>\n",
       "      <td>0.0</td>\n",
       "      <td>0.0</td>\n",
       "      <td>0.0</td>\n",
       "      <td>0.0</td>\n",
       "      <td>0.0</td>\n",
       "      <td>0.0</td>\n",
       "      <td>0.0</td>\n",
       "      <td>0.0</td>\n",
       "      <td>0.0</td>\n",
       "    </tr>\n",
       "  </tbody>\n",
       "</table>\n",
       "<p>5 rows × 31 columns</p>\n",
       "</div>"
      ],
      "text/plain": [
       "                 time     open     high      low    close  body_lower  \\\n",
       "0 2020-01-02 18:00:00  1.31883  1.31883  1.31225  1.31260     1.31260   \n",
       "1 2020-01-02 19:00:00  1.31260  1.31336  1.31144  1.31332     1.31260   \n",
       "2 2020-01-02 20:00:00  1.31333  1.31427  1.31240  1.31386     1.31333   \n",
       "3 2020-01-02 21:00:00  1.31385  1.31395  1.31270  1.31280     1.31280   \n",
       "4 2020-01-02 22:00:00  1.31279  1.31446  1.31277  1.31376     1.31279   \n",
       "\n",
       "   body_upper  body_bottom_perc  body_top_perc  body_perc  ...  \\\n",
       "0     1.31883          5.319149     100.000000  94.680851  ...   \n",
       "1     1.31332         60.416667      97.916667  37.500000  ...   \n",
       "2     1.31386         49.732620      78.074866  28.342246  ...   \n",
       "3     1.31385          8.000000      92.000000  84.000000  ...   \n",
       "4     1.31376          1.183432      58.579882  57.396450  ...   \n",
       "\n",
       "   body_perc_prev_2  HANGING_MAN  SHOOTING_STAR  SPINNING_TOP  MARUBOZU  \\\n",
       "0               NaN          0.0            0.0           0.0       0.0   \n",
       "1               NaN          0.0            0.0           0.0       0.0   \n",
       "2         94.680851          0.0            0.0           0.0       0.0   \n",
       "3         37.500000          0.0            0.0           0.0       0.0   \n",
       "4         28.342246          0.0            0.0           0.0       0.0   \n",
       "\n",
       "   ENGULFING  TWEEZER_TOP  TWEEZER_BOTTOM  MORNING_STAR  EVENING_STAR  \n",
       "0        0.0          0.0             0.0           0.0           0.0  \n",
       "1        0.0          0.0             0.0           0.0           0.0  \n",
       "2        0.0          0.0             0.0           0.0           0.0  \n",
       "3        1.0          0.0             0.0           0.0           0.0  \n",
       "4        0.0          0.0             0.0           0.0           0.0  \n",
       "\n",
       "[5 rows x 31 columns]"
      ]
     },
     "execution_count": 4,
     "metadata": {},
     "output_type": "execute_result"
    }
   ],
   "source": [
    "candle_patterns = ['HANGING_MAN', 'SHOOTING_STAR',\n",
    "       'SPINNING_TOP', 'MARUBOZU', 'ENGULFING', 'TWEEZER_TOP',\n",
    "       'TWEEZER_BOTTOM', 'MORNING_STAR', 'EVENING_STAR']\n",
    "\n",
    "df_an = apply_patterns(df_an)\n",
    "for cp in candle_patterns:\n",
    "    df_an[cp] = df_an[cp].astype(float)\n",
    "df_an.head()"
   ]
  },
  {
   "cell_type": "code",
   "execution_count": 5,
   "id": "9f7e51b1",
   "metadata": {},
   "outputs": [
    {
     "data": {
      "text/html": [
       "<div>\n",
       "<style scoped>\n",
       "    .dataframe tbody tr th:only-of-type {\n",
       "        vertical-align: middle;\n",
       "    }\n",
       "\n",
       "    .dataframe tbody tr th {\n",
       "        vertical-align: top;\n",
       "    }\n",
       "\n",
       "    .dataframe thead th {\n",
       "        text-align: right;\n",
       "    }\n",
       "</style>\n",
       "<table border=\"1\" class=\"dataframe\">\n",
       "  <thead>\n",
       "    <tr style=\"text-align: right;\">\n",
       "      <th></th>\n",
       "      <th>time</th>\n",
       "      <th>open</th>\n",
       "      <th>high</th>\n",
       "      <th>low</th>\n",
       "      <th>close</th>\n",
       "      <th>body_lower</th>\n",
       "      <th>body_upper</th>\n",
       "      <th>body_bottom_perc</th>\n",
       "      <th>body_top_perc</th>\n",
       "      <th>body_perc</th>\n",
       "      <th>...</th>\n",
       "      <th>BB_MA</th>\n",
       "      <th>BB_UP</th>\n",
       "      <th>BB_LW</th>\n",
       "      <th>ATR_14</th>\n",
       "      <th>EMA</th>\n",
       "      <th>KeUp</th>\n",
       "      <th>KeLo</th>\n",
       "      <th>MACD</th>\n",
       "      <th>SIGNAL_MACD</th>\n",
       "      <th>HIST</th>\n",
       "    </tr>\n",
       "  </thead>\n",
       "  <tbody>\n",
       "    <tr>\n",
       "      <th>0</th>\n",
       "      <td>2020-01-02 18:00:00</td>\n",
       "      <td>1.31883</td>\n",
       "      <td>1.31883</td>\n",
       "      <td>1.31225</td>\n",
       "      <td>1.31260</td>\n",
       "      <td>1.31260</td>\n",
       "      <td>1.31883</td>\n",
       "      <td>5.319149</td>\n",
       "      <td>100.000000</td>\n",
       "      <td>94.680851</td>\n",
       "      <td>...</td>\n",
       "      <td>NaN</td>\n",
       "      <td>NaN</td>\n",
       "      <td>NaN</td>\n",
       "      <td>NaN</td>\n",
       "      <td>NaN</td>\n",
       "      <td>NaN</td>\n",
       "      <td>NaN</td>\n",
       "      <td>NaN</td>\n",
       "      <td>NaN</td>\n",
       "      <td>NaN</td>\n",
       "    </tr>\n",
       "    <tr>\n",
       "      <th>1</th>\n",
       "      <td>2020-01-02 19:00:00</td>\n",
       "      <td>1.31260</td>\n",
       "      <td>1.31336</td>\n",
       "      <td>1.31144</td>\n",
       "      <td>1.31332</td>\n",
       "      <td>1.31260</td>\n",
       "      <td>1.31332</td>\n",
       "      <td>60.416667</td>\n",
       "      <td>97.916667</td>\n",
       "      <td>37.500000</td>\n",
       "      <td>...</td>\n",
       "      <td>NaN</td>\n",
       "      <td>NaN</td>\n",
       "      <td>NaN</td>\n",
       "      <td>NaN</td>\n",
       "      <td>NaN</td>\n",
       "      <td>NaN</td>\n",
       "      <td>NaN</td>\n",
       "      <td>NaN</td>\n",
       "      <td>NaN</td>\n",
       "      <td>NaN</td>\n",
       "    </tr>\n",
       "    <tr>\n",
       "      <th>2</th>\n",
       "      <td>2020-01-02 20:00:00</td>\n",
       "      <td>1.31333</td>\n",
       "      <td>1.31427</td>\n",
       "      <td>1.31240</td>\n",
       "      <td>1.31386</td>\n",
       "      <td>1.31333</td>\n",
       "      <td>1.31386</td>\n",
       "      <td>49.732620</td>\n",
       "      <td>78.074866</td>\n",
       "      <td>28.342246</td>\n",
       "      <td>...</td>\n",
       "      <td>NaN</td>\n",
       "      <td>NaN</td>\n",
       "      <td>NaN</td>\n",
       "      <td>NaN</td>\n",
       "      <td>NaN</td>\n",
       "      <td>NaN</td>\n",
       "      <td>NaN</td>\n",
       "      <td>NaN</td>\n",
       "      <td>NaN</td>\n",
       "      <td>NaN</td>\n",
       "    </tr>\n",
       "    <tr>\n",
       "      <th>3</th>\n",
       "      <td>2020-01-02 21:00:00</td>\n",
       "      <td>1.31385</td>\n",
       "      <td>1.31395</td>\n",
       "      <td>1.31270</td>\n",
       "      <td>1.31280</td>\n",
       "      <td>1.31280</td>\n",
       "      <td>1.31385</td>\n",
       "      <td>8.000000</td>\n",
       "      <td>92.000000</td>\n",
       "      <td>84.000000</td>\n",
       "      <td>...</td>\n",
       "      <td>NaN</td>\n",
       "      <td>NaN</td>\n",
       "      <td>NaN</td>\n",
       "      <td>NaN</td>\n",
       "      <td>NaN</td>\n",
       "      <td>NaN</td>\n",
       "      <td>NaN</td>\n",
       "      <td>NaN</td>\n",
       "      <td>NaN</td>\n",
       "      <td>NaN</td>\n",
       "    </tr>\n",
       "    <tr>\n",
       "      <th>4</th>\n",
       "      <td>2020-01-02 22:00:00</td>\n",
       "      <td>1.31279</td>\n",
       "      <td>1.31446</td>\n",
       "      <td>1.31277</td>\n",
       "      <td>1.31376</td>\n",
       "      <td>1.31279</td>\n",
       "      <td>1.31376</td>\n",
       "      <td>1.183432</td>\n",
       "      <td>58.579882</td>\n",
       "      <td>57.396450</td>\n",
       "      <td>...</td>\n",
       "      <td>NaN</td>\n",
       "      <td>NaN</td>\n",
       "      <td>NaN</td>\n",
       "      <td>NaN</td>\n",
       "      <td>NaN</td>\n",
       "      <td>NaN</td>\n",
       "      <td>NaN</td>\n",
       "      <td>NaN</td>\n",
       "      <td>NaN</td>\n",
       "      <td>NaN</td>\n",
       "    </tr>\n",
       "    <tr>\n",
       "      <th>...</th>\n",
       "      <td>...</td>\n",
       "      <td>...</td>\n",
       "      <td>...</td>\n",
       "      <td>...</td>\n",
       "      <td>...</td>\n",
       "      <td>...</td>\n",
       "      <td>...</td>\n",
       "      <td>...</td>\n",
       "      <td>...</td>\n",
       "      <td>...</td>\n",
       "      <td>...</td>\n",
       "      <td>...</td>\n",
       "      <td>...</td>\n",
       "      <td>...</td>\n",
       "      <td>...</td>\n",
       "      <td>...</td>\n",
       "      <td>...</td>\n",
       "      <td>...</td>\n",
       "      <td>...</td>\n",
       "      <td>...</td>\n",
       "      <td>...</td>\n",
       "    </tr>\n",
       "    <tr>\n",
       "      <th>19994</th>\n",
       "      <td>2023-03-23 11:00:00</td>\n",
       "      <td>1.23206</td>\n",
       "      <td>1.23319</td>\n",
       "      <td>1.23088</td>\n",
       "      <td>1.23153</td>\n",
       "      <td>1.23153</td>\n",
       "      <td>1.23206</td>\n",
       "      <td>28.138528</td>\n",
       "      <td>51.082251</td>\n",
       "      <td>22.943723</td>\n",
       "      <td>...</td>\n",
       "      <td>1.228631</td>\n",
       "      <td>1.235048</td>\n",
       "      <td>1.222214</td>\n",
       "      <td>0.001840</td>\n",
       "      <td>1.229357</td>\n",
       "      <td>1.233365</td>\n",
       "      <td>1.225349</td>\n",
       "      <td>0.001921</td>\n",
       "      <td>0.001728</td>\n",
       "      <td>0.000193</td>\n",
       "    </tr>\n",
       "    <tr>\n",
       "      <th>19995</th>\n",
       "      <td>2023-03-23 12:00:00</td>\n",
       "      <td>1.23154</td>\n",
       "      <td>1.23162</td>\n",
       "      <td>1.22841</td>\n",
       "      <td>1.22886</td>\n",
       "      <td>1.22886</td>\n",
       "      <td>1.23154</td>\n",
       "      <td>14.018692</td>\n",
       "      <td>97.507788</td>\n",
       "      <td>83.489097</td>\n",
       "      <td>...</td>\n",
       "      <td>1.228932</td>\n",
       "      <td>1.234908</td>\n",
       "      <td>1.222956</td>\n",
       "      <td>0.001961</td>\n",
       "      <td>1.229310</td>\n",
       "      <td>1.233654</td>\n",
       "      <td>1.224966</td>\n",
       "      <td>0.001643</td>\n",
       "      <td>0.001711</td>\n",
       "      <td>-0.000067</td>\n",
       "    </tr>\n",
       "    <tr>\n",
       "      <th>19996</th>\n",
       "      <td>2023-03-23 13:00:00</td>\n",
       "      <td>1.22886</td>\n",
       "      <td>1.23070</td>\n",
       "      <td>1.22822</td>\n",
       "      <td>1.23026</td>\n",
       "      <td>1.22886</td>\n",
       "      <td>1.23026</td>\n",
       "      <td>25.806452</td>\n",
       "      <td>82.258065</td>\n",
       "      <td>56.451613</td>\n",
       "      <td>...</td>\n",
       "      <td>1.229246</td>\n",
       "      <td>1.234641</td>\n",
       "      <td>1.223851</td>\n",
       "      <td>0.001979</td>\n",
       "      <td>1.229400</td>\n",
       "      <td>1.234026</td>\n",
       "      <td>1.224774</td>\n",
       "      <td>0.001519</td>\n",
       "      <td>0.001672</td>\n",
       "      <td>-0.000154</td>\n",
       "    </tr>\n",
       "    <tr>\n",
       "      <th>19997</th>\n",
       "      <td>2023-03-23 14:00:00</td>\n",
       "      <td>1.23026</td>\n",
       "      <td>1.23375</td>\n",
       "      <td>1.22650</td>\n",
       "      <td>1.22752</td>\n",
       "      <td>1.22752</td>\n",
       "      <td>1.23026</td>\n",
       "      <td>14.068966</td>\n",
       "      <td>51.862069</td>\n",
       "      <td>37.793103</td>\n",
       "      <td>...</td>\n",
       "      <td>1.229525</td>\n",
       "      <td>1.234243</td>\n",
       "      <td>1.224806</td>\n",
       "      <td>0.002462</td>\n",
       "      <td>1.229221</td>\n",
       "      <td>1.234603</td>\n",
       "      <td>1.223839</td>\n",
       "      <td>0.001185</td>\n",
       "      <td>0.001575</td>\n",
       "      <td>-0.000390</td>\n",
       "    </tr>\n",
       "    <tr>\n",
       "      <th>19998</th>\n",
       "      <td>2023-03-23 15:00:00</td>\n",
       "      <td>1.22753</td>\n",
       "      <td>1.23184</td>\n",
       "      <td>1.22732</td>\n",
       "      <td>1.23148</td>\n",
       "      <td>1.22753</td>\n",
       "      <td>1.23148</td>\n",
       "      <td>4.646018</td>\n",
       "      <td>92.035398</td>\n",
       "      <td>87.389381</td>\n",
       "      <td>...</td>\n",
       "      <td>1.229817</td>\n",
       "      <td>1.233868</td>\n",
       "      <td>1.225766</td>\n",
       "      <td>0.002679</td>\n",
       "      <td>1.229436</td>\n",
       "      <td>1.235448</td>\n",
       "      <td>1.223424</td>\n",
       "      <td>0.001226</td>\n",
       "      <td>0.001505</td>\n",
       "      <td>-0.000279</td>\n",
       "    </tr>\n",
       "  </tbody>\n",
       "</table>\n",
       "<p>19999 rows × 42 columns</p>\n",
       "</div>"
      ],
      "text/plain": [
       "                     time     open     high      low    close  body_lower  \\\n",
       "0     2020-01-02 18:00:00  1.31883  1.31883  1.31225  1.31260     1.31260   \n",
       "1     2020-01-02 19:00:00  1.31260  1.31336  1.31144  1.31332     1.31260   \n",
       "2     2020-01-02 20:00:00  1.31333  1.31427  1.31240  1.31386     1.31333   \n",
       "3     2020-01-02 21:00:00  1.31385  1.31395  1.31270  1.31280     1.31280   \n",
       "4     2020-01-02 22:00:00  1.31279  1.31446  1.31277  1.31376     1.31279   \n",
       "...                   ...      ...      ...      ...      ...         ...   \n",
       "19994 2023-03-23 11:00:00  1.23206  1.23319  1.23088  1.23153     1.23153   \n",
       "19995 2023-03-23 12:00:00  1.23154  1.23162  1.22841  1.22886     1.22886   \n",
       "19996 2023-03-23 13:00:00  1.22886  1.23070  1.22822  1.23026     1.22886   \n",
       "19997 2023-03-23 14:00:00  1.23026  1.23375  1.22650  1.22752     1.22752   \n",
       "19998 2023-03-23 15:00:00  1.22753  1.23184  1.22732  1.23148     1.22753   \n",
       "\n",
       "       body_upper  body_bottom_perc  body_top_perc  body_perc  ...     BB_MA  \\\n",
       "0         1.31883          5.319149     100.000000  94.680851  ...       NaN   \n",
       "1         1.31332         60.416667      97.916667  37.500000  ...       NaN   \n",
       "2         1.31386         49.732620      78.074866  28.342246  ...       NaN   \n",
       "3         1.31385          8.000000      92.000000  84.000000  ...       NaN   \n",
       "4         1.31376          1.183432      58.579882  57.396450  ...       NaN   \n",
       "...           ...               ...            ...        ...  ...       ...   \n",
       "19994     1.23206         28.138528      51.082251  22.943723  ...  1.228631   \n",
       "19995     1.23154         14.018692      97.507788  83.489097  ...  1.228932   \n",
       "19996     1.23026         25.806452      82.258065  56.451613  ...  1.229246   \n",
       "19997     1.23026         14.068966      51.862069  37.793103  ...  1.229525   \n",
       "19998     1.23148          4.646018      92.035398  87.389381  ...  1.229817   \n",
       "\n",
       "          BB_UP     BB_LW    ATR_14       EMA      KeUp      KeLo      MACD  \\\n",
       "0           NaN       NaN       NaN       NaN       NaN       NaN       NaN   \n",
       "1           NaN       NaN       NaN       NaN       NaN       NaN       NaN   \n",
       "2           NaN       NaN       NaN       NaN       NaN       NaN       NaN   \n",
       "3           NaN       NaN       NaN       NaN       NaN       NaN       NaN   \n",
       "4           NaN       NaN       NaN       NaN       NaN       NaN       NaN   \n",
       "...         ...       ...       ...       ...       ...       ...       ...   \n",
       "19994  1.235048  1.222214  0.001840  1.229357  1.233365  1.225349  0.001921   \n",
       "19995  1.234908  1.222956  0.001961  1.229310  1.233654  1.224966  0.001643   \n",
       "19996  1.234641  1.223851  0.001979  1.229400  1.234026  1.224774  0.001519   \n",
       "19997  1.234243  1.224806  0.002462  1.229221  1.234603  1.223839  0.001185   \n",
       "19998  1.233868  1.225766  0.002679  1.229436  1.235448  1.223424  0.001226   \n",
       "\n",
       "       SIGNAL_MACD      HIST  \n",
       "0              NaN       NaN  \n",
       "1              NaN       NaN  \n",
       "2              NaN       NaN  \n",
       "3              NaN       NaN  \n",
       "4              NaN       NaN  \n",
       "...            ...       ...  \n",
       "19994     0.001728  0.000193  \n",
       "19995     0.001711 -0.000067  \n",
       "19996     0.001672 -0.000154  \n",
       "19997     0.001575 -0.000390  \n",
       "19998     0.001505 -0.000279  \n",
       "\n",
       "[19999 rows x 42 columns]"
      ]
     },
     "execution_count": 5,
     "metadata": {},
     "output_type": "execute_result"
    }
   ],
   "source": [
    "df_an = RSI(df_an)\n",
    "df_an = BollingerBands(df_an)\n",
    "df_an = ATR(df_an)\n",
    "df_an = KeltnerChannels(df_an)\n",
    "df_an = MACD(df_an)\n",
    "df_an"
   ]
  },
  {
   "cell_type": "code",
   "execution_count": 6,
   "id": "f68a3518",
   "metadata": {},
   "outputs": [
    {
     "data": {
      "text/plain": [
       "Index(['time', 'open', 'high', 'low', 'close', 'body_lower', 'body_upper',\n",
       "       'body_bottom_perc', 'body_top_perc', 'body_perc', 'direction',\n",
       "       'body_size', 'low_change', 'high_change', 'body_size_change',\n",
       "       'mid_point', 'mid_point_prev_2', 'body_size_prev', 'direction_prev',\n",
       "       'direction_prev_2', 'body_perc_prev', 'body_perc_prev_2', 'HANGING_MAN',\n",
       "       'SHOOTING_STAR', 'SPINNING_TOP', 'MARUBOZU', 'ENGULFING', 'TWEEZER_TOP',\n",
       "       'TWEEZER_BOTTOM', 'MORNING_STAR', 'EVENING_STAR', 'RSI_14', 'BB_MA',\n",
       "       'BB_UP', 'BB_LW', 'ATR_14', 'EMA', 'KeUp', 'KeLo', 'MACD',\n",
       "       'SIGNAL_MACD', 'HIST'],\n",
       "      dtype='object')"
      ]
     },
     "execution_count": 6,
     "metadata": {},
     "output_type": "execute_result"
    }
   ],
   "source": [
    "df_an.columns"
   ]
  },
  {
   "cell_type": "code",
   "execution_count": 7,
   "id": "dcdc93a2",
   "metadata": {},
   "outputs": [
    {
     "data": {
      "text/plain": [
       "9e-05"
      ]
     },
     "execution_count": 7,
     "metadata": {},
     "output_type": "execute_result"
    }
   ],
   "source": [
    "SPREAD = (SPREAD//1e-5)*1e-5 # todo: do it right!!!\n",
    "SPREAD # 0"
   ]
  },
  {
   "cell_type": "code",
   "execution_count": 8,
   "id": "523077ed",
   "metadata": {},
   "outputs": [
    {
     "data": {
      "text/html": [
       "<div>\n",
       "<style scoped>\n",
       "    .dataframe tbody tr th:only-of-type {\n",
       "        vertical-align: middle;\n",
       "    }\n",
       "\n",
       "    .dataframe tbody tr th {\n",
       "        vertical-align: top;\n",
       "    }\n",
       "\n",
       "    .dataframe thead th {\n",
       "        text-align: right;\n",
       "    }\n",
       "</style>\n",
       "<table border=\"1\" class=\"dataframe\">\n",
       "  <thead>\n",
       "    <tr style=\"text-align: right;\">\n",
       "      <th></th>\n",
       "      <th>time</th>\n",
       "      <th>open</th>\n",
       "      <th>high</th>\n",
       "      <th>low</th>\n",
       "      <th>close</th>\n",
       "      <th>body_lower</th>\n",
       "      <th>body_upper</th>\n",
       "      <th>body_bottom_perc</th>\n",
       "      <th>body_top_perc</th>\n",
       "      <th>body_perc</th>\n",
       "      <th>...</th>\n",
       "      <th>KeLo</th>\n",
       "      <th>MACD</th>\n",
       "      <th>SIGNAL_MACD</th>\n",
       "      <th>HIST</th>\n",
       "      <th>pivots_l</th>\n",
       "      <th>pivots_h</th>\n",
       "      <th>low_perv</th>\n",
       "      <th>high_perv</th>\n",
       "      <th>low_next</th>\n",
       "      <th>high_next</th>\n",
       "    </tr>\n",
       "  </thead>\n",
       "  <tbody>\n",
       "    <tr>\n",
       "      <th>0</th>\n",
       "      <td>2020-01-06 03:00:00</td>\n",
       "      <td>1.30789</td>\n",
       "      <td>1.30806</td>\n",
       "      <td>1.30743</td>\n",
       "      <td>1.30783</td>\n",
       "      <td>1.30783</td>\n",
       "      <td>1.30789</td>\n",
       "      <td>63.492063</td>\n",
       "      <td>73.015873</td>\n",
       "      <td>9.523810</td>\n",
       "      <td>...</td>\n",
       "      <td>1.305453</td>\n",
       "      <td>-0.000768</td>\n",
       "      <td>-0.000886</td>\n",
       "      <td>0.000118</td>\n",
       "      <td>True</td>\n",
       "      <td>False</td>\n",
       "      <td>1.30759</td>\n",
       "      <td>1.30871</td>\n",
       "      <td>1.30778</td>\n",
       "      <td>1.30874</td>\n",
       "    </tr>\n",
       "    <tr>\n",
       "      <th>1</th>\n",
       "      <td>2020-01-06 04:00:00</td>\n",
       "      <td>1.30778</td>\n",
       "      <td>1.30874</td>\n",
       "      <td>1.30778</td>\n",
       "      <td>1.30863</td>\n",
       "      <td>1.30778</td>\n",
       "      <td>1.30863</td>\n",
       "      <td>0.000000</td>\n",
       "      <td>88.541667</td>\n",
       "      <td>88.541667</td>\n",
       "      <td>...</td>\n",
       "      <td>1.305891</td>\n",
       "      <td>-0.000647</td>\n",
       "      <td>-0.000832</td>\n",
       "      <td>0.000185</td>\n",
       "      <td>False</td>\n",
       "      <td>False</td>\n",
       "      <td>1.30743</td>\n",
       "      <td>1.30806</td>\n",
       "      <td>1.30798</td>\n",
       "      <td>1.30894</td>\n",
       "    </tr>\n",
       "    <tr>\n",
       "      <th>2</th>\n",
       "      <td>2020-01-06 05:00:00</td>\n",
       "      <td>1.30861</td>\n",
       "      <td>1.30894</td>\n",
       "      <td>1.30798</td>\n",
       "      <td>1.30810</td>\n",
       "      <td>1.30810</td>\n",
       "      <td>1.30861</td>\n",
       "      <td>12.500000</td>\n",
       "      <td>65.625000</td>\n",
       "      <td>53.125000</td>\n",
       "      <td>...</td>\n",
       "      <td>1.305948</td>\n",
       "      <td>-0.000586</td>\n",
       "      <td>-0.000778</td>\n",
       "      <td>0.000193</td>\n",
       "      <td>False</td>\n",
       "      <td>True</td>\n",
       "      <td>1.30778</td>\n",
       "      <td>1.30874</td>\n",
       "      <td>1.30798</td>\n",
       "      <td>1.30859</td>\n",
       "    </tr>\n",
       "    <tr>\n",
       "      <th>3</th>\n",
       "      <td>2020-01-06 06:00:00</td>\n",
       "      <td>1.30808</td>\n",
       "      <td>1.30859</td>\n",
       "      <td>1.30798</td>\n",
       "      <td>1.30831</td>\n",
       "      <td>1.30808</td>\n",
       "      <td>1.30831</td>\n",
       "      <td>16.393443</td>\n",
       "      <td>54.098361</td>\n",
       "      <td>37.704918</td>\n",
       "      <td>...</td>\n",
       "      <td>1.306168</td>\n",
       "      <td>-0.000514</td>\n",
       "      <td>-0.000722</td>\n",
       "      <td>0.000207</td>\n",
       "      <td>False</td>\n",
       "      <td>False</td>\n",
       "      <td>1.30798</td>\n",
       "      <td>1.30894</td>\n",
       "      <td>1.30788</td>\n",
       "      <td>1.30850</td>\n",
       "    </tr>\n",
       "    <tr>\n",
       "      <th>4</th>\n",
       "      <td>2020-01-06 07:00:00</td>\n",
       "      <td>1.30830</td>\n",
       "      <td>1.30850</td>\n",
       "      <td>1.30788</td>\n",
       "      <td>1.30799</td>\n",
       "      <td>1.30799</td>\n",
       "      <td>1.30830</td>\n",
       "      <td>17.741935</td>\n",
       "      <td>67.741935</td>\n",
       "      <td>50.000000</td>\n",
       "      <td>...</td>\n",
       "      <td>1.306212</td>\n",
       "      <td>-0.000477</td>\n",
       "      <td>-0.000670</td>\n",
       "      <td>0.000193</td>\n",
       "      <td>False</td>\n",
       "      <td>False</td>\n",
       "      <td>1.30798</td>\n",
       "      <td>1.30859</td>\n",
       "      <td>1.30676</td>\n",
       "      <td>1.30824</td>\n",
       "    </tr>\n",
       "    <tr>\n",
       "      <th>...</th>\n",
       "      <td>...</td>\n",
       "      <td>...</td>\n",
       "      <td>...</td>\n",
       "      <td>...</td>\n",
       "      <td>...</td>\n",
       "      <td>...</td>\n",
       "      <td>...</td>\n",
       "      <td>...</td>\n",
       "      <td>...</td>\n",
       "      <td>...</td>\n",
       "      <td>...</td>\n",
       "      <td>...</td>\n",
       "      <td>...</td>\n",
       "      <td>...</td>\n",
       "      <td>...</td>\n",
       "      <td>...</td>\n",
       "      <td>...</td>\n",
       "      <td>...</td>\n",
       "      <td>...</td>\n",
       "      <td>...</td>\n",
       "      <td>...</td>\n",
       "    </tr>\n",
       "    <tr>\n",
       "      <th>19957</th>\n",
       "      <td>2023-03-23 10:00:00</td>\n",
       "      <td>1.23105</td>\n",
       "      <td>1.23286</td>\n",
       "      <td>1.23045</td>\n",
       "      <td>1.23206</td>\n",
       "      <td>1.23105</td>\n",
       "      <td>1.23206</td>\n",
       "      <td>24.896266</td>\n",
       "      <td>66.804979</td>\n",
       "      <td>41.908714</td>\n",
       "      <td>...</td>\n",
       "      <td>1.225284</td>\n",
       "      <td>0.001976</td>\n",
       "      <td>0.001679</td>\n",
       "      <td>0.000297</td>\n",
       "      <td>True</td>\n",
       "      <td>False</td>\n",
       "      <td>1.23048</td>\n",
       "      <td>1.23434</td>\n",
       "      <td>1.23088</td>\n",
       "      <td>1.23319</td>\n",
       "    </tr>\n",
       "    <tr>\n",
       "      <th>19958</th>\n",
       "      <td>2023-03-23 11:00:00</td>\n",
       "      <td>1.23206</td>\n",
       "      <td>1.23319</td>\n",
       "      <td>1.23088</td>\n",
       "      <td>1.23153</td>\n",
       "      <td>1.23153</td>\n",
       "      <td>1.23206</td>\n",
       "      <td>28.138528</td>\n",
       "      <td>51.082251</td>\n",
       "      <td>22.943723</td>\n",
       "      <td>...</td>\n",
       "      <td>1.225349</td>\n",
       "      <td>0.001921</td>\n",
       "      <td>0.001728</td>\n",
       "      <td>0.000193</td>\n",
       "      <td>False</td>\n",
       "      <td>True</td>\n",
       "      <td>1.23045</td>\n",
       "      <td>1.23286</td>\n",
       "      <td>1.22841</td>\n",
       "      <td>1.23162</td>\n",
       "    </tr>\n",
       "    <tr>\n",
       "      <th>19959</th>\n",
       "      <td>2023-03-23 12:00:00</td>\n",
       "      <td>1.23154</td>\n",
       "      <td>1.23162</td>\n",
       "      <td>1.22841</td>\n",
       "      <td>1.22886</td>\n",
       "      <td>1.22886</td>\n",
       "      <td>1.23154</td>\n",
       "      <td>14.018692</td>\n",
       "      <td>97.507788</td>\n",
       "      <td>83.489097</td>\n",
       "      <td>...</td>\n",
       "      <td>1.224966</td>\n",
       "      <td>0.001643</td>\n",
       "      <td>0.001711</td>\n",
       "      <td>-0.000067</td>\n",
       "      <td>False</td>\n",
       "      <td>False</td>\n",
       "      <td>1.23088</td>\n",
       "      <td>1.23319</td>\n",
       "      <td>1.22822</td>\n",
       "      <td>1.23070</td>\n",
       "    </tr>\n",
       "    <tr>\n",
       "      <th>19960</th>\n",
       "      <td>2023-03-23 13:00:00</td>\n",
       "      <td>1.22886</td>\n",
       "      <td>1.23070</td>\n",
       "      <td>1.22822</td>\n",
       "      <td>1.23026</td>\n",
       "      <td>1.22886</td>\n",
       "      <td>1.23026</td>\n",
       "      <td>25.806452</td>\n",
       "      <td>82.258065</td>\n",
       "      <td>56.451613</td>\n",
       "      <td>...</td>\n",
       "      <td>1.224774</td>\n",
       "      <td>0.001519</td>\n",
       "      <td>0.001672</td>\n",
       "      <td>-0.000154</td>\n",
       "      <td>False</td>\n",
       "      <td>False</td>\n",
       "      <td>1.22841</td>\n",
       "      <td>1.23162</td>\n",
       "      <td>1.22650</td>\n",
       "      <td>1.23375</td>\n",
       "    </tr>\n",
       "    <tr>\n",
       "      <th>19961</th>\n",
       "      <td>2023-03-23 14:00:00</td>\n",
       "      <td>1.23026</td>\n",
       "      <td>1.23375</td>\n",
       "      <td>1.22650</td>\n",
       "      <td>1.22752</td>\n",
       "      <td>1.22752</td>\n",
       "      <td>1.23026</td>\n",
       "      <td>14.068966</td>\n",
       "      <td>51.862069</td>\n",
       "      <td>37.793103</td>\n",
       "      <td>...</td>\n",
       "      <td>1.223839</td>\n",
       "      <td>0.001185</td>\n",
       "      <td>0.001575</td>\n",
       "      <td>-0.000390</td>\n",
       "      <td>True</td>\n",
       "      <td>True</td>\n",
       "      <td>1.22822</td>\n",
       "      <td>1.23070</td>\n",
       "      <td>1.22732</td>\n",
       "      <td>1.23184</td>\n",
       "    </tr>\n",
       "  </tbody>\n",
       "</table>\n",
       "<p>19962 rows × 48 columns</p>\n",
       "</div>"
      ],
      "text/plain": [
       "                     time     open     high      low    close  body_lower  \\\n",
       "0     2020-01-06 03:00:00  1.30789  1.30806  1.30743  1.30783     1.30783   \n",
       "1     2020-01-06 04:00:00  1.30778  1.30874  1.30778  1.30863     1.30778   \n",
       "2     2020-01-06 05:00:00  1.30861  1.30894  1.30798  1.30810     1.30810   \n",
       "3     2020-01-06 06:00:00  1.30808  1.30859  1.30798  1.30831     1.30808   \n",
       "4     2020-01-06 07:00:00  1.30830  1.30850  1.30788  1.30799     1.30799   \n",
       "...                   ...      ...      ...      ...      ...         ...   \n",
       "19957 2023-03-23 10:00:00  1.23105  1.23286  1.23045  1.23206     1.23105   \n",
       "19958 2023-03-23 11:00:00  1.23206  1.23319  1.23088  1.23153     1.23153   \n",
       "19959 2023-03-23 12:00:00  1.23154  1.23162  1.22841  1.22886     1.22886   \n",
       "19960 2023-03-23 13:00:00  1.22886  1.23070  1.22822  1.23026     1.22886   \n",
       "19961 2023-03-23 14:00:00  1.23026  1.23375  1.22650  1.22752     1.22752   \n",
       "\n",
       "       body_upper  body_bottom_perc  body_top_perc  body_perc  ...      KeLo  \\\n",
       "0         1.30789         63.492063      73.015873   9.523810  ...  1.305453   \n",
       "1         1.30863          0.000000      88.541667  88.541667  ...  1.305891   \n",
       "2         1.30861         12.500000      65.625000  53.125000  ...  1.305948   \n",
       "3         1.30831         16.393443      54.098361  37.704918  ...  1.306168   \n",
       "4         1.30830         17.741935      67.741935  50.000000  ...  1.306212   \n",
       "...           ...               ...            ...        ...  ...       ...   \n",
       "19957     1.23206         24.896266      66.804979  41.908714  ...  1.225284   \n",
       "19958     1.23206         28.138528      51.082251  22.943723  ...  1.225349   \n",
       "19959     1.23154         14.018692      97.507788  83.489097  ...  1.224966   \n",
       "19960     1.23026         25.806452      82.258065  56.451613  ...  1.224774   \n",
       "19961     1.23026         14.068966      51.862069  37.793103  ...  1.223839   \n",
       "\n",
       "           MACD  SIGNAL_MACD      HIST  pivots_l  pivots_h  low_perv  \\\n",
       "0     -0.000768    -0.000886  0.000118      True     False   1.30759   \n",
       "1     -0.000647    -0.000832  0.000185     False     False   1.30743   \n",
       "2     -0.000586    -0.000778  0.000193     False      True   1.30778   \n",
       "3     -0.000514    -0.000722  0.000207     False     False   1.30798   \n",
       "4     -0.000477    -0.000670  0.000193     False     False   1.30798   \n",
       "...         ...          ...       ...       ...       ...       ...   \n",
       "19957  0.001976     0.001679  0.000297      True     False   1.23048   \n",
       "19958  0.001921     0.001728  0.000193     False      True   1.23045   \n",
       "19959  0.001643     0.001711 -0.000067     False     False   1.23088   \n",
       "19960  0.001519     0.001672 -0.000154     False     False   1.22841   \n",
       "19961  0.001185     0.001575 -0.000390      True      True   1.22822   \n",
       "\n",
       "       high_perv  low_next  high_next  \n",
       "0        1.30871   1.30778    1.30874  \n",
       "1        1.30806   1.30798    1.30894  \n",
       "2        1.30874   1.30798    1.30859  \n",
       "3        1.30894   1.30788    1.30850  \n",
       "4        1.30859   1.30676    1.30824  \n",
       "...          ...       ...        ...  \n",
       "19957    1.23434   1.23088    1.23319  \n",
       "19958    1.23286   1.22841    1.23162  \n",
       "19959    1.23319   1.22822    1.23070  \n",
       "19960    1.23162   1.22650    1.23375  \n",
       "19961    1.23070   1.22732    1.23184  \n",
       "\n",
       "[19962 rows x 48 columns]"
      ]
     },
     "execution_count": 8,
     "metadata": {},
     "output_type": "execute_result"
    }
   ],
   "source": [
    "df_an['pivots_l'] = False\n",
    "df_an['pivots_h'] = False\n",
    "\n",
    "df_an['low_perv'] = df_an.low.shift(1)\n",
    "df_an['high_perv'] = df_an.high.shift(1)\n",
    "df_an['low_next'] = df_an.low.shift(-1)\n",
    "df_an['high_next'] = df_an.high.shift(-1)\n",
    "df_an['pivots_l'] = (df_an.low_perv > df_an.low) & (df_an.low_next > df_an.low)\n",
    "df_an['pivots_h'] = (df_an.high_perv < df_an.high) & (df_an.high_next < df_an.high)\n",
    "df_an.dropna(inplace=True)\n",
    "df_an.reset_index(drop=True, inplace=True)\n",
    "df_an"
   ]
  },
  {
   "cell_type": "code",
   "execution_count": 9,
   "id": "affc2b72",
   "metadata": {},
   "outputs": [
    {
     "name": "stderr",
     "output_type": "stream",
     "text": [
      "C:\\Users\\meysam\\AppData\\Local\\Temp\\ipykernel_7280\\1003418580.py:26: SettingWithCopyWarning: \n",
      "A value is trying to be set on a copy of a slice from a DataFrame\n",
      "\n",
      "See the caveats in the documentation: https://pandas.pydata.org/pandas-docs/stable/user_guide/indexing.html#returning-a-view-versus-a-copy\n",
      "  df_an.SIGNAL[i] = SELL\n",
      "C:\\Users\\meysam\\AppData\\Local\\Temp\\ipykernel_7280\\1003418580.py:27: SettingWithCopyWarning: \n",
      "A value is trying to be set on a copy of a slice from a DataFrame\n",
      "\n",
      "See the caveats in the documentation: https://pandas.pydata.org/pandas-docs/stable/user_guide/indexing.html#returning-a-view-versus-a-copy\n",
      "  df_an['SL'][i] = df_an.high[i-1] #+ SPREAD\n",
      "C:\\Users\\meysam\\AppData\\Local\\Temp\\ipykernel_7280\\1003418580.py:28: SettingWithCopyWarning: \n",
      "A value is trying to be set on a copy of a slice from a DataFrame\n",
      "\n",
      "See the caveats in the documentation: https://pandas.pydata.org/pandas-docs/stable/user_guide/indexing.html#returning-a-view-versus-a-copy\n",
      "  df_an['TP'][i] = 2*(df_an.close[i] - df_an.high[i-1] ) + df_an.close[i]\n",
      "C:\\Users\\meysam\\AppData\\Local\\Temp\\ipykernel_7280\\1003418580.py:16: SettingWithCopyWarning: \n",
      "A value is trying to be set on a copy of a slice from a DataFrame\n",
      "\n",
      "See the caveats in the documentation: https://pandas.pydata.org/pandas-docs/stable/user_guide/indexing.html#returning-a-view-versus-a-copy\n",
      "  df_an.SIGNAL[i] = BUY\n"
     ]
    }
   ],
   "source": [
    "BUY = 1\n",
    "SELL = -1\n",
    "NONE = 0\n",
    "\n",
    "df_an['SIGNAL'] = 0\n",
    "df_an['TP'] = 0\n",
    "df_an['SL'] = 0\n",
    "\n",
    "for i in range(1,len(df_an)):\n",
    "    if df_an.pivots_l[i-1]:\n",
    "        for j in range(i,len(df_an)):\n",
    "            if( df_an.low[j] <= df_an.low[i-1] ):\n",
    "                break\n",
    "            else:\n",
    "                if(df_an.high[j] > 2*(df_an.close[i] - df_an.low[i-1] ) + df_an.close[i]):\n",
    "                    df_an.SIGNAL[i] = BUY\n",
    "                    df_an['SL'][i] = df_an.low[i-1] #- SPREAD\n",
    "                    df_an['TP'][i] = 2*(df_an.close[i] - df_an.low[i-1] ) + df_an.close[i] #+ SPREAD\n",
    "                    break\n",
    "    if df_an.pivots_h[i-1]:\n",
    "        for j in range(i,len(df_an)):\n",
    "            if( df_an.high[j] >= df_an.high[i-1] ):\n",
    "                break\n",
    "            else:\n",
    "                if(df_an.low[j] < 2*(df_an.close[i] - df_an.high[i-1] ) + df_an.close[i]):\n",
    "                    df_an.SIGNAL[i] = SELL\n",
    "                    df_an['SL'][i] = df_an.high[i-1] #+ SPREAD\n",
    "                    df_an['TP'][i] = 2*(df_an.close[i] - df_an.high[i-1] ) + df_an.close[i]\n",
    "                    break"
   ]
  },
  {
   "cell_type": "code",
   "execution_count": 10,
   "id": "d91a208d",
   "metadata": {},
   "outputs": [],
   "source": [
    "df_an.pivots_l = df_an.pivots_l.astype(float)\n",
    "df_an.pivots_h = df_an.pivots_h.astype(float)"
   ]
  },
  {
   "cell_type": "code",
   "execution_count": 11,
   "id": "2d579fed",
   "metadata": {},
   "outputs": [
    {
     "data": {
      "text/plain": [
       "Index(['time', 'open', 'high', 'low', 'close', 'body_lower', 'body_upper',\n",
       "       'body_bottom_perc', 'body_top_perc', 'body_perc', 'direction',\n",
       "       'body_size', 'low_change', 'high_change', 'body_size_change',\n",
       "       'mid_point', 'mid_point_prev_2', 'body_size_prev', 'direction_prev',\n",
       "       'direction_prev_2', 'body_perc_prev', 'body_perc_prev_2', 'HANGING_MAN',\n",
       "       'SHOOTING_STAR', 'SPINNING_TOP', 'MARUBOZU', 'ENGULFING', 'TWEEZER_TOP',\n",
       "       'TWEEZER_BOTTOM', 'MORNING_STAR', 'EVENING_STAR', 'RSI_14', 'BB_MA',\n",
       "       'BB_UP', 'BB_LW', 'ATR_14', 'EMA', 'KeUp', 'KeLo', 'MACD',\n",
       "       'SIGNAL_MACD', 'HIST', 'pivots_l', 'pivots_h', 'low_perv', 'high_perv',\n",
       "       'low_next', 'high_next', 'SIGNAL', 'TP', 'SL'],\n",
       "      dtype='object')"
      ]
     },
     "execution_count": 11,
     "metadata": {},
     "output_type": "execute_result"
    }
   ],
   "source": [
    "df_an.columns"
   ]
  },
  {
   "cell_type": "code",
   "execution_count": 86,
   "id": "7a47bf62",
   "metadata": {},
   "outputs": [],
   "source": [
    "X = []\n",
    "Y = [] \n",
    "feature_col = [\n",
    "    'open', 'high', 'low', 'close',\n",
    "               'RSI_14', 'ATR_14',\n",
    "    'BB_MA', 'BB_UP','BB_LW', 'EMA', 'KeUp', 'KeLo', \n",
    "    'MACD', 'SIGNAL_MACD', 'HIST',\n",
    "       'body_lower', 'body_upper', 'body_bottom_perc', 'body_top_perc',\n",
    "       'body_perc', 'direction', 'body_size', 'low_change', 'high_change', 'mid_point', 'mid_point_prev_2', 'body_size_prev',\n",
    "       'direction_prev', 'direction_prev_2', 'body_perc_prev','body_perc_prev_2',\n",
    "        'HANGING_MAN', 'SHOOTING_STAR', 'SPINNING_TOP',\n",
    "       'MARUBOZU', 'ENGULFING',\n",
    "    'TWEEZER_TOP', 'TWEEZER_BOTTOM',\n",
    "       'MORNING_STAR', 'EVENING_STAR'\n",
    "]\n",
    "indeces = []\n",
    "for i in range(4,len(df_an)):\n",
    "#     if df_an.SIGNAL[i] != NONE:\n",
    "    if df_an.pivots_h[i-1] or df_an.pivots_l[i-1] :\n",
    "        feature = []\n",
    "        feature.append(df_an.pivots_h[i-1])\n",
    "        feature.append(df_an.pivots_l[i-1])\n",
    "        feature.append(df_an.pivots_h[i-2])\n",
    "        feature.append(df_an.pivots_l[i-2])\n",
    "        feature.append(df_an.pivots_h[i-3])\n",
    "        feature.append(df_an.pivots_l[i-3])\n",
    "        feature.append(df_an.pivots_h[i-4])\n",
    "        feature.append(df_an.pivots_l[i-4])\n",
    "        for fc in feature_col:\n",
    "            feature.append(df_an[fc][i])\n",
    "            feature.append(df_an[fc][i-1])\n",
    "            feature.append(df_an[fc][i-2])\n",
    "            feature.append(df_an[fc][i-3])\n",
    "            feature.append(df_an[fc][i-4])\n",
    "\n",
    "        X.append(feature)\n",
    "        Y.append(df_an.SIGNAL[i])\n",
    "        indeces.append(i)\n",
    "        "
   ]
  },
  {
   "cell_type": "code",
   "execution_count": 87,
   "id": "0cd00cb3",
   "metadata": {},
   "outputs": [
    {
     "name": "stdout",
     "output_type": "stream",
     "text": [
      "8644\n",
      "8644\n",
      "8644\n"
     ]
    }
   ],
   "source": [
    "print(len(X))\n",
    "print(len(Y))\n",
    "print(len(indeces))"
   ]
  },
  {
   "cell_type": "code",
   "execution_count": 88,
   "id": "081b0cb3",
   "metadata": {},
   "outputs": [
    {
     "name": "stdout",
     "output_type": "stream",
     "text": [
      "208\n"
     ]
    }
   ],
   "source": [
    "print(len(feature))"
   ]
  },
  {
   "cell_type": "code",
   "execution_count": 89,
   "id": "6396070d",
   "metadata": {},
   "outputs": [],
   "source": [
    "SPLIT_INDEX = int(0.8*len(X))"
   ]
  },
  {
   "cell_type": "code",
   "execution_count": 90,
   "id": "13e3f7a6",
   "metadata": {},
   "outputs": [],
   "source": [
    "\n",
    "X_train = X[:SPLIT_INDEX]\n",
    "Y_train = Y[:SPLIT_INDEX]\n",
    "indeces_train = indeces[:SPLIT_INDEX]\n",
    "X_test = X[SPLIT_INDEX:]\n",
    "Y_test = Y[SPLIT_INDEX:]\n",
    "indeces_test = indeces[SPLIT_INDEX:]\n"
   ]
  },
  {
   "cell_type": "code",
   "execution_count": 91,
   "id": "48a10e6b",
   "metadata": {},
   "outputs": [
    {
     "name": "stdout",
     "output_type": "stream",
     "text": [
      "6915\n",
      "6915\n",
      "6915\n",
      "1729\n",
      "1729\n",
      "1729\n"
     ]
    }
   ],
   "source": [
    "print(len(X_train))\n",
    "print(len(Y_train))\n",
    "print(len(indeces_train))\n",
    "print(len(X_test))\n",
    "print(len(Y_test))\n",
    "print(len(indeces_test))"
   ]
  },
  {
   "cell_type": "code",
   "execution_count": 92,
   "id": "63d21990",
   "metadata": {},
   "outputs": [],
   "source": [
    "# scaler = StandardScaler()  \n",
    "# scaler.fit(X_train)  \n",
    "# X_train = scaler.transform(X_train)  \n",
    "# >>> # apply same transformation to test data\n",
    "# >>> X_test = scaler.transform(X_test) \n"
   ]
  },
  {
   "cell_type": "code",
   "execution_count": null,
   "id": "e8c22e69",
   "metadata": {},
   "outputs": [],
   "source": []
  },
  {
   "cell_type": "code",
   "execution_count": 93,
   "id": "2cbe2525",
   "metadata": {},
   "outputs": [],
   "source": [
    "# help(MLPClassifier)"
   ]
  },
  {
   "cell_type": "code",
   "execution_count": 94,
   "id": "610f53c5",
   "metadata": {},
   "outputs": [],
   "source": [
    "clf = MLPClassifier( solver='adam', alpha=1e-5,learning_rate_init=1e-4,\n",
    "                     tol=0.00000010,\n",
    "                    hidden_layer_sizes=(200,200), \n",
    "                    random_state=1,max_iter=100000,verbose=True,warm_start = True)\n",
    "# clf = MLPClassifier(learning_rate_init=1e-6, warm_start = True, random_state = 2,hidden_layer_sizes= (60,40),max_iter=100000,verbose=True, tol=0.00000010,n_iter_no_change=40)"
   ]
  },
  {
   "cell_type": "code",
   "execution_count": 95,
   "id": "cc192076",
   "metadata": {},
   "outputs": [
    {
     "name": "stdout",
     "output_type": "stream",
     "text": [
      "Iteration 1, loss = 2.81823984\n",
      "Iteration 2, loss = 1.60685825\n",
      "Iteration 3, loss = 1.23607110\n",
      "Iteration 4, loss = 1.09500381\n",
      "Iteration 5, loss = 1.02468854\n",
      "Iteration 6, loss = 0.97983142\n",
      "Iteration 7, loss = 0.95175996\n",
      "Iteration 8, loss = 0.92026072\n",
      "Iteration 9, loss = 0.89362001\n",
      "Iteration 10, loss = 0.87628728\n",
      "Iteration 11, loss = 0.87519531\n",
      "Iteration 12, loss = 0.85949850\n",
      "Iteration 13, loss = 0.85703907\n",
      "Iteration 14, loss = 0.84827998\n",
      "Iteration 15, loss = 0.82805833\n",
      "Iteration 16, loss = 0.81213849\n",
      "Iteration 17, loss = 0.80454821\n",
      "Iteration 18, loss = 0.79782524\n",
      "Iteration 19, loss = 0.80601206\n",
      "Iteration 20, loss = 0.81310888\n",
      "Iteration 21, loss = 0.78095543\n",
      "Iteration 22, loss = 0.77794464\n",
      "Iteration 23, loss = 0.76979371\n",
      "Iteration 24, loss = 0.76671773\n",
      "Iteration 25, loss = 0.77054499\n",
      "Iteration 26, loss = 0.75793542\n",
      "Iteration 27, loss = 0.75671381\n",
      "Iteration 28, loss = 0.74961784\n",
      "Iteration 29, loss = 0.75327875\n",
      "Iteration 30, loss = 0.74572353\n",
      "Iteration 31, loss = 0.75583170\n",
      "Iteration 32, loss = 0.73598052\n",
      "Iteration 33, loss = 0.72252222\n",
      "Iteration 34, loss = 0.72164235\n",
      "Iteration 35, loss = 0.71950216\n",
      "Iteration 36, loss = 0.72351206\n",
      "Iteration 37, loss = 0.70816553\n",
      "Iteration 38, loss = 0.70565879\n",
      "Iteration 39, loss = 0.70401513\n",
      "Iteration 40, loss = 0.70053880\n",
      "Iteration 41, loss = 0.69445133\n",
      "Iteration 42, loss = 0.68922832\n",
      "Iteration 43, loss = 0.68591404\n",
      "Iteration 44, loss = 0.68499183\n",
      "Iteration 45, loss = 0.69178783\n",
      "Iteration 46, loss = 0.67845811\n",
      "Iteration 47, loss = 0.67820075\n",
      "Iteration 48, loss = 0.67204614\n",
      "Iteration 49, loss = 0.67777701\n",
      "Iteration 50, loss = 0.66568884\n",
      "Iteration 51, loss = 0.66127336\n",
      "Iteration 52, loss = 0.65780439\n",
      "Iteration 53, loss = 0.66179061\n",
      "Iteration 54, loss = 0.66318679\n",
      "Iteration 55, loss = 0.66329738\n",
      "Iteration 56, loss = 0.66466637\n",
      "Iteration 57, loss = 0.66405384\n",
      "Iteration 58, loss = 0.65036882\n",
      "Iteration 59, loss = 0.64327625\n",
      "Iteration 60, loss = 0.63970178\n",
      "Iteration 61, loss = 0.63238564\n",
      "Iteration 62, loss = 0.63779073\n",
      "Iteration 63, loss = 0.63425966\n",
      "Iteration 64, loss = 0.64300077\n",
      "Iteration 65, loss = 0.64198283\n",
      "Iteration 66, loss = 0.62720352\n",
      "Iteration 67, loss = 0.62942470\n",
      "Iteration 68, loss = 0.62052141\n",
      "Iteration 69, loss = 0.62032873\n",
      "Iteration 70, loss = 0.62323590\n",
      "Iteration 71, loss = 0.61136626\n",
      "Iteration 72, loss = 0.62521938\n",
      "Iteration 73, loss = 0.60670414\n",
      "Iteration 74, loss = 0.61265000\n",
      "Iteration 75, loss = 0.59967708\n",
      "Iteration 76, loss = 0.60452839\n",
      "Iteration 77, loss = 0.60641481\n",
      "Iteration 78, loss = 0.60199586\n",
      "Iteration 79, loss = 0.60833122\n",
      "Iteration 80, loss = 0.59890923\n",
      "Iteration 81, loss = 0.59427672\n",
      "Iteration 82, loss = 0.59698890\n",
      "Iteration 83, loss = 0.60127496\n",
      "Iteration 84, loss = 0.58325853\n",
      "Iteration 85, loss = 0.58234837\n",
      "Iteration 86, loss = 0.58830526\n",
      "Iteration 87, loss = 0.58158466\n",
      "Iteration 88, loss = 0.58098078\n",
      "Iteration 89, loss = 0.57827411\n",
      "Iteration 90, loss = 0.58447363\n",
      "Iteration 91, loss = 0.57919858\n",
      "Iteration 92, loss = 0.57251793\n",
      "Iteration 93, loss = 0.56932840\n",
      "Iteration 94, loss = 0.56148342\n",
      "Iteration 95, loss = 0.55894043\n",
      "Iteration 96, loss = 0.55926959\n",
      "Iteration 97, loss = 0.56663622\n",
      "Iteration 98, loss = 0.55492279\n",
      "Iteration 99, loss = 0.56743729\n",
      "Iteration 100, loss = 0.56429986\n",
      "Iteration 101, loss = 0.55322972\n",
      "Iteration 102, loss = 0.55307374\n",
      "Iteration 103, loss = 0.54631032\n",
      "Iteration 104, loss = 0.54733709\n",
      "Iteration 105, loss = 0.54759689\n",
      "Iteration 106, loss = 0.53678593\n",
      "Iteration 107, loss = 0.53427175\n",
      "Iteration 108, loss = 0.53402617\n",
      "Iteration 109, loss = 0.53183125\n",
      "Iteration 110, loss = 0.55084562\n",
      "Iteration 111, loss = 0.53268900\n",
      "Iteration 112, loss = 0.53112453\n",
      "Iteration 113, loss = 0.53529800\n",
      "Iteration 114, loss = 0.52283693\n",
      "Iteration 115, loss = 0.52615795\n",
      "Iteration 116, loss = 0.53281737\n",
      "Iteration 117, loss = 0.53370887\n",
      "Iteration 118, loss = 0.51955538\n",
      "Iteration 119, loss = 0.52198620\n",
      "Iteration 120, loss = 0.51208954\n",
      "Iteration 121, loss = 0.51670461\n",
      "Iteration 122, loss = 0.51308575\n",
      "Iteration 123, loss = 0.51675006\n",
      "Iteration 124, loss = 0.50906595\n",
      "Iteration 125, loss = 0.50546287\n",
      "Iteration 126, loss = 0.50760938\n",
      "Iteration 127, loss = 0.51027611\n",
      "Iteration 128, loss = 0.51639105\n",
      "Iteration 129, loss = 0.49729335\n",
      "Iteration 130, loss = 0.50314658\n",
      "Iteration 131, loss = 0.49096984\n",
      "Iteration 132, loss = 0.50252502\n",
      "Iteration 133, loss = 0.49754378\n",
      "Iteration 134, loss = 0.49140289\n",
      "Iteration 135, loss = 0.49089125\n",
      "Iteration 136, loss = 0.48603684\n",
      "Iteration 137, loss = 0.48872107\n",
      "Iteration 138, loss = 0.49907438\n",
      "Iteration 139, loss = 0.48555799\n",
      "Iteration 140, loss = 0.47609320\n",
      "Iteration 141, loss = 0.47651039\n",
      "Iteration 142, loss = 0.49202933\n",
      "Iteration 143, loss = 0.49247618\n",
      "Iteration 144, loss = 0.48827453\n",
      "Iteration 145, loss = 0.46998962\n",
      "Iteration 146, loss = 0.46987415\n",
      "Iteration 147, loss = 0.47263018\n",
      "Iteration 148, loss = 0.48383773\n",
      "Iteration 149, loss = 0.47508156\n",
      "Iteration 150, loss = 0.46609023\n",
      "Iteration 151, loss = 0.47468298\n",
      "Iteration 152, loss = 0.46045877\n",
      "Iteration 153, loss = 0.46039122\n",
      "Iteration 154, loss = 0.45654286\n",
      "Iteration 155, loss = 0.45267037\n",
      "Iteration 156, loss = 0.45100741\n",
      "Iteration 157, loss = 0.45419596\n",
      "Iteration 158, loss = 0.45568866\n",
      "Iteration 159, loss = 0.45794314\n",
      "Iteration 160, loss = 0.46310687\n",
      "Iteration 161, loss = 0.45132434\n",
      "Iteration 162, loss = 0.45876855\n",
      "Iteration 163, loss = 0.45529744\n",
      "Iteration 164, loss = 0.44979935\n",
      "Iteration 165, loss = 0.45210995\n",
      "Iteration 166, loss = 0.43969113\n",
      "Iteration 167, loss = 0.43963058\n",
      "Iteration 168, loss = 0.44850847\n",
      "Iteration 169, loss = 0.43779372\n",
      "Iteration 170, loss = 0.44501567\n",
      "Iteration 171, loss = 0.43188177\n",
      "Iteration 172, loss = 0.43683397\n",
      "Iteration 173, loss = 0.43171742\n",
      "Iteration 174, loss = 0.44725074\n",
      "Iteration 175, loss = 0.43425137\n",
      "Iteration 176, loss = 0.43049941\n",
      "Iteration 177, loss = 0.42330272\n",
      "Iteration 178, loss = 0.42922663\n",
      "Iteration 179, loss = 0.42849709\n",
      "Iteration 180, loss = 0.42801035\n",
      "Iteration 181, loss = 0.42682005\n",
      "Iteration 182, loss = 0.41634951\n",
      "Iteration 183, loss = 0.41872767\n",
      "Iteration 184, loss = 0.41652718\n",
      "Iteration 185, loss = 0.41816604\n",
      "Iteration 186, loss = 0.41729866\n",
      "Iteration 187, loss = 0.40801048\n",
      "Iteration 188, loss = 0.41351871\n",
      "Iteration 189, loss = 0.41406171\n",
      "Iteration 190, loss = 0.40612412\n",
      "Iteration 191, loss = 0.41250505\n",
      "Iteration 192, loss = 0.41656759\n",
      "Iteration 193, loss = 0.40523279\n",
      "Iteration 194, loss = 0.40712290\n",
      "Iteration 195, loss = 0.41449282\n",
      "Iteration 196, loss = 0.40384377\n",
      "Iteration 197, loss = 0.39993445\n",
      "Iteration 198, loss = 0.39976529\n",
      "Iteration 199, loss = 0.39252085\n",
      "Iteration 200, loss = 0.39174928\n",
      "Iteration 201, loss = 0.39164265\n",
      "Iteration 202, loss = 0.39800170\n",
      "Iteration 203, loss = 0.39003274\n",
      "Iteration 204, loss = 0.38476657\n",
      "Iteration 205, loss = 0.39428382\n",
      "Iteration 206, loss = 0.38200171\n",
      "Iteration 207, loss = 0.39810498\n",
      "Iteration 208, loss = 0.38645791\n",
      "Iteration 209, loss = 0.37969760\n",
      "Iteration 210, loss = 0.38219872\n",
      "Iteration 211, loss = 0.37964639\n",
      "Iteration 212, loss = 0.37974309\n",
      "Iteration 213, loss = 0.38210662\n",
      "Iteration 214, loss = 0.38280843\n",
      "Iteration 215, loss = 0.37851122\n",
      "Iteration 216, loss = 0.37743913\n",
      "Iteration 217, loss = 0.37031237\n",
      "Iteration 218, loss = 0.37271235\n",
      "Iteration 219, loss = 0.37135027\n",
      "Iteration 220, loss = 0.37546806\n",
      "Iteration 221, loss = 0.36887366\n",
      "Iteration 222, loss = 0.37144560\n",
      "Iteration 223, loss = 0.36556470\n",
      "Iteration 224, loss = 0.37273757\n",
      "Iteration 225, loss = 0.36944482\n",
      "Iteration 226, loss = 0.35992971\n",
      "Iteration 227, loss = 0.36186559\n",
      "Iteration 228, loss = 0.36956276\n",
      "Iteration 229, loss = 0.35880735\n",
      "Iteration 230, loss = 0.36484216\n",
      "Iteration 231, loss = 0.36161381\n",
      "Iteration 232, loss = 0.35999354\n",
      "Iteration 233, loss = 0.35861795\n",
      "Iteration 234, loss = 0.35226255\n",
      "Iteration 235, loss = 0.35388239\n",
      "Iteration 236, loss = 0.35234451\n",
      "Iteration 237, loss = 0.34984306\n",
      "Iteration 238, loss = 0.34410487\n",
      "Iteration 239, loss = 0.35524445\n",
      "Iteration 240, loss = 0.34248660\n",
      "Iteration 241, loss = 0.35218121\n",
      "Iteration 242, loss = 0.34533416\n",
      "Iteration 243, loss = 0.34918398\n",
      "Iteration 244, loss = 0.34274267\n",
      "Iteration 245, loss = 0.34172858\n",
      "Iteration 246, loss = 0.33553452\n",
      "Iteration 247, loss = 0.33855907\n",
      "Iteration 248, loss = 0.33562591\n",
      "Iteration 249, loss = 0.33996801\n",
      "Iteration 250, loss = 0.33311061\n",
      "Iteration 251, loss = 0.33311619\n",
      "Iteration 252, loss = 0.33618955\n"
     ]
    },
    {
     "name": "stdout",
     "output_type": "stream",
     "text": [
      "Iteration 253, loss = 0.33434673\n",
      "Iteration 254, loss = 0.32576850\n",
      "Iteration 255, loss = 0.32625982\n",
      "Iteration 256, loss = 0.33428712\n",
      "Iteration 257, loss = 0.32793236\n",
      "Iteration 258, loss = 0.32882939\n",
      "Iteration 259, loss = 0.31906245\n",
      "Iteration 260, loss = 0.32527378\n",
      "Iteration 261, loss = 0.33844237\n",
      "Iteration 262, loss = 0.34415995\n",
      "Iteration 263, loss = 0.32201556\n",
      "Iteration 264, loss = 0.31727778\n",
      "Iteration 265, loss = 0.32198360\n",
      "Iteration 266, loss = 0.31282091\n",
      "Iteration 267, loss = 0.31219966\n",
      "Iteration 268, loss = 0.31146137\n",
      "Iteration 269, loss = 0.31437417\n",
      "Iteration 270, loss = 0.31492781\n",
      "Iteration 271, loss = 0.31158951\n",
      "Iteration 272, loss = 0.30677426\n",
      "Iteration 273, loss = 0.30523899\n",
      "Iteration 274, loss = 0.31214175\n",
      "Iteration 275, loss = 0.30908725\n",
      "Iteration 276, loss = 0.30196317\n",
      "Iteration 277, loss = 0.31175189\n",
      "Iteration 278, loss = 0.30112538\n",
      "Iteration 279, loss = 0.30286003\n",
      "Iteration 280, loss = 0.30723441\n",
      "Iteration 281, loss = 0.30578265\n",
      "Iteration 282, loss = 0.29571649\n",
      "Iteration 283, loss = 0.29662902\n",
      "Iteration 284, loss = 0.29398206\n",
      "Iteration 285, loss = 0.30659214\n",
      "Iteration 286, loss = 0.30933971\n",
      "Iteration 287, loss = 0.30344517\n",
      "Iteration 288, loss = 0.30261784\n",
      "Iteration 289, loss = 0.29640227\n",
      "Iteration 290, loss = 0.29059692\n",
      "Iteration 291, loss = 0.29208285\n",
      "Iteration 292, loss = 0.29435645\n",
      "Iteration 293, loss = 0.28644350\n",
      "Iteration 294, loss = 0.29469878\n",
      "Iteration 295, loss = 0.28771170\n",
      "Iteration 296, loss = 0.28565795\n",
      "Iteration 297, loss = 0.30279467\n",
      "Iteration 298, loss = 0.29020973\n",
      "Iteration 299, loss = 0.28050081\n",
      "Iteration 300, loss = 0.28250980\n",
      "Iteration 301, loss = 0.28407249\n",
      "Iteration 302, loss = 0.28216537\n",
      "Iteration 303, loss = 0.27332049\n",
      "Iteration 304, loss = 0.27542150\n",
      "Iteration 305, loss = 0.27214960\n",
      "Iteration 306, loss = 0.27028996\n",
      "Iteration 307, loss = 0.27041460\n",
      "Iteration 308, loss = 0.27715098\n",
      "Iteration 309, loss = 0.27605120\n",
      "Iteration 310, loss = 0.27345068\n",
      "Iteration 311, loss = 0.27031852\n",
      "Iteration 312, loss = 0.27265622\n",
      "Iteration 313, loss = 0.26698434\n",
      "Iteration 314, loss = 0.26599613\n",
      "Iteration 315, loss = 0.26349392\n",
      "Iteration 316, loss = 0.26631378\n",
      "Iteration 317, loss = 0.26644239\n",
      "Iteration 318, loss = 0.27971588\n",
      "Iteration 319, loss = 0.26464854\n",
      "Iteration 320, loss = 0.26315945\n",
      "Iteration 321, loss = 0.26536130\n",
      "Iteration 322, loss = 0.25761750\n",
      "Iteration 323, loss = 0.25549346\n",
      "Iteration 324, loss = 0.25588017\n",
      "Iteration 325, loss = 0.25711260\n",
      "Iteration 326, loss = 0.26423955\n",
      "Iteration 327, loss = 0.26216657\n",
      "Iteration 328, loss = 0.24896545\n",
      "Iteration 329, loss = 0.25088704\n",
      "Iteration 330, loss = 0.25435640\n",
      "Iteration 331, loss = 0.26027975\n",
      "Iteration 332, loss = 0.24984720\n",
      "Iteration 333, loss = 0.24915494\n",
      "Iteration 334, loss = 0.25124155\n",
      "Iteration 335, loss = 0.24632559\n",
      "Iteration 336, loss = 0.24804351\n",
      "Iteration 337, loss = 0.25739577\n",
      "Iteration 338, loss = 0.24638536\n",
      "Iteration 339, loss = 0.24249333\n",
      "Iteration 340, loss = 0.25999398\n",
      "Iteration 341, loss = 0.24223482\n",
      "Iteration 342, loss = 0.23920129\n",
      "Iteration 343, loss = 0.24395262\n",
      "Iteration 344, loss = 0.24328335\n",
      "Iteration 345, loss = 0.23953836\n",
      "Iteration 346, loss = 0.23499572\n",
      "Iteration 347, loss = 0.23771763\n",
      "Iteration 348, loss = 0.23525028\n",
      "Iteration 349, loss = 0.23450855\n",
      "Iteration 350, loss = 0.23378500\n",
      "Iteration 351, loss = 0.23860407\n",
      "Iteration 352, loss = 0.23224072\n",
      "Iteration 353, loss = 0.23060226\n",
      "Iteration 354, loss = 0.23230936\n",
      "Iteration 355, loss = 0.23052284\n",
      "Iteration 356, loss = 0.22586863\n",
      "Iteration 357, loss = 0.22579601\n",
      "Iteration 358, loss = 0.23750818\n",
      "Iteration 359, loss = 0.23405734\n",
      "Iteration 360, loss = 0.22392040\n",
      "Iteration 361, loss = 0.22832811\n",
      "Iteration 362, loss = 0.22134871\n",
      "Iteration 363, loss = 0.22057433\n",
      "Iteration 364, loss = 0.22278520\n",
      "Iteration 365, loss = 0.22114534\n",
      "Iteration 366, loss = 0.22042543\n",
      "Iteration 367, loss = 0.22330364\n",
      "Iteration 368, loss = 0.23241616\n",
      "Iteration 369, loss = 0.21985569\n",
      "Iteration 370, loss = 0.22011965\n",
      "Iteration 371, loss = 0.21550543\n",
      "Iteration 372, loss = 0.21869696\n",
      "Iteration 373, loss = 0.21522947\n",
      "Iteration 374, loss = 0.21233788\n",
      "Iteration 375, loss = 0.21348969\n",
      "Iteration 376, loss = 0.21268493\n",
      "Iteration 377, loss = 0.20628766\n",
      "Iteration 378, loss = 0.20811092\n",
      "Iteration 379, loss = 0.21022885\n",
      "Iteration 380, loss = 0.21277043\n",
      "Iteration 381, loss = 0.21592537\n",
      "Iteration 382, loss = 0.21130292\n",
      "Iteration 383, loss = 0.20906228\n",
      "Iteration 384, loss = 0.20840527\n",
      "Iteration 385, loss = 0.21015021\n",
      "Iteration 386, loss = 0.19856333\n",
      "Iteration 387, loss = 0.20041251\n",
      "Iteration 388, loss = 0.20238590\n",
      "Iteration 389, loss = 0.21510879\n",
      "Iteration 390, loss = 0.20210470\n",
      "Iteration 391, loss = 0.19839987\n",
      "Iteration 392, loss = 0.19861056\n",
      "Iteration 393, loss = 0.19403995\n",
      "Iteration 394, loss = 0.19588877\n",
      "Iteration 395, loss = 0.19238777\n",
      "Iteration 396, loss = 0.19054642\n",
      "Iteration 397, loss = 0.19090668\n",
      "Iteration 398, loss = 0.19688292\n",
      "Iteration 399, loss = 0.19445113\n",
      "Iteration 400, loss = 0.19381290\n",
      "Iteration 401, loss = 0.18998404\n",
      "Iteration 402, loss = 0.19365712\n",
      "Iteration 403, loss = 0.19172992\n",
      "Iteration 404, loss = 0.18316365\n",
      "Iteration 405, loss = 0.18552862\n",
      "Iteration 406, loss = 0.18561884\n",
      "Iteration 407, loss = 0.18678244\n",
      "Iteration 408, loss = 0.18629792\n",
      "Iteration 409, loss = 0.19539717\n",
      "Iteration 410, loss = 0.18899046\n",
      "Iteration 411, loss = 0.17978913\n",
      "Iteration 412, loss = 0.18494586\n",
      "Iteration 413, loss = 0.18911722\n",
      "Iteration 414, loss = 0.18429152\n",
      "Iteration 415, loss = 0.18296840\n",
      "Iteration 416, loss = 0.18312877\n",
      "Iteration 417, loss = 0.18285760\n",
      "Iteration 418, loss = 0.18101988\n",
      "Iteration 419, loss = 0.18192978\n",
      "Iteration 420, loss = 0.17719611\n",
      "Iteration 421, loss = 0.17884253\n",
      "Iteration 422, loss = 0.18249181\n",
      "Iteration 423, loss = 0.17183271\n",
      "Iteration 424, loss = 0.17643983\n",
      "Iteration 425, loss = 0.17045326\n",
      "Iteration 426, loss = 0.17381947\n",
      "Iteration 427, loss = 0.17457305\n",
      "Iteration 428, loss = 0.17963592\n",
      "Iteration 429, loss = 0.17093663\n",
      "Iteration 430, loss = 0.17454592\n",
      "Iteration 431, loss = 0.17062861\n",
      "Iteration 432, loss = 0.18174823\n",
      "Iteration 433, loss = 0.16883154\n",
      "Iteration 434, loss = 0.16631362\n",
      "Iteration 435, loss = 0.16492345\n",
      "Iteration 436, loss = 0.16507372\n",
      "Iteration 437, loss = 0.16425680\n",
      "Iteration 438, loss = 0.16539000\n",
      "Iteration 439, loss = 0.16954684\n",
      "Iteration 440, loss = 0.16117240\n",
      "Iteration 441, loss = 0.16356183\n",
      "Iteration 442, loss = 0.16092252\n",
      "Iteration 443, loss = 0.15971238\n",
      "Iteration 444, loss = 0.15782645\n",
      "Iteration 445, loss = 0.15866503\n",
      "Iteration 446, loss = 0.15843681\n",
      "Iteration 447, loss = 0.16308777\n",
      "Iteration 448, loss = 0.17164258\n",
      "Iteration 449, loss = 0.15628852\n",
      "Iteration 450, loss = 0.16007918\n",
      "Iteration 451, loss = 0.15464719\n",
      "Iteration 452, loss = 0.15273000\n",
      "Iteration 453, loss = 0.15561474\n",
      "Iteration 454, loss = 0.15813022\n",
      "Iteration 455, loss = 0.14989742\n",
      "Iteration 456, loss = 0.14947800\n",
      "Iteration 457, loss = 0.15184485\n",
      "Iteration 458, loss = 0.15495805\n",
      "Iteration 459, loss = 0.15322833\n",
      "Iteration 460, loss = 0.14690352\n",
      "Iteration 461, loss = 0.14841589\n",
      "Iteration 462, loss = 0.15348751\n",
      "Iteration 463, loss = 0.14834451\n",
      "Iteration 464, loss = 0.14345183\n",
      "Iteration 465, loss = 0.15058338\n",
      "Iteration 466, loss = 0.14500068\n",
      "Iteration 467, loss = 0.14680654\n",
      "Iteration 468, loss = 0.14406689\n",
      "Iteration 469, loss = 0.14603852\n",
      "Iteration 470, loss = 0.14177230\n",
      "Iteration 471, loss = 0.14235311\n",
      "Iteration 472, loss = 0.14597025\n",
      "Iteration 473, loss = 0.13965063\n",
      "Iteration 474, loss = 0.14354931\n",
      "Iteration 475, loss = 0.13942228\n",
      "Iteration 476, loss = 0.14069968\n",
      "Iteration 477, loss = 0.14225783\n",
      "Iteration 478, loss = 0.14212090\n",
      "Iteration 479, loss = 0.13904415\n",
      "Iteration 480, loss = 0.13661023\n",
      "Iteration 481, loss = 0.13575855\n",
      "Iteration 482, loss = 0.13623745\n",
      "Iteration 483, loss = 0.13522990\n",
      "Iteration 484, loss = 0.13468724\n",
      "Iteration 485, loss = 0.13369909\n",
      "Iteration 486, loss = 0.13686702\n",
      "Iteration 487, loss = 0.13393127\n",
      "Iteration 488, loss = 0.14075626\n",
      "Iteration 489, loss = 0.13872281\n",
      "Iteration 490, loss = 0.12819574\n",
      "Iteration 491, loss = 0.12700677\n",
      "Iteration 492, loss = 0.13089516\n",
      "Iteration 493, loss = 0.13187165\n",
      "Iteration 494, loss = 0.13113457\n",
      "Iteration 495, loss = 0.13045498\n",
      "Iteration 496, loss = 0.12561355\n",
      "Iteration 497, loss = 0.12739313\n",
      "Iteration 498, loss = 0.12501595\n",
      "Iteration 499, loss = 0.12830947\n",
      "Iteration 500, loss = 0.12380781\n",
      "Iteration 501, loss = 0.12281070\n"
     ]
    },
    {
     "name": "stdout",
     "output_type": "stream",
     "text": [
      "Iteration 502, loss = 0.12981774\n",
      "Iteration 503, loss = 0.12478021\n",
      "Iteration 504, loss = 0.12595128\n",
      "Iteration 505, loss = 0.12596103\n",
      "Iteration 506, loss = 0.12611814\n",
      "Iteration 507, loss = 0.12273806\n",
      "Iteration 508, loss = 0.12124893\n",
      "Iteration 509, loss = 0.12602012\n",
      "Iteration 510, loss = 0.12077756\n",
      "Iteration 511, loss = 0.12059760\n",
      "Iteration 512, loss = 0.11815795\n",
      "Iteration 513, loss = 0.12026037\n",
      "Iteration 514, loss = 0.11863373\n",
      "Iteration 515, loss = 0.11762214\n",
      "Iteration 516, loss = 0.11549899\n",
      "Iteration 517, loss = 0.11507188\n",
      "Iteration 518, loss = 0.11374947\n",
      "Iteration 519, loss = 0.12169364\n",
      "Iteration 520, loss = 0.11460063\n",
      "Iteration 521, loss = 0.11664189\n",
      "Iteration 522, loss = 0.11591479\n",
      "Iteration 523, loss = 0.11513578\n",
      "Iteration 524, loss = 0.11311039\n",
      "Iteration 525, loss = 0.11005288\n",
      "Iteration 526, loss = 0.11307398\n",
      "Iteration 527, loss = 0.11384323\n",
      "Iteration 528, loss = 0.11012099\n",
      "Iteration 529, loss = 0.11221071\n",
      "Iteration 530, loss = 0.11097017\n",
      "Iteration 531, loss = 0.11266181\n",
      "Iteration 532, loss = 0.10954290\n",
      "Iteration 533, loss = 0.10371677\n",
      "Iteration 534, loss = 0.10814905\n",
      "Iteration 535, loss = 0.10718712\n",
      "Iteration 536, loss = 0.10886568\n",
      "Iteration 537, loss = 0.10794902\n",
      "Iteration 538, loss = 0.10796314\n",
      "Iteration 539, loss = 0.10878744\n",
      "Iteration 540, loss = 0.11521948\n",
      "Iteration 541, loss = 0.10219082\n",
      "Iteration 542, loss = 0.10457811\n",
      "Iteration 543, loss = 0.10079541\n",
      "Iteration 544, loss = 0.11061743\n",
      "Iteration 545, loss = 0.10890593\n",
      "Iteration 546, loss = 0.09966530\n",
      "Iteration 547, loss = 0.10837999\n",
      "Iteration 548, loss = 0.10037301\n",
      "Iteration 549, loss = 0.09613032\n",
      "Iteration 550, loss = 0.10279121\n",
      "Iteration 551, loss = 0.09967132\n",
      "Iteration 552, loss = 0.10005017\n",
      "Iteration 553, loss = 0.09649796\n",
      "Iteration 554, loss = 0.09418780\n",
      "Iteration 555, loss = 0.09494714\n",
      "Iteration 556, loss = 0.09391085\n",
      "Iteration 557, loss = 0.09503656\n",
      "Iteration 558, loss = 0.09621311\n",
      "Iteration 559, loss = 0.10059438\n",
      "Iteration 560, loss = 0.09830720\n",
      "Iteration 561, loss = 0.08975341\n",
      "Iteration 562, loss = 0.09265617\n",
      "Iteration 563, loss = 0.09716526\n",
      "Iteration 564, loss = 0.09382078\n",
      "Iteration 565, loss = 0.10308949\n",
      "Iteration 566, loss = 0.09281914\n",
      "Iteration 567, loss = 0.09211589\n",
      "Iteration 568, loss = 0.09032794\n",
      "Iteration 569, loss = 0.08914777\n",
      "Iteration 570, loss = 0.08709218\n",
      "Iteration 571, loss = 0.08709070\n",
      "Iteration 572, loss = 0.08814090\n",
      "Iteration 573, loss = 0.08830121\n",
      "Iteration 574, loss = 0.08727961\n",
      "Iteration 575, loss = 0.09116658\n",
      "Iteration 576, loss = 0.08567296\n",
      "Iteration 577, loss = 0.08386569\n",
      "Iteration 578, loss = 0.08725870\n",
      "Iteration 579, loss = 0.08859808\n",
      "Iteration 580, loss = 0.08427339\n",
      "Iteration 581, loss = 0.08300337\n",
      "Iteration 582, loss = 0.08311617\n",
      "Iteration 583, loss = 0.08678996\n",
      "Iteration 584, loss = 0.08274813\n",
      "Iteration 585, loss = 0.08571578\n",
      "Iteration 586, loss = 0.08524802\n",
      "Iteration 587, loss = 0.08194395\n",
      "Iteration 588, loss = 0.08250636\n",
      "Iteration 589, loss = 0.07938157\n",
      "Iteration 590, loss = 0.07964492\n",
      "Iteration 591, loss = 0.07795202\n",
      "Iteration 592, loss = 0.08256169\n",
      "Iteration 593, loss = 0.08624168\n",
      "Iteration 594, loss = 0.07700138\n",
      "Iteration 595, loss = 0.07953240\n",
      "Iteration 596, loss = 0.07835825\n",
      "Iteration 597, loss = 0.07706896\n",
      "Iteration 598, loss = 0.07808502\n",
      "Iteration 599, loss = 0.07655790\n",
      "Iteration 600, loss = 0.07909643\n",
      "Iteration 601, loss = 0.07648857\n",
      "Iteration 602, loss = 0.07745306\n",
      "Iteration 603, loss = 0.07422237\n",
      "Iteration 604, loss = 0.07889005\n",
      "Iteration 605, loss = 0.09106008\n",
      "Iteration 606, loss = 0.07751122\n",
      "Iteration 607, loss = 0.07757342\n",
      "Iteration 608, loss = 0.07389333\n",
      "Iteration 609, loss = 0.07405413\n",
      "Iteration 610, loss = 0.07303371\n",
      "Iteration 611, loss = 0.07453482\n",
      "Iteration 612, loss = 0.07146405\n",
      "Iteration 613, loss = 0.06959531\n",
      "Iteration 614, loss = 0.06961973\n",
      "Iteration 615, loss = 0.06847525\n",
      "Iteration 616, loss = 0.07304917\n",
      "Iteration 617, loss = 0.07152071\n",
      "Iteration 618, loss = 0.06686920\n",
      "Iteration 619, loss = 0.06932487\n",
      "Iteration 620, loss = 0.06733582\n",
      "Iteration 621, loss = 0.06617549\n",
      "Iteration 622, loss = 0.07268364\n",
      "Iteration 623, loss = 0.06631756\n",
      "Iteration 624, loss = 0.06603398\n",
      "Iteration 625, loss = 0.07958535\n",
      "Iteration 626, loss = 0.07084374\n",
      "Iteration 627, loss = 0.06700082\n",
      "Iteration 628, loss = 0.06738169\n",
      "Iteration 629, loss = 0.06504650\n",
      "Iteration 630, loss = 0.06514650\n",
      "Iteration 631, loss = 0.06572439\n",
      "Iteration 632, loss = 0.06327206\n",
      "Iteration 633, loss = 0.06162932\n",
      "Iteration 634, loss = 0.06424205\n",
      "Iteration 635, loss = 0.06579373\n",
      "Iteration 636, loss = 0.06328584\n",
      "Iteration 637, loss = 0.06512848\n",
      "Iteration 638, loss = 0.06423224\n",
      "Iteration 639, loss = 0.06298913\n",
      "Iteration 640, loss = 0.06204810\n",
      "Iteration 641, loss = 0.06269624\n",
      "Iteration 642, loss = 0.06287355\n",
      "Iteration 643, loss = 0.06171316\n",
      "Iteration 644, loss = 0.05819693\n",
      "Iteration 645, loss = 0.05914622\n",
      "Iteration 646, loss = 0.06055911\n",
      "Iteration 647, loss = 0.06501553\n",
      "Iteration 648, loss = 0.06028813\n",
      "Iteration 649, loss = 0.05846931\n",
      "Iteration 650, loss = 0.05925202\n",
      "Iteration 651, loss = 0.05977049\n",
      "Iteration 652, loss = 0.05819227\n",
      "Iteration 653, loss = 0.05780361\n",
      "Iteration 654, loss = 0.05934007\n",
      "Iteration 655, loss = 0.05695336\n",
      "Iteration 656, loss = 0.05703133\n",
      "Iteration 657, loss = 0.05496488\n",
      "Iteration 658, loss = 0.05440876\n",
      "Iteration 659, loss = 0.05709334\n",
      "Iteration 660, loss = 0.05557716\n",
      "Iteration 661, loss = 0.05660920\n",
      "Iteration 662, loss = 0.05446046\n",
      "Iteration 663, loss = 0.05540791\n",
      "Iteration 664, loss = 0.06459500\n",
      "Iteration 665, loss = 0.05870656\n",
      "Iteration 666, loss = 0.05297131\n",
      "Iteration 667, loss = 0.05709717\n",
      "Iteration 668, loss = 0.05426683\n",
      "Iteration 669, loss = 0.04984990\n",
      "Iteration 670, loss = 0.05602916\n",
      "Iteration 671, loss = 0.05151472\n",
      "Iteration 672, loss = 0.05145220\n",
      "Iteration 673, loss = 0.05190774\n",
      "Iteration 674, loss = 0.04892456\n",
      "Iteration 675, loss = 0.05363854\n",
      "Iteration 676, loss = 0.05035762\n",
      "Iteration 677, loss = 0.04747828\n",
      "Iteration 678, loss = 0.04886275\n",
      "Iteration 679, loss = 0.04843997\n",
      "Iteration 680, loss = 0.04738388\n",
      "Iteration 681, loss = 0.05021794\n",
      "Iteration 682, loss = 0.05468923\n",
      "Iteration 683, loss = 0.05266269\n",
      "Iteration 684, loss = 0.04911211\n",
      "Iteration 685, loss = 0.04945771\n",
      "Iteration 686, loss = 0.04733606\n",
      "Iteration 687, loss = 0.05146344\n",
      "Iteration 688, loss = 0.04823202\n",
      "Iteration 689, loss = 0.04559280\n",
      "Iteration 690, loss = 0.04883677\n",
      "Iteration 691, loss = 0.04833804\n",
      "Iteration 692, loss = 0.04380378\n",
      "Iteration 693, loss = 0.04571983\n",
      "Iteration 694, loss = 0.04609487\n",
      "Iteration 695, loss = 0.04435382\n",
      "Iteration 696, loss = 0.04301939\n",
      "Iteration 697, loss = 0.04524357\n",
      "Iteration 698, loss = 0.04632638\n",
      "Iteration 699, loss = 0.05582012\n",
      "Iteration 700, loss = 0.04202942\n",
      "Iteration 701, loss = 0.04427159\n",
      "Iteration 702, loss = 0.04681551\n",
      "Iteration 703, loss = 0.04324244\n",
      "Iteration 704, loss = 0.04336581\n",
      "Iteration 705, loss = 0.04241619\n",
      "Iteration 706, loss = 0.04320332\n",
      "Iteration 707, loss = 0.04040007\n",
      "Iteration 708, loss = 0.04144014\n",
      "Iteration 709, loss = 0.04422276\n",
      "Iteration 710, loss = 0.04367777\n",
      "Iteration 711, loss = 0.04266039\n",
      "Iteration 712, loss = 0.04100259\n",
      "Iteration 713, loss = 0.04126540\n",
      "Iteration 714, loss = 0.04098958\n",
      "Iteration 715, loss = 0.04226666\n",
      "Iteration 716, loss = 0.04611296\n",
      "Iteration 717, loss = 0.04044011\n",
      "Iteration 718, loss = 0.03930890\n",
      "Iteration 719, loss = 0.04061534\n",
      "Iteration 720, loss = 0.03959243\n",
      "Iteration 721, loss = 0.03917015\n",
      "Iteration 722, loss = 0.03749491\n",
      "Iteration 723, loss = 0.03798911\n",
      "Iteration 724, loss = 0.03891557\n",
      "Iteration 725, loss = 0.03604586\n",
      "Iteration 726, loss = 0.03631606\n",
      "Iteration 727, loss = 0.03568205\n",
      "Iteration 728, loss = 0.03683795\n",
      "Iteration 729, loss = 0.03804998\n",
      "Iteration 730, loss = 0.03727935\n",
      "Iteration 731, loss = 0.03645750\n",
      "Iteration 732, loss = 0.03753684\n",
      "Iteration 733, loss = 0.03571862\n",
      "Iteration 734, loss = 0.03579640\n",
      "Iteration 735, loss = 0.03422958\n",
      "Iteration 736, loss = 0.03649954\n",
      "Iteration 737, loss = 0.03638340\n",
      "Iteration 738, loss = 0.03442270\n",
      "Iteration 739, loss = 0.03508612\n",
      "Iteration 740, loss = 0.03952990\n",
      "Iteration 741, loss = 0.03429103\n",
      "Iteration 742, loss = 0.03192216\n",
      "Iteration 743, loss = 0.03260258\n",
      "Iteration 744, loss = 0.03354081\n",
      "Iteration 745, loss = 0.03254817\n",
      "Iteration 746, loss = 0.03141964\n",
      "Iteration 747, loss = 0.03257964\n",
      "Iteration 748, loss = 0.03232293\n",
      "Iteration 749, loss = 0.03272400\n",
      "Iteration 750, loss = 0.03651549\n"
     ]
    },
    {
     "name": "stdout",
     "output_type": "stream",
     "text": [
      "Iteration 751, loss = 0.04230723\n",
      "Iteration 752, loss = 0.03158973\n",
      "Iteration 753, loss = 0.02988542\n",
      "Iteration 754, loss = 0.03415609\n",
      "Iteration 755, loss = 0.03101607\n",
      "Iteration 756, loss = 0.02941691\n",
      "Iteration 757, loss = 0.03297281\n",
      "Iteration 758, loss = 0.03192926\n",
      "Iteration 759, loss = 0.03083954\n",
      "Iteration 760, loss = 0.03027798\n",
      "Iteration 761, loss = 0.03264670\n",
      "Iteration 762, loss = 0.02989958\n",
      "Iteration 763, loss = 0.03619659\n",
      "Iteration 764, loss = 0.03052903\n",
      "Iteration 765, loss = 0.02819823\n",
      "Iteration 766, loss = 0.02810268\n",
      "Iteration 767, loss = 0.02763949\n",
      "Iteration 768, loss = 0.02941543\n",
      "Iteration 769, loss = 0.04032553\n",
      "Iteration 770, loss = 0.03316316\n",
      "Iteration 771, loss = 0.02801954\n",
      "Iteration 772, loss = 0.02749586\n",
      "Iteration 773, loss = 0.02672318\n",
      "Iteration 774, loss = 0.02854878\n",
      "Iteration 775, loss = 0.02747052\n",
      "Iteration 776, loss = 0.02970780\n",
      "Iteration 777, loss = 0.02656887\n",
      "Iteration 778, loss = 0.02607608\n",
      "Iteration 779, loss = 0.02889371\n",
      "Iteration 780, loss = 0.02578341\n",
      "Iteration 781, loss = 0.02549829\n",
      "Iteration 782, loss = 0.02554682\n",
      "Iteration 783, loss = 0.02477420\n",
      "Iteration 784, loss = 0.02674413\n",
      "Iteration 785, loss = 0.02568761\n",
      "Iteration 786, loss = 0.02678691\n",
      "Iteration 787, loss = 0.02620406\n",
      "Iteration 788, loss = 0.02502553\n",
      "Iteration 789, loss = 0.02373053\n",
      "Iteration 790, loss = 0.02450293\n",
      "Iteration 791, loss = 0.02356187\n",
      "Iteration 792, loss = 0.02362585\n",
      "Iteration 793, loss = 0.02837088\n",
      "Iteration 794, loss = 0.02424188\n",
      "Iteration 795, loss = 0.02821023\n",
      "Iteration 796, loss = 0.02577945\n",
      "Iteration 797, loss = 0.02417315\n",
      "Iteration 798, loss = 0.02340886\n",
      "Iteration 799, loss = 0.02185794\n",
      "Iteration 800, loss = 0.02182906\n",
      "Iteration 801, loss = 0.02119155\n",
      "Iteration 802, loss = 0.02257638\n",
      "Iteration 803, loss = 0.02547694\n",
      "Iteration 804, loss = 0.02435664\n",
      "Iteration 805, loss = 0.02263683\n",
      "Iteration 806, loss = 0.02152344\n",
      "Iteration 807, loss = 0.02242480\n",
      "Iteration 808, loss = 0.02055235\n",
      "Iteration 809, loss = 0.02071953\n",
      "Iteration 810, loss = 0.02169965\n",
      "Iteration 811, loss = 0.02105520\n",
      "Iteration 812, loss = 0.02067853\n",
      "Iteration 813, loss = 0.02099592\n",
      "Iteration 814, loss = 0.02060696\n",
      "Iteration 815, loss = 0.01991460\n",
      "Iteration 816, loss = 0.02098359\n",
      "Iteration 817, loss = 0.02113882\n",
      "Iteration 818, loss = 0.02168891\n",
      "Iteration 819, loss = 0.02279545\n",
      "Iteration 820, loss = 0.02122173\n",
      "Iteration 821, loss = 0.01948817\n",
      "Iteration 822, loss = 0.02024723\n",
      "Iteration 823, loss = 0.02095352\n",
      "Iteration 824, loss = 0.02568064\n",
      "Iteration 825, loss = 0.01994943\n",
      "Iteration 826, loss = 0.01896412\n",
      "Iteration 827, loss = 0.02102747\n",
      "Iteration 828, loss = 0.01953457\n",
      "Iteration 829, loss = 0.01879947\n",
      "Iteration 830, loss = 0.01887952\n",
      "Iteration 831, loss = 0.02231636\n",
      "Iteration 832, loss = 0.02146594\n",
      "Iteration 833, loss = 0.01986973\n",
      "Iteration 834, loss = 0.01884641\n",
      "Iteration 835, loss = 0.01784098\n",
      "Iteration 836, loss = 0.01860911\n",
      "Iteration 837, loss = 0.01733434\n",
      "Iteration 838, loss = 0.01756411\n",
      "Iteration 839, loss = 0.01702090\n",
      "Iteration 840, loss = 0.01779118\n",
      "Iteration 841, loss = 0.01786870\n",
      "Iteration 842, loss = 0.01914111\n",
      "Iteration 843, loss = 0.01878049\n",
      "Iteration 844, loss = 0.01646170\n",
      "Iteration 845, loss = 0.01772138\n",
      "Iteration 846, loss = 0.01628115\n",
      "Iteration 847, loss = 0.01573829\n",
      "Iteration 848, loss = 0.01605295\n",
      "Iteration 849, loss = 0.01579594\n",
      "Iteration 850, loss = 0.01786304\n",
      "Iteration 851, loss = 0.01860902\n",
      "Iteration 852, loss = 0.01619517\n",
      "Iteration 853, loss = 0.01670963\n",
      "Iteration 854, loss = 0.01595251\n",
      "Iteration 855, loss = 0.01893639\n",
      "Iteration 856, loss = 0.01630424\n",
      "Iteration 857, loss = 0.01565351\n",
      "Iteration 858, loss = 0.01514006\n",
      "Iteration 859, loss = 0.01457537\n",
      "Iteration 860, loss = 0.01544322\n",
      "Iteration 861, loss = 0.01594177\n",
      "Iteration 862, loss = 0.01518620\n",
      "Iteration 863, loss = 0.01450767\n",
      "Iteration 864, loss = 0.01541479\n",
      "Iteration 865, loss = 0.01699631\n",
      "Iteration 866, loss = 0.01686472\n",
      "Iteration 867, loss = 0.01543980\n",
      "Iteration 868, loss = 0.01636767\n",
      "Iteration 869, loss = 0.01412620\n",
      "Iteration 870, loss = 0.01422297\n",
      "Iteration 871, loss = 0.01340942\n",
      "Iteration 872, loss = 0.01411503\n",
      "Iteration 873, loss = 0.01613549\n",
      "Iteration 874, loss = 0.01409012\n",
      "Iteration 875, loss = 0.01286844\n",
      "Iteration 876, loss = 0.01269068\n",
      "Iteration 877, loss = 0.01364350\n",
      "Iteration 878, loss = 0.01282762\n",
      "Iteration 879, loss = 0.01345265\n",
      "Iteration 880, loss = 0.01335286\n",
      "Iteration 881, loss = 0.01506415\n",
      "Iteration 882, loss = 0.01291648\n",
      "Iteration 883, loss = 0.01450568\n",
      "Iteration 884, loss = 0.01368690\n",
      "Iteration 885, loss = 0.01449388\n",
      "Iteration 886, loss = 0.01220198\n",
      "Iteration 887, loss = 0.01240738\n",
      "Iteration 888, loss = 0.01240764\n",
      "Iteration 889, loss = 0.01249272\n",
      "Iteration 890, loss = 0.01310621\n",
      "Iteration 891, loss = 0.01181058\n",
      "Iteration 892, loss = 0.01216134\n",
      "Iteration 893, loss = 0.01211075\n",
      "Iteration 894, loss = 0.01280228\n",
      "Iteration 895, loss = 0.02479452\n",
      "Iteration 896, loss = 0.03398036\n",
      "Iteration 897, loss = 0.03063476\n",
      "Iteration 898, loss = 0.01925534\n",
      "Iteration 899, loss = 0.01336754\n",
      "Iteration 900, loss = 0.01160175\n",
      "Iteration 901, loss = 0.01120847\n",
      "Iteration 902, loss = 0.01028127\n",
      "Iteration 903, loss = 0.01052537\n",
      "Iteration 904, loss = 0.01031839\n",
      "Iteration 905, loss = 0.00984381\n",
      "Iteration 906, loss = 0.01006097\n",
      "Iteration 907, loss = 0.01089119\n",
      "Iteration 908, loss = 0.01193621\n",
      "Iteration 909, loss = 0.01011095\n",
      "Iteration 910, loss = 0.00955253\n",
      "Iteration 911, loss = 0.00997470\n",
      "Iteration 912, loss = 0.00996655\n",
      "Iteration 913, loss = 0.00969008\n",
      "Iteration 914, loss = 0.01033914\n",
      "Iteration 915, loss = 0.01037443\n",
      "Iteration 916, loss = 0.00993861\n",
      "Iteration 917, loss = 0.01012104\n",
      "Iteration 918, loss = 0.01013018\n",
      "Iteration 919, loss = 0.01006971\n",
      "Iteration 920, loss = 0.00962044\n",
      "Iteration 921, loss = 0.01151639\n",
      "Training loss did not improve more than tol=0.000000 for 10 consecutive epochs. Stopping.\n"
     ]
    },
    {
     "data": {
      "text/plain": [
       "MLPClassifier(alpha=1e-05, hidden_layer_sizes=(200, 200),\n",
       "              learning_rate_init=0.0001, max_iter=100000, random_state=1,\n",
       "              tol=1e-07, verbose=True, warm_start=True)"
      ]
     },
     "execution_count": 95,
     "metadata": {},
     "output_type": "execute_result"
    }
   ],
   "source": [
    "clf.fit(X_train, Y_train)"
   ]
  },
  {
   "cell_type": "code",
   "execution_count": 96,
   "id": "da2f01c5",
   "metadata": {},
   "outputs": [],
   "source": [
    "y_perdict = clf.predict(X_test)"
   ]
  },
  {
   "cell_type": "code",
   "execution_count": null,
   "id": "76c162c5",
   "metadata": {},
   "outputs": [],
   "source": []
  },
  {
   "cell_type": "code",
   "execution_count": 97,
   "id": "4283cb74",
   "metadata": {},
   "outputs": [
    {
     "data": {
      "text/plain": [
       "array([[138, 204,   7],\n",
       "       [197, 669, 183],\n",
       "       [  7, 186, 138]], dtype=int64)"
      ]
     },
     "execution_count": 97,
     "metadata": {},
     "output_type": "execute_result"
    }
   ],
   "source": [
    "confusion_matrix(Y_test, y_perdict)"
   ]
  },
  {
   "cell_type": "code",
   "execution_count": 98,
   "id": "56a84a5e",
   "metadata": {},
   "outputs": [],
   "source": [
    "# pickle.dump(clf, open(f\"{pair}.pickle\", \"wb\"))"
   ]
  },
  {
   "cell_type": "code",
   "execution_count": 99,
   "id": "f67abb08",
   "metadata": {},
   "outputs": [
    {
     "data": {
      "text/plain": [
       "0.5465587044534413"
      ]
     },
     "execution_count": 99,
     "metadata": {},
     "output_type": "execute_result"
    }
   ],
   "source": [
    "(Y_test==y_perdict).sum()/len(y_perdict)"
   ]
  },
  {
   "cell_type": "code",
   "execution_count": 72,
   "id": "6dc951f2",
   "metadata": {},
   "outputs": [
    {
     "name": "stdout",
     "output_type": "stream",
     "text": [
      "1729\n",
      "1729\n"
     ]
    }
   ],
   "source": [
    "print(len(indeces_test))\n",
    "print(len(y_perdict))\n",
    "# y_perdict"
   ]
  },
  {
   "cell_type": "code",
   "execution_count": 73,
   "id": "efee1e9d",
   "metadata": {},
   "outputs": [
    {
     "data": {
      "text/plain": [
       "Index(['time', 'open', 'high', 'low', 'close', 'body_lower', 'body_upper',\n",
       "       'body_bottom_perc', 'body_top_perc', 'body_perc', 'direction',\n",
       "       'body_size', 'low_change', 'high_change', 'body_size_change',\n",
       "       'mid_point', 'mid_point_prev_2', 'body_size_prev', 'direction_prev',\n",
       "       'direction_prev_2', 'body_perc_prev', 'body_perc_prev_2', 'HANGING_MAN',\n",
       "       'SHOOTING_STAR', 'SPINNING_TOP', 'MARUBOZU', 'ENGULFING', 'TWEEZER_TOP',\n",
       "       'TWEEZER_BOTTOM', 'MORNING_STAR', 'EVENING_STAR', 'RSI_14', 'BB_MA',\n",
       "       'BB_UP', 'BB_LW', 'ATR_14', 'EMA', 'KeUp', 'KeLo', 'MACD',\n",
       "       'SIGNAL_MACD', 'HIST', 'pivots_l', 'pivots_h', 'low_perv', 'high_perv',\n",
       "       'low_next', 'high_next', 'SIGNAL', 'TP', 'SL'],\n",
       "      dtype='object')"
      ]
     },
     "execution_count": 73,
     "metadata": {},
     "output_type": "execute_result"
    }
   ],
   "source": [
    "df_an.columns"
   ]
  },
  {
   "cell_type": "code",
   "execution_count": 74,
   "id": "55eb9436",
   "metadata": {},
   "outputs": [
    {
     "data": {
      "text/plain": [
       "16001"
      ]
     },
     "execution_count": 74,
     "metadata": {},
     "output_type": "execute_result"
    }
   ],
   "source": [
    "indeces_test[0]"
   ]
  },
  {
   "cell_type": "code",
   "execution_count": 100,
   "id": "67fd19fc",
   "metadata": {},
   "outputs": [
    {
     "name": "stderr",
     "output_type": "stream",
     "text": [
      "C:\\Users\\meysam\\AppData\\Local\\Temp\\ipykernel_7280\\4200224076.py:6: SettingWithCopyWarning:\n",
      "\n",
      "\n",
      "A value is trying to be set on a copy of a slice from a DataFrame\n",
      "\n",
      "See the caveats in the documentation: https://pandas.pydata.org/pandas-docs/stable/user_guide/indexing.html#returning-a-view-versus-a-copy\n",
      "\n"
     ]
    }
   ],
   "source": [
    "df_test = df_an[['time', 'open', 'high', 'low', 'close','TP','SL','pivots_l','pivots_h']].iloc[indeces_test[0]-5:].copy()\n",
    "df_test['SIGNAL'] = 0\n",
    "for i,idx in enumerate(indeces_test):\n",
    "    if i > 0:\n",
    "        if df_test.pivots_h[idx-1] or df_test.pivots_l[idx-1] :\n",
    "            df_test.SIGNAL.loc[idx] = y_perdict[i]\n",
    "\n",
    "df_test.reset_index(drop=True, inplace=True)\n"
   ]
  },
  {
   "cell_type": "code",
   "execution_count": 101,
   "id": "b68e8fd6",
   "metadata": {},
   "outputs": [
    {
     "data": {
      "text/html": [
       "<div>\n",
       "<style scoped>\n",
       "    .dataframe tbody tr th:only-of-type {\n",
       "        vertical-align: middle;\n",
       "    }\n",
       "\n",
       "    .dataframe tbody tr th {\n",
       "        vertical-align: top;\n",
       "    }\n",
       "\n",
       "    .dataframe thead th {\n",
       "        text-align: right;\n",
       "    }\n",
       "</style>\n",
       "<table border=\"1\" class=\"dataframe\">\n",
       "  <thead>\n",
       "    <tr style=\"text-align: right;\">\n",
       "      <th></th>\n",
       "      <th>time</th>\n",
       "      <th>open</th>\n",
       "      <th>high</th>\n",
       "      <th>low</th>\n",
       "      <th>close</th>\n",
       "      <th>TP</th>\n",
       "      <th>SL</th>\n",
       "      <th>pivots_l</th>\n",
       "      <th>pivots_h</th>\n",
       "      <th>SIGNAL</th>\n",
       "    </tr>\n",
       "  </thead>\n",
       "  <tbody>\n",
       "    <tr>\n",
       "      <th>0</th>\n",
       "      <td>2022-08-02 07:00:00</td>\n",
       "      <td>1.22567</td>\n",
       "      <td>1.22619</td>\n",
       "      <td>1.22432</td>\n",
       "      <td>1.22479</td>\n",
       "      <td>1.22165</td>\n",
       "      <td>1.22636</td>\n",
       "      <td>0.0</td>\n",
       "      <td>0.0</td>\n",
       "      <td>0</td>\n",
       "    </tr>\n",
       "    <tr>\n",
       "      <th>1</th>\n",
       "      <td>2022-08-02 08:00:00</td>\n",
       "      <td>1.22479</td>\n",
       "      <td>1.22551</td>\n",
       "      <td>1.22384</td>\n",
       "      <td>1.22435</td>\n",
       "      <td>0.00000</td>\n",
       "      <td>0.00000</td>\n",
       "      <td>0.0</td>\n",
       "      <td>0.0</td>\n",
       "      <td>0</td>\n",
       "    </tr>\n",
       "    <tr>\n",
       "      <th>2</th>\n",
       "      <td>2022-08-02 09:00:00</td>\n",
       "      <td>1.22435</td>\n",
       "      <td>1.22435</td>\n",
       "      <td>1.22181</td>\n",
       "      <td>1.22198</td>\n",
       "      <td>0.00000</td>\n",
       "      <td>0.00000</td>\n",
       "      <td>0.0</td>\n",
       "      <td>0.0</td>\n",
       "      <td>0</td>\n",
       "    </tr>\n",
       "    <tr>\n",
       "      <th>3</th>\n",
       "      <td>2022-08-02 10:00:00</td>\n",
       "      <td>1.22198</td>\n",
       "      <td>1.22218</td>\n",
       "      <td>1.21884</td>\n",
       "      <td>1.22006</td>\n",
       "      <td>0.00000</td>\n",
       "      <td>0.00000</td>\n",
       "      <td>0.0</td>\n",
       "      <td>0.0</td>\n",
       "      <td>0</td>\n",
       "    </tr>\n",
       "    <tr>\n",
       "      <th>4</th>\n",
       "      <td>2022-08-02 11:00:00</td>\n",
       "      <td>1.22006</td>\n",
       "      <td>1.22054</td>\n",
       "      <td>1.21849</td>\n",
       "      <td>1.21906</td>\n",
       "      <td>0.00000</td>\n",
       "      <td>0.00000</td>\n",
       "      <td>1.0</td>\n",
       "      <td>0.0</td>\n",
       "      <td>0</td>\n",
       "    </tr>\n",
       "    <tr>\n",
       "      <th>...</th>\n",
       "      <td>...</td>\n",
       "      <td>...</td>\n",
       "      <td>...</td>\n",
       "      <td>...</td>\n",
       "      <td>...</td>\n",
       "      <td>...</td>\n",
       "      <td>...</td>\n",
       "      <td>...</td>\n",
       "      <td>...</td>\n",
       "      <td>...</td>\n",
       "    </tr>\n",
       "    <tr>\n",
       "      <th>3961</th>\n",
       "      <td>2023-03-23 10:00:00</td>\n",
       "      <td>1.23105</td>\n",
       "      <td>1.23286</td>\n",
       "      <td>1.23045</td>\n",
       "      <td>1.23206</td>\n",
       "      <td>1.22750</td>\n",
       "      <td>1.23434</td>\n",
       "      <td>1.0</td>\n",
       "      <td>0.0</td>\n",
       "      <td>0</td>\n",
       "    </tr>\n",
       "    <tr>\n",
       "      <th>3962</th>\n",
       "      <td>2023-03-23 11:00:00</td>\n",
       "      <td>1.23206</td>\n",
       "      <td>1.23319</td>\n",
       "      <td>1.23088</td>\n",
       "      <td>1.23153</td>\n",
       "      <td>0.00000</td>\n",
       "      <td>0.00000</td>\n",
       "      <td>0.0</td>\n",
       "      <td>1.0</td>\n",
       "      <td>1</td>\n",
       "    </tr>\n",
       "    <tr>\n",
       "      <th>3963</th>\n",
       "      <td>2023-03-23 12:00:00</td>\n",
       "      <td>1.23154</td>\n",
       "      <td>1.23162</td>\n",
       "      <td>1.22841</td>\n",
       "      <td>1.22886</td>\n",
       "      <td>0.00000</td>\n",
       "      <td>0.00000</td>\n",
       "      <td>0.0</td>\n",
       "      <td>0.0</td>\n",
       "      <td>0</td>\n",
       "    </tr>\n",
       "    <tr>\n",
       "      <th>3964</th>\n",
       "      <td>2023-03-23 13:00:00</td>\n",
       "      <td>1.22886</td>\n",
       "      <td>1.23070</td>\n",
       "      <td>1.22822</td>\n",
       "      <td>1.23026</td>\n",
       "      <td>0.00000</td>\n",
       "      <td>0.00000</td>\n",
       "      <td>0.0</td>\n",
       "      <td>0.0</td>\n",
       "      <td>0</td>\n",
       "    </tr>\n",
       "    <tr>\n",
       "      <th>3965</th>\n",
       "      <td>2023-03-23 14:00:00</td>\n",
       "      <td>1.23026</td>\n",
       "      <td>1.23375</td>\n",
       "      <td>1.22650</td>\n",
       "      <td>1.22752</td>\n",
       "      <td>0.00000</td>\n",
       "      <td>0.00000</td>\n",
       "      <td>1.0</td>\n",
       "      <td>1.0</td>\n",
       "      <td>0</td>\n",
       "    </tr>\n",
       "  </tbody>\n",
       "</table>\n",
       "<p>3966 rows × 10 columns</p>\n",
       "</div>"
      ],
      "text/plain": [
       "                    time     open     high      low    close       TP  \\\n",
       "0    2022-08-02 07:00:00  1.22567  1.22619  1.22432  1.22479  1.22165   \n",
       "1    2022-08-02 08:00:00  1.22479  1.22551  1.22384  1.22435  0.00000   \n",
       "2    2022-08-02 09:00:00  1.22435  1.22435  1.22181  1.22198  0.00000   \n",
       "3    2022-08-02 10:00:00  1.22198  1.22218  1.21884  1.22006  0.00000   \n",
       "4    2022-08-02 11:00:00  1.22006  1.22054  1.21849  1.21906  0.00000   \n",
       "...                  ...      ...      ...      ...      ...      ...   \n",
       "3961 2023-03-23 10:00:00  1.23105  1.23286  1.23045  1.23206  1.22750   \n",
       "3962 2023-03-23 11:00:00  1.23206  1.23319  1.23088  1.23153  0.00000   \n",
       "3963 2023-03-23 12:00:00  1.23154  1.23162  1.22841  1.22886  0.00000   \n",
       "3964 2023-03-23 13:00:00  1.22886  1.23070  1.22822  1.23026  0.00000   \n",
       "3965 2023-03-23 14:00:00  1.23026  1.23375  1.22650  1.22752  0.00000   \n",
       "\n",
       "           SL  pivots_l  pivots_h  SIGNAL  \n",
       "0     1.22636       0.0       0.0       0  \n",
       "1     0.00000       0.0       0.0       0  \n",
       "2     0.00000       0.0       0.0       0  \n",
       "3     0.00000       0.0       0.0       0  \n",
       "4     0.00000       1.0       0.0       0  \n",
       "...       ...       ...       ...     ...  \n",
       "3961  1.23434       1.0       0.0       0  \n",
       "3962  0.00000       0.0       1.0       1  \n",
       "3963  0.00000       0.0       0.0       0  \n",
       "3964  0.00000       0.0       0.0       0  \n",
       "3965  0.00000       1.0       1.0       0  \n",
       "\n",
       "[3966 rows x 10 columns]"
      ]
     },
     "execution_count": 101,
     "metadata": {},
     "output_type": "execute_result"
    }
   ],
   "source": [
    "df_test"
   ]
  },
  {
   "cell_type": "code",
   "execution_count": 102,
   "id": "b77dc800",
   "metadata": {},
   "outputs": [
    {
     "name": "stdout",
     "output_type": "stream",
     "text": [
      "<class 'pandas.core.frame.DataFrame'>\n",
      "RangeIndex: 51558 entries, 0 to 51557\n",
      "Data columns (total 5 columns):\n",
      " #   Column  Non-Null Count  Dtype         \n",
      "---  ------  --------------  -----         \n",
      " 0   time    51558 non-null  datetime64[ns]\n",
      " 1   open    51558 non-null  float64       \n",
      " 2   high    51558 non-null  float64       \n",
      " 3   low     51558 non-null  float64       \n",
      " 4   close   51558 non-null  float64       \n",
      "dtypes: datetime64[ns](1), float64(4)\n",
      "memory usage: 2.0 MB\n"
     ]
    }
   ],
   "source": [
    "rates = Rates(pair, 13*len(df_test), mt5.TIMEFRAME_M5)\n",
    "df_m5 = rates.get_rates_from_now()\n",
    "df_m5.reset_index(drop=True, inplace=True)\n",
    "df_m5.drop(['tick_volume', 'spread', 'real_volume'], axis=1, inplace=True)\n",
    "df_m5.info()"
   ]
  },
  {
   "cell_type": "code",
   "execution_count": 103,
   "id": "f24fe438",
   "metadata": {},
   "outputs": [
    {
     "name": "stdout",
     "output_type": "stream",
     "text": [
      "prepare_data...\n"
     ]
    }
   ],
   "source": [
    "gt = GuruTester2(\n",
    "        df_test,\n",
    "        df_m5,\n",
    "        SPREAD,\n",
    "        use_spread=True\n",
    "    )"
   ]
  },
  {
   "cell_type": "code",
   "execution_count": 104,
   "id": "4176311c",
   "metadata": {},
   "outputs": [
    {
     "name": "stdout",
     "output_type": "stream",
     "text": [
      "run_test...\n",
      "Result:\n",
      "win rate:  0.6257763975155279\n",
      " 2.0    403\n",
      "-1.0    241\n",
      "Name: result, dtype: int64\n"
     ]
    }
   ],
   "source": [
    "df_res_m5 = gt.run_test()"
   ]
  },
  {
   "cell_type": "code",
   "execution_count": null,
   "id": "75248792",
   "metadata": {},
   "outputs": [],
   "source": []
  },
  {
   "cell_type": "code",
   "execution_count": 105,
   "id": "ff4c6cab",
   "metadata": {},
   "outputs": [
    {
     "name": "stderr",
     "output_type": "stream",
     "text": [
      "C:\\Users\\meysam\\AppData\\Local\\Temp\\ipykernel_7280\\1186191000.py:8: SettingWithCopyWarning:\n",
      "\n",
      "\n",
      "A value is trying to be set on a copy of a slice from a DataFrame\n",
      "\n",
      "See the caveats in the documentation: https://pandas.pydata.org/pandas-docs/stable/user_guide/indexing.html#returning-a-view-versus-a-copy\n",
      "\n",
      "C:\\Users\\meysam\\AppData\\Local\\Temp\\ipykernel_7280\\1186191000.py:11: SettingWithCopyWarning:\n",
      "\n",
      "\n",
      "A value is trying to be set on a copy of a slice from a DataFrame\n",
      "\n",
      "See the caveats in the documentation: https://pandas.pydata.org/pandas-docs/stable/user_guide/indexing.html#returning-a-view-versus-a-copy\n",
      "\n"
     ]
    }
   ],
   "source": [
    "df_res_m5['balance'] = 100\n",
    "loss_margin = 0.03\n",
    "perv_balance = 100\n",
    "\n",
    "# for index, row in df_res_m5.iterrows():\n",
    "for i in range(len(df_res_m5)):\n",
    "    if(df_res_m5.result[i] == -1):\n",
    "        df_res_m5['balance'][i] = perv_balance*(1-loss_margin) \n",
    "    elif(df_res_m5.result[i] == 2):\n",
    "        profit_to_loss = abs( (df_res_m5['start_price'][i]-df_res_m5['trigger_price'][i])/((df_res_m5['start_price'][i]-df_res_m5['SL'][i])) )\n",
    "        df_res_m5['balance'][i] = perv_balance*(1+profit_to_loss*loss_margin) \n",
    "    perv_balance = df_res_m5['balance'][i]"
   ]
  },
  {
   "cell_type": "code",
   "execution_count": 106,
   "id": "9d608684",
   "metadata": {},
   "outputs": [
    {
     "data": {
      "text/plain": [
       "87.89519896170103"
      ]
     },
     "execution_count": 106,
     "metadata": {},
     "output_type": "execute_result"
    }
   ],
   "source": [
    "min(df_res_m5['balance'])"
   ]
  },
  {
   "cell_type": "code",
   "execution_count": 107,
   "id": "b09b3d74",
   "metadata": {},
   "outputs": [
    {
     "data": {
      "text/plain": [
       " 2.0    403\n",
       "-1.0    241\n",
       "Name: result, dtype: int64"
      ]
     },
     "execution_count": 107,
     "metadata": {},
     "output_type": "execute_result"
    }
   ],
   "source": [
    "df_res_m5.result.value_counts()"
   ]
  },
  {
   "cell_type": "code",
   "execution_count": 110,
   "id": "1c73f4c3",
   "metadata": {},
   "outputs": [
    {
     "data": {
      "application/vnd.plotly.v1+json": {
       "config": {
        "plotlyServerURL": "https://plot.ly"
       },
       "data": [
        {
         "line": {
          "shape": "spline",
          "width": 2
         },
         "name": "balance",
         "type": "scatter",
         "x": [
          "s22-08-02 16:00",
          "s22-08-02 21:45",
          "s22-08-03 01:00",
          "s22-08-03 05:00",
          "s22-08-03 11:00",
          "s22-08-03 14:00",
          "s22-08-03 17:00",
          "s22-08-04 02:50",
          "s22-08-04 04:00",
          "s22-08-04 10:00",
          "s22-08-04 11:00",
          "s22-08-04 12:00",
          "s22-08-05 09:40",
          "s22-08-05 15:00",
          "s22-08-05 15:30",
          "s22-08-05 19:05",
          "s22-08-08 08:00",
          "s22-08-09 05:00",
          "s22-08-09 06:00",
          "s22-08-09 10:00",
          "s22-08-09 14:00",
          "s22-08-09 16:00",
          "s22-08-09 17:00",
          "s22-08-10 10:00",
          "s22-08-10 15:25",
          "s22-08-10 17:00",
          "s22-08-11 04:55",
          "s22-08-11 09:00",
          "s22-08-11 10:00",
          "s22-08-11 13:00",
          "s22-08-11 15:30",
          "s22-08-12 03:00",
          "s22-08-12 03:25",
          "s22-08-12 06:10",
          "s22-08-12 12:15",
          "s22-08-12 15:55",
          "s22-08-12 19:00",
          "s22-08-15 02:00",
          "s22-08-15 20:45",
          "s22-08-16 10:00",
          "s22-08-16 10:00",
          "s22-08-16 16:55",
          "s22-08-17 01:00",
          "s22-08-17 07:00",
          "s22-08-17 09:00",
          "s22-08-17 14:10",
          "s22-08-18 09:35",
          "s22-08-18 09:45",
          "s22-08-18 11:00",
          "s22-08-18 18:50",
          "s22-08-18 22:00",
          "s22-08-19 02:00",
          "s22-08-19 06:00",
          "s22-08-19 13:40",
          "s22-08-19 16:00",
          "s22-08-19 22:00",
          "s22-08-22 05:00",
          "s22-08-22 09:00",
          "s22-08-22 16:00",
          "s22-08-22 18:25",
          "s22-08-22 23:00",
          "s22-08-23 07:00",
          "s22-08-23 08:20",
          "s22-08-23 12:00",
          "s22-08-23 14:00",
          "s22-08-23 16:45",
          "s22-08-25 03:00",
          "s22-08-25 11:00",
          "s22-08-25 16:00",
          "s22-08-25 19:00",
          "s22-08-25 21:00",
          "s22-08-26 02:45",
          "s22-08-29 13:40",
          "s22-08-29 17:00",
          "s22-08-29 19:00",
          "s22-08-29 22:00",
          "s22-08-30 02:45",
          "s22-08-30 09:00",
          "s22-08-30 17:40",
          "s22-08-31 07:00",
          "s22-08-31 07:00",
          "s22-08-31 22:45",
          "s22-09-01 04:30",
          "s22-09-01 06:00",
          "s22-09-01 09:00",
          "s22-09-01 13:35",
          "s22-09-01 23:00",
          "s22-09-02 10:05",
          "s22-09-02 11:00",
          "s22-09-02 12:00",
          "s22-09-02 20:00",
          "s22-09-05 08:00",
          "s22-09-05 11:00",
          "s22-09-05 21:00",
          "s22-09-06 03:00",
          "s22-09-06 03:05",
          "s22-09-06 06:00",
          "s22-09-06 19:00",
          "s22-09-07 03:20",
          "s22-09-07 03:20",
          "s22-09-08 06:05",
          "s22-09-08 08:00",
          "s22-09-08 11:00",
          "s22-09-08 14:00",
          "s22-09-08 16:00",
          "s22-09-09 01:00",
          "s22-09-09 07:10",
          "s22-09-09 15:00",
          "s22-09-12 00:05",
          "s22-09-12 01:00",
          "s22-09-12 03:00",
          "s22-09-12 07:00",
          "s22-09-12 10:10",
          "s22-09-12 18:00",
          "s22-09-12 19:00",
          "s22-09-13 06:00",
          "s22-09-13 08:00",
          "s22-09-13 09:20",
          "s22-09-13 13:00",
          "s22-09-13 18:05",
          "s22-09-14 06:00",
          "s22-09-14 19:00",
          "s22-09-15 02:00",
          "s22-09-15 03:10",
          "s22-09-15 07:55",
          "s22-09-15 15:05",
          "s22-09-15 16:20",
          "s22-09-15 17:00",
          "s22-09-15 21:00",
          "s22-09-16 09:15",
          "s22-09-16 09:35",
          "s22-09-16 10:45",
          "s22-09-16 13:50",
          "s22-09-16 16:00",
          "s22-09-19 01:00",
          "s22-09-19 07:00",
          "s22-09-19 11:00",
          "s22-09-19 12:50",
          "s22-09-19 13:05",
          "s22-09-19 17:35",
          "s22-09-20 01:10",
          "s22-09-20 09:00",
          "s22-09-20 11:00",
          "s22-09-20 18:00",
          "s22-09-21 03:00",
          "s22-09-21 06:00",
          "s22-09-21 07:55",
          "s22-09-21 09:30",
          "s22-09-21 18:00",
          "s22-09-22 03:00",
          "s22-09-22 13:00",
          "s22-09-22 18:00",
          "s22-09-23 03:45",
          "s22-09-23 10:00",
          "s22-09-23 10:00",
          "s22-09-26 03:55",
          "s22-09-27 02:55",
          "s22-09-27 03:00",
          "s22-09-27 08:40",
          "s22-09-27 14:00",
          "s22-09-27 16:30",
          "s22-09-27 19:05",
          "s22-09-27 19:15",
          "s22-09-27 20:00",
          "s22-09-28 03:45",
          "s22-09-28 22:25",
          "s22-09-29 07:20",
          "s22-09-29 09:00",
          "s22-09-29 16:00",
          "s22-09-30 07:15",
          "s22-09-30 11:00",
          "s22-09-30 23:00",
          "s22-10-03 01:00",
          "s22-10-03 06:00",
          "s22-10-03 10:00",
          "s22-10-03 20:00",
          "s22-10-04 01:00",
          "s22-10-04 05:00",
          "s22-10-04 08:00",
          "s22-10-04 16:00",
          "s22-10-04 22:00",
          "s22-10-05 01:00",
          "s22-10-05 03:00",
          "s22-10-05 05:45",
          "s22-10-05 09:35",
          "s22-10-05 13:10",
          "s22-10-05 18:15",
          "s22-10-06 12:00",
          "s22-10-06 16:00",
          "s22-10-06 19:00",
          "s22-10-06 21:00",
          "s22-10-07 11:00",
          "s22-10-07 15:00",
          "s22-10-07 17:35",
          "s22-10-10 01:00",
          "s22-10-10 10:05",
          "s22-10-10 13:00",
          "s22-10-10 14:00",
          "s22-10-10 16:00",
          "s22-10-11 09:00",
          "s22-10-11 12:00",
          "s22-10-11 14:20",
          "s22-10-11 15:00",
          "s22-10-11 21:55",
          "s22-10-12 05:00",
          "s22-10-13 03:00",
          "s22-10-13 05:00",
          "s22-10-13 09:00",
          "s22-10-13 14:15",
          "s22-10-13 14:30",
          "s22-10-13 22:00",
          "s22-10-14 02:00",
          "s22-10-14 03:00",
          "s22-10-14 05:00",
          "s22-10-14 09:00",
          "s22-10-14 12:00",
          "s22-10-14 14:40",
          "s22-10-14 19:00",
          "s22-10-17 01:00",
          "s22-10-17 05:00",
          "s22-10-17 17:40",
          "s22-10-17 19:40",
          "s22-10-18 03:00",
          "s22-10-18 15:00",
          "s22-10-18 17:00",
          "s22-10-18 22:00",
          "s22-10-18 23:35",
          "s22-10-19 17:25",
          "s22-10-20 03:00",
          "s22-10-20 05:00",
          "s22-10-21 02:00",
          "s22-10-21 08:05",
          "s22-10-21 08:30",
          "s22-10-21 10:00",
          "s22-10-21 12:00",
          "s22-10-24 03:00",
          "s22-10-24 08:00",
          "s22-10-24 11:00",
          "s22-10-24 14:05",
          "s22-10-24 15:00",
          "s22-10-24 18:00",
          "s22-10-24 19:00",
          "s22-10-25 06:00",
          "s22-10-25 08:00",
          "s22-10-25 14:15",
          "s22-10-25 16:30",
          "s22-10-25 19:00",
          "s22-10-26 03:00",
          "s22-10-26 15:00",
          "s22-10-26 18:00",
          "s22-10-27 01:00",
          "s22-10-27 07:50",
          "s22-10-27 09:00",
          "s22-10-27 21:45",
          "s22-10-27 22:00",
          "s22-10-28 02:00",
          "s22-10-28 16:05",
          "s22-10-28 21:00",
          "s22-10-31 02:55",
          "s22-10-31 10:15",
          "s22-10-31 15:25",
          "s22-10-31 19:00",
          "s22-11-01 03:30",
          "s22-11-01 06:00",
          "s22-11-01 08:15",
          "s22-11-01 10:00",
          "s22-11-01 11:00",
          "s22-11-01 15:00",
          "s22-11-01 22:00",
          "s22-11-02 12:00",
          "s22-11-02 14:00",
          "s22-11-02 17:45",
          "s22-11-02 22:00",
          "s22-11-04 09:00",
          "s22-11-04 10:00",
          "s22-11-07 04:00",
          "s22-11-07 18:00",
          "s22-11-08 02:30",
          "s22-11-08 11:00",
          "s22-11-08 17:40",
          "s22-11-08 21:05",
          "s22-11-09 09:00",
          "s22-11-09 12:00",
          "s22-11-09 19:00",
          "s22-11-10 01:20",
          "s22-11-10 15:30",
          "s22-11-10 23:05",
          "s22-11-11 06:00",
          "s22-11-11 12:00",
          "s22-11-11 15:00",
          "s22-11-11 17:00",
          "s22-11-11 20:10",
          "s22-11-14 03:00",
          "s22-11-14 05:00",
          "s22-11-14 06:00",
          "s22-11-14 07:00",
          "s22-11-14 19:50",
          "s22-11-15 07:00",
          "s22-11-15 19:00",
          "s22-11-15 23:00",
          "s22-11-16 05:00",
          "s22-11-16 09:00",
          "s22-11-16 19:00",
          "s22-11-17 02:00",
          "s22-11-17 10:10",
          "s22-11-17 11:00",
          "s22-11-17 16:00",
          "s22-11-17 19:00",
          "s22-11-17 19:50",
          "s22-11-18 01:00",
          "s22-11-18 07:00",
          "s22-11-18 11:00",
          "s22-11-18 15:20",
          "s22-11-18 22:00",
          "s22-11-21 02:05",
          "s22-11-21 05:00",
          "s22-11-21 10:00",
          "s22-11-21 11:10",
          "s22-11-21 15:00",
          "s22-11-21 16:00",
          "s22-11-21 21:25",
          "s22-11-22 07:20",
          "s22-11-22 23:00",
          "s22-11-23 05:00",
          "s22-11-23 15:30",
          "s22-11-23 16:45",
          "s22-11-24 02:00",
          "s22-11-24 12:00",
          "s22-11-24 15:00",
          "s22-11-24 16:00",
          "s22-11-24 17:00",
          "s22-11-25 03:00",
          "s22-11-25 04:35",
          "s22-11-25 13:00",
          "s22-11-25 22:00",
          "s22-11-28 01:30",
          "s22-11-28 15:15",
          "s22-11-28 18:15",
          "s22-11-29 03:45",
          "s22-11-29 17:00",
          "s22-11-29 20:15",
          "s22-11-30 01:00",
          "s22-11-30 01:40",
          "s22-11-30 03:00",
          "s22-11-30 08:30",
          "s22-11-30 21:15",
          "s22-12-01 05:00",
          "s22-12-01 22:00",
          "s22-12-02 01:10",
          "s22-12-02 03:00",
          "s22-12-02 06:00",
          "s22-12-02 16:00",
          "s22-12-05 03:30",
          "s22-12-05 05:00",
          "s22-12-05 09:05",
          "s22-12-06 02:00",
          "s22-12-06 02:15",
          "s22-12-06 02:55",
          "s22-12-06 12:40",
          "s22-12-06 16:00",
          "s22-12-07 02:00",
          "s22-12-07 05:00",
          "s22-12-07 08:05",
          "s22-12-07 12:00",
          "s22-12-07 13:05",
          "s22-12-07 20:00",
          "s22-12-08 02:00",
          "s22-12-08 05:10",
          "s22-12-08 07:00",
          "s22-12-08 09:00",
          "s22-12-08 11:00",
          "s22-12-08 17:35",
          "s22-12-08 20:00",
          "s22-12-08 20:50",
          "s22-12-09 00:20",
          "s22-12-09 03:10",
          "s22-12-09 11:00",
          "s22-12-12 03:10",
          "s22-12-12 08:00",
          "s22-12-12 17:00",
          "s22-12-12 20:30",
          "s22-12-12 21:00",
          "s22-12-13 03:00",
          "s22-12-13 06:00",
          "s22-12-13 11:00",
          "s22-12-13 15:30",
          "s22-12-13 15:30",
          "s22-12-13 17:00",
          "s22-12-13 22:00",
          "s22-12-14 08:40",
          "s22-12-14 10:15",
          "s22-12-14 23:00",
          "s22-12-15 03:00",
          "s22-12-15 13:00",
          "s22-12-16 03:00",
          "s22-12-16 04:00",
          "s22-12-19 06:00",
          "s22-12-19 11:05",
          "s22-12-19 17:00",
          "s22-12-19 19:00",
          "s22-12-19 21:00",
          "s22-12-20 01:30",
          "s22-12-20 04:00",
          "s22-12-21 01:05",
          "s22-12-22 08:20",
          "s22-12-22 20:00",
          "s22-12-23 21:00",
          "s22-12-27 03:00",
          "s22-12-27 12:00",
          "s22-12-27 19:00",
          "s22-12-28 02:00",
          "s22-12-28 03:00",
          "s22-12-28 12:45",
          "s22-12-28 22:00",
          "s22-12-29 11:55",
          "s22-12-29 16:00",
          "s22-12-29 19:00",
          "s22-12-30 00:20",
          "s22-12-30 00:20",
          "s22-12-30 01:00",
          "s22-12-30 02:00",
          "s22-12-30 05:00",
          "s22-12-30 06:00",
          "s22-12-30 17:00",
          "s22-12-30 19:00",
          "s22-12-30 23:00",
          "s23-01-03 02:00",
          "s23-01-03 05:00",
          "s23-01-03 07:00",
          "s23-01-03 11:00",
          "s23-01-03 13:15",
          "s23-01-04 06:00",
          "s23-01-04 09:00",
          "s23-01-04 10:05",
          "s23-01-04 12:00",
          "s23-01-04 17:00",
          "s23-01-04 18:00",
          "s23-01-04 19:00",
          "s23-01-05 11:00",
          "s23-01-05 15:20",
          "s23-01-05 15:55",
          "s23-01-06 11:55",
          "s23-01-06 17:00",
          "s23-01-09 01:00",
          "s23-01-09 04:00",
          "s23-01-09 17:35",
          "s23-01-09 19:15",
          "s23-01-10 09:00",
          "s23-01-10 09:25",
          "s23-01-10 09:25",
          "s23-01-10 11:00",
          "s23-01-10 20:00",
          "s23-01-11 02:00",
          "s23-01-11 06:40",
          "s23-01-11 12:25",
          "s23-01-11 19:00",
          "s23-01-12 02:00",
          "s23-01-12 11:10",
          "s23-01-13 04:15",
          "s23-01-16 02:50",
          "s23-01-16 17:00",
          "s23-01-17 02:00",
          "s23-01-17 04:00",
          "s23-01-17 23:00",
          "s23-01-17 23:40",
          "s23-01-18 02:00",
          "s23-01-18 08:10",
          "s23-01-18 13:00",
          "s23-01-18 18:00",
          "s23-01-18 23:00",
          "s23-01-19 04:00",
          "s23-01-19 05:00",
          "s23-01-19 15:00",
          "s23-01-19 17:00",
          "s23-01-19 17:05",
          "s23-01-20 05:00",
          "s23-01-20 14:00",
          "s23-01-23 02:50",
          "s23-01-23 02:50",
          "s23-01-23 05:00",
          "s23-01-23 12:30",
          "s23-01-23 20:00",
          "s23-01-24 16:45",
          "s23-01-24 22:10",
          "s23-01-25 07:00",
          "s23-01-25 09:45",
          "s23-01-25 11:00",
          "s23-01-25 16:45",
          "s23-01-25 20:00",
          "s23-01-25 22:00",
          "s23-01-26 06:00",
          "s23-01-26 09:00",
          "s23-01-26 11:15",
          "s23-01-26 13:00",
          "s23-01-26 17:35",
          "s23-01-27 01:00",
          "s23-01-27 02:00",
          "s23-01-27 12:00",
          "s23-01-27 21:00",
          "s23-01-30 02:00",
          "s23-01-30 04:00",
          "s23-01-30 05:00",
          "s23-01-30 13:00",
          "s23-01-30 23:00",
          "s23-01-31 09:10",
          "s23-01-31 10:10",
          "s23-01-31 10:15",
          "s23-01-31 12:00",
          "s23-01-31 19:00",
          "s23-02-01 05:00",
          "s23-02-01 10:00",
          "s23-02-01 15:00",
          "s23-02-01 15:45",
          "s23-02-01 21:00",
          "s23-02-02 03:30",
          "s23-02-02 14:00",
          "s23-02-02 19:50",
          "s23-02-02 23:30",
          "s23-02-03 15:45",
          "s23-02-03 17:00",
          "s23-02-06 07:45",
          "s23-02-06 12:00",
          "s23-02-06 23:00",
          "s23-02-07 06:05",
          "s23-02-07 10:00",
          "s23-02-07 16:00",
          "s23-02-07 17:50",
          "s23-02-08 11:00",
          "s23-02-08 22:10",
          "s23-02-09 02:00",
          "s23-02-09 03:00",
          "s23-02-09 20:40",
          "s23-02-10 10:00",
          "s23-02-10 21:50",
          "s23-02-13 11:00",
          "s23-02-13 19:00",
          "s23-02-14 03:30",
          "s23-02-14 05:00",
          "s23-02-14 09:00",
          "s23-02-14 15:00",
          "s23-02-14 18:00",
          "s23-02-15 08:30",
          "s23-02-15 09:10",
          "s23-02-15 09:10",
          "s23-02-15 20:00",
          "s23-02-15 22:00",
          "s23-02-16 01:00",
          "s23-02-16 04:00",
          "s23-02-16 08:35",
          "s23-02-16 20:00",
          "s23-02-17 01:00",
          "s23-02-17 08:00",
          "s23-02-17 10:00",
          "s23-02-17 11:00",
          "s23-02-17 17:00",
          "s23-02-20 16:00",
          "s23-02-20 19:00",
          "s23-02-21 01:00",
          "s23-02-21 02:00",
          "s23-02-21 06:00",
          "s23-02-21 07:00",
          "s23-02-21 10:00",
          "s23-02-21 11:20",
          "s23-02-21 15:00",
          "s23-02-21 18:00",
          "s23-02-21 22:00",
          "s23-02-22 09:00",
          "s23-02-22 10:35",
          "s23-02-22 14:00",
          "s23-02-22 20:00",
          "s23-02-22 23:00",
          "s23-02-23 11:00",
          "s23-02-24 05:00",
          "s23-02-24 13:25",
          "s23-02-24 16:25",
          "s23-02-24 18:00",
          "s23-02-24 21:00",
          "s23-02-24 23:00",
          "s23-02-27 04:00",
          "s23-02-27 09:00",
          "s23-02-27 17:15",
          "s23-02-27 19:00",
          "s23-02-28 01:00",
          "s23-02-28 18:10",
          "s23-03-01 14:00",
          "s23-03-02 01:00",
          "s23-03-02 05:00",
          "s23-03-02 14:50",
          "s23-03-02 16:00",
          "s23-03-02 20:00",
          "s23-03-03 02:55",
          "s23-03-03 06:00",
          "s23-03-03 08:35",
          "s23-03-03 16:00",
          "s23-03-06 02:10",
          "s23-03-06 07:00",
          "s23-03-06 10:00",
          "s23-03-06 18:00",
          "s23-03-07 03:00",
          "s23-03-07 08:00",
          "s23-03-07 09:10",
          "s23-03-07 17:00",
          "s23-03-07 17:00",
          "s23-03-07 17:05",
          "s23-03-08 01:00",
          "s23-03-08 02:00",
          "s23-03-08 08:00",
          "s23-03-08 14:10",
          "s23-03-08 16:00",
          "s23-03-08 17:00",
          "s23-03-09 12:00",
          "s23-03-09 19:00",
          "s23-03-10 02:00",
          "s23-03-10 04:30",
          "s23-03-10 11:40",
          "s23-03-10 15:30",
          "s23-03-10 19:00",
          "s23-03-13 05:00",
          "s23-03-13 12:15",
          "s23-03-13 19:00",
          "s23-03-14 01:00",
          "s23-03-14 09:00",
          "s23-03-15 04:00",
          "s23-03-15 10:55",
          "s23-03-15 16:05",
          "s23-03-16 02:05",
          "s23-03-16 09:00",
          "s23-03-16 11:15",
          "s23-03-17 05:40",
          "s23-03-17 11:00",
          "s23-03-17 15:00",
          "s23-03-17 18:00",
          "s23-03-17 22:00",
          "s23-03-20 07:00",
          "s23-03-20 12:55",
          "s23-03-21 01:00",
          "s23-03-21 10:50",
          "s23-03-21 15:05",
          "s23-03-22 00:55",
          "s23-03-22 04:00",
          "s23-03-22 09:00",
          "s23-03-22 19:35",
          "s23-03-23 02:50",
          "s23-03-23 12:00"
         ],
         "xaxis": "x",
         "y": [
          97,
          103.07086206896577,
          103.07101461838421,
          99.97888417983268,
          99.98223053373064,
          99.98456973134194,
          106.13796093602917,
          102.9538221079483,
          99.86520744470985,
          96.86925122136856,
          96.87035004483688,
          93.96423954349177,
          99.88715396864869,
          99.88806735240591,
          108.78171575884346,
          105.51826428607815,
          102.35271635749581,
          99.28213486677093,
          99.28277601714139,
          96.30429273662715,
          93.41516395452832,
          93.41608987320761,
          90.61360717701137,
          87.89519896170103,
          93.02388382111621,
          90.23316730648273,
          95.59559553498192,
          92.72772766893246,
          92.72831940277506,
          89.9464698206918,
          95.73856415118301,
          92.86640722664752,
          98.63458829523236,
          105.6212049661403,
          112.64997520822412,
          119.50390347510695,
          119.50523350750396,
          119.50529261242923,
          127.06850428187153,
          135.74373268082107,
          147.0656550000237,
          155.76954070410693,
          151.09645448298372,
          146.5635608484942,
          156.19197255423464,
          166.61450231159097,
          177.4175716550187,
          189.36991332440974,
          189.37614922828783,
          201.11950132386482,
          201.12202977192612,
          201.1224344236635,
          195.08876139095358,
          206.75532771784282,
          206.7601967374872,
          200.55739083536258,
          200.5593766193214,
          194.54259532074175,
          194.5432867116829,
          207.77703374602095,
          207.77798749172376,
          207.77962912634814,
          220.1505085835613,
          280.3681476961201,
          271.95710326523647,
          301.8361236773086,
          292.78103996698934,
          292.78801241585734,
          284.00437204338164,
          275.4842408820802,
          275.4848695544693,
          295.1361235826837,
          312.9840923193417,
          303.59456954976145,
          294.4867324632686,
          285.6521304893705,
          306.9378215032519,
          297.7296868581543,
          315.573441409092,
          333.5199658161838,
          333.5221079757656,
          323.51644473649264,
          342.96172645015827,
          342.9620816331391,
          342.96563349727967,
          363.5963354507294,
          352.6884453872075,
          342.10779202559127,
          342.1093905356389,
          331.84610881956974,
          321.8907255549826,
          341.3547193162695,
          331.1140777367814,
          321.1806554046779,
          311.54523574253756,
          330.1040479233033,
          330.2891529969043,
          330.28983947250225,
          353.42570794498766,
          383.4668931203047,
          371.9628863266955,
          371.9641472726355,
          360.8052228544564,
          360.81385209003565,
          349.9894365273346,
          339.48975343151454,
          360.1903481529487,
          349.38463770836023,
          385.45624084474014,
          408.6229475648988,
          396.3642591379518,
          384.47333136381326,
          409.73872171057945,
          409.74449864527793,
          397.4521636859196,
          397.4525716953267,
          385.5289945444669,
          408.7084285257381,
          396.44717566996593,
          384.5537603998669,
          384.5557655467883,
          384.5583596718888,
          373.0216088817321,
          396.853545004732,
          384.94793865459,
          373.3995004949523,
          401.6428031387675,
          401.64772253827954,
          401.6480373613087,
          426.82063217810924,
          452.6994410343807,
          487.3773789854114,
          517.547227469921,
          502.0208106458234,
          486.9601863264487,
          486.9636458515193,
          472.3547364759737,
          500.5925853207753,
          531.2308606096383,
          562.1887969693015,
          545.3231330602224,
          528.9634390684157,
          528.9648239828167,
          528.9657971794755,
          528.968725600469,
          528.9726314190158,
          563.0619787771325,
          614.4078687465694,
          595.9756326841723,
          578.0963637036471,
          560.7534727925377,
          560.754219514668,
          594.8364240254325,
          639.67975841717,
          701.9776343970112,
          789.7970046216699,
          852.822805590479,
          852.8337373881319,
          911.3663550477194,
          911.3835716584937,
          972.4581071098946,
          943.2843638965977,
          1001.5051119305439,
          971.4599585726276,
          1056.4989534536387,
          1126.6186442684734,
          1193.1595579455734,
          1157.364771207206,
          1122.64382807099,
          1186.8251639022117,
          1186.8643407582729,
          1151.2584105355247,
          1151.2587192915014,
          1116.7209577127562,
          1083.2193289813736,
          1050.7227491119322,
          1019.2010666385743,
          988.625034639417,
          958.9662836002344,
          958.9667889976276,
          958.9728048383574,
          930.2036206932066,
          902.2975120724104,
          875.2285867102381,
          930.0255069216576,
          902.1247417140078,
          956.343044143867,
          959.0863389318496,
          959.0932347300204,
          1018.3075499076398,
          1018.3212033152668,
          1018.3294102147232,
          1028.0772345032913,
          997.2349174681925,
          1170.005866919466,
          1261.266324539162,
          1261.2858003016615,
          1223.4472262926117,
          1186.7438095038333,
          1186.8338896322969,
          1260.0593013133782,
          1222.2575222739767,
          1222.265458152273,
          1302.334824093506,
          1263.2647793707008,
          1225.3668359895798,
          1188.6058309098923,
          1269.6471375628491,
          1346.1258824632887,
          1439.8122991915009,
          1439.8317583487772,
          1439.8370966138018,
          1396.6419837153878,
          1396.6637641391026,
          1505.6035377418534,
          1505.6059413874448,
          1460.4377631458215,
          1460.5108716956288,
          1569.3051532324982,
          1522.2259986355232,
          1613.6917344724907,
          1713.5180438394952,
          1933.82750661883,
          1933.8654690645774,
          1875.84950499264,
          1875.859947189506,
          1819.584148773821,
          1926.190373019626,
          2041.7617954007642,
          1980.5089415387413,
          1980.517406081137,
          2099.7244980547657,
          2230.5439475890844,
          2163.6276291614117,
          2098.718800286569,
          2035.757236277972,
          2035.7593891705026,
          1974.6866074953875,
          1915.4460092705258,
          1857.98262899241,
          1802.2431501226376,
          1802.2766647879992,
          1802.2838386312333,
          1802.3044150147668,
          1939.9349339794996,
          2059.707548517379,
          1997.9163220618577,
          1937.978832400002,
          1937.9803407764596,
          1879.8409305531657,
          1879.841900952249,
          2007.6124051575982,
          2007.6289822965757,
          1947.4001128276784,
          1888.978109442848,
          1888.9815371228187,
          2006.6629156424237,
          2006.6805788615918,
          2122.1164307177355,
          2255.7434497144823,
          2391.2261634391652,
          2319.48937853599,
          2468.323280325344,
          2394.2735819155837,
          2547.105132819613,
          2470.6919788350247,
          2470.6926217421233,
          2396.5718430898596,
          2324.6746877971636,
          2254.9344471632485,
          2254.9814980728493,
          2389.662584807066,
          2317.9727072628543,
          2318.0123688640906,
          2248.4719977981676,
          2181.0178378642227,
          2115.587302728296,
          2236.633792729737,
          2385.2736610081674,
          2539.7902856661194,
          2703.9823618803075,
          2622.862891023898,
          2544.177004293181,
          2544.237290731358,
          2704.122518369961,
          3091.056434409598,
          3283.5184388162334,
          3185.0128856517463,
          3089.462499082194,
          3089.4853111541156,
          2996.8007518194922,
          3176.247736597107,
          3080.960304499194,
          2988.5314953642182,
          2898.875550503292,
          2811.909283988193,
          2975.9660771828453,
          2886.68709486736,
          2800.086482021339,
          2800.172165715721,
          2800.182775554264,
          2716.177292287636,
          2716.17797775248,
          2771.337284377603,
          2936.1366541890693,
          2936.1499492332878,
          2936.2218262199835,
          2848.135171433384,
          3032.9869016260286,
          2941.997294577248,
          2853.7373757399305,
          2768.1252544677327,
          2969.5680328869335,
          3144.2711911852984,
          3049.9430554497394,
          3232.1531205102583,
          3232.256493402791,
          3459.974176679934,
          3356.1749513795357,
          3356.1800669800105,
          3552.7887236064435,
          3765.9560470227516,
          3765.9664991257237,
          3765.9702988783565,
          3993.5042366013868,
          4256.123422491801,
          4283.484215922102,
          4283.664855016344,
          4283.682884801571,
          4155.172398257524,
          4155.1754771512915,
          4030.5202128367528,
          4247.674771242605,
          4247.676875962122,
          4247.762251105287,
          4502.627986171596,
          4814.348385214222,
          5105.883926318848,
          5410.194608327439,
          5247.888770077616,
          5090.452106975287,
          5090.454662209341,
          5397.6999614641045,
          5397.728358786636,
          5726.090167279469,
          6120.179902321633,
          5936.574505251983,
          5758.477270094424,
          6356.6158768590085,
          6165.917400553238,
          6165.924950039893,
          5980.9472015386955,
          6342.06573635427,
          6151.803764263641,
          6547.530371791772,
          6547.578704146349,
          6351.151343021958,
          6727.815000706305,
          6525.980550685115,
          6330.201134164562,
          6330.2073950266495,
          6330.210524119701,
          6140.30420839611,
          5956.095082144227,
          6334.930432136378,
          6334.9553073141615,
          6335.011344070528,
          6659.487534864331,
          6459.702908818401,
          6459.75849186536,
          6265.965737109399,
          6639.490296583671,
          6639.5489119278955,
          6440.362444570059,
          6826.7841912443155,
          7245.373853496865,
          7028.0126378919595,
          7464.963172927467,
          7241.014277739643,
          7023.783849407454,
          7473.826296054687,
          7249.611507173046,
          7249.645171905337,
          7032.155816748176,
          6821.191142245731,
          7472.870863949115,
          8505.885365730295,
          8505.920293560122,
          8505.932667807701,
          9011.185068275558,
          8740.84951622729,
          8740.952944078319,
          9247.115102933234,
          9247.175838090205,
          9247.257737942635,
          8969.840005804355,
          8700.744805630224,
          9210.159380540428,
          9210.302367243477,
          9210.356816851036,
          9942.692505215391,
          10550.72639303415,
          10550.791505969399,
          10234.267760790317,
          11226.991733587,
          10890.18198157939,
          10563.476522132009,
          10246.572226468048,
          10246.584968636425,
          9939.187419577333,
          9939.296513359972,
          9641.117617959173,
          10239.066726181749,
          9931.894724396296,
          10560.312790594391,
          10560.523127457835,
          10560.665006407151,
          11559.016244803706,
          12700.286203151287,
          12319.277617056749,
          12319.437035668645,
          11949.853924598585,
          11949.868805245527,
          11949.963801759743,
          11950.052864649859,
          11950.112176010114,
          11950.195391301984,
          11950.367537275384,
          12042.217469586689,
          11680.950945499088,
          12381.808002228945,
          12010.353762162076,
          11650.043149297213,
          12388.591756284794,
          12016.934003596249,
          12016.975825179265,
          11656.466550423886,
          11656.594126234962,
          11656.614490485756,
          12389.91069797393,
          13167.096005392306,
          13960.183881065948,
          13541.378364633969,
          13135.13701369495,
          12741.082903284101,
          13513.857279374595,
          14806.9936224872,
          15210.19944882266,
          16181.15190678866,
          17220.61503471387,
          17220.627772169206,
          16704.00893900413,
          16704.149130959613,
          17684.289646143716,
          17153.760956759405,
          16639.148128056622,
          16639.197394769835,
          17883.895797287372,
          18949.47792187586,
          20045.84057307007,
          20046.151106562,
          19444.766573365137,
          18861.423576164183,
          18295.580868879257,
          19351.095149776174,
          19351.114054714773,
          20471.298262670625,
          19857.159314790508,
          19261.444535346793,
          19261.528838707593,
          18683.682973546365,
          18683.851173516363,
          18123.335638310873,
          18195.214630503513,
          19283.772268802404,
          19283.7909494995,
          19283.97360255001,
          20578.22490779807,
          21985.041101308827,
          21325.48986826956,
          22593.844331177173,
          21916.02900124186,
          23269.96188275265,
          24849.86982110751,
          24849.88191791648,
          26361.023385898017,
          25570.192684321075,
          27389.236771484,
          27389.6415614123,
          26567.95231456993,
          28048.166800666677,
          28048.20072552331,
          27206.75470375761,
          27206.781042433453,
          26390.57761116045,
          25598.860282825637,
          25599.008752544778,
          25599.4370995241,
          24831.453986538378,
          24831.682264666408,
          24086.731796726413,
          24086.74929144736,
          24086.836632601116,
          24086.92440693129,
          25541.77464110979,
          27299.452027596588,
          28972.05893732372,
          28972.073040682066,
          28972.136522821933,
          28102.972427137272,
          27259.883254323155,
          26442.086756693458,
          27955.89622351413,
          27956.47572630135,
          30123.10259508983,
          30127.35956113624,
          29223.538774302153,
          30985.144616304446,
          33023.01374299213,
          33023.046404551285,
          32032.355012414744,
          31071.3843620423,
          30139.24283118103,
          32091.44378729165,
          31128.7004736729,
          30194.839459462713,
          32135.936281856582,
          32152.037794816195,
          34160.80272493262,
          34160.93857117888,
          34161.12545805363,
          36258.56066096551,
          39095.79303268572,
          37922.919241705145,
          36785.23166445399,
          35681.67471452037,
          37822.5751973916,
          36687.89794146985,
          35587.26100322575,
          34519.64317312898,
          34520.81879810008,
          36961.46267490869,
          39250.458723522,
          42185.95077735161,
          40920.37225403106,
          40944.1631681323,
          39715.83827308833,
          38524.36312489568,
          41234.35280678483,
          39997.322222581286,
          39997.342244434374,
          39997.44267213981,
          42607.017943327606,
          41328.80740502778,
          43835.39211406925,
          43835.73076596048,
          43835.73076596048,
          42520.65884298166,
          42520.66943915033,
          41245.049355975825,
          41245.09050501077,
          40007.737789860446,
          38807.505656164634,
          37643.28048647969,
          37643.289786934416,
          37643.56025976805,
          37644.23172235217,
          40117.66559809692,
          40117.9544221833,
          40118.1338495002,
          40118.14384272494,
          42731.554355907974,
          42732.06637080469,
          45529.71822988805,
          48384.31174785414,
          48385.45433979433,
          48385.770325112106,
          46934.19721535874,
          45526.17129889798,
          45526.85810626948,
          48353.165457506744,
          46902.57049378154,
          45495.493378968094,
          48403.24882536284,
          48403.2608758642,
          46951.16304958827,
          46951.35066974731,
          45542.81014965489,
          44176.52584516524,
          42851.230069810284,
          45605.952002869555,
          45666.312821696825,
          48543.290529463775,
          48544.1030540419,
          51350.83483062095,
          55156.837882772896,
          55157.25028747585,
          55157.95193447597,
          53503.21337644169,
          51898.116975148434,
          56556.39150686878,
          61600.48593638383,
          67171.97543171931,
          71195.81434584458,
          71195.81434584458,
          69059.93991546925,
          66988.14171800516,
          70915.38544620518,
          68787.92388281903,
          68787.97618286338,
          69017.99967009897,
          66947.459679996,
          64939.03588959612,
          68766.61906379422,
          72880.55188848793,
          78346.59328012439,
          75996.19548172066,
          73716.30961726904,
          78271.1659959138,
          75923.03101603639,
          75923.08712048325,
          75926.13884702606,
          75926.7567517796,
          73648.9540492262,
          80219.97111829378,
          85110.80161550523,
          82557.47756704007,
          80080.75324002886,
          84938.16785668857,
          82390.02282098791,
          82413.6754591185,
          79941.26519534494,
          77543.02723948458,
          77543.6001610729,
          82383.0257529433,
          82383.24717841914,
          87677.13361747708,
          93419.36842481876,
          90616.78737207419,
          87898.28375091197,
          94523.3444766004,
          100305.94907987426,
          106891.61016290524,
          106891.63620079431
         ],
         "yaxis": "y"
        }
       ],
       "layout": {
        "font": {
         "color": "#e1e1e1",
         "size": 8
        },
        "height": 600,
        "margin": {
         "b": 10,
         "l": 10,
         "r": 10,
         "t": 10
        },
        "paper_bgcolor": "#2c303c",
        "plot_bgcolor": "#2c303c",
        "template": {
         "data": {
          "bar": [
           {
            "error_x": {
             "color": "#2a3f5f"
            },
            "error_y": {
             "color": "#2a3f5f"
            },
            "marker": {
             "line": {
              "color": "#E5ECF6",
              "width": 0.5
             },
             "pattern": {
              "fillmode": "overlay",
              "size": 10,
              "solidity": 0.2
             }
            },
            "type": "bar"
           }
          ],
          "barpolar": [
           {
            "marker": {
             "line": {
              "color": "#E5ECF6",
              "width": 0.5
             },
             "pattern": {
              "fillmode": "overlay",
              "size": 10,
              "solidity": 0.2
             }
            },
            "type": "barpolar"
           }
          ],
          "carpet": [
           {
            "aaxis": {
             "endlinecolor": "#2a3f5f",
             "gridcolor": "white",
             "linecolor": "white",
             "minorgridcolor": "white",
             "startlinecolor": "#2a3f5f"
            },
            "baxis": {
             "endlinecolor": "#2a3f5f",
             "gridcolor": "white",
             "linecolor": "white",
             "minorgridcolor": "white",
             "startlinecolor": "#2a3f5f"
            },
            "type": "carpet"
           }
          ],
          "choropleth": [
           {
            "colorbar": {
             "outlinewidth": 0,
             "ticks": ""
            },
            "type": "choropleth"
           }
          ],
          "contour": [
           {
            "colorbar": {
             "outlinewidth": 0,
             "ticks": ""
            },
            "colorscale": [
             [
              0,
              "#0d0887"
             ],
             [
              0.1111111111111111,
              "#46039f"
             ],
             [
              0.2222222222222222,
              "#7201a8"
             ],
             [
              0.3333333333333333,
              "#9c179e"
             ],
             [
              0.4444444444444444,
              "#bd3786"
             ],
             [
              0.5555555555555556,
              "#d8576b"
             ],
             [
              0.6666666666666666,
              "#ed7953"
             ],
             [
              0.7777777777777778,
              "#fb9f3a"
             ],
             [
              0.8888888888888888,
              "#fdca26"
             ],
             [
              1,
              "#f0f921"
             ]
            ],
            "type": "contour"
           }
          ],
          "contourcarpet": [
           {
            "colorbar": {
             "outlinewidth": 0,
             "ticks": ""
            },
            "type": "contourcarpet"
           }
          ],
          "heatmap": [
           {
            "colorbar": {
             "outlinewidth": 0,
             "ticks": ""
            },
            "colorscale": [
             [
              0,
              "#0d0887"
             ],
             [
              0.1111111111111111,
              "#46039f"
             ],
             [
              0.2222222222222222,
              "#7201a8"
             ],
             [
              0.3333333333333333,
              "#9c179e"
             ],
             [
              0.4444444444444444,
              "#bd3786"
             ],
             [
              0.5555555555555556,
              "#d8576b"
             ],
             [
              0.6666666666666666,
              "#ed7953"
             ],
             [
              0.7777777777777778,
              "#fb9f3a"
             ],
             [
              0.8888888888888888,
              "#fdca26"
             ],
             [
              1,
              "#f0f921"
             ]
            ],
            "type": "heatmap"
           }
          ],
          "heatmapgl": [
           {
            "colorbar": {
             "outlinewidth": 0,
             "ticks": ""
            },
            "colorscale": [
             [
              0,
              "#0d0887"
             ],
             [
              0.1111111111111111,
              "#46039f"
             ],
             [
              0.2222222222222222,
              "#7201a8"
             ],
             [
              0.3333333333333333,
              "#9c179e"
             ],
             [
              0.4444444444444444,
              "#bd3786"
             ],
             [
              0.5555555555555556,
              "#d8576b"
             ],
             [
              0.6666666666666666,
              "#ed7953"
             ],
             [
              0.7777777777777778,
              "#fb9f3a"
             ],
             [
              0.8888888888888888,
              "#fdca26"
             ],
             [
              1,
              "#f0f921"
             ]
            ],
            "type": "heatmapgl"
           }
          ],
          "histogram": [
           {
            "marker": {
             "pattern": {
              "fillmode": "overlay",
              "size": 10,
              "solidity": 0.2
             }
            },
            "type": "histogram"
           }
          ],
          "histogram2d": [
           {
            "colorbar": {
             "outlinewidth": 0,
             "ticks": ""
            },
            "colorscale": [
             [
              0,
              "#0d0887"
             ],
             [
              0.1111111111111111,
              "#46039f"
             ],
             [
              0.2222222222222222,
              "#7201a8"
             ],
             [
              0.3333333333333333,
              "#9c179e"
             ],
             [
              0.4444444444444444,
              "#bd3786"
             ],
             [
              0.5555555555555556,
              "#d8576b"
             ],
             [
              0.6666666666666666,
              "#ed7953"
             ],
             [
              0.7777777777777778,
              "#fb9f3a"
             ],
             [
              0.8888888888888888,
              "#fdca26"
             ],
             [
              1,
              "#f0f921"
             ]
            ],
            "type": "histogram2d"
           }
          ],
          "histogram2dcontour": [
           {
            "colorbar": {
             "outlinewidth": 0,
             "ticks": ""
            },
            "colorscale": [
             [
              0,
              "#0d0887"
             ],
             [
              0.1111111111111111,
              "#46039f"
             ],
             [
              0.2222222222222222,
              "#7201a8"
             ],
             [
              0.3333333333333333,
              "#9c179e"
             ],
             [
              0.4444444444444444,
              "#bd3786"
             ],
             [
              0.5555555555555556,
              "#d8576b"
             ],
             [
              0.6666666666666666,
              "#ed7953"
             ],
             [
              0.7777777777777778,
              "#fb9f3a"
             ],
             [
              0.8888888888888888,
              "#fdca26"
             ],
             [
              1,
              "#f0f921"
             ]
            ],
            "type": "histogram2dcontour"
           }
          ],
          "mesh3d": [
           {
            "colorbar": {
             "outlinewidth": 0,
             "ticks": ""
            },
            "type": "mesh3d"
           }
          ],
          "parcoords": [
           {
            "line": {
             "colorbar": {
              "outlinewidth": 0,
              "ticks": ""
             }
            },
            "type": "parcoords"
           }
          ],
          "pie": [
           {
            "automargin": true,
            "type": "pie"
           }
          ],
          "scatter": [
           {
            "fillpattern": {
             "fillmode": "overlay",
             "size": 10,
             "solidity": 0.2
            },
            "type": "scatter"
           }
          ],
          "scatter3d": [
           {
            "line": {
             "colorbar": {
              "outlinewidth": 0,
              "ticks": ""
             }
            },
            "marker": {
             "colorbar": {
              "outlinewidth": 0,
              "ticks": ""
             }
            },
            "type": "scatter3d"
           }
          ],
          "scattercarpet": [
           {
            "marker": {
             "colorbar": {
              "outlinewidth": 0,
              "ticks": ""
             }
            },
            "type": "scattercarpet"
           }
          ],
          "scattergeo": [
           {
            "marker": {
             "colorbar": {
              "outlinewidth": 0,
              "ticks": ""
             }
            },
            "type": "scattergeo"
           }
          ],
          "scattergl": [
           {
            "marker": {
             "colorbar": {
              "outlinewidth": 0,
              "ticks": ""
             }
            },
            "type": "scattergl"
           }
          ],
          "scattermapbox": [
           {
            "marker": {
             "colorbar": {
              "outlinewidth": 0,
              "ticks": ""
             }
            },
            "type": "scattermapbox"
           }
          ],
          "scatterpolar": [
           {
            "marker": {
             "colorbar": {
              "outlinewidth": 0,
              "ticks": ""
             }
            },
            "type": "scatterpolar"
           }
          ],
          "scatterpolargl": [
           {
            "marker": {
             "colorbar": {
              "outlinewidth": 0,
              "ticks": ""
             }
            },
            "type": "scatterpolargl"
           }
          ],
          "scatterternary": [
           {
            "marker": {
             "colorbar": {
              "outlinewidth": 0,
              "ticks": ""
             }
            },
            "type": "scatterternary"
           }
          ],
          "surface": [
           {
            "colorbar": {
             "outlinewidth": 0,
             "ticks": ""
            },
            "colorscale": [
             [
              0,
              "#0d0887"
             ],
             [
              0.1111111111111111,
              "#46039f"
             ],
             [
              0.2222222222222222,
              "#7201a8"
             ],
             [
              0.3333333333333333,
              "#9c179e"
             ],
             [
              0.4444444444444444,
              "#bd3786"
             ],
             [
              0.5555555555555556,
              "#d8576b"
             ],
             [
              0.6666666666666666,
              "#ed7953"
             ],
             [
              0.7777777777777778,
              "#fb9f3a"
             ],
             [
              0.8888888888888888,
              "#fdca26"
             ],
             [
              1,
              "#f0f921"
             ]
            ],
            "type": "surface"
           }
          ],
          "table": [
           {
            "cells": {
             "fill": {
              "color": "#EBF0F8"
             },
             "line": {
              "color": "white"
             }
            },
            "header": {
             "fill": {
              "color": "#C8D4E3"
             },
             "line": {
              "color": "white"
             }
            },
            "type": "table"
           }
          ]
         },
         "layout": {
          "annotationdefaults": {
           "arrowcolor": "#2a3f5f",
           "arrowhead": 0,
           "arrowwidth": 1
          },
          "autotypenumbers": "strict",
          "coloraxis": {
           "colorbar": {
            "outlinewidth": 0,
            "ticks": ""
           }
          },
          "colorscale": {
           "diverging": [
            [
             0,
             "#8e0152"
            ],
            [
             0.1,
             "#c51b7d"
            ],
            [
             0.2,
             "#de77ae"
            ],
            [
             0.3,
             "#f1b6da"
            ],
            [
             0.4,
             "#fde0ef"
            ],
            [
             0.5,
             "#f7f7f7"
            ],
            [
             0.6,
             "#e6f5d0"
            ],
            [
             0.7,
             "#b8e186"
            ],
            [
             0.8,
             "#7fbc41"
            ],
            [
             0.9,
             "#4d9221"
            ],
            [
             1,
             "#276419"
            ]
           ],
           "sequential": [
            [
             0,
             "#0d0887"
            ],
            [
             0.1111111111111111,
             "#46039f"
            ],
            [
             0.2222222222222222,
             "#7201a8"
            ],
            [
             0.3333333333333333,
             "#9c179e"
            ],
            [
             0.4444444444444444,
             "#bd3786"
            ],
            [
             0.5555555555555556,
             "#d8576b"
            ],
            [
             0.6666666666666666,
             "#ed7953"
            ],
            [
             0.7777777777777778,
             "#fb9f3a"
            ],
            [
             0.8888888888888888,
             "#fdca26"
            ],
            [
             1,
             "#f0f921"
            ]
           ],
           "sequentialminus": [
            [
             0,
             "#0d0887"
            ],
            [
             0.1111111111111111,
             "#46039f"
            ],
            [
             0.2222222222222222,
             "#7201a8"
            ],
            [
             0.3333333333333333,
             "#9c179e"
            ],
            [
             0.4444444444444444,
             "#bd3786"
            ],
            [
             0.5555555555555556,
             "#d8576b"
            ],
            [
             0.6666666666666666,
             "#ed7953"
            ],
            [
             0.7777777777777778,
             "#fb9f3a"
            ],
            [
             0.8888888888888888,
             "#fdca26"
            ],
            [
             1,
             "#f0f921"
            ]
           ]
          },
          "colorway": [
           "#636efa",
           "#EF553B",
           "#00cc96",
           "#ab63fa",
           "#FFA15A",
           "#19d3f3",
           "#FF6692",
           "#B6E880",
           "#FF97FF",
           "#FECB52"
          ],
          "font": {
           "color": "#2a3f5f"
          },
          "geo": {
           "bgcolor": "white",
           "lakecolor": "white",
           "landcolor": "#E5ECF6",
           "showlakes": true,
           "showland": true,
           "subunitcolor": "white"
          },
          "hoverlabel": {
           "align": "left"
          },
          "hovermode": "closest",
          "mapbox": {
           "style": "light"
          },
          "paper_bgcolor": "white",
          "plot_bgcolor": "#E5ECF6",
          "polar": {
           "angularaxis": {
            "gridcolor": "white",
            "linecolor": "white",
            "ticks": ""
           },
           "bgcolor": "#E5ECF6",
           "radialaxis": {
            "gridcolor": "white",
            "linecolor": "white",
            "ticks": ""
           }
          },
          "scene": {
           "xaxis": {
            "backgroundcolor": "#E5ECF6",
            "gridcolor": "white",
            "gridwidth": 2,
            "linecolor": "white",
            "showbackground": true,
            "ticks": "",
            "zerolinecolor": "white"
           },
           "yaxis": {
            "backgroundcolor": "#E5ECF6",
            "gridcolor": "white",
            "gridwidth": 2,
            "linecolor": "white",
            "showbackground": true,
            "ticks": "",
            "zerolinecolor": "white"
           },
           "zaxis": {
            "backgroundcolor": "#E5ECF6",
            "gridcolor": "white",
            "gridwidth": 2,
            "linecolor": "white",
            "showbackground": true,
            "ticks": "",
            "zerolinecolor": "white"
           }
          },
          "shapedefaults": {
           "line": {
            "color": "#2a3f5f"
           }
          },
          "ternary": {
           "aaxis": {
            "gridcolor": "white",
            "linecolor": "white",
            "ticks": ""
           },
           "baxis": {
            "gridcolor": "white",
            "linecolor": "white",
            "ticks": ""
           },
           "bgcolor": "#E5ECF6",
           "caxis": {
            "gridcolor": "white",
            "linecolor": "white",
            "ticks": ""
           }
          },
          "title": {
           "x": 0.05
          },
          "xaxis": {
           "automargin": true,
           "gridcolor": "white",
           "linecolor": "white",
           "ticks": "",
           "title": {
            "standoff": 15
           },
           "zerolinecolor": "white",
           "zerolinewidth": 2
          },
          "yaxis": {
           "automargin": true,
           "gridcolor": "white",
           "linecolor": "white",
           "ticks": "",
           "title": {
            "standoff": 15
           },
           "zerolinecolor": "white",
           "zerolinewidth": 2
          }
         }
        },
        "width": 1400,
        "xaxis": {
         "anchor": "y",
         "domain": [
          0,
          0.94
         ],
         "gridcolor": "#1f292f",
         "nticks": 5,
         "rangeslider": {
          "visible": false
         }
        },
        "yaxis": {
         "anchor": "x",
         "domain": [
          0,
          1
         ],
         "gridcolor": "#1f292f"
        },
        "yaxis2": {
         "anchor": "x",
         "gridcolor": "#1f292f",
         "overlaying": "y",
         "side": "right"
        }
       }
      },
      "text/html": [
       "<div>                            <div id=\"cfcbab03-f67d-48c1-944b-5ed6954ee79d\" class=\"plotly-graph-div\" style=\"height:600px; width:1400px;\"></div>            <script type=\"text/javascript\">                require([\"plotly\"], function(Plotly) {                    window.PLOTLYENV=window.PLOTLYENV || {};                                    if (document.getElementById(\"cfcbab03-f67d-48c1-944b-5ed6954ee79d\")) {                    Plotly.newPlot(                        \"cfcbab03-f67d-48c1-944b-5ed6954ee79d\",                        [{\"line\":{\"shape\":\"spline\",\"width\":2},\"name\":\"balance\",\"x\":[\"s22-08-02 16:00\",\"s22-08-02 21:45\",\"s22-08-03 01:00\",\"s22-08-03 05:00\",\"s22-08-03 11:00\",\"s22-08-03 14:00\",\"s22-08-03 17:00\",\"s22-08-04 02:50\",\"s22-08-04 04:00\",\"s22-08-04 10:00\",\"s22-08-04 11:00\",\"s22-08-04 12:00\",\"s22-08-05 09:40\",\"s22-08-05 15:00\",\"s22-08-05 15:30\",\"s22-08-05 19:05\",\"s22-08-08 08:00\",\"s22-08-09 05:00\",\"s22-08-09 06:00\",\"s22-08-09 10:00\",\"s22-08-09 14:00\",\"s22-08-09 16:00\",\"s22-08-09 17:00\",\"s22-08-10 10:00\",\"s22-08-10 15:25\",\"s22-08-10 17:00\",\"s22-08-11 04:55\",\"s22-08-11 09:00\",\"s22-08-11 10:00\",\"s22-08-11 13:00\",\"s22-08-11 15:30\",\"s22-08-12 03:00\",\"s22-08-12 03:25\",\"s22-08-12 06:10\",\"s22-08-12 12:15\",\"s22-08-12 15:55\",\"s22-08-12 19:00\",\"s22-08-15 02:00\",\"s22-08-15 20:45\",\"s22-08-16 10:00\",\"s22-08-16 10:00\",\"s22-08-16 16:55\",\"s22-08-17 01:00\",\"s22-08-17 07:00\",\"s22-08-17 09:00\",\"s22-08-17 14:10\",\"s22-08-18 09:35\",\"s22-08-18 09:45\",\"s22-08-18 11:00\",\"s22-08-18 18:50\",\"s22-08-18 22:00\",\"s22-08-19 02:00\",\"s22-08-19 06:00\",\"s22-08-19 13:40\",\"s22-08-19 16:00\",\"s22-08-19 22:00\",\"s22-08-22 05:00\",\"s22-08-22 09:00\",\"s22-08-22 16:00\",\"s22-08-22 18:25\",\"s22-08-22 23:00\",\"s22-08-23 07:00\",\"s22-08-23 08:20\",\"s22-08-23 12:00\",\"s22-08-23 14:00\",\"s22-08-23 16:45\",\"s22-08-25 03:00\",\"s22-08-25 11:00\",\"s22-08-25 16:00\",\"s22-08-25 19:00\",\"s22-08-25 21:00\",\"s22-08-26 02:45\",\"s22-08-29 13:40\",\"s22-08-29 17:00\",\"s22-08-29 19:00\",\"s22-08-29 22:00\",\"s22-08-30 02:45\",\"s22-08-30 09:00\",\"s22-08-30 17:40\",\"s22-08-31 07:00\",\"s22-08-31 07:00\",\"s22-08-31 22:45\",\"s22-09-01 04:30\",\"s22-09-01 06:00\",\"s22-09-01 09:00\",\"s22-09-01 13:35\",\"s22-09-01 23:00\",\"s22-09-02 10:05\",\"s22-09-02 11:00\",\"s22-09-02 12:00\",\"s22-09-02 20:00\",\"s22-09-05 08:00\",\"s22-09-05 11:00\",\"s22-09-05 21:00\",\"s22-09-06 03:00\",\"s22-09-06 03:05\",\"s22-09-06 06:00\",\"s22-09-06 19:00\",\"s22-09-07 03:20\",\"s22-09-07 03:20\",\"s22-09-08 06:05\",\"s22-09-08 08:00\",\"s22-09-08 11:00\",\"s22-09-08 14:00\",\"s22-09-08 16:00\",\"s22-09-09 01:00\",\"s22-09-09 07:10\",\"s22-09-09 15:00\",\"s22-09-12 00:05\",\"s22-09-12 01:00\",\"s22-09-12 03:00\",\"s22-09-12 07:00\",\"s22-09-12 10:10\",\"s22-09-12 18:00\",\"s22-09-12 19:00\",\"s22-09-13 06:00\",\"s22-09-13 08:00\",\"s22-09-13 09:20\",\"s22-09-13 13:00\",\"s22-09-13 18:05\",\"s22-09-14 06:00\",\"s22-09-14 19:00\",\"s22-09-15 02:00\",\"s22-09-15 03:10\",\"s22-09-15 07:55\",\"s22-09-15 15:05\",\"s22-09-15 16:20\",\"s22-09-15 17:00\",\"s22-09-15 21:00\",\"s22-09-16 09:15\",\"s22-09-16 09:35\",\"s22-09-16 10:45\",\"s22-09-16 13:50\",\"s22-09-16 16:00\",\"s22-09-19 01:00\",\"s22-09-19 07:00\",\"s22-09-19 11:00\",\"s22-09-19 12:50\",\"s22-09-19 13:05\",\"s22-09-19 17:35\",\"s22-09-20 01:10\",\"s22-09-20 09:00\",\"s22-09-20 11:00\",\"s22-09-20 18:00\",\"s22-09-21 03:00\",\"s22-09-21 06:00\",\"s22-09-21 07:55\",\"s22-09-21 09:30\",\"s22-09-21 18:00\",\"s22-09-22 03:00\",\"s22-09-22 13:00\",\"s22-09-22 18:00\",\"s22-09-23 03:45\",\"s22-09-23 10:00\",\"s22-09-23 10:00\",\"s22-09-26 03:55\",\"s22-09-27 02:55\",\"s22-09-27 03:00\",\"s22-09-27 08:40\",\"s22-09-27 14:00\",\"s22-09-27 16:30\",\"s22-09-27 19:05\",\"s22-09-27 19:15\",\"s22-09-27 20:00\",\"s22-09-28 03:45\",\"s22-09-28 22:25\",\"s22-09-29 07:20\",\"s22-09-29 09:00\",\"s22-09-29 16:00\",\"s22-09-30 07:15\",\"s22-09-30 11:00\",\"s22-09-30 23:00\",\"s22-10-03 01:00\",\"s22-10-03 06:00\",\"s22-10-03 10:00\",\"s22-10-03 20:00\",\"s22-10-04 01:00\",\"s22-10-04 05:00\",\"s22-10-04 08:00\",\"s22-10-04 16:00\",\"s22-10-04 22:00\",\"s22-10-05 01:00\",\"s22-10-05 03:00\",\"s22-10-05 05:45\",\"s22-10-05 09:35\",\"s22-10-05 13:10\",\"s22-10-05 18:15\",\"s22-10-06 12:00\",\"s22-10-06 16:00\",\"s22-10-06 19:00\",\"s22-10-06 21:00\",\"s22-10-07 11:00\",\"s22-10-07 15:00\",\"s22-10-07 17:35\",\"s22-10-10 01:00\",\"s22-10-10 10:05\",\"s22-10-10 13:00\",\"s22-10-10 14:00\",\"s22-10-10 16:00\",\"s22-10-11 09:00\",\"s22-10-11 12:00\",\"s22-10-11 14:20\",\"s22-10-11 15:00\",\"s22-10-11 21:55\",\"s22-10-12 05:00\",\"s22-10-13 03:00\",\"s22-10-13 05:00\",\"s22-10-13 09:00\",\"s22-10-13 14:15\",\"s22-10-13 14:30\",\"s22-10-13 22:00\",\"s22-10-14 02:00\",\"s22-10-14 03:00\",\"s22-10-14 05:00\",\"s22-10-14 09:00\",\"s22-10-14 12:00\",\"s22-10-14 14:40\",\"s22-10-14 19:00\",\"s22-10-17 01:00\",\"s22-10-17 05:00\",\"s22-10-17 17:40\",\"s22-10-17 19:40\",\"s22-10-18 03:00\",\"s22-10-18 15:00\",\"s22-10-18 17:00\",\"s22-10-18 22:00\",\"s22-10-18 23:35\",\"s22-10-19 17:25\",\"s22-10-20 03:00\",\"s22-10-20 05:00\",\"s22-10-21 02:00\",\"s22-10-21 08:05\",\"s22-10-21 08:30\",\"s22-10-21 10:00\",\"s22-10-21 12:00\",\"s22-10-24 03:00\",\"s22-10-24 08:00\",\"s22-10-24 11:00\",\"s22-10-24 14:05\",\"s22-10-24 15:00\",\"s22-10-24 18:00\",\"s22-10-24 19:00\",\"s22-10-25 06:00\",\"s22-10-25 08:00\",\"s22-10-25 14:15\",\"s22-10-25 16:30\",\"s22-10-25 19:00\",\"s22-10-26 03:00\",\"s22-10-26 15:00\",\"s22-10-26 18:00\",\"s22-10-27 01:00\",\"s22-10-27 07:50\",\"s22-10-27 09:00\",\"s22-10-27 21:45\",\"s22-10-27 22:00\",\"s22-10-28 02:00\",\"s22-10-28 16:05\",\"s22-10-28 21:00\",\"s22-10-31 02:55\",\"s22-10-31 10:15\",\"s22-10-31 15:25\",\"s22-10-31 19:00\",\"s22-11-01 03:30\",\"s22-11-01 06:00\",\"s22-11-01 08:15\",\"s22-11-01 10:00\",\"s22-11-01 11:00\",\"s22-11-01 15:00\",\"s22-11-01 22:00\",\"s22-11-02 12:00\",\"s22-11-02 14:00\",\"s22-11-02 17:45\",\"s22-11-02 22:00\",\"s22-11-04 09:00\",\"s22-11-04 10:00\",\"s22-11-07 04:00\",\"s22-11-07 18:00\",\"s22-11-08 02:30\",\"s22-11-08 11:00\",\"s22-11-08 17:40\",\"s22-11-08 21:05\",\"s22-11-09 09:00\",\"s22-11-09 12:00\",\"s22-11-09 19:00\",\"s22-11-10 01:20\",\"s22-11-10 15:30\",\"s22-11-10 23:05\",\"s22-11-11 06:00\",\"s22-11-11 12:00\",\"s22-11-11 15:00\",\"s22-11-11 17:00\",\"s22-11-11 20:10\",\"s22-11-14 03:00\",\"s22-11-14 05:00\",\"s22-11-14 06:00\",\"s22-11-14 07:00\",\"s22-11-14 19:50\",\"s22-11-15 07:00\",\"s22-11-15 19:00\",\"s22-11-15 23:00\",\"s22-11-16 05:00\",\"s22-11-16 09:00\",\"s22-11-16 19:00\",\"s22-11-17 02:00\",\"s22-11-17 10:10\",\"s22-11-17 11:00\",\"s22-11-17 16:00\",\"s22-11-17 19:00\",\"s22-11-17 19:50\",\"s22-11-18 01:00\",\"s22-11-18 07:00\",\"s22-11-18 11:00\",\"s22-11-18 15:20\",\"s22-11-18 22:00\",\"s22-11-21 02:05\",\"s22-11-21 05:00\",\"s22-11-21 10:00\",\"s22-11-21 11:10\",\"s22-11-21 15:00\",\"s22-11-21 16:00\",\"s22-11-21 21:25\",\"s22-11-22 07:20\",\"s22-11-22 23:00\",\"s22-11-23 05:00\",\"s22-11-23 15:30\",\"s22-11-23 16:45\",\"s22-11-24 02:00\",\"s22-11-24 12:00\",\"s22-11-24 15:00\",\"s22-11-24 16:00\",\"s22-11-24 17:00\",\"s22-11-25 03:00\",\"s22-11-25 04:35\",\"s22-11-25 13:00\",\"s22-11-25 22:00\",\"s22-11-28 01:30\",\"s22-11-28 15:15\",\"s22-11-28 18:15\",\"s22-11-29 03:45\",\"s22-11-29 17:00\",\"s22-11-29 20:15\",\"s22-11-30 01:00\",\"s22-11-30 01:40\",\"s22-11-30 03:00\",\"s22-11-30 08:30\",\"s22-11-30 21:15\",\"s22-12-01 05:00\",\"s22-12-01 22:00\",\"s22-12-02 01:10\",\"s22-12-02 03:00\",\"s22-12-02 06:00\",\"s22-12-02 16:00\",\"s22-12-05 03:30\",\"s22-12-05 05:00\",\"s22-12-05 09:05\",\"s22-12-06 02:00\",\"s22-12-06 02:15\",\"s22-12-06 02:55\",\"s22-12-06 12:40\",\"s22-12-06 16:00\",\"s22-12-07 02:00\",\"s22-12-07 05:00\",\"s22-12-07 08:05\",\"s22-12-07 12:00\",\"s22-12-07 13:05\",\"s22-12-07 20:00\",\"s22-12-08 02:00\",\"s22-12-08 05:10\",\"s22-12-08 07:00\",\"s22-12-08 09:00\",\"s22-12-08 11:00\",\"s22-12-08 17:35\",\"s22-12-08 20:00\",\"s22-12-08 20:50\",\"s22-12-09 00:20\",\"s22-12-09 03:10\",\"s22-12-09 11:00\",\"s22-12-12 03:10\",\"s22-12-12 08:00\",\"s22-12-12 17:00\",\"s22-12-12 20:30\",\"s22-12-12 21:00\",\"s22-12-13 03:00\",\"s22-12-13 06:00\",\"s22-12-13 11:00\",\"s22-12-13 15:30\",\"s22-12-13 15:30\",\"s22-12-13 17:00\",\"s22-12-13 22:00\",\"s22-12-14 08:40\",\"s22-12-14 10:15\",\"s22-12-14 23:00\",\"s22-12-15 03:00\",\"s22-12-15 13:00\",\"s22-12-16 03:00\",\"s22-12-16 04:00\",\"s22-12-19 06:00\",\"s22-12-19 11:05\",\"s22-12-19 17:00\",\"s22-12-19 19:00\",\"s22-12-19 21:00\",\"s22-12-20 01:30\",\"s22-12-20 04:00\",\"s22-12-21 01:05\",\"s22-12-22 08:20\",\"s22-12-22 20:00\",\"s22-12-23 21:00\",\"s22-12-27 03:00\",\"s22-12-27 12:00\",\"s22-12-27 19:00\",\"s22-12-28 02:00\",\"s22-12-28 03:00\",\"s22-12-28 12:45\",\"s22-12-28 22:00\",\"s22-12-29 11:55\",\"s22-12-29 16:00\",\"s22-12-29 19:00\",\"s22-12-30 00:20\",\"s22-12-30 00:20\",\"s22-12-30 01:00\",\"s22-12-30 02:00\",\"s22-12-30 05:00\",\"s22-12-30 06:00\",\"s22-12-30 17:00\",\"s22-12-30 19:00\",\"s22-12-30 23:00\",\"s23-01-03 02:00\",\"s23-01-03 05:00\",\"s23-01-03 07:00\",\"s23-01-03 11:00\",\"s23-01-03 13:15\",\"s23-01-04 06:00\",\"s23-01-04 09:00\",\"s23-01-04 10:05\",\"s23-01-04 12:00\",\"s23-01-04 17:00\",\"s23-01-04 18:00\",\"s23-01-04 19:00\",\"s23-01-05 11:00\",\"s23-01-05 15:20\",\"s23-01-05 15:55\",\"s23-01-06 11:55\",\"s23-01-06 17:00\",\"s23-01-09 01:00\",\"s23-01-09 04:00\",\"s23-01-09 17:35\",\"s23-01-09 19:15\",\"s23-01-10 09:00\",\"s23-01-10 09:25\",\"s23-01-10 09:25\",\"s23-01-10 11:00\",\"s23-01-10 20:00\",\"s23-01-11 02:00\",\"s23-01-11 06:40\",\"s23-01-11 12:25\",\"s23-01-11 19:00\",\"s23-01-12 02:00\",\"s23-01-12 11:10\",\"s23-01-13 04:15\",\"s23-01-16 02:50\",\"s23-01-16 17:00\",\"s23-01-17 02:00\",\"s23-01-17 04:00\",\"s23-01-17 23:00\",\"s23-01-17 23:40\",\"s23-01-18 02:00\",\"s23-01-18 08:10\",\"s23-01-18 13:00\",\"s23-01-18 18:00\",\"s23-01-18 23:00\",\"s23-01-19 04:00\",\"s23-01-19 05:00\",\"s23-01-19 15:00\",\"s23-01-19 17:00\",\"s23-01-19 17:05\",\"s23-01-20 05:00\",\"s23-01-20 14:00\",\"s23-01-23 02:50\",\"s23-01-23 02:50\",\"s23-01-23 05:00\",\"s23-01-23 12:30\",\"s23-01-23 20:00\",\"s23-01-24 16:45\",\"s23-01-24 22:10\",\"s23-01-25 07:00\",\"s23-01-25 09:45\",\"s23-01-25 11:00\",\"s23-01-25 16:45\",\"s23-01-25 20:00\",\"s23-01-25 22:00\",\"s23-01-26 06:00\",\"s23-01-26 09:00\",\"s23-01-26 11:15\",\"s23-01-26 13:00\",\"s23-01-26 17:35\",\"s23-01-27 01:00\",\"s23-01-27 02:00\",\"s23-01-27 12:00\",\"s23-01-27 21:00\",\"s23-01-30 02:00\",\"s23-01-30 04:00\",\"s23-01-30 05:00\",\"s23-01-30 13:00\",\"s23-01-30 23:00\",\"s23-01-31 09:10\",\"s23-01-31 10:10\",\"s23-01-31 10:15\",\"s23-01-31 12:00\",\"s23-01-31 19:00\",\"s23-02-01 05:00\",\"s23-02-01 10:00\",\"s23-02-01 15:00\",\"s23-02-01 15:45\",\"s23-02-01 21:00\",\"s23-02-02 03:30\",\"s23-02-02 14:00\",\"s23-02-02 19:50\",\"s23-02-02 23:30\",\"s23-02-03 15:45\",\"s23-02-03 17:00\",\"s23-02-06 07:45\",\"s23-02-06 12:00\",\"s23-02-06 23:00\",\"s23-02-07 06:05\",\"s23-02-07 10:00\",\"s23-02-07 16:00\",\"s23-02-07 17:50\",\"s23-02-08 11:00\",\"s23-02-08 22:10\",\"s23-02-09 02:00\",\"s23-02-09 03:00\",\"s23-02-09 20:40\",\"s23-02-10 10:00\",\"s23-02-10 21:50\",\"s23-02-13 11:00\",\"s23-02-13 19:00\",\"s23-02-14 03:30\",\"s23-02-14 05:00\",\"s23-02-14 09:00\",\"s23-02-14 15:00\",\"s23-02-14 18:00\",\"s23-02-15 08:30\",\"s23-02-15 09:10\",\"s23-02-15 09:10\",\"s23-02-15 20:00\",\"s23-02-15 22:00\",\"s23-02-16 01:00\",\"s23-02-16 04:00\",\"s23-02-16 08:35\",\"s23-02-16 20:00\",\"s23-02-17 01:00\",\"s23-02-17 08:00\",\"s23-02-17 10:00\",\"s23-02-17 11:00\",\"s23-02-17 17:00\",\"s23-02-20 16:00\",\"s23-02-20 19:00\",\"s23-02-21 01:00\",\"s23-02-21 02:00\",\"s23-02-21 06:00\",\"s23-02-21 07:00\",\"s23-02-21 10:00\",\"s23-02-21 11:20\",\"s23-02-21 15:00\",\"s23-02-21 18:00\",\"s23-02-21 22:00\",\"s23-02-22 09:00\",\"s23-02-22 10:35\",\"s23-02-22 14:00\",\"s23-02-22 20:00\",\"s23-02-22 23:00\",\"s23-02-23 11:00\",\"s23-02-24 05:00\",\"s23-02-24 13:25\",\"s23-02-24 16:25\",\"s23-02-24 18:00\",\"s23-02-24 21:00\",\"s23-02-24 23:00\",\"s23-02-27 04:00\",\"s23-02-27 09:00\",\"s23-02-27 17:15\",\"s23-02-27 19:00\",\"s23-02-28 01:00\",\"s23-02-28 18:10\",\"s23-03-01 14:00\",\"s23-03-02 01:00\",\"s23-03-02 05:00\",\"s23-03-02 14:50\",\"s23-03-02 16:00\",\"s23-03-02 20:00\",\"s23-03-03 02:55\",\"s23-03-03 06:00\",\"s23-03-03 08:35\",\"s23-03-03 16:00\",\"s23-03-06 02:10\",\"s23-03-06 07:00\",\"s23-03-06 10:00\",\"s23-03-06 18:00\",\"s23-03-07 03:00\",\"s23-03-07 08:00\",\"s23-03-07 09:10\",\"s23-03-07 17:00\",\"s23-03-07 17:00\",\"s23-03-07 17:05\",\"s23-03-08 01:00\",\"s23-03-08 02:00\",\"s23-03-08 08:00\",\"s23-03-08 14:10\",\"s23-03-08 16:00\",\"s23-03-08 17:00\",\"s23-03-09 12:00\",\"s23-03-09 19:00\",\"s23-03-10 02:00\",\"s23-03-10 04:30\",\"s23-03-10 11:40\",\"s23-03-10 15:30\",\"s23-03-10 19:00\",\"s23-03-13 05:00\",\"s23-03-13 12:15\",\"s23-03-13 19:00\",\"s23-03-14 01:00\",\"s23-03-14 09:00\",\"s23-03-15 04:00\",\"s23-03-15 10:55\",\"s23-03-15 16:05\",\"s23-03-16 02:05\",\"s23-03-16 09:00\",\"s23-03-16 11:15\",\"s23-03-17 05:40\",\"s23-03-17 11:00\",\"s23-03-17 15:00\",\"s23-03-17 18:00\",\"s23-03-17 22:00\",\"s23-03-20 07:00\",\"s23-03-20 12:55\",\"s23-03-21 01:00\",\"s23-03-21 10:50\",\"s23-03-21 15:05\",\"s23-03-22 00:55\",\"s23-03-22 04:00\",\"s23-03-22 09:00\",\"s23-03-22 19:35\",\"s23-03-23 02:50\",\"s23-03-23 12:00\"],\"y\":[97.0,103.07086206896577,103.07101461838421,99.97888417983268,99.98223053373064,99.98456973134194,106.13796093602917,102.9538221079483,99.86520744470985,96.86925122136856,96.87035004483688,93.96423954349177,99.88715396864869,99.88806735240591,108.78171575884346,105.51826428607815,102.35271635749581,99.28213486677093,99.28277601714139,96.30429273662715,93.41516395452832,93.41608987320761,90.61360717701137,87.89519896170103,93.02388382111621,90.23316730648273,95.59559553498192,92.72772766893246,92.72831940277506,89.9464698206918,95.73856415118301,92.86640722664752,98.63458829523236,105.6212049661403,112.64997520822412,119.50390347510695,119.50523350750396,119.50529261242923,127.06850428187153,135.74373268082107,147.0656550000237,155.76954070410693,151.09645448298372,146.5635608484942,156.19197255423464,166.61450231159097,177.4175716550187,189.36991332440974,189.37614922828783,201.11950132386482,201.12202977192612,201.1224344236635,195.08876139095358,206.75532771784282,206.7601967374872,200.55739083536258,200.5593766193214,194.54259532074175,194.5432867116829,207.77703374602095,207.77798749172376,207.77962912634814,220.1505085835613,280.3681476961201,271.95710326523647,301.8361236773086,292.78103996698934,292.78801241585734,284.00437204338164,275.4842408820802,275.4848695544693,295.1361235826837,312.9840923193417,303.59456954976145,294.4867324632686,285.6521304893705,306.9378215032519,297.7296868581543,315.573441409092,333.5199658161838,333.5221079757656,323.51644473649264,342.96172645015827,342.9620816331391,342.96563349727967,363.5963354507294,352.6884453872075,342.10779202559127,342.1093905356389,331.84610881956974,321.8907255549826,341.3547193162695,331.1140777367814,321.1806554046779,311.54523574253756,330.1040479233033,330.2891529969043,330.28983947250225,353.42570794498766,383.4668931203047,371.9628863266955,371.9641472726355,360.8052228544564,360.81385209003565,349.9894365273346,339.48975343151454,360.1903481529487,349.38463770836023,385.45624084474014,408.6229475648988,396.3642591379518,384.47333136381326,409.73872171057945,409.74449864527793,397.4521636859196,397.4525716953267,385.5289945444669,408.7084285257381,396.44717566996593,384.5537603998669,384.5557655467883,384.5583596718888,373.0216088817321,396.853545004732,384.94793865459,373.3995004949523,401.6428031387675,401.64772253827954,401.6480373613087,426.82063217810924,452.6994410343807,487.3773789854114,517.547227469921,502.0208106458234,486.9601863264487,486.9636458515193,472.3547364759737,500.5925853207753,531.2308606096383,562.1887969693015,545.3231330602224,528.9634390684157,528.9648239828167,528.9657971794755,528.968725600469,528.9726314190158,563.0619787771325,614.4078687465694,595.9756326841723,578.0963637036471,560.7534727925377,560.754219514668,594.8364240254325,639.67975841717,701.9776343970112,789.7970046216699,852.822805590479,852.8337373881319,911.3663550477194,911.3835716584937,972.4581071098946,943.2843638965977,1001.5051119305439,971.4599585726276,1056.4989534536387,1126.6186442684734,1193.1595579455734,1157.364771207206,1122.64382807099,1186.8251639022117,1186.8643407582729,1151.2584105355247,1151.2587192915014,1116.7209577127562,1083.2193289813736,1050.7227491119322,1019.2010666385743,988.625034639417,958.9662836002344,958.9667889976276,958.9728048383574,930.2036206932066,902.2975120724104,875.2285867102381,930.0255069216576,902.1247417140078,956.343044143867,959.0863389318496,959.0932347300204,1018.3075499076398,1018.3212033152668,1018.3294102147232,1028.0772345032913,997.2349174681925,1170.005866919466,1261.266324539162,1261.2858003016615,1223.4472262926117,1186.7438095038333,1186.8338896322969,1260.0593013133782,1222.2575222739767,1222.265458152273,1302.334824093506,1263.2647793707008,1225.3668359895798,1188.6058309098923,1269.6471375628491,1346.1258824632887,1439.8122991915009,1439.8317583487772,1439.8370966138018,1396.6419837153878,1396.6637641391026,1505.6035377418534,1505.6059413874448,1460.4377631458215,1460.5108716956288,1569.3051532324982,1522.2259986355232,1613.6917344724907,1713.5180438394952,1933.82750661883,1933.8654690645774,1875.84950499264,1875.859947189506,1819.584148773821,1926.190373019626,2041.7617954007642,1980.5089415387413,1980.517406081137,2099.7244980547657,2230.5439475890844,2163.6276291614117,2098.718800286569,2035.757236277972,2035.7593891705026,1974.6866074953875,1915.4460092705258,1857.98262899241,1802.2431501226376,1802.2766647879992,1802.2838386312333,1802.3044150147668,1939.9349339794996,2059.707548517379,1997.9163220618577,1937.978832400002,1937.9803407764596,1879.8409305531657,1879.841900952249,2007.6124051575982,2007.6289822965757,1947.4001128276784,1888.978109442848,1888.9815371228187,2006.6629156424237,2006.6805788615918,2122.1164307177355,2255.7434497144823,2391.2261634391652,2319.48937853599,2468.323280325344,2394.2735819155837,2547.105132819613,2470.6919788350247,2470.6926217421233,2396.5718430898596,2324.6746877971636,2254.9344471632485,2254.9814980728493,2389.662584807066,2317.9727072628543,2318.0123688640906,2248.4719977981676,2181.0178378642227,2115.587302728296,2236.633792729737,2385.2736610081674,2539.7902856661194,2703.9823618803075,2622.862891023898,2544.177004293181,2544.237290731358,2704.122518369961,3091.056434409598,3283.5184388162334,3185.0128856517463,3089.462499082194,3089.4853111541156,2996.8007518194922,3176.247736597107,3080.960304499194,2988.5314953642182,2898.875550503292,2811.909283988193,2975.9660771828453,2886.68709486736,2800.086482021339,2800.172165715721,2800.182775554264,2716.177292287636,2716.17797775248,2771.337284377603,2936.1366541890693,2936.1499492332878,2936.2218262199835,2848.135171433384,3032.9869016260286,2941.997294577248,2853.7373757399305,2768.1252544677327,2969.5680328869335,3144.2711911852984,3049.9430554497394,3232.1531205102583,3232.256493402791,3459.974176679934,3356.1749513795357,3356.1800669800105,3552.7887236064435,3765.9560470227516,3765.9664991257237,3765.9702988783565,3993.5042366013868,4256.123422491801,4283.484215922102,4283.664855016344,4283.682884801571,4155.172398257524,4155.1754771512915,4030.5202128367528,4247.674771242605,4247.676875962122,4247.762251105287,4502.627986171596,4814.348385214222,5105.883926318848,5410.194608327439,5247.888770077616,5090.452106975287,5090.454662209341,5397.6999614641045,5397.728358786636,5726.090167279469,6120.179902321633,5936.574505251983,5758.477270094424,6356.6158768590085,6165.917400553238,6165.924950039893,5980.9472015386955,6342.06573635427,6151.803764263641,6547.530371791772,6547.578704146349,6351.151343021958,6727.815000706305,6525.980550685115,6330.201134164562,6330.2073950266495,6330.210524119701,6140.30420839611,5956.095082144227,6334.930432136378,6334.9553073141615,6335.011344070528,6659.487534864331,6459.702908818401,6459.75849186536,6265.965737109399,6639.490296583671,6639.5489119278955,6440.362444570059,6826.7841912443155,7245.373853496865,7028.0126378919595,7464.963172927467,7241.014277739643,7023.783849407454,7473.826296054687,7249.611507173046,7249.645171905337,7032.155816748176,6821.191142245731,7472.870863949115,8505.885365730295,8505.920293560122,8505.932667807701,9011.185068275558,8740.84951622729,8740.952944078319,9247.115102933234,9247.175838090205,9247.257737942635,8969.840005804355,8700.744805630224,9210.159380540428,9210.302367243477,9210.356816851036,9942.692505215391,10550.72639303415,10550.791505969399,10234.267760790317,11226.991733587,10890.18198157939,10563.476522132009,10246.572226468048,10246.584968636425,9939.187419577333,9939.296513359972,9641.117617959173,10239.066726181749,9931.894724396296,10560.312790594391,10560.523127457835,10560.665006407151,11559.016244803706,12700.286203151287,12319.277617056749,12319.437035668645,11949.853924598585,11949.868805245527,11949.963801759743,11950.052864649859,11950.112176010114,11950.195391301984,11950.367537275384,12042.217469586689,11680.950945499088,12381.808002228945,12010.353762162076,11650.043149297213,12388.591756284794,12016.934003596249,12016.975825179265,11656.466550423886,11656.594126234962,11656.614490485756,12389.91069797393,13167.096005392306,13960.183881065948,13541.378364633969,13135.13701369495,12741.082903284101,13513.857279374595,14806.9936224872,15210.19944882266,16181.15190678866,17220.61503471387,17220.627772169206,16704.00893900413,16704.149130959613,17684.289646143716,17153.760956759405,16639.148128056622,16639.197394769835,17883.895797287372,18949.47792187586,20045.84057307007,20046.151106562,19444.766573365137,18861.423576164183,18295.580868879257,19351.095149776174,19351.114054714773,20471.298262670625,19857.159314790508,19261.444535346793,19261.528838707593,18683.682973546365,18683.851173516363,18123.335638310873,18195.214630503513,19283.772268802404,19283.7909494995,19283.97360255001,20578.22490779807,21985.041101308827,21325.48986826956,22593.844331177173,21916.02900124186,23269.96188275265,24849.86982110751,24849.88191791648,26361.023385898017,25570.192684321075,27389.236771484,27389.6415614123,26567.95231456993,28048.166800666677,28048.20072552331,27206.75470375761,27206.781042433453,26390.57761116045,25598.860282825637,25599.008752544778,25599.4370995241,24831.453986538378,24831.682264666408,24086.731796726413,24086.74929144736,24086.836632601116,24086.92440693129,25541.77464110979,27299.452027596588,28972.05893732372,28972.073040682066,28972.136522821933,28102.972427137272,27259.883254323155,26442.086756693458,27955.89622351413,27956.47572630135,30123.10259508983,30127.35956113624,29223.538774302153,30985.144616304446,33023.01374299213,33023.046404551285,32032.355012414744,31071.3843620423,30139.24283118103,32091.44378729165,31128.7004736729,30194.839459462713,32135.936281856582,32152.037794816195,34160.80272493262,34160.93857117888,34161.12545805363,36258.56066096551,39095.79303268572,37922.919241705145,36785.23166445399,35681.67471452037,37822.5751973916,36687.89794146985,35587.26100322575,34519.64317312898,34520.81879810008,36961.46267490869,39250.458723522,42185.95077735161,40920.37225403106,40944.1631681323,39715.83827308833,38524.36312489568,41234.35280678483,39997.322222581286,39997.342244434374,39997.44267213981,42607.017943327606,41328.80740502778,43835.39211406925,43835.73076596048,43835.73076596048,42520.65884298166,42520.66943915033,41245.049355975825,41245.09050501077,40007.737789860446,38807.505656164634,37643.28048647969,37643.289786934416,37643.56025976805,37644.23172235217,40117.66559809692,40117.9544221833,40118.1338495002,40118.14384272494,42731.554355907974,42732.06637080469,45529.71822988805,48384.31174785414,48385.45433979433,48385.770325112106,46934.19721535874,45526.17129889798,45526.85810626948,48353.165457506744,46902.57049378154,45495.493378968094,48403.24882536284,48403.2608758642,46951.16304958827,46951.35066974731,45542.81014965489,44176.52584516524,42851.230069810284,45605.952002869555,45666.312821696825,48543.290529463775,48544.1030540419,51350.83483062095,55156.837882772896,55157.25028747585,55157.95193447597,53503.21337644169,51898.116975148434,56556.39150686878,61600.48593638383,67171.97543171931,71195.81434584458,71195.81434584458,69059.93991546925,66988.14171800516,70915.38544620518,68787.92388281903,68787.97618286338,69017.99967009897,66947.459679996,64939.03588959612,68766.61906379422,72880.55188848793,78346.59328012439,75996.19548172066,73716.30961726904,78271.1659959138,75923.03101603639,75923.08712048325,75926.13884702606,75926.7567517796,73648.9540492262,80219.97111829378,85110.80161550523,82557.47756704007,80080.75324002886,84938.16785668857,82390.02282098791,82413.6754591185,79941.26519534494,77543.02723948458,77543.6001610729,82383.0257529433,82383.24717841914,87677.13361747708,93419.36842481876,90616.78737207419,87898.28375091197,94523.3444766004,100305.94907987426,106891.61016290524,106891.63620079431],\"type\":\"scatter\",\"xaxis\":\"x\",\"yaxis\":\"y\"}],                        {\"template\":{\"data\":{\"histogram2dcontour\":[{\"type\":\"histogram2dcontour\",\"colorbar\":{\"outlinewidth\":0,\"ticks\":\"\"},\"colorscale\":[[0.0,\"#0d0887\"],[0.1111111111111111,\"#46039f\"],[0.2222222222222222,\"#7201a8\"],[0.3333333333333333,\"#9c179e\"],[0.4444444444444444,\"#bd3786\"],[0.5555555555555556,\"#d8576b\"],[0.6666666666666666,\"#ed7953\"],[0.7777777777777778,\"#fb9f3a\"],[0.8888888888888888,\"#fdca26\"],[1.0,\"#f0f921\"]]}],\"choropleth\":[{\"type\":\"choropleth\",\"colorbar\":{\"outlinewidth\":0,\"ticks\":\"\"}}],\"histogram2d\":[{\"type\":\"histogram2d\",\"colorbar\":{\"outlinewidth\":0,\"ticks\":\"\"},\"colorscale\":[[0.0,\"#0d0887\"],[0.1111111111111111,\"#46039f\"],[0.2222222222222222,\"#7201a8\"],[0.3333333333333333,\"#9c179e\"],[0.4444444444444444,\"#bd3786\"],[0.5555555555555556,\"#d8576b\"],[0.6666666666666666,\"#ed7953\"],[0.7777777777777778,\"#fb9f3a\"],[0.8888888888888888,\"#fdca26\"],[1.0,\"#f0f921\"]]}],\"heatmap\":[{\"type\":\"heatmap\",\"colorbar\":{\"outlinewidth\":0,\"ticks\":\"\"},\"colorscale\":[[0.0,\"#0d0887\"],[0.1111111111111111,\"#46039f\"],[0.2222222222222222,\"#7201a8\"],[0.3333333333333333,\"#9c179e\"],[0.4444444444444444,\"#bd3786\"],[0.5555555555555556,\"#d8576b\"],[0.6666666666666666,\"#ed7953\"],[0.7777777777777778,\"#fb9f3a\"],[0.8888888888888888,\"#fdca26\"],[1.0,\"#f0f921\"]]}],\"heatmapgl\":[{\"type\":\"heatmapgl\",\"colorbar\":{\"outlinewidth\":0,\"ticks\":\"\"},\"colorscale\":[[0.0,\"#0d0887\"],[0.1111111111111111,\"#46039f\"],[0.2222222222222222,\"#7201a8\"],[0.3333333333333333,\"#9c179e\"],[0.4444444444444444,\"#bd3786\"],[0.5555555555555556,\"#d8576b\"],[0.6666666666666666,\"#ed7953\"],[0.7777777777777778,\"#fb9f3a\"],[0.8888888888888888,\"#fdca26\"],[1.0,\"#f0f921\"]]}],\"contourcarpet\":[{\"type\":\"contourcarpet\",\"colorbar\":{\"outlinewidth\":0,\"ticks\":\"\"}}],\"contour\":[{\"type\":\"contour\",\"colorbar\":{\"outlinewidth\":0,\"ticks\":\"\"},\"colorscale\":[[0.0,\"#0d0887\"],[0.1111111111111111,\"#46039f\"],[0.2222222222222222,\"#7201a8\"],[0.3333333333333333,\"#9c179e\"],[0.4444444444444444,\"#bd3786\"],[0.5555555555555556,\"#d8576b\"],[0.6666666666666666,\"#ed7953\"],[0.7777777777777778,\"#fb9f3a\"],[0.8888888888888888,\"#fdca26\"],[1.0,\"#f0f921\"]]}],\"surface\":[{\"type\":\"surface\",\"colorbar\":{\"outlinewidth\":0,\"ticks\":\"\"},\"colorscale\":[[0.0,\"#0d0887\"],[0.1111111111111111,\"#46039f\"],[0.2222222222222222,\"#7201a8\"],[0.3333333333333333,\"#9c179e\"],[0.4444444444444444,\"#bd3786\"],[0.5555555555555556,\"#d8576b\"],[0.6666666666666666,\"#ed7953\"],[0.7777777777777778,\"#fb9f3a\"],[0.8888888888888888,\"#fdca26\"],[1.0,\"#f0f921\"]]}],\"mesh3d\":[{\"type\":\"mesh3d\",\"colorbar\":{\"outlinewidth\":0,\"ticks\":\"\"}}],\"scatter\":[{\"fillpattern\":{\"fillmode\":\"overlay\",\"size\":10,\"solidity\":0.2},\"type\":\"scatter\"}],\"parcoords\":[{\"type\":\"parcoords\",\"line\":{\"colorbar\":{\"outlinewidth\":0,\"ticks\":\"\"}}}],\"scatterpolargl\":[{\"type\":\"scatterpolargl\",\"marker\":{\"colorbar\":{\"outlinewidth\":0,\"ticks\":\"\"}}}],\"bar\":[{\"error_x\":{\"color\":\"#2a3f5f\"},\"error_y\":{\"color\":\"#2a3f5f\"},\"marker\":{\"line\":{\"color\":\"#E5ECF6\",\"width\":0.5},\"pattern\":{\"fillmode\":\"overlay\",\"size\":10,\"solidity\":0.2}},\"type\":\"bar\"}],\"scattergeo\":[{\"type\":\"scattergeo\",\"marker\":{\"colorbar\":{\"outlinewidth\":0,\"ticks\":\"\"}}}],\"scatterpolar\":[{\"type\":\"scatterpolar\",\"marker\":{\"colorbar\":{\"outlinewidth\":0,\"ticks\":\"\"}}}],\"histogram\":[{\"marker\":{\"pattern\":{\"fillmode\":\"overlay\",\"size\":10,\"solidity\":0.2}},\"type\":\"histogram\"}],\"scattergl\":[{\"type\":\"scattergl\",\"marker\":{\"colorbar\":{\"outlinewidth\":0,\"ticks\":\"\"}}}],\"scatter3d\":[{\"type\":\"scatter3d\",\"line\":{\"colorbar\":{\"outlinewidth\":0,\"ticks\":\"\"}},\"marker\":{\"colorbar\":{\"outlinewidth\":0,\"ticks\":\"\"}}}],\"scattermapbox\":[{\"type\":\"scattermapbox\",\"marker\":{\"colorbar\":{\"outlinewidth\":0,\"ticks\":\"\"}}}],\"scatterternary\":[{\"type\":\"scatterternary\",\"marker\":{\"colorbar\":{\"outlinewidth\":0,\"ticks\":\"\"}}}],\"scattercarpet\":[{\"type\":\"scattercarpet\",\"marker\":{\"colorbar\":{\"outlinewidth\":0,\"ticks\":\"\"}}}],\"carpet\":[{\"aaxis\":{\"endlinecolor\":\"#2a3f5f\",\"gridcolor\":\"white\",\"linecolor\":\"white\",\"minorgridcolor\":\"white\",\"startlinecolor\":\"#2a3f5f\"},\"baxis\":{\"endlinecolor\":\"#2a3f5f\",\"gridcolor\":\"white\",\"linecolor\":\"white\",\"minorgridcolor\":\"white\",\"startlinecolor\":\"#2a3f5f\"},\"type\":\"carpet\"}],\"table\":[{\"cells\":{\"fill\":{\"color\":\"#EBF0F8\"},\"line\":{\"color\":\"white\"}},\"header\":{\"fill\":{\"color\":\"#C8D4E3\"},\"line\":{\"color\":\"white\"}},\"type\":\"table\"}],\"barpolar\":[{\"marker\":{\"line\":{\"color\":\"#E5ECF6\",\"width\":0.5},\"pattern\":{\"fillmode\":\"overlay\",\"size\":10,\"solidity\":0.2}},\"type\":\"barpolar\"}],\"pie\":[{\"automargin\":true,\"type\":\"pie\"}]},\"layout\":{\"autotypenumbers\":\"strict\",\"colorway\":[\"#636efa\",\"#EF553B\",\"#00cc96\",\"#ab63fa\",\"#FFA15A\",\"#19d3f3\",\"#FF6692\",\"#B6E880\",\"#FF97FF\",\"#FECB52\"],\"font\":{\"color\":\"#2a3f5f\"},\"hovermode\":\"closest\",\"hoverlabel\":{\"align\":\"left\"},\"paper_bgcolor\":\"white\",\"plot_bgcolor\":\"#E5ECF6\",\"polar\":{\"bgcolor\":\"#E5ECF6\",\"angularaxis\":{\"gridcolor\":\"white\",\"linecolor\":\"white\",\"ticks\":\"\"},\"radialaxis\":{\"gridcolor\":\"white\",\"linecolor\":\"white\",\"ticks\":\"\"}},\"ternary\":{\"bgcolor\":\"#E5ECF6\",\"aaxis\":{\"gridcolor\":\"white\",\"linecolor\":\"white\",\"ticks\":\"\"},\"baxis\":{\"gridcolor\":\"white\",\"linecolor\":\"white\",\"ticks\":\"\"},\"caxis\":{\"gridcolor\":\"white\",\"linecolor\":\"white\",\"ticks\":\"\"}},\"coloraxis\":{\"colorbar\":{\"outlinewidth\":0,\"ticks\":\"\"}},\"colorscale\":{\"sequential\":[[0.0,\"#0d0887\"],[0.1111111111111111,\"#46039f\"],[0.2222222222222222,\"#7201a8\"],[0.3333333333333333,\"#9c179e\"],[0.4444444444444444,\"#bd3786\"],[0.5555555555555556,\"#d8576b\"],[0.6666666666666666,\"#ed7953\"],[0.7777777777777778,\"#fb9f3a\"],[0.8888888888888888,\"#fdca26\"],[1.0,\"#f0f921\"]],\"sequentialminus\":[[0.0,\"#0d0887\"],[0.1111111111111111,\"#46039f\"],[0.2222222222222222,\"#7201a8\"],[0.3333333333333333,\"#9c179e\"],[0.4444444444444444,\"#bd3786\"],[0.5555555555555556,\"#d8576b\"],[0.6666666666666666,\"#ed7953\"],[0.7777777777777778,\"#fb9f3a\"],[0.8888888888888888,\"#fdca26\"],[1.0,\"#f0f921\"]],\"diverging\":[[0,\"#8e0152\"],[0.1,\"#c51b7d\"],[0.2,\"#de77ae\"],[0.3,\"#f1b6da\"],[0.4,\"#fde0ef\"],[0.5,\"#f7f7f7\"],[0.6,\"#e6f5d0\"],[0.7,\"#b8e186\"],[0.8,\"#7fbc41\"],[0.9,\"#4d9221\"],[1,\"#276419\"]]},\"xaxis\":{\"gridcolor\":\"white\",\"linecolor\":\"white\",\"ticks\":\"\",\"title\":{\"standoff\":15},\"zerolinecolor\":\"white\",\"automargin\":true,\"zerolinewidth\":2},\"yaxis\":{\"gridcolor\":\"white\",\"linecolor\":\"white\",\"ticks\":\"\",\"title\":{\"standoff\":15},\"zerolinecolor\":\"white\",\"automargin\":true,\"zerolinewidth\":2},\"scene\":{\"xaxis\":{\"backgroundcolor\":\"#E5ECF6\",\"gridcolor\":\"white\",\"linecolor\":\"white\",\"showbackground\":true,\"ticks\":\"\",\"zerolinecolor\":\"white\",\"gridwidth\":2},\"yaxis\":{\"backgroundcolor\":\"#E5ECF6\",\"gridcolor\":\"white\",\"linecolor\":\"white\",\"showbackground\":true,\"ticks\":\"\",\"zerolinecolor\":\"white\",\"gridwidth\":2},\"zaxis\":{\"backgroundcolor\":\"#E5ECF6\",\"gridcolor\":\"white\",\"linecolor\":\"white\",\"showbackground\":true,\"ticks\":\"\",\"zerolinecolor\":\"white\",\"gridwidth\":2}},\"shapedefaults\":{\"line\":{\"color\":\"#2a3f5f\"}},\"annotationdefaults\":{\"arrowcolor\":\"#2a3f5f\",\"arrowhead\":0,\"arrowwidth\":1},\"geo\":{\"bgcolor\":\"white\",\"landcolor\":\"#E5ECF6\",\"subunitcolor\":\"white\",\"showland\":true,\"showlakes\":true,\"lakecolor\":\"white\"},\"title\":{\"x\":0.05},\"mapbox\":{\"style\":\"light\"}}},\"xaxis\":{\"anchor\":\"y\",\"domain\":[0.0,0.94],\"rangeslider\":{\"visible\":false},\"gridcolor\":\"#1f292f\",\"nticks\":5},\"yaxis\":{\"anchor\":\"x\",\"domain\":[0.0,1.0],\"gridcolor\":\"#1f292f\"},\"yaxis2\":{\"anchor\":\"x\",\"overlaying\":\"y\",\"side\":\"right\",\"gridcolor\":\"#1f292f\"},\"margin\":{\"l\":10,\"r\":10,\"b\":10,\"t\":10},\"font\":{\"size\":8,\"color\":\"#e1e1e1\"},\"width\":1400,\"height\":600,\"paper_bgcolor\":\"#2c303c\",\"plot_bgcolor\":\"#2c303c\"},                        {\"responsive\": true}                    ).then(function(){\n",
       "                            \n",
       "var gd = document.getElementById('cfcbab03-f67d-48c1-944b-5ed6954ee79d');\n",
       "var x = new MutationObserver(function (mutations, observer) {{\n",
       "        var display = window.getComputedStyle(gd).display;\n",
       "        if (!display || display === 'none') {{\n",
       "            console.log([gd, 'removed!']);\n",
       "            Plotly.purge(gd);\n",
       "            observer.disconnect();\n",
       "        }}\n",
       "}});\n",
       "\n",
       "// Listen for the removal of the full notebook cells\n",
       "var notebookContainer = gd.closest('#notebook-container');\n",
       "if (notebookContainer) {{\n",
       "    x.observe(notebookContainer, {childList: true});\n",
       "}}\n",
       "\n",
       "// Listen for the clearing of the current output cell\n",
       "var outputEl = gd.closest('.output');\n",
       "if (outputEl) {{\n",
       "    x.observe(outputEl, {childList: true});\n",
       "}}\n",
       "\n",
       "                        })                };                });            </script>        </div>"
      ]
     },
     "metadata": {},
     "output_type": "display_data"
    }
   ],
   "source": [
    "df_res_m5_plot = df_res_m5#.loc[:100]\n",
    "df_res_m5_plot['time'] = df_res_m5_plot['end_time']\n",
    "cp = CandlePlot(df_res_m5_plot, candles=False)\n",
    "cp.show_plot(line_traces=['balance'])"
   ]
  },
  {
   "cell_type": "code",
   "execution_count": 109,
   "id": "77df5888",
   "metadata": {},
   "outputs": [
    {
     "data": {
      "text/html": [
       "<div>\n",
       "<style scoped>\n",
       "    .dataframe tbody tr th:only-of-type {\n",
       "        vertical-align: middle;\n",
       "    }\n",
       "\n",
       "    .dataframe tbody tr th {\n",
       "        vertical-align: top;\n",
       "    }\n",
       "\n",
       "    .dataframe thead th {\n",
       "        text-align: right;\n",
       "    }\n",
       "</style>\n",
       "<table border=\"1\" class=\"dataframe\">\n",
       "  <thead>\n",
       "    <tr style=\"text-align: right;\">\n",
       "      <th></th>\n",
       "      <th>time</th>\n",
       "      <th>open</th>\n",
       "      <th>high</th>\n",
       "      <th>low</th>\n",
       "      <th>close</th>\n",
       "      <th>body_lower</th>\n",
       "      <th>body_upper</th>\n",
       "      <th>body_bottom_perc</th>\n",
       "      <th>body_top_perc</th>\n",
       "      <th>body_perc</th>\n",
       "      <th>...</th>\n",
       "      <th>KeLo</th>\n",
       "      <th>MACD</th>\n",
       "      <th>SIGNAL_MACD</th>\n",
       "      <th>HIST</th>\n",
       "      <th>pivots_l</th>\n",
       "      <th>pivots_h</th>\n",
       "      <th>low_perv</th>\n",
       "      <th>high_perv</th>\n",
       "      <th>low_next</th>\n",
       "      <th>high_next</th>\n",
       "    </tr>\n",
       "  </thead>\n",
       "  <tbody>\n",
       "    <tr>\n",
       "      <th>0</th>\n",
       "      <td>2022-11-25 18:00:00</td>\n",
       "      <td>1.04067</td>\n",
       "      <td>1.04114</td>\n",
       "      <td>1.03917</td>\n",
       "      <td>1.04014</td>\n",
       "      <td>1.04014</td>\n",
       "      <td>1.04067</td>\n",
       "      <td>49.238579</td>\n",
       "      <td>76.142132</td>\n",
       "      <td>26.903553</td>\n",
       "      <td>...</td>\n",
       "      <td>1.034850</td>\n",
       "      <td>-0.000448</td>\n",
       "      <td>-0.000404</td>\n",
       "      <td>-0.000044</td>\n",
       "      <td>False</td>\n",
       "      <td>True</td>\n",
       "      <td>1.03764</td>\n",
       "      <td>1.04070</td>\n",
       "      <td>1.03990</td>\n",
       "      <td>1.04094</td>\n",
       "    </tr>\n",
       "    <tr>\n",
       "      <th>1</th>\n",
       "      <td>2022-11-25 19:00:00</td>\n",
       "      <td>1.04013</td>\n",
       "      <td>1.04094</td>\n",
       "      <td>1.03990</td>\n",
       "      <td>1.04059</td>\n",
       "      <td>1.04013</td>\n",
       "      <td>1.04059</td>\n",
       "      <td>22.115385</td>\n",
       "      <td>66.346154</td>\n",
       "      <td>44.230769</td>\n",
       "      <td>...</td>\n",
       "      <td>1.034963</td>\n",
       "      <td>-0.000356</td>\n",
       "      <td>-0.000393</td>\n",
       "      <td>0.000037</td>\n",
       "      <td>False</td>\n",
       "      <td>False</td>\n",
       "      <td>1.03917</td>\n",
       "      <td>1.04114</td>\n",
       "      <td>1.03969</td>\n",
       "      <td>1.04061</td>\n",
       "    </tr>\n",
       "    <tr>\n",
       "      <th>2</th>\n",
       "      <td>2022-11-25 20:00:00</td>\n",
       "      <td>1.04060</td>\n",
       "      <td>1.04061</td>\n",
       "      <td>1.03969</td>\n",
       "      <td>1.04016</td>\n",
       "      <td>1.04016</td>\n",
       "      <td>1.04060</td>\n",
       "      <td>51.086957</td>\n",
       "      <td>98.913043</td>\n",
       "      <td>47.826087</td>\n",
       "      <td>...</td>\n",
       "      <td>1.035182</td>\n",
       "      <td>-0.000313</td>\n",
       "      <td>-0.000376</td>\n",
       "      <td>0.000063</td>\n",
       "      <td>True</td>\n",
       "      <td>False</td>\n",
       "      <td>1.03990</td>\n",
       "      <td>1.04094</td>\n",
       "      <td>1.03988</td>\n",
       "      <td>1.04150</td>\n",
       "    </tr>\n",
       "    <tr>\n",
       "      <th>3</th>\n",
       "      <td>2022-11-25 21:00:00</td>\n",
       "      <td>1.04016</td>\n",
       "      <td>1.04150</td>\n",
       "      <td>1.03988</td>\n",
       "      <td>1.04118</td>\n",
       "      <td>1.04016</td>\n",
       "      <td>1.04118</td>\n",
       "      <td>17.283951</td>\n",
       "      <td>80.246914</td>\n",
       "      <td>62.962963</td>\n",
       "      <td>...</td>\n",
       "      <td>1.035876</td>\n",
       "      <td>-0.000198</td>\n",
       "      <td>-0.000338</td>\n",
       "      <td>0.000139</td>\n",
       "      <td>False</td>\n",
       "      <td>True</td>\n",
       "      <td>1.03969</td>\n",
       "      <td>1.04061</td>\n",
       "      <td>1.04077</td>\n",
       "      <td>1.04142</td>\n",
       "    </tr>\n",
       "    <tr>\n",
       "      <th>4</th>\n",
       "      <td>2022-11-25 22:00:00</td>\n",
       "      <td>1.04118</td>\n",
       "      <td>1.04142</td>\n",
       "      <td>1.04077</td>\n",
       "      <td>1.04087</td>\n",
       "      <td>1.04087</td>\n",
       "      <td>1.04118</td>\n",
       "      <td>15.384615</td>\n",
       "      <td>63.076923</td>\n",
       "      <td>47.692308</td>\n",
       "      <td>...</td>\n",
       "      <td>1.036413</td>\n",
       "      <td>-0.000130</td>\n",
       "      <td>-0.000294</td>\n",
       "      <td>0.000164</td>\n",
       "      <td>False</td>\n",
       "      <td>False</td>\n",
       "      <td>1.03988</td>\n",
       "      <td>1.04150</td>\n",
       "      <td>1.03847</td>\n",
       "      <td>1.04103</td>\n",
       "    </tr>\n",
       "  </tbody>\n",
       "</table>\n",
       "<p>5 rows × 48 columns</p>\n",
       "</div>"
      ],
      "text/plain": [
       "                 time     open     high      low    close  body_lower  \\\n",
       "0 2022-11-25 18:00:00  1.04067  1.04114  1.03917  1.04014     1.04014   \n",
       "1 2022-11-25 19:00:00  1.04013  1.04094  1.03990  1.04059     1.04013   \n",
       "2 2022-11-25 20:00:00  1.04060  1.04061  1.03969  1.04016     1.04016   \n",
       "3 2022-11-25 21:00:00  1.04016  1.04150  1.03988  1.04118     1.04016   \n",
       "4 2022-11-25 22:00:00  1.04118  1.04142  1.04077  1.04087     1.04087   \n",
       "\n",
       "   body_upper  body_bottom_perc  body_top_perc  body_perc  ...      KeLo  \\\n",
       "0     1.04067         49.238579      76.142132  26.903553  ...  1.034850   \n",
       "1     1.04059         22.115385      66.346154  44.230769  ...  1.034963   \n",
       "2     1.04060         51.086957      98.913043  47.826087  ...  1.035182   \n",
       "3     1.04118         17.283951      80.246914  62.962963  ...  1.035876   \n",
       "4     1.04118         15.384615      63.076923  47.692308  ...  1.036413   \n",
       "\n",
       "       MACD  SIGNAL_MACD      HIST  pivots_l  pivots_h  low_perv  high_perv  \\\n",
       "0 -0.000448    -0.000404 -0.000044     False      True   1.03764    1.04070   \n",
       "1 -0.000356    -0.000393  0.000037     False     False   1.03917    1.04114   \n",
       "2 -0.000313    -0.000376  0.000063      True     False   1.03990    1.04094   \n",
       "3 -0.000198    -0.000338  0.000139     False      True   1.03969    1.04061   \n",
       "4 -0.000130    -0.000294  0.000164     False     False   1.03988    1.04150   \n",
       "\n",
       "   low_next  high_next  \n",
       "0   1.03990    1.04094  \n",
       "1   1.03969    1.04061  \n",
       "2   1.03988    1.04150  \n",
       "3   1.04077    1.04142  \n",
       "4   1.03847    1.04103  \n",
       "\n",
       "[5 rows x 48 columns]"
      ]
     },
     "execution_count": 109,
     "metadata": {},
     "output_type": "execute_result"
    }
   ],
   "source": [
    "#  cross test\n",
    "pair_cross = \"EURUSD\"\n",
    "NB_H1_CANDLES_CROSS = 2000\n",
    "rates = Rates(pair_cross, NB_H1_CANDLES_CROSS, mt5.TIMEFRAME_H1)\n",
    "SPREAD = rates.get_spread()\n",
    "df_an_cross = rates.get_rates_from_now()\n",
    "df_an_cross.drop(NB_H1_CANDLES_CROSS-1,inplace=True) \n",
    "df_an_cross.drop(['tick_volume', 'spread', 'real_volume'], axis=1, inplace=True)\n",
    "\n",
    "candle_patterns = ['HANGING_MAN', 'SHOOTING_STAR',\n",
    "       'SPINNING_TOP', 'MARUBOZU', 'ENGULFING', 'TWEEZER_TOP',\n",
    "       'TWEEZER_BOTTOM', 'MORNING_STAR', 'EVENING_STAR']\n",
    "\n",
    "df_an_cross = apply_patterns(df_an_cross)\n",
    "for cp in candle_patterns:\n",
    "    df_an_cross[cp] = df_an_cross[cp].astype(float)\n",
    "\n",
    "df_an_cross = RSI(df_an_cross)\n",
    "df_an_cross = BollingerBands(df_an_cross)\n",
    "df_an_cross = ATR(df_an_cross)\n",
    "df_an_cross = KeltnerChannels(df_an_cross)\n",
    "df_an_cross = MACD(df_an_cross)\n",
    "\n",
    "df_an_cross['pivots_l'] = False\n",
    "df_an_cross['pivots_h'] = False\n",
    "\n",
    "df_an_cross['low_perv'] = df_an_cross.low.shift(1)\n",
    "df_an_cross['high_perv'] = df_an_cross.high.shift(1)\n",
    "df_an_cross['low_next'] = df_an_cross.low.shift(-1)\n",
    "df_an_cross['high_next'] = df_an_cross.high.shift(-1)\n",
    "df_an_cross['pivots_l'] = (df_an_cross.low_perv > df_an_cross.low) & (df_an_cross.low_next > df_an_cross.low)\n",
    "df_an_cross['pivots_h'] = (df_an_cross.high_perv < df_an_cross.high) & (df_an_cross.high_next < df_an_cross.high)\n",
    "df_an_cross.dropna(inplace=True)\n",
    "df_an_cross.reset_index(drop=True, inplace=True)\n",
    "\n",
    "df_an_cross.head()"
   ]
  },
  {
   "cell_type": "code",
   "execution_count": 39,
   "id": "109c2db3",
   "metadata": {},
   "outputs": [
    {
     "data": {
      "text/plain": [
       "4e-05"
      ]
     },
     "execution_count": 39,
     "metadata": {},
     "output_type": "execute_result"
    }
   ],
   "source": [
    "SPREAD = (SPREAD//1e-5)*1e-5 # todo: do it right!!!\n",
    "SPREAD # 0"
   ]
  },
  {
   "cell_type": "code",
   "execution_count": 40,
   "id": "11e68054",
   "metadata": {},
   "outputs": [
    {
     "name": "stderr",
     "output_type": "stream",
     "text": [
      "C:\\Users\\meysam\\AppData\\Local\\Temp\\ipykernel_7280\\3328372866.py:27: SettingWithCopyWarning:\n",
      "\n",
      "\n",
      "A value is trying to be set on a copy of a slice from a DataFrame\n",
      "\n",
      "See the caveats in the documentation: https://pandas.pydata.org/pandas-docs/stable/user_guide/indexing.html#returning-a-view-versus-a-copy\n",
      "\n",
      "C:\\Users\\meysam\\AppData\\Local\\Temp\\ipykernel_7280\\3328372866.py:28: SettingWithCopyWarning:\n",
      "\n",
      "\n",
      "A value is trying to be set on a copy of a slice from a DataFrame\n",
      "\n",
      "See the caveats in the documentation: https://pandas.pydata.org/pandas-docs/stable/user_guide/indexing.html#returning-a-view-versus-a-copy\n",
      "\n"
     ]
    }
   ],
   "source": [
    "BUY = 1\n",
    "SELL = -1\n",
    "NONE = 0\n",
    "\n",
    "df_an_cross['SIGNAL'] = 0\n",
    "df_an_cross['TP'] = 0\n",
    "df_an_cross['SL'] = 0\n",
    "\n",
    "for i in range(1,len(df_an_cross)):\n",
    "    if df_an_cross.pivots_l[i-1]:\n",
    "        for j in range(i,len(df_an_cross)):\n",
    "            if( df_an_cross.low[j] <= df_an_cross.low[i-1] ):\n",
    "                break\n",
    "            else:\n",
    "                if(df_an_cross.high[j] > 2*(df_an_cross.close[i] - df_an_cross.low[i-1] ) + df_an_cross.close[i]):\n",
    "#                     df_an_cross.SIGNAL[i] = BUY\n",
    "                    df_an_cross['SL'][i] = df_an_cross.low[i-1] #- SPREAD\n",
    "                    df_an_cross['TP'][i] = 2*(df_an_cross.close[i] - df_an_cross.low[i-1] ) + df_an_cross.close[i] #+ SPREAD\n",
    "                    break\n",
    "    if df_an_cross.pivots_h[i-1]:\n",
    "        for j in range(i,len(df_an_cross)):\n",
    "            if( df_an_cross.high[j] >= df_an_cross.high[i-1] ):\n",
    "                break\n",
    "            else:\n",
    "                if(df_an_cross.low[j] < 2*(df_an_cross.close[i] - df_an_cross.high[i-1] ) + df_an_cross.close[i]):\n",
    "#                     df_an_cross.SIGNAL[i] = SELL\n",
    "                    df_an_cross['SL'][i] = df_an_cross.high[i-1] #+ SPREAD\n",
    "                    df_an_cross['TP'][i] = 2*(df_an_cross.close[i] - df_an_cross.high[i-1] ) + df_an_cross.close[i]\n",
    "                    break"
   ]
  },
  {
   "cell_type": "code",
   "execution_count": 41,
   "id": "22b7f5ec",
   "metadata": {},
   "outputs": [],
   "source": [
    "df_an_cross.pivots_l = df_an_cross.pivots_l.astype(float)\n",
    "df_an_cross.pivots_h = df_an_cross.pivots_h.astype(float)"
   ]
  },
  {
   "cell_type": "code",
   "execution_count": 42,
   "id": "c479b56c",
   "metadata": {},
   "outputs": [],
   "source": [
    "X_cross = []\n",
    "Y_cross = [] \n",
    "feature_col = [\n",
    "    'open', 'high', 'low', 'close',\n",
    "               'RSI_14', 'ATR_14',\n",
    "    'BB_MA', 'BB_UP','BB_LW', 'EMA', 'KeUp', 'KeLo', \n",
    "    'MACD', 'SIGNAL_MACD', 'HIST',\n",
    "       'body_lower', 'body_upper', 'body_bottom_perc', 'body_top_perc',\n",
    "       'body_perc', 'direction', 'body_size', 'low_change', 'high_change', 'mid_point', 'mid_point_prev_2', 'body_size_prev',\n",
    "       'direction_prev', 'direction_prev_2', 'body_perc_prev','body_perc_prev_2',\n",
    "        'HANGING_MAN', 'SHOOTING_STAR', 'SPINNING_TOP',\n",
    "       'MARUBOZU', 'ENGULFING',\n",
    "    'TWEEZER_TOP', 'TWEEZER_BOTTOM',\n",
    "       'MORNING_STAR', 'EVENING_STAR'\n",
    "]\n",
    "indeces_cross = []\n",
    "for i in range(4,len(df_an_cross)):\n",
    "    if df_an_cross.pivots_h[i-1] or df_an_cross.pivots_l[i-1]:\n",
    "#         print(\"im here\")\n",
    "        feature = []\n",
    "        feature.append(df_an_cross.pivots_h[i-1])\n",
    "        feature.append(df_an_cross.pivots_l[i-1])\n",
    "        for fc in feature_col:\n",
    "            feature.append(df_an_cross[fc][i])\n",
    "            feature.append(df_an_cross[fc][i-1])\n",
    "            feature.append(df_an_cross[fc][i-2])\n",
    "            feature.append(df_an_cross[fc][i-3])\n",
    "            feature.append(df_an_cross[fc][i-4])\n",
    "\n",
    "        X_cross.append(feature)\n",
    "        Y_cross.append(df_an_cross.SIGNAL[i])\n",
    "        indeces_cross.append(i)"
   ]
  },
  {
   "cell_type": "code",
   "execution_count": 43,
   "id": "6c710cff",
   "metadata": {},
   "outputs": [
    {
     "data": {
      "text/plain": [
       "202"
      ]
     },
     "execution_count": 43,
     "metadata": {},
     "output_type": "execute_result"
    }
   ],
   "source": [
    "len(feature)"
   ]
  },
  {
   "cell_type": "code",
   "execution_count": null,
   "id": "ed056963",
   "metadata": {},
   "outputs": [],
   "source": []
  },
  {
   "cell_type": "code",
   "execution_count": 44,
   "id": "b9d2a108",
   "metadata": {},
   "outputs": [],
   "source": [
    "# clf = pickle.load(open(\"GBPUSD.pickle\", \"rb\"))"
   ]
  },
  {
   "cell_type": "code",
   "execution_count": 45,
   "id": "4acc77eb",
   "metadata": {},
   "outputs": [],
   "source": [
    "y_perdict_cross = clf.predict(X_cross)"
   ]
  },
  {
   "cell_type": "code",
   "execution_count": 46,
   "id": "56c53edc",
   "metadata": {},
   "outputs": [
    {
     "data": {
      "text/plain": [
       "array([[  0,   0,   0],\n",
       "       [175, 477, 162],\n",
       "       [  0,   0,   0]], dtype=int64)"
      ]
     },
     "execution_count": 46,
     "metadata": {},
     "output_type": "execute_result"
    }
   ],
   "source": [
    "confusion_matrix(Y_cross, y_perdict_cross)"
   ]
  },
  {
   "cell_type": "code",
   "execution_count": 47,
   "id": "34ce9e12",
   "metadata": {},
   "outputs": [
    {
     "data": {
      "text/plain": [
       "0.585995085995086"
      ]
     },
     "execution_count": 47,
     "metadata": {},
     "output_type": "execute_result"
    }
   ],
   "source": [
    "(Y_cross==y_perdict_cross).sum()/len(y_perdict_cross)"
   ]
  },
  {
   "cell_type": "code",
   "execution_count": 48,
   "id": "39cbdc50",
   "metadata": {},
   "outputs": [
    {
     "name": "stderr",
     "output_type": "stream",
     "text": [
      "C:\\Users\\meysam\\AppData\\Local\\Temp\\ipykernel_7280\\732658451.py:2: SettingWithCopyWarning:\n",
      "\n",
      "\n",
      "A value is trying to be set on a copy of a slice from a DataFrame.\n",
      "Try using .loc[row_indexer,col_indexer] = value instead\n",
      "\n",
      "See the caveats in the documentation: https://pandas.pydata.org/pandas-docs/stable/user_guide/indexing.html#returning-a-view-versus-a-copy\n",
      "\n",
      "C:\\Users\\meysam\\AppData\\Local\\Temp\\ipykernel_7280\\732658451.py:9: SettingWithCopyWarning:\n",
      "\n",
      "\n",
      "A value is trying to be set on a copy of a slice from a DataFrame\n",
      "\n",
      "See the caveats in the documentation: https://pandas.pydata.org/pandas-docs/stable/user_guide/indexing.html#returning-a-view-versus-a-copy\n",
      "\n",
      "C:\\Users\\meysam\\AppData\\Local\\Temp\\ipykernel_7280\\732658451.py:6: SettingWithCopyWarning:\n",
      "\n",
      "\n",
      "A value is trying to be set on a copy of a slice from a DataFrame\n",
      "\n",
      "See the caveats in the documentation: https://pandas.pydata.org/pandas-docs/stable/user_guide/indexing.html#returning-a-view-versus-a-copy\n",
      "\n"
     ]
    }
   ],
   "source": [
    "df_test = df_an_cross[['time', 'open', 'high', 'low', 'close','TP','SL','pivots_l','pivots_h']]#.iloc[indeces_cross[0]-5:].copy()\n",
    "df_test['SIGNAL'] = 0\n",
    "for i,idx in enumerate(indeces_cross):\n",
    "    if i > 0:\n",
    "        if df_test.pivots_l[idx-1] and y_perdict_cross[i] == BUY:\n",
    "            df_test.SIGNAL.loc[idx] = y_perdict_cross[i]\n",
    "        if df_test.pivots_h[idx-1] and y_perdict_cross[i] == SELL:\n",
    "#         if df_test.pivots_h[idx-1] or df_test.pivots_l[idx-1] :\n",
    "            df_test.SIGNAL.loc[idx] = y_perdict_cross[i]\n",
    "\n",
    "df_test.reset_index(drop=True, inplace=True)\n"
   ]
  },
  {
   "cell_type": "code",
   "execution_count": 49,
   "id": "7c77f5c8",
   "metadata": {},
   "outputs": [
    {
     "name": "stdout",
     "output_type": "stream",
     "text": [
      "<class 'pandas.core.frame.DataFrame'>\n",
      "RangeIndex: 25545 entries, 0 to 25544\n",
      "Data columns (total 5 columns):\n",
      " #   Column  Non-Null Count  Dtype         \n",
      "---  ------  --------------  -----         \n",
      " 0   time    25545 non-null  datetime64[ns]\n",
      " 1   open    25545 non-null  float64       \n",
      " 2   high    25545 non-null  float64       \n",
      " 3   low     25545 non-null  float64       \n",
      " 4   close   25545 non-null  float64       \n",
      "dtypes: datetime64[ns](1), float64(4)\n",
      "memory usage: 998.0 KB\n"
     ]
    }
   ],
   "source": [
    "rates = Rates(pair_cross, 13*len(df_test), mt5.TIMEFRAME_M5)\n",
    "df_m5 = rates.get_rates_from_now()\n",
    "df_m5.reset_index(drop=True, inplace=True)\n",
    "df_m5.drop(['tick_volume', 'spread', 'real_volume'], axis=1, inplace=True)\n",
    "df_m5.info()"
   ]
  },
  {
   "cell_type": "code",
   "execution_count": 50,
   "id": "8a695839",
   "metadata": {},
   "outputs": [
    {
     "name": "stdout",
     "output_type": "stream",
     "text": [
      "prepare_data...\n"
     ]
    }
   ],
   "source": [
    "gt = GuruTester2(\n",
    "        df_test,\n",
    "        df_m5,\n",
    "        SPREAD,\n",
    "        use_spread=True\n",
    "    )"
   ]
  },
  {
   "cell_type": "code",
   "execution_count": 51,
   "id": "0edb38ed",
   "metadata": {},
   "outputs": [
    {
     "name": "stdout",
     "output_type": "stream",
     "text": [
      "run_test...\n",
      "Result:\n",
      "win rate:  0.6392405063291139\n",
      " 2.0    202\n",
      "-1.0    114\n",
      "Name: result, dtype: int64\n"
     ]
    }
   ],
   "source": [
    "df_res_m5 = gt.run_test()"
   ]
  },
  {
   "cell_type": "code",
   "execution_count": 52,
   "id": "da272c9f",
   "metadata": {},
   "outputs": [
    {
     "name": "stderr",
     "output_type": "stream",
     "text": [
      "C:\\Users\\meysam\\AppData\\Local\\Temp\\ipykernel_7280\\1186191000.py:8: SettingWithCopyWarning:\n",
      "\n",
      "\n",
      "A value is trying to be set on a copy of a slice from a DataFrame\n",
      "\n",
      "See the caveats in the documentation: https://pandas.pydata.org/pandas-docs/stable/user_guide/indexing.html#returning-a-view-versus-a-copy\n",
      "\n",
      "C:\\Users\\meysam\\AppData\\Local\\Temp\\ipykernel_7280\\1186191000.py:11: SettingWithCopyWarning:\n",
      "\n",
      "\n",
      "A value is trying to be set on a copy of a slice from a DataFrame\n",
      "\n",
      "See the caveats in the documentation: https://pandas.pydata.org/pandas-docs/stable/user_guide/indexing.html#returning-a-view-versus-a-copy\n",
      "\n"
     ]
    }
   ],
   "source": [
    "df_res_m5['balance'] = 100\n",
    "loss_margin = 0.03\n",
    "perv_balance = 100\n",
    "\n",
    "# for index, row in df_res_m5.iterrows():\n",
    "for i in range(len(df_res_m5)):\n",
    "    if(df_res_m5.result[i] == -1):\n",
    "        df_res_m5['balance'][i] = perv_balance*(1-loss_margin) \n",
    "    elif(df_res_m5.result[i] == 2):\n",
    "        profit_to_loss = abs( (df_res_m5['start_price'][i]-df_res_m5['trigger_price'][i])/((df_res_m5['start_price'][i]-df_res_m5['SL'][i])) )\n",
    "        df_res_m5['balance'][i] = perv_balance*(1+profit_to_loss*loss_margin) \n",
    "    perv_balance = df_res_m5['balance'][i]"
   ]
  },
  {
   "cell_type": "code",
   "execution_count": 53,
   "id": "d8159717",
   "metadata": {},
   "outputs": [
    {
     "data": {
      "application/vnd.plotly.v1+json": {
       "config": {
        "plotlyServerURL": "https://plot.ly"
       },
       "data": [
        {
         "line": {
          "shape": "spline",
          "width": 2
         },
         "name": "balance",
         "type": "scatter",
         "x": [
          "s22-11-28 08:00",
          "s22-11-28 10:35",
          "s22-11-29 08:30",
          "s22-11-29 10:00",
          "s22-11-29 14:45",
          "s22-11-30 01:10",
          "s22-11-30 05:00",
          "s22-11-30 09:00",
          "s22-11-30 13:00",
          "s22-11-30 15:00",
          "s22-11-30 20:35",
          "s22-12-01 05:00",
          "s22-12-01 06:00",
          "s22-12-01 15:20",
          "s22-12-02 03:00",
          "s22-12-02 16:00",
          "s22-12-05 05:10",
          "s22-12-05 13:00",
          "s22-12-05 14:00",
          "s22-12-05 17:00",
          "s22-12-06 20:00",
          "s22-12-06 20:10",
          "s22-12-06 23:00",
          "s22-12-07 05:00",
          "s22-12-07 07:00",
          "s22-12-07 18:00",
          "s22-12-08 04:00",
          "s22-12-08 06:10",
          "s22-12-08 11:00",
          "s22-12-08 22:00",
          "s22-12-09 03:00",
          "s22-12-09 03:10",
          "s22-12-09 05:00",
          "s22-12-09 15:30",
          "s22-12-09 19:00",
          "s22-12-12 00:05",
          "s22-12-12 08:25",
          "s22-12-12 08:45",
          "s22-12-12 11:15",
          "s22-12-12 19:00",
          "s22-12-12 20:00",
          "s22-12-13 12:00",
          "s22-12-13 14:45",
          "s22-12-13 15:30",
          "s22-12-13 19:15",
          "s22-12-13 20:00",
          "s22-12-14 03:00",
          "s22-12-14 12:00",
          "s22-12-14 14:00",
          "s22-12-14 19:00",
          "s22-12-14 22:05",
          "s22-12-15 09:00",
          "s22-12-15 10:00",
          "s22-12-15 14:00",
          "s22-12-15 15:15",
          "s22-12-15 18:00",
          "s22-12-16 06:00",
          "s22-12-16 17:00",
          "s22-12-16 18:00",
          "s22-12-16 20:00",
          "s22-12-19 01:00",
          "s22-12-19 06:00",
          "s22-12-19 08:00",
          "s22-12-19 09:00",
          "s22-12-19 11:20",
          "s22-12-19 17:00",
          "s22-12-20 23:00",
          "s22-12-21 06:00",
          "s22-12-21 13:00",
          "s22-12-22 01:25",
          "s22-12-22 14:00",
          "s22-12-23 06:00",
          "s22-12-23 17:00",
          "s22-12-23 19:00",
          "s22-12-23 23:00",
          "s22-12-27 03:05",
          "s22-12-27 03:55",
          "s22-12-27 09:00",
          "s22-12-27 20:00",
          "s22-12-27 23:00",
          "s22-12-28 01:00",
          "s22-12-28 11:00",
          "s22-12-28 13:30",
          "s22-12-28 17:00",
          "s22-12-28 22:00",
          "s22-12-29 02:55",
          "s22-12-29 09:00",
          "s22-12-29 19:00",
          "s22-12-30 06:00",
          "s22-12-30 09:30",
          "s22-12-30 12:00",
          "s22-12-30 19:00",
          "s23-01-03 03:00",
          "s23-01-04 09:00",
          "s23-01-04 10:00",
          "s23-01-04 15:00",
          "s23-01-04 18:00",
          "s23-01-04 23:00",
          "s23-01-05 09:00",
          "s23-01-05 10:00",
          "s23-01-05 11:00",
          "s23-01-05 15:15",
          "s23-01-05 15:15",
          "s23-01-05 15:50",
          "s23-01-06 03:00",
          "s23-01-06 11:00",
          "s23-01-06 11:20",
          "s23-01-06 12:00",
          "s23-01-09 14:05",
          "s23-01-09 22:00",
          "s23-01-10 11:00",
          "s23-01-10 13:00",
          "s23-01-10 18:00",
          "s23-01-10 21:00",
          "s23-01-10 22:00",
          "s23-01-11 02:00",
          "s23-01-11 05:00",
          "s23-01-11 07:00",
          "s23-01-11 09:00",
          "s23-01-11 15:00",
          "s23-01-11 16:00",
          "s23-01-12 09:00",
          "s23-01-12 15:25",
          "s23-01-12 15:25",
          "s23-01-12 23:00",
          "s23-01-13 10:00",
          "s23-01-13 13:05",
          "s23-01-16 02:00",
          "s23-01-16 08:00",
          "s23-01-16 13:00",
          "s23-01-16 15:00",
          "s23-01-16 19:35",
          "s23-01-17 02:00",
          "s23-01-17 10:00",
          "s23-01-17 11:00",
          "s23-01-17 12:00",
          "s23-01-18 08:10",
          "s23-01-18 13:55",
          "s23-01-18 15:30",
          "s23-01-19 06:00",
          "s23-01-20 11:00",
          "s23-01-20 19:00",
          "s23-01-23 00:05",
          "s23-01-23 08:00",
          "s23-01-23 10:00",
          "s23-01-23 20:00",
          "s23-01-24 04:00",
          "s23-01-24 13:00",
          "s23-01-24 16:45",
          "s23-01-25 01:55",
          "s23-01-25 09:00",
          "s23-01-25 11:00",
          "s23-01-25 19:00",
          "s23-01-26 08:50",
          "s23-01-26 13:00",
          "s23-01-26 17:35",
          "s23-01-26 23:05",
          "s23-01-27 01:00",
          "s23-01-27 02:00",
          "s23-01-27 06:40",
          "s23-01-27 12:00",
          "s23-01-27 21:00",
          "s23-01-30 05:00",
          "s23-01-30 08:00",
          "s23-01-30 15:00",
          "s23-01-31 03:00",
          "s23-01-31 10:05",
          "s23-01-31 18:10",
          "s23-01-31 20:00",
          "s23-01-31 22:00",
          "s23-02-01 04:00",
          "s23-02-01 17:50",
          "s23-02-02 11:30",
          "s23-02-02 14:00",
          "s23-02-02 19:00",
          "s23-02-02 23:00",
          "s23-02-03 03:00",
          "s23-02-03 04:10",
          "s23-02-03 06:00",
          "s23-02-03 15:45",
          "s23-02-03 19:00",
          "s23-02-06 04:20",
          "s23-02-06 06:00",
          "s23-02-06 08:15",
          "s23-02-06 15:00",
          "s23-02-06 21:00",
          "s23-02-06 23:00",
          "s23-02-07 12:00",
          "s23-02-07 16:45",
          "s23-02-08 11:00",
          "s23-02-08 15:00",
          "s23-02-08 16:50",
          "s23-02-08 18:00",
          "s23-02-08 21:45",
          "s23-02-09 06:00",
          "s23-02-09 10:00",
          "s23-02-09 12:30",
          "s23-02-09 12:50",
          "s23-02-09 14:00",
          "s23-02-09 15:55",
          "s23-02-10 02:05",
          "s23-02-10 04:00",
          "s23-02-10 09:45",
          "s23-02-10 11:00",
          "s23-02-10 12:00",
          "s23-02-13 02:10",
          "s23-02-13 14:20",
          "s23-02-13 16:00",
          "s23-02-13 17:50",
          "s23-02-13 19:00",
          "s23-02-14 01:50",
          "s23-02-14 08:00",
          "s23-02-14 19:00",
          "s23-02-14 23:00",
          "s23-02-15 16:20",
          "s23-02-15 20:00",
          "s23-02-16 04:35",
          "s23-02-16 08:40",
          "s23-02-16 10:00",
          "s23-02-16 13:00",
          "s23-02-17 08:00",
          "s23-02-17 13:00",
          "s23-02-17 13:50",
          "s23-02-17 21:00",
          "s23-02-17 22:00",
          "s23-02-20 03:00",
          "s23-02-20 04:25",
          "s23-02-20 14:00",
          "s23-02-20 20:00",
          "s23-02-20 23:00",
          "s23-02-21 02:55",
          "s23-02-21 03:10",
          "s23-02-21 09:15",
          "s23-02-21 11:20",
          "s23-02-21 13:35",
          "s23-02-21 22:00",
          "s23-02-22 06:00",
          "s23-02-22 07:00",
          "s23-02-22 09:00",
          "s23-02-22 12:55",
          "s23-02-22 20:00",
          "s23-02-22 22:00",
          "s23-02-23 09:00",
          "s23-02-23 11:20",
          "s23-02-23 15:00",
          "s23-02-24 08:10",
          "s23-02-24 14:20",
          "s23-02-24 18:25",
          "s23-02-24 20:00",
          "s23-02-27 07:00",
          "s23-02-27 09:00",
          "s23-02-27 15:00",
          "s23-02-27 16:40",
          "s23-02-27 19:00",
          "s23-02-28 01:05",
          "s23-02-28 04:00",
          "s23-02-28 13:00",
          "s23-03-01 03:00",
          "s23-03-01 09:45",
          "s23-03-01 19:00",
          "s23-03-02 07:00",
          "s23-03-02 11:40",
          "s23-03-02 13:00",
          "s23-03-02 14:50",
          "s23-03-02 19:00",
          "s23-03-03 06:00",
          "s23-03-03 12:00",
          "s23-03-06 06:00",
          "s23-03-06 15:00",
          "s23-03-07 01:15",
          "s23-03-07 08:00",
          "s23-03-07 16:15",
          "s23-03-07 23:00",
          "s23-03-08 01:00",
          "s23-03-08 04:15",
          "s23-03-08 13:00",
          "s23-03-08 14:55",
          "s23-03-08 17:00",
          "s23-03-08 17:30",
          "s23-03-09 00:05",
          "s23-03-09 04:00",
          "s23-03-09 13:00",
          "s23-03-09 16:45",
          "s23-03-10 06:00",
          "s23-03-10 10:00",
          "s23-03-10 12:20",
          "s23-03-10 14:00",
          "s23-03-10 20:00",
          "s23-03-10 23:00",
          "s23-03-13 08:00",
          "s23-03-14 04:35",
          "s23-03-14 10:00",
          "s23-03-15 01:25",
          "s23-03-15 01:50",
          "s23-03-15 02:00",
          "s23-03-16 02:50",
          "s23-03-16 05:00",
          "s23-03-16 09:00",
          "s23-03-16 10:15",
          "s23-03-16 14:00",
          "s23-03-16 19:40",
          "s23-03-17 03:15",
          "s23-03-17 18:10",
          "s23-03-20 01:00",
          "s23-03-20 02:00",
          "s23-03-20 17:15",
          "s23-03-20 20:00",
          "s23-03-20 22:00",
          "s23-03-21 04:00",
          "s23-03-21 11:55",
          "s23-03-21 15:05",
          "s23-03-21 19:00",
          "s23-03-22 04:00",
          "s23-03-22 06:00",
          "s23-03-22 09:00",
          "s23-03-22 22:00"
         ],
         "xaxis": "x",
         "y": [
          97,
          103.88968379446595,
          111.37783632770368,
          111.3779650671236,
          118.15177039711426,
          125.22107464824873,
          121.46444240880126,
          117.82050913653723,
          114.2858938624411,
          114.28695198351691,
          122.5671094137855,
          118.89009613137193,
          118.89023289014088,
          115.32352590343665,
          111.86382012633355,
          108.50790552254354,
          105.25266835686723,
          102.09508830616122,
          102.0970017193337,
          108.47285529609235,
          105.21866963720957,
          111.62891474126066,
          111.6290746680726,
          111.62923465317895,
          111.63057879969575,
          108.28166143570488,
          105.03321159263373,
          111.16014893553434,
          118.13292191421816,
          118.13305615236128,
          114.58906446779044,
          121.78208098982778,
          118.12861856013294,
          125.6431507554,
          125.9031021017903,
          134.33860994260846,
          142.85951605896602,
          150.77173540992348,
          159.75732608401853,
          154.96460630149798,
          154.96509173350375,
          150.31613898149863,
          158.8213686175396,
          176.1213744798847,
          170.83773324548815,
          165.7126012481235,
          165.71390996059912,
          165.71521546760374,
          160.74375900357563,
          155.92144623346837,
          151.24380284646432,
          151.24456935658668,
          146.70723227588908,
          159.37740233608181,
          172.08332302231688,
          166.92082333164737,
          161.91319863169795,
          161.91324426761707,
          157.05584693958855,
          157.05686873479667,
          157.05695769533708,
          152.34524896447695,
          147.77489149554265,
          147.77551710659475,
          156.96512011370942,
          156.9668964572889,
          156.96858207930478,
          152.25952461692563,
          152.25973968692736,
          161.21963975312232,
          156.38305056052866,
          151.6915590437128,
          147.1408122724014,
          142.72658790422935,
          138.44479026710246,
          146.96659110226867,
          155.72446387204482,
          165.42051539615167,
          160.45789993426712,
          155.6441629362391,
          155.6444700997972,
          150.97513599680326,
          159.26715500462734,
          159.2689034031989,
          154.49083630110292,
          164.67757581970642,
          159.73724854511522,
          159.73841663104574,
          159.73864141211158,
          169.26451893046763,
          164.1865833625536,
          164.18934610280385,
          164.38327052733513,
          159.45177241151507,
          159.45628766813883,
          154.67259903809466,
          150.03242106695183,
          150.03284553484372,
          160.4561800667254,
          155.64249466472364,
          155.64267052698142,
          168.28721740993856,
          186.91318127861393,
          199.21327449824003,
          210.36921787013642,
          210.36963785659643,
          225.13116837738116,
          218.37723332605972,
          230.98139755390068,
          230.98236424594702,
          230.9826223532365,
          230.98397769567956,
          224.05445836480916,
          217.3328246138649,
          217.33294601415605,
          217.33349243786262,
          229.5585013874958,
          229.55869377286803,
          222.67193295968198,
          215.99177497089153,
          215.99189552331893,
          209.51213865761935,
          225.28029961582234,
          243.00359621630312,
          243.0048725192153,
          279.78697367778557,
          297.6660437030517,
          288.7360623919601,
          288.73622190436487,
          288.73806141309586,
          280.075919570703,
          296.32032290580014,
          296.32097957133567,
          287.4313501841956,
          287.43310221547756,
          278.8101091490132,
          295.1949772072251,
          314.0194527170902,
          344.3581825189736,
          344.3591389809193,
          344.3642848328255,
          334.0333562878407,
          356.1609466409175,
          356.16202566880264,
          356.1628088154124,
          345.47792455095004,
          345.4795438001278,
          345.48002079295355,
          366.667762289555,
          355.66772942086834,
          355.66802291375933,
          344.99798222634655,
          334.6480427595561,
          324.6086014767694,
          324.60869075879197,
          314.8704300360282,
          333.12006312382937,
          323.1264612301145,
          323.13082159086184,
          342.9716580193818,
          342.9725088232853,
          332.68333355858675,
          332.68360901950547,
          322.7031007489203,
          322.70585302679206,
          322.70585302679206,
          343.92077484614686,
          333.60315160076243,
          323.59505705273955,
          313.88720534115737,
          335.36886095668325,
          356.12834520051786,
          378.24842974043383,
          378.25348474467694,
          378.25847384491084,
          378.2607612583736,
          366.91293842062237,
          389.0557076113533,
          389.0561361536636,
          412.601237134223,
          415.25715454648474,
          438.3039266238161,
          438.30538892318674,
          466.48216392537574,
          466.4847618675334,
          466.4886757680972,
          452.49401549505427,
          452.5011125789379,
          482.68316648394926,
          468.20267148943077,
          500.97685849372556,
          530.8237896406063,
          514.8990759513881,
          545.0455863659565,
          528.6942187749778,
          512.8333922117284,
          543.1071053648723,
          576.3271566430227,
          559.037341943732,
          590.8714128044094,
          623.6976024046515,
          623.6981253484211,
          658.833119743052,
          658.837903495597,
          639.072766390729,
          681.4533814250539,
          723.9760724259695,
          702.2567902531904,
          745.2207028703688,
          722.8640817842577,
          763.747378213024,
          740.8349568666333,
          743.8515303436942,
          743.8527772196006,
          789.5075944636269,
          765.8223666297181,
          823.1355243904039,
          881.0543331065967,
          881.0545799189634,
          881.0550736637077,
          881.0563158927283,
          854.6246264159464,
          907.6257166928388,
          880.3969451920535,
          932.3068550400537,
          904.3376493888521,
          956.953658080539,
          956.9552700936263,
          956.9571507083309,
          928.248436187081,
          982.9487904623738,
          1048.66593816758,
          1133.3658793272834,
          1232.4376898133003,
          1300.029194363995,
          1300.0423792442623,
          1300.0427451098476,
          1261.0414627565522,
          1261.0588579008781,
          1341.9560328563389,
          1341.96019948058,
          1301.7013934961626,
          1301.7058048386552,
          1391.6629738516046,
          1391.6767408796386,
          1458.0976762397843,
          1545.1981365473232,
          1640.762698223022,
          1591.5398172763312,
          1591.543890681682,
          1543.7975739612314,
          1497.4836467423943,
          1583.8028826653292,
          1536.2887961853694,
          1490.2001322998083,
          1445.494128330814,
          1402.1293044808895,
          1360.0654253464627,
          1449.1635889252702,
          1449.170513173004,
          1449.1717380081548,
          1534.7196180260466,
          1488.6780294852651,
          1583.0073476152616,
          1535.5171271868037,
          1539.6118395259741,
          1493.4234843401948,
          1448.620779809989,
          1451.2815118545407,
          1407.7430664989045,
          1365.5107745039372,
          1324.545451268819,
          1324.5503471822879,
          1324.5503471822879,
          1284.8138367668191,
          1246.2694216638145,
          1344.190590508817,
          1344.191736505626,
          1430.4582188357883,
          1516.2857119659059,
          1470.7971406069287,
          1426.6732263887209,
          1514.562400549138,
          1514.5641156011145,
          1514.5761233580693,
          1616.0723934428195,
          1642.4032281290904,
          1642.4207776391622,
          1704.832767189548,
          1704.849464866014,
          1807.1404327579824,
          1752.9262197752428,
          1700.3384331819855,
          1801.083485347996,
          1747.050980787556,
          1857.2140822553251,
          1801.4976597876653,
          1747.4527299940353,
          1849.346452559887,
          1858.9630541131953,
          1984.2709340571205,
          2114.150486104546,
          2244.1482500373377,
          2244.1627616562173,
          2176.8378788065306,
          2360.6034950871945,
          2360.6048167520075,
          2360.6061375548143,
          2289.7879534281697,
          2425.828296543609,
          2605.6249820521216,
          2527.456232590558,
          2527.4689015441045,
          2527.4710135958876,
          2451.646883188011,
          2378.0974766923705
         ],
         "yaxis": "y"
        }
       ],
       "layout": {
        "font": {
         "color": "#e1e1e1",
         "size": 8
        },
        "height": 600,
        "margin": {
         "b": 10,
         "l": 10,
         "r": 10,
         "t": 10
        },
        "paper_bgcolor": "#2c303c",
        "plot_bgcolor": "#2c303c",
        "template": {
         "data": {
          "bar": [
           {
            "error_x": {
             "color": "#2a3f5f"
            },
            "error_y": {
             "color": "#2a3f5f"
            },
            "marker": {
             "line": {
              "color": "#E5ECF6",
              "width": 0.5
             },
             "pattern": {
              "fillmode": "overlay",
              "size": 10,
              "solidity": 0.2
             }
            },
            "type": "bar"
           }
          ],
          "barpolar": [
           {
            "marker": {
             "line": {
              "color": "#E5ECF6",
              "width": 0.5
             },
             "pattern": {
              "fillmode": "overlay",
              "size": 10,
              "solidity": 0.2
             }
            },
            "type": "barpolar"
           }
          ],
          "carpet": [
           {
            "aaxis": {
             "endlinecolor": "#2a3f5f",
             "gridcolor": "white",
             "linecolor": "white",
             "minorgridcolor": "white",
             "startlinecolor": "#2a3f5f"
            },
            "baxis": {
             "endlinecolor": "#2a3f5f",
             "gridcolor": "white",
             "linecolor": "white",
             "minorgridcolor": "white",
             "startlinecolor": "#2a3f5f"
            },
            "type": "carpet"
           }
          ],
          "choropleth": [
           {
            "colorbar": {
             "outlinewidth": 0,
             "ticks": ""
            },
            "type": "choropleth"
           }
          ],
          "contour": [
           {
            "colorbar": {
             "outlinewidth": 0,
             "ticks": ""
            },
            "colorscale": [
             [
              0,
              "#0d0887"
             ],
             [
              0.1111111111111111,
              "#46039f"
             ],
             [
              0.2222222222222222,
              "#7201a8"
             ],
             [
              0.3333333333333333,
              "#9c179e"
             ],
             [
              0.4444444444444444,
              "#bd3786"
             ],
             [
              0.5555555555555556,
              "#d8576b"
             ],
             [
              0.6666666666666666,
              "#ed7953"
             ],
             [
              0.7777777777777778,
              "#fb9f3a"
             ],
             [
              0.8888888888888888,
              "#fdca26"
             ],
             [
              1,
              "#f0f921"
             ]
            ],
            "type": "contour"
           }
          ],
          "contourcarpet": [
           {
            "colorbar": {
             "outlinewidth": 0,
             "ticks": ""
            },
            "type": "contourcarpet"
           }
          ],
          "heatmap": [
           {
            "colorbar": {
             "outlinewidth": 0,
             "ticks": ""
            },
            "colorscale": [
             [
              0,
              "#0d0887"
             ],
             [
              0.1111111111111111,
              "#46039f"
             ],
             [
              0.2222222222222222,
              "#7201a8"
             ],
             [
              0.3333333333333333,
              "#9c179e"
             ],
             [
              0.4444444444444444,
              "#bd3786"
             ],
             [
              0.5555555555555556,
              "#d8576b"
             ],
             [
              0.6666666666666666,
              "#ed7953"
             ],
             [
              0.7777777777777778,
              "#fb9f3a"
             ],
             [
              0.8888888888888888,
              "#fdca26"
             ],
             [
              1,
              "#f0f921"
             ]
            ],
            "type": "heatmap"
           }
          ],
          "heatmapgl": [
           {
            "colorbar": {
             "outlinewidth": 0,
             "ticks": ""
            },
            "colorscale": [
             [
              0,
              "#0d0887"
             ],
             [
              0.1111111111111111,
              "#46039f"
             ],
             [
              0.2222222222222222,
              "#7201a8"
             ],
             [
              0.3333333333333333,
              "#9c179e"
             ],
             [
              0.4444444444444444,
              "#bd3786"
             ],
             [
              0.5555555555555556,
              "#d8576b"
             ],
             [
              0.6666666666666666,
              "#ed7953"
             ],
             [
              0.7777777777777778,
              "#fb9f3a"
             ],
             [
              0.8888888888888888,
              "#fdca26"
             ],
             [
              1,
              "#f0f921"
             ]
            ],
            "type": "heatmapgl"
           }
          ],
          "histogram": [
           {
            "marker": {
             "pattern": {
              "fillmode": "overlay",
              "size": 10,
              "solidity": 0.2
             }
            },
            "type": "histogram"
           }
          ],
          "histogram2d": [
           {
            "colorbar": {
             "outlinewidth": 0,
             "ticks": ""
            },
            "colorscale": [
             [
              0,
              "#0d0887"
             ],
             [
              0.1111111111111111,
              "#46039f"
             ],
             [
              0.2222222222222222,
              "#7201a8"
             ],
             [
              0.3333333333333333,
              "#9c179e"
             ],
             [
              0.4444444444444444,
              "#bd3786"
             ],
             [
              0.5555555555555556,
              "#d8576b"
             ],
             [
              0.6666666666666666,
              "#ed7953"
             ],
             [
              0.7777777777777778,
              "#fb9f3a"
             ],
             [
              0.8888888888888888,
              "#fdca26"
             ],
             [
              1,
              "#f0f921"
             ]
            ],
            "type": "histogram2d"
           }
          ],
          "histogram2dcontour": [
           {
            "colorbar": {
             "outlinewidth": 0,
             "ticks": ""
            },
            "colorscale": [
             [
              0,
              "#0d0887"
             ],
             [
              0.1111111111111111,
              "#46039f"
             ],
             [
              0.2222222222222222,
              "#7201a8"
             ],
             [
              0.3333333333333333,
              "#9c179e"
             ],
             [
              0.4444444444444444,
              "#bd3786"
             ],
             [
              0.5555555555555556,
              "#d8576b"
             ],
             [
              0.6666666666666666,
              "#ed7953"
             ],
             [
              0.7777777777777778,
              "#fb9f3a"
             ],
             [
              0.8888888888888888,
              "#fdca26"
             ],
             [
              1,
              "#f0f921"
             ]
            ],
            "type": "histogram2dcontour"
           }
          ],
          "mesh3d": [
           {
            "colorbar": {
             "outlinewidth": 0,
             "ticks": ""
            },
            "type": "mesh3d"
           }
          ],
          "parcoords": [
           {
            "line": {
             "colorbar": {
              "outlinewidth": 0,
              "ticks": ""
             }
            },
            "type": "parcoords"
           }
          ],
          "pie": [
           {
            "automargin": true,
            "type": "pie"
           }
          ],
          "scatter": [
           {
            "fillpattern": {
             "fillmode": "overlay",
             "size": 10,
             "solidity": 0.2
            },
            "type": "scatter"
           }
          ],
          "scatter3d": [
           {
            "line": {
             "colorbar": {
              "outlinewidth": 0,
              "ticks": ""
             }
            },
            "marker": {
             "colorbar": {
              "outlinewidth": 0,
              "ticks": ""
             }
            },
            "type": "scatter3d"
           }
          ],
          "scattercarpet": [
           {
            "marker": {
             "colorbar": {
              "outlinewidth": 0,
              "ticks": ""
             }
            },
            "type": "scattercarpet"
           }
          ],
          "scattergeo": [
           {
            "marker": {
             "colorbar": {
              "outlinewidth": 0,
              "ticks": ""
             }
            },
            "type": "scattergeo"
           }
          ],
          "scattergl": [
           {
            "marker": {
             "colorbar": {
              "outlinewidth": 0,
              "ticks": ""
             }
            },
            "type": "scattergl"
           }
          ],
          "scattermapbox": [
           {
            "marker": {
             "colorbar": {
              "outlinewidth": 0,
              "ticks": ""
             }
            },
            "type": "scattermapbox"
           }
          ],
          "scatterpolar": [
           {
            "marker": {
             "colorbar": {
              "outlinewidth": 0,
              "ticks": ""
             }
            },
            "type": "scatterpolar"
           }
          ],
          "scatterpolargl": [
           {
            "marker": {
             "colorbar": {
              "outlinewidth": 0,
              "ticks": ""
             }
            },
            "type": "scatterpolargl"
           }
          ],
          "scatterternary": [
           {
            "marker": {
             "colorbar": {
              "outlinewidth": 0,
              "ticks": ""
             }
            },
            "type": "scatterternary"
           }
          ],
          "surface": [
           {
            "colorbar": {
             "outlinewidth": 0,
             "ticks": ""
            },
            "colorscale": [
             [
              0,
              "#0d0887"
             ],
             [
              0.1111111111111111,
              "#46039f"
             ],
             [
              0.2222222222222222,
              "#7201a8"
             ],
             [
              0.3333333333333333,
              "#9c179e"
             ],
             [
              0.4444444444444444,
              "#bd3786"
             ],
             [
              0.5555555555555556,
              "#d8576b"
             ],
             [
              0.6666666666666666,
              "#ed7953"
             ],
             [
              0.7777777777777778,
              "#fb9f3a"
             ],
             [
              0.8888888888888888,
              "#fdca26"
             ],
             [
              1,
              "#f0f921"
             ]
            ],
            "type": "surface"
           }
          ],
          "table": [
           {
            "cells": {
             "fill": {
              "color": "#EBF0F8"
             },
             "line": {
              "color": "white"
             }
            },
            "header": {
             "fill": {
              "color": "#C8D4E3"
             },
             "line": {
              "color": "white"
             }
            },
            "type": "table"
           }
          ]
         },
         "layout": {
          "annotationdefaults": {
           "arrowcolor": "#2a3f5f",
           "arrowhead": 0,
           "arrowwidth": 1
          },
          "autotypenumbers": "strict",
          "coloraxis": {
           "colorbar": {
            "outlinewidth": 0,
            "ticks": ""
           }
          },
          "colorscale": {
           "diverging": [
            [
             0,
             "#8e0152"
            ],
            [
             0.1,
             "#c51b7d"
            ],
            [
             0.2,
             "#de77ae"
            ],
            [
             0.3,
             "#f1b6da"
            ],
            [
             0.4,
             "#fde0ef"
            ],
            [
             0.5,
             "#f7f7f7"
            ],
            [
             0.6,
             "#e6f5d0"
            ],
            [
             0.7,
             "#b8e186"
            ],
            [
             0.8,
             "#7fbc41"
            ],
            [
             0.9,
             "#4d9221"
            ],
            [
             1,
             "#276419"
            ]
           ],
           "sequential": [
            [
             0,
             "#0d0887"
            ],
            [
             0.1111111111111111,
             "#46039f"
            ],
            [
             0.2222222222222222,
             "#7201a8"
            ],
            [
             0.3333333333333333,
             "#9c179e"
            ],
            [
             0.4444444444444444,
             "#bd3786"
            ],
            [
             0.5555555555555556,
             "#d8576b"
            ],
            [
             0.6666666666666666,
             "#ed7953"
            ],
            [
             0.7777777777777778,
             "#fb9f3a"
            ],
            [
             0.8888888888888888,
             "#fdca26"
            ],
            [
             1,
             "#f0f921"
            ]
           ],
           "sequentialminus": [
            [
             0,
             "#0d0887"
            ],
            [
             0.1111111111111111,
             "#46039f"
            ],
            [
             0.2222222222222222,
             "#7201a8"
            ],
            [
             0.3333333333333333,
             "#9c179e"
            ],
            [
             0.4444444444444444,
             "#bd3786"
            ],
            [
             0.5555555555555556,
             "#d8576b"
            ],
            [
             0.6666666666666666,
             "#ed7953"
            ],
            [
             0.7777777777777778,
             "#fb9f3a"
            ],
            [
             0.8888888888888888,
             "#fdca26"
            ],
            [
             1,
             "#f0f921"
            ]
           ]
          },
          "colorway": [
           "#636efa",
           "#EF553B",
           "#00cc96",
           "#ab63fa",
           "#FFA15A",
           "#19d3f3",
           "#FF6692",
           "#B6E880",
           "#FF97FF",
           "#FECB52"
          ],
          "font": {
           "color": "#2a3f5f"
          },
          "geo": {
           "bgcolor": "white",
           "lakecolor": "white",
           "landcolor": "#E5ECF6",
           "showlakes": true,
           "showland": true,
           "subunitcolor": "white"
          },
          "hoverlabel": {
           "align": "left"
          },
          "hovermode": "closest",
          "mapbox": {
           "style": "light"
          },
          "paper_bgcolor": "white",
          "plot_bgcolor": "#E5ECF6",
          "polar": {
           "angularaxis": {
            "gridcolor": "white",
            "linecolor": "white",
            "ticks": ""
           },
           "bgcolor": "#E5ECF6",
           "radialaxis": {
            "gridcolor": "white",
            "linecolor": "white",
            "ticks": ""
           }
          },
          "scene": {
           "xaxis": {
            "backgroundcolor": "#E5ECF6",
            "gridcolor": "white",
            "gridwidth": 2,
            "linecolor": "white",
            "showbackground": true,
            "ticks": "",
            "zerolinecolor": "white"
           },
           "yaxis": {
            "backgroundcolor": "#E5ECF6",
            "gridcolor": "white",
            "gridwidth": 2,
            "linecolor": "white",
            "showbackground": true,
            "ticks": "",
            "zerolinecolor": "white"
           },
           "zaxis": {
            "backgroundcolor": "#E5ECF6",
            "gridcolor": "white",
            "gridwidth": 2,
            "linecolor": "white",
            "showbackground": true,
            "ticks": "",
            "zerolinecolor": "white"
           }
          },
          "shapedefaults": {
           "line": {
            "color": "#2a3f5f"
           }
          },
          "ternary": {
           "aaxis": {
            "gridcolor": "white",
            "linecolor": "white",
            "ticks": ""
           },
           "baxis": {
            "gridcolor": "white",
            "linecolor": "white",
            "ticks": ""
           },
           "bgcolor": "#E5ECF6",
           "caxis": {
            "gridcolor": "white",
            "linecolor": "white",
            "ticks": ""
           }
          },
          "title": {
           "x": 0.05
          },
          "xaxis": {
           "automargin": true,
           "gridcolor": "white",
           "linecolor": "white",
           "ticks": "",
           "title": {
            "standoff": 15
           },
           "zerolinecolor": "white",
           "zerolinewidth": 2
          },
          "yaxis": {
           "automargin": true,
           "gridcolor": "white",
           "linecolor": "white",
           "ticks": "",
           "title": {
            "standoff": 15
           },
           "zerolinecolor": "white",
           "zerolinewidth": 2
          }
         }
        },
        "width": 1400,
        "xaxis": {
         "anchor": "y",
         "domain": [
          0,
          0.94
         ],
         "gridcolor": "#1f292f",
         "nticks": 5,
         "rangeslider": {
          "visible": false
         }
        },
        "yaxis": {
         "anchor": "x",
         "domain": [
          0,
          1
         ],
         "gridcolor": "#1f292f"
        },
        "yaxis2": {
         "anchor": "x",
         "gridcolor": "#1f292f",
         "overlaying": "y",
         "side": "right"
        }
       }
      },
      "text/html": [
       "<div>                            <div id=\"ed0e81e3-8413-455f-b228-7d50f42a53f6\" class=\"plotly-graph-div\" style=\"height:600px; width:1400px;\"></div>            <script type=\"text/javascript\">                require([\"plotly\"], function(Plotly) {                    window.PLOTLYENV=window.PLOTLYENV || {};                                    if (document.getElementById(\"ed0e81e3-8413-455f-b228-7d50f42a53f6\")) {                    Plotly.newPlot(                        \"ed0e81e3-8413-455f-b228-7d50f42a53f6\",                        [{\"line\":{\"shape\":\"spline\",\"width\":2},\"name\":\"balance\",\"x\":[\"s22-11-28 08:00\",\"s22-11-28 10:35\",\"s22-11-29 08:30\",\"s22-11-29 10:00\",\"s22-11-29 14:45\",\"s22-11-30 01:10\",\"s22-11-30 05:00\",\"s22-11-30 09:00\",\"s22-11-30 13:00\",\"s22-11-30 15:00\",\"s22-11-30 20:35\",\"s22-12-01 05:00\",\"s22-12-01 06:00\",\"s22-12-01 15:20\",\"s22-12-02 03:00\",\"s22-12-02 16:00\",\"s22-12-05 05:10\",\"s22-12-05 13:00\",\"s22-12-05 14:00\",\"s22-12-05 17:00\",\"s22-12-06 20:00\",\"s22-12-06 20:10\",\"s22-12-06 23:00\",\"s22-12-07 05:00\",\"s22-12-07 07:00\",\"s22-12-07 18:00\",\"s22-12-08 04:00\",\"s22-12-08 06:10\",\"s22-12-08 11:00\",\"s22-12-08 22:00\",\"s22-12-09 03:00\",\"s22-12-09 03:10\",\"s22-12-09 05:00\",\"s22-12-09 15:30\",\"s22-12-09 19:00\",\"s22-12-12 00:05\",\"s22-12-12 08:25\",\"s22-12-12 08:45\",\"s22-12-12 11:15\",\"s22-12-12 19:00\",\"s22-12-12 20:00\",\"s22-12-13 12:00\",\"s22-12-13 14:45\",\"s22-12-13 15:30\",\"s22-12-13 19:15\",\"s22-12-13 20:00\",\"s22-12-14 03:00\",\"s22-12-14 12:00\",\"s22-12-14 14:00\",\"s22-12-14 19:00\",\"s22-12-14 22:05\",\"s22-12-15 09:00\",\"s22-12-15 10:00\",\"s22-12-15 14:00\",\"s22-12-15 15:15\",\"s22-12-15 18:00\",\"s22-12-16 06:00\",\"s22-12-16 17:00\",\"s22-12-16 18:00\",\"s22-12-16 20:00\",\"s22-12-19 01:00\",\"s22-12-19 06:00\",\"s22-12-19 08:00\",\"s22-12-19 09:00\",\"s22-12-19 11:20\",\"s22-12-19 17:00\",\"s22-12-20 23:00\",\"s22-12-21 06:00\",\"s22-12-21 13:00\",\"s22-12-22 01:25\",\"s22-12-22 14:00\",\"s22-12-23 06:00\",\"s22-12-23 17:00\",\"s22-12-23 19:00\",\"s22-12-23 23:00\",\"s22-12-27 03:05\",\"s22-12-27 03:55\",\"s22-12-27 09:00\",\"s22-12-27 20:00\",\"s22-12-27 23:00\",\"s22-12-28 01:00\",\"s22-12-28 11:00\",\"s22-12-28 13:30\",\"s22-12-28 17:00\",\"s22-12-28 22:00\",\"s22-12-29 02:55\",\"s22-12-29 09:00\",\"s22-12-29 19:00\",\"s22-12-30 06:00\",\"s22-12-30 09:30\",\"s22-12-30 12:00\",\"s22-12-30 19:00\",\"s23-01-03 03:00\",\"s23-01-04 09:00\",\"s23-01-04 10:00\",\"s23-01-04 15:00\",\"s23-01-04 18:00\",\"s23-01-04 23:00\",\"s23-01-05 09:00\",\"s23-01-05 10:00\",\"s23-01-05 11:00\",\"s23-01-05 15:15\",\"s23-01-05 15:15\",\"s23-01-05 15:50\",\"s23-01-06 03:00\",\"s23-01-06 11:00\",\"s23-01-06 11:20\",\"s23-01-06 12:00\",\"s23-01-09 14:05\",\"s23-01-09 22:00\",\"s23-01-10 11:00\",\"s23-01-10 13:00\",\"s23-01-10 18:00\",\"s23-01-10 21:00\",\"s23-01-10 22:00\",\"s23-01-11 02:00\",\"s23-01-11 05:00\",\"s23-01-11 07:00\",\"s23-01-11 09:00\",\"s23-01-11 15:00\",\"s23-01-11 16:00\",\"s23-01-12 09:00\",\"s23-01-12 15:25\",\"s23-01-12 15:25\",\"s23-01-12 23:00\",\"s23-01-13 10:00\",\"s23-01-13 13:05\",\"s23-01-16 02:00\",\"s23-01-16 08:00\",\"s23-01-16 13:00\",\"s23-01-16 15:00\",\"s23-01-16 19:35\",\"s23-01-17 02:00\",\"s23-01-17 10:00\",\"s23-01-17 11:00\",\"s23-01-17 12:00\",\"s23-01-18 08:10\",\"s23-01-18 13:55\",\"s23-01-18 15:30\",\"s23-01-19 06:00\",\"s23-01-20 11:00\",\"s23-01-20 19:00\",\"s23-01-23 00:05\",\"s23-01-23 08:00\",\"s23-01-23 10:00\",\"s23-01-23 20:00\",\"s23-01-24 04:00\",\"s23-01-24 13:00\",\"s23-01-24 16:45\",\"s23-01-25 01:55\",\"s23-01-25 09:00\",\"s23-01-25 11:00\",\"s23-01-25 19:00\",\"s23-01-26 08:50\",\"s23-01-26 13:00\",\"s23-01-26 17:35\",\"s23-01-26 23:05\",\"s23-01-27 01:00\",\"s23-01-27 02:00\",\"s23-01-27 06:40\",\"s23-01-27 12:00\",\"s23-01-27 21:00\",\"s23-01-30 05:00\",\"s23-01-30 08:00\",\"s23-01-30 15:00\",\"s23-01-31 03:00\",\"s23-01-31 10:05\",\"s23-01-31 18:10\",\"s23-01-31 20:00\",\"s23-01-31 22:00\",\"s23-02-01 04:00\",\"s23-02-01 17:50\",\"s23-02-02 11:30\",\"s23-02-02 14:00\",\"s23-02-02 19:00\",\"s23-02-02 23:00\",\"s23-02-03 03:00\",\"s23-02-03 04:10\",\"s23-02-03 06:00\",\"s23-02-03 15:45\",\"s23-02-03 19:00\",\"s23-02-06 04:20\",\"s23-02-06 06:00\",\"s23-02-06 08:15\",\"s23-02-06 15:00\",\"s23-02-06 21:00\",\"s23-02-06 23:00\",\"s23-02-07 12:00\",\"s23-02-07 16:45\",\"s23-02-08 11:00\",\"s23-02-08 15:00\",\"s23-02-08 16:50\",\"s23-02-08 18:00\",\"s23-02-08 21:45\",\"s23-02-09 06:00\",\"s23-02-09 10:00\",\"s23-02-09 12:30\",\"s23-02-09 12:50\",\"s23-02-09 14:00\",\"s23-02-09 15:55\",\"s23-02-10 02:05\",\"s23-02-10 04:00\",\"s23-02-10 09:45\",\"s23-02-10 11:00\",\"s23-02-10 12:00\",\"s23-02-13 02:10\",\"s23-02-13 14:20\",\"s23-02-13 16:00\",\"s23-02-13 17:50\",\"s23-02-13 19:00\",\"s23-02-14 01:50\",\"s23-02-14 08:00\",\"s23-02-14 19:00\",\"s23-02-14 23:00\",\"s23-02-15 16:20\",\"s23-02-15 20:00\",\"s23-02-16 04:35\",\"s23-02-16 08:40\",\"s23-02-16 10:00\",\"s23-02-16 13:00\",\"s23-02-17 08:00\",\"s23-02-17 13:00\",\"s23-02-17 13:50\",\"s23-02-17 21:00\",\"s23-02-17 22:00\",\"s23-02-20 03:00\",\"s23-02-20 04:25\",\"s23-02-20 14:00\",\"s23-02-20 20:00\",\"s23-02-20 23:00\",\"s23-02-21 02:55\",\"s23-02-21 03:10\",\"s23-02-21 09:15\",\"s23-02-21 11:20\",\"s23-02-21 13:35\",\"s23-02-21 22:00\",\"s23-02-22 06:00\",\"s23-02-22 07:00\",\"s23-02-22 09:00\",\"s23-02-22 12:55\",\"s23-02-22 20:00\",\"s23-02-22 22:00\",\"s23-02-23 09:00\",\"s23-02-23 11:20\",\"s23-02-23 15:00\",\"s23-02-24 08:10\",\"s23-02-24 14:20\",\"s23-02-24 18:25\",\"s23-02-24 20:00\",\"s23-02-27 07:00\",\"s23-02-27 09:00\",\"s23-02-27 15:00\",\"s23-02-27 16:40\",\"s23-02-27 19:00\",\"s23-02-28 01:05\",\"s23-02-28 04:00\",\"s23-02-28 13:00\",\"s23-03-01 03:00\",\"s23-03-01 09:45\",\"s23-03-01 19:00\",\"s23-03-02 07:00\",\"s23-03-02 11:40\",\"s23-03-02 13:00\",\"s23-03-02 14:50\",\"s23-03-02 19:00\",\"s23-03-03 06:00\",\"s23-03-03 12:00\",\"s23-03-06 06:00\",\"s23-03-06 15:00\",\"s23-03-07 01:15\",\"s23-03-07 08:00\",\"s23-03-07 16:15\",\"s23-03-07 23:00\",\"s23-03-08 01:00\",\"s23-03-08 04:15\",\"s23-03-08 13:00\",\"s23-03-08 14:55\",\"s23-03-08 17:00\",\"s23-03-08 17:30\",\"s23-03-09 00:05\",\"s23-03-09 04:00\",\"s23-03-09 13:00\",\"s23-03-09 16:45\",\"s23-03-10 06:00\",\"s23-03-10 10:00\",\"s23-03-10 12:20\",\"s23-03-10 14:00\",\"s23-03-10 20:00\",\"s23-03-10 23:00\",\"s23-03-13 08:00\",\"s23-03-14 04:35\",\"s23-03-14 10:00\",\"s23-03-15 01:25\",\"s23-03-15 01:50\",\"s23-03-15 02:00\",\"s23-03-16 02:50\",\"s23-03-16 05:00\",\"s23-03-16 09:00\",\"s23-03-16 10:15\",\"s23-03-16 14:00\",\"s23-03-16 19:40\",\"s23-03-17 03:15\",\"s23-03-17 18:10\",\"s23-03-20 01:00\",\"s23-03-20 02:00\",\"s23-03-20 17:15\",\"s23-03-20 20:00\",\"s23-03-20 22:00\",\"s23-03-21 04:00\",\"s23-03-21 11:55\",\"s23-03-21 15:05\",\"s23-03-21 19:00\",\"s23-03-22 04:00\",\"s23-03-22 06:00\",\"s23-03-22 09:00\",\"s23-03-22 22:00\"],\"y\":[97.0,103.88968379446595,111.37783632770368,111.3779650671236,118.15177039711426,125.22107464824873,121.46444240880126,117.82050913653723,114.2858938624411,114.28695198351691,122.5671094137855,118.89009613137193,118.89023289014088,115.32352590343665,111.86382012633355,108.50790552254354,105.25266835686723,102.09508830616122,102.0970017193337,108.47285529609235,105.21866963720957,111.62891474126066,111.6290746680726,111.62923465317895,111.63057879969575,108.28166143570488,105.03321159263373,111.16014893553434,118.13292191421816,118.13305615236128,114.58906446779044,121.78208098982778,118.12861856013294,125.6431507554,125.9031021017903,134.33860994260846,142.85951605896602,150.77173540992348,159.75732608401853,154.96460630149798,154.96509173350375,150.31613898149863,158.8213686175396,176.1213744798847,170.83773324548815,165.7126012481235,165.71390996059912,165.71521546760374,160.74375900357563,155.92144623346837,151.24380284646432,151.24456935658668,146.70723227588908,159.37740233608181,172.08332302231688,166.92082333164737,161.91319863169795,161.91324426761707,157.05584693958855,157.05686873479667,157.05695769533708,152.34524896447695,147.77489149554265,147.77551710659475,156.96512011370942,156.9668964572889,156.96858207930478,152.25952461692563,152.25973968692736,161.21963975312232,156.38305056052866,151.6915590437128,147.1408122724014,142.72658790422935,138.44479026710246,146.96659110226867,155.72446387204482,165.42051539615167,160.45789993426712,155.6441629362391,155.6444700997972,150.97513599680326,159.26715500462734,159.2689034031989,154.49083630110292,164.67757581970642,159.73724854511522,159.73841663104574,159.73864141211158,169.26451893046763,164.1865833625536,164.18934610280385,164.38327052733513,159.45177241151507,159.45628766813883,154.67259903809466,150.03242106695183,150.03284553484372,160.4561800667254,155.64249466472364,155.64267052698142,168.28721740993856,186.91318127861393,199.21327449824003,210.36921787013642,210.36963785659643,225.13116837738116,218.37723332605972,230.98139755390068,230.98236424594702,230.9826223532365,230.98397769567956,224.05445836480916,217.3328246138649,217.33294601415605,217.33349243786262,229.5585013874958,229.55869377286803,222.67193295968198,215.99177497089153,215.99189552331893,209.51213865761935,225.28029961582234,243.00359621630312,243.0048725192153,279.78697367778557,297.6660437030517,288.7360623919601,288.73622190436487,288.73806141309586,280.075919570703,296.32032290580014,296.32097957133567,287.4313501841956,287.43310221547756,278.8101091490132,295.1949772072251,314.0194527170902,344.3581825189736,344.3591389809193,344.3642848328255,334.0333562878407,356.1609466409175,356.16202566880264,356.1628088154124,345.47792455095004,345.4795438001278,345.48002079295355,366.667762289555,355.66772942086834,355.66802291375933,344.99798222634655,334.6480427595561,324.6086014767694,324.60869075879197,314.8704300360282,333.12006312382937,323.1264612301145,323.13082159086184,342.9716580193818,342.9725088232853,332.68333355858675,332.68360901950547,322.7031007489203,322.70585302679206,322.70585302679206,343.92077484614686,333.60315160076243,323.59505705273955,313.88720534115737,335.36886095668325,356.12834520051786,378.24842974043383,378.25348474467694,378.25847384491084,378.2607612583736,366.91293842062237,389.0557076113533,389.0561361536636,412.601237134223,415.25715454648474,438.3039266238161,438.30538892318674,466.48216392537574,466.4847618675334,466.4886757680972,452.49401549505427,452.5011125789379,482.68316648394926,468.20267148943077,500.97685849372556,530.8237896406063,514.8990759513881,545.0455863659565,528.6942187749778,512.8333922117284,543.1071053648723,576.3271566430227,559.037341943732,590.8714128044094,623.6976024046515,623.6981253484211,658.833119743052,658.837903495597,639.072766390729,681.4533814250539,723.9760724259695,702.2567902531904,745.2207028703688,722.8640817842577,763.747378213024,740.8349568666333,743.8515303436942,743.8527772196006,789.5075944636269,765.8223666297181,823.1355243904039,881.0543331065967,881.0545799189634,881.0550736637077,881.0563158927283,854.6246264159464,907.6257166928388,880.3969451920535,932.3068550400537,904.3376493888521,956.953658080539,956.9552700936263,956.9571507083309,928.248436187081,982.9487904623738,1048.66593816758,1133.3658793272834,1232.4376898133003,1300.029194363995,1300.0423792442623,1300.0427451098476,1261.0414627565522,1261.0588579008781,1341.9560328563389,1341.96019948058,1301.7013934961626,1301.7058048386552,1391.6629738516046,1391.6767408796386,1458.0976762397843,1545.1981365473232,1640.762698223022,1591.5398172763312,1591.543890681682,1543.7975739612314,1497.4836467423943,1583.8028826653292,1536.2887961853694,1490.2001322998083,1445.494128330814,1402.1293044808895,1360.0654253464627,1449.1635889252702,1449.170513173004,1449.1717380081548,1534.7196180260466,1488.6780294852651,1583.0073476152616,1535.5171271868037,1539.6118395259741,1493.4234843401948,1448.620779809989,1451.2815118545407,1407.7430664989045,1365.5107745039372,1324.545451268819,1324.5503471822879,1324.5503471822879,1284.8138367668191,1246.2694216638145,1344.190590508817,1344.191736505626,1430.4582188357883,1516.2857119659059,1470.7971406069287,1426.6732263887209,1514.562400549138,1514.5641156011145,1514.5761233580693,1616.0723934428195,1642.4032281290904,1642.4207776391622,1704.832767189548,1704.849464866014,1807.1404327579824,1752.9262197752428,1700.3384331819855,1801.083485347996,1747.050980787556,1857.2140822553251,1801.4976597876653,1747.4527299940353,1849.346452559887,1858.9630541131953,1984.2709340571205,2114.150486104546,2244.1482500373377,2244.1627616562173,2176.8378788065306,2360.6034950871945,2360.6048167520075,2360.6061375548143,2289.7879534281697,2425.828296543609,2605.6249820521216,2527.456232590558,2527.4689015441045,2527.4710135958876,2451.646883188011,2378.0974766923705],\"type\":\"scatter\",\"xaxis\":\"x\",\"yaxis\":\"y\"}],                        {\"template\":{\"data\":{\"histogram2dcontour\":[{\"type\":\"histogram2dcontour\",\"colorbar\":{\"outlinewidth\":0,\"ticks\":\"\"},\"colorscale\":[[0.0,\"#0d0887\"],[0.1111111111111111,\"#46039f\"],[0.2222222222222222,\"#7201a8\"],[0.3333333333333333,\"#9c179e\"],[0.4444444444444444,\"#bd3786\"],[0.5555555555555556,\"#d8576b\"],[0.6666666666666666,\"#ed7953\"],[0.7777777777777778,\"#fb9f3a\"],[0.8888888888888888,\"#fdca26\"],[1.0,\"#f0f921\"]]}],\"choropleth\":[{\"type\":\"choropleth\",\"colorbar\":{\"outlinewidth\":0,\"ticks\":\"\"}}],\"histogram2d\":[{\"type\":\"histogram2d\",\"colorbar\":{\"outlinewidth\":0,\"ticks\":\"\"},\"colorscale\":[[0.0,\"#0d0887\"],[0.1111111111111111,\"#46039f\"],[0.2222222222222222,\"#7201a8\"],[0.3333333333333333,\"#9c179e\"],[0.4444444444444444,\"#bd3786\"],[0.5555555555555556,\"#d8576b\"],[0.6666666666666666,\"#ed7953\"],[0.7777777777777778,\"#fb9f3a\"],[0.8888888888888888,\"#fdca26\"],[1.0,\"#f0f921\"]]}],\"heatmap\":[{\"type\":\"heatmap\",\"colorbar\":{\"outlinewidth\":0,\"ticks\":\"\"},\"colorscale\":[[0.0,\"#0d0887\"],[0.1111111111111111,\"#46039f\"],[0.2222222222222222,\"#7201a8\"],[0.3333333333333333,\"#9c179e\"],[0.4444444444444444,\"#bd3786\"],[0.5555555555555556,\"#d8576b\"],[0.6666666666666666,\"#ed7953\"],[0.7777777777777778,\"#fb9f3a\"],[0.8888888888888888,\"#fdca26\"],[1.0,\"#f0f921\"]]}],\"heatmapgl\":[{\"type\":\"heatmapgl\",\"colorbar\":{\"outlinewidth\":0,\"ticks\":\"\"},\"colorscale\":[[0.0,\"#0d0887\"],[0.1111111111111111,\"#46039f\"],[0.2222222222222222,\"#7201a8\"],[0.3333333333333333,\"#9c179e\"],[0.4444444444444444,\"#bd3786\"],[0.5555555555555556,\"#d8576b\"],[0.6666666666666666,\"#ed7953\"],[0.7777777777777778,\"#fb9f3a\"],[0.8888888888888888,\"#fdca26\"],[1.0,\"#f0f921\"]]}],\"contourcarpet\":[{\"type\":\"contourcarpet\",\"colorbar\":{\"outlinewidth\":0,\"ticks\":\"\"}}],\"contour\":[{\"type\":\"contour\",\"colorbar\":{\"outlinewidth\":0,\"ticks\":\"\"},\"colorscale\":[[0.0,\"#0d0887\"],[0.1111111111111111,\"#46039f\"],[0.2222222222222222,\"#7201a8\"],[0.3333333333333333,\"#9c179e\"],[0.4444444444444444,\"#bd3786\"],[0.5555555555555556,\"#d8576b\"],[0.6666666666666666,\"#ed7953\"],[0.7777777777777778,\"#fb9f3a\"],[0.8888888888888888,\"#fdca26\"],[1.0,\"#f0f921\"]]}],\"surface\":[{\"type\":\"surface\",\"colorbar\":{\"outlinewidth\":0,\"ticks\":\"\"},\"colorscale\":[[0.0,\"#0d0887\"],[0.1111111111111111,\"#46039f\"],[0.2222222222222222,\"#7201a8\"],[0.3333333333333333,\"#9c179e\"],[0.4444444444444444,\"#bd3786\"],[0.5555555555555556,\"#d8576b\"],[0.6666666666666666,\"#ed7953\"],[0.7777777777777778,\"#fb9f3a\"],[0.8888888888888888,\"#fdca26\"],[1.0,\"#f0f921\"]]}],\"mesh3d\":[{\"type\":\"mesh3d\",\"colorbar\":{\"outlinewidth\":0,\"ticks\":\"\"}}],\"scatter\":[{\"fillpattern\":{\"fillmode\":\"overlay\",\"size\":10,\"solidity\":0.2},\"type\":\"scatter\"}],\"parcoords\":[{\"type\":\"parcoords\",\"line\":{\"colorbar\":{\"outlinewidth\":0,\"ticks\":\"\"}}}],\"scatterpolargl\":[{\"type\":\"scatterpolargl\",\"marker\":{\"colorbar\":{\"outlinewidth\":0,\"ticks\":\"\"}}}],\"bar\":[{\"error_x\":{\"color\":\"#2a3f5f\"},\"error_y\":{\"color\":\"#2a3f5f\"},\"marker\":{\"line\":{\"color\":\"#E5ECF6\",\"width\":0.5},\"pattern\":{\"fillmode\":\"overlay\",\"size\":10,\"solidity\":0.2}},\"type\":\"bar\"}],\"scattergeo\":[{\"type\":\"scattergeo\",\"marker\":{\"colorbar\":{\"outlinewidth\":0,\"ticks\":\"\"}}}],\"scatterpolar\":[{\"type\":\"scatterpolar\",\"marker\":{\"colorbar\":{\"outlinewidth\":0,\"ticks\":\"\"}}}],\"histogram\":[{\"marker\":{\"pattern\":{\"fillmode\":\"overlay\",\"size\":10,\"solidity\":0.2}},\"type\":\"histogram\"}],\"scattergl\":[{\"type\":\"scattergl\",\"marker\":{\"colorbar\":{\"outlinewidth\":0,\"ticks\":\"\"}}}],\"scatter3d\":[{\"type\":\"scatter3d\",\"line\":{\"colorbar\":{\"outlinewidth\":0,\"ticks\":\"\"}},\"marker\":{\"colorbar\":{\"outlinewidth\":0,\"ticks\":\"\"}}}],\"scattermapbox\":[{\"type\":\"scattermapbox\",\"marker\":{\"colorbar\":{\"outlinewidth\":0,\"ticks\":\"\"}}}],\"scatterternary\":[{\"type\":\"scatterternary\",\"marker\":{\"colorbar\":{\"outlinewidth\":0,\"ticks\":\"\"}}}],\"scattercarpet\":[{\"type\":\"scattercarpet\",\"marker\":{\"colorbar\":{\"outlinewidth\":0,\"ticks\":\"\"}}}],\"carpet\":[{\"aaxis\":{\"endlinecolor\":\"#2a3f5f\",\"gridcolor\":\"white\",\"linecolor\":\"white\",\"minorgridcolor\":\"white\",\"startlinecolor\":\"#2a3f5f\"},\"baxis\":{\"endlinecolor\":\"#2a3f5f\",\"gridcolor\":\"white\",\"linecolor\":\"white\",\"minorgridcolor\":\"white\",\"startlinecolor\":\"#2a3f5f\"},\"type\":\"carpet\"}],\"table\":[{\"cells\":{\"fill\":{\"color\":\"#EBF0F8\"},\"line\":{\"color\":\"white\"}},\"header\":{\"fill\":{\"color\":\"#C8D4E3\"},\"line\":{\"color\":\"white\"}},\"type\":\"table\"}],\"barpolar\":[{\"marker\":{\"line\":{\"color\":\"#E5ECF6\",\"width\":0.5},\"pattern\":{\"fillmode\":\"overlay\",\"size\":10,\"solidity\":0.2}},\"type\":\"barpolar\"}],\"pie\":[{\"automargin\":true,\"type\":\"pie\"}]},\"layout\":{\"autotypenumbers\":\"strict\",\"colorway\":[\"#636efa\",\"#EF553B\",\"#00cc96\",\"#ab63fa\",\"#FFA15A\",\"#19d3f3\",\"#FF6692\",\"#B6E880\",\"#FF97FF\",\"#FECB52\"],\"font\":{\"color\":\"#2a3f5f\"},\"hovermode\":\"closest\",\"hoverlabel\":{\"align\":\"left\"},\"paper_bgcolor\":\"white\",\"plot_bgcolor\":\"#E5ECF6\",\"polar\":{\"bgcolor\":\"#E5ECF6\",\"angularaxis\":{\"gridcolor\":\"white\",\"linecolor\":\"white\",\"ticks\":\"\"},\"radialaxis\":{\"gridcolor\":\"white\",\"linecolor\":\"white\",\"ticks\":\"\"}},\"ternary\":{\"bgcolor\":\"#E5ECF6\",\"aaxis\":{\"gridcolor\":\"white\",\"linecolor\":\"white\",\"ticks\":\"\"},\"baxis\":{\"gridcolor\":\"white\",\"linecolor\":\"white\",\"ticks\":\"\"},\"caxis\":{\"gridcolor\":\"white\",\"linecolor\":\"white\",\"ticks\":\"\"}},\"coloraxis\":{\"colorbar\":{\"outlinewidth\":0,\"ticks\":\"\"}},\"colorscale\":{\"sequential\":[[0.0,\"#0d0887\"],[0.1111111111111111,\"#46039f\"],[0.2222222222222222,\"#7201a8\"],[0.3333333333333333,\"#9c179e\"],[0.4444444444444444,\"#bd3786\"],[0.5555555555555556,\"#d8576b\"],[0.6666666666666666,\"#ed7953\"],[0.7777777777777778,\"#fb9f3a\"],[0.8888888888888888,\"#fdca26\"],[1.0,\"#f0f921\"]],\"sequentialminus\":[[0.0,\"#0d0887\"],[0.1111111111111111,\"#46039f\"],[0.2222222222222222,\"#7201a8\"],[0.3333333333333333,\"#9c179e\"],[0.4444444444444444,\"#bd3786\"],[0.5555555555555556,\"#d8576b\"],[0.6666666666666666,\"#ed7953\"],[0.7777777777777778,\"#fb9f3a\"],[0.8888888888888888,\"#fdca26\"],[1.0,\"#f0f921\"]],\"diverging\":[[0,\"#8e0152\"],[0.1,\"#c51b7d\"],[0.2,\"#de77ae\"],[0.3,\"#f1b6da\"],[0.4,\"#fde0ef\"],[0.5,\"#f7f7f7\"],[0.6,\"#e6f5d0\"],[0.7,\"#b8e186\"],[0.8,\"#7fbc41\"],[0.9,\"#4d9221\"],[1,\"#276419\"]]},\"xaxis\":{\"gridcolor\":\"white\",\"linecolor\":\"white\",\"ticks\":\"\",\"title\":{\"standoff\":15},\"zerolinecolor\":\"white\",\"automargin\":true,\"zerolinewidth\":2},\"yaxis\":{\"gridcolor\":\"white\",\"linecolor\":\"white\",\"ticks\":\"\",\"title\":{\"standoff\":15},\"zerolinecolor\":\"white\",\"automargin\":true,\"zerolinewidth\":2},\"scene\":{\"xaxis\":{\"backgroundcolor\":\"#E5ECF6\",\"gridcolor\":\"white\",\"linecolor\":\"white\",\"showbackground\":true,\"ticks\":\"\",\"zerolinecolor\":\"white\",\"gridwidth\":2},\"yaxis\":{\"backgroundcolor\":\"#E5ECF6\",\"gridcolor\":\"white\",\"linecolor\":\"white\",\"showbackground\":true,\"ticks\":\"\",\"zerolinecolor\":\"white\",\"gridwidth\":2},\"zaxis\":{\"backgroundcolor\":\"#E5ECF6\",\"gridcolor\":\"white\",\"linecolor\":\"white\",\"showbackground\":true,\"ticks\":\"\",\"zerolinecolor\":\"white\",\"gridwidth\":2}},\"shapedefaults\":{\"line\":{\"color\":\"#2a3f5f\"}},\"annotationdefaults\":{\"arrowcolor\":\"#2a3f5f\",\"arrowhead\":0,\"arrowwidth\":1},\"geo\":{\"bgcolor\":\"white\",\"landcolor\":\"#E5ECF6\",\"subunitcolor\":\"white\",\"showland\":true,\"showlakes\":true,\"lakecolor\":\"white\"},\"title\":{\"x\":0.05},\"mapbox\":{\"style\":\"light\"}}},\"xaxis\":{\"anchor\":\"y\",\"domain\":[0.0,0.94],\"rangeslider\":{\"visible\":false},\"gridcolor\":\"#1f292f\",\"nticks\":5},\"yaxis\":{\"anchor\":\"x\",\"domain\":[0.0,1.0],\"gridcolor\":\"#1f292f\"},\"yaxis2\":{\"anchor\":\"x\",\"overlaying\":\"y\",\"side\":\"right\",\"gridcolor\":\"#1f292f\"},\"margin\":{\"l\":10,\"r\":10,\"b\":10,\"t\":10},\"font\":{\"size\":8,\"color\":\"#e1e1e1\"},\"width\":1400,\"height\":600,\"paper_bgcolor\":\"#2c303c\",\"plot_bgcolor\":\"#2c303c\"},                        {\"responsive\": true}                    ).then(function(){\n",
       "                            \n",
       "var gd = document.getElementById('ed0e81e3-8413-455f-b228-7d50f42a53f6');\n",
       "var x = new MutationObserver(function (mutations, observer) {{\n",
       "        var display = window.getComputedStyle(gd).display;\n",
       "        if (!display || display === 'none') {{\n",
       "            console.log([gd, 'removed!']);\n",
       "            Plotly.purge(gd);\n",
       "            observer.disconnect();\n",
       "        }}\n",
       "}});\n",
       "\n",
       "// Listen for the removal of the full notebook cells\n",
       "var notebookContainer = gd.closest('#notebook-container');\n",
       "if (notebookContainer) {{\n",
       "    x.observe(notebookContainer, {childList: true});\n",
       "}}\n",
       "\n",
       "// Listen for the clearing of the current output cell\n",
       "var outputEl = gd.closest('.output');\n",
       "if (outputEl) {{\n",
       "    x.observe(outputEl, {childList: true});\n",
       "}}\n",
       "\n",
       "                        })                };                });            </script>        </div>"
      ]
     },
     "metadata": {},
     "output_type": "display_data"
    }
   ],
   "source": [
    "df_res_m5_plot = df_res_m5#.loc[:200]\n",
    "df_res_m5_plot['time'] = df_res_m5_plot['end_time']\n",
    "cp = CandlePlot(df_res_m5_plot, candles=False)\n",
    "cp.show_plot(line_traces=['balance'])"
   ]
  },
  {
   "cell_type": "code",
   "execution_count": null,
   "id": "cb8799e0",
   "metadata": {},
   "outputs": [],
   "source": []
  },
  {
   "cell_type": "code",
   "execution_count": null,
   "id": "44eb2cd6",
   "metadata": {},
   "outputs": [],
   "source": []
  }
 ],
 "metadata": {
  "kernelspec": {
   "display_name": "Python 3 (ipykernel)",
   "language": "python",
   "name": "python3"
  },
  "language_info": {
   "codemirror_mode": {
    "name": "ipython",
    "version": 3
   },
   "file_extension": ".py",
   "mimetype": "text/x-python",
   "name": "python",
   "nbconvert_exporter": "python",
   "pygments_lexer": "ipython3",
   "version": "3.9.13"
  }
 },
 "nbformat": 4,
 "nbformat_minor": 5
}
