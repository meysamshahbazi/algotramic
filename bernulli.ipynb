{
 "cells": [
  {
   "cell_type": "code",
   "execution_count": 1,
   "id": "3d865c08",
   "metadata": {},
   "outputs": [],
   "source": [
    "loss_margin = 0.03"
   ]
  },
  {
   "cell_type": "code",
   "execution_count": 2,
   "id": "402f8e49",
   "metadata": {},
   "outputs": [],
   "source": [
    "win_rate = 0.46"
   ]
  },
  {
   "cell_type": "code",
   "execution_count": 3,
   "id": "621a99a0",
   "metadata": {},
   "outputs": [],
   "source": [
    "nb_trade = 87+73\n",
    "rivard_to_risk = 1.5"
   ]
  },
  {
   "cell_type": "code",
   "execution_count": 4,
   "id": "b8f0681f",
   "metadata": {},
   "outputs": [],
   "source": [
    "balance = 100"
   ]
  },
  {
   "cell_type": "code",
   "execution_count": 5,
   "id": "dd04522d",
   "metadata": {},
   "outputs": [
    {
     "data": {
      "text/plain": [
       "183.6694043303955"
      ]
     },
     "execution_count": 5,
     "metadata": {},
     "output_type": "execute_result"
    }
   ],
   "source": [
    "balance*( (1+rivard_to_risk*loss_margin)**(win_rate*nb_trade) )*( (1-loss_margin)**((1-win_rate)*nb_trade))"
   ]
  },
  {
   "cell_type": "code",
   "execution_count": 18,
   "id": "94a253d5",
   "metadata": {},
   "outputs": [],
   "source": [
    "nb_tp = 69\n",
    "nb_sl = 87"
   ]
  },
  {
   "cell_type": "code",
   "execution_count": 19,
   "id": "de65fd98",
   "metadata": {},
   "outputs": [
    {
     "data": {
      "text/plain": [
       "147.2871714809604"
      ]
     },
     "execution_count": 19,
     "metadata": {},
     "output_type": "execute_result"
    }
   ],
   "source": [
    "balance*( (1+rivard_to_risk*loss_margin)**nb_tp )*( (1-loss_margin)**(nb_sl))"
   ]
  },
  {
   "cell_type": "code",
   "execution_count": null,
   "id": "1f4547d7",
   "metadata": {},
   "outputs": [],
   "source": []
  },
  {
   "cell_type": "code",
   "execution_count": null,
   "id": "769cfafc",
   "metadata": {},
   "outputs": [],
   "source": []
  },
  {
   "cell_type": "code",
   "execution_count": null,
   "id": "b418dcc9",
   "metadata": {},
   "outputs": [],
   "source": []
  },
  {
   "cell_type": "code",
   "execution_count": null,
   "id": "6ab15507",
   "metadata": {},
   "outputs": [],
   "source": []
  }
 ],
 "metadata": {
  "kernelspec": {
   "display_name": "Python 3 (ipykernel)",
   "language": "python",
   "name": "python3"
  },
  "language_info": {
   "codemirror_mode": {
    "name": "ipython",
    "version": 3
   },
   "file_extension": ".py",
   "mimetype": "text/x-python",
   "name": "python",
   "nbconvert_exporter": "python",
   "pygments_lexer": "ipython3",
   "version": "3.9.13"
  }
 },
 "nbformat": 4,
 "nbformat_minor": 5
}
