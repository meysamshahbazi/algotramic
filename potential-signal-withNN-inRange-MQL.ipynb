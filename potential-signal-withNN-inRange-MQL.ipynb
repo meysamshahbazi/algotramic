{
 "cells": [
  {
   "cell_type": "code",
   "execution_count": 2,
   "id": "ec6d40cf",
   "metadata": {},
   "outputs": [],
   "source": [
    "import pandas as pd\n",
    "import datetime as dt\n",
    "import plotly.graph_objects as go\n",
    "from technicals.indicators import *\n",
    "from technicals.patterns import apply_patterns\n",
    "from technicals.patternsInRange import apply_patterns_in_range\n",
    "\n",
    "from guruTester import GuruTester,GuruTester2\n",
    "from plotting import CandlePlot\n",
    "import MetaTrader5 as mt5\n",
    "from datetime import datetime\n",
    "from getCandle import Rates\n",
    "from sklearn.neural_network import MLPClassifier\n",
    "import numpy as np\n",
    "from sklearn.metrics import confusion_matrix\n",
    "from sklearn.preprocessing import StandardScaler  \n",
    "import pickle"
   ]
  },
  {
   "cell_type": "code",
   "execution_count": 3,
   "id": "8c10b2c8",
   "metadata": {},
   "outputs": [],
   "source": [
    "pair = \"GBPUSD\"\n",
    "NB_H1_CANDLES = 20000"
   ]
  },
  {
   "cell_type": "code",
   "execution_count": 4,
   "id": "d31dea2e",
   "metadata": {},
   "outputs": [
    {
     "data": {
      "text/plain": [
       "9.999999999998899e-05"
      ]
     },
     "execution_count": 4,
     "metadata": {},
     "output_type": "execute_result"
    }
   ],
   "source": [
    "rates = Rates(pair, NB_H1_CANDLES, mt5.TIMEFRAME_H1)\n",
    "SPREAD = rates.get_spread()\n",
    "df_an = rates.get_rates_from_now()\n",
    "df_an.drop(NB_H1_CANDLES-1,inplace=True) \n",
    "df_an.drop(['tick_volume', 'spread', 'real_volume'], axis=1, inplace=True)\n",
    "SPREAD"
   ]
  },
  {
   "cell_type": "code",
   "execution_count": 5,
   "id": "01a08e52",
   "metadata": {},
   "outputs": [
    {
     "data": {
      "text/plain": [
       "9e-05"
      ]
     },
     "execution_count": 5,
     "metadata": {},
     "output_type": "execute_result"
    }
   ],
   "source": [
    "SPREAD = (SPREAD//1e-5)*1e-5 # todo: do it right!!!\n",
    "SPREAD # 0"
   ]
  },
  {
   "cell_type": "code",
   "execution_count": 6,
   "id": "bb5a431f",
   "metadata": {},
   "outputs": [],
   "source": [
    "def featureExtraction(df):\n",
    "    candle_patterns = ['HANGING_MAN', 'SHOOTING_STAR',\n",
    "           'SPINNING_TOP', 'MARUBOZU', 'ENGULFING', 'TWEEZER_TOP',\n",
    "           'TWEEZER_BOTTOM', 'MORNING_STAR', 'EVENING_STAR']\n",
    "    df = apply_patterns_in_range(df)\n",
    "    for cp in candle_patterns:\n",
    "        df[cp] = df[cp].astype(float)\n",
    "\n",
    "    df = BollingerBandsFeature(df)\n",
    "    df = ATRFeature(df)\n",
    "    df = KeltnerChannelsFeature(df)\n",
    "    df = RSIFeature(df)\n",
    "    df = MACDFeature(df)\n",
    "    df['pivots_l'] = False\n",
    "    df['pivots_h'] = False\n",
    "\n",
    "    df['low_perv'] = df.low.shift(1)\n",
    "    df['high_perv'] = df.high.shift(1)\n",
    "    df['low_next'] = df.low.shift(-1)\n",
    "    df['high_next'] = df.high.shift(-1)\n",
    "    df['pivots_l'] = (df.low_perv > df.low) & (df.low_next > df.low)\n",
    "    df['pivots_h'] = (df.high_perv < df.high) & (df.high_next < df.high)\n",
    "    df.dropna(inplace=True)\n",
    "    df.reset_index(drop=True, inplace=True)\n",
    "\n",
    "    df.pivots_l = df.pivots_l.astype(float)\n",
    "    df.pivots_h = df.pivots_h.astype(float)\n",
    "    return df"
   ]
  },
  {
   "cell_type": "code",
   "execution_count": 7,
   "id": "d0c04450",
   "metadata": {},
   "outputs": [],
   "source": [
    "df_an = featureExtraction(df_an)"
   ]
  },
  {
   "cell_type": "code",
   "execution_count": 8,
   "id": "affc2b72",
   "metadata": {},
   "outputs": [
    {
     "name": "stderr",
     "output_type": "stream",
     "text": [
      "C:\\Users\\meysam\\AppData\\Local\\Temp\\ipykernel_9516\\3582309630.py:15: SettingWithCopyWarning: \n",
      "A value is trying to be set on a copy of a slice from a DataFrame\n",
      "\n",
      "See the caveats in the documentation: https://pandas.pydata.org/pandas-docs/stable/user_guide/indexing.html#returning-a-view-versus-a-copy\n",
      "  df_an.SIGNAL[i] = BUY\n",
      "C:\\Users\\meysam\\AppData\\Local\\Temp\\ipykernel_9516\\3582309630.py:18: SettingWithCopyWarning: \n",
      "A value is trying to be set on a copy of a slice from a DataFrame\n",
      "\n",
      "See the caveats in the documentation: https://pandas.pydata.org/pandas-docs/stable/user_guide/indexing.html#returning-a-view-versus-a-copy\n",
      "  df_an['SL'][i] = df_an.low[i-1]\n",
      "C:\\Users\\meysam\\AppData\\Local\\Temp\\ipykernel_9516\\3582309630.py:19: SettingWithCopyWarning: \n",
      "A value is trying to be set on a copy of a slice from a DataFrame\n",
      "\n",
      "See the caveats in the documentation: https://pandas.pydata.org/pandas-docs/stable/user_guide/indexing.html#returning-a-view-versus-a-copy\n",
      "  df_an['TP'][i] = 2*(df_an.close[i] - df_an.low[i-1] ) + df_an.close[i]\n",
      "C:\\Users\\meysam\\AppData\\Local\\Temp\\ipykernel_9516\\3582309630.py:27: SettingWithCopyWarning: \n",
      "A value is trying to be set on a copy of a slice from a DataFrame\n",
      "\n",
      "See the caveats in the documentation: https://pandas.pydata.org/pandas-docs/stable/user_guide/indexing.html#returning-a-view-versus-a-copy\n",
      "  df_an.SIGNAL[i] = SELL\n"
     ]
    }
   ],
   "source": [
    "BUY = 1\n",
    "SELL = -1\n",
    "NONE = 0\n",
    "\n",
    "df_an['SIGNAL'] = 0\n",
    "df_an['TP'] = 0\n",
    "df_an['SL'] = 0\n",
    "for i in range(1,len(df_an)):\n",
    "    if df_an.pivots_l[i-1]:\n",
    "        for j in range(i,len(df_an)):\n",
    "            if( df_an.low[j] <= df_an.low[i-1] ):\n",
    "                break\n",
    "            else:\n",
    "                if(df_an.high[j] > 2*(df_an.close[i] - df_an.low[i-1] ) + df_an.close[i]):\n",
    "                    df_an.SIGNAL[i] = BUY\n",
    "                    break\n",
    "        \n",
    "        df_an['SL'][i] = df_an.low[i-1] \n",
    "        df_an['TP'][i] = 2*(df_an.close[i] - df_an.low[i-1] ) + df_an.close[i]\n",
    "                    \n",
    "    if df_an.pivots_h[i-1]:\n",
    "        for j in range(i,len(df_an)):\n",
    "            if( df_an.high[j] >= df_an.high[i-1] ):\n",
    "                break\n",
    "            else:\n",
    "                if(df_an.low[j] < 2*(df_an.close[i] - df_an.high[i-1] ) + df_an.close[i]):\n",
    "                    df_an.SIGNAL[i] = SELL\n",
    "                    break\n",
    "                    \n",
    "        df_an['SL'][i] = df_an.high[i-1] \n",
    "        df_an['TP'][i] = 2*(df_an.close[i] - df_an.high[i-1] ) + df_an.close[i]\n",
    "                    "
   ]
  },
  {
   "cell_type": "code",
   "execution_count": 87,
   "id": "bcbaa40b",
   "metadata": {},
   "outputs": [],
   "source": [
    "\n",
    "feature_col = [\n",
    "    'open', 'high', 'low', 'close',\n",
    "    \n",
    "    'Feat_BB_MA_c', 'Feat_BB_UP_c', 'Feat_BB_LW_c',\n",
    "    'Feat_EMA_c', 'Feat_KeUp_c', 'Feat_KeLo_c',\n",
    "    \n",
    "    'Feat_BB_MA_o', 'Feat_BB_UP_o', 'Feat_BB_LW_o',\n",
    "    'Feat_EMA_o', 'Feat_KeUp_o', 'Feat_KeLo_o', \n",
    "    \n",
    "    'Feat_BB_MA_l', 'Feat_BB_UP_l', 'Feat_BB_LW_l',\n",
    "    'Feat_EMA_l', 'Feat_KeUp_l', 'Feat_KeLo_l',\n",
    "    \n",
    "    'Feat_BB_MA_h', 'Feat_BB_UP_h', 'Feat_BB_LW_h',\n",
    "    'Feat_EMA_h', 'Feat_KeUp_h', 'Feat_KeLo_h',\n",
    "    \n",
    "    'Feat_ATR_14',\n",
    "    'Feat_gains','Feat_wins_rma', 'Feat_losses_rma', 'Feat_RSI_14', \n",
    "#     'Feat_MACD', 'Feat_SIGNAL_MACD', 'Feat_HIST',\n",
    "    \n",
    "        'full_range',# this is added ...\n",
    "       'body_lower', 'body_upper', \n",
    "        'body_bottom_perc', 'body_top_perc',\n",
    "       'body_perc', 'direction', 'body_size', 'low_change', 'high_change',\n",
    "    'mid_point', 'mid_point_prev_2', 'body_size_prev',\n",
    "       'direction_prev', 'direction_prev_2', 'body_perc_prev','body_perc_prev_2',\n",
    "        'HANGING_MAN', 'SHOOTING_STAR', 'SPINNING_TOP',\n",
    "       'MARUBOZU', 'ENGULFING',\n",
    "    'TWEEZER_TOP', 'TWEEZER_BOTTOM',\n",
    "       'MORNING_STAR', 'EVENING_STAR'\n",
    "]"
   ]
  },
  {
   "cell_type": "code",
   "execution_count": 88,
   "id": "7a47bf62",
   "metadata": {},
   "outputs": [],
   "source": [
    "X = []\n",
    "Y = [] \n",
    "indeces = []\n",
    "for i in range(10,len(df_an)):\n",
    "    if df_an.pivots_h[i-1] or df_an.pivots_l[i-1] :\n",
    "        feature = []\n",
    "        feature.append(df_an.pivots_h[i-1])\n",
    "        feature.append(df_an.pivots_l[i-1])\n",
    "        feature.append(df_an.pivots_h[i-2])\n",
    "        feature.append(df_an.pivots_l[i-2])\n",
    "        feature.append(df_an.pivots_h[i-3])\n",
    "        feature.append(df_an.pivots_l[i-3])\n",
    "        feature.append(df_an.pivots_h[i-4])\n",
    "        feature.append(df_an.pivots_l[i-4])\n",
    "        for fc in feature_col:\n",
    "            feature.append(df_an[fc][i])\n",
    "            feature.append(df_an[fc][i-1])\n",
    "            feature.append(df_an[fc][i-2])\n",
    "            feature.append(df_an[fc][i-3])\n",
    "            feature.append(df_an[fc][i-4])\n",
    "            feature.append(df_an[fc][i-5])\n",
    "            feature.append(df_an[fc][i-6])\n",
    "            feature.append(df_an[fc][i-8])\n",
    "            feature.append(df_an[fc][i-9])\n",
    "            feature.append(df_an[fc][i-10])\n",
    "\n",
    "        X.append(feature)\n",
    "        Y.append(df_an.SIGNAL[i])\n",
    "        indeces.append(i)\n",
    "        "
   ]
  },
  {
   "cell_type": "code",
   "execution_count": 89,
   "id": "b32ee2c1",
   "metadata": {},
   "outputs": [],
   "source": [
    "feature_name = []\n",
    "feature_name.append('pivots_h[i-1]')\n",
    "feature_name.append('pivots_l[i-1]')\n",
    "feature_name.append('pivots_h[i-2]')\n",
    "feature_name.append('pivots_l[i-2]')\n",
    "feature_name.append('pivots_h[i-3]')\n",
    "feature_name.append('pivots_l[i-3]')\n",
    "feature_name.append('pivots_h[i-4]')\n",
    "feature_name.append('pivots_l[i-4]')\n",
    "for fc in feature_col:\n",
    "    feature_name.append(fc+'[i]')\n",
    "    feature_name.append(fc+'[i-1]')\n",
    "    feature_name.append(fc+'[i-2]')\n",
    "    feature_name.append(fc+'[i-3]')\n",
    "    feature_name.append(fc+'[i-4]')"
   ]
  },
  {
   "cell_type": "code",
   "execution_count": 90,
   "id": "c593e7a9",
   "metadata": {},
   "outputs": [],
   "source": [
    "# for i in range(len(feature_name)):\n",
    "#     print(feature_name[i],\" : \",feature[i])"
   ]
  },
  {
   "cell_type": "code",
   "execution_count": 91,
   "id": "13e3f7a6",
   "metadata": {},
   "outputs": [],
   "source": [
    "SPLIT_INDEX = int(0.8*len(X))\n",
    "X_train = X[:SPLIT_INDEX]\n",
    "Y_train = Y[:SPLIT_INDEX]\n",
    "indeces_train = indeces[:SPLIT_INDEX]\n",
    "X_test = X[SPLIT_INDEX:]\n",
    "Y_test = Y[SPLIT_INDEX:]\n",
    "indeces_test = indeces[SPLIT_INDEX:]"
   ]
  },
  {
   "cell_type": "code",
   "execution_count": 72,
   "id": "25ed0b43",
   "metadata": {},
   "outputs": [],
   "source": [
    "rates = Rates(pair, 13*len(df_test), mt5.TIMEFRAME_M5)\n",
    "df_m5 = rates.get_rates_from_now()\n",
    "df_m5.reset_index(drop=True, inplace=True)\n",
    "df_m5.drop(['tick_volume', 'spread', 'real_volume'], axis=1, inplace=True)"
   ]
  },
  {
   "cell_type": "code",
   "execution_count": 73,
   "id": "70d2623d",
   "metadata": {},
   "outputs": [
    {
     "data": {
      "text/plain": [
       "558"
      ]
     },
     "execution_count": 73,
     "metadata": {},
     "output_type": "execute_result"
    }
   ],
   "source": [
    "len(feature)"
   ]
  },
  {
   "cell_type": "code",
   "execution_count": 116,
   "id": "610f53c5",
   "metadata": {},
   "outputs": [],
   "source": [
    "clf = MLPClassifier( solver='adam', alpha=1e-4,learning_rate_init=1e-4, # adam\n",
    "                    hidden_layer_sizes=(600,600), \n",
    "                    random_state=1,\n",
    "                    max_iter=200,\n",
    "                    verbose=True,warm_start = True,\n",
    "                    n_iter_no_change=10,\n",
    "#                     early_stopping = True,\n",
    "#                     validation_fraction = 0.2 # default is 0.1\n",
    "                   )"
   ]
  },
  {
   "cell_type": "code",
   "execution_count": 117,
   "id": "cc192076",
   "metadata": {},
   "outputs": [
    {
     "name": "stdout",
     "output_type": "stream",
     "text": [
      "Iteration 1, loss = 0.91627486\n",
      "Iteration 2, loss = 0.83590784\n",
      "Iteration 3, loss = 0.79455123\n",
      "Iteration 4, loss = 0.75800343\n",
      "Iteration 5, loss = 0.73339762\n",
      "Iteration 6, loss = 0.71663550\n",
      "Iteration 7, loss = 0.71028209\n",
      "Iteration 8, loss = 0.70092750\n",
      "Iteration 9, loss = 0.69346056\n",
      "Iteration 10, loss = 0.68565273\n",
      "Iteration 11, loss = 0.68291992\n",
      "Iteration 12, loss = 0.67589588\n",
      "Iteration 13, loss = 0.66960023\n",
      "Iteration 14, loss = 0.66553399\n",
      "Iteration 15, loss = 0.65610225\n",
      "Iteration 16, loss = 0.65192378\n",
      "Iteration 17, loss = 0.64909468\n",
      "Iteration 18, loss = 0.64183345\n",
      "Iteration 19, loss = 0.63933543\n",
      "Iteration 20, loss = 0.63397516\n",
      "Iteration 21, loss = 0.62611991\n",
      "Iteration 22, loss = 0.62306901\n",
      "Iteration 23, loss = 0.61836906\n",
      "Iteration 24, loss = 0.60988230\n",
      "Iteration 25, loss = 0.60452975\n",
      "Iteration 26, loss = 0.60255402\n",
      "Iteration 27, loss = 0.59787412\n",
      "Iteration 28, loss = 0.59317703\n",
      "Iteration 29, loss = 0.58192395\n",
      "Iteration 30, loss = 0.57507792\n",
      "Iteration 31, loss = 0.56946215\n",
      "Iteration 32, loss = 0.56591502\n",
      "Iteration 33, loss = 0.55859109\n",
      "Iteration 34, loss = 0.55536695\n",
      "Iteration 35, loss = 0.54988700\n",
      "Iteration 36, loss = 0.55398384\n",
      "Iteration 37, loss = 0.53516796\n",
      "Iteration 38, loss = 0.53111549\n",
      "Iteration 39, loss = 0.52009784\n",
      "Iteration 40, loss = 0.51493189\n",
      "Iteration 41, loss = 0.50928243\n",
      "Iteration 42, loss = 0.50298834\n",
      "Iteration 43, loss = 0.50137586\n",
      "Iteration 44, loss = 0.49724328\n",
      "Iteration 45, loss = 0.48364121\n",
      "Iteration 46, loss = 0.48432022\n",
      "Iteration 47, loss = 0.47285261\n",
      "Iteration 48, loss = 0.46505875\n",
      "Iteration 49, loss = 0.46525742\n",
      "Iteration 50, loss = 0.45133846\n",
      "Iteration 51, loss = 0.44283244\n",
      "Iteration 52, loss = 0.44516462\n",
      "Iteration 53, loss = 0.43372073\n",
      "Iteration 54, loss = 0.42539429\n",
      "Iteration 55, loss = 0.42029990\n",
      "Iteration 56, loss = 0.41402682\n",
      "Iteration 57, loss = 0.41545101\n",
      "Iteration 58, loss = 0.40227062\n",
      "Iteration 59, loss = 0.39924458\n",
      "Iteration 60, loss = 0.39023649\n",
      "Iteration 61, loss = 0.39084009\n",
      "Iteration 62, loss = 0.38152131\n",
      "Iteration 63, loss = 0.37327583\n",
      "Iteration 64, loss = 0.37486782\n",
      "Iteration 65, loss = 0.36078548\n",
      "Iteration 66, loss = 0.35270860\n",
      "Iteration 67, loss = 0.35370367\n",
      "Iteration 68, loss = 0.34541801\n",
      "Iteration 69, loss = 0.35436602\n",
      "Iteration 70, loss = 0.34962597\n",
      "Iteration 71, loss = 0.33004946\n",
      "Iteration 72, loss = 0.32566706\n",
      "Iteration 73, loss = 0.31885336\n",
      "Iteration 74, loss = 0.31758199\n",
      "Iteration 75, loss = 0.31322511\n",
      "Iteration 76, loss = 0.31439870\n",
      "Iteration 77, loss = 0.30429484\n",
      "Iteration 78, loss = 0.30537138\n",
      "Iteration 79, loss = 0.29546632\n",
      "Iteration 80, loss = 0.28597653\n",
      "Iteration 81, loss = 0.28146722\n",
      "Iteration 82, loss = 0.27684566\n",
      "Iteration 83, loss = 0.26998688\n",
      "Iteration 84, loss = 0.27059372\n",
      "Iteration 85, loss = 0.26120071\n",
      "Iteration 86, loss = 0.26044341\n",
      "Iteration 87, loss = 0.25619441\n",
      "Iteration 88, loss = 0.25445741\n",
      "Iteration 89, loss = 0.24577557\n",
      "Iteration 90, loss = 0.24108151\n",
      "Iteration 91, loss = 0.23770367\n",
      "Iteration 92, loss = 0.22981714\n",
      "Iteration 93, loss = 0.22909624\n",
      "Iteration 94, loss = 0.22229244\n",
      "Iteration 95, loss = 0.21901407\n",
      "Iteration 96, loss = 0.21320468\n",
      "Iteration 97, loss = 0.21113042\n",
      "Iteration 98, loss = 0.20332548\n",
      "Iteration 99, loss = 0.20279247\n",
      "Iteration 100, loss = 0.19527339\n",
      "Iteration 101, loss = 0.19865054\n",
      "Iteration 102, loss = 0.20357222\n",
      "Iteration 103, loss = 0.18798162\n",
      "Iteration 104, loss = 0.18930217\n",
      "Iteration 105, loss = 0.18426215\n",
      "Iteration 106, loss = 0.18253508\n",
      "Iteration 107, loss = 0.17077178\n",
      "Iteration 108, loss = 0.17711538\n",
      "Iteration 109, loss = 0.16713720\n",
      "Iteration 110, loss = 0.16474201\n",
      "Iteration 111, loss = 0.15944828\n",
      "Iteration 112, loss = 0.15504843\n",
      "Iteration 113, loss = 0.16015237\n",
      "Iteration 114, loss = 0.15323299\n",
      "Iteration 115, loss = 0.14850843\n",
      "Iteration 116, loss = 0.14341221\n",
      "Iteration 117, loss = 0.14184640\n",
      "Iteration 118, loss = 0.14025879\n",
      "Iteration 119, loss = 0.13216882\n",
      "Iteration 120, loss = 0.13921740\n",
      "Iteration 121, loss = 0.13812110\n",
      "Iteration 122, loss = 0.14459819\n",
      "Iteration 123, loss = 0.13333256\n",
      "Iteration 124, loss = 0.12047873\n",
      "Iteration 125, loss = 0.12027868\n",
      "Iteration 126, loss = 0.11603252\n",
      "Iteration 127, loss = 0.11702369\n",
      "Iteration 128, loss = 0.11327648\n",
      "Iteration 129, loss = 0.11330675\n",
      "Iteration 130, loss = 0.10714164\n",
      "Iteration 131, loss = 0.10257278\n",
      "Iteration 132, loss = 0.10171903\n",
      "Iteration 133, loss = 0.09940854\n",
      "Iteration 134, loss = 0.09951824\n",
      "Iteration 135, loss = 0.10452519\n",
      "Iteration 136, loss = 0.09298872\n",
      "Iteration 137, loss = 0.08990941\n",
      "Iteration 138, loss = 0.08700311\n",
      "Iteration 139, loss = 0.08527149\n",
      "Iteration 140, loss = 0.08413967\n",
      "Iteration 141, loss = 0.08318359\n",
      "Iteration 142, loss = 0.08171324\n",
      "Iteration 143, loss = 0.08325521\n",
      "Iteration 144, loss = 0.08464844\n",
      "Iteration 145, loss = 0.07589367\n",
      "Iteration 146, loss = 0.08075918\n",
      "Iteration 147, loss = 0.07477841\n",
      "Iteration 148, loss = 0.07056017\n",
      "Iteration 149, loss = 0.06861096\n",
      "Iteration 150, loss = 0.07994630\n",
      "Iteration 151, loss = 0.07303704\n",
      "Iteration 152, loss = 0.06782734\n",
      "Iteration 153, loss = 0.06264055\n",
      "Iteration 154, loss = 0.06117741\n",
      "Iteration 155, loss = 0.06207047\n",
      "Iteration 156, loss = 0.05779661\n",
      "Iteration 157, loss = 0.06069504\n",
      "Iteration 158, loss = 0.06243412\n",
      "Iteration 159, loss = 0.05360012\n",
      "Iteration 160, loss = 0.05165347\n",
      "Iteration 161, loss = 0.05180749\n",
      "Iteration 162, loss = 0.05560214\n",
      "Iteration 163, loss = 0.05071754\n",
      "Iteration 164, loss = 0.04802013\n",
      "Iteration 165, loss = 0.04755395\n",
      "Iteration 166, loss = 0.04677778\n",
      "Iteration 167, loss = 0.04571673\n",
      "Iteration 168, loss = 0.04446351\n",
      "Iteration 169, loss = 0.04340257\n",
      "Iteration 170, loss = 0.04278445\n",
      "Iteration 171, loss = 0.04356186\n",
      "Iteration 172, loss = 0.04145030\n",
      "Iteration 173, loss = 0.03785270\n",
      "Iteration 174, loss = 0.03783556\n",
      "Iteration 175, loss = 0.03724341\n",
      "Iteration 176, loss = 0.03572543\n",
      "Iteration 177, loss = 0.03518262\n",
      "Iteration 178, loss = 0.03499519\n",
      "Iteration 179, loss = 0.03435369\n",
      "Iteration 180, loss = 0.03346944\n",
      "Iteration 181, loss = 0.03229263\n",
      "Iteration 182, loss = 0.03122841\n",
      "Iteration 183, loss = 0.03003901\n",
      "Iteration 184, loss = 0.03033467\n",
      "Iteration 185, loss = 0.02927371\n",
      "Iteration 186, loss = 0.02982952\n",
      "Iteration 187, loss = 0.03321003\n",
      "Iteration 188, loss = 0.02919181\n",
      "Iteration 189, loss = 0.02779452\n",
      "Iteration 190, loss = 0.02656603\n",
      "Iteration 191, loss = 0.02558551\n",
      "Iteration 192, loss = 0.02509211\n",
      "Iteration 193, loss = 0.02358029\n",
      "Iteration 194, loss = 0.02337349\n",
      "Iteration 195, loss = 0.02514459\n",
      "Iteration 196, loss = 0.02269619\n",
      "Iteration 197, loss = 0.02283784\n",
      "Iteration 198, loss = 0.02149974\n",
      "Iteration 199, loss = 0.02121580\n",
      "Iteration 200, loss = 0.02087323\n"
     ]
    },
    {
     "name": "stderr",
     "output_type": "stream",
     "text": [
      "C:\\Users\\meysam\\anaconda3\\lib\\site-packages\\sklearn\\neural_network\\_multilayer_perceptron.py:692: ConvergenceWarning:\n",
      "\n",
      "Stochastic Optimizer: Maximum iterations (200) reached and the optimization hasn't converged yet.\n",
      "\n"
     ]
    },
    {
     "data": {
      "text/plain": [
       "MLPClassifier(hidden_layer_sizes=(600, 600), learning_rate_init=0.0001,\n",
       "              random_state=1, verbose=True, warm_start=True)"
      ]
     },
     "execution_count": 117,
     "metadata": {},
     "output_type": "execute_result"
    }
   ],
   "source": [
    "clf.fit(X_train, Y_train)"
   ]
  },
  {
   "cell_type": "code",
   "execution_count": 95,
   "id": "0be6d144",
   "metadata": {},
   "outputs": [],
   "source": []
  },
  {
   "cell_type": "code",
   "execution_count": 118,
   "id": "f7a7e63b",
   "metadata": {},
   "outputs": [],
   "source": [
    "y_perdict = clf.predict(X_test)"
   ]
  },
  {
   "cell_type": "code",
   "execution_count": 119,
   "id": "7807b198",
   "metadata": {},
   "outputs": [
    {
     "data": {
      "text/plain": [
       "1.0"
      ]
     },
     "execution_count": 119,
     "metadata": {},
     "output_type": "execute_result"
    }
   ],
   "source": [
    "clf.score(X_train, Y_train)"
   ]
  },
  {
   "cell_type": "code",
   "execution_count": 120,
   "id": "36325fc4",
   "metadata": {},
   "outputs": [
    {
     "data": {
      "text/plain": [
       "0.5569693464430306"
      ]
     },
     "execution_count": 120,
     "metadata": {},
     "output_type": "execute_result"
    }
   ],
   "source": [
    "clf.score(X_test, Y_test)"
   ]
  },
  {
   "cell_type": "code",
   "execution_count": 121,
   "id": "fa03b72d",
   "metadata": {},
   "outputs": [
    {
     "data": {
      "text/plain": [
       "array([[115, 224,  10],\n",
       "       [158, 705, 182],\n",
       "       [  5, 187, 143]], dtype=int64)"
      ]
     },
     "execution_count": 121,
     "metadata": {},
     "output_type": "execute_result"
    }
   ],
   "source": [
    "conf = confusion_matrix(Y_test, y_perdict)\n",
    "conf"
   ]
  },
  {
   "cell_type": "code",
   "execution_count": 114,
   "id": "664514c8",
   "metadata": {},
   "outputs": [
    {
     "name": "stderr",
     "output_type": "stream",
     "text": [
      "C:\\Users\\meysam\\AppData\\Local\\Temp\\ipykernel_9516\\3314508941.py:9: SettingWithCopyWarning:\n",
      "\n",
      "\n",
      "A value is trying to be set on a copy of a slice from a DataFrame\n",
      "\n",
      "See the caveats in the documentation: https://pandas.pydata.org/pandas-docs/stable/user_guide/indexing.html#returning-a-view-versus-a-copy\n",
      "\n",
      "C:\\Users\\meysam\\AppData\\Local\\Temp\\ipykernel_9516\\3314508941.py:7: SettingWithCopyWarning:\n",
      "\n",
      "\n",
      "A value is trying to be set on a copy of a slice from a DataFrame\n",
      "\n",
      "See the caveats in the documentation: https://pandas.pydata.org/pandas-docs/stable/user_guide/indexing.html#returning-a-view-versus-a-copy\n",
      "\n"
     ]
    }
   ],
   "source": [
    "df_test = df_an[['time', 'open', 'high', 'low', 'close','TP','SL','pivots_l','pivots_h']].iloc[indeces_test[0]:].copy()\n",
    "df_test['SIGNAL'] = 0\n",
    "for i,idx in enumerate(indeces_test):\n",
    "    if i > 0:\n",
    "#         df_test.SIGNAL.loc[idx] = y_perdict[i]\n",
    "        if df_test.pivots_l[idx-1]==1 and y_perdict[i] ==BUY:\n",
    "            df_test.SIGNAL.loc[idx] = y_perdict[i]\n",
    "        if df_test.pivots_h[idx-1]==1 and y_perdict[i] ==SELL:\n",
    "            df_test.SIGNAL.loc[idx] = y_perdict[i]\n",
    "\n",
    "df_test.reset_index(drop=True, inplace=True)"
   ]
  },
  {
   "cell_type": "code",
   "execution_count": 115,
   "id": "b77dc800",
   "metadata": {},
   "outputs": [
    {
     "name": "stdout",
     "output_type": "stream",
     "text": [
      "prepare_data...\n",
      "run_test...\n",
      "Result:\n",
      "win rate:  0.3583208395802099\n",
      "-1.0    428\n",
      " 2.0    239\n",
      "Name: result, dtype: int64\n"
     ]
    }
   ],
   "source": [
    "gt = GuruTester2(\n",
    "        df_test,\n",
    "        df_m5,\n",
    "        SPREAD,\n",
    "        use_spread=True\n",
    "    )\n",
    "df_res_m5 = gt.run_test()"
   ]
  },
  {
   "cell_type": "code",
   "execution_count": 110,
   "id": "becfda1a",
   "metadata": {},
   "outputs": [
    {
     "name": "stderr",
     "output_type": "stream",
     "text": [
      "C:\\Users\\meysam\\AppData\\Local\\Temp\\ipykernel_9516\\4279289003.py:10: SettingWithCopyWarning:\n",
      "\n",
      "\n",
      "A value is trying to be set on a copy of a slice from a DataFrame\n",
      "\n",
      "See the caveats in the documentation: https://pandas.pydata.org/pandas-docs/stable/user_guide/indexing.html#returning-a-view-versus-a-copy\n",
      "\n"
     ]
    }
   ],
   "source": [
    "df_res_m5['balance'] = 100\n",
    "loss_margin = 0.03\n",
    "perv_balance = 100\n",
    "\n",
    "# for index, row in df_res_m5.iterrows():\n",
    "for i in range(len(df_res_m5)):\n",
    "    if(df_res_m5.result[i] == -1):\n",
    "        loss_ratio =1# abs( (df_res_m5['start_price'][i]-df_res_m5['trigger_price'][i])/((df_res_m5['start_price'][i]-df_res_m5['SL'][i])) )\n",
    "#         print(loss_ratio)\n",
    "        df_res_m5['balance'][i] = perv_balance*(1-loss_ratio*loss_margin) \n",
    "    elif(df_res_m5.result[i] == 2):\n",
    "        profit_to_loss = 2#abs( (df_res_m5['start_price'][i]-df_res_m5['trigger_price'][i])/((df_res_m5['start_price'][i]-df_res_m5['SL'][i])) )\n",
    "#         print(profit_to_loss)\n",
    "        df_res_m5['balance'][i] = perv_balance*(1+profit_to_loss*loss_margin) \n",
    "    perv_balance = df_res_m5['balance'][i]"
   ]
  },
  {
   "cell_type": "code",
   "execution_count": 111,
   "id": "300dbdd2",
   "metadata": {},
   "outputs": [
    {
     "name": "stdout",
     "output_type": "stream",
     "text": [
      "min balance  79.20455628882712\n"
     ]
    },
    {
     "data": {
      "application/vnd.plotly.v1+json": {
       "config": {
        "plotlyServerURL": "https://plot.ly"
       },
       "data": [
        {
         "line": {
          "shape": "spline",
          "width": 2
         },
         "name": "balance",
         "type": "scatter",
         "x": [
          "s22-08-04 10:05",
          "s22-08-04 14:00",
          "s22-08-04 16:00",
          "s22-08-05 09:55",
          "s22-08-05 15:30",
          "s22-08-08 10:45",
          "s22-08-08 16:00",
          "s22-08-08 21:45",
          "s22-08-08 21:50",
          "s22-08-09 10:15",
          "s22-08-09 11:05",
          "s22-08-09 17:50",
          "s22-08-10 02:00",
          "s22-08-10 11:25",
          "s22-08-10 14:25",
          "s22-08-10 15:30",
          "s22-08-10 17:30",
          "s22-08-11 04:55",
          "s22-08-11 05:05",
          "s22-08-11 09:15",
          "s22-08-12 03:25",
          "s22-08-12 05:00",
          "s22-08-12 08:35",
          "s22-08-12 12:15",
          "s22-08-12 15:40",
          "s22-08-15 02:55",
          "s22-08-15 04:20",
          "s22-08-15 08:55",
          "s22-08-15 10:10",
          "s22-08-15 17:00",
          "s22-08-15 20:45",
          "s22-08-15 23:35",
          "s22-08-16 03:00",
          "s22-08-16 10:00",
          "s22-08-16 10:00",
          "s22-08-16 16:00",
          "s22-08-17 02:05",
          "s22-08-17 03:50",
          "s22-08-17 07:50",
          "s22-08-17 14:10",
          "s22-08-18 05:00",
          "s22-08-18 09:35",
          "s22-08-18 09:35",
          "s22-08-18 09:45",
          "s22-08-18 11:45",
          "s22-08-18 17:00",
          "s22-08-19 07:10",
          "s22-08-19 13:40",
          "s22-08-19 17:05",
          "s22-08-22 09:00",
          "s22-08-22 10:00",
          "s22-08-22 13:00",
          "s22-08-22 16:50",
          "s22-08-22 18:25",
          "s22-08-23 01:50",
          "s22-08-23 08:10",
          "s22-08-23 08:20",
          "s22-08-23 16:20",
          "s22-08-23 17:00",
          "s22-08-24 03:10",
          "s22-08-24 10:20",
          "s22-08-24 12:50",
          "s22-08-25 03:05",
          "s22-08-25 07:35",
          "s22-08-25 07:35",
          "s22-08-25 13:20",
          "s22-08-25 15:30",
          "s22-08-25 23:00",
          "s22-08-26 02:45",
          "s22-08-26 15:35",
          "s22-08-26 17:35",
          "s22-08-29 02:25",
          "s22-08-29 13:40",
          "s22-08-30 02:45",
          "s22-08-30 09:30",
          "s22-08-30 10:35",
          "s22-08-30 10:40",
          "s22-08-31 03:05",
          "s22-08-31 07:00",
          "s22-08-31 15:25",
          "s22-09-01 02:25",
          "s22-09-02 10:05",
          "s22-09-02 13:00",
          "s22-09-02 22:35",
          "s22-09-05 03:05",
          "s22-09-05 08:00",
          "s22-09-05 11:10",
          "s22-09-05 15:40",
          "s22-09-06 01:00",
          "s22-09-06 03:00",
          "s22-09-06 17:00",
          "s22-09-07 01:50",
          "s22-09-07 03:15",
          "s22-09-07 03:20",
          "s22-09-07 03:20",
          "s22-09-07 10:55",
          "s22-09-07 13:55",
          "s22-09-08 01:10",
          "s22-09-08 06:05",
          "s22-09-08 10:20",
          "s22-09-08 13:45",
          "s22-09-09 03:35",
          "s22-09-09 03:40",
          "s22-09-09 05:10",
          "s22-09-09 14:30",
          "s22-09-12 00:05",
          "s22-09-12 00:40",
          "s22-09-12 10:10",
          "s22-09-13 07:40",
          "s22-09-13 08:40",
          "s22-09-13 09:00",
          "s22-09-13 09:20",
          "s22-09-13 15:30",
          "s22-09-13 15:30",
          "s22-09-13 21:00",
          "s22-09-14 09:35",
          "s22-09-14 11:00",
          "s22-09-14 22:00",
          "s22-09-14 22:25",
          "s22-09-15 03:10",
          "s22-09-15 07:55",
          "s22-09-15 12:10",
          "s22-09-15 13:30",
          "s22-09-15 15:05",
          "s22-09-15 15:25",
          "s22-09-15 16:20",
          "s22-09-15 22:10",
          "s22-09-16 02:20",
          "s22-09-16 08:20",
          "s22-09-16 17:10",
          "s22-09-16 17:35",
          "s22-09-19 01:50",
          "s22-09-19 09:05",
          "s22-09-19 16:50",
          "s22-09-19 17:35",
          "s22-09-19 20:05",
          "s22-09-19 22:00",
          "s22-09-20 09:25",
          "s22-09-20 12:45",
          "s22-09-20 16:25",
          "s22-09-21 07:55",
          "s22-09-21 07:55",
          "s22-09-21 09:00",
          "s22-09-21 09:00",
          "s22-09-21 09:30",
          "s22-09-21 09:30",
          "s22-09-21 17:30",
          "s22-09-21 21:00",
          "s22-09-21 23:00",
          "s22-09-22 02:10",
          "s22-09-22 10:35",
          "s22-09-22 13:50",
          "s22-09-22 16:35",
          "s22-09-23 05:15",
          "s22-09-23 09:45",
          "s22-09-23 10:00",
          "s22-09-23 13:35",
          "s22-09-23 16:45",
          "s22-09-26 15:45",
          "s22-09-26 18:30",
          "s22-09-27 16:30",
          "s22-09-27 19:05",
          "s22-09-28 01:00",
          "s22-09-28 13:00",
          "s22-09-28 22:25",
          "s22-09-29 16:00",
          "s22-09-29 16:15",
          "s22-09-30 05:15",
          "s22-09-30 07:15",
          "s22-09-30 21:55",
          "s22-10-03 02:00",
          "s22-10-03 07:00",
          "s22-10-03 08:40",
          "s22-10-03 08:45",
          "s22-10-03 23:00",
          "s22-10-04 02:00",
          "s22-10-04 08:00",
          "s22-10-04 08:50",
          "s22-10-04 17:00",
          "s22-10-04 18:05",
          "s22-10-04 18:25",
          "s22-10-05 01:10",
          "s22-10-05 02:00",
          "s22-10-05 09:40",
          "s22-10-05 09:45",
          "s22-10-05 09:45",
          "s22-10-05 13:10",
          "s22-10-06 09:00",
          "s22-10-06 11:10",
          "s22-10-06 11:40",
          "s22-10-06 16:20",
          "s22-10-07 11:10",
          "s22-10-07 15:45",
          "s22-10-07 17:00",
          "s22-10-07 20:00",
          "s22-10-07 21:30",
          "s22-10-10 08:55",
          "s22-10-10 22:00",
          "s22-10-11 07:55",
          "s22-10-11 09:00",
          "s22-10-11 11:00",
          "s22-10-11 14:20",
          "s22-10-11 14:20",
          "s22-10-12 03:00",
          "s22-10-12 18:40",
          "s22-10-13 03:00",
          "s22-10-13 09:00",
          "s22-10-13 12:25",
          "s22-10-13 14:25",
          "s22-10-13 14:30",
          "s22-10-13 18:20",
          "s22-10-14 02:30",
          "s22-10-14 02:55",
          "s22-10-14 09:00",
          "s22-10-14 10:05",
          "s22-10-14 12:25",
          "s22-10-14 12:25",
          "s22-10-14 14:40",
          "s22-10-14 17:00",
          "s22-10-14 19:55",
          "s22-10-17 05:00",
          "s22-10-17 08:05",
          "s22-10-17 13:05",
          "s22-10-17 13:10",
          "s22-10-17 15:40",
          "s22-10-17 17:40",
          "s22-10-17 19:40",
          "s22-10-18 03:00",
          "s22-10-18 23:35",
          "s22-10-19 01:55",
          "s22-10-19 11:10",
          "s22-10-19 17:25",
          "s22-10-20 07:15",
          "s22-10-20 07:15",
          "s22-10-20 11:25",
          "s22-10-20 14:10",
          "s22-10-21 02:35",
          "s22-10-21 06:40",
          "s22-10-21 15:05",
          "s22-10-21 22:20",
          "s22-10-25 14:15",
          "s22-10-25 15:45",
          "s22-10-25 16:15",
          "s22-10-25 16:30",
          "s22-10-26 01:50",
          "s22-10-26 03:10",
          "s22-10-26 03:50",
          "s22-10-26 15:55",
          "s22-10-26 18:40",
          "s22-10-27 02:30",
          "s22-10-27 02:50",
          "s22-10-27 07:50",
          "s22-10-27 09:30",
          "s22-10-27 09:35",
          "s22-10-27 21:45",
          "s22-10-28 06:00",
          "s22-10-28 08:10",
          "s22-10-28 21:15",
          "s22-10-31 02:55",
          "s22-10-31 08:15",
          "s22-10-31 13:50",
          "s22-10-31 13:50",
          "s22-11-01 07:40",
          "s22-11-01 08:15",
          "s22-11-01 12:25",
          "s22-11-01 16:05",
          "s22-11-01 16:05",
          "s22-11-02 08:15",
          "s22-11-02 15:30",
          "s22-11-02 20:00",
          "s22-11-02 20:00",
          "s22-11-03 08:50",
          "s22-11-03 09:05",
          "s22-11-03 20:15",
          "s22-11-04 04:50",
          "s22-11-04 14:20",
          "s22-11-07 07:00",
          "s22-11-07 13:30",
          "s22-11-07 15:15",
          "s22-11-08 13:00",
          "s22-11-09 10:05",
          "s22-11-09 15:20",
          "s22-11-09 19:00",
          "s22-11-10 01:20",
          "s22-11-10 15:20",
          "s22-11-10 15:20",
          "s22-11-10 15:30",
          "s22-11-10 15:35",
          "s22-11-10 19:30",
          "s22-11-10 21:50",
          "s22-11-11 02:30",
          "s22-11-11 09:15",
          "s22-11-11 13:30",
          "s22-11-11 14:25",
          "s22-11-14 03:15",
          "s22-11-14 06:00",
          "s22-11-14 10:00",
          "s22-11-14 10:10",
          "s22-11-14 15:50",
          "s22-11-14 15:50",
          "s22-11-15 07:05",
          "s22-11-15 09:20",
          "s22-11-15 09:20",
          "s22-11-15 12:20",
          "s22-11-15 14:40",
          "s22-11-15 15:35",
          "s22-11-15 19:00",
          "s22-11-15 20:25",
          "s22-11-16 08:05",
          "s22-11-16 15:30",
          "s22-11-17 02:00",
          "s22-11-17 09:30",
          "s22-11-17 09:35",
          "s22-11-17 10:00",
          "s22-11-17 11:30",
          "s22-11-17 19:50",
          "s22-11-18 02:10",
          "s22-11-18 15:20",
          "s22-11-18 16:50",
          "s22-11-18 19:00",
          "s22-11-21 02:05",
          "s22-11-21 06:35",
          "s22-11-21 10:00",
          "s22-11-21 23:55",
          "s22-11-22 01:00",
          "s22-11-22 07:20",
          "s22-11-22 11:30",
          "s22-11-22 14:25",
          "s22-11-22 20:55",
          "s22-11-23 03:25",
          "s22-11-23 06:00",
          "s22-11-23 15:30",
          "s22-11-24 12:10",
          "s22-11-24 16:20",
          "s22-11-25 02:10",
          "s22-11-25 04:35",
          "s22-11-28 01:20",
          "s22-11-28 03:25",
          "s22-11-28 03:30",
          "s22-11-28 15:15",
          "s22-11-28 16:00",
          "s22-11-29 08:50",
          "s22-11-29 15:55",
          "s22-11-29 23:10",
          "s22-11-30 06:20",
          "s22-11-30 08:30",
          "s22-11-30 11:00",
          "s22-11-30 15:55",
          "s22-11-30 17:05",
          "s22-11-30 21:05",
          "s22-12-01 09:55",
          "s22-12-02 01:15",
          "s22-12-02 04:25",
          "s22-12-02 07:40",
          "s22-12-05 02:15",
          "s22-12-05 03:30",
          "s22-12-05 05:10",
          "s22-12-05 09:05",
          "s22-12-05 12:20",
          "s22-12-05 17:00",
          "s22-12-06 02:55",
          "s22-12-06 06:15",
          "s22-12-06 12:40",
          "s22-12-06 20:30",
          "s22-12-07 08:05",
          "s22-12-07 13:05",
          "s22-12-08 05:10",
          "s22-12-08 08:15",
          "s22-12-08 11:15",
          "s22-12-08 11:15",
          "s22-12-08 17:35",
          "s22-12-08 20:50",
          "s22-12-09 15:30",
          "s22-12-09 17:35",
          "s22-12-09 17:35",
          "s22-12-12 03:10",
          "s22-12-12 09:00",
          "s22-12-12 09:25",
          "s22-12-12 16:35",
          "s22-12-12 20:30",
          "s22-12-12 21:05",
          "s22-12-13 15:30",
          "s22-12-14 08:45",
          "s22-12-14 10:15",
          "s22-12-14 20:35",
          "s22-12-15 10:40",
          "s22-12-15 14:00",
          "s22-12-15 17:00",
          "s22-12-16 04:00",
          "s22-12-16 11:05",
          "s22-12-16 16:55",
          "s22-12-19 11:10",
          "s22-12-19 17:40",
          "s22-12-19 18:45",
          "s22-12-20 07:20",
          "s22-12-21 01:05",
          "s22-12-21 03:35",
          "s22-12-21 08:50",
          "s22-12-21 18:25",
          "s22-12-22 02:00",
          "s22-12-22 02:55",
          "s22-12-22 08:20",
          "s22-12-22 10:00",
          "s22-12-22 16:30",
          "s22-12-23 02:55",
          "s22-12-23 09:40",
          "s22-12-23 15:30",
          "s22-12-23 17:30",
          "s22-12-27 01:10",
          "s22-12-27 01:30",
          "s22-12-27 03:55",
          "s22-12-27 08:50",
          "s22-12-27 10:00",
          "s22-12-27 12:00",
          "s22-12-28 01:00",
          "s22-12-28 02:20",
          "s22-12-28 02:50",
          "s22-12-28 08:10",
          "s22-12-28 13:00",
          "s22-12-28 16:35",
          "s22-12-29 08:35",
          "s22-12-29 11:20",
          "s22-12-29 16:35",
          "s22-12-30 06:00",
          "s22-12-30 06:00",
          "s22-12-30 08:30",
          "s22-12-30 09:55",
          "s22-12-30 15:20",
          "s22-12-30 16:10",
          "s23-01-03 04:35",
          "s23-01-03 09:50",
          "s23-01-03 09:50",
          "s23-01-03 10:00",
          "s23-01-03 10:50",
          "s23-01-03 22:00",
          "s23-01-04 09:10",
          "s23-01-04 09:40",
          "s23-01-04 13:10",
          "s23-01-05 00:10",
          "s23-01-05 15:15",
          "s23-01-05 15:20",
          "s23-01-06 05:00",
          "s23-01-06 09:00",
          "s23-01-06 09:40",
          "s23-01-06 11:10",
          "s23-01-06 11:55",
          "s23-01-06 17:45",
          "s23-01-09 00:05",
          "s23-01-09 01:00",
          "s23-01-09 04:10",
          "s23-01-09 17:35",
          "s23-01-09 17:35",
          "s23-01-10 04:00",
          "s23-01-10 09:25",
          "s23-01-10 14:45",
          "s23-01-10 18:20",
          "s23-01-11 06:40",
          "s23-01-11 07:25",
          "s23-01-11 07:35",
          "s23-01-11 10:50",
          "s23-01-12 09:15",
          "s23-01-12 11:10",
          "s23-01-12 11:50",
          "s23-01-12 15:30",
          "s23-01-13 00:05",
          "s23-01-13 03:35",
          "s23-01-13 04:15",
          "s23-01-13 13:50",
          "s23-01-13 20:40",
          "s23-01-16 02:50",
          "s23-01-16 03:55",
          "s23-01-16 08:05",
          "s23-01-16 09:30",
          "s23-01-16 19:00",
          "s23-01-17 03:30",
          "s23-01-17 09:40",
          "s23-01-17 13:40",
          "s23-01-17 16:25",
          "s23-01-17 23:40",
          "s23-01-18 04:40",
          "s23-01-18 08:10",
          "s23-01-18 08:10",
          "s23-01-18 09:00",
          "s23-01-18 11:45",
          "s23-01-18 13:35",
          "s23-01-18 15:20",
          "s23-01-19 02:50",
          "s23-01-19 09:55",
          "s23-01-20 06:00",
          "s23-01-20 14:00",
          "s23-01-20 17:15",
          "s23-01-23 01:35",
          "s23-01-23 02:50",
          "s23-01-23 12:30",
          "s23-01-23 20:50",
          "s23-01-24 03:15",
          "s23-01-24 07:25",
          "s23-01-24 09:45",
          "s23-01-24 11:20",
          "s23-01-24 11:45",
          "s23-01-24 14:35",
          "s23-01-24 22:10",
          "s23-01-25 02:15",
          "s23-01-25 08:20",
          "s23-01-25 09:40",
          "s23-01-25 09:45",
          "s23-01-25 11:00",
          "s23-01-25 20:45",
          "s23-01-25 22:00",
          "s23-01-26 01:15",
          "s23-01-26 08:50",
          "s23-01-26 10:20",
          "s23-01-26 10:20",
          "s23-01-26 11:15",
          "s23-01-26 17:35",
          "s23-01-27 01:20",
          "s23-01-27 03:05",
          "s23-01-27 15:00",
          "s23-01-27 15:00",
          "s23-01-27 19:50",
          "s23-01-30 01:50",
          "s23-01-30 09:15",
          "s23-01-30 21:10",
          "s23-01-31 02:30",
          "s23-01-31 06:30",
          "s23-01-31 06:30",
          "s23-01-31 09:10",
          "s23-01-31 10:05",
          "s23-01-31 13:25",
          "s23-01-31 17:05",
          "s23-02-01 05:25",
          "s23-02-01 13:00",
          "s23-02-01 18:15",
          "s23-02-01 21:00",
          "s23-02-02 03:30",
          "s23-02-02 08:00",
          "s23-02-02 16:00",
          "s23-02-02 19:50",
          "s23-02-03 01:00",
          "s23-02-03 04:25",
          "s23-02-03 08:35",
          "s23-02-03 14:45",
          "s23-02-06 02:50",
          "s23-02-06 07:45",
          "s23-02-06 10:50",
          "s23-02-06 14:35",
          "s23-02-06 17:35",
          "s23-02-07 03:30",
          "s23-02-07 06:05",
          "s23-02-07 09:05",
          "s23-02-07 13:10",
          "s23-02-07 19:55",
          "s23-02-08 07:05",
          "s23-02-08 11:00",
          "s23-02-09 10:10",
          "s23-02-09 10:20",
          "s23-02-13 15:00",
          "s23-02-13 20:45",
          "s23-02-13 22:00",
          "s23-02-14 09:00",
          "s23-02-14 09:00",
          "s23-02-14 10:05",
          "s23-02-14 15:00",
          "s23-02-15 08:30",
          "s23-02-15 08:30",
          "s23-02-15 09:00",
          "s23-02-15 12:45",
          "s23-02-16 14:30",
          "s23-02-16 15:30",
          "s23-02-16 21:05",
          "s23-02-17 01:00",
          "s23-02-17 02:25",
          "s23-02-17 08:10",
          "s23-02-17 15:15",
          "s23-02-17 21:05",
          "s23-02-20 06:20",
          "s23-02-21 01:25",
          "s23-02-21 03:10",
          "s23-02-21 03:30",
          "s23-02-21 09:00",
          "s23-02-21 09:05",
          "s23-02-21 10:15",
          "s23-02-21 11:20",
          "s23-02-21 11:20",
          "s23-02-21 11:30",
          "s23-02-21 13:45",
          "s23-02-21 15:10",
          "s23-02-22 17:35",
          "s23-02-23 00:10",
          "s23-02-23 08:25",
          "s23-02-23 10:05",
          "s23-02-23 17:50",
          "s23-02-24 10:40",
          "s23-02-24 12:00",
          "s23-02-24 14:20",
          "s23-02-24 14:55",
          "s23-02-24 16:25",
          "s23-02-24 23:00",
          "s23-02-27 10:00",
          "s23-02-27 13:15",
          "s23-02-27 13:20",
          "s23-02-27 19:55",
          "s23-02-28 01:05",
          "s23-02-28 05:00",
          "s23-02-28 15:00",
          "s23-03-01 09:45",
          "s23-03-01 15:55",
          "s23-03-02 01:00",
          "s23-03-02 03:35",
          "s23-03-02 07:20",
          "s23-03-02 14:50",
          "s23-03-03 02:55",
          "s23-03-03 06:00",
          "s23-03-03 15:35",
          "s23-03-03 20:10",
          "s23-03-06 17:05",
          "s23-03-07 01:00",
          "s23-03-07 09:10",
          "s23-03-07 10:10",
          "s23-03-07 10:20",
          "s23-03-08 04:45",
          "s23-03-08 04:50",
          "s23-03-08 08:00",
          "s23-03-08 10:40",
          "s23-03-08 16:30",
          "s23-03-08 17:00",
          "s23-03-08 19:00",
          "s23-03-09 07:10",
          "s23-03-09 12:00",
          "s23-03-10 04:25",
          "s23-03-10 04:30",
          "s23-03-10 15:30",
          "s23-03-14 01:55",
          "s23-03-14 10:05",
          "s23-03-14 14:15",
          "s23-03-14 22:25",
          "s23-03-15 10:55",
          "s23-03-15 11:30",
          "s23-03-15 12:35",
          "s23-03-15 16:00",
          "s23-03-15 18:00",
          "s23-03-16 02:05",
          "s23-03-16 05:00",
          "s23-03-16 09:40",
          "s23-03-16 11:15",
          "s23-03-17 01:35",
          "s23-03-17 03:10",
          "s23-03-17 09:00",
          "s23-03-17 15:00",
          "s23-03-20 09:00",
          "s23-03-20 12:55",
          "s23-03-20 18:25",
          "s23-03-20 22:00",
          "s23-03-21 01:45",
          "s23-03-21 15:05",
          "s23-03-21 15:40",
          "s23-03-22 00:55",
          "s23-03-22 04:25",
          "s23-03-22 09:00",
          "s23-03-22 19:30",
          "s23-03-22 19:35",
          "s23-03-23 02:50",
          "s23-03-23 07:05",
          "s23-03-23 08:25",
          "s23-03-23 14:20",
          "s23-03-24 02:00",
          "s23-03-27 11:30"
         ],
         "xaxis": "x",
         "y": [
          97,
          94.09,
          99.73540000000001,
          96.74333800000001,
          93.84103786,
          99.47150013160001,
          96.48735512765201,
          93.59273447382245,
          90.78495243960776,
          88.06140386641952,
          85.41956175042694,
          82.85697489791413,
          87.82839339178898,
          93.09809699529632,
          90.30515408543742,
          95.72346333056367,
          92.85175943064677,
          98.42286499648557,
          104.32823689627472,
          101.19838978938647,
          107.27029317674966,
          113.70651076735464,
          110.29531544433401,
          116.91303437099405,
          113.40564333986423,
          110.00347403966829,
          106.70336981847824,
          103.50226872392389,
          100.39720066220617,
          106.42103270193854,
          112.80629466405486,
          109.42210582413321,
          106.13944264940922,
          102.95525936992694,
          109.13257493212255,
          105.85859768415887,
          102.6828397536341,
          99.60235456102507,
          105.57849583468658,
          111.91320558476778,
          108.55580941722475,
          115.06915798225825,
          121.97330746119374,
          129.29170590886537,
          125.4129547315994,
          121.65056608965142,
          118.00104910696187,
          125.08111205337958,
          121.3286786917782,
          117.68881833102485,
          114.1581537810941,
          121.00764300795976,
          117.37741371772096,
          124.42005854078423,
          120.6874567845607,
          117.06683308102387,
          124.09084306588531,
          120.36811777390875,
          127.59020484034328,
          123.76249869513298,
          120.04962373427898,
          116.44813502225061,
          112.95469097158309,
          109.5660502424356,
          106.27906873516253,
          103.09069667310764,
          99.99797577291442,
          105.99785431928929,
          112.35772557844665,
          108.98699381109324,
          105.71738399676045,
          112.06042703656608,
          118.78405265876005,
          125.91109581828566,
          122.13376294373708,
          118.46975005542497,
          114.91565755376222,
          121.81059700698796,
          129.11923282740725,
          125.24565584258502,
          121.48828616730746,
          117.84363758228824,
          114.30832845481959,
          110.879078601175,
          117.5318233172455,
          124.58373271628024,
          120.84622073479183,
          128.09699397887934,
          124.25408415951296,
          120.52646163472757,
          116.91066778568573,
          113.40334775211515,
          110.0012473195517,
          116.6013221587248,
          123.5974014882483,
          119.88947944360085,
          116.29279506029282,
          112.80401120848403,
          109.4198908722295,
          106.13729414606262,
          102.95317532168073,
          109.13036584098158,
          115.67818779144048,
          112.20784215769726,
          118.94031268715909,
          115.37210330654432,
          111.91094020734799,
          118.62559661978888,
          115.06682872119521,
          111.61482385955935,
          118.31171329113292,
          125.4104160886009,
          121.64810360594286,
          117.99866049776458,
          114.45870068283163,
          111.02493966234668,
          107.69419147247628,
          104.46336572830198,
          101.32946475645292,
          107.4092326418401,
          104.1869556625849,
          101.06134699270734,
          107.12502781226979,
          103.9112769779017,
          100.79393866856464,
          106.84157498867852,
          103.63632773901816,
          109.85450740335925,
          106.55887218125847,
          103.36210601582071,
          109.56383237676997,
          106.27691740546686,
          103.08860988330285,
          99.99595158680377,
          105.99570868201201,
          102.81583742155165,
          99.7313622989051,
          96.73942142993795,
          93.83723878703981,
          91.02212162342862,
          88.29145797472576,
          93.5889454532093,
          90.78127708961303,
          88.05783877692464,
          93.34130910354013,
          98.94178764975254,
          95.97353402025996,
          93.09432799965217,
          98.6799876796313,
          95.71958804924236,
          92.84800040776508,
          90.06256039553213,
          87.36068358366616,
          84.73986307615617,
          82.19766718387149,
          87.12952721490379,
          92.35729884779802,
          89.58657988236408,
          94.96177467530593,
          100.6594811558243,
          106.69905002517376,
          103.49807852441855,
          100.39313616868598,
          106.41672433880714,
          112.80172779913558,
          109.41767596516151,
          115.98273652307121,
          122.9417007144555,
          130.31820275732284,
          126.40865667460315,
          122.61639697436506,
          118.9379050651341,
          115.36976791318008,
          111.90867487578468,
          118.62319536833176,
          115.06449950728181,
          111.61256452206335,
          108.26418758640145,
          105.0162619588094,
          101.86577410004512,
          107.97772054604783,
          104.7383889296664,
          101.59623726177641,
          98.54835014392312,
          95.59189963960542,
          92.72414265041725,
          89.94241837090473,
          95.33896347315903,
          92.47879456896425,
          89.70443073189531,
          87.01329780993845,
          84.40289887564029,
          81.87081190937108,
          86.78306062393335,
          84.17956880521535,
          81.65418174105889,
          79.20455628882712,
          83.95682966615675,
          81.43812477617205,
          86.32441226274237,
          91.50387699850691,
          88.7587606885517,
          86.09599786789515,
          83.51311793185829,
          81.00772439390254,
          85.8681878575367,
          91.0202791289889,
          96.48149587672825,
          102.27038562933194,
          108.40660876709187,
          114.91100529311738,
          121.80566561070444,
          118.1514956423833,
          125.2405853809263,
          121.48336781949851,
          128.77236988866844,
          136.49871208198854,
          132.4037507195289,
          128.43163819794302,
          124.57868905200472,
          132.053410395125,
          128.09180808327125,
          124.2490538407731,
          131.7039970712195,
          127.75287715908291,
          135.41804978862788,
          143.54313277594557,
          152.1557207425023,
          147.5910491202272,
          143.16331764662038,
          138.86841811722178,
          147.2005232042551,
          142.78450750812743,
          138.5009722828836,
          134.34594311439707,
          130.31556482096516,
          126.4060978763362,
          122.61391494004612,
          118.93549749184473,
          115.36743256708938,
          122.28947852111475,
          118.6207941654813,
          125.73804181541018,
          133.2823243243348,
          141.2792637837949,
          137.04088587028104,
          145.26333902249792,
          140.90543885182296,
          136.67827568626828,
          132.57792741568022,
          128.6005895932098,
          136.3166249688024,
          132.22712621973832,
          128.26031243314617,
          124.41250306015178,
          131.8772532437609,
          127.92093564644806,
          124.08330757705461,
          131.5283060316779,
          127.58245685072754,
          123.75498314520571,
          131.18028213391807,
          127.24487366990053,
          134.87956609009456,
          130.83317910739171,
          126.90818373416995,
          123.10093822214485,
          119.4079100754805,
          126.57238468000934,
          122.77521313960905,
          130.1417259279856,
          137.95022948366474,
          133.8117225991548,
          129.79737092118015,
          137.58521317645096,
          133.45765678115743,
          141.46511618802688,
          137.22116270238607,
          133.1045278213145,
          141.09079949059335,
          136.85807550587555,
          132.75233324069927,
          140.71747323514123,
          149.1605216292497,
          144.6857059803722,
          140.34513480096103,
          148.7658428890187,
          144.30286760234813,
          152.96103965848903,
          162.13870203799837,
          157.27454097685842,
          152.55630474755267,
          161.70968303240585,
          156.85839254143366,
          152.15264076519065,
          147.58806154223493,
          143.16041969596787,
          151.75004487772594,
          160.8550475703895,
          156.0293961432778,
          151.34851425897946,
          146.80805883121008,
          155.61654236108268,
          150.9480460902502,
          160.0049288556652,
          169.60522458700513,
          164.51706784939498,
          159.58155581391313,
          154.79410913949573,
          150.15028586531085,
          159.15930301722952,
          154.38452392671263,
          163.6475953623154,
          158.73816750144593,
          153.97602247640253,
          163.2145838249867,
          158.3181463102371,
          167.81723508885133,
          162.7827180361858,
          172.54968111835694,
          167.37319068480622,
          177.4155821258946,
          188.06051705344828,
          182.41870154184483,
          176.94614049558947,
          187.56290892532485,
          198.81668346084436,
          192.852182957019,
          187.06661746830844,
          181.45461894425918,
          176.0109803759314,
          186.5716391984873,
          180.97449002253268,
          175.5452553218567,
          170.278897662201,
          180.49563152193306,
          175.08076257627508,
          169.8283396989868,
          180.01804008092603,
          190.8191224857816,
          185.09454881120814,
          196.20022173988065,
          190.31421508768423,
          201.7330679929453,
          195.68107595315695,
          207.4219405103464,
          219.8672569409672,
          213.27123923273817,
          226.06751358670246,
          219.28548817910138,
          212.70692353372834,
          206.3257158277165,
          200.135944352885,
          212.1441010140581,
          205.77977798363634,
          218.12656466265452,
          211.58276772277486,
          224.27773378614137,
          217.54940177255713,
          211.0229197193804,
          223.68429490254326,
          237.10535259669587,
          229.99219201879498,
          223.09242625823111,
          216.39965347048417,
          229.38363267871324,
          243.14665063943605,
          235.85225112025296,
          228.77668358664536,
          242.5032846018441,
          257.0534816779547,
          249.34187722761607,
          241.86162091078756,
          256.37331816543485,
          248.6821186204718,
          263.60304573770014,
          255.69495436556912,
          248.02410573460205,
          240.58338256256397,
          255.0183855163178,
          247.36783395082827,
          262.20990398787796,
          254.3436068682416,
          246.71329866219435,
          239.3118997023285,
          253.67061368446824,
          246.06049527393418,
          238.67868041571614,
          231.51832000324464,
          224.5727704031473,
          217.8355872910529,
          211.3005196723213,
          204.96150408215163,
          198.81265895968707,
          192.84827919089645,
          187.06283081516955,
          181.45094589071445,
          192.3380026441573,
          186.56786256483258,
          197.76193431872255,
          191.82907628916087,
          203.33882086651053,
          197.2386562405152,
          209.07297561494613,
          202.80078634649774,
          196.7167627561028,
          190.81525987341973,
          202.26417546582493,
          196.19625020185018,
          190.31036269579468,
          201.72898445754237,
          213.83272352499492,
          207.41774181924507,
          201.19520956466772,
          195.1593532777277,
          189.30457267939585,
          183.62543549901397,
          178.11667243404355,
          188.80367278008617,
          183.1395625966836,
          177.64537571878307,
          172.31601444721957,
          167.14653401380298,
          162.13213799338888,
          157.2681738535872,
          152.55012863797958,
          147.9736247788402,
          143.53441603547498,
          139.22838355441073,
          135.0515320477784,
          130.99998608634505,
          138.85998525152576,
          134.69418569398,
          142.7758368356188,
          138.49256173055025,
          134.33778487863373,
          142.39805197135175,
          138.1261104122112,
          133.98232709984487,
          129.96285728684953,
          126.06397156824404,
          122.28205242119672,
          129.61897556646852,
          125.73040629947447,
          121.95849411049024,
          129.27600375711967,
          125.39772364440607,
          132.92158706307043,
          128.9339394511783,
          125.06592126764295,
          132.56987654370153,
          140.52406913632362,
          148.95551328450304,
          157.89284408157323,
          167.36641472646764,
          162.34542228467362,
          172.08614762175404,
          166.92356319310142,
          161.91585629730838,
          157.05838060838911,
          152.34662919013743,
          161.4874269415457,
          171.17667255803843,
          181.44727291152074,
          176.0038547241751,
          170.72373908244987,
          180.96716342739686,
          175.53814852457495,
          170.2720040688377,
          180.48832431296796,
          191.31762377174604,
          185.57809505859365,
          196.71278076210928,
          190.81139733924599,
          185.0870554190686,
          179.53444375649653,
          174.14841044380162,
          184.59731507042974,
          195.67315397465555,
          189.80295935541588,
          201.19113691674085,
          195.1554028092386,
          206.86472697779294,
          219.27661059646053,
          212.6983122785667,
          206.3173629102097,
          200.12784202290342,
          194.1240067622163,
          188.30028655934981,
          199.59830375291082,
          193.6103546403235,
          205.2269759187429,
          217.5405944738675,
          230.59303014229954,
          223.67523923803054,
          216.9649820608896,
          210.45603259906292,
          223.08339455500672,
          216.39089271835653,
          209.89916593680582,
          203.60219095870164,
          215.81832241622374,
          209.34377274373702,
          203.0634595614249,
          196.97155577458216,
          208.7898491210571,
          221.31724006832053,
          214.6777228662709,
          208.23739118028277,
          201.9902694448743,
          195.93056136152805,
          207.68639504321973,
          201.45580319192314,
          195.41212909616544,
          189.54976522328047,
          183.86327226658204,
          194.89506860257697,
          189.04821654449967,
          200.39110953716965,
          194.37937625105457,
          188.5479949635229,
          182.8915551146172,
          177.40480846117867,
          172.0826642073433,
          166.920184281123,
          176.9353953379904,
          187.55151905826983,
          181.92497348652174,
          176.4672242819261,
          187.05525773884168,
          181.44360000667643,
          192.33021600707704,
          186.56030952686473,
          197.75392809847662,
          209.61916378438522,
          203.33058887085366,
          215.5304242031049,
          209.06451147701173,
          221.60838216563246,
          214.96013070066348,
          208.51132677964358,
          221.02200638642222,
          214.39134619482954,
          227.25482696651932,
          220.43718215752372,
          213.824066692798,
          207.40934469201406,
          219.8539053735349,
          233.045139695947,
          226.0537855050686,
          219.27217193991652,
          212.69400678171903,
          225.45564718862218,
          238.98298601993952,
          231.81349643934132,
          245.7223062257018,
          260.46564459924394,
          252.65167526126663,
          267.81077577694265,
          259.77645250363435,
          251.9831589285253,
          267.10214846423685,
          259.08908401030976,
          274.63442905092836,
          266.3953961794005,
          258.40353429401847,
          250.65142826519792,
          243.131885417242,
          235.83792885472474,
          228.762790989083,
          221.8999072594105,
          215.24291004162816,
          208.78562274037932,
          202.52205405816795,
          196.4463924364229,
          190.5530006633302,
          184.8364106434303,
          179.2913183241274,
          173.91257877440356,
          168.69520141117144,
          163.63434536883628,
          158.72531500777117,
          168.24883390823746,
          163.20136889099032,
          172.99345102444974,
          167.80364749371626,
          162.76953806890475,
          172.53571035303904,
          167.35963904244787,
          177.40121738499474,
          172.0791808634449,
          166.91680543754154,
          161.9093012744153,
          171.62385935088022,
          181.92129091193306,
          192.83656836664906,
          204.40676246864803,
          198.27455959458857,
          192.3263228067509,
          186.5565331225484,
          180.95983712887192,
          175.53104201500577,
          170.2651107545556,
          165.15715743191893,
          160.20244270896137,
          169.81458927149907,
          164.7201515933541,
          159.77854704555347,
          154.98519063418686,
          150.33563491516125,
          159.35577301007095,
          168.91711939067523,
          179.05214655411575,
          173.68058215749227,
          168.4701646927675,
          163.41605975198448,
          158.51357795942494,
          168.02439263699043,
          162.98366085788072,
          158.09415103214428,
          153.35132650117995,
          148.75078670614454,
          144.2882631049602,
          139.9596152118114,
          135.76082675545706,
          131.68800195279334,
          139.58928206996094,
          147.9646389941586,
          156.84251733380813,
          152.13724181379388,
          161.2654763226215,
          156.42751203294287,
          151.7346866719546,
          147.18264607179594,
          156.0136048361037,
          165.37442112626994,
          160.41318849248182,
          170.03797980203075,
          180.2402585901526,
          191.05467410556176,
          202.51795455189549,
          214.66903182500923,
          227.5491737345098,
          220.7226985224745,
          214.10101756680027,
          226.9470786208083,
          220.13866626218405,
          233.3469862379151,
          226.34657665077765,
          219.55617935125431,
          232.72955011232958,
          225.74766360895967,
          239.29252342549725,
          232.1137477227323,
          246.04057258609626,
          238.65935540851336,
          231.49957474625796,
          224.5545875038702,
          238.02786275410244,
          230.88702687147935,
          244.7402484837681,
          259.42466339279423,
          251.6419234910104,
          244.0926657862801,
          236.76988581269168,
          229.66678923831094,
          243.44679659260962
         ],
         "yaxis": "y"
        }
       ],
       "layout": {
        "font": {
         "color": "#e1e1e1",
         "size": 8
        },
        "height": 600,
        "margin": {
         "b": 10,
         "l": 10,
         "r": 10,
         "t": 10
        },
        "paper_bgcolor": "#2c303c",
        "plot_bgcolor": "#2c303c",
        "template": {
         "data": {
          "bar": [
           {
            "error_x": {
             "color": "#2a3f5f"
            },
            "error_y": {
             "color": "#2a3f5f"
            },
            "marker": {
             "line": {
              "color": "#E5ECF6",
              "width": 0.5
             },
             "pattern": {
              "fillmode": "overlay",
              "size": 10,
              "solidity": 0.2
             }
            },
            "type": "bar"
           }
          ],
          "barpolar": [
           {
            "marker": {
             "line": {
              "color": "#E5ECF6",
              "width": 0.5
             },
             "pattern": {
              "fillmode": "overlay",
              "size": 10,
              "solidity": 0.2
             }
            },
            "type": "barpolar"
           }
          ],
          "carpet": [
           {
            "aaxis": {
             "endlinecolor": "#2a3f5f",
             "gridcolor": "white",
             "linecolor": "white",
             "minorgridcolor": "white",
             "startlinecolor": "#2a3f5f"
            },
            "baxis": {
             "endlinecolor": "#2a3f5f",
             "gridcolor": "white",
             "linecolor": "white",
             "minorgridcolor": "white",
             "startlinecolor": "#2a3f5f"
            },
            "type": "carpet"
           }
          ],
          "choropleth": [
           {
            "colorbar": {
             "outlinewidth": 0,
             "ticks": ""
            },
            "type": "choropleth"
           }
          ],
          "contour": [
           {
            "colorbar": {
             "outlinewidth": 0,
             "ticks": ""
            },
            "colorscale": [
             [
              0,
              "#0d0887"
             ],
             [
              0.1111111111111111,
              "#46039f"
             ],
             [
              0.2222222222222222,
              "#7201a8"
             ],
             [
              0.3333333333333333,
              "#9c179e"
             ],
             [
              0.4444444444444444,
              "#bd3786"
             ],
             [
              0.5555555555555556,
              "#d8576b"
             ],
             [
              0.6666666666666666,
              "#ed7953"
             ],
             [
              0.7777777777777778,
              "#fb9f3a"
             ],
             [
              0.8888888888888888,
              "#fdca26"
             ],
             [
              1,
              "#f0f921"
             ]
            ],
            "type": "contour"
           }
          ],
          "contourcarpet": [
           {
            "colorbar": {
             "outlinewidth": 0,
             "ticks": ""
            },
            "type": "contourcarpet"
           }
          ],
          "heatmap": [
           {
            "colorbar": {
             "outlinewidth": 0,
             "ticks": ""
            },
            "colorscale": [
             [
              0,
              "#0d0887"
             ],
             [
              0.1111111111111111,
              "#46039f"
             ],
             [
              0.2222222222222222,
              "#7201a8"
             ],
             [
              0.3333333333333333,
              "#9c179e"
             ],
             [
              0.4444444444444444,
              "#bd3786"
             ],
             [
              0.5555555555555556,
              "#d8576b"
             ],
             [
              0.6666666666666666,
              "#ed7953"
             ],
             [
              0.7777777777777778,
              "#fb9f3a"
             ],
             [
              0.8888888888888888,
              "#fdca26"
             ],
             [
              1,
              "#f0f921"
             ]
            ],
            "type": "heatmap"
           }
          ],
          "heatmapgl": [
           {
            "colorbar": {
             "outlinewidth": 0,
             "ticks": ""
            },
            "colorscale": [
             [
              0,
              "#0d0887"
             ],
             [
              0.1111111111111111,
              "#46039f"
             ],
             [
              0.2222222222222222,
              "#7201a8"
             ],
             [
              0.3333333333333333,
              "#9c179e"
             ],
             [
              0.4444444444444444,
              "#bd3786"
             ],
             [
              0.5555555555555556,
              "#d8576b"
             ],
             [
              0.6666666666666666,
              "#ed7953"
             ],
             [
              0.7777777777777778,
              "#fb9f3a"
             ],
             [
              0.8888888888888888,
              "#fdca26"
             ],
             [
              1,
              "#f0f921"
             ]
            ],
            "type": "heatmapgl"
           }
          ],
          "histogram": [
           {
            "marker": {
             "pattern": {
              "fillmode": "overlay",
              "size": 10,
              "solidity": 0.2
             }
            },
            "type": "histogram"
           }
          ],
          "histogram2d": [
           {
            "colorbar": {
             "outlinewidth": 0,
             "ticks": ""
            },
            "colorscale": [
             [
              0,
              "#0d0887"
             ],
             [
              0.1111111111111111,
              "#46039f"
             ],
             [
              0.2222222222222222,
              "#7201a8"
             ],
             [
              0.3333333333333333,
              "#9c179e"
             ],
             [
              0.4444444444444444,
              "#bd3786"
             ],
             [
              0.5555555555555556,
              "#d8576b"
             ],
             [
              0.6666666666666666,
              "#ed7953"
             ],
             [
              0.7777777777777778,
              "#fb9f3a"
             ],
             [
              0.8888888888888888,
              "#fdca26"
             ],
             [
              1,
              "#f0f921"
             ]
            ],
            "type": "histogram2d"
           }
          ],
          "histogram2dcontour": [
           {
            "colorbar": {
             "outlinewidth": 0,
             "ticks": ""
            },
            "colorscale": [
             [
              0,
              "#0d0887"
             ],
             [
              0.1111111111111111,
              "#46039f"
             ],
             [
              0.2222222222222222,
              "#7201a8"
             ],
             [
              0.3333333333333333,
              "#9c179e"
             ],
             [
              0.4444444444444444,
              "#bd3786"
             ],
             [
              0.5555555555555556,
              "#d8576b"
             ],
             [
              0.6666666666666666,
              "#ed7953"
             ],
             [
              0.7777777777777778,
              "#fb9f3a"
             ],
             [
              0.8888888888888888,
              "#fdca26"
             ],
             [
              1,
              "#f0f921"
             ]
            ],
            "type": "histogram2dcontour"
           }
          ],
          "mesh3d": [
           {
            "colorbar": {
             "outlinewidth": 0,
             "ticks": ""
            },
            "type": "mesh3d"
           }
          ],
          "parcoords": [
           {
            "line": {
             "colorbar": {
              "outlinewidth": 0,
              "ticks": ""
             }
            },
            "type": "parcoords"
           }
          ],
          "pie": [
           {
            "automargin": true,
            "type": "pie"
           }
          ],
          "scatter": [
           {
            "fillpattern": {
             "fillmode": "overlay",
             "size": 10,
             "solidity": 0.2
            },
            "type": "scatter"
           }
          ],
          "scatter3d": [
           {
            "line": {
             "colorbar": {
              "outlinewidth": 0,
              "ticks": ""
             }
            },
            "marker": {
             "colorbar": {
              "outlinewidth": 0,
              "ticks": ""
             }
            },
            "type": "scatter3d"
           }
          ],
          "scattercarpet": [
           {
            "marker": {
             "colorbar": {
              "outlinewidth": 0,
              "ticks": ""
             }
            },
            "type": "scattercarpet"
           }
          ],
          "scattergeo": [
           {
            "marker": {
             "colorbar": {
              "outlinewidth": 0,
              "ticks": ""
             }
            },
            "type": "scattergeo"
           }
          ],
          "scattergl": [
           {
            "marker": {
             "colorbar": {
              "outlinewidth": 0,
              "ticks": ""
             }
            },
            "type": "scattergl"
           }
          ],
          "scattermapbox": [
           {
            "marker": {
             "colorbar": {
              "outlinewidth": 0,
              "ticks": ""
             }
            },
            "type": "scattermapbox"
           }
          ],
          "scatterpolar": [
           {
            "marker": {
             "colorbar": {
              "outlinewidth": 0,
              "ticks": ""
             }
            },
            "type": "scatterpolar"
           }
          ],
          "scatterpolargl": [
           {
            "marker": {
             "colorbar": {
              "outlinewidth": 0,
              "ticks": ""
             }
            },
            "type": "scatterpolargl"
           }
          ],
          "scatterternary": [
           {
            "marker": {
             "colorbar": {
              "outlinewidth": 0,
              "ticks": ""
             }
            },
            "type": "scatterternary"
           }
          ],
          "surface": [
           {
            "colorbar": {
             "outlinewidth": 0,
             "ticks": ""
            },
            "colorscale": [
             [
              0,
              "#0d0887"
             ],
             [
              0.1111111111111111,
              "#46039f"
             ],
             [
              0.2222222222222222,
              "#7201a8"
             ],
             [
              0.3333333333333333,
              "#9c179e"
             ],
             [
              0.4444444444444444,
              "#bd3786"
             ],
             [
              0.5555555555555556,
              "#d8576b"
             ],
             [
              0.6666666666666666,
              "#ed7953"
             ],
             [
              0.7777777777777778,
              "#fb9f3a"
             ],
             [
              0.8888888888888888,
              "#fdca26"
             ],
             [
              1,
              "#f0f921"
             ]
            ],
            "type": "surface"
           }
          ],
          "table": [
           {
            "cells": {
             "fill": {
              "color": "#EBF0F8"
             },
             "line": {
              "color": "white"
             }
            },
            "header": {
             "fill": {
              "color": "#C8D4E3"
             },
             "line": {
              "color": "white"
             }
            },
            "type": "table"
           }
          ]
         },
         "layout": {
          "annotationdefaults": {
           "arrowcolor": "#2a3f5f",
           "arrowhead": 0,
           "arrowwidth": 1
          },
          "autotypenumbers": "strict",
          "coloraxis": {
           "colorbar": {
            "outlinewidth": 0,
            "ticks": ""
           }
          },
          "colorscale": {
           "diverging": [
            [
             0,
             "#8e0152"
            ],
            [
             0.1,
             "#c51b7d"
            ],
            [
             0.2,
             "#de77ae"
            ],
            [
             0.3,
             "#f1b6da"
            ],
            [
             0.4,
             "#fde0ef"
            ],
            [
             0.5,
             "#f7f7f7"
            ],
            [
             0.6,
             "#e6f5d0"
            ],
            [
             0.7,
             "#b8e186"
            ],
            [
             0.8,
             "#7fbc41"
            ],
            [
             0.9,
             "#4d9221"
            ],
            [
             1,
             "#276419"
            ]
           ],
           "sequential": [
            [
             0,
             "#0d0887"
            ],
            [
             0.1111111111111111,
             "#46039f"
            ],
            [
             0.2222222222222222,
             "#7201a8"
            ],
            [
             0.3333333333333333,
             "#9c179e"
            ],
            [
             0.4444444444444444,
             "#bd3786"
            ],
            [
             0.5555555555555556,
             "#d8576b"
            ],
            [
             0.6666666666666666,
             "#ed7953"
            ],
            [
             0.7777777777777778,
             "#fb9f3a"
            ],
            [
             0.8888888888888888,
             "#fdca26"
            ],
            [
             1,
             "#f0f921"
            ]
           ],
           "sequentialminus": [
            [
             0,
             "#0d0887"
            ],
            [
             0.1111111111111111,
             "#46039f"
            ],
            [
             0.2222222222222222,
             "#7201a8"
            ],
            [
             0.3333333333333333,
             "#9c179e"
            ],
            [
             0.4444444444444444,
             "#bd3786"
            ],
            [
             0.5555555555555556,
             "#d8576b"
            ],
            [
             0.6666666666666666,
             "#ed7953"
            ],
            [
             0.7777777777777778,
             "#fb9f3a"
            ],
            [
             0.8888888888888888,
             "#fdca26"
            ],
            [
             1,
             "#f0f921"
            ]
           ]
          },
          "colorway": [
           "#636efa",
           "#EF553B",
           "#00cc96",
           "#ab63fa",
           "#FFA15A",
           "#19d3f3",
           "#FF6692",
           "#B6E880",
           "#FF97FF",
           "#FECB52"
          ],
          "font": {
           "color": "#2a3f5f"
          },
          "geo": {
           "bgcolor": "white",
           "lakecolor": "white",
           "landcolor": "#E5ECF6",
           "showlakes": true,
           "showland": true,
           "subunitcolor": "white"
          },
          "hoverlabel": {
           "align": "left"
          },
          "hovermode": "closest",
          "mapbox": {
           "style": "light"
          },
          "paper_bgcolor": "white",
          "plot_bgcolor": "#E5ECF6",
          "polar": {
           "angularaxis": {
            "gridcolor": "white",
            "linecolor": "white",
            "ticks": ""
           },
           "bgcolor": "#E5ECF6",
           "radialaxis": {
            "gridcolor": "white",
            "linecolor": "white",
            "ticks": ""
           }
          },
          "scene": {
           "xaxis": {
            "backgroundcolor": "#E5ECF6",
            "gridcolor": "white",
            "gridwidth": 2,
            "linecolor": "white",
            "showbackground": true,
            "ticks": "",
            "zerolinecolor": "white"
           },
           "yaxis": {
            "backgroundcolor": "#E5ECF6",
            "gridcolor": "white",
            "gridwidth": 2,
            "linecolor": "white",
            "showbackground": true,
            "ticks": "",
            "zerolinecolor": "white"
           },
           "zaxis": {
            "backgroundcolor": "#E5ECF6",
            "gridcolor": "white",
            "gridwidth": 2,
            "linecolor": "white",
            "showbackground": true,
            "ticks": "",
            "zerolinecolor": "white"
           }
          },
          "shapedefaults": {
           "line": {
            "color": "#2a3f5f"
           }
          },
          "ternary": {
           "aaxis": {
            "gridcolor": "white",
            "linecolor": "white",
            "ticks": ""
           },
           "baxis": {
            "gridcolor": "white",
            "linecolor": "white",
            "ticks": ""
           },
           "bgcolor": "#E5ECF6",
           "caxis": {
            "gridcolor": "white",
            "linecolor": "white",
            "ticks": ""
           }
          },
          "title": {
           "x": 0.05
          },
          "xaxis": {
           "automargin": true,
           "gridcolor": "white",
           "linecolor": "white",
           "ticks": "",
           "title": {
            "standoff": 15
           },
           "zerolinecolor": "white",
           "zerolinewidth": 2
          },
          "yaxis": {
           "automargin": true,
           "gridcolor": "white",
           "linecolor": "white",
           "ticks": "",
           "title": {
            "standoff": 15
           },
           "zerolinecolor": "white",
           "zerolinewidth": 2
          }
         }
        },
        "width": 1400,
        "xaxis": {
         "anchor": "y",
         "domain": [
          0,
          0.94
         ],
         "gridcolor": "#1f292f",
         "nticks": 5,
         "rangeslider": {
          "visible": false
         }
        },
        "yaxis": {
         "anchor": "x",
         "domain": [
          0,
          1
         ],
         "gridcolor": "#1f292f"
        },
        "yaxis2": {
         "anchor": "x",
         "gridcolor": "#1f292f",
         "overlaying": "y",
         "side": "right"
        }
       }
      },
      "text/html": [
       "<div>                            <div id=\"286fa1d1-7440-43f2-8fa1-c366eee0a5e3\" class=\"plotly-graph-div\" style=\"height:600px; width:1400px;\"></div>            <script type=\"text/javascript\">                require([\"plotly\"], function(Plotly) {                    window.PLOTLYENV=window.PLOTLYENV || {};                                    if (document.getElementById(\"286fa1d1-7440-43f2-8fa1-c366eee0a5e3\")) {                    Plotly.newPlot(                        \"286fa1d1-7440-43f2-8fa1-c366eee0a5e3\",                        [{\"line\":{\"shape\":\"spline\",\"width\":2},\"name\":\"balance\",\"x\":[\"s22-08-04 10:05\",\"s22-08-04 14:00\",\"s22-08-04 16:00\",\"s22-08-05 09:55\",\"s22-08-05 15:30\",\"s22-08-08 10:45\",\"s22-08-08 16:00\",\"s22-08-08 21:45\",\"s22-08-08 21:50\",\"s22-08-09 10:15\",\"s22-08-09 11:05\",\"s22-08-09 17:50\",\"s22-08-10 02:00\",\"s22-08-10 11:25\",\"s22-08-10 14:25\",\"s22-08-10 15:30\",\"s22-08-10 17:30\",\"s22-08-11 04:55\",\"s22-08-11 05:05\",\"s22-08-11 09:15\",\"s22-08-12 03:25\",\"s22-08-12 05:00\",\"s22-08-12 08:35\",\"s22-08-12 12:15\",\"s22-08-12 15:40\",\"s22-08-15 02:55\",\"s22-08-15 04:20\",\"s22-08-15 08:55\",\"s22-08-15 10:10\",\"s22-08-15 17:00\",\"s22-08-15 20:45\",\"s22-08-15 23:35\",\"s22-08-16 03:00\",\"s22-08-16 10:00\",\"s22-08-16 10:00\",\"s22-08-16 16:00\",\"s22-08-17 02:05\",\"s22-08-17 03:50\",\"s22-08-17 07:50\",\"s22-08-17 14:10\",\"s22-08-18 05:00\",\"s22-08-18 09:35\",\"s22-08-18 09:35\",\"s22-08-18 09:45\",\"s22-08-18 11:45\",\"s22-08-18 17:00\",\"s22-08-19 07:10\",\"s22-08-19 13:40\",\"s22-08-19 17:05\",\"s22-08-22 09:00\",\"s22-08-22 10:00\",\"s22-08-22 13:00\",\"s22-08-22 16:50\",\"s22-08-22 18:25\",\"s22-08-23 01:50\",\"s22-08-23 08:10\",\"s22-08-23 08:20\",\"s22-08-23 16:20\",\"s22-08-23 17:00\",\"s22-08-24 03:10\",\"s22-08-24 10:20\",\"s22-08-24 12:50\",\"s22-08-25 03:05\",\"s22-08-25 07:35\",\"s22-08-25 07:35\",\"s22-08-25 13:20\",\"s22-08-25 15:30\",\"s22-08-25 23:00\",\"s22-08-26 02:45\",\"s22-08-26 15:35\",\"s22-08-26 17:35\",\"s22-08-29 02:25\",\"s22-08-29 13:40\",\"s22-08-30 02:45\",\"s22-08-30 09:30\",\"s22-08-30 10:35\",\"s22-08-30 10:40\",\"s22-08-31 03:05\",\"s22-08-31 07:00\",\"s22-08-31 15:25\",\"s22-09-01 02:25\",\"s22-09-02 10:05\",\"s22-09-02 13:00\",\"s22-09-02 22:35\",\"s22-09-05 03:05\",\"s22-09-05 08:00\",\"s22-09-05 11:10\",\"s22-09-05 15:40\",\"s22-09-06 01:00\",\"s22-09-06 03:00\",\"s22-09-06 17:00\",\"s22-09-07 01:50\",\"s22-09-07 03:15\",\"s22-09-07 03:20\",\"s22-09-07 03:20\",\"s22-09-07 10:55\",\"s22-09-07 13:55\",\"s22-09-08 01:10\",\"s22-09-08 06:05\",\"s22-09-08 10:20\",\"s22-09-08 13:45\",\"s22-09-09 03:35\",\"s22-09-09 03:40\",\"s22-09-09 05:10\",\"s22-09-09 14:30\",\"s22-09-12 00:05\",\"s22-09-12 00:40\",\"s22-09-12 10:10\",\"s22-09-13 07:40\",\"s22-09-13 08:40\",\"s22-09-13 09:00\",\"s22-09-13 09:20\",\"s22-09-13 15:30\",\"s22-09-13 15:30\",\"s22-09-13 21:00\",\"s22-09-14 09:35\",\"s22-09-14 11:00\",\"s22-09-14 22:00\",\"s22-09-14 22:25\",\"s22-09-15 03:10\",\"s22-09-15 07:55\",\"s22-09-15 12:10\",\"s22-09-15 13:30\",\"s22-09-15 15:05\",\"s22-09-15 15:25\",\"s22-09-15 16:20\",\"s22-09-15 22:10\",\"s22-09-16 02:20\",\"s22-09-16 08:20\",\"s22-09-16 17:10\",\"s22-09-16 17:35\",\"s22-09-19 01:50\",\"s22-09-19 09:05\",\"s22-09-19 16:50\",\"s22-09-19 17:35\",\"s22-09-19 20:05\",\"s22-09-19 22:00\",\"s22-09-20 09:25\",\"s22-09-20 12:45\",\"s22-09-20 16:25\",\"s22-09-21 07:55\",\"s22-09-21 07:55\",\"s22-09-21 09:00\",\"s22-09-21 09:00\",\"s22-09-21 09:30\",\"s22-09-21 09:30\",\"s22-09-21 17:30\",\"s22-09-21 21:00\",\"s22-09-21 23:00\",\"s22-09-22 02:10\",\"s22-09-22 10:35\",\"s22-09-22 13:50\",\"s22-09-22 16:35\",\"s22-09-23 05:15\",\"s22-09-23 09:45\",\"s22-09-23 10:00\",\"s22-09-23 13:35\",\"s22-09-23 16:45\",\"s22-09-26 15:45\",\"s22-09-26 18:30\",\"s22-09-27 16:30\",\"s22-09-27 19:05\",\"s22-09-28 01:00\",\"s22-09-28 13:00\",\"s22-09-28 22:25\",\"s22-09-29 16:00\",\"s22-09-29 16:15\",\"s22-09-30 05:15\",\"s22-09-30 07:15\",\"s22-09-30 21:55\",\"s22-10-03 02:00\",\"s22-10-03 07:00\",\"s22-10-03 08:40\",\"s22-10-03 08:45\",\"s22-10-03 23:00\",\"s22-10-04 02:00\",\"s22-10-04 08:00\",\"s22-10-04 08:50\",\"s22-10-04 17:00\",\"s22-10-04 18:05\",\"s22-10-04 18:25\",\"s22-10-05 01:10\",\"s22-10-05 02:00\",\"s22-10-05 09:40\",\"s22-10-05 09:45\",\"s22-10-05 09:45\",\"s22-10-05 13:10\",\"s22-10-06 09:00\",\"s22-10-06 11:10\",\"s22-10-06 11:40\",\"s22-10-06 16:20\",\"s22-10-07 11:10\",\"s22-10-07 15:45\",\"s22-10-07 17:00\",\"s22-10-07 20:00\",\"s22-10-07 21:30\",\"s22-10-10 08:55\",\"s22-10-10 22:00\",\"s22-10-11 07:55\",\"s22-10-11 09:00\",\"s22-10-11 11:00\",\"s22-10-11 14:20\",\"s22-10-11 14:20\",\"s22-10-12 03:00\",\"s22-10-12 18:40\",\"s22-10-13 03:00\",\"s22-10-13 09:00\",\"s22-10-13 12:25\",\"s22-10-13 14:25\",\"s22-10-13 14:30\",\"s22-10-13 18:20\",\"s22-10-14 02:30\",\"s22-10-14 02:55\",\"s22-10-14 09:00\",\"s22-10-14 10:05\",\"s22-10-14 12:25\",\"s22-10-14 12:25\",\"s22-10-14 14:40\",\"s22-10-14 17:00\",\"s22-10-14 19:55\",\"s22-10-17 05:00\",\"s22-10-17 08:05\",\"s22-10-17 13:05\",\"s22-10-17 13:10\",\"s22-10-17 15:40\",\"s22-10-17 17:40\",\"s22-10-17 19:40\",\"s22-10-18 03:00\",\"s22-10-18 23:35\",\"s22-10-19 01:55\",\"s22-10-19 11:10\",\"s22-10-19 17:25\",\"s22-10-20 07:15\",\"s22-10-20 07:15\",\"s22-10-20 11:25\",\"s22-10-20 14:10\",\"s22-10-21 02:35\",\"s22-10-21 06:40\",\"s22-10-21 15:05\",\"s22-10-21 22:20\",\"s22-10-25 14:15\",\"s22-10-25 15:45\",\"s22-10-25 16:15\",\"s22-10-25 16:30\",\"s22-10-26 01:50\",\"s22-10-26 03:10\",\"s22-10-26 03:50\",\"s22-10-26 15:55\",\"s22-10-26 18:40\",\"s22-10-27 02:30\",\"s22-10-27 02:50\",\"s22-10-27 07:50\",\"s22-10-27 09:30\",\"s22-10-27 09:35\",\"s22-10-27 21:45\",\"s22-10-28 06:00\",\"s22-10-28 08:10\",\"s22-10-28 21:15\",\"s22-10-31 02:55\",\"s22-10-31 08:15\",\"s22-10-31 13:50\",\"s22-10-31 13:50\",\"s22-11-01 07:40\",\"s22-11-01 08:15\",\"s22-11-01 12:25\",\"s22-11-01 16:05\",\"s22-11-01 16:05\",\"s22-11-02 08:15\",\"s22-11-02 15:30\",\"s22-11-02 20:00\",\"s22-11-02 20:00\",\"s22-11-03 08:50\",\"s22-11-03 09:05\",\"s22-11-03 20:15\",\"s22-11-04 04:50\",\"s22-11-04 14:20\",\"s22-11-07 07:00\",\"s22-11-07 13:30\",\"s22-11-07 15:15\",\"s22-11-08 13:00\",\"s22-11-09 10:05\",\"s22-11-09 15:20\",\"s22-11-09 19:00\",\"s22-11-10 01:20\",\"s22-11-10 15:20\",\"s22-11-10 15:20\",\"s22-11-10 15:30\",\"s22-11-10 15:35\",\"s22-11-10 19:30\",\"s22-11-10 21:50\",\"s22-11-11 02:30\",\"s22-11-11 09:15\",\"s22-11-11 13:30\",\"s22-11-11 14:25\",\"s22-11-14 03:15\",\"s22-11-14 06:00\",\"s22-11-14 10:00\",\"s22-11-14 10:10\",\"s22-11-14 15:50\",\"s22-11-14 15:50\",\"s22-11-15 07:05\",\"s22-11-15 09:20\",\"s22-11-15 09:20\",\"s22-11-15 12:20\",\"s22-11-15 14:40\",\"s22-11-15 15:35\",\"s22-11-15 19:00\",\"s22-11-15 20:25\",\"s22-11-16 08:05\",\"s22-11-16 15:30\",\"s22-11-17 02:00\",\"s22-11-17 09:30\",\"s22-11-17 09:35\",\"s22-11-17 10:00\",\"s22-11-17 11:30\",\"s22-11-17 19:50\",\"s22-11-18 02:10\",\"s22-11-18 15:20\",\"s22-11-18 16:50\",\"s22-11-18 19:00\",\"s22-11-21 02:05\",\"s22-11-21 06:35\",\"s22-11-21 10:00\",\"s22-11-21 23:55\",\"s22-11-22 01:00\",\"s22-11-22 07:20\",\"s22-11-22 11:30\",\"s22-11-22 14:25\",\"s22-11-22 20:55\",\"s22-11-23 03:25\",\"s22-11-23 06:00\",\"s22-11-23 15:30\",\"s22-11-24 12:10\",\"s22-11-24 16:20\",\"s22-11-25 02:10\",\"s22-11-25 04:35\",\"s22-11-28 01:20\",\"s22-11-28 03:25\",\"s22-11-28 03:30\",\"s22-11-28 15:15\",\"s22-11-28 16:00\",\"s22-11-29 08:50\",\"s22-11-29 15:55\",\"s22-11-29 23:10\",\"s22-11-30 06:20\",\"s22-11-30 08:30\",\"s22-11-30 11:00\",\"s22-11-30 15:55\",\"s22-11-30 17:05\",\"s22-11-30 21:05\",\"s22-12-01 09:55\",\"s22-12-02 01:15\",\"s22-12-02 04:25\",\"s22-12-02 07:40\",\"s22-12-05 02:15\",\"s22-12-05 03:30\",\"s22-12-05 05:10\",\"s22-12-05 09:05\",\"s22-12-05 12:20\",\"s22-12-05 17:00\",\"s22-12-06 02:55\",\"s22-12-06 06:15\",\"s22-12-06 12:40\",\"s22-12-06 20:30\",\"s22-12-07 08:05\",\"s22-12-07 13:05\",\"s22-12-08 05:10\",\"s22-12-08 08:15\",\"s22-12-08 11:15\",\"s22-12-08 11:15\",\"s22-12-08 17:35\",\"s22-12-08 20:50\",\"s22-12-09 15:30\",\"s22-12-09 17:35\",\"s22-12-09 17:35\",\"s22-12-12 03:10\",\"s22-12-12 09:00\",\"s22-12-12 09:25\",\"s22-12-12 16:35\",\"s22-12-12 20:30\",\"s22-12-12 21:05\",\"s22-12-13 15:30\",\"s22-12-14 08:45\",\"s22-12-14 10:15\",\"s22-12-14 20:35\",\"s22-12-15 10:40\",\"s22-12-15 14:00\",\"s22-12-15 17:00\",\"s22-12-16 04:00\",\"s22-12-16 11:05\",\"s22-12-16 16:55\",\"s22-12-19 11:10\",\"s22-12-19 17:40\",\"s22-12-19 18:45\",\"s22-12-20 07:20\",\"s22-12-21 01:05\",\"s22-12-21 03:35\",\"s22-12-21 08:50\",\"s22-12-21 18:25\",\"s22-12-22 02:00\",\"s22-12-22 02:55\",\"s22-12-22 08:20\",\"s22-12-22 10:00\",\"s22-12-22 16:30\",\"s22-12-23 02:55\",\"s22-12-23 09:40\",\"s22-12-23 15:30\",\"s22-12-23 17:30\",\"s22-12-27 01:10\",\"s22-12-27 01:30\",\"s22-12-27 03:55\",\"s22-12-27 08:50\",\"s22-12-27 10:00\",\"s22-12-27 12:00\",\"s22-12-28 01:00\",\"s22-12-28 02:20\",\"s22-12-28 02:50\",\"s22-12-28 08:10\",\"s22-12-28 13:00\",\"s22-12-28 16:35\",\"s22-12-29 08:35\",\"s22-12-29 11:20\",\"s22-12-29 16:35\",\"s22-12-30 06:00\",\"s22-12-30 06:00\",\"s22-12-30 08:30\",\"s22-12-30 09:55\",\"s22-12-30 15:20\",\"s22-12-30 16:10\",\"s23-01-03 04:35\",\"s23-01-03 09:50\",\"s23-01-03 09:50\",\"s23-01-03 10:00\",\"s23-01-03 10:50\",\"s23-01-03 22:00\",\"s23-01-04 09:10\",\"s23-01-04 09:40\",\"s23-01-04 13:10\",\"s23-01-05 00:10\",\"s23-01-05 15:15\",\"s23-01-05 15:20\",\"s23-01-06 05:00\",\"s23-01-06 09:00\",\"s23-01-06 09:40\",\"s23-01-06 11:10\",\"s23-01-06 11:55\",\"s23-01-06 17:45\",\"s23-01-09 00:05\",\"s23-01-09 01:00\",\"s23-01-09 04:10\",\"s23-01-09 17:35\",\"s23-01-09 17:35\",\"s23-01-10 04:00\",\"s23-01-10 09:25\",\"s23-01-10 14:45\",\"s23-01-10 18:20\",\"s23-01-11 06:40\",\"s23-01-11 07:25\",\"s23-01-11 07:35\",\"s23-01-11 10:50\",\"s23-01-12 09:15\",\"s23-01-12 11:10\",\"s23-01-12 11:50\",\"s23-01-12 15:30\",\"s23-01-13 00:05\",\"s23-01-13 03:35\",\"s23-01-13 04:15\",\"s23-01-13 13:50\",\"s23-01-13 20:40\",\"s23-01-16 02:50\",\"s23-01-16 03:55\",\"s23-01-16 08:05\",\"s23-01-16 09:30\",\"s23-01-16 19:00\",\"s23-01-17 03:30\",\"s23-01-17 09:40\",\"s23-01-17 13:40\",\"s23-01-17 16:25\",\"s23-01-17 23:40\",\"s23-01-18 04:40\",\"s23-01-18 08:10\",\"s23-01-18 08:10\",\"s23-01-18 09:00\",\"s23-01-18 11:45\",\"s23-01-18 13:35\",\"s23-01-18 15:20\",\"s23-01-19 02:50\",\"s23-01-19 09:55\",\"s23-01-20 06:00\",\"s23-01-20 14:00\",\"s23-01-20 17:15\",\"s23-01-23 01:35\",\"s23-01-23 02:50\",\"s23-01-23 12:30\",\"s23-01-23 20:50\",\"s23-01-24 03:15\",\"s23-01-24 07:25\",\"s23-01-24 09:45\",\"s23-01-24 11:20\",\"s23-01-24 11:45\",\"s23-01-24 14:35\",\"s23-01-24 22:10\",\"s23-01-25 02:15\",\"s23-01-25 08:20\",\"s23-01-25 09:40\",\"s23-01-25 09:45\",\"s23-01-25 11:00\",\"s23-01-25 20:45\",\"s23-01-25 22:00\",\"s23-01-26 01:15\",\"s23-01-26 08:50\",\"s23-01-26 10:20\",\"s23-01-26 10:20\",\"s23-01-26 11:15\",\"s23-01-26 17:35\",\"s23-01-27 01:20\",\"s23-01-27 03:05\",\"s23-01-27 15:00\",\"s23-01-27 15:00\",\"s23-01-27 19:50\",\"s23-01-30 01:50\",\"s23-01-30 09:15\",\"s23-01-30 21:10\",\"s23-01-31 02:30\",\"s23-01-31 06:30\",\"s23-01-31 06:30\",\"s23-01-31 09:10\",\"s23-01-31 10:05\",\"s23-01-31 13:25\",\"s23-01-31 17:05\",\"s23-02-01 05:25\",\"s23-02-01 13:00\",\"s23-02-01 18:15\",\"s23-02-01 21:00\",\"s23-02-02 03:30\",\"s23-02-02 08:00\",\"s23-02-02 16:00\",\"s23-02-02 19:50\",\"s23-02-03 01:00\",\"s23-02-03 04:25\",\"s23-02-03 08:35\",\"s23-02-03 14:45\",\"s23-02-06 02:50\",\"s23-02-06 07:45\",\"s23-02-06 10:50\",\"s23-02-06 14:35\",\"s23-02-06 17:35\",\"s23-02-07 03:30\",\"s23-02-07 06:05\",\"s23-02-07 09:05\",\"s23-02-07 13:10\",\"s23-02-07 19:55\",\"s23-02-08 07:05\",\"s23-02-08 11:00\",\"s23-02-09 10:10\",\"s23-02-09 10:20\",\"s23-02-13 15:00\",\"s23-02-13 20:45\",\"s23-02-13 22:00\",\"s23-02-14 09:00\",\"s23-02-14 09:00\",\"s23-02-14 10:05\",\"s23-02-14 15:00\",\"s23-02-15 08:30\",\"s23-02-15 08:30\",\"s23-02-15 09:00\",\"s23-02-15 12:45\",\"s23-02-16 14:30\",\"s23-02-16 15:30\",\"s23-02-16 21:05\",\"s23-02-17 01:00\",\"s23-02-17 02:25\",\"s23-02-17 08:10\",\"s23-02-17 15:15\",\"s23-02-17 21:05\",\"s23-02-20 06:20\",\"s23-02-21 01:25\",\"s23-02-21 03:10\",\"s23-02-21 03:30\",\"s23-02-21 09:00\",\"s23-02-21 09:05\",\"s23-02-21 10:15\",\"s23-02-21 11:20\",\"s23-02-21 11:20\",\"s23-02-21 11:30\",\"s23-02-21 13:45\",\"s23-02-21 15:10\",\"s23-02-22 17:35\",\"s23-02-23 00:10\",\"s23-02-23 08:25\",\"s23-02-23 10:05\",\"s23-02-23 17:50\",\"s23-02-24 10:40\",\"s23-02-24 12:00\",\"s23-02-24 14:20\",\"s23-02-24 14:55\",\"s23-02-24 16:25\",\"s23-02-24 23:00\",\"s23-02-27 10:00\",\"s23-02-27 13:15\",\"s23-02-27 13:20\",\"s23-02-27 19:55\",\"s23-02-28 01:05\",\"s23-02-28 05:00\",\"s23-02-28 15:00\",\"s23-03-01 09:45\",\"s23-03-01 15:55\",\"s23-03-02 01:00\",\"s23-03-02 03:35\",\"s23-03-02 07:20\",\"s23-03-02 14:50\",\"s23-03-03 02:55\",\"s23-03-03 06:00\",\"s23-03-03 15:35\",\"s23-03-03 20:10\",\"s23-03-06 17:05\",\"s23-03-07 01:00\",\"s23-03-07 09:10\",\"s23-03-07 10:10\",\"s23-03-07 10:20\",\"s23-03-08 04:45\",\"s23-03-08 04:50\",\"s23-03-08 08:00\",\"s23-03-08 10:40\",\"s23-03-08 16:30\",\"s23-03-08 17:00\",\"s23-03-08 19:00\",\"s23-03-09 07:10\",\"s23-03-09 12:00\",\"s23-03-10 04:25\",\"s23-03-10 04:30\",\"s23-03-10 15:30\",\"s23-03-14 01:55\",\"s23-03-14 10:05\",\"s23-03-14 14:15\",\"s23-03-14 22:25\",\"s23-03-15 10:55\",\"s23-03-15 11:30\",\"s23-03-15 12:35\",\"s23-03-15 16:00\",\"s23-03-15 18:00\",\"s23-03-16 02:05\",\"s23-03-16 05:00\",\"s23-03-16 09:40\",\"s23-03-16 11:15\",\"s23-03-17 01:35\",\"s23-03-17 03:10\",\"s23-03-17 09:00\",\"s23-03-17 15:00\",\"s23-03-20 09:00\",\"s23-03-20 12:55\",\"s23-03-20 18:25\",\"s23-03-20 22:00\",\"s23-03-21 01:45\",\"s23-03-21 15:05\",\"s23-03-21 15:40\",\"s23-03-22 00:55\",\"s23-03-22 04:25\",\"s23-03-22 09:00\",\"s23-03-22 19:30\",\"s23-03-22 19:35\",\"s23-03-23 02:50\",\"s23-03-23 07:05\",\"s23-03-23 08:25\",\"s23-03-23 14:20\",\"s23-03-24 02:00\",\"s23-03-27 11:30\"],\"y\":[97.0,94.09,99.73540000000001,96.74333800000001,93.84103786,99.47150013160001,96.48735512765201,93.59273447382245,90.78495243960776,88.06140386641952,85.41956175042694,82.85697489791413,87.82839339178898,93.09809699529632,90.30515408543742,95.72346333056367,92.85175943064677,98.42286499648557,104.32823689627472,101.19838978938647,107.27029317674966,113.70651076735464,110.29531544433401,116.91303437099405,113.40564333986423,110.00347403966829,106.70336981847824,103.50226872392389,100.39720066220617,106.42103270193854,112.80629466405486,109.42210582413321,106.13944264940922,102.95525936992694,109.13257493212255,105.85859768415887,102.6828397536341,99.60235456102507,105.57849583468658,111.91320558476778,108.55580941722475,115.06915798225825,121.97330746119374,129.29170590886537,125.4129547315994,121.65056608965142,118.00104910696187,125.08111205337958,121.3286786917782,117.68881833102485,114.1581537810941,121.00764300795976,117.37741371772096,124.42005854078423,120.6874567845607,117.06683308102387,124.09084306588531,120.36811777390875,127.59020484034328,123.76249869513298,120.04962373427898,116.44813502225061,112.95469097158309,109.5660502424356,106.27906873516253,103.09069667310764,99.99797577291442,105.99785431928929,112.35772557844665,108.98699381109324,105.71738399676045,112.06042703656608,118.78405265876005,125.91109581828566,122.13376294373708,118.46975005542497,114.91565755376222,121.81059700698796,129.11923282740725,125.24565584258502,121.48828616730746,117.84363758228824,114.30832845481959,110.879078601175,117.5318233172455,124.58373271628024,120.84622073479183,128.09699397887934,124.25408415951296,120.52646163472757,116.91066778568573,113.40334775211515,110.0012473195517,116.6013221587248,123.5974014882483,119.88947944360085,116.29279506029282,112.80401120848403,109.4198908722295,106.13729414606262,102.95317532168073,109.13036584098158,115.67818779144048,112.20784215769726,118.94031268715909,115.37210330654432,111.91094020734799,118.62559661978888,115.06682872119521,111.61482385955935,118.31171329113292,125.4104160886009,121.64810360594286,117.99866049776458,114.45870068283163,111.02493966234668,107.69419147247628,104.46336572830198,101.32946475645292,107.4092326418401,104.1869556625849,101.06134699270734,107.12502781226979,103.9112769779017,100.79393866856464,106.84157498867852,103.63632773901816,109.85450740335925,106.55887218125847,103.36210601582071,109.56383237676997,106.27691740546686,103.08860988330285,99.99595158680377,105.99570868201201,102.81583742155165,99.7313622989051,96.73942142993795,93.83723878703981,91.02212162342862,88.29145797472576,93.5889454532093,90.78127708961303,88.05783877692464,93.34130910354013,98.94178764975254,95.97353402025996,93.09432799965217,98.6799876796313,95.71958804924236,92.84800040776508,90.06256039553213,87.36068358366616,84.73986307615617,82.19766718387149,87.12952721490379,92.35729884779802,89.58657988236408,94.96177467530593,100.6594811558243,106.69905002517376,103.49807852441855,100.39313616868598,106.41672433880714,112.80172779913558,109.41767596516151,115.98273652307121,122.9417007144555,130.31820275732284,126.40865667460315,122.61639697436506,118.9379050651341,115.36976791318008,111.90867487578468,118.62319536833176,115.06449950728181,111.61256452206335,108.26418758640145,105.0162619588094,101.86577410004512,107.97772054604783,104.7383889296664,101.59623726177641,98.54835014392312,95.59189963960542,92.72414265041725,89.94241837090473,95.33896347315903,92.47879456896425,89.70443073189531,87.01329780993845,84.40289887564029,81.87081190937108,86.78306062393335,84.17956880521535,81.65418174105889,79.20455628882712,83.95682966615675,81.43812477617205,86.32441226274237,91.50387699850691,88.7587606885517,86.09599786789515,83.51311793185829,81.00772439390254,85.8681878575367,91.0202791289889,96.48149587672825,102.27038562933194,108.40660876709187,114.91100529311738,121.80566561070444,118.1514956423833,125.2405853809263,121.48336781949851,128.77236988866844,136.49871208198854,132.4037507195289,128.43163819794302,124.57868905200472,132.053410395125,128.09180808327125,124.2490538407731,131.7039970712195,127.75287715908291,135.41804978862788,143.54313277594557,152.1557207425023,147.5910491202272,143.16331764662038,138.86841811722178,147.2005232042551,142.78450750812743,138.5009722828836,134.34594311439707,130.31556482096516,126.4060978763362,122.61391494004612,118.93549749184473,115.36743256708938,122.28947852111475,118.6207941654813,125.73804181541018,133.2823243243348,141.2792637837949,137.04088587028104,145.26333902249792,140.90543885182296,136.67827568626828,132.57792741568022,128.6005895932098,136.3166249688024,132.22712621973832,128.26031243314617,124.41250306015178,131.8772532437609,127.92093564644806,124.08330757705461,131.5283060316779,127.58245685072754,123.75498314520571,131.18028213391807,127.24487366990053,134.87956609009456,130.83317910739171,126.90818373416995,123.10093822214485,119.4079100754805,126.57238468000934,122.77521313960905,130.1417259279856,137.95022948366474,133.8117225991548,129.79737092118015,137.58521317645096,133.45765678115743,141.46511618802688,137.22116270238607,133.1045278213145,141.09079949059335,136.85807550587555,132.75233324069927,140.71747323514123,149.1605216292497,144.6857059803722,140.34513480096103,148.7658428890187,144.30286760234813,152.96103965848903,162.13870203799837,157.27454097685842,152.55630474755267,161.70968303240585,156.85839254143366,152.15264076519065,147.58806154223493,143.16041969596787,151.75004487772594,160.8550475703895,156.0293961432778,151.34851425897946,146.80805883121008,155.61654236108268,150.9480460902502,160.0049288556652,169.60522458700513,164.51706784939498,159.58155581391313,154.79410913949573,150.15028586531085,159.15930301722952,154.38452392671263,163.6475953623154,158.73816750144593,153.97602247640253,163.2145838249867,158.3181463102371,167.81723508885133,162.7827180361858,172.54968111835694,167.37319068480622,177.4155821258946,188.06051705344828,182.41870154184483,176.94614049558947,187.56290892532485,198.81668346084436,192.852182957019,187.06661746830844,181.45461894425918,176.0109803759314,186.5716391984873,180.97449002253268,175.5452553218567,170.278897662201,180.49563152193306,175.08076257627508,169.8283396989868,180.01804008092603,190.8191224857816,185.09454881120814,196.20022173988065,190.31421508768423,201.7330679929453,195.68107595315695,207.4219405103464,219.8672569409672,213.27123923273817,226.06751358670246,219.28548817910138,212.70692353372834,206.3257158277165,200.135944352885,212.1441010140581,205.77977798363634,218.12656466265452,211.58276772277486,224.27773378614137,217.54940177255713,211.0229197193804,223.68429490254326,237.10535259669587,229.99219201879498,223.09242625823111,216.39965347048417,229.38363267871324,243.14665063943605,235.85225112025296,228.77668358664536,242.5032846018441,257.0534816779547,249.34187722761607,241.86162091078756,256.37331816543485,248.6821186204718,263.60304573770014,255.69495436556912,248.02410573460205,240.58338256256397,255.0183855163178,247.36783395082827,262.20990398787796,254.3436068682416,246.71329866219435,239.3118997023285,253.67061368446824,246.06049527393418,238.67868041571614,231.51832000324464,224.5727704031473,217.8355872910529,211.3005196723213,204.96150408215163,198.81265895968707,192.84827919089645,187.06283081516955,181.45094589071445,192.3380026441573,186.56786256483258,197.76193431872255,191.82907628916087,203.33882086651053,197.2386562405152,209.07297561494613,202.80078634649774,196.7167627561028,190.81525987341973,202.26417546582493,196.19625020185018,190.31036269579468,201.72898445754237,213.83272352499492,207.41774181924507,201.19520956466772,195.1593532777277,189.30457267939585,183.62543549901397,178.11667243404355,188.80367278008617,183.1395625966836,177.64537571878307,172.31601444721957,167.14653401380298,162.13213799338888,157.2681738535872,152.55012863797958,147.9736247788402,143.53441603547498,139.22838355441073,135.0515320477784,130.99998608634505,138.85998525152576,134.69418569398,142.7758368356188,138.49256173055025,134.33778487863373,142.39805197135175,138.1261104122112,133.98232709984487,129.96285728684953,126.06397156824404,122.28205242119672,129.61897556646852,125.73040629947447,121.95849411049024,129.27600375711967,125.39772364440607,132.92158706307043,128.9339394511783,125.06592126764295,132.56987654370153,140.52406913632362,148.95551328450304,157.89284408157323,167.36641472646764,162.34542228467362,172.08614762175404,166.92356319310142,161.91585629730838,157.05838060838911,152.34662919013743,161.4874269415457,171.17667255803843,181.44727291152074,176.0038547241751,170.72373908244987,180.96716342739686,175.53814852457495,170.2720040688377,180.48832431296796,191.31762377174604,185.57809505859365,196.71278076210928,190.81139733924599,185.0870554190686,179.53444375649653,174.14841044380162,184.59731507042974,195.67315397465555,189.80295935541588,201.19113691674085,195.1554028092386,206.86472697779294,219.27661059646053,212.6983122785667,206.3173629102097,200.12784202290342,194.1240067622163,188.30028655934981,199.59830375291082,193.6103546403235,205.2269759187429,217.5405944738675,230.59303014229954,223.67523923803054,216.9649820608896,210.45603259906292,223.08339455500672,216.39089271835653,209.89916593680582,203.60219095870164,215.81832241622374,209.34377274373702,203.0634595614249,196.97155577458216,208.7898491210571,221.31724006832053,214.6777228662709,208.23739118028277,201.9902694448743,195.93056136152805,207.68639504321973,201.45580319192314,195.41212909616544,189.54976522328047,183.86327226658204,194.89506860257697,189.04821654449967,200.39110953716965,194.37937625105457,188.5479949635229,182.8915551146172,177.40480846117867,172.0826642073433,166.920184281123,176.9353953379904,187.55151905826983,181.92497348652174,176.4672242819261,187.05525773884168,181.44360000667643,192.33021600707704,186.56030952686473,197.75392809847662,209.61916378438522,203.33058887085366,215.5304242031049,209.06451147701173,221.60838216563246,214.96013070066348,208.51132677964358,221.02200638642222,214.39134619482954,227.25482696651932,220.43718215752372,213.824066692798,207.40934469201406,219.8539053735349,233.045139695947,226.0537855050686,219.27217193991652,212.69400678171903,225.45564718862218,238.98298601993952,231.81349643934132,245.7223062257018,260.46564459924394,252.65167526126663,267.81077577694265,259.77645250363435,251.9831589285253,267.10214846423685,259.08908401030976,274.63442905092836,266.3953961794005,258.40353429401847,250.65142826519792,243.131885417242,235.83792885472474,228.762790989083,221.8999072594105,215.24291004162816,208.78562274037932,202.52205405816795,196.4463924364229,190.5530006633302,184.8364106434303,179.2913183241274,173.91257877440356,168.69520141117144,163.63434536883628,158.72531500777117,168.24883390823746,163.20136889099032,172.99345102444974,167.80364749371626,162.76953806890475,172.53571035303904,167.35963904244787,177.40121738499474,172.0791808634449,166.91680543754154,161.9093012744153,171.62385935088022,181.92129091193306,192.83656836664906,204.40676246864803,198.27455959458857,192.3263228067509,186.5565331225484,180.95983712887192,175.53104201500577,170.2651107545556,165.15715743191893,160.20244270896137,169.81458927149907,164.7201515933541,159.77854704555347,154.98519063418686,150.33563491516125,159.35577301007095,168.91711939067523,179.05214655411575,173.68058215749227,168.4701646927675,163.41605975198448,158.51357795942494,168.02439263699043,162.98366085788072,158.09415103214428,153.35132650117995,148.75078670614454,144.2882631049602,139.9596152118114,135.76082675545706,131.68800195279334,139.58928206996094,147.9646389941586,156.84251733380813,152.13724181379388,161.2654763226215,156.42751203294287,151.7346866719546,147.18264607179594,156.0136048361037,165.37442112626994,160.41318849248182,170.03797980203075,180.2402585901526,191.05467410556176,202.51795455189549,214.66903182500923,227.5491737345098,220.7226985224745,214.10101756680027,226.9470786208083,220.13866626218405,233.3469862379151,226.34657665077765,219.55617935125431,232.72955011232958,225.74766360895967,239.29252342549725,232.1137477227323,246.04057258609626,238.65935540851336,231.49957474625796,224.5545875038702,238.02786275410244,230.88702687147935,244.7402484837681,259.42466339279423,251.6419234910104,244.0926657862801,236.76988581269168,229.66678923831094,243.44679659260962],\"type\":\"scatter\",\"xaxis\":\"x\",\"yaxis\":\"y\"}],                        {\"template\":{\"data\":{\"histogram2dcontour\":[{\"type\":\"histogram2dcontour\",\"colorbar\":{\"outlinewidth\":0,\"ticks\":\"\"},\"colorscale\":[[0.0,\"#0d0887\"],[0.1111111111111111,\"#46039f\"],[0.2222222222222222,\"#7201a8\"],[0.3333333333333333,\"#9c179e\"],[0.4444444444444444,\"#bd3786\"],[0.5555555555555556,\"#d8576b\"],[0.6666666666666666,\"#ed7953\"],[0.7777777777777778,\"#fb9f3a\"],[0.8888888888888888,\"#fdca26\"],[1.0,\"#f0f921\"]]}],\"choropleth\":[{\"type\":\"choropleth\",\"colorbar\":{\"outlinewidth\":0,\"ticks\":\"\"}}],\"histogram2d\":[{\"type\":\"histogram2d\",\"colorbar\":{\"outlinewidth\":0,\"ticks\":\"\"},\"colorscale\":[[0.0,\"#0d0887\"],[0.1111111111111111,\"#46039f\"],[0.2222222222222222,\"#7201a8\"],[0.3333333333333333,\"#9c179e\"],[0.4444444444444444,\"#bd3786\"],[0.5555555555555556,\"#d8576b\"],[0.6666666666666666,\"#ed7953\"],[0.7777777777777778,\"#fb9f3a\"],[0.8888888888888888,\"#fdca26\"],[1.0,\"#f0f921\"]]}],\"heatmap\":[{\"type\":\"heatmap\",\"colorbar\":{\"outlinewidth\":0,\"ticks\":\"\"},\"colorscale\":[[0.0,\"#0d0887\"],[0.1111111111111111,\"#46039f\"],[0.2222222222222222,\"#7201a8\"],[0.3333333333333333,\"#9c179e\"],[0.4444444444444444,\"#bd3786\"],[0.5555555555555556,\"#d8576b\"],[0.6666666666666666,\"#ed7953\"],[0.7777777777777778,\"#fb9f3a\"],[0.8888888888888888,\"#fdca26\"],[1.0,\"#f0f921\"]]}],\"heatmapgl\":[{\"type\":\"heatmapgl\",\"colorbar\":{\"outlinewidth\":0,\"ticks\":\"\"},\"colorscale\":[[0.0,\"#0d0887\"],[0.1111111111111111,\"#46039f\"],[0.2222222222222222,\"#7201a8\"],[0.3333333333333333,\"#9c179e\"],[0.4444444444444444,\"#bd3786\"],[0.5555555555555556,\"#d8576b\"],[0.6666666666666666,\"#ed7953\"],[0.7777777777777778,\"#fb9f3a\"],[0.8888888888888888,\"#fdca26\"],[1.0,\"#f0f921\"]]}],\"contourcarpet\":[{\"type\":\"contourcarpet\",\"colorbar\":{\"outlinewidth\":0,\"ticks\":\"\"}}],\"contour\":[{\"type\":\"contour\",\"colorbar\":{\"outlinewidth\":0,\"ticks\":\"\"},\"colorscale\":[[0.0,\"#0d0887\"],[0.1111111111111111,\"#46039f\"],[0.2222222222222222,\"#7201a8\"],[0.3333333333333333,\"#9c179e\"],[0.4444444444444444,\"#bd3786\"],[0.5555555555555556,\"#d8576b\"],[0.6666666666666666,\"#ed7953\"],[0.7777777777777778,\"#fb9f3a\"],[0.8888888888888888,\"#fdca26\"],[1.0,\"#f0f921\"]]}],\"surface\":[{\"type\":\"surface\",\"colorbar\":{\"outlinewidth\":0,\"ticks\":\"\"},\"colorscale\":[[0.0,\"#0d0887\"],[0.1111111111111111,\"#46039f\"],[0.2222222222222222,\"#7201a8\"],[0.3333333333333333,\"#9c179e\"],[0.4444444444444444,\"#bd3786\"],[0.5555555555555556,\"#d8576b\"],[0.6666666666666666,\"#ed7953\"],[0.7777777777777778,\"#fb9f3a\"],[0.8888888888888888,\"#fdca26\"],[1.0,\"#f0f921\"]]}],\"mesh3d\":[{\"type\":\"mesh3d\",\"colorbar\":{\"outlinewidth\":0,\"ticks\":\"\"}}],\"scatter\":[{\"fillpattern\":{\"fillmode\":\"overlay\",\"size\":10,\"solidity\":0.2},\"type\":\"scatter\"}],\"parcoords\":[{\"type\":\"parcoords\",\"line\":{\"colorbar\":{\"outlinewidth\":0,\"ticks\":\"\"}}}],\"scatterpolargl\":[{\"type\":\"scatterpolargl\",\"marker\":{\"colorbar\":{\"outlinewidth\":0,\"ticks\":\"\"}}}],\"bar\":[{\"error_x\":{\"color\":\"#2a3f5f\"},\"error_y\":{\"color\":\"#2a3f5f\"},\"marker\":{\"line\":{\"color\":\"#E5ECF6\",\"width\":0.5},\"pattern\":{\"fillmode\":\"overlay\",\"size\":10,\"solidity\":0.2}},\"type\":\"bar\"}],\"scattergeo\":[{\"type\":\"scattergeo\",\"marker\":{\"colorbar\":{\"outlinewidth\":0,\"ticks\":\"\"}}}],\"scatterpolar\":[{\"type\":\"scatterpolar\",\"marker\":{\"colorbar\":{\"outlinewidth\":0,\"ticks\":\"\"}}}],\"histogram\":[{\"marker\":{\"pattern\":{\"fillmode\":\"overlay\",\"size\":10,\"solidity\":0.2}},\"type\":\"histogram\"}],\"scattergl\":[{\"type\":\"scattergl\",\"marker\":{\"colorbar\":{\"outlinewidth\":0,\"ticks\":\"\"}}}],\"scatter3d\":[{\"type\":\"scatter3d\",\"line\":{\"colorbar\":{\"outlinewidth\":0,\"ticks\":\"\"}},\"marker\":{\"colorbar\":{\"outlinewidth\":0,\"ticks\":\"\"}}}],\"scattermapbox\":[{\"type\":\"scattermapbox\",\"marker\":{\"colorbar\":{\"outlinewidth\":0,\"ticks\":\"\"}}}],\"scatterternary\":[{\"type\":\"scatterternary\",\"marker\":{\"colorbar\":{\"outlinewidth\":0,\"ticks\":\"\"}}}],\"scattercarpet\":[{\"type\":\"scattercarpet\",\"marker\":{\"colorbar\":{\"outlinewidth\":0,\"ticks\":\"\"}}}],\"carpet\":[{\"aaxis\":{\"endlinecolor\":\"#2a3f5f\",\"gridcolor\":\"white\",\"linecolor\":\"white\",\"minorgridcolor\":\"white\",\"startlinecolor\":\"#2a3f5f\"},\"baxis\":{\"endlinecolor\":\"#2a3f5f\",\"gridcolor\":\"white\",\"linecolor\":\"white\",\"minorgridcolor\":\"white\",\"startlinecolor\":\"#2a3f5f\"},\"type\":\"carpet\"}],\"table\":[{\"cells\":{\"fill\":{\"color\":\"#EBF0F8\"},\"line\":{\"color\":\"white\"}},\"header\":{\"fill\":{\"color\":\"#C8D4E3\"},\"line\":{\"color\":\"white\"}},\"type\":\"table\"}],\"barpolar\":[{\"marker\":{\"line\":{\"color\":\"#E5ECF6\",\"width\":0.5},\"pattern\":{\"fillmode\":\"overlay\",\"size\":10,\"solidity\":0.2}},\"type\":\"barpolar\"}],\"pie\":[{\"automargin\":true,\"type\":\"pie\"}]},\"layout\":{\"autotypenumbers\":\"strict\",\"colorway\":[\"#636efa\",\"#EF553B\",\"#00cc96\",\"#ab63fa\",\"#FFA15A\",\"#19d3f3\",\"#FF6692\",\"#B6E880\",\"#FF97FF\",\"#FECB52\"],\"font\":{\"color\":\"#2a3f5f\"},\"hovermode\":\"closest\",\"hoverlabel\":{\"align\":\"left\"},\"paper_bgcolor\":\"white\",\"plot_bgcolor\":\"#E5ECF6\",\"polar\":{\"bgcolor\":\"#E5ECF6\",\"angularaxis\":{\"gridcolor\":\"white\",\"linecolor\":\"white\",\"ticks\":\"\"},\"radialaxis\":{\"gridcolor\":\"white\",\"linecolor\":\"white\",\"ticks\":\"\"}},\"ternary\":{\"bgcolor\":\"#E5ECF6\",\"aaxis\":{\"gridcolor\":\"white\",\"linecolor\":\"white\",\"ticks\":\"\"},\"baxis\":{\"gridcolor\":\"white\",\"linecolor\":\"white\",\"ticks\":\"\"},\"caxis\":{\"gridcolor\":\"white\",\"linecolor\":\"white\",\"ticks\":\"\"}},\"coloraxis\":{\"colorbar\":{\"outlinewidth\":0,\"ticks\":\"\"}},\"colorscale\":{\"sequential\":[[0.0,\"#0d0887\"],[0.1111111111111111,\"#46039f\"],[0.2222222222222222,\"#7201a8\"],[0.3333333333333333,\"#9c179e\"],[0.4444444444444444,\"#bd3786\"],[0.5555555555555556,\"#d8576b\"],[0.6666666666666666,\"#ed7953\"],[0.7777777777777778,\"#fb9f3a\"],[0.8888888888888888,\"#fdca26\"],[1.0,\"#f0f921\"]],\"sequentialminus\":[[0.0,\"#0d0887\"],[0.1111111111111111,\"#46039f\"],[0.2222222222222222,\"#7201a8\"],[0.3333333333333333,\"#9c179e\"],[0.4444444444444444,\"#bd3786\"],[0.5555555555555556,\"#d8576b\"],[0.6666666666666666,\"#ed7953\"],[0.7777777777777778,\"#fb9f3a\"],[0.8888888888888888,\"#fdca26\"],[1.0,\"#f0f921\"]],\"diverging\":[[0,\"#8e0152\"],[0.1,\"#c51b7d\"],[0.2,\"#de77ae\"],[0.3,\"#f1b6da\"],[0.4,\"#fde0ef\"],[0.5,\"#f7f7f7\"],[0.6,\"#e6f5d0\"],[0.7,\"#b8e186\"],[0.8,\"#7fbc41\"],[0.9,\"#4d9221\"],[1,\"#276419\"]]},\"xaxis\":{\"gridcolor\":\"white\",\"linecolor\":\"white\",\"ticks\":\"\",\"title\":{\"standoff\":15},\"zerolinecolor\":\"white\",\"automargin\":true,\"zerolinewidth\":2},\"yaxis\":{\"gridcolor\":\"white\",\"linecolor\":\"white\",\"ticks\":\"\",\"title\":{\"standoff\":15},\"zerolinecolor\":\"white\",\"automargin\":true,\"zerolinewidth\":2},\"scene\":{\"xaxis\":{\"backgroundcolor\":\"#E5ECF6\",\"gridcolor\":\"white\",\"linecolor\":\"white\",\"showbackground\":true,\"ticks\":\"\",\"zerolinecolor\":\"white\",\"gridwidth\":2},\"yaxis\":{\"backgroundcolor\":\"#E5ECF6\",\"gridcolor\":\"white\",\"linecolor\":\"white\",\"showbackground\":true,\"ticks\":\"\",\"zerolinecolor\":\"white\",\"gridwidth\":2},\"zaxis\":{\"backgroundcolor\":\"#E5ECF6\",\"gridcolor\":\"white\",\"linecolor\":\"white\",\"showbackground\":true,\"ticks\":\"\",\"zerolinecolor\":\"white\",\"gridwidth\":2}},\"shapedefaults\":{\"line\":{\"color\":\"#2a3f5f\"}},\"annotationdefaults\":{\"arrowcolor\":\"#2a3f5f\",\"arrowhead\":0,\"arrowwidth\":1},\"geo\":{\"bgcolor\":\"white\",\"landcolor\":\"#E5ECF6\",\"subunitcolor\":\"white\",\"showland\":true,\"showlakes\":true,\"lakecolor\":\"white\"},\"title\":{\"x\":0.05},\"mapbox\":{\"style\":\"light\"}}},\"xaxis\":{\"anchor\":\"y\",\"domain\":[0.0,0.94],\"rangeslider\":{\"visible\":false},\"gridcolor\":\"#1f292f\",\"nticks\":5},\"yaxis\":{\"anchor\":\"x\",\"domain\":[0.0,1.0],\"gridcolor\":\"#1f292f\"},\"yaxis2\":{\"anchor\":\"x\",\"overlaying\":\"y\",\"side\":\"right\",\"gridcolor\":\"#1f292f\"},\"margin\":{\"l\":10,\"r\":10,\"b\":10,\"t\":10},\"font\":{\"size\":8,\"color\":\"#e1e1e1\"},\"width\":1400,\"height\":600,\"paper_bgcolor\":\"#2c303c\",\"plot_bgcolor\":\"#2c303c\"},                        {\"responsive\": true}                    ).then(function(){\n",
       "                            \n",
       "var gd = document.getElementById('286fa1d1-7440-43f2-8fa1-c366eee0a5e3');\n",
       "var x = new MutationObserver(function (mutations, observer) {{\n",
       "        var display = window.getComputedStyle(gd).display;\n",
       "        if (!display || display === 'none') {{\n",
       "            console.log([gd, 'removed!']);\n",
       "            Plotly.purge(gd);\n",
       "            observer.disconnect();\n",
       "        }}\n",
       "}});\n",
       "\n",
       "// Listen for the removal of the full notebook cells\n",
       "var notebookContainer = gd.closest('#notebook-container');\n",
       "if (notebookContainer) {{\n",
       "    x.observe(notebookContainer, {childList: true});\n",
       "}}\n",
       "\n",
       "// Listen for the clearing of the current output cell\n",
       "var outputEl = gd.closest('.output');\n",
       "if (outputEl) {{\n",
       "    x.observe(outputEl, {childList: true});\n",
       "}}\n",
       "\n",
       "                        })                };                });            </script>        </div>"
      ]
     },
     "metadata": {},
     "output_type": "display_data"
    }
   ],
   "source": [
    "df_res_m5_plot = df_res_m5#.loc[:100]\n",
    "df_res_m5_plot['time'] = df_res_m5_plot['end_time']\n",
    "cp = CandlePlot(df_res_m5_plot, candles=False)\n",
    "print(\"min balance \",min(df_res_m5['balance']))\n",
    "cp.show_plot(line_traces=['balance'])"
   ]
  },
  {
   "cell_type": "code",
   "execution_count": null,
   "id": "f1efad8a",
   "metadata": {},
   "outputs": [],
   "source": []
  },
  {
   "cell_type": "code",
   "execution_count": null,
   "id": "6718cddc",
   "metadata": {},
   "outputs": [],
   "source": []
  },
  {
   "cell_type": "code",
   "execution_count": null,
   "id": "1a644fdd",
   "metadata": {},
   "outputs": [],
   "source": []
  }
 ],
 "metadata": {
  "kernelspec": {
   "display_name": "Python 3 (ipykernel)",
   "language": "python",
   "name": "python3"
  },
  "language_info": {
   "codemirror_mode": {
    "name": "ipython",
    "version": 3
   },
   "file_extension": ".py",
   "mimetype": "text/x-python",
   "name": "python",
   "nbconvert_exporter": "python",
   "pygments_lexer": "ipython3",
   "version": "3.9.13"
  }
 },
 "nbformat": 4,
 "nbformat_minor": 5
}
