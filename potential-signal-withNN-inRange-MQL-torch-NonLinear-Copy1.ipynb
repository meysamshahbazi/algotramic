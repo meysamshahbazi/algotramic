{
 "cells": [
  {
   "cell_type": "code",
   "execution_count": 1,
   "id": "ec6d40cf",
   "metadata": {},
   "outputs": [],
   "source": [
    "import pandas as pd\n",
    "import datetime as dt\n",
    "import plotly.graph_objects as go\n",
    "from technicals.indicators import *\n",
    "from technicals.patterns import apply_patterns\n",
    "from technicals.patternsInRange import apply_patterns_in_range\n",
    "from guruTester import GuruTester,GuruTester2\n",
    "from plotting import CandlePlot\n",
    "import MetaTrader5 as mt5\n",
    "from datetime import datetime\n",
    "from getCandle import Rates\n",
    "from sklearn.neural_network import MLPClassifier\n",
    "import numpy as np\n",
    "from sklearn.metrics import confusion_matrix\n",
    "from sklearn.preprocessing import StandardScaler  \n",
    "import pickle\n",
    "import torch\n",
    "import torch.nn as nn\n",
    "import torch.nn.functional as F\n",
    "import torch.optim as optim\n",
    "from torch.utils.data import Dataset, DataLoader\n",
    "from tqdm import tqdm"
   ]
  },
  {
   "cell_type": "code",
   "execution_count": 2,
   "id": "8be830d9",
   "metadata": {},
   "outputs": [],
   "source": [
    "def featureExtraction(df):\n",
    "    candle_patterns = ['HANGING_MAN', 'SHOOTING_STAR',\n",
    "           'SPINNING_TOP', 'MARUBOZU', 'ENGULFING', 'TWEEZER_TOP',\n",
    "           'TWEEZER_BOTTOM', 'MORNING_STAR', 'EVENING_STAR']\n",
    "    df = apply_patterns_in_range(df)\n",
    "    for cp in candle_patterns:\n",
    "        df[cp] = df[cp].astype(float)\n",
    "\n",
    "    df = BollingerBandsNonLinear(df)\n",
    "#     df = ATRFeature(df)\n",
    "    df = KeltnerChannelsNonLinear(df)\n",
    "    df = RSINonLinear(df)\n",
    "    df = MACDNonLinear(df)\n",
    "    df = BREAKOUT(df)\n",
    "    df = ichimokuNonLinear(df)\n",
    "\n",
    "    df.dropna(inplace=True)\n",
    "    df.reset_index(drop=True, inplace=True)\n",
    "\n",
    "    return df"
   ]
  },
  {
   "cell_type": "code",
   "execution_count": 30,
   "id": "652f688f",
   "metadata": {},
   "outputs": [],
   "source": [
    "BUY = 2\n",
    "SELL = 0\n",
    "NONE = 1"
   ]
  },
  {
   "cell_type": "code",
   "execution_count": 31,
   "id": "573d9887",
   "metadata": {},
   "outputs": [],
   "source": [
    "PROFIT_FACTOR = 1.2\n",
    "def labeling(df):\n",
    "    df['SIGNAL_LABEL'] = NONE\n",
    "    df['TP'] = 0\n",
    "    df['SL'] = 0\n",
    "    \n",
    "    for i in tqdm(range(1,len(df)) ):\n",
    "        for j in range(i,len(df)):\n",
    "            if( df.low[j] <= df.low[i-1] ):\n",
    "                break\n",
    "            else:\n",
    "                if(df.high[j] > PROFIT_FACTOR*(df.close[i] - df.low[i-1] ) + df.close[i]):\n",
    "                    df.SIGNAL_LABEL[i] = BUY\n",
    "                    break\n",
    "\n",
    "\n",
    "        for j in range(i,len(df)):\n",
    "            if( df.high[j] >= df.high[i-1] ):\n",
    "                break\n",
    "            else:\n",
    "                if(df.low[j] < PROFIT_FACTOR*(df.close[i] - df.high[i-1] ) + df.close[i]):\n",
    "                    df.SIGNAL_LABEL[i] = SELL\n",
    "                    break\n",
    "\n",
    "        \n",
    "    return df"
   ]
  },
  {
   "cell_type": "code",
   "execution_count": 32,
   "id": "dbe8df91",
   "metadata": {},
   "outputs": [],
   "source": [
    "pairs = [\"GBPUSD\",\"EURUSD\",\"USDCHF\",\"USDCAD\",\"EURCHF\"]\n",
    "NB_H1_CANDLES = 20000"
   ]
  },
  {
   "cell_type": "code",
   "execution_count": 33,
   "id": "d39ffb5d",
   "metadata": {},
   "outputs": [],
   "source": [
    "all_data = {}\n",
    "for pair in pairs:\n",
    "    rates = Rates(pair, NB_H1_CANDLES, mt5.TIMEFRAME_H1)\n",
    "    SPREAD = rates.get_spread()\n",
    "    df_an = rates.get_rates_from_now()\n",
    "    df_an.drop(NB_H1_CANDLES-1,inplace=True) \n",
    "    df_an.drop(['tick_volume', 'spread', 'real_volume'], axis=1, inplace=True)\n",
    "    all_data[pair] = df_an\n",
    "    "
   ]
  },
  {
   "cell_type": "code",
   "execution_count": null,
   "id": "cb7c8f5b",
   "metadata": {},
   "outputs": [],
   "source": []
  },
  {
   "cell_type": "code",
   "execution_count": 34,
   "id": "17728150",
   "metadata": {},
   "outputs": [
    {
     "data": {
      "text/plain": [
       "0.00011"
      ]
     },
     "execution_count": 34,
     "metadata": {},
     "output_type": "execute_result"
    }
   ],
   "source": [
    "SPREAD = (SPREAD//1e-5)*1e-5 # todo: do it right!!!\n",
    "SPREAD # 0"
   ]
  },
  {
   "cell_type": "code",
   "execution_count": 35,
   "id": "a331cf06",
   "metadata": {},
   "outputs": [],
   "source": [
    "all_data_train = {}\n",
    "all_data_test = {}\n",
    "for pair in pairs:\n",
    "    SLIT_INDEX = int(0.8*len(all_data[pair]))\n",
    "    all_data_train[pair] = all_data[pair].iloc[:SLIT_INDEX]\n",
    "    all_data_train[pair].reset_index(drop=True, inplace=True)\n",
    "    all_data_test[pair] = all_data[pair].iloc[SLIT_INDEX:]\n",
    "    all_data_test[pair].reset_index(drop=True, inplace=True)"
   ]
  },
  {
   "cell_type": "code",
   "execution_count": 36,
   "id": "9eabb7dd",
   "metadata": {},
   "outputs": [
    {
     "data": {
      "text/plain": [
       "dict_keys(['GBPUSD', 'EURUSD', 'USDCHF', 'USDCAD', 'EURCHF'])"
      ]
     },
     "execution_count": 36,
     "metadata": {},
     "output_type": "execute_result"
    }
   ],
   "source": [
    "all_data.keys()"
   ]
  },
  {
   "cell_type": "code",
   "execution_count": 37,
   "id": "f0a11d33",
   "metadata": {},
   "outputs": [],
   "source": [
    "# rates = Rates(pair, 13*len(df_test), mt5.TIMEFRAME_M5)\n",
    "# df_m5 = rates.get_rates_from_now()\n",
    "# df_m5.reset_index(drop=True, inplace=True)\n",
    "# df_m5.drop(['tick_volume', 'spread', 'real_volume'], axis=1, inplace=True)"
   ]
  },
  {
   "cell_type": "code",
   "execution_count": 38,
   "id": "7fe0b1da",
   "metadata": {},
   "outputs": [
    {
     "name": "stderr",
     "output_type": "stream",
     "text": [
      "C:\\Users\\meysam\\Desktop\\algotramic\\technicals\\indicators.py:215: SettingWithCopyWarning: \n",
      "A value is trying to be set on a copy of a slice from a DataFrame\n",
      "\n",
      "See the caveats in the documentation: https://pandas.pydata.org/pandas-docs/stable/user_guide/indexing.html#returning-a-view-versus-a-copy\n",
      "  df['last_pivot_h'].iloc[i] = last_pivot_h\n",
      "C:\\Users\\meysam\\Desktop\\algotramic\\technicals\\indicators.py:216: SettingWithCopyWarning: \n",
      "A value is trying to be set on a copy of a slice from a DataFrame\n",
      "\n",
      "See the caveats in the documentation: https://pandas.pydata.org/pandas-docs/stable/user_guide/indexing.html#returning-a-view-versus-a-copy\n",
      "  df['last_pivot_l'].iloc[i] = last_pivot_l\n",
      "  0%|                                                                                        | 0/15917 [00:00<?, ?it/s]C:\\Users\\meysam\\AppData\\Local\\Temp\\ipykernel_11252\\2628886360.py:22: SettingWithCopyWarning: \n",
      "A value is trying to be set on a copy of a slice from a DataFrame\n",
      "\n",
      "See the caveats in the documentation: https://pandas.pydata.org/pandas-docs/stable/user_guide/indexing.html#returning-a-view-versus-a-copy\n",
      "  df.SIGNAL_LABEL[i] = SELL\n",
      "C:\\Users\\meysam\\AppData\\Local\\Temp\\ipykernel_11252\\2628886360.py:13: SettingWithCopyWarning: \n",
      "A value is trying to be set on a copy of a slice from a DataFrame\n",
      "\n",
      "See the caveats in the documentation: https://pandas.pydata.org/pandas-docs/stable/user_guide/indexing.html#returning-a-view-versus-a-copy\n",
      "  df.SIGNAL_LABEL[i] = BUY\n",
      "100%|███████████████████████████████████████████████████████████████████████████| 15917/15917 [00:16<00:00, 953.83it/s]\n",
      "C:\\Users\\meysam\\Desktop\\algotramic\\technicals\\indicators.py:215: SettingWithCopyWarning: \n",
      "A value is trying to be set on a copy of a slice from a DataFrame\n",
      "\n",
      "See the caveats in the documentation: https://pandas.pydata.org/pandas-docs/stable/user_guide/indexing.html#returning-a-view-versus-a-copy\n",
      "  df['last_pivot_h'].iloc[i] = last_pivot_h\n",
      "C:\\Users\\meysam\\Desktop\\algotramic\\technicals\\indicators.py:216: SettingWithCopyWarning: \n",
      "A value is trying to be set on a copy of a slice from a DataFrame\n",
      "\n",
      "See the caveats in the documentation: https://pandas.pydata.org/pandas-docs/stable/user_guide/indexing.html#returning-a-view-versus-a-copy\n",
      "  df['last_pivot_l'].iloc[i] = last_pivot_l\n",
      "  0%|                                                                                         | 0/3921 [00:00<?, ?it/s]C:\\Users\\meysam\\AppData\\Local\\Temp\\ipykernel_11252\\2628886360.py:22: SettingWithCopyWarning: \n",
      "A value is trying to be set on a copy of a slice from a DataFrame\n",
      "\n",
      "See the caveats in the documentation: https://pandas.pydata.org/pandas-docs/stable/user_guide/indexing.html#returning-a-view-versus-a-copy\n",
      "  df.SIGNAL_LABEL[i] = SELL\n",
      "C:\\Users\\meysam\\AppData\\Local\\Temp\\ipykernel_11252\\2628886360.py:13: SettingWithCopyWarning: \n",
      "A value is trying to be set on a copy of a slice from a DataFrame\n",
      "\n",
      "See the caveats in the documentation: https://pandas.pydata.org/pandas-docs/stable/user_guide/indexing.html#returning-a-view-versus-a-copy\n",
      "  df.SIGNAL_LABEL[i] = BUY\n",
      "100%|█████████████████████████████████████████████████████████████████████████████| 3921/3921 [00:04<00:00, 926.96it/s]\n",
      "C:\\Users\\meysam\\Desktop\\algotramic\\technicals\\indicators.py:215: SettingWithCopyWarning: \n",
      "A value is trying to be set on a copy of a slice from a DataFrame\n",
      "\n",
      "See the caveats in the documentation: https://pandas.pydata.org/pandas-docs/stable/user_guide/indexing.html#returning-a-view-versus-a-copy\n",
      "  df['last_pivot_h'].iloc[i] = last_pivot_h\n",
      "C:\\Users\\meysam\\Desktop\\algotramic\\technicals\\indicators.py:216: SettingWithCopyWarning: \n",
      "A value is trying to be set on a copy of a slice from a DataFrame\n",
      "\n",
      "See the caveats in the documentation: https://pandas.pydata.org/pandas-docs/stable/user_guide/indexing.html#returning-a-view-versus-a-copy\n",
      "  df['last_pivot_l'].iloc[i] = last_pivot_l\n",
      "  0%|                                                                                        | 0/15920 [00:00<?, ?it/s]C:\\Users\\meysam\\AppData\\Local\\Temp\\ipykernel_11252\\2628886360.py:13: SettingWithCopyWarning: \n",
      "A value is trying to be set on a copy of a slice from a DataFrame\n",
      "\n",
      "See the caveats in the documentation: https://pandas.pydata.org/pandas-docs/stable/user_guide/indexing.html#returning-a-view-versus-a-copy\n",
      "  df.SIGNAL_LABEL[i] = BUY\n",
      "C:\\Users\\meysam\\AppData\\Local\\Temp\\ipykernel_11252\\2628886360.py:22: SettingWithCopyWarning: \n",
      "A value is trying to be set on a copy of a slice from a DataFrame\n",
      "\n",
      "See the caveats in the documentation: https://pandas.pydata.org/pandas-docs/stable/user_guide/indexing.html#returning-a-view-versus-a-copy\n",
      "  df.SIGNAL_LABEL[i] = SELL\n",
      "100%|███████████████████████████████████████████████████████████████████████████| 15920/15920 [00:19<00:00, 813.58it/s]\n",
      "C:\\Users\\meysam\\Desktop\\algotramic\\technicals\\indicators.py:215: SettingWithCopyWarning: \n",
      "A value is trying to be set on a copy of a slice from a DataFrame\n",
      "\n",
      "See the caveats in the documentation: https://pandas.pydata.org/pandas-docs/stable/user_guide/indexing.html#returning-a-view-versus-a-copy\n",
      "  df['last_pivot_h'].iloc[i] = last_pivot_h\n",
      "C:\\Users\\meysam\\Desktop\\algotramic\\technicals\\indicators.py:216: SettingWithCopyWarning: \n",
      "A value is trying to be set on a copy of a slice from a DataFrame\n",
      "\n",
      "See the caveats in the documentation: https://pandas.pydata.org/pandas-docs/stable/user_guide/indexing.html#returning-a-view-versus-a-copy\n",
      "  df['last_pivot_l'].iloc[i] = last_pivot_l\n",
      "  0%|                                                                                         | 0/3921 [00:00<?, ?it/s]C:\\Users\\meysam\\AppData\\Local\\Temp\\ipykernel_11252\\2628886360.py:22: SettingWithCopyWarning: \n",
      "A value is trying to be set on a copy of a slice from a DataFrame\n",
      "\n",
      "See the caveats in the documentation: https://pandas.pydata.org/pandas-docs/stable/user_guide/indexing.html#returning-a-view-versus-a-copy\n",
      "  df.SIGNAL_LABEL[i] = SELL\n",
      "C:\\Users\\meysam\\AppData\\Local\\Temp\\ipykernel_11252\\2628886360.py:13: SettingWithCopyWarning: \n",
      "A value is trying to be set on a copy of a slice from a DataFrame\n",
      "\n",
      "See the caveats in the documentation: https://pandas.pydata.org/pandas-docs/stable/user_guide/indexing.html#returning-a-view-versus-a-copy\n",
      "  df.SIGNAL_LABEL[i] = BUY\n",
      "100%|█████████████████████████████████████████████████████████████████████████████| 3921/3921 [00:06<00:00, 562.12it/s]\n",
      "C:\\Users\\meysam\\Desktop\\algotramic\\technicals\\indicators.py:215: SettingWithCopyWarning: \n",
      "A value is trying to be set on a copy of a slice from a DataFrame\n",
      "\n",
      "See the caveats in the documentation: https://pandas.pydata.org/pandas-docs/stable/user_guide/indexing.html#returning-a-view-versus-a-copy\n",
      "  df['last_pivot_h'].iloc[i] = last_pivot_h\n",
      "C:\\Users\\meysam\\Desktop\\algotramic\\technicals\\indicators.py:216: SettingWithCopyWarning: \n",
      "A value is trying to be set on a copy of a slice from a DataFrame\n",
      "\n",
      "See the caveats in the documentation: https://pandas.pydata.org/pandas-docs/stable/user_guide/indexing.html#returning-a-view-versus-a-copy\n",
      "  df['last_pivot_l'].iloc[i] = last_pivot_l\n",
      "  0%|                                                                                        | 0/15907 [00:00<?, ?it/s]C:\\Users\\meysam\\AppData\\Local\\Temp\\ipykernel_11252\\2628886360.py:13: SettingWithCopyWarning: \n",
      "A value is trying to be set on a copy of a slice from a DataFrame\n",
      "\n",
      "See the caveats in the documentation: https://pandas.pydata.org/pandas-docs/stable/user_guide/indexing.html#returning-a-view-versus-a-copy\n",
      "  df.SIGNAL_LABEL[i] = BUY\n",
      "C:\\Users\\meysam\\AppData\\Local\\Temp\\ipykernel_11252\\2628886360.py:22: SettingWithCopyWarning: \n",
      "A value is trying to be set on a copy of a slice from a DataFrame\n",
      "\n",
      "See the caveats in the documentation: https://pandas.pydata.org/pandas-docs/stable/user_guide/indexing.html#returning-a-view-versus-a-copy\n",
      "  df.SIGNAL_LABEL[i] = SELL\n",
      "100%|███████████████████████████████████████████████████████████████████████████| 15907/15907 [00:33<00:00, 477.36it/s]\n",
      "C:\\Users\\meysam\\Desktop\\algotramic\\technicals\\indicators.py:215: SettingWithCopyWarning: \n",
      "A value is trying to be set on a copy of a slice from a DataFrame\n",
      "\n",
      "See the caveats in the documentation: https://pandas.pydata.org/pandas-docs/stable/user_guide/indexing.html#returning-a-view-versus-a-copy\n",
      "  df['last_pivot_h'].iloc[i] = last_pivot_h\n",
      "C:\\Users\\meysam\\Desktop\\algotramic\\technicals\\indicators.py:216: SettingWithCopyWarning: \n",
      "A value is trying to be set on a copy of a slice from a DataFrame\n",
      "\n",
      "See the caveats in the documentation: https://pandas.pydata.org/pandas-docs/stable/user_guide/indexing.html#returning-a-view-versus-a-copy\n",
      "  df['last_pivot_l'].iloc[i] = last_pivot_l\n"
     ]
    },
    {
     "name": "stderr",
     "output_type": "stream",
     "text": [
      "  0%|                                                                                         | 0/3921 [00:00<?, ?it/s]C:\\Users\\meysam\\AppData\\Local\\Temp\\ipykernel_11252\\2628886360.py:22: SettingWithCopyWarning: \n",
      "A value is trying to be set on a copy of a slice from a DataFrame\n",
      "\n",
      "See the caveats in the documentation: https://pandas.pydata.org/pandas-docs/stable/user_guide/indexing.html#returning-a-view-versus-a-copy\n",
      "  df.SIGNAL_LABEL[i] = SELL\n",
      "C:\\Users\\meysam\\AppData\\Local\\Temp\\ipykernel_11252\\2628886360.py:13: SettingWithCopyWarning: \n",
      "A value is trying to be set on a copy of a slice from a DataFrame\n",
      "\n",
      "See the caveats in the documentation: https://pandas.pydata.org/pandas-docs/stable/user_guide/indexing.html#returning-a-view-versus-a-copy\n",
      "  df.SIGNAL_LABEL[i] = BUY\n",
      "100%|█████████████████████████████████████████████████████████████████████████████| 3921/3921 [00:08<00:00, 437.63it/s]\n",
      "C:\\Users\\meysam\\Desktop\\algotramic\\technicals\\indicators.py:215: SettingWithCopyWarning: \n",
      "A value is trying to be set on a copy of a slice from a DataFrame\n",
      "\n",
      "See the caveats in the documentation: https://pandas.pydata.org/pandas-docs/stable/user_guide/indexing.html#returning-a-view-versus-a-copy\n",
      "  df['last_pivot_h'].iloc[i] = last_pivot_h\n",
      "C:\\Users\\meysam\\Desktop\\algotramic\\technicals\\indicators.py:216: SettingWithCopyWarning: \n",
      "A value is trying to be set on a copy of a slice from a DataFrame\n",
      "\n",
      "See the caveats in the documentation: https://pandas.pydata.org/pandas-docs/stable/user_guide/indexing.html#returning-a-view-versus-a-copy\n",
      "  df['last_pivot_l'].iloc[i] = last_pivot_l\n",
      "  0%|                                                                                        | 0/15919 [00:00<?, ?it/s]C:\\Users\\meysam\\AppData\\Local\\Temp\\ipykernel_11252\\2628886360.py:13: SettingWithCopyWarning: \n",
      "A value is trying to be set on a copy of a slice from a DataFrame\n",
      "\n",
      "See the caveats in the documentation: https://pandas.pydata.org/pandas-docs/stable/user_guide/indexing.html#returning-a-view-versus-a-copy\n",
      "  df.SIGNAL_LABEL[i] = BUY\n",
      "C:\\Users\\meysam\\AppData\\Local\\Temp\\ipykernel_11252\\2628886360.py:22: SettingWithCopyWarning: \n",
      "A value is trying to be set on a copy of a slice from a DataFrame\n",
      "\n",
      "See the caveats in the documentation: https://pandas.pydata.org/pandas-docs/stable/user_guide/indexing.html#returning-a-view-versus-a-copy\n",
      "  df.SIGNAL_LABEL[i] = SELL\n",
      "100%|███████████████████████████████████████████████████████████████████████████| 15919/15919 [00:25<00:00, 623.39it/s]\n",
      "C:\\Users\\meysam\\Desktop\\algotramic\\technicals\\indicators.py:215: SettingWithCopyWarning: \n",
      "A value is trying to be set on a copy of a slice from a DataFrame\n",
      "\n",
      "See the caveats in the documentation: https://pandas.pydata.org/pandas-docs/stable/user_guide/indexing.html#returning-a-view-versus-a-copy\n",
      "  df['last_pivot_h'].iloc[i] = last_pivot_h\n",
      "C:\\Users\\meysam\\Desktop\\algotramic\\technicals\\indicators.py:216: SettingWithCopyWarning: \n",
      "A value is trying to be set on a copy of a slice from a DataFrame\n",
      "\n",
      "See the caveats in the documentation: https://pandas.pydata.org/pandas-docs/stable/user_guide/indexing.html#returning-a-view-versus-a-copy\n",
      "  df['last_pivot_l'].iloc[i] = last_pivot_l\n",
      "  0%|                                                                                         | 0/3921 [00:00<?, ?it/s]C:\\Users\\meysam\\AppData\\Local\\Temp\\ipykernel_11252\\2628886360.py:13: SettingWithCopyWarning: \n",
      "A value is trying to be set on a copy of a slice from a DataFrame\n",
      "\n",
      "See the caveats in the documentation: https://pandas.pydata.org/pandas-docs/stable/user_guide/indexing.html#returning-a-view-versus-a-copy\n",
      "  df.SIGNAL_LABEL[i] = BUY\n",
      "C:\\Users\\meysam\\AppData\\Local\\Temp\\ipykernel_11252\\2628886360.py:22: SettingWithCopyWarning: \n",
      "A value is trying to be set on a copy of a slice from a DataFrame\n",
      "\n",
      "See the caveats in the documentation: https://pandas.pydata.org/pandas-docs/stable/user_guide/indexing.html#returning-a-view-versus-a-copy\n",
      "  df.SIGNAL_LABEL[i] = SELL\n",
      "100%|█████████████████████████████████████████████████████████████████████████████| 3921/3921 [00:05<00:00, 684.41it/s]\n",
      "C:\\Users\\meysam\\Desktop\\algotramic\\technicals\\indicators.py:215: SettingWithCopyWarning: \n",
      "A value is trying to be set on a copy of a slice from a DataFrame\n",
      "\n",
      "See the caveats in the documentation: https://pandas.pydata.org/pandas-docs/stable/user_guide/indexing.html#returning-a-view-versus-a-copy\n",
      "  df['last_pivot_h'].iloc[i] = last_pivot_h\n",
      "C:\\Users\\meysam\\Desktop\\algotramic\\technicals\\indicators.py:216: SettingWithCopyWarning: \n",
      "A value is trying to be set on a copy of a slice from a DataFrame\n",
      "\n",
      "See the caveats in the documentation: https://pandas.pydata.org/pandas-docs/stable/user_guide/indexing.html#returning-a-view-versus-a-copy\n",
      "  df['last_pivot_l'].iloc[i] = last_pivot_l\n",
      "  0%|                                                                                        | 0/15901 [00:00<?, ?it/s]C:\\Users\\meysam\\AppData\\Local\\Temp\\ipykernel_11252\\2628886360.py:22: SettingWithCopyWarning: \n",
      "A value is trying to be set on a copy of a slice from a DataFrame\n",
      "\n",
      "See the caveats in the documentation: https://pandas.pydata.org/pandas-docs/stable/user_guide/indexing.html#returning-a-view-versus-a-copy\n",
      "  df.SIGNAL_LABEL[i] = SELL\n",
      "C:\\Users\\meysam\\AppData\\Local\\Temp\\ipykernel_11252\\2628886360.py:13: SettingWithCopyWarning: \n",
      "A value is trying to be set on a copy of a slice from a DataFrame\n",
      "\n",
      "See the caveats in the documentation: https://pandas.pydata.org/pandas-docs/stable/user_guide/indexing.html#returning-a-view-versus-a-copy\n",
      "  df.SIGNAL_LABEL[i] = BUY\n",
      "100%|███████████████████████████████████████████████████████████████████████████| 15901/15901 [00:27<00:00, 576.54it/s]\n",
      "C:\\Users\\meysam\\Desktop\\algotramic\\technicals\\indicators.py:215: SettingWithCopyWarning: \n",
      "A value is trying to be set on a copy of a slice from a DataFrame\n",
      "\n",
      "See the caveats in the documentation: https://pandas.pydata.org/pandas-docs/stable/user_guide/indexing.html#returning-a-view-versus-a-copy\n",
      "  df['last_pivot_h'].iloc[i] = last_pivot_h\n",
      "C:\\Users\\meysam\\Desktop\\algotramic\\technicals\\indicators.py:216: SettingWithCopyWarning: \n",
      "A value is trying to be set on a copy of a slice from a DataFrame\n",
      "\n",
      "See the caveats in the documentation: https://pandas.pydata.org/pandas-docs/stable/user_guide/indexing.html#returning-a-view-versus-a-copy\n",
      "  df['last_pivot_l'].iloc[i] = last_pivot_l\n",
      "  0%|                                                                                         | 0/3921 [00:00<?, ?it/s]C:\\Users\\meysam\\AppData\\Local\\Temp\\ipykernel_11252\\2628886360.py:22: SettingWithCopyWarning: \n",
      "A value is trying to be set on a copy of a slice from a DataFrame\n",
      "\n",
      "See the caveats in the documentation: https://pandas.pydata.org/pandas-docs/stable/user_guide/indexing.html#returning-a-view-versus-a-copy\n",
      "  df.SIGNAL_LABEL[i] = SELL\n",
      "C:\\Users\\meysam\\AppData\\Local\\Temp\\ipykernel_11252\\2628886360.py:13: SettingWithCopyWarning: \n",
      "A value is trying to be set on a copy of a slice from a DataFrame\n",
      "\n",
      "See the caveats in the documentation: https://pandas.pydata.org/pandas-docs/stable/user_guide/indexing.html#returning-a-view-versus-a-copy\n",
      "  df.SIGNAL_LABEL[i] = BUY\n",
      "100%|█████████████████████████████████████████████████████████████████████████████| 3921/3921 [00:08<00:00, 482.57it/s]\n"
     ]
    }
   ],
   "source": [
    "for pair in pairs:\n",
    "    all_data_train[pair] = featureExtraction(all_data_train[pair])\n",
    "    all_data_train[pair] = labeling(all_data_train[pair])\n",
    "    all_data_test[pair] = featureExtraction(all_data_test[pair])\n",
    "    all_data_test[pair] = labeling(all_data_test[pair])\n"
   ]
  },
  {
   "cell_type": "code",
   "execution_count": 39,
   "id": "a37fc455",
   "metadata": {},
   "outputs": [],
   "source": [
    "\n",
    "feature_col = [\n",
    "    'BB_MA_cross', 'BB_UP_touch','BB_LW_touch',\n",
    "    'EMA_cross', 'KeUp_touch', 'KeLo_touch', \n",
    "    'RSI_level',\n",
    "    'MACDHIST_level',\n",
    "#      'BREAK_UP', 'BREAK_DOWN',\n",
    "        'Tenkan_sen_touch', 'Kijun_sen_touch',\n",
    "       'Senkou_Span_A_touch', 'Senkou_Span_B_touch',\n",
    "        'Ten_kij_cross','Cloud_cross',\n",
    "#         'full_range',# this is added ...\n",
    "#        'body_lower', 'body_upper', \n",
    "#         'body_bottom_perc', 'body_top_perc',\n",
    "#        'body_perc', 'direction', 'body_size', 'low_change', 'high_change',\n",
    "#     'mid_point', 'mid_point_prev_2', 'body_size_prev',\n",
    "#        'direction_prev', 'direction_prev_2', 'body_perc_prev','body_perc_prev_2',\n",
    "        'direction',\n",
    "        'HANGING_MAN', 'SHOOTING_STAR', 'SPINNING_TOP',\n",
    "       'MARUBOZU', 'ENGULFING',\n",
    "    'TWEEZER_TOP', 'TWEEZER_BOTTOM',\n",
    "       'MORNING_STAR', 'EVENING_STAR'\n",
    "]"
   ]
  },
  {
   "cell_type": "code",
   "execution_count": 40,
   "id": "c37528b5",
   "metadata": {},
   "outputs": [],
   "source": [
    "class RNN(nn.Module):\n",
    "    def __init__(self, batch_size, input_size, hidden_dim,lstm_layers):\n",
    "        super(RNN, self).__init__()\n",
    "        self.input_size = input_size\n",
    "        self.batch_size = batch_size\n",
    "        self.hidden_dim = hidden_dim\n",
    "        self.LSTM_layers = lstm_layers\n",
    "    \n",
    "        self.dropout = nn.Dropout(0.5)\n",
    "        self.rnn = nn.GRU(input_size=input_size, hidden_size=self.hidden_dim, num_layers=self.LSTM_layers, batch_first=True)\n",
    "        self.fc1 = nn.Linear(in_features=self.hidden_dim, out_features=self.hidden_dim)\n",
    "        self.fc2 = nn.Linear(in_features=self.hidden_dim, out_features=3)\n",
    "#         self.fc2 = nn.Linear(257, 1)\n",
    "\n",
    "    def forward(self, x):\n",
    "        h = torch.zeros((self.LSTM_layers, x.size(0), self.hidden_dim))\n",
    "#         c = torch.zeros((self.LSTM_layers, x.size(0), self.hidden_dim))\n",
    "#         torch.nn.init.xavier_normal_(h)\n",
    "#         torch.nn.init.xavier_normal_(c)\n",
    "        out, _ = self.rnn(x, h)\n",
    "#         out = self.dropout(out)\n",
    "        out = torch.relu_(self.fc1(out[:,-1,:]) )\n",
    "#         out = self.dropout(out)\n",
    "        out = self.fc2(out)\n",
    "        return out"
   ]
  },
  {
   "cell_type": "code",
   "execution_count": 41,
   "id": "39a96dc9",
   "metadata": {},
   "outputs": [],
   "source": [
    "class dataset(Dataset):\n",
    "    def __init__(self,all_data,sequence_lenght,feature_col):\n",
    "        self.all_data = all_data\n",
    "        self.sequence_lenght = sequence_lenght\n",
    "        self.feature_col = feature_col\n",
    "        self.X = []\n",
    "        self.Y = [] \n",
    "        self.indeces = []\n",
    "        print(\"preparing data..\")\n",
    "        self.prepare_data()\n",
    "        \n",
    "    def prepare_data(self):\n",
    "        for pair in self.all_data.keys():\n",
    "            for i in tqdm(range(self.sequence_lenght+1,len(self.all_data[pair])) ):\n",
    "    #             if self.df.pivots_h[i-1] or self.df.pivots_l[i-1]:\n",
    "                X_feat = [] \n",
    "                for j in range(self.sequence_lenght):\n",
    "                    feature = []\n",
    "                    feature.append(self.all_data[pair].pivots_h[i-self.sequence_lenght+j])\n",
    "                    feature.append(self.all_data[pair].pivots_l[i-self.sequence_lenght+j])\n",
    "                    for fc in self.feature_col:\n",
    "                        feature.append(self.all_data[pair][fc][i-self.sequence_lenght+j+1])\n",
    "\n",
    "                    X_feat.append(feature)  \n",
    "                self.X.append(np.array(X_feat))# TODO: use torch tensor \n",
    "                self.Y.append(self.all_data[pair].SIGNAL_LABEL[i])\n",
    "                self.indeces.append(i)\n",
    "                \n",
    "    def get_feature_len(self):\n",
    "        return self.X[0].shape[1]\n",
    "    \n",
    "    def __len__(self):\n",
    "        return len(self.Y)\n",
    "    \n",
    "    def __getitem__(self,index):\n",
    "        return torch.from_numpy(self.X[index]).float(),self.Y[index]"
   ]
  },
  {
   "cell_type": "code",
   "execution_count": null,
   "id": "6fb561ef",
   "metadata": {},
   "outputs": [],
   "source": []
  },
  {
   "cell_type": "code",
   "execution_count": 42,
   "id": "abd456bc",
   "metadata": {},
   "outputs": [],
   "source": [
    "epoch = 1000\n",
    "batch_size = 600\n",
    "sequence_lenght = 20"
   ]
  },
  {
   "cell_type": "code",
   "execution_count": 43,
   "id": "d2495bc6",
   "metadata": {},
   "outputs": [
    {
     "name": "stdout",
     "output_type": "stream",
     "text": [
      "preparing data..\n"
     ]
    },
    {
     "name": "stderr",
     "output_type": "stream",
     "text": [
      "100%|███████████████████████████████████████████████████████████████████████████| 15897/15897 [02:02<00:00, 129.29it/s]\n",
      "100%|███████████████████████████████████████████████████████████████████████████| 15900/15900 [02:18<00:00, 114.48it/s]\n",
      "100%|███████████████████████████████████████████████████████████████████████████| 15887/15887 [02:23<00:00, 110.41it/s]\n",
      "100%|███████████████████████████████████████████████████████████████████████████| 15899/15899 [02:17<00:00, 115.67it/s]\n",
      "100%|███████████████████████████████████████████████████████████████████████████| 15881/15881 [02:11<00:00, 120.82it/s]\n"
     ]
    },
    {
     "name": "stdout",
     "output_type": "stream",
     "text": [
      "preparing data..\n"
     ]
    },
    {
     "name": "stderr",
     "output_type": "stream",
     "text": [
      "100%|█████████████████████████████████████████████████████████████████████████████| 3901/3901 [00:31<00:00, 122.80it/s]\n",
      "100%|█████████████████████████████████████████████████████████████████████████████| 3901/3901 [00:31<00:00, 123.97it/s]\n",
      "100%|█████████████████████████████████████████████████████████████████████████████| 3901/3901 [00:33<00:00, 118.15it/s]\n",
      "100%|█████████████████████████████████████████████████████████████████████████████| 3901/3901 [00:33<00:00, 117.37it/s]\n",
      "100%|█████████████████████████████████████████████████████████████████████████████| 3901/3901 [00:30<00:00, 127.26it/s]\n"
     ]
    }
   ],
   "source": [
    "ds_train = dataset(all_data_train,sequence_lenght,feature_col)\n",
    "ds_test = dataset(all_data_test,sequence_lenght,feature_col) "
   ]
  },
  {
   "cell_type": "code",
   "execution_count": 44,
   "id": "de7cfc0d",
   "metadata": {},
   "outputs": [],
   "source": [
    "loader_train = DataLoader(ds_train, batch_size=batch_size,shuffle=True)\n",
    "loader_test = DataLoader(ds_test, batch_size=batch_size,shuffle=False)"
   ]
  },
  {
   "cell_type": "code",
   "execution_count": 45,
   "id": "62b50d0d",
   "metadata": {},
   "outputs": [
    {
     "name": "stdout",
     "output_type": "stream",
     "text": [
      "133\n",
      "33\n",
      "79464\n",
      "19505\n"
     ]
    }
   ],
   "source": [
    "print(len(loader_train))\n",
    "print(len(loader_test))\n",
    "print(len(ds_train))\n",
    "print(len(ds_test))"
   ]
  },
  {
   "cell_type": "code",
   "execution_count": 46,
   "id": "d8f2e3cf",
   "metadata": {},
   "outputs": [
    {
     "data": {
      "text/plain": [
       "26"
      ]
     },
     "execution_count": 46,
     "metadata": {},
     "output_type": "execute_result"
    }
   ],
   "source": [
    "ds_train.get_feature_len() "
   ]
  },
  {
   "cell_type": "code",
   "execution_count": 47,
   "id": "db9a1011",
   "metadata": {},
   "outputs": [],
   "source": [
    "input_size = ds_train.get_feature_len() \n",
    "hidden_dim = 60\n",
    "lstm_layers = 2"
   ]
  },
  {
   "cell_type": "code",
   "execution_count": 48,
   "id": "1ad4e84a",
   "metadata": {},
   "outputs": [],
   "source": [
    "model = RNN(batch_size, input_size, hidden_dim,lstm_layers)"
   ]
  },
  {
   "cell_type": "code",
   "execution_count": 49,
   "id": "0b8f4d27",
   "metadata": {},
   "outputs": [],
   "source": [
    "weight = torch.Tensor([0.45,0.1,0.45])"
   ]
  },
  {
   "cell_type": "code",
   "execution_count": 50,
   "id": "d17083d2",
   "metadata": {},
   "outputs": [],
   "source": [
    "criterion = nn.CrossEntropyLoss(weight=weight)\n",
    "# criterion = nn.CrossEntropyLoss()"
   ]
  },
  {
   "cell_type": "code",
   "execution_count": 51,
   "id": "f1cb2a31",
   "metadata": {},
   "outputs": [],
   "source": [
    "optimizer = optim.Adam(model.parameters(),lr=1e-3)"
   ]
  },
  {
   "cell_type": "code",
   "execution_count": null,
   "id": "6b3e0955",
   "metadata": {},
   "outputs": [
    {
     "name": "stderr",
     "output_type": "stream",
     "text": [
      "100%|████████████████████████████████████████████████████████████████████████████████| 133/133 [00:52<00:00,  2.53it/s]\n",
      "100%|██████████████████████████████████████████████████████████████████████████████████| 33/33 [00:06<00:00,  5.48it/s]\n"
     ]
    },
    {
     "name": "stdout",
     "output_type": "stream",
     "text": [
      "[[4232    0  969]\n",
      " [4486    0 5112]\n",
      " [ 642    0 4064]]\n",
      "0.8780608464004402 0.42532683927198156 0.8635784105397365 0.813689675062488\n"
     ]
    },
    {
     "name": "stderr",
     "output_type": "stream",
     "text": [
      "100%|████████████████████████████████████████████████████████████████████████████████| 133/133 [00:54<00:00,  2.42it/s]\n",
      "100%|██████████████████████████████████████████████████████████████████████████████████| 33/33 [00:07<00:00,  4.55it/s]\n"
     ]
    },
    {
     "name": "stdout",
     "output_type": "stream",
     "text": [
      "[[4459   59  683]\n",
      " [4594  445 4559]\n",
      " [ 798   51 3857]]\n",
      "0.7253772750832981 0.4491668802871059 0.819592010199745 0.857335127860027\n"
     ]
    },
    {
     "name": "stderr",
     "output_type": "stream",
     "text": [
      "100%|████████████████████████████████████████████████████████████████████████████████| 133/133 [01:02<00:00,  2.14it/s]\n",
      "100%|██████████████████████████████████████████████████████████████████████████████████| 33/33 [00:06<00:00,  4.77it/s]\n"
     ]
    },
    {
     "name": "stdout",
     "output_type": "stream",
     "text": [
      "[[4425  110  666]\n",
      " [4358  771 4469]\n",
      " [ 736   82 3888]]\n",
      "0.6781896814367825 0.4657267367341707 0.8261793455163621 0.8507979234762546\n"
     ]
    },
    {
     "name": "stderr",
     "output_type": "stream",
     "text": [
      "100%|████████████████████████████████████████████████████████████████████████████████| 133/133 [01:02<00:00,  2.14it/s]\n",
      "100%|██████████████████████████████████████████████████████████████████████████████████| 33/33 [00:06<00:00,  4.72it/s]\n"
     ]
    },
    {
     "name": "stdout",
     "output_type": "stream",
     "text": [
      "[[4486   79  636]\n",
      " [4369  823 4406]\n",
      " [ 739   78 3889]]\n",
      "0.6595104072327004 0.47157139195078185 0.8263918402039949 0.8625264372236109\n"
     ]
    },
    {
     "name": "stderr",
     "output_type": "stream",
     "text": [
      "100%|████████████████████████████████████████████████████████████████████████████████| 133/133 [01:00<00:00,  2.21it/s]\n",
      "100%|██████████████████████████████████████████████████████████████████████████████████| 33/33 [00:06<00:00,  5.34it/s]\n"
     ]
    },
    {
     "name": "stdout",
     "output_type": "stream",
     "text": [
      "[[4460   93  648]\n",
      " [4309  850 4439]\n",
      " [ 747   70 3889]]\n",
      "0.652164744255238 0.4716226608561907 0.8263918402039949 0.8575273985771967\n"
     ]
    },
    {
     "name": "stderr",
     "output_type": "stream",
     "text": [
      "100%|████████████████████████████████████████████████████████████████████████████████| 133/133 [00:51<00:00,  2.56it/s]\n",
      "100%|██████████████████████████████████████████████████████████████████████████████████| 33/33 [00:06<00:00,  5.44it/s]\n"
     ]
    },
    {
     "name": "stdout",
     "output_type": "stream",
     "text": [
      "[[4679   49  473]\n",
      " [4590  788 4220]\n",
      " [ 878   83 3745]]\n",
      "0.6477962629239362 0.472289156626506 0.7957926051848704 0.8996346856373775\n"
     ]
    },
    {
     "name": "stderr",
     "output_type": "stream",
     "text": [
      "100%|████████████████████████████████████████████████████████████████████████████████| 133/133 [00:55<00:00,  2.42it/s]\n",
      "100%|██████████████████████████████████████████████████████████████████████████████████| 33/33 [00:06<00:00,  4.78it/s]\n"
     ]
    },
    {
     "name": "stdout",
     "output_type": "stream",
     "text": [
      "[[4609   82  510]\n",
      " [4399  849 4350]\n",
      " [ 852   62 3792]]\n",
      "0.6445755886852294 0.47423737503204305 0.8057798555036124 0.8861757354354932\n"
     ]
    },
    {
     "name": "stderr",
     "output_type": "stream",
     "text": [
      "100%|████████████████████████████████████████████████████████████████████████████████| 133/133 [01:09<00:00,  1.92it/s]\n",
      "100%|██████████████████████████████████████████████████████████████████████████████████| 33/33 [00:08<00:00,  4.09it/s]\n"
     ]
    },
    {
     "name": "stdout",
     "output_type": "stream",
     "text": [
      "[[4578   53  570]\n",
      " [4490  849 4259]\n",
      " [ 787   91 3828]]\n",
      "0.6418223761974421 0.4744937195590874 0.8134296642583936 0.8802153432032301\n"
     ]
    },
    {
     "name": "stderr",
     "output_type": "stream",
     "text": [
      "100%|████████████████████████████████████████████████████████████████████████████████| 133/133 [01:04<00:00,  2.05it/s]\n",
      "100%|██████████████████████████████████████████████████████████████████████████████████| 33/33 [00:06<00:00,  4.91it/s]\n"
     ]
    },
    {
     "name": "stdout",
     "output_type": "stream",
     "text": [
      "[[4569   81  551]\n",
      " [4376  872 4350]\n",
      " [ 792   66 3848]]\n",
      "0.6392128642340352 0.47623686234298895 0.8176795580110497 0.8784849067487022\n"
     ]
    },
    {
     "name": "stderr",
     "output_type": "stream",
     "text": [
      "100%|████████████████████████████████████████████████████████████████████████████████| 133/133 [00:50<00:00,  2.65it/s]\n",
      "100%|██████████████████████████████████████████████████████████████████████████████████| 33/33 [00:05<00:00,  5.79it/s]\n"
     ]
    },
    {
     "name": "stdout",
     "output_type": "stream",
     "text": [
      "[[4488   52  661]\n",
      " [4452  881 4265]\n",
      " [ 709   84 3913]]\n",
      "0.636004290186373 0.4758779800051269 0.8314917127071824 0.8629109786579504\n"
     ]
    },
    {
     "name": "stderr",
     "output_type": "stream",
     "text": [
      "100%|████████████████████████████████████████████████████████████████████████████████| 133/133 [00:49<00:00,  2.70it/s]\n",
      "100%|██████████████████████████████████████████████████████████████████████████████████| 33/33 [00:05<00:00,  5.76it/s]\n"
     ]
    },
    {
     "name": "stdout",
     "output_type": "stream",
     "text": [
      "[[4556   69  576]\n",
      " [4343  868 4387]\n",
      " [ 806   68 3832]]\n",
      "0.6342306473201379 0.4745449884644963 0.8142796430089247 0.8759853874254951\n"
     ]
    },
    {
     "name": "stderr",
     "output_type": "stream",
     "text": [
      "100%|████████████████████████████████████████████████████████████████████████████████| 133/133 [00:50<00:00,  2.61it/s]\n",
      "100%|██████████████████████████████████████████████████████████████████████████████████| 33/33 [00:05<00:00,  5.68it/s]\n"
     ]
    },
    {
     "name": "stdout",
     "output_type": "stream",
     "text": [
      "[[4544   92  565]\n",
      " [4230  979 4389]\n",
      " [ 818   63 3825]]\n",
      "0.6323007627537376 0.4792617277621123 0.8127921801954952 0.8736781388194578\n"
     ]
    },
    {
     "name": "stderr",
     "output_type": "stream",
     "text": [
      "100%|████████████████████████████████████████████████████████████████████████████████| 133/133 [00:50<00:00,  2.62it/s]\n",
      "100%|██████████████████████████████████████████████████████████████████████████████████| 33/33 [00:05<00:00,  5.61it/s]\n"
     ]
    },
    {
     "name": "stdout",
     "output_type": "stream",
     "text": [
      "[[4634   54  513]\n",
      " [4557  954 4087]\n",
      " [ 853  104 3749]]\n",
      "0.6304861714965418 0.4786977698026147 0.7966425839354017 0.8909825033647375\n"
     ]
    },
    {
     "name": "stderr",
     "output_type": "stream",
     "text": [
      "100%|████████████████████████████████████████████████████████████████████████████████| 133/133 [00:52<00:00,  2.53it/s]\n",
      "100%|██████████████████████████████████████████████████████████████████████████████████| 33/33 [00:06<00:00,  4.78it/s]\n"
     ]
    },
    {
     "name": "stdout",
     "output_type": "stream",
     "text": [
      "[[4593   57  551]\n",
      " [4465  938 4195]\n",
      " [ 804   84 3818]]\n",
      "0.6275270903917184 0.47931299666752114 0.8113047173820654 0.8830994039607768\n"
     ]
    },
    {
     "name": "stderr",
     "output_type": "stream",
     "text": [
      "100%|████████████████████████████████████████████████████████████████████████████████| 133/133 [00:56<00:00,  2.35it/s]\n",
      "100%|██████████████████████████████████████████████████████████████████████████████████| 33/33 [00:07<00:00,  4.24it/s]\n"
     ]
    },
    {
     "name": "stdout",
     "output_type": "stream",
     "text": [
      "[[4574   86  541]\n",
      " [4384 1157 4057]\n",
      " [ 796  135 3775]]\n",
      "0.6262874661531663 0.48736221481671366 0.8021674458138547 0.8794462603345511\n"
     ]
    },
    {
     "name": "stderr",
     "output_type": "stream",
     "text": [
      "100%|████████████████████████████████████████████████████████████████████████████████| 133/133 [01:10<00:00,  1.89it/s]\n",
      "100%|██████████████████████████████████████████████████████████████████████████████████| 33/33 [00:08<00:00,  4.06it/s]\n"
     ]
    },
    {
     "name": "stdout",
     "output_type": "stream",
     "text": [
      "[[4653   52  496]\n",
      " [4568  863 4167]\n",
      " [ 863   68 3775]]\n",
      "0.6247195278791556 0.4763394001538067 0.8021674458138547 0.8946356469909633\n"
     ]
    },
    {
     "name": "stderr",
     "output_type": "stream",
     "text": [
      "100%|████████████████████████████████████████████████████████████████████████████████| 133/133 [00:58<00:00,  2.28it/s]\n",
      "100%|██████████████████████████████████████████████████████████████████████████████████| 33/33 [00:08<00:00,  3.84it/s]\n"
     ]
    },
    {
     "name": "stdout",
     "output_type": "stream",
     "text": [
      "[[4531   77  593]\n",
      " [4340 1019 4239]\n",
      " [ 758   77 3871]]\n",
      "0.622111051154316 0.4830043578569598 0.8225669358266043 0.8711786194962508\n"
     ]
    },
    {
     "name": "stderr",
     "output_type": "stream",
     "text": [
      "100%|████████████████████████████████████████████████████████████████████████████████| 133/133 [00:59<00:00,  2.25it/s]\n",
      "100%|██████████████████████████████████████████████████████████████████████████████████| 33/33 [00:06<00:00,  5.31it/s]\n"
     ]
    },
    {
     "name": "stdout",
     "output_type": "stream",
     "text": [
      "[[4662   79  460]\n",
      " [4392  981 4225]\n",
      " [ 894   69 3743]]\n",
      "0.6205940797812957 0.48120994616764934 0.7953676158096048 0.8963660834454913\n"
     ]
    },
    {
     "name": "stderr",
     "output_type": "stream",
     "text": [
      "100%|████████████████████████████████████████████████████████████████████████████████| 133/133 [02:12<00:00,  1.00it/s]\n",
      "100%|██████████████████████████████████████████████████████████████████████████████████| 33/33 [00:07<00:00,  4.48it/s]\n"
     ]
    },
    {
     "name": "stdout",
     "output_type": "stream",
     "text": [
      "[[4694   49  458]\n",
      " [4624  861 4113]\n",
      " [ 906   67 3733]]\n",
      "0.6181912901706266 0.4761855934375801 0.7932426689332767 0.902518746394924\n"
     ]
    },
    {
     "name": "stderr",
     "output_type": "stream",
     "text": [
      "100%|████████████████████████████████████████████████████████████████████████████████| 133/133 [01:03<00:00,  2.09it/s]\n",
      "100%|██████████████████████████████████████████████████████████████████████████████████| 33/33 [00:07<00:00,  4.59it/s]\n"
     ]
    },
    {
     "name": "stdout",
     "output_type": "stream",
     "text": [
      "[[4604   77  520]\n",
      " [4409  993 4196]\n",
      " [ 856   74 3776]]\n",
      "0.6177492482321603 0.48054345039733404 0.8023799405014874 0.8852143818496443\n"
     ]
    },
    {
     "name": "stderr",
     "output_type": "stream",
     "text": [
      "100%|████████████████████████████████████████████████████████████████████████████████| 133/133 [00:56<00:00,  2.36it/s]\n",
      "100%|██████████████████████████████████████████████████████████████████████████████████| 33/33 [00:06<00:00,  5.40it/s]\n"
     ]
    },
    {
     "name": "stdout",
     "output_type": "stream",
     "text": [
      "[[4624   57  520]\n",
      " [4436  828 4334]\n",
      " [ 834   40 3832]]\n",
      "0.614734249007433 0.47598051781594464 0.8142796430089247 0.8890597961930398\n"
     ]
    },
    {
     "name": "stderr",
     "output_type": "stream",
     "text": [
      "100%|████████████████████████████████████████████████████████████████████████████████| 133/133 [00:52<00:00,  2.52it/s]\n",
      "100%|██████████████████████████████████████████████████████████████████████████████████| 33/33 [00:06<00:00,  5.48it/s]\n"
     ]
    },
    {
     "name": "stdout",
     "output_type": "stream",
     "text": [
      "[[4363   64  774]\n",
      " [4281  891 4426]\n",
      " [ 642   45 4019]]\n",
      "0.6129693863983441 0.47541655985644704 0.85401614959626 0.8388771390117286\n"
     ]
    },
    {
     "name": "stderr",
     "output_type": "stream",
     "text": [
      "100%|████████████████████████████████████████████████████████████████████████████████| 133/133 [00:50<00:00,  2.65it/s]\n",
      "100%|██████████████████████████████████████████████████████████████████████████████████| 33/33 [00:06<00:00,  5.29it/s]\n"
     ]
    },
    {
     "name": "stdout",
     "output_type": "stream",
     "text": [
      "[[4518   88  595]\n",
      " [4332 1009 4257]\n",
      " [ 780   79 3847]]\n",
      "0.611346137254758 0.4805947193027429 0.8174670633234169 0.8686791001730436\n"
     ]
    },
    {
     "name": "stderr",
     "output_type": "stream",
     "text": [
      "100%|████████████████████████████████████████████████████████████████████████████████| 133/133 [00:52<00:00,  2.56it/s]\n",
      "100%|██████████████████████████████████████████████████████████████████████████████████| 33/33 [00:06<00:00,  5.32it/s]\n"
     ]
    },
    {
     "name": "stdout",
     "output_type": "stream",
     "text": [
      "[[4490   70  641]\n",
      " [4382  977 4239]\n",
      " [ 726  100 3880]]\n",
      "0.6096586741899189 0.47921045885670344 0.8244793880152996 0.8632955200922899\n"
     ]
    },
    {
     "name": "stderr",
     "output_type": "stream",
     "text": [
      "100%|████████████████████████████████████████████████████████████████████████████████| 133/133 [00:52<00:00,  2.51it/s]\n",
      "100%|██████████████████████████████████████████████████████████████████████████████████| 33/33 [00:05<00:00,  6.52it/s]\n"
     ]
    },
    {
     "name": "stdout",
     "output_type": "stream",
     "text": [
      "[[4627   56  518]\n",
      " [4537  854 4207]\n",
      " [ 873   62 3771]]\n",
      "0.60724129174885 0.4743399128428608 0.8013174670633234 0.8896366083445492\n"
     ]
    },
    {
     "name": "stderr",
     "output_type": "stream",
     "text": [
      "100%|████████████████████████████████████████████████████████████████████████████████| 133/133 [00:47<00:00,  2.80it/s]\n",
      "100%|██████████████████████████████████████████████████████████████████████████████████| 33/33 [00:05<00:00,  6.59it/s]\n"
     ]
    },
    {
     "name": "stdout",
     "output_type": "stream",
     "text": [
      "[[4536  102  563]\n",
      " [4331 1067 4200]\n",
      " [ 799   99 3808]]\n",
      "0.6046684594978964 0.48249166880287103 0.8091797705057373 0.8721399730820996\n"
     ]
    },
    {
     "name": "stderr",
     "output_type": "stream",
     "text": [
      "100%|████████████████████████████████████████████████████████████████████████████████| 133/133 [00:44<00:00,  3.01it/s]\n",
      "100%|██████████████████████████████████████████████████████████████████████████████████| 33/33 [00:06<00:00,  5.26it/s]\n"
     ]
    },
    {
     "name": "stdout",
     "output_type": "stream",
     "text": [
      "[[4493   84  624]\n",
      " [4308 1029 4261]\n",
      " [ 781   88 3837]]\n",
      "0.6026226954352587 0.47982568572160983 0.8153421164470889 0.8638723322437992\n"
     ]
    },
    {
     "name": "stderr",
     "output_type": "stream",
     "text": [
      "100%|████████████████████████████████████████████████████████████████████████████████| 133/133 [00:48<00:00,  2.77it/s]\n",
      "100%|██████████████████████████████████████████████████████████████████████████████████| 33/33 [00:05<00:00,  5.80it/s]\n"
     ]
    },
    {
     "name": "stdout",
     "output_type": "stream",
     "text": [
      "[[4524   89  588]\n",
      " [4399 1063 4136]\n",
      " [ 820  105 3781]]\n",
      "0.6006275657424354 0.48028710587028967 0.8034424139396515 0.8698327244760623\n"
     ]
    },
    {
     "name": "stderr",
     "output_type": "stream",
     "text": [
      "100%|████████████████████████████████████████████████████████████████████████████████| 133/133 [00:52<00:00,  2.56it/s]\n",
      "100%|██████████████████████████████████████████████████████████████████████████████████| 33/33 [00:05<00:00,  6.43it/s]\n"
     ]
    },
    {
     "name": "stdout",
     "output_type": "stream",
     "text": [
      "[[4466  152  583]\n",
      " [4184 1339 4075]\n",
      " [ 779  162 3765]]\n",
      "0.5973829483627376 0.4906434247628813 0.8000424989375265 0.8586810228802153\n"
     ]
    },
    {
     "name": "stderr",
     "output_type": "stream",
     "text": [
      "100%|████████████████████████████████████████████████████████████████████████████████| 133/133 [00:43<00:00,  3.06it/s]\n",
      "100%|██████████████████████████████████████████████████████████████████████████████████| 33/33 [00:05<00:00,  6.56it/s]\n"
     ]
    },
    {
     "name": "stdout",
     "output_type": "stream",
     "text": [
      "[[4546   88  567]\n",
      " [4416 1007 4175]\n",
      " [ 843   96 3767]]\n",
      "0.5953338854294971 0.4778261984106639 0.8004674883127921 0.8740626802537973\n"
     ]
    },
    {
     "name": "stderr",
     "output_type": "stream",
     "text": [
      "100%|████████████████████████████████████████████████████████████████████████████████| 133/133 [00:45<00:00,  2.90it/s]\n",
      "100%|██████████████████████████████████████████████████████████████████████████████████| 33/33 [00:05<00:00,  5.84it/s]\n"
     ]
    },
    {
     "name": "stdout",
     "output_type": "stream",
     "text": [
      "[[4595   84  522]\n",
      " [4454 1034 4110]\n",
      " [ 865  100 3741]]\n",
      "0.5916881525426879 0.4803896436811074 0.7949426264343391 0.8834839453951163\n"
     ]
    },
    {
     "name": "stderr",
     "output_type": "stream",
     "text": [
      "100%|████████████████████████████████████████████████████████████████████████████████| 133/133 [00:46<00:00,  2.87it/s]\n",
      "100%|██████████████████████████████████████████████████████████████████████████████████| 33/33 [00:05<00:00,  6.39it/s]\n"
     ]
    },
    {
     "name": "stdout",
     "output_type": "stream",
     "text": [
      "[[4492  113  596]\n",
      " [4340 1157 4101]\n",
      " [ 795  136 3775]]\n",
      "0.5886930608211604 0.4831581645731864 0.8021674458138547 0.8636800615266295\n"
     ]
    },
    {
     "name": "stderr",
     "output_type": "stream",
     "text": [
      "100%|████████████████████████████████████████████████████████████████████████████████| 133/133 [00:44<00:00,  2.96it/s]\n",
      "100%|██████████████████████████████████████████████████████████████████████████████████| 33/33 [00:05<00:00,  6.29it/s]\n"
     ]
    },
    {
     "name": "stdout",
     "output_type": "stream",
     "text": [
      "[[4539   98  564]\n",
      " [4372 1109 4117]\n",
      " [ 877  115 3714]]\n",
      "0.5854589087622506 0.47997949243783644 0.7892052698682533 0.872716785233609\n"
     ]
    },
    {
     "name": "stderr",
     "output_type": "stream",
     "text": [
      "100%|████████████████████████████████████████████████████████████████████████████████| 133/133 [00:46<00:00,  2.86it/s]\n",
      "100%|██████████████████████████████████████████████████████████████████████████████████| 33/33 [00:05<00:00,  5.93it/s]\n"
     ]
    },
    {
     "name": "stdout",
     "output_type": "stream",
     "text": [
      "[[4477  103  621]\n",
      " [4342 1162 4094]\n",
      " [ 785  143 3778]]\n",
      "0.5817908223410299 0.48279928223532426 0.8028049298767531 0.8607960007690829\n"
     ]
    },
    {
     "name": "stderr",
     "output_type": "stream",
     "text": [
      "100%|████████████████████████████████████████████████████████████████████████████████| 133/133 [00:47<00:00,  2.82it/s]\n",
      "100%|██████████████████████████████████████████████████████████████████████████████████| 33/33 [00:05<00:00,  6.32it/s]\n"
     ]
    },
    {
     "name": "stdout",
     "output_type": "stream",
     "text": [
      "[[4338  137  726]\n",
      " [4224 1226 4148]\n",
      " [ 697  133 3876]]\n",
      "0.5785577875330932 0.4839784670597283 0.8236294092647684 0.8340703710824842\n"
     ]
    },
    {
     "name": "stderr",
     "output_type": "stream",
     "text": [
      "100%|████████████████████████████████████████████████████████████████████████████████| 133/133 [00:45<00:00,  2.90it/s]\n",
      "100%|██████████████████████████████████████████████████████████████████████████████████| 33/33 [00:05<00:00,  5.91it/s]\n"
     ]
    },
    {
     "name": "stdout",
     "output_type": "stream",
     "text": [
      "[[4411  137  653]\n",
      " [4228 1125 4245]\n",
      " [ 767  107 3832]]\n",
      "0.5744353353529048 0.48028710587028967 0.8142796430089247 0.8481061334358777\n"
     ]
    },
    {
     "name": "stderr",
     "output_type": "stream",
     "text": [
      "100%|████████████████████████████████████████████████████████████████████████████████| 133/133 [00:45<00:00,  2.90it/s]\n",
      "100%|██████████████████████████████████████████████████████████████████████████████████| 33/33 [00:05<00:00,  6.22it/s]\n"
     ]
    },
    {
     "name": "stdout",
     "output_type": "stream",
     "text": [
      "[[4484  146  571]\n",
      " [4355 1238 4005]\n",
      " [ 875  155 3676]]\n",
      "0.5707160104486279 0.48182517303255573 0.7811304717382066 0.8621418957892713\n"
     ]
    },
    {
     "name": "stderr",
     "output_type": "stream",
     "text": [
      "100%|████████████████████████████████████████████████████████████████████████████████| 133/133 [00:46<00:00,  2.85it/s]\n",
      "100%|██████████████████████████████████████████████████████████████████████████████████| 33/33 [00:05<00:00,  6.50it/s]\n"
     ]
    },
    {
     "name": "stdout",
     "output_type": "stream",
     "text": [
      "[[4392  157  652]\n",
      " [4196 1360 4042]\n",
      " [ 781  172 3753]]\n",
      "0.5655419521762016 0.4873109459113048 0.7974925626859328 0.844452989809652\n"
     ]
    },
    {
     "name": "stderr",
     "output_type": "stream",
     "text": [
      "100%|████████████████████████████████████████████████████████████████████████████████| 133/133 [00:52<00:00,  2.52it/s]\n",
      "100%|██████████████████████████████████████████████████████████████████████████████████| 33/33 [00:05<00:00,  5.71it/s]\n"
     ]
    },
    {
     "name": "stdout",
     "output_type": "stream",
     "text": [
      "[[4412  155  634]\n",
      " [4237 1270 4091]\n",
      " [ 792  149 3765]]\n",
      "0.5621906232116813 0.4843373493975904 0.8000424989375265 0.8482984041530475\n"
     ]
    },
    {
     "name": "stderr",
     "output_type": "stream",
     "text": [
      "100%|████████████████████████████████████████████████████████████████████████████████| 133/133 [00:51<00:00,  2.58it/s]\n",
      "100%|██████████████████████████████████████████████████████████████████████████████████| 33/33 [00:05<00:00,  5.61it/s]\n"
     ]
    },
    {
     "name": "stdout",
     "output_type": "stream",
     "text": [
      "[[4270  167  764]\n",
      " [4141 1237 4220]\n",
      " [ 739  140 3827]]\n",
      "0.5579979728935356 0.4785439630863881 0.8132171695707607 0.8209959623149394\n"
     ]
    },
    {
     "name": "stderr",
     "output_type": "stream",
     "text": [
      "100%|████████████████████████████████████████████████████████████████████████████████| 133/133 [00:49<00:00,  2.69it/s]\n",
      "100%|██████████████████████████████████████████████████████████████████████████████████| 33/33 [00:05<00:00,  5.97it/s]\n"
     ]
    },
    {
     "name": "stdout",
     "output_type": "stream",
     "text": [
      "[[4290  163  748]\n",
      " [4118 1296 4184]\n",
      " [ 715  153 3838]]\n",
      "0.5521130557347061 0.4831581645731864 0.8155546111347216 0.8248413766583349\n"
     ]
    },
    {
     "name": "stderr",
     "output_type": "stream",
     "text": [
      "100%|████████████████████████████████████████████████████████████████████████████████| 133/133 [00:50<00:00,  2.63it/s]\n",
      "100%|██████████████████████████████████████████████████████████████████████████████████| 33/33 [00:05<00:00,  6.05it/s]\n"
     ]
    },
    {
     "name": "stdout",
     "output_type": "stream",
     "text": [
      "[[4325  179  697]\n",
      " [4214 1393 3991]\n",
      " [ 799  223 3684]]\n",
      "0.5464531169798141 0.48203024865419125 0.782830429239269 0.831570851759277\n"
     ]
    },
    {
     "name": "stderr",
     "output_type": "stream",
     "text": [
      "100%|████████████████████████████████████████████████████████████████████████████████| 133/133 [00:47<00:00,  2.83it/s]\n",
      "100%|██████████████████████████████████████████████████████████████████████████████████| 33/33 [00:05<00:00,  5.86it/s]\n"
     ]
    },
    {
     "name": "stdout",
     "output_type": "stream",
     "text": [
      "[[4248  209  744]\n",
      " [4026 1343 4229]\n",
      " [ 739  161 3806]]\n",
      "0.5412894317081997 0.4817739041271469 0.8087547811304717 0.8167660065372044\n"
     ]
    },
    {
     "name": "stderr",
     "output_type": "stream",
     "text": [
      "100%|████████████████████████████████████████████████████████████████████████████████| 133/133 [00:51<00:00,  2.59it/s]\n",
      "100%|██████████████████████████████████████████████████████████████████████████████████| 33/33 [00:05<00:00,  6.31it/s]\n"
     ]
    },
    {
     "name": "stdout",
     "output_type": "stream",
     "text": [
      "[[4351  193  657]\n",
      " [4218 1430 3950]\n",
      " [ 828  235 3643]]\n",
      "0.5351133198666393 0.4831581645731864 0.7741181470463239 0.8365698904056912\n"
     ]
    },
    {
     "name": "stderr",
     "output_type": "stream",
     "text": [
      "100%|████████████████████████████████████████████████████████████████████████████████| 133/133 [00:49<00:00,  2.71it/s]\n",
      "100%|██████████████████████████████████████████████████████████████████████████████████| 33/33 [00:06<00:00,  5.30it/s]\n"
     ]
    },
    {
     "name": "stdout",
     "output_type": "stream",
     "text": [
      "[[4224  219  758]\n",
      " [4091 1389 4118]\n",
      " [ 770  182 3754]]\n",
      "0.5310157398532208 0.4802358369648808 0.7977050573735657 0.8121515093251298\n"
     ]
    },
    {
     "name": "stderr",
     "output_type": "stream",
     "text": [
      "100%|████████████████████████████████████████████████████████████████████████████████| 133/133 [00:52<00:00,  2.55it/s]\n",
      "100%|██████████████████████████████████████████████████████████████████████████████████| 33/33 [00:06<00:00,  5.37it/s]\n"
     ]
    },
    {
     "name": "stdout",
     "output_type": "stream",
     "text": [
      "[[4310  213  678]\n",
      " [4191 1427 3980]\n",
      " [ 808  234 3664]]\n",
      "0.5249728668004947 0.48197897974878234 0.7785805354866129 0.8286867910017305\n"
     ]
    },
    {
     "name": "stderr",
     "output_type": "stream",
     "text": [
      "100%|████████████████████████████████████████████████████████████████████████████████| 133/133 [00:54<00:00,  2.46it/s]\n",
      "100%|██████████████████████████████████████████████████████████████████████████████████| 33/33 [00:05<00:00,  6.31it/s]\n"
     ]
    },
    {
     "name": "stdout",
     "output_type": "stream",
     "text": [
      "[[4193  288  720]\n",
      " [4061 1567 3970]\n",
      " [ 763  274 3669]]\n",
      "0.5188597568443843 0.4834145091002307 0.7796430089247769 0.8061911170928667\n"
     ]
    },
    {
     "name": "stderr",
     "output_type": "stream",
     "text": [
      "100%|████████████████████████████████████████████████████████████████████████████████| 133/133 [00:47<00:00,  2.78it/s]\n",
      "100%|██████████████████████████████████████████████████████████████████████████████████| 33/33 [00:05<00:00,  6.37it/s]\n"
     ]
    },
    {
     "name": "stdout",
     "output_type": "stream",
     "text": [
      "[[4131  323  747]\n",
      " [3977 1508 4113]\n",
      " [ 740  192 3774]]\n",
      "0.5128049238731986 0.4825942066136888 0.8019549511262218 0.7942703326283407\n"
     ]
    },
    {
     "name": "stderr",
     "output_type": "stream",
     "text": [
      "100%|████████████████████████████████████████████████████████████████████████████████| 133/133 [00:44<00:00,  2.99it/s]\n",
      "100%|██████████████████████████████████████████████████████████████████████████████████| 33/33 [00:05<00:00,  6.10it/s]\n"
     ]
    },
    {
     "name": "stdout",
     "output_type": "stream",
     "text": [
      "[[4137  330  734]\n",
      " [4064 1628 3906]\n",
      " [ 779  280 3647]]\n",
      "0.5069443785158315 0.48254293770827994 0.774968125796855 0.7954239569313594\n"
     ]
    },
    {
     "name": "stderr",
     "output_type": "stream",
     "text": [
      "100%|████████████████████████████████████████████████████████████████████████████████| 133/133 [00:45<00:00,  2.90it/s]\n",
      "100%|██████████████████████████████████████████████████████████████████████████████████| 33/33 [00:05<00:00,  6.36it/s]\n"
     ]
    },
    {
     "name": "stdout",
     "output_type": "stream",
     "text": [
      "[[4218  295  688]\n",
      " [4061 1432 4105]\n",
      " [ 838  207 3661]]\n",
      "0.50151749123308 0.4773647782619841 0.7779430514237144 0.8109978850221111\n"
     ]
    },
    {
     "name": "stderr",
     "output_type": "stream",
     "text": [
      "100%|████████████████████████████████████████████████████████████████████████████████| 133/133 [00:45<00:00,  2.93it/s]\n",
      "100%|██████████████████████████████████████████████████████████████████████████████████| 33/33 [00:05<00:00,  6.34it/s]\n"
     ]
    },
    {
     "name": "stdout",
     "output_type": "stream",
     "text": [
      "[[3926  476  799]\n",
      " [3767 1838 3993]\n",
      " [ 719  282 3705]]\n",
      "0.49530259671067833 0.4854652653165855 0.787292817679558 0.7548548356085368\n"
     ]
    },
    {
     "name": "stderr",
     "output_type": "stream",
     "text": [
      "100%|████████████████████████████████████████████████████████████████████████████████| 133/133 [00:46<00:00,  2.85it/s]\n",
      "100%|██████████████████████████████████████████████████████████████████████████████████| 33/33 [00:05<00:00,  5.67it/s]\n"
     ]
    },
    {
     "name": "stdout",
     "output_type": "stream",
     "text": [
      "[[4003  411  787]\n",
      " [3881 1690 4027]\n",
      " [ 729  257 3720]]\n",
      "0.48785600559155745 0.4825942066136888 0.7904802379940501 0.7696596808306095\n"
     ]
    },
    {
     "name": "stderr",
     "output_type": "stream",
     "text": [
      "100%|████████████████████████████████████████████████████████████████████████████████| 133/133 [00:45<00:00,  2.91it/s]\n",
      "100%|██████████████████████████████████████████████████████████████████████████████████| 33/33 [00:05<00:00,  6.31it/s]\n"
     ]
    },
    {
     "name": "stdout",
     "output_type": "stream",
     "text": [
      "[[4137  337  727]\n",
      " [4059 1774 3765]\n",
      " [ 799  383 3524]]\n",
      "0.48291255612122386 0.48372212253268393 0.7488312792180195 0.7954239569313594\n"
     ]
    },
    {
     "name": "stderr",
     "output_type": "stream",
     "text": [
      "100%|████████████████████████████████████████████████████████████████████████████████| 133/133 [00:45<00:00,  2.89it/s]\n",
      "100%|██████████████████████████████████████████████████████████████████████████████████| 33/33 [00:05<00:00,  6.10it/s]\n"
     ]
    },
    {
     "name": "stdout",
     "output_type": "stream",
     "text": [
      "[[3991  445  765]\n",
      " [3871 1876 3851]\n",
      " [ 792  338 3576]]\n",
      "0.476551045600633 0.48413227377595486 0.7598810029749257 0.7673524322245722\n"
     ]
    },
    {
     "name": "stderr",
     "output_type": "stream",
     "text": [
      "100%|████████████████████████████████████████████████████████████████████████████████| 133/133 [00:52<00:00,  2.56it/s]\n",
      "100%|██████████████████████████████████████████████████████████████████████████████████| 33/33 [00:06<00:00,  5.29it/s]\n"
     ]
    },
    {
     "name": "stdout",
     "output_type": "stream",
     "text": [
      "[[4016  420  765]\n",
      " [3907 1798 3893]\n",
      " [ 795  302 3609]]\n",
      "0.4704478094004151 0.4831068956677775 0.7668933276668083 0.7721592001538166\n"
     ]
    },
    {
     "name": "stderr",
     "output_type": "stream",
     "text": [
      "100%|████████████████████████████████████████████████████████████████████████████████| 133/133 [00:53<00:00,  2.47it/s]\n",
      "100%|██████████████████████████████████████████████████████████████████████████████████| 33/33 [00:05<00:00,  5.98it/s]\n"
     ]
    },
    {
     "name": "stdout",
     "output_type": "stream",
     "text": [
      "[[4119  380  702]\n",
      " [4037 1924 3637]\n",
      " [ 837  415 3454]]\n",
      "0.46415627809395466 0.4869007946680338 0.7339566510837229 0.7919630840223034\n"
     ]
    },
    {
     "name": "stderr",
     "output_type": "stream",
     "text": [
      "100%|████████████████████████████████████████████████████████████████████████████████| 133/133 [00:55<00:00,  2.40it/s]\n",
      "100%|██████████████████████████████████████████████████████████████████████████████████| 33/33 [00:07<00:00,  4.51it/s]\n"
     ]
    },
    {
     "name": "stdout",
     "output_type": "stream",
     "text": [
      "[[3952  434  815]\n",
      " [3882 1816 3900]\n",
      " [ 784  326 3596]]\n",
      "0.45542328384585845 0.4800820302486542 0.7641308967275818 0.759853874254951\n"
     ]
    },
    {
     "name": "stderr",
     "output_type": "stream",
     "text": [
      "100%|████████████████████████████████████████████████████████████████████████████████| 133/133 [00:51<00:00,  2.57it/s]\n",
      "100%|██████████████████████████████████████████████████████████████████████████████████| 33/33 [00:06<00:00,  5.22it/s]\n"
     ]
    },
    {
     "name": "stdout",
     "output_type": "stream",
     "text": [
      "[[3807  518  876]\n",
      " [3667 1984 3947]\n",
      " [ 708  375 3623]]\n",
      "0.45010251591080114 0.48264547551909764 0.7698682532936677 0.7319746202653336\n"
     ]
    },
    {
     "name": "stderr",
     "output_type": "stream",
     "text": [
      "100%|████████████████████████████████████████████████████████████████████████████████| 133/133 [00:53<00:00,  2.51it/s]\n",
      "100%|██████████████████████████████████████████████████████████████████████████████████| 33/33 [00:06<00:00,  5.42it/s]\n"
     ]
    },
    {
     "name": "stdout",
     "output_type": "stream",
     "text": [
      "[[3823  553  825]\n",
      " [3668 2122 3808]\n",
      " [ 701  422 3583]]\n",
      "0.44491217234977204 0.4884901307357088 0.7613684657883553 0.73505095174005\n"
     ]
    },
    {
     "name": "stderr",
     "output_type": "stream",
     "text": [
      "100%|████████████████████████████████████████████████████████████████████████████████| 133/133 [00:54<00:00,  2.44it/s]\n",
      "100%|██████████████████████████████████████████████████████████████████████████████████| 33/33 [00:05<00:00,  6.16it/s]\n"
     ]
    },
    {
     "name": "stdout",
     "output_type": "stream",
     "text": [
      "[[3790  572  839]\n",
      " [3586 2206 3806]\n",
      " [ 711  460 3535]]\n",
      "0.43834543810751203 0.4886439374519354 0.7511687207819805 0.7287060180734474\n"
     ]
    },
    {
     "name": "stderr",
     "output_type": "stream",
     "text": [
      "100%|████████████████████████████████████████████████████████████████████████████████| 133/133 [00:55<00:00,  2.39it/s]\n",
      "100%|██████████████████████████████████████████████████████████████████████████████████| 33/33 [00:07<00:00,  4.46it/s]\n"
     ]
    },
    {
     "name": "stdout",
     "output_type": "stream",
     "text": [
      "[[3975  492  734]\n",
      " [3816 2304 3478]\n",
      " [ 821  583 3302]]\n",
      "0.43331350890317355 0.4912073827223789 0.7016574585635359 0.7642761007498557\n"
     ]
    },
    {
     "name": "stderr",
     "output_type": "stream",
     "text": [
      "100%|████████████████████████████████████████████████████████████████████████████████| 133/133 [00:47<00:00,  2.80it/s]\n",
      "100%|██████████████████████████████████████████████████████████████████████████████████| 33/33 [00:05<00:00,  6.24it/s]\n"
     ]
    },
    {
     "name": "stdout",
     "output_type": "stream",
     "text": [
      "[[3796  588  817]\n",
      " [3679 2258 3661]\n",
      " [ 741  459 3506]]\n",
      "0.4286137147057325 0.4901307357087926 0.745006374840629 0.7298596423764661\n"
     ]
    },
    {
     "name": "stderr",
     "output_type": "stream",
     "text": [
      "100%|████████████████████████████████████████████████████████████████████████████████| 133/133 [00:50<00:00,  2.64it/s]\n",
      "100%|██████████████████████████████████████████████████████████████████████████████████| 33/33 [00:06<00:00,  5.34it/s]\n"
     ]
    },
    {
     "name": "stdout",
     "output_type": "stream",
     "text": [
      "[[3897  566  738]\n",
      " [3738 2208 3652]\n",
      " [ 802  506 3398]]\n",
      "0.42083105131199483 0.48720840810048704 0.7220569485762856 0.7492789848106134\n"
     ]
    },
    {
     "name": "stderr",
     "output_type": "stream",
     "text": [
      "100%|████████████████████████████████████████████████████████████████████████████████| 133/133 [00:56<00:00,  2.37it/s]\n",
      "100%|██████████████████████████████████████████████████████████████████████████████████| 33/33 [00:05<00:00,  6.28it/s]\n"
     ]
    },
    {
     "name": "stdout",
     "output_type": "stream",
     "text": [
      "[[3516  818  867]\n",
      " [3281 2546 3771]\n",
      " [ 677  481 3548]]\n",
      "0.4157006019040158 0.4926941809792361 0.753931151721207 0.676023841568929\n"
     ]
    },
    {
     "name": "stderr",
     "output_type": "stream",
     "text": [
      "100%|████████████████████████████████████████████████████████████████████████████████| 133/133 [00:55<00:00,  2.42it/s]\n",
      "100%|██████████████████████████████████████████████████████████████████████████████████| 33/33 [00:05<00:00,  5.85it/s]\n"
     ]
    },
    {
     "name": "stdout",
     "output_type": "stream",
     "text": [
      "[[3630  721  850]\n",
      " [3423 2525 3650]\n",
      " [ 693  544 3469]]\n",
      "0.41003576145136267 0.49341194565496027 0.737144071398215 0.6979427033262834\n"
     ]
    },
    {
     "name": "stderr",
     "output_type": "stream",
     "text": [
      "100%|████████████████████████████████████████████████████████████████████████████████| 133/133 [00:47<00:00,  2.77it/s]\n",
      "100%|██████████████████████████████████████████████████████████████████████████████████| 33/33 [00:06<00:00,  4.95it/s]\n"
     ]
    },
    {
     "name": "stdout",
     "output_type": "stream",
     "text": [
      "[[3746  720  735]\n",
      " [3514 2552 3532]\n",
      " [ 789  568 3349]]\n",
      "0.40446996599211726 0.49459113047936426 0.7116447088822779 0.7202461065179773\n"
     ]
    },
    {
     "name": "stderr",
     "output_type": "stream",
     "text": [
      "100%|████████████████████████████████████████████████████████████████████████████████| 133/133 [00:55<00:00,  2.39it/s]\n",
      "100%|██████████████████████████████████████████████████████████████████████████████████| 33/33 [00:06<00:00,  4.86it/s]\n"
     ]
    },
    {
     "name": "stdout",
     "output_type": "stream",
     "text": [
      "[[3473  911  817]\n",
      " [3129 2835 3634]\n",
      " [ 704  565 3437]]\n",
      "0.398622711350147 0.4996154832094335 0.7303442413939651 0.6677562007306287\n"
     ]
    },
    {
     "name": "stderr",
     "output_type": "stream",
     "text": [
      "100%|████████████████████████████████████████████████████████████████████████████████| 133/133 [00:57<00:00,  2.32it/s]\n",
      "100%|██████████████████████████████████████████████████████████████████████████████████| 33/33 [00:05<00:00,  5.75it/s]\n"
     ]
    },
    {
     "name": "stdout",
     "output_type": "stream",
     "text": [
      "[[3739  695  767]\n",
      " [3495 2566 3537]\n",
      " [ 768  613 3325]]\n",
      "0.39471731262099474 0.4937195590874135 0.7065448363790905 0.7189002114977889\n"
     ]
    },
    {
     "name": "stderr",
     "output_type": "stream",
     "text": [
      "100%|████████████████████████████████████████████████████████████████████████████████| 133/133 [00:58<00:00,  2.29it/s]\n",
      "100%|██████████████████████████████████████████████████████████████████████████████████| 33/33 [00:05<00:00,  5.85it/s]\n"
     ]
    },
    {
     "name": "stdout",
     "output_type": "stream",
     "text": [
      "[[3867  654  680]\n",
      " [3589 2687 3322]\n",
      " [ 789  739 3178]]\n",
      "0.38821713413511005 0.4989489874391182 0.6753081172970675 0.7435108632955201\n"
     ]
    },
    {
     "name": "stderr",
     "output_type": "stream",
     "text": [
      "100%|████████████████████████████████████████████████████████████████████████████████| 133/133 [01:06<00:00,  2.00it/s]\n",
      "100%|██████████████████████████████████████████████████████████████████████████████████| 33/33 [00:07<00:00,  4.22it/s]\n"
     ]
    },
    {
     "name": "stdout",
     "output_type": "stream",
     "text": [
      "[[3748  698  755]\n",
      " [3487 2714 3397]\n",
      " [ 758  706 3242]]\n",
      "0.38368164596701027 0.49751345808766984 0.6889077773055674 0.7206306479523169\n"
     ]
    },
    {
     "name": "stderr",
     "output_type": "stream",
     "text": [
      "100%|████████████████████████████████████████████████████████████████████████████████| 133/133 [01:09<00:00,  1.91it/s]\n",
      "100%|██████████████████████████████████████████████████████████████████████████████████| 33/33 [00:05<00:00,  5.94it/s]\n"
     ]
    },
    {
     "name": "stdout",
     "output_type": "stream",
     "text": [
      "[[3685  789  727]\n",
      " [3405 2748 3445]\n",
      " [ 751  665 3290]]\n",
      "0.3766144543213952 0.49848756729043836 0.6991075223119422 0.708517592770621\n"
     ]
    },
    {
     "name": "stderr",
     "output_type": "stream",
     "text": [
      "100%|████████████████████████████████████████████████████████████████████████████████| 133/133 [00:57<00:00,  2.32it/s]\n",
      "100%|██████████████████████████████████████████████████████████████████████████████████| 33/33 [00:07<00:00,  4.46it/s]\n"
     ]
    },
    {
     "name": "stdout",
     "output_type": "stream",
     "text": [
      "[[3505  856  840]\n",
      " [3176 2937 3485]\n",
      " [ 696  680 3330]]\n",
      "0.3744299664981383 0.500999743655473 0.7076073098172546 0.6739088636800615\n"
     ]
    },
    {
     "name": "stderr",
     "output_type": "stream",
     "text": [
      "100%|████████████████████████████████████████████████████████████████████████████████| 133/133 [01:01<00:00,  2.18it/s]\n",
      "100%|██████████████████████████████████████████████████████████████████████████████████| 33/33 [00:06<00:00,  5.14it/s]\n"
     ]
    },
    {
     "name": "stdout",
     "output_type": "stream",
     "text": [
      "[[3628  817  756]\n",
      " [3291 2879 3428]\n",
      " [ 738  727 3241]]\n",
      "0.37026648346642804 0.4997692899256601 0.6886952826179346 0.6975581618919439\n"
     ]
    },
    {
     "name": "stderr",
     "output_type": "stream",
     "text": [
      "100%|████████████████████████████████████████████████████████████████████████████████| 133/133 [00:52<00:00,  2.55it/s]\n",
      "100%|██████████████████████████████████████████████████████████████████████████████████| 33/33 [00:05<00:00,  6.09it/s]\n"
     ]
    },
    {
     "name": "stdout",
     "output_type": "stream",
     "text": [
      "[[3652  842  707]\n",
      " [3320 2828 3450]\n",
      " [ 774  677 3255]]\n",
      "0.36272778770977393 0.4991027941553448 0.6916702082447939 0.7021726591040185\n"
     ]
    },
    {
     "name": "stderr",
     "output_type": "stream",
     "text": [
      "100%|████████████████████████████████████████████████████████████████████████████████| 133/133 [00:51<00:00,  2.60it/s]\n",
      "100%|██████████████████████████████████████████████████████████████████████████████████| 33/33 [00:06<00:00,  5.28it/s]\n"
     ]
    },
    {
     "name": "stdout",
     "output_type": "stream",
     "text": [
      "[[3455  957  789]\n",
      " [3147 2922 3529]\n",
      " [ 695  672 3339]]\n",
      "0.35834181734493803 0.4981286849525763 0.7095197620059499 0.6642953278215727\n"
     ]
    },
    {
     "name": "stderr",
     "output_type": "stream",
     "text": [
      "100%|████████████████████████████████████████████████████████████████████████████████| 133/133 [00:51<00:00,  2.56it/s]\n",
      "100%|██████████████████████████████████████████████████████████████████████████████████| 33/33 [00:05<00:00,  5.95it/s]\n"
     ]
    },
    {
     "name": "stdout",
     "output_type": "stream",
     "text": [
      "[[3415 1027  759]\n",
      " [3031 3156 3411]\n",
      " [ 709  784 3213]]\n",
      "0.35227892407797334 0.5016149705203794 0.682745431364216 0.6566044991347818\n"
     ]
    },
    {
     "name": "stderr",
     "output_type": "stream",
     "text": [
      "100%|████████████████████████████████████████████████████████████████████████████████| 133/133 [00:51<00:00,  2.60it/s]\n",
      "100%|██████████████████████████████████████████████████████████████████████████████████| 33/33 [00:05<00:00,  5.77it/s]\n"
     ]
    },
    {
     "name": "stdout",
     "output_type": "stream",
     "text": [
      "[[3452  980  769]\n",
      " [3113 3080 3405]\n",
      " [ 734  756 3216]]\n",
      "0.35149205582482473 0.4997692899256601 0.6833829154271143 0.6637185156700635\n"
     ]
    },
    {
     "name": "stderr",
     "output_type": "stream",
     "text": [
      "100%|████████████████████████████████████████████████████████████████████████████████| 133/133 [00:48<00:00,  2.76it/s]\n",
      "100%|██████████████████████████████████████████████████████████████████████████████████| 33/33 [00:05<00:00,  6.16it/s]\n"
     ]
    },
    {
     "name": "stdout",
     "output_type": "stream",
     "text": [
      "[[3500  943  758]\n",
      " [3199 3226 3173]\n",
      " [ 714  943 3049]]\n",
      "0.3466532342416003 0.5011535503716996 0.6478963025924351 0.6729475100942126\n"
     ]
    },
    {
     "name": "stderr",
     "output_type": "stream",
     "text": [
      "100%|████████████████████████████████████████████████████████████████████████████████| 133/133 [00:47<00:00,  2.82it/s]\n",
      "100%|██████████████████████████████████████████████████████████████████████████████████| 33/33 [00:06<00:00,  4.97it/s]\n"
     ]
    },
    {
     "name": "stdout",
     "output_type": "stream",
     "text": [
      "[[3459  997  745]\n",
      " [3091 3235 3272]\n",
      " [ 702  876 3128]]\n",
      "0.3428893380595329 0.5035631889259164 0.6646833829154272 0.6650644106902519\n"
     ]
    },
    {
     "name": "stderr",
     "output_type": "stream",
     "text": [
      "100%|████████████████████████████████████████████████████████████████████████████████| 133/133 [00:52<00:00,  2.55it/s]\n",
      "100%|██████████████████████████████████████████████████████████████████████████████████| 33/33 [00:06<00:00,  4.95it/s]\n"
     ]
    },
    {
     "name": "stdout",
     "output_type": "stream",
     "text": [
      "[[3448 1032  721]\n",
      " [3082 3193 3323]\n",
      " [ 719  811 3176]]\n",
      "0.3359740634161727 0.5033068443988721 0.6748831279218019 0.6629494328013843\n"
     ]
    },
    {
     "name": "stderr",
     "output_type": "stream",
     "text": [
      "100%|████████████████████████████████████████████████████████████████████████████████| 133/133 [01:02<00:00,  2.14it/s]\n",
      "100%|██████████████████████████████████████████████████████████████████████████████████| 33/33 [00:05<00:00,  5.74it/s]\n"
     ]
    },
    {
     "name": "stdout",
     "output_type": "stream",
     "text": [
      "[[3539  942  720]\n",
      " [3166 3112 3320]\n",
      " [ 741  808 3157]]\n",
      "0.3329692644284184 0.5028454242501923 0.6708457288567786 0.6804460680638339\n"
     ]
    },
    {
     "name": "stderr",
     "output_type": "stream",
     "text": [
      "100%|████████████████████████████████████████████████████████████████████████████████| 133/133 [00:50<00:00,  2.62it/s]\n",
      "100%|██████████████████████████████████████████████████████████████████████████████████| 33/33 [00:05<00:00,  5.79it/s]\n"
     ]
    },
    {
     "name": "stdout",
     "output_type": "stream",
     "text": [
      "[[3386 1076  739]\n",
      " [3020 3339 3239]\n",
      " [ 739  889 3078]]\n",
      "0.33014883941277523 0.5025890797231479 0.6540586485337867 0.6510286483368583\n"
     ]
    },
    {
     "name": "stderr",
     "output_type": "stream",
     "text": [
      "100%|████████████████████████████████████████████████████████████████████████████████| 133/133 [00:50<00:00,  2.64it/s]\n",
      "100%|██████████████████████████████████████████████████████████████████████████████████| 33/33 [00:05<00:00,  5.58it/s]\n"
     ]
    },
    {
     "name": "stdout",
     "output_type": "stream",
     "text": [
      "[[3399 1068  734]\n",
      " [3008 3370 3220]\n",
      " [ 720  930 3056]]\n",
      "0.32396331989675536 0.503716995642143 0.6493837654058648 0.6535281676600654\n"
     ]
    },
    {
     "name": "stderr",
     "output_type": "stream",
     "text": [
      "100%|████████████████████████████████████████████████████████████████████████████████| 133/133 [00:52<00:00,  2.55it/s]\n",
      "100%|██████████████████████████████████████████████████████████████████████████████████| 33/33 [00:06<00:00,  5.00it/s]\n"
     ]
    },
    {
     "name": "stdout",
     "output_type": "stream",
     "text": [
      "[[3378 1069  754]\n",
      " [2969 3348 3281]\n",
      " [ 725  868 3113]]\n",
      "0.3217643035533733 0.5044347603178672 0.661495962600935 0.6494904825995\n"
     ]
    },
    {
     "name": "stderr",
     "output_type": "stream",
     "text": [
      "100%|████████████████████████████████████████████████████████████████████████████████| 133/133 [00:53<00:00,  2.48it/s]\n",
      "100%|██████████████████████████████████████████████████████████████████████████████████| 33/33 [00:05<00:00,  5.97it/s]\n"
     ]
    },
    {
     "name": "stdout",
     "output_type": "stream",
     "text": [
      "[[3373 1058  770]\n",
      " [2931 3404 3263]\n",
      " [ 699  919 3088]]\n",
      "0.31920498766397176 0.5057677518584979 0.6561835954101147 0.6485291290136512\n"
     ]
    },
    {
     "name": "stderr",
     "output_type": "stream",
     "text": [
      "100%|████████████████████████████████████████████████████████████████████████████████| 133/133 [00:53<00:00,  2.51it/s]\n",
      "100%|██████████████████████████████████████████████████████████████████████████████████| 33/33 [00:05<00:00,  5.55it/s]\n"
     ]
    },
    {
     "name": "stdout",
     "output_type": "stream",
     "text": [
      "[[3412 1081  708]\n",
      " [3018 3515 3065]\n",
      " [ 734  988 2984]]\n",
      "0.3150884910185534 0.5081261215073059 0.6340841478963026 0.6560276869832724\n"
     ]
    },
    {
     "name": "stderr",
     "output_type": "stream",
     "text": [
      "100%|████████████████████████████████████████████████████████████████████████████████| 133/133 [00:50<00:00,  2.63it/s]\n",
      "100%|██████████████████████████████████████████████████████████████████████████████████| 33/33 [00:05<00:00,  6.23it/s]\n"
     ]
    },
    {
     "name": "stdout",
     "output_type": "stream",
     "text": [
      "[[3403 1113  685]\n",
      " [3012 3745 2841]\n",
      " [ 746 1165 2795]]\n",
      "0.31133119930002023 0.5097667264803897 0.5939226519337016 0.6542972505287444\n"
     ]
    },
    {
     "name": "stderr",
     "output_type": "stream",
     "text": [
      "100%|████████████████████████████████████████████████████████████████████████████████| 133/133 [00:47<00:00,  2.78it/s]\n",
      "100%|██████████████████████████████████████████████████████████████████████████████████| 33/33 [00:05<00:00,  6.40it/s]\n"
     ]
    },
    {
     "name": "stdout",
     "output_type": "stream",
     "text": [
      "[[3398 1094  709]\n",
      " [3030 3504 3064]\n",
      " [ 748 1012 2946]]\n",
      "0.3085468608633916 0.504896180466547 0.6260093497662559 0.6533358969428956\n"
     ]
    },
    {
     "name": "stderr",
     "output_type": "stream",
     "text": [
      "100%|████████████████████████████████████████████████████████████████████████████████| 133/133 [00:48<00:00,  2.73it/s]\n",
      "100%|██████████████████████████████████████████████████████████████████████████████████| 33/33 [00:05<00:00,  5.61it/s]\n"
     ]
    },
    {
     "name": "stdout",
     "output_type": "stream",
     "text": [
      "[[3252 1242  707]\n",
      " [2795 3947 2856]\n",
      " [ 706 1154 2846]]\n",
      "0.30329458650789765 0.5149961548320944 0.604759881002975 0.6252643722361084\n"
     ]
    },
    {
     "name": "stderr",
     "output_type": "stream",
     "text": [
      "100%|████████████████████████████████████████████████████████████████████████████████| 133/133 [00:49<00:00,  2.70it/s]\n",
      "100%|██████████████████████████████████████████████████████████████████████████████████| 33/33 [00:05<00:00,  5.70it/s]\n"
     ]
    },
    {
     "name": "stdout",
     "output_type": "stream",
     "text": [
      "[[3364 1134  703]\n",
      " [2937 3651 3010]\n",
      " [ 712 1064 2930]]\n",
      "0.30060644044463797 0.5098692642912074 0.6226094347641309 0.6467986925591233\n"
     ]
    },
    {
     "name": "stderr",
     "output_type": "stream",
     "text": [
      "100%|████████████████████████████████████████████████████████████████████████████████| 133/133 [00:53<00:00,  2.50it/s]\n",
      "100%|██████████████████████████████████████████████████████████████████████████████████| 33/33 [00:06<00:00,  5.48it/s]\n"
     ]
    },
    {
     "name": "stdout",
     "output_type": "stream",
     "text": [
      "[[3256 1250  695]\n",
      " [2828 3766 3004]\n",
      " [ 734 1050 2922]]\n",
      "0.29623613904293317 0.5098179953857985 0.6209094772630684 0.6260334551047876\n"
     ]
    },
    {
     "name": "stderr",
     "output_type": "stream",
     "text": [
      "100%|████████████████████████████████████████████████████████████████████████████████| 133/133 [00:46<00:00,  2.86it/s]\n",
      "100%|██████████████████████████████████████████████████████████████████████████████████| 33/33 [00:05<00:00,  5.96it/s]\n"
     ]
    },
    {
     "name": "stdout",
     "output_type": "stream",
     "text": [
      "[[3170 1317  714]\n",
      " [2721 4031 2846]\n",
      " [ 681 1185 2840]]\n",
      "0.2938993234831588 0.5147910792104589 0.6034849128771781 0.6094981734281869\n"
     ]
    },
    {
     "name": "stderr",
     "output_type": "stream",
     "text": [
      "100%|████████████████████████████████████████████████████████████████████████████████| 133/133 [01:08<00:00,  1.95it/s]\n",
      "100%|██████████████████████████████████████████████████████████████████████████████████| 33/33 [00:06<00:00,  4.77it/s]\n"
     ]
    },
    {
     "name": "stdout",
     "output_type": "stream",
     "text": [
      "[[3325 1179  697]\n",
      " [2866 3718 3014]\n",
      " [ 727 1045 2934]]\n",
      "0.29355760848611817 0.5115098692642912 0.6234594135146622 0.639300134589502\n"
     ]
    },
    {
     "name": "stderr",
     "output_type": "stream",
     "text": [
      "100%|████████████████████████████████████████████████████████████████████████████████| 133/133 [00:59<00:00,  2.22it/s]\n",
      "100%|██████████████████████████████████████████████████████████████████████████████████| 33/33 [00:05<00:00,  5.55it/s]\n"
     ]
    },
    {
     "name": "stdout",
     "output_type": "stream",
     "text": [
      "[[3335 1191  675]\n",
      " [2873 3753 2972]\n",
      " [ 730 1074 2902]]\n",
      "0.28629718967398304 0.5121763650346065 0.6166595835104123 0.6412228417611998\n"
     ]
    },
    {
     "name": "stderr",
     "output_type": "stream",
     "text": [
      "100%|████████████████████████████████████████████████████████████████████████████████| 133/133 [00:52<00:00,  2.56it/s]\n",
      "100%|██████████████████████████████████████████████████████████████████████████████████| 33/33 [00:05<00:00,  5.55it/s]\n"
     ]
    },
    {
     "name": "stdout",
     "output_type": "stream",
     "text": [
      "[[3158 1304  739]\n",
      " [2741 3841 3016]\n",
      " [ 690 1072 2944]]\n",
      "0.28289037797235905 0.5097667264803897 0.6255843603909902 0.6071909248221495\n"
     ]
    },
    {
     "name": "stderr",
     "output_type": "stream",
     "text": [
      "100%|████████████████████████████████████████████████████████████████████████████████| 133/133 [00:52<00:00,  2.54it/s]\n",
      "100%|██████████████████████████████████████████████████████████████████████████████████| 33/33 [00:05<00:00,  5.56it/s]\n"
     ]
    },
    {
     "name": "stdout",
     "output_type": "stream",
     "text": [
      "[[3192 1306  703]\n",
      " [2728 3771 3099]\n",
      " [ 718  990 2998]]\n",
      "0.28525768724599276 0.5106895667777493 0.6370590735231619 0.6137281292059219\n"
     ]
    },
    {
     "name": "stderr",
     "output_type": "stream",
     "text": [
      "100%|████████████████████████████████████████████████████████████████████████████████| 133/133 [00:51<00:00,  2.58it/s]\n",
      "100%|██████████████████████████████████████████████████████████████████████████████████| 33/33 [00:05<00:00,  5.59it/s]\n"
     ]
    },
    {
     "name": "stdout",
     "output_type": "stream",
     "text": [
      "[[3242 1258  701]\n",
      " [2812 3948 2838]\n",
      " [ 720 1161 2825]]\n",
      "0.28013556310556886 0.5134580876698283 0.6002974925626859 0.6233416650644107\n"
     ]
    },
    {
     "name": "stderr",
     "output_type": "stream",
     "text": [
      "100%|████████████████████████████████████████████████████████████████████████████████| 133/133 [00:54<00:00,  2.44it/s]\n",
      "100%|██████████████████████████████████████████████████████████████████████████████████| 33/33 [00:05<00:00,  5.56it/s]\n"
     ]
    },
    {
     "name": "stdout",
     "output_type": "stream",
     "text": [
      "[[3287 1215  699]\n",
      " [2848 3837 2913]\n",
      " [ 707 1126 2873]]\n",
      "0.2761672318429875 0.5125352473724686 0.6104972375690608 0.6319938473370506\n"
     ]
    },
    {
     "name": "stderr",
     "output_type": "stream",
     "text": [
      "100%|████████████████████████████████████████████████████████████████████████████████| 133/133 [00:52<00:00,  2.52it/s]\n",
      "100%|██████████████████████████████████████████████████████████████████████████████████| 33/33 [00:05<00:00,  6.27it/s]\n"
     ]
    },
    {
     "name": "stdout",
     "output_type": "stream",
     "text": [
      "[[3267 1217  717]\n",
      " [2856 3964 2778]\n",
      " [ 711 1228 2767]]\n",
      "0.2728271938132164 0.5125865162778774 0.587972800679983 0.6281484329936551\n"
     ]
    },
    {
     "name": "stderr",
     "output_type": "stream",
     "text": [
      "100%|████████████████████████████████████████████████████████████████████████████████| 133/133 [00:45<00:00,  2.90it/s]\n",
      "100%|██████████████████████████████████████████████████████████████████████████████████| 33/33 [00:05<00:00,  6.14it/s]\n"
     ]
    },
    {
     "name": "stdout",
     "output_type": "stream",
     "text": [
      "[[3081 1390  730]\n",
      " [2597 4080 2921]\n",
      " [ 681 1145 2880]]\n",
      "0.2728371608974342 0.5147910792104589 0.6119847003824904 0.5923860796000769\n"
     ]
    },
    {
     "name": "stderr",
     "output_type": "stream",
     "text": [
      "100%|████████████████████████████████████████████████████████████████████████████████| 133/133 [00:45<00:00,  2.90it/s]\n",
      "100%|██████████████████████████████████████████████████████████████████████████████████| 33/33 [00:05<00:00,  6.26it/s]\n"
     ]
    },
    {
     "name": "stdout",
     "output_type": "stream",
     "text": [
      "[[3267 1262  672]\n",
      " [2832 4067 2699]\n",
      " [ 746 1244 2716]]\n",
      "0.267287988859908 0.5152524993591386 0.5771355716107097 0.6281484329936551\n"
     ]
    },
    {
     "name": "stderr",
     "output_type": "stream",
     "text": [
      "100%|████████████████████████████████████████████████████████████████████████████████| 133/133 [00:44<00:00,  2.98it/s]\n",
      "100%|██████████████████████████████████████████████████████████████████████████████████| 33/33 [00:05<00:00,  6.51it/s]\n"
     ]
    },
    {
     "name": "stdout",
     "output_type": "stream",
     "text": [
      "[[3064 1419  718]\n",
      " [2559 4174 2865]\n",
      " [ 661 1226 2819]]\n",
      "0.26421164726852475 0.5156113816970007 0.5990225244368891 0.5891174774081908\n"
     ]
    },
    {
     "name": "stderr",
     "output_type": "stream",
     "text": [
      "100%|████████████████████████████████████████████████████████████████████████████████| 133/133 [00:45<00:00,  2.95it/s]\n",
      "100%|██████████████████████████████████████████████████████████████████████████████████| 33/33 [00:05<00:00,  6.44it/s]\n"
     ]
    },
    {
     "name": "stdout",
     "output_type": "stream",
     "text": [
      "[[3103 1372  726]\n",
      " [2640 4141 2817]\n",
      " [ 661 1226 2819]]\n",
      "0.26472718352661995 0.5159189951294539 0.5990225244368891 0.5966160353778119\n"
     ]
    },
    {
     "name": "stderr",
     "output_type": "stream",
     "text": [
      "100%|████████████████████████████████████████████████████████████████████████████████| 133/133 [00:45<00:00,  2.94it/s]\n",
      "100%|██████████████████████████████████████████████████████████████████████████████████| 33/33 [00:05<00:00,  6.49it/s]\n"
     ]
    },
    {
     "name": "stdout",
     "output_type": "stream",
     "text": [
      "[[3250 1285  666]\n",
      " [2782 4198 2618]\n",
      " [ 742 1321 2643]]\n",
      "0.2590915690687366 0.5173545244809024 0.5616234594135147 0.6248798308017689\n"
     ]
    },
    {
     "name": "stderr",
     "output_type": "stream",
     "text": [
      "100%|████████████████████████████████████████████████████████████████████████████████| 133/133 [00:45<00:00,  2.93it/s]\n",
      "100%|██████████████████████████████████████████████████████████████████████████████████| 33/33 [00:05<00:00,  6.29it/s]\n"
     ]
    },
    {
     "name": "stdout",
     "output_type": "stream",
     "text": [
      "[[3128 1388  685]\n",
      " [2615 4216 2767]\n",
      " [ 694 1243 2769]]\n",
      "0.25186172665509965 0.5184824403998974 0.5883977900552486 0.6014228033070563\n"
     ]
    },
    {
     "name": "stderr",
     "output_type": "stream",
     "text": [
      "100%|████████████████████████████████████████████████████████████████████████████████| 133/133 [00:46<00:00,  2.87it/s]\n",
      "100%|██████████████████████████████████████████████████████████████████████████████████| 33/33 [00:05<00:00,  6.57it/s]\n"
     ]
    },
    {
     "name": "stdout",
     "output_type": "stream",
     "text": [
      "[[3088 1396  717]\n",
      " [2630 4225 2743]\n",
      " [ 675 1272 2759]]\n",
      "0.2529436060808655 0.5163804152781338 0.5862728431789205 0.5937319746202653\n"
     ]
    },
    {
     "name": "stderr",
     "output_type": "stream",
     "text": [
      "100%|████████████████████████████████████████████████████████████████████████████████| 133/133 [00:45<00:00,  2.90it/s]\n",
      "100%|██████████████████████████████████████████████████████████████████████████████████| 33/33 [00:05<00:00,  6.31it/s]\n"
     ]
    },
    {
     "name": "stdout",
     "output_type": "stream",
     "text": [
      "[[3068 1425  708]\n",
      " [2611 4289 2698]\n",
      " [ 696 1273 2737]]\n",
      "0.25625285562267874 0.5175083311971289 0.5815979600509987 0.5898865602768698\n"
     ]
    },
    {
     "name": "stderr",
     "output_type": "stream",
     "text": [
      "100%|████████████████████████████████████████████████████████████████████████████████| 133/133 [00:45<00:00,  2.96it/s]\n",
      "100%|██████████████████████████████████████████████████████████████████████████████████| 33/33 [00:05<00:00,  5.82it/s]\n"
     ]
    },
    {
     "name": "stdout",
     "output_type": "stream",
     "text": [
      "[[3186 1369  646]\n",
      " [2743 4181 2674]\n",
      " [ 757 1293 2656]]\n",
      "0.25439249561693433 0.5138682389130992 0.5643858903527412 0.6125745049029033\n"
     ]
    },
    {
     "name": "stderr",
     "output_type": "stream",
     "text": [
      "100%|████████████████████████████████████████████████████████████████████████████████| 133/133 [00:45<00:00,  2.90it/s]\n",
      "100%|██████████████████████████████████████████████████████████████████████████████████| 33/33 [00:05<00:00,  6.22it/s]\n"
     ]
    },
    {
     "name": "stdout",
     "output_type": "stream",
     "text": [
      "[[3011 1482  708]\n",
      " [2507 4375 2716]\n",
      " [ 697 1261 2748]]\n",
      "0.24759042431089215 0.5195590874134837 0.5839354016149596 0.5789271293981927\n"
     ]
    },
    {
     "name": "stderr",
     "output_type": "stream",
     "text": [
      "100%|████████████████████████████████████████████████████████████████████████████████| 133/133 [00:45<00:00,  2.90it/s]\n",
      "100%|██████████████████████████████████████████████████████████████████████████████████| 33/33 [00:05<00:00,  5.88it/s]\n"
     ]
    },
    {
     "name": "stdout",
     "output_type": "stream",
     "text": [
      "[[3131 1419  651]\n",
      " [2647 4483 2468]\n",
      " [ 696 1452 2558]]\n",
      "0.24452569038796246 0.5215073058190207 0.5435614109647259 0.6019996154585656\n"
     ]
    },
    {
     "name": "stderr",
     "output_type": "stream",
     "text": [
      "100%|████████████████████████████████████████████████████████████████████████████████| 133/133 [00:42<00:00,  3.12it/s]\n",
      "100%|██████████████████████████████████████████████████████████████████████████████████| 33/33 [00:04<00:00,  6.79it/s]\n"
     ]
    },
    {
     "name": "stdout",
     "output_type": "stream",
     "text": [
      "[[3108 1416  677]\n",
      " [2645 4260 2693]\n",
      " [ 686 1279 2741]]\n",
      "0.24699811178042477 0.518277364778262 0.58244793880153 0.5975773889636609\n"
     ]
    },
    {
     "name": "stderr",
     "output_type": "stream",
     "text": [
      "100%|████████████████████████████████████████████████████████████████████████████████| 133/133 [00:40<00:00,  3.32it/s]\n",
      "100%|██████████████████████████████████████████████████████████████████████████████████| 33/33 [00:04<00:00,  7.15it/s]\n"
     ]
    },
    {
     "name": "stdout",
     "output_type": "stream",
     "text": [
      "[[3115 1416  670]\n",
      " [2615 4425 2558]\n",
      " [ 698 1390 2618]]\n",
      "0.24512874900846554 0.5207895411432966 0.5563110922226945 0.5989232839838493\n"
     ]
    },
    {
     "name": "stderr",
     "output_type": "stream",
     "text": [
      "100%|████████████████████████████████████████████████████████████████████████████████| 133/133 [00:40<00:00,  3.28it/s]\n",
      "100%|██████████████████████████████████████████████████████████████████████████████████| 33/33 [00:04<00:00,  7.00it/s]\n"
     ]
    },
    {
     "name": "stdout",
     "output_type": "stream",
     "text": [
      "[[2963 1514  724]\n",
      " [2471 4512 2615]\n",
      " [ 659 1397 2650]]\n",
      "0.23761552000852457 0.5190976672648039 0.5631109222269444 0.5696981349740434\n"
     ]
    },
    {
     "name": "stderr",
     "output_type": "stream",
     "text": [
      "100%|████████████████████████████████████████████████████████████████████████████████| 133/133 [00:38<00:00,  3.42it/s]\n",
      "100%|██████████████████████████████████████████████████████████████████████████████████| 33/33 [00:04<00:00,  6.98it/s]\n"
     ]
    },
    {
     "name": "stdout",
     "output_type": "stream",
     "text": [
      "[[2943 1556  702]\n",
      " [2435 4547 2616]\n",
      " [ 667 1376 2663]]\n",
      "0.23572753896390586 0.5205331966162522 0.5658733531661708 0.565852720630648\n"
     ]
    },
    {
     "name": "stderr",
     "output_type": "stream",
     "text": [
      "100%|████████████████████████████████████████████████████████████████████████████████| 133/133 [00:38<00:00,  3.43it/s]\n",
      "100%|██████████████████████████████████████████████████████████████████████████████████| 33/33 [00:04<00:00,  7.03it/s]\n"
     ]
    },
    {
     "name": "stdout",
     "output_type": "stream",
     "text": [
      "[[2912 1597  692]\n",
      " [2368 4594 2636]\n",
      " [ 661 1370 2675]]\n",
      "0.2324934965909872 0.5219687259677006 0.5684232894177645 0.5598923283983849\n"
     ]
    },
    {
     "name": "stderr",
     "output_type": "stream",
     "text": [
      "100%|████████████████████████████████████████████████████████████████████████████████| 133/133 [00:39<00:00,  3.34it/s]\n",
      "100%|██████████████████████████████████████████████████████████████████████████████████| 33/33 [00:04<00:00,  7.03it/s]\n"
     ]
    },
    {
     "name": "stdout",
     "output_type": "stream",
     "text": [
      "[[2986 1515  700]\n",
      " [2473 4519 2606]\n",
      " [ 644 1422 2640]]\n",
      "0.22785137055959917 0.5201230453729813 0.5609859753506162 0.5741203614689483\n"
     ]
    },
    {
     "name": "stderr",
     "output_type": "stream",
     "text": [
      "100%|████████████████████████████████████████████████████████████████████████████████| 133/133 [00:38<00:00,  3.50it/s]\n",
      "100%|██████████████████████████████████████████████████████████████████████████████████| 33/33 [00:04<00:00,  7.40it/s]\n"
     ]
    },
    {
     "name": "stdout",
     "output_type": "stream",
     "text": [
      "[[3074 1475  652]\n",
      " [2601 4456 2541]\n",
      " [ 714 1419 2573]]\n",
      "0.22857709072138133 0.5179697513458088 0.546748831279218 0.5910401845798885\n"
     ]
    },
    {
     "name": "stderr",
     "output_type": "stream",
     "text": [
      "100%|████████████████████████████████████████████████████████████████████████████████| 133/133 [00:39<00:00,  3.41it/s]\n",
      "100%|██████████████████████████████████████████████████████████████████████████████████| 33/33 [00:04<00:00,  7.43it/s]\n"
     ]
    },
    {
     "name": "stdout",
     "output_type": "stream",
     "text": [
      "[[3006 1514  681]\n",
      " [2501 4569 2528]\n",
      " [ 687 1443 2576]]\n",
      "0.22762108039587065 0.5204306588054345 0.5473863153421165 0.5779657758123438\n"
     ]
    },
    {
     "name": "stderr",
     "output_type": "stream",
     "text": [
      "100%|████████████████████████████████████████████████████████████████████████████████| 133/133 [00:38<00:00,  3.44it/s]\n",
      "100%|██████████████████████████████████████████████████████████████████████████████████| 33/33 [00:04<00:00,  7.13it/s]\n"
     ]
    },
    {
     "name": "stdout",
     "output_type": "stream",
     "text": [
      "[[3109 1419  673]\n",
      " [2642 4696 2260]\n",
      " [ 705 1589 2412]]\n",
      "0.23185988566032925 0.5238144065624198 0.5125371865703358 0.5977696596808306\n"
     ]
    },
    {
     "name": "stderr",
     "output_type": "stream",
     "text": [
      "100%|████████████████████████████████████████████████████████████████████████████████| 133/133 [00:39<00:00,  3.38it/s]\n",
      "100%|██████████████████████████████████████████████████████████████████████████████████| 33/33 [00:04<00:00,  7.40it/s]\n"
     ]
    },
    {
     "name": "stdout",
     "output_type": "stream",
     "text": [
      "[[2940 1553  708]\n",
      " [2468 4489 2641]\n",
      " [ 660 1366 2680]]\n",
      "0.23449143666521946 0.518277364778262 0.5694857628559286 0.5652759084791387\n"
     ]
    },
    {
     "name": "stderr",
     "output_type": "stream",
     "text": [
      "100%|████████████████████████████████████████████████████████████████████████████████| 133/133 [00:39<00:00,  3.39it/s]\n",
      "100%|██████████████████████████████████████████████████████████████████████████████████| 33/33 [00:04<00:00,  7.27it/s]\n"
     ]
    },
    {
     "name": "stdout",
     "output_type": "stream",
     "text": [
      "[[3082 1465  654]\n",
      " [2607 4512 2479]\n",
      " [ 725 1448 2533]]\n",
      "0.2289508152052872 0.5192002050756216 0.5382490437739057 0.5925783503172467\n"
     ]
    },
    {
     "name": "stderr",
     "output_type": "stream",
     "text": [
      "100%|████████████████████████████████████████████████████████████████████████████████| 133/133 [00:38<00:00,  3.48it/s]\n",
      "100%|██████████████████████████████████████████████████████████████████████████████████| 33/33 [00:04<00:00,  7.30it/s]\n"
     ]
    },
    {
     "name": "stdout",
     "output_type": "stream",
     "text": [
      "[[2929 1550  722]\n",
      " [2462 4477 2659]\n",
      " [ 669 1370 2667]]\n",
      "0.21819398356111427 0.5164316841835427 0.5667233319167021 0.5631609305902711\n"
     ]
    },
    {
     "name": "stderr",
     "output_type": "stream",
     "text": [
      "100%|████████████████████████████████████████████████████████████████████████████████| 133/133 [00:38<00:00,  3.42it/s]\n",
      "100%|██████████████████████████████████████████████████████████████████████████████████| 33/33 [00:04<00:00,  7.10it/s]\n"
     ]
    },
    {
     "name": "stdout",
     "output_type": "stream",
     "text": [
      "[[2983 1557  661]\n",
      " [2470 4602 2526]\n",
      " [ 700 1419 2587]]\n",
      "0.21196753234791577 0.5215073058190207 0.5497237569060773 0.573543549317439\n"
     ]
    },
    {
     "name": "stderr",
     "output_type": "stream",
     "text": [
      "100%|████████████████████████████████████████████████████████████████████████████████| 133/133 [00:39<00:00,  3.37it/s]\n",
      "100%|██████████████████████████████████████████████████████████████████████████████████| 33/33 [00:04<00:00,  7.06it/s]\n"
     ]
    },
    {
     "name": "stdout",
     "output_type": "stream",
     "text": [
      "[[3092 1456  653]\n",
      " [2601 4400 2597]\n",
      " [ 716 1393 2597]]\n",
      "0.21172679658222915 0.5172519866700845 0.5518487037824055 0.5945010574889444\n"
     ]
    },
    {
     "name": "stderr",
     "output_type": "stream",
     "text": [
      "100%|████████████████████████████████████████████████████████████████████████████████| 133/133 [00:38<00:00,  3.44it/s]\n",
      "100%|██████████████████████████████████████████████████████████████████████████████████| 33/33 [00:04<00:00,  7.10it/s]\n"
     ]
    },
    {
     "name": "stdout",
     "output_type": "stream",
     "text": [
      "[[2877 1631  693]\n",
      " [2369 4711 2518]\n",
      " [ 670 1471 2565]]\n",
      "0.21340087515519077 0.5205331966162522 0.5450488737781556 0.5531628532974427\n"
     ]
    },
    {
     "name": "stderr",
     "output_type": "stream",
     "text": [
      "100%|████████████████████████████████████████████████████████████████████████████████| 133/133 [00:39<00:00,  3.35it/s]\n",
      "100%|██████████████████████████████████████████████████████████████████████████████████| 33/33 [00:04<00:00,  6.73it/s]\n"
     ]
    },
    {
     "name": "stdout",
     "output_type": "stream",
     "text": [
      "[[2874 1633  694]\n",
      " [2385 4659 2554]\n",
      " [ 660 1427 2619]]\n",
      "0.2213581547253114 0.5204819277108433 0.5565235869103272 0.5525860411459335\n"
     ]
    },
    {
     "name": "stderr",
     "output_type": "stream",
     "text": [
      "100%|████████████████████████████████████████████████████████████████████████████████| 133/133 [00:45<00:00,  2.91it/s]\n",
      "100%|██████████████████████████████████████████████████████████████████████████████████| 33/33 [00:06<00:00,  5.38it/s]\n"
     ]
    },
    {
     "name": "stdout",
     "output_type": "stream",
     "text": [
      "[[2905 1596  700]\n",
      " [2399 4753 2446]\n",
      " [ 657 1489 2560]]\n",
      "0.21515350671190964 0.5238656754678288 0.5439864003399915 0.5585464333781965\n"
     ]
    },
    {
     "name": "stderr",
     "output_type": "stream",
     "text": [
      "100%|████████████████████████████████████████████████████████████████████████████████| 133/133 [00:49<00:00,  2.67it/s]\n",
      "100%|██████████████████████████████████████████████████████████████████████████████████| 33/33 [00:05<00:00,  6.07it/s]\n"
     ]
    },
    {
     "name": "stdout",
     "output_type": "stream",
     "text": [
      "[[2887 1659  655]\n",
      " [2378 4783 2437]\n",
      " [ 678 1496 2532]]\n",
      "0.20828101543107427 0.5230453729812868 0.5380365490862729 0.5550855604691406\n"
     ]
    },
    {
     "name": "stderr",
     "output_type": "stream",
     "text": [
      "100%|████████████████████████████████████████████████████████████████████████████████| 133/133 [00:48<00:00,  2.74it/s]\n",
      "100%|██████████████████████████████████████████████████████████████████████████████████| 33/33 [00:05<00:00,  6.03it/s]\n"
     ]
    },
    {
     "name": "stdout",
     "output_type": "stream",
     "text": [
      "[[2905 1616  680]\n",
      " [2402 4729 2467]\n",
      " [ 684 1475 2547]]\n",
      "0.20838446870334165 0.5219687259677006 0.541223969400765 0.5585464333781965\n"
     ]
    },
    {
     "name": "stderr",
     "output_type": "stream",
     "text": [
      "100%|████████████████████████████████████████████████████████████████████████████████| 133/133 [00:47<00:00,  2.79it/s]\n",
      "100%|██████████████████████████████████████████████████████████████████████████████████| 33/33 [00:05<00:00,  5.95it/s]\n"
     ]
    },
    {
     "name": "stdout",
     "output_type": "stream",
     "text": [
      "[[2943 1607  651]\n",
      " [2449 4766 2383]\n",
      " [ 687 1559 2460]]\n",
      "0.2012527959239214 0.5213534991027942 0.5227369315767105 0.565852720630648\n"
     ]
    },
    {
     "name": "stderr",
     "output_type": "stream",
     "text": [
      "100%|████████████████████████████████████████████████████████████████████████████████| 133/133 [00:48<00:00,  2.76it/s]\n",
      "100%|██████████████████████████████████████████████████████████████████████████████████| 33/33 [00:05<00:00,  5.97it/s]\n"
     ]
    },
    {
     "name": "stdout",
     "output_type": "stream",
     "text": [
      "[[2844 1650  707]\n",
      " [2403 4706 2489]\n",
      " [ 657 1447 2602]]\n",
      "0.1962824270017165 0.5204819277108433 0.5529111772205695 0.5468179196308403\n"
     ]
    },
    {
     "name": "stderr",
     "output_type": "stream",
     "text": [
      "100%|████████████████████████████████████████████████████████████████████████████████| 133/133 [00:46<00:00,  2.85it/s]\n",
      "100%|██████████████████████████████████████████████████████████████████████████████████| 33/33 [00:05<00:00,  6.01it/s]\n"
     ]
    },
    {
     "name": "stdout",
     "output_type": "stream",
     "text": [
      "[[2882 1610  709]\n",
      " [2402 4596 2600]\n",
      " [ 664 1377 2665]]\n",
      "0.19658856474815456 0.5200205075621636 0.5662983425414365 0.5541242068832917\n"
     ]
    },
    {
     "name": "stderr",
     "output_type": "stream",
     "text": [
      "100%|████████████████████████████████████████████████████████████████████████████████| 133/133 [00:49<00:00,  2.70it/s]\n",
      "100%|██████████████████████████████████████████████████████████████████████████████████| 33/33 [00:06<00:00,  5.42it/s]\n"
     ]
    },
    {
     "name": "stdout",
     "output_type": "stream",
     "text": [
      "[[2948 1578  675]\n",
      " [2434 4747 2417]\n",
      " [ 663 1529 2514]]\n",
      "0.19834074254770925 0.5234042553191489 0.5342116447088823 0.5668140742164969\n"
     ]
    },
    {
     "name": "stderr",
     "output_type": "stream",
     "text": [
      "100%|████████████████████████████████████████████████████████████████████████████████| 133/133 [00:49<00:00,  2.66it/s]\n",
      "100%|██████████████████████████████████████████████████████████████████████████████████| 33/33 [00:05<00:00,  5.50it/s]\n"
     ]
    },
    {
     "name": "stdout",
     "output_type": "stream",
     "text": [
      "[[2976 1546  679]\n",
      " [2500 4762 2336]\n",
      " [ 697 1576 2433]]\n",
      "0.19207146203607545 0.5214560369136119 0.5169995750106248 0.5721976542972506\n"
     ]
    },
    {
     "name": "stderr",
     "output_type": "stream",
     "text": [
      "100%|████████████████████████████████████████████████████████████████████████████████| 133/133 [00:49<00:00,  2.71it/s]\n",
      "100%|██████████████████████████████████████████████████████████████████████████████████| 33/33 [00:05<00:00,  5.66it/s]\n"
     ]
    },
    {
     "name": "stdout",
     "output_type": "stream",
     "text": [
      "[[2913 1593  695]\n",
      " [2428 4528 2642]\n",
      " [ 659 1312 2735]]\n",
      "0.20057473202845208 0.5217123814406562 0.5811729706757331 0.5600845991155547\n"
     ]
    },
    {
     "name": "stderr",
     "output_type": "stream",
     "text": [
      "100%|████████████████████████████████████████████████████████████████████████████████| 133/133 [00:48<00:00,  2.76it/s]\n",
      "100%|██████████████████████████████████████████████████████████████████████████████████| 33/33 [00:05<00:00,  5.95it/s]\n"
     ]
    },
    {
     "name": "stdout",
     "output_type": "stream",
     "text": [
      "[[2877 1642  682]\n",
      " [2372 4741 2485]\n",
      " [ 661 1473 2572]]\n",
      "0.208394885287249 0.5224301461163804 0.5465363365915852 0.5531628532974427\n"
     ]
    },
    {
     "name": "stderr",
     "output_type": "stream",
     "text": [
      "100%|████████████████████████████████████████████████████████████████████████████████| 133/133 [00:48<00:00,  2.76it/s]\n",
      "100%|██████████████████████████████████████████████████████████████████████████████████| 33/33 [00:05<00:00,  5.94it/s]\n"
     ]
    },
    {
     "name": "stdout",
     "output_type": "stream",
     "text": [
      "[[2919 1600  682]\n",
      " [2441 4718 2439]\n",
      " [ 670 1543 2493]]\n",
      "0.21101968472165272 0.5193540117918483 0.5297492562685933 0.5612382234185733\n"
     ]
    },
    {
     "name": "stderr",
     "output_type": "stream",
     "text": [
      "100%|████████████████████████████████████████████████████████████████████████████████| 133/133 [00:47<00:00,  2.79it/s]\n",
      "100%|██████████████████████████████████████████████████████████████████████████████████| 33/33 [00:05<00:00,  5.95it/s]\n"
     ]
    },
    {
     "name": "stdout",
     "output_type": "stream",
     "text": [
      "[[2797 1703  701]\n",
      " [2327 4852 2419]\n",
      " [ 619 1539 2548]]\n",
      "0.1943086934717078 0.5227890284542425 0.5414364640883977 0.5377811959238608\n"
     ]
    },
    {
     "name": "stderr",
     "output_type": "stream",
     "text": [
      "100%|████████████████████████████████████████████████████████████████████████████████| 133/133 [00:48<00:00,  2.75it/s]\n",
      "100%|██████████████████████████████████████████████████████████████████████████████████| 33/33 [00:05<00:00,  5.85it/s]\n"
     ]
    },
    {
     "name": "stdout",
     "output_type": "stream",
     "text": [
      "[[2860 1665  676]\n",
      " [2331 4850 2417]\n",
      " [ 675 1535 2496]]\n",
      "0.18587615850724673 0.5232504486029224 0.5303867403314917 0.5498942511055567\n"
     ]
    },
    {
     "name": "stderr",
     "output_type": "stream",
     "text": [
      "100%|████████████████████████████████████████████████████████████████████████████████| 133/133 [00:49<00:00,  2.71it/s]\n",
      "100%|██████████████████████████████████████████████████████████████████████████████████| 33/33 [00:05<00:00,  5.95it/s]\n"
     ]
    },
    {
     "name": "stdout",
     "output_type": "stream",
     "text": [
      "[[2813 1703  685]\n",
      " [2282 4901 2415]\n",
      " [ 637 1562 2507]]\n",
      "0.17700964694184468 0.5240194821840554 0.5327241818954526 0.5408575273985772\n"
     ]
    },
    {
     "name": "stderr",
     "output_type": "stream",
     "text": [
      "100%|████████████████████████████████████████████████████████████████████████████████| 133/133 [00:47<00:00,  2.80it/s]\n",
      "100%|██████████████████████████████████████████████████████████████████████████████████| 33/33 [00:05<00:00,  6.01it/s]\n"
     ]
    },
    {
     "name": "stdout",
     "output_type": "stream",
     "text": [
      "[[2828 1683  690]\n",
      " [2337 4812 2449]\n",
      " [ 652 1531 2523]]\n",
      "0.17954778828118978 0.5210458856703409 0.5361240968975776 0.5437415881561238\n"
     ]
    },
    {
     "name": "stderr",
     "output_type": "stream",
     "text": [
      "100%|████████████████████████████████████████████████████████████████████████████████| 133/133 [00:48<00:00,  2.75it/s]\n",
      "100%|██████████████████████████████████████████████████████████████████████████████████| 33/33 [00:05<00:00,  5.98it/s]\n"
     ]
    },
    {
     "name": "stdout",
     "output_type": "stream",
     "text": [
      "[[2818 1718  665]\n",
      " [2340 5011 2247]\n",
      " [ 655 1655 2396]]\n",
      "0.1826161326546418 0.5242245578056909 0.5091372715682108 0.5418188809844261\n"
     ]
    },
    {
     "name": "stderr",
     "output_type": "stream",
     "text": [
      "100%|████████████████████████████████████████████████████████████████████████████████| 133/133 [00:47<00:00,  2.80it/s]\n",
      "100%|██████████████████████████████████████████████████████████████████████████████████| 33/33 [00:05<00:00,  5.81it/s]\n"
     ]
    },
    {
     "name": "stdout",
     "output_type": "stream",
     "text": [
      "[[2810 1721  670]\n",
      " [2355 4966 2277]\n",
      " [ 666 1643 2397]]\n",
      "0.18086721361579752 0.5215585747244297 0.5093497662558436 0.5402807152470679\n"
     ]
    },
    {
     "name": "stderr",
     "output_type": "stream",
     "text": [
      "100%|████████████████████████████████████████████████████████████████████████████████| 133/133 [00:47<00:00,  2.81it/s]\n",
      "100%|██████████████████████████████████████████████████████████████████████████████████| 33/33 [00:05<00:00,  6.01it/s]\n"
     ]
    },
    {
     "name": "stdout",
     "output_type": "stream",
     "text": [
      "[[2876 1661  664]\n",
      " [2408 4842 2348]\n",
      " [ 676 1608 2422]]\n",
      "0.17645442418586044 0.5198667008459369 0.5146621334466638 0.552970582580273\n"
     ]
    },
    {
     "name": "stderr",
     "output_type": "stream",
     "text": [
      "100%|████████████████████████████████████████████████████████████████████████████████| 133/133 [00:47<00:00,  2.80it/s]\n",
      "100%|██████████████████████████████████████████████████████████████████████████████████| 33/33 [00:05<00:00,  5.88it/s]\n"
     ]
    },
    {
     "name": "stdout",
     "output_type": "stream",
     "text": [
      "[[2760 1754  687]\n",
      " [2236 4939 2423]\n",
      " [ 642 1543 2521]]\n",
      "0.17442800877685832 0.5239682132786465 0.535699107522312 0.5306671793885791\n"
     ]
    },
    {
     "name": "stderr",
     "output_type": "stream",
     "text": [
      "100%|████████████████████████████████████████████████████████████████████████████████| 133/133 [00:47<00:00,  2.82it/s]\n",
      "100%|██████████████████████████████████████████████████████████████████████████████████| 33/33 [00:05<00:00,  6.00it/s]\n"
     ]
    },
    {
     "name": "stdout",
     "output_type": "stream",
     "text": [
      "[[2907 1642  652]\n",
      " [2410 4864 2324]\n",
      " [ 690 1600 2416]]\n",
      "0.1765496781221906 0.5222763394001538 0.513387165320867 0.5589309748125361\n"
     ]
    },
    {
     "name": "stderr",
     "output_type": "stream",
     "text": [
      "100%|████████████████████████████████████████████████████████████████████████████████| 133/133 [00:48<00:00,  2.76it/s]\n",
      "100%|██████████████████████████████████████████████████████████████████████████████████| 33/33 [00:05<00:00,  5.78it/s]\n"
     ]
    },
    {
     "name": "stdout",
     "output_type": "stream",
     "text": [
      "[[2738 1789  674]\n",
      " [2254 4974 2370]\n",
      " [ 646 1559 2501]]\n",
      "0.17743522522592903 0.5236093309407844 0.5314492137696557 0.5264372236108441\n"
     ]
    },
    {
     "name": "stderr",
     "output_type": "stream",
     "text": [
      "100%|████████████████████████████████████████████████████████████████████████████████| 133/133 [00:47<00:00,  2.81it/s]\n",
      "100%|██████████████████████████████████████████████████████████████████████████████████| 33/33 [00:05<00:00,  6.17it/s]\n"
     ]
    },
    {
     "name": "stdout",
     "output_type": "stream",
     "text": [
      "[[2823 1715  663]\n",
      " [2314 4930 2354]\n",
      " [ 645 1607 2454]]\n",
      "0.18392657684652428 0.5233017175083312 0.5214619634509138 0.5427802345702749\n"
     ]
    },
    {
     "name": "stderr",
     "output_type": "stream",
     "text": [
      "100%|████████████████████████████████████████████████████████████████████████████████| 133/133 [00:46<00:00,  2.83it/s]\n",
      "100%|██████████████████████████████████████████████████████████████████████████████████| 33/33 [00:05<00:00,  5.91it/s]\n"
     ]
    },
    {
     "name": "stdout",
     "output_type": "stream",
     "text": [
      "[[2839 1706  656]\n",
      " [2378 4953 2267]\n",
      " [ 670 1633 2403]]\n",
      "0.18581863565552503 0.5226864906434248 0.5106247343816405 0.5458565660449913\n"
     ]
    },
    {
     "name": "stderr",
     "output_type": "stream",
     "text": [
      "100%|████████████████████████████████████████████████████████████████████████████████| 133/133 [00:47<00:00,  2.80it/s]\n",
      "100%|██████████████████████████████████████████████████████████████████████████████████| 33/33 [00:05<00:00,  6.05it/s]\n"
     ]
    },
    {
     "name": "stdout",
     "output_type": "stream",
     "text": [
      "[[2737 1779  685]\n",
      " [2241 5048 2309]\n",
      " [ 623 1639 2444]]\n",
      "0.1760162098291225 0.5244296334273263 0.5193370165745856 0.5262449528936743\n"
     ]
    },
    {
     "name": "stderr",
     "output_type": "stream",
     "text": [
      " 65%|████████████████████████████████████████████████████▉                            | 87/133 [00:32<00:15,  2.91it/s]"
     ]
    }
   ],
   "source": [
    "model.train()\n",
    "train_loss = []\n",
    "test_loss = []\n",
    "test_accuracy = []\n",
    "for i in range(epoch):\n",
    "    loss_epoch_train = 0\n",
    "    for x_batch, y_batch in tqdm(loader_train):\n",
    "        pred = model(x_batch)\n",
    "        loss = criterion(pred,y_batch)\n",
    "        optimizer.zero_grad()\n",
    "        loss.backward()\n",
    "        optimizer.step()\n",
    "        loss_epoch_train += loss.detach().item()\n",
    "        \n",
    "    \n",
    "    loss_epoch_test = 0\n",
    "    model.eval()\n",
    "    pred_test = []\n",
    "    all_label = []\n",
    "    \n",
    "    for x_batch, y_batch in tqdm(loader_test):\n",
    "        pred = model(x_batch)\n",
    "        loss = criterion(pred,y_batch)\n",
    "        loss_epoch_test += loss.detach().item()\n",
    "        pred_test += list(pred.softmax(dim=1).argmax(dim=1).detach().numpy())\n",
    "        all_label += list(y_batch.detach().numpy())\n",
    "        \n",
    "    train_loss.append(loss_epoch_train/len(loader_train))\n",
    "    test_loss.append(loss_epoch_test/len(loader_test))\n",
    "    pred_test = np.array(pred_test)\n",
    "    all_label = np.array(all_label)\n",
    "    conf = confusion_matrix(all_label, pred_test)\n",
    "    acc_buy = conf[2,2]/conf[2,:].sum()\n",
    "    acc_sell = conf[0,0]/conf[0,:].sum()\n",
    "    print(conf)\n",
    "    test_accuracy.append((pred_test==all_label).sum()/len(all_label))\n",
    "    print(train_loss[-1],test_accuracy[-1],acc_buy,acc_sell)"
   ]
  },
  {
   "cell_type": "code",
   "execution_count": null,
   "id": "da5e0b14",
   "metadata": {},
   "outputs": [],
   "source": []
  },
  {
   "cell_type": "code",
   "execution_count": null,
   "id": "e57344e4",
   "metadata": {},
   "outputs": [],
   "source": []
  },
  {
   "cell_type": "code",
   "execution_count": null,
   "id": "25ed0b43",
   "metadata": {},
   "outputs": [],
   "source": []
  },
  {
   "cell_type": "code",
   "execution_count": null,
   "id": "70d2623d",
   "metadata": {},
   "outputs": [],
   "source": []
  },
  {
   "cell_type": "code",
   "execution_count": null,
   "id": "610f53c5",
   "metadata": {},
   "outputs": [],
   "source": []
  },
  {
   "cell_type": "code",
   "execution_count": null,
   "id": "664514c8",
   "metadata": {},
   "outputs": [],
   "source": [
    "df_test = df_an[['time', 'open', 'high', 'low', 'close','TP','SL','pivots_l','pivots_h']].iloc[indeces_test[0]:].copy()\n",
    "df_test['SIGNAL'] = 0\n",
    "for i,idx in enumerate(indeces_test):\n",
    "    if i > 0:\n",
    "#         df_test.SIGNAL.loc[idx] = y_perdict[i]\n",
    "        if df_test.pivots_l[idx-1]==1 and y_perdict[i] ==BUY:\n",
    "            df_test.SIGNAL.loc[idx] = y_perdict[i]-1\n",
    "        if df_test.pivots_h[idx-1]==1 and y_perdict[i] ==SELL:\n",
    "            df_test.SIGNAL.loc[idx] = y_perdict[i]-1\n",
    "\n",
    "df_test.reset_index(drop=True, inplace=True)"
   ]
  },
  {
   "cell_type": "code",
   "execution_count": null,
   "id": "b77dc800",
   "metadata": {},
   "outputs": [],
   "source": [
    "gt = GuruTester2(\n",
    "        df_test,\n",
    "        df_m5,\n",
    "        SPREAD,\n",
    "        use_spread=True\n",
    "    )\n",
    "df_res_m5 = gt.run_test()"
   ]
  },
  {
   "cell_type": "code",
   "execution_count": null,
   "id": "becfda1a",
   "metadata": {},
   "outputs": [],
   "source": [
    "df_res_m5['balance'] = 100\n",
    "loss_margin = 0.03\n",
    "perv_balance = 100\n",
    "\n",
    "# for index, row in df_res_m5.iterrows():\n",
    "for i in range(len(df_res_m5)):\n",
    "    if(df_res_m5.result[i] == -1):\n",
    "        loss_ratio =1# abs( (df_res_m5['start_price'][i]-df_res_m5['trigger_price'][i])/((df_res_m5['start_price'][i]-df_res_m5['SL'][i])) )\n",
    "#         print(loss_ratio)\n",
    "        df_res_m5['balance'][i] = perv_balance*(1-loss_ratio*loss_margin) \n",
    "    elif(df_res_m5.result[i] == 2):\n",
    "        profit_to_loss = 2#abs( (df_res_m5['start_price'][i]-df_res_m5['trigger_price'][i])/((df_res_m5['start_price'][i]-df_res_m5['SL'][i])) )\n",
    "#         print(profit_to_loss)\n",
    "        df_res_m5['balance'][i] = perv_balance*(1+profit_to_loss*loss_margin) \n",
    "    perv_balance = df_res_m5['balance'][i]"
   ]
  },
  {
   "cell_type": "code",
   "execution_count": null,
   "id": "300dbdd2",
   "metadata": {},
   "outputs": [],
   "source": [
    "df_res_m5_plot = df_res_m5#.loc[:100]\n",
    "df_res_m5_plot['time'] = df_res_m5_plot['end_time']\n",
    "cp = CandlePlot(df_res_m5_plot, candles=False)\n",
    "print(\"min balance \",min(df_res_m5['balance']))\n",
    "cp.show_plot(line_traces=['balance'])"
   ]
  },
  {
   "cell_type": "code",
   "execution_count": null,
   "id": "f1efad8a",
   "metadata": {},
   "outputs": [],
   "source": []
  },
  {
   "cell_type": "code",
   "execution_count": null,
   "id": "6718cddc",
   "metadata": {},
   "outputs": [],
   "source": []
  },
  {
   "cell_type": "code",
   "execution_count": null,
   "id": "1a644fdd",
   "metadata": {},
   "outputs": [],
   "source": []
  }
 ],
 "metadata": {
  "kernelspec": {
   "display_name": "Python 3 (ipykernel)",
   "language": "python",
   "name": "python3"
  },
  "language_info": {
   "codemirror_mode": {
    "name": "ipython",
    "version": 3
   },
   "file_extension": ".py",
   "mimetype": "text/x-python",
   "name": "python",
   "nbconvert_exporter": "python",
   "pygments_lexer": "ipython3",
   "version": "3.9.13"
  }
 },
 "nbformat": 4,
 "nbformat_minor": 5
}
